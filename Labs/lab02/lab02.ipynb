{
 "cells": [
  {
   "cell_type": "code",
   "execution_count": 2,
   "metadata": {
    "deletable": false,
    "editable": false
   },
   "outputs": [],
   "source": [
    "# Initialize Otter\n",
    "import otter\n",
    "grader = otter.Notebook(\"lab02.ipynb\")"
   ]
  },
  {
   "cell_type": "markdown",
   "metadata": {},
   "source": [
    "<img style=\"display: block; margin-left: auto; margin-right: auto\" src=\"./ccsf-logo.png\" width=\"250rem;\" alt=\"The CCSF black and white logo\">"
   ]
  },
  {
   "cell_type": "markdown",
   "metadata": {},
   "source": [
    "<div style=\"text-align: center;\">\n",
    "    <h1>Lab 02 - Data Types</h1>\n",
    "    <em>View the related <a href=\"https://ccsf.instructure.com\" target=\"_blank\">Canvas</a> Assignment page for additional details.</em>\n",
    "</div>"
   ]
  },
  {
   "cell_type": "markdown",
   "metadata": {},
   "source": [
    "## References"
   ]
  },
  {
   "cell_type": "markdown",
   "metadata": {},
   "source": [
    "* [datascience Documentation](https://datascience.readthedocs.io/)\n",
    "* [Jupyter Notebook Documentation](https://jupyter-notebook.readthedocs.io/)\n",
    "* [Markdown Cheat Sheet](https://www.markdownguide.org/cheat-sheet/)"
   ]
  },
  {
   "cell_type": "markdown",
   "metadata": {},
   "source": [
    "First, run the following cell to set up the lab, and make sure you run the cell at the top of the notebook that initializes Otter."
   ]
  },
  {
   "cell_type": "code",
   "execution_count": null,
   "metadata": {},
   "outputs": [],
   "source": [
    "import numpy as np\n",
    "from datascience import *"
   ]
  },
  {
   "cell_type": "markdown",
   "metadata": {},
   "source": [
    "## Expressions Review"
   ]
  },
  {
   "cell_type": "markdown",
   "metadata": {},
   "source": [
    "The two building blocks of Python code are *expressions* and *statements*.  An **expression** is a piece of code that\n",
    "\n",
    "* is self-contained, meaning it would make sense to write it on a line by itself, and\n",
    "* usually evaluates to a value.\n",
    "\n",
    "\n",
    "Here are two expressions that both evaluate to 3:\n",
    "\n",
    "    3\n",
    "    5 - 2\n",
    "    \n",
    "One important type of expression is the **call expression**. A call expression begins with the name of a function and is followed by the argument(s) of that function in parentheses. The function returns some value, based on its arguments. Some important mathematical functions are listed below.\n",
    "\n",
    "| Function | Description                                                   |\n",
    "|----------|---------------------------------------------------------------|\n",
    "| `abs`      | Returns the absolute value of its argument                    |\n",
    "| `max`      | Returns the maximum of all its arguments                      |\n",
    "| `min`      | Returns the minimum of all its arguments                      |\n",
    "| `pow`      | Raises its first argument to the power of its second argument |\n",
    "| `round`    | Rounds its argument to the nearest integer                     |\n",
    "\n",
    "Here are two call expressions that both evaluate to 3:\n",
    "\n",
    "    abs(2 - 5)\n",
    "    max(round(2.8), min(pow(2, 10), -1 * pow(2, 10)))\n",
    "\n",
    "The expression `2 - 5` and the two call expressions given above are examples of **compound expressions**, meaning that they are actually combinations of several smaller expressions.  `2 - 5` combines the expressions `2` and `5` by subtraction.  In this case, `2` and `5` are called **subexpressions** because they're expressions that are part of a larger expression.\n",
    "\n",
    "A **statement** is a whole line of code.  Some statements are just expressions.  The expressions listed above are examples.\n",
    "\n",
    "Other statements *make something happen* rather than *having a value*. For example, an **assignment statement** assigns a value to a name. \n",
    "\n",
    "A good way to think about this is that we're **evaluating the right-hand side** of the equals sign and **assigning it to the left-hand side**. Here are some assignment statements:\n",
    "    \n",
    "    height = 1.3\n",
    "    the_number_five = abs(-5)\n",
    "    absolute_height_difference = abs(height - 1.688)\n",
    "\n",
    "An important idea in programming is that large, interesting things can be built by combining many simple, uninteresting things.  The key to understanding a complicated piece of code is breaking it down into its simple components.\n",
    "\n",
    "For example, a lot is going on in the last statement above, but it's really just a combination of a few things.  This picture describes what's going on.\n",
    "\n",
    "<img src=\"statement.png\" alt=\"An assignment statement \">"
   ]
  },
  {
   "cell_type": "markdown",
   "metadata": {},
   "source": [
    "### Task 01 📍"
   ]
  },
  {
   "cell_type": "markdown",
   "metadata": {},
   "source": [
    "In the next cell, assign the name `max_value` to the larger value among the following two expressions:\n",
    "\n",
    "1. the **absolute value** of $2^{5}-2^{11}-2^3 + 1$, and \n",
    "2. $5 \\times 13 \\times 31 + 7$.\n",
    "\n",
    "Don't do this in one line. Instead, break this task up into steps. For example:\n",
    "\n",
    "1. Assign `value_1` to the value associated with the first expression.\n",
    "2. Assign `value_2` to the value associated with the second expression.\n",
    "3. Use `max` to find the bigger of the two values."
   ]
  },
  {
   "cell_type": "code",
   "execution_count": 4,
   "metadata": {
    "tags": []
   },
   "outputs": [
    {
     "data": {
      "text/plain": [
       "2023"
      ]
     },
     "execution_count": 4,
     "metadata": {},
     "output_type": "execute_result"
    }
   ],
   "source": [
    "value_1 = abs(2**5 - 2**11 - 2**3 + 1)\n",
    "value_2 = 5 * 13 * 31 + 7\n",
    "max_value = max(value_1, value_2)\n",
    "max_value"
   ]
  },
  {
   "cell_type": "code",
   "execution_count": 5,
   "metadata": {
    "deletable": false,
    "editable": false
   },
   "outputs": [
    {
     "data": {
      "text/html": [
       "<p><strong><pre style='display: inline;'>task_01</pre></strong> passed! 🌈</p><p><strong><pre style='display: inline;'>task_01 - 1</pre> message:</strong> ✅ Great work running an assignment statement with the name max_value.</p><p><strong><pre style='display: inline;'>task_01 - 2</pre> message:</strong> ✅ Great work! Hopefully, you were able to utilize the max and abs functions.</p>"
      ],
      "text/plain": [
       "task_01 results: All test cases passed!\n",
       "task_01 - 1 message: ✅ Great work running an assignment statement with the name max_value.\n",
       "task_01 - 2 message: ✅ Great work! Hopefully, you were able to utilize the max and abs functions."
      ]
     },
     "execution_count": 5,
     "metadata": {},
     "output_type": "execute_result"
    }
   ],
   "source": [
    "grader.check(\"task_01\")"
   ]
  },
  {
   "cell_type": "markdown",
   "metadata": {},
   "source": [
    "It is tempting to try and write the solution to that task in one line of code, but it is not a good idea to jam these steps into a single line because it can make the code harder to read and harder to debug. Good programming practice involves splitting up your code into smaller steps and using appropriate names. You'll have plenty of practice in the rest of this course!"
   ]
  },
  {
   "cell_type": "markdown",
   "metadata": {},
   "source": [
    "## Text"
   ]
  },
  {
   "cell_type": "markdown",
   "metadata": {},
   "source": [
    "Programming doesn't just concern numbers. Text is one of the most common data types used in programs. \n",
    "\n",
    "Text is represented by a **string value** in Python. The word \"string\" is a programming term for a sequence of characters. A string might contain a single character, a word, a sentence, or a whole book.\n",
    "\n",
    "To distinguish text data from actual code, we demarcate strings by putting quotation marks around them. Single quotes (`'`) and double quotes (`\"`) are both valid, but the types of opening and closing quotation marks must match. The contents can be any sequence of characters, including numbers and symbols. \n",
    "\n",
    "We've seen strings before in `print` statements.  Below, two different strings are passed as arguments to the `print` function."
   ]
  },
  {
   "cell_type": "code",
   "execution_count": 6,
   "metadata": {},
   "outputs": [
    {
     "name": "stdout",
     "output_type": "stream",
     "text": [
      "I <3 Data Science\n"
     ]
    }
   ],
   "source": [
    "print(\"I <3\", 'Data Science')"
   ]
  },
  {
   "cell_type": "markdown",
   "metadata": {
    "tags": []
   },
   "source": [
    "Just as names can be given to numbers, names can be given to string values.  The names and strings aren't required to be similar in any way. Any name can be assigned to any string."
   ]
  },
  {
   "cell_type": "code",
   "execution_count": 7,
   "metadata": {},
   "outputs": [
    {
     "name": "stdout",
     "output_type": "stream",
     "text": [
      "1 + 1\n"
     ]
    }
   ],
   "source": [
    "one = '1'\n",
    "plus = '+'\n",
    "print(one, plus, one)"
   ]
  },
  {
   "cell_type": "markdown",
   "metadata": {},
   "source": [
    "### Task 02 📍"
   ]
  },
  {
   "cell_type": "markdown",
   "metadata": {
    "deletable": false,
    "editable": false
   },
   "source": [
    "Yuri Gagarin was the first person to travel through outer space.  When he emerged from his capsule upon landing on Earth, he [reportedly](https://en.wikiquote.org/wiki/Yuri_Gagarin) had the following conversation with a woman and girl who saw the landing:\n",
    "\n",
    "    The woman asked: \"Can it be that you have come from outer space?\"\n",
    "    Gagarin replied: \"As a matter of fact, I have!\"\n",
    "\n",
    "The cell below contains unfinished code.  Fill in the `...`s so that it prints out this conversation *exactly* as it appears above. To complete this task successfully, the capitalization, spaces, punctuation, etc. all need to be correct."
   ]
  },
  {
   "cell_type": "code",
   "execution_count": 8,
   "metadata": {
    "tags": []
   },
   "outputs": [
    {
     "name": "stdout",
     "output_type": "stream",
     "text": [
      "The woman asked: \"Can it be that you have come from outer space?\"\n",
      "Gagarin replied: \"As a matter of fact, I have!\"\n"
     ]
    }
   ],
   "source": [
    "woman_asking = 'The woman asked:'\n",
    "woman_quote = '\"Can it be that you have come from outer space?\"'\n",
    "gagarin_reply = 'Gagarin replied:'\n",
    "gagarin_quote = '\"As a matter of fact, I have!\"'\n",
    "\n",
    "print(woman_asking, woman_quote)\n",
    "print(gagarin_reply, gagarin_quote)"
   ]
  },
  {
   "cell_type": "code",
   "execution_count": 9,
   "metadata": {
    "deletable": false,
    "editable": false
   },
   "outputs": [
    {
     "data": {
      "text/html": [
       "<p><strong><pre style='display: inline;'>task_02</pre></strong> passed! 🌈</p><p><strong><pre style='display: inline;'>task_02 - 1</pre> message:</strong> ✅ It seems like you have the correct string.</p><p><strong><pre style='display: inline;'>task_02 - 2</pre> message:</strong> ✅ It seems like you have the correct string.</p>"
      ],
      "text/plain": [
       "task_02 results: All test cases passed!\n",
       "task_02 - 1 message: ✅ It seems like you have the correct string.\n",
       "task_02 - 2 message: ✅ It seems like you have the correct string."
      ]
     },
     "execution_count": 9,
     "metadata": {},
     "output_type": "execute_result"
    }
   ],
   "source": [
    "grader.check(\"task_02\")"
   ]
  },
  {
   "cell_type": "markdown",
   "metadata": {},
   "source": [
    "### String Methods"
   ]
  },
  {
   "cell_type": "markdown",
   "metadata": {},
   "source": [
    "Strings can be transformed using **methods**. Recall that methods and functions are not technically the same thing, but we'll be using them interchangeably for the purposes of this course.\n",
    "\n",
    "Here's a sketch of how to call methods on a string:\n",
    "\n",
    "    <expression that evaluates to a string>.<method name>(<argument>, <argument>, ...)\n",
    "    \n",
    "One example of a string method is `replace`, which replaces all instances of some part of the original string (or a *substring*) with a new string. \n",
    "\n",
    "    <original string>.replace(<old substring>, <new substring>)\n",
    "    \n",
    "`replace` returns (evaluates to) a new string, leaving the original string unchanged.\n",
    "    \n",
    "Try to predict the output of this example, then run the cell!"
   ]
  },
  {
   "cell_type": "code",
   "execution_count": 1,
   "metadata": {},
   "outputs": [
    {
     "name": "stdout",
     "output_type": "stream",
     "text": [
      "Hella Hello\n"
     ]
    }
   ],
   "source": [
    "# Replace one letter\n",
    "hello = 'Hello'\n",
    "print(hello.replace('o', 'a'), hello)"
   ]
  },
  {
   "cell_type": "markdown",
   "metadata": {},
   "source": [
    "You can call functions on the results of other functions.  For example, `max(abs(-5), abs(3))` evaluates to 5.  Similarly, you can call methods on the results of other method or function calls.\n",
    "\n",
    "You may have already noticed one difference between functions and methods - a function like `max` does not require a `.` before it's called, but a string method like `replace` does."
   ]
  },
  {
   "cell_type": "code",
   "execution_count": 2,
   "metadata": {
    "scrolled": true
   },
   "outputs": [
    {
     "data": {
      "text/plain": [
       "'degrade'"
      ]
     },
     "execution_count": 2,
     "metadata": {},
     "output_type": "execute_result"
    }
   ],
   "source": [
    "# Calling replace on the output of another call to replace\n",
    "'train'.replace('t', 'ing').replace('in', 'de')"
   ]
  },
  {
   "cell_type": "markdown",
   "metadata": {},
   "source": [
    "Here's a picture of how Python evaluates a \"chained\" method call like that:\n",
    "\n",
    "<img src=\"./chaining_method_calls.png\" alt=\"showing chaining methods\" width=80%/>"
   ]
  },
  {
   "cell_type": "markdown",
   "metadata": {},
   "source": [
    "#### Task 03 📍"
   ]
  },
  {
   "cell_type": "markdown",
   "metadata": {
    "deletable": false,
    "editable": false
   },
   "source": [
    "Use `replace` to transform the string `'hitchhiker'` into `'matchmaker'`. Assign your result to `new_word`.\n"
   ]
  },
  {
   "cell_type": "code",
   "execution_count": 10,
   "metadata": {
    "tags": []
   },
   "outputs": [
    {
     "data": {
      "text/plain": [
       "'matchmaker'"
      ]
     },
     "execution_count": 10,
     "metadata": {},
     "output_type": "execute_result"
    }
   ],
   "source": [
    "new_word = 'hitchhiker'.replace('hitch', 'match').replace('hiker', 'maker')\n",
    "new_word"
   ]
  },
  {
   "cell_type": "code",
   "execution_count": 11,
   "metadata": {
    "deletable": false,
    "editable": false
   },
   "outputs": [
    {
     "data": {
      "text/html": [
       "<p><strong><pre style='display: inline;'>task_03</pre></strong> passed! 🎉</p><p><strong><pre style='display: inline;'>task_03 - 1</pre> message:</strong> ✅ It seems like you have the correct string.</p>"
      ],
      "text/plain": [
       "task_03 results: All test cases passed!\n",
       "task_03 - 1 message: ✅ It seems like you have the correct string."
      ]
     },
     "execution_count": 11,
     "metadata": {},
     "output_type": "execute_result"
    }
   ],
   "source": [
    "grader.check(\"task_03\")"
   ]
  },
  {
   "cell_type": "markdown",
   "metadata": {},
   "source": [
    "There are many more string methods in Python, but most programmers don't memorize their names or how to use them.  In the \"real world,\" people usually just search the internet for documentation and examples. A complete [list of string methods](https://docs.python.org/3/library/stdtypes.html#string-methods) appears in the Python language documentation."
   ]
  },
  {
   "cell_type": "markdown",
   "metadata": {},
   "source": [
    "### Converting To and From Strings"
   ]
  },
  {
   "cell_type": "markdown",
   "metadata": {},
   "source": [
    "Strings and numbers are different *types* of values, even when a string contains the digits of a number. For example, evaluating the following cell causes an error because an integer cannot be added to a string.\n",
    "\n",
    "<img src=\"./int_add_str_error.png\">"
   ]
  },
  {
   "cell_type": "markdown",
   "metadata": {},
   "source": [
    "However, there are built-in functions to convert numbers to strings and strings to numbers. Some of these built-in functions have restrictions on the type of argument they take:\n",
    "\n",
    "|Function |Description|\n",
    "|-|-|\n",
    "|`int`|Converts a string of digits or a float to an integer (\"int\") value|\n",
    "|`float`|Converts a string of digits (perhaps with a decimal point) or an int to a decimal (\"float\") value|\n",
    "|`str`|Converts any value to a string|"
   ]
  },
  {
   "cell_type": "markdown",
   "metadata": {},
   "source": [
    "Try to predict what data type and value `example` evaluates to, then run the cell."
   ]
  },
  {
   "cell_type": "code",
   "execution_count": 12,
   "metadata": {},
   "outputs": [
    {
     "name": "stdout",
     "output_type": "stream",
     "text": [
      "26.0\n",
      "This example returned a <class 'float'>!\n"
     ]
    }
   ],
   "source": [
    "example = 8 + int(\"10\") + float(\"8\")\n",
    "\n",
    "print(example)\n",
    "print(\"This example returned a \" + str(type(example)) + \"!\")"
   ]
  },
  {
   "cell_type": "markdown",
   "metadata": {},
   "source": [
    "Suppose you're writing a program that looks for dates in a text, and you want your program to find the amount of time that elapsed between two years it has identified.  It doesn't make sense to subtract two texts, but you can first convert the text containing the years into numbers."
   ]
  },
  {
   "cell_type": "markdown",
   "metadata": {},
   "source": [
    "#### Task 04 📍"
   ]
  },
  {
   "cell_type": "markdown",
   "metadata": {
    "deletable": false,
    "editable": false
   },
   "source": [
    "Finish the code below to compute the number of years that elapsed between `one_year` and `another_year`.  Don't just write the numbers `1618` and `1648` (or `30`); use a conversion function to turn the given text data into numbers.\n"
   ]
  },
  {
   "cell_type": "code",
   "execution_count": 13,
   "metadata": {
    "tags": []
   },
   "outputs": [
    {
     "data": {
      "text/plain": [
       "30"
      ]
     },
     "execution_count": 13,
     "metadata": {},
     "output_type": "execute_result"
    }
   ],
   "source": [
    "# Some text data:\n",
    "one_year = \"1618\"\n",
    "another_year = \"1648\"\n",
    "\n",
    "# Complete the next line.  Note that we can't just write:\n",
    "#   another_year - one_year\n",
    "# If you don't see why, try seeing what happens when you\n",
    "# write that here.\n",
    "difference = int(another_year) - int(one_year)\n",
    "difference"
   ]
  },
  {
   "cell_type": "code",
   "execution_count": 14,
   "metadata": {
    "deletable": false,
    "editable": false
   },
   "outputs": [
    {
     "data": {
      "text/html": [
       "<p><strong><pre style='display: inline;'>task_04</pre></strong> passed! 💯</p><p><strong><pre style='display: inline;'>task_04 - 1</pre> message:</strong> ✅ It seems like you have the correct value.</p>"
      ],
      "text/plain": [
       "task_04 results: All test cases passed!\n",
       "task_04 - 1 message: ✅ It seems like you have the correct value."
      ]
     },
     "execution_count": 14,
     "metadata": {},
     "output_type": "execute_result"
    }
   ],
   "source": [
    "grader.check(\"task_04\")"
   ]
  },
  {
   "cell_type": "markdown",
   "metadata": {},
   "source": [
    "### Passing strings to functions"
   ]
  },
  {
   "cell_type": "markdown",
   "metadata": {},
   "source": [
    "String values, like numbers, can be arguments to functions and can be returned by functions. \n",
    "\n",
    "The function `len` (derived from the word \"length\") takes a single string as its argument and returns the number of characters (including spaces) in the string.\n",
    "\n",
    "Note that it doesn't count *words*. `len(\"one small step for man\")` evaluates to 22, not 5."
   ]
  },
  {
   "cell_type": "markdown",
   "metadata": {},
   "source": [
    "#### Task 05 📍"
   ]
  },
  {
   "cell_type": "markdown",
   "metadata": {
    "deletable": false,
    "editable": false
   },
   "source": [
    "Use `len` to find the number of characters in the long string in the next cell.  Characters include things like spaces and punctuation. Assign `sentence_length` to that number.\n",
    "\n",
    "(The string is the first sentence of the English translation of the French [Declaration of the Rights of Man](http://avalon.law.yale.edu/18th_century/rightsof.asp).)  \n"
   ]
  },
  {
   "cell_type": "code",
   "execution_count": 15,
   "metadata": {
    "tags": []
   },
   "outputs": [
    {
     "data": {
      "text/plain": [
       "896"
      ]
     },
     "execution_count": 15,
     "metadata": {},
     "output_type": "execute_result"
    }
   ],
   "source": [
    "a_very_long_sentence = \"The representatives of the French people, organized as a National Assembly, believing that the ignorance, neglect, or contempt of the rights of man are the sole cause of public calamities and of the corruption of governments, have determined to set forth in a solemn declaration the natural, unalienable, and sacred rights of man, in order that this declaration, being constantly before all the members of the Social body, shall remind them continually of their rights and duties; in order that the acts of the legislative power, as well as those of the executive power, may be compared at any moment with the objects and purposes of all political institutions and may thus be more respected, and, lastly, in order that the grievances of the citizens, based hereafter upon simple and incontestable principles, shall tend to the maintenance of the constitution and redound to the happiness of all.\"\n",
    "sentence_length = len(a_very_long_sentence)\n",
    "sentence_length"
   ]
  },
  {
   "cell_type": "code",
   "execution_count": 16,
   "metadata": {
    "deletable": false,
    "editable": false
   },
   "outputs": [
    {
     "data": {
      "text/html": [
       "<p><strong><pre style='display: inline;'>task_05</pre></strong> passed! 💯</p><p><strong><pre style='display: inline;'>task_05 - 1</pre> message:</strong> ✅ That seems correct!</p>"
      ],
      "text/plain": [
       "task_05 results: All test cases passed!\n",
       "task_05 - 1 message: ✅ That seems correct!"
      ]
     },
     "execution_count": 16,
     "metadata": {},
     "output_type": "execute_result"
    }
   ],
   "source": [
    "grader.check(\"task_05\")"
   ]
  },
  {
   "cell_type": "markdown",
   "metadata": {},
   "source": [
    "## Importing Code"
   ]
  },
  {
   "cell_type": "markdown",
   "metadata": {},
   "source": [
    "Most programming involves work that is very similar to work that has been done before.  Since writing code is time-consuming, it's good to rely on others' published code when you can.  Rather than copy-pasting, Python allows us to **import modules**. A module is a file with Python code that has defined variables and functions. By importing a module, we are able to use its code in our own notebook.\n",
    "\n",
    "Python includes many useful modules that are just an `import` away.  We'll look at the `math` module as a first example. The `math` module is extremely useful in computing mathematical expressions in Python. \n",
    "\n",
    "Suppose we want to very accurately compute the area of a circle with a radius of 5 meters.  For that, we need the constant $\\pi$, which is roughly 3.14.  Conveniently, the `math` module has `pi` defined for us:"
   ]
  },
  {
   "cell_type": "code",
   "execution_count": 17,
   "metadata": {},
   "outputs": [
    {
     "data": {
      "text/plain": [
       "78.53981633974483"
      ]
     },
     "execution_count": 17,
     "metadata": {},
     "output_type": "execute_result"
    }
   ],
   "source": [
    "import math\n",
    "radius = 5\n",
    "area_of_circle = radius ** 2 * math.pi\n",
    "area_of_circle"
   ]
  },
  {
   "cell_type": "markdown",
   "metadata": {},
   "source": [
    "In the code above, the line `import math` imports the math module. This statement creates a module and then assigns the name `math` to that module. We are now able to access any variables or functions defined within `math` by typing the name of the module followed by a dot, then followed by the name of the variable or function we want.\n",
    "\n",
    "    <module name>.<name>"
   ]
  },
  {
   "cell_type": "markdown",
   "metadata": {},
   "source": [
    "### Task 06 📍"
   ]
  },
  {
   "cell_type": "markdown",
   "metadata": {},
   "source": [
    "The module `math` also provides the name `e` for the base of the natural logarithm, which is roughly 2.71. Compute $e^{\\pi}-\\pi$, giving it the name `near_twenty`.\n",
    "\n",
    "**Hint**: `math.pi` and `math.e` provide representations of the mathematical constants $\\pi$ and $e$."
   ]
  },
  {
   "cell_type": "code",
   "execution_count": 18,
   "metadata": {
    "tags": []
   },
   "outputs": [
    {
     "data": {
      "text/plain": [
       "19.999099979189474"
      ]
     },
     "execution_count": 18,
     "metadata": {},
     "output_type": "execute_result"
    }
   ],
   "source": [
    "near_twenty = math.exp(math.pi) - math.pi\n",
    "near_twenty"
   ]
  },
  {
   "cell_type": "code",
   "execution_count": 19,
   "metadata": {
    "deletable": false,
    "editable": false
   },
   "outputs": [
    {
     "data": {
      "text/html": [
       "<p><strong><pre style='display: inline;'>task_06</pre></strong> passed! 💯</p><p><strong><pre style='display: inline;'>task_06 - 1</pre> message:</strong> ✅ Great work running the cell above that imports the math module.</p><p><strong><pre style='display: inline;'>task_06 - 2</pre> message:</strong> ✅ Great work. It seems you have correct value.</p>"
      ],
      "text/plain": [
       "task_06 results: All test cases passed!\n",
       "task_06 - 1 message: ✅ Great work running the cell above that imports the math module.\n",
       "task_06 - 2 message: ✅ Great work. It seems you have correct value."
      ]
     },
     "execution_count": 19,
     "metadata": {},
     "output_type": "execute_result"
    }
   ],
   "source": [
    "grader.check(\"task_06\")"
   ]
  },
  {
   "cell_type": "markdown",
   "metadata": {},
   "source": [
    "<img src=\"./e_to_the_pi_minus_pi.png\" alt=\"A comic about e to the pi minus pi.\">\n",
    "\n",
    "[An explanation of the comic.](https://www.explainxkcd.com/wiki/index.php/217:_e_to_the_pi_Minus_pi)"
   ]
  },
  {
   "cell_type": "markdown",
   "metadata": {},
   "source": [
    "### Accessing functions"
   ]
  },
  {
   "cell_type": "markdown",
   "metadata": {},
   "source": [
    "In the question above, you accessed variables within the `math` module. \n",
    "\n",
    "**Modules** also define **functions**.  For example, `math` provides the name `sqrt` for the square root function.  Having imported `math` already, we can write `math.sqrt(3)` to compute the square root of 3."
   ]
  },
  {
   "cell_type": "markdown",
   "metadata": {},
   "source": [
    "#### Task 07 📍"
   ]
  },
  {
   "cell_type": "markdown",
   "metadata": {},
   "source": [
    "What is the square root of pi?  Compute that value using `sqrt` and `pi` from the `math` module.  Give the result the name `square_root_of_pi`."
   ]
  },
  {
   "cell_type": "code",
   "execution_count": 20,
   "metadata": {
    "tags": []
   },
   "outputs": [
    {
     "data": {
      "text/plain": [
       "1.7724538509055159"
      ]
     },
     "execution_count": 20,
     "metadata": {},
     "output_type": "execute_result"
    }
   ],
   "source": [
    "square_root_of_pi = math.sqrt(math.pi)\n",
    "square_root_of_pi"
   ]
  },
  {
   "cell_type": "code",
   "execution_count": 21,
   "metadata": {
    "deletable": false,
    "editable": false
   },
   "outputs": [
    {
     "data": {
      "text/html": [
       "<p><strong><pre style='display: inline;'>task_07</pre></strong> passed! 🌟</p><p><strong><pre style='display: inline;'>task_07 - 1</pre> message:</strong> ✅ Great work. It seems you have correct value.</p>"
      ],
      "text/plain": [
       "task_07 results: All test cases passed!\n",
       "task_07 - 1 message: ✅ Great work. It seems you have correct value."
      ]
     },
     "execution_count": 21,
     "metadata": {},
     "output_type": "execute_result"
    }
   ],
   "source": [
    "grader.check(\"task_07\")"
   ]
  },
  {
   "cell_type": "markdown",
   "metadata": {},
   "source": [
    "Different functions can take in different numbers of arguments. Often, the [documentation](https://docs.python.org/3/library/math.html) of the module will provide information on how many arguments are required for each function.  \n",
    "\n",
    "For example, the logarithm function requires two arguments, as shown below. Calculating logarithms (the logarithm of 8 in base 2). Remember that logarithms are the inverse of powers, so the result is 3 because 2 to the power of 3 is 8.\n",
    "\n",
    "*Hint: If you press `shift+tab` while next to the function call, the documentation for that function will appear.*"
   ]
  },
  {
   "cell_type": "code",
   "execution_count": 31,
   "metadata": {},
   "outputs": [
    {
     "data": {
      "text/plain": [
       "3.0"
      ]
     },
     "execution_count": 31,
     "metadata": {},
     "output_type": "execute_result"
    }
   ],
   "source": [
    "math.log(8, 2)"
   ]
  },
  {
   "cell_type": "markdown",
   "metadata": {},
   "source": [
    "There are various ways to import and access code from outside sources. The method we used above — `import <module_name>` — imports the entire module and requires that we use `<module_name>.<name>` to access its code. \n",
    "\n",
    "We can also import a specific constant or function instead of the entire module. Notice that you don't have to use the module name beforehand to reference that particular value. However, you do have to be careful about reassigning the names of the constants or functions to other values!"
   ]
  },
  {
   "cell_type": "markdown",
   "metadata": {},
   "source": [
    "Importing just `sqrt` and `pi` from math means that we don't have to use `math.` in front of `sqrt` or `pi`."
   ]
  },
  {
   "cell_type": "code",
   "execution_count": 32,
   "metadata": {},
   "outputs": [
    {
     "name": "stdout",
     "output_type": "stream",
     "text": [
      "1.7724538509055159\n"
     ]
    }
   ],
   "source": [
    "from math import sqrt, pi\n",
    "print(sqrt(pi))"
   ]
  },
  {
   "cell_type": "markdown",
   "metadata": {},
   "source": [
    "We do have to use it in front of other functions from math that we have not imported directly."
   ]
  },
  {
   "cell_type": "code",
   "execution_count": 33,
   "metadata": {},
   "outputs": [
    {
     "data": {
      "text/plain": [
       "1.1447298858494002"
      ]
     },
     "execution_count": 33,
     "metadata": {},
     "output_type": "execute_result"
    }
   ],
   "source": [
    "math.log(pi)"
   ]
  },
  {
   "cell_type": "markdown",
   "metadata": {},
   "source": [
    "We can also import **every** function and value from the entire module. This isn't a good practice in general, but we will do it in this class with the `datascience` module. Notice that, with the following command, you can just use `log` instead of `math.log`."
   ]
  },
  {
   "cell_type": "code",
   "execution_count": 34,
   "metadata": {},
   "outputs": [
    {
     "data": {
      "text/plain": [
       "1.1447298858494002"
      ]
     },
     "execution_count": 34,
     "metadata": {},
     "output_type": "execute_result"
    }
   ],
   "source": [
    "from math import *\n",
    "log(pi)"
   ]
  },
  {
   "cell_type": "markdown",
   "metadata": {},
   "source": [
    "For our class, it is not important to focus on which type of import to use. In almost every case, there will be a cell containing all the import commands you need to run to complete the assignments."
   ]
  },
  {
   "cell_type": "markdown",
   "metadata": {},
   "source": [
    "## Arrays"
   ]
  },
  {
   "cell_type": "markdown",
   "metadata": {},
   "source": [
    "Computers are most useful when you can use a small amount of code to *do the same action* to *many different things*.\n",
    "\n",
    "For example, in the time it takes you to calculate the 18% tip on a restaurant bill, a laptop can calculate 18% tips for every restaurant bill paid by every human on Earth that day.  (That's if you're pretty fast at doing arithmetic in your head!)\n",
    "\n",
    "**Arrays** are how we put many values in one place so that we can operate on them as a group. For example, if `billions_of_numbers` is an array of numbers, the expression\n",
    "\n",
    "    .18 * billions_of_numbers\n",
    "\n",
    "gives a new array of numbers that contains the result of multiplying each number in `billions_of_numbers` by .18.  Arrays are not limited to numbers; we can also put all the words in a book into an array of strings.\n",
    "\n",
    "Concretely, an array is a **collection of values of the same type**. "
   ]
  },
  {
   "cell_type": "markdown",
   "metadata": {},
   "source": [
    "### Making arrays"
   ]
  },
  {
   "cell_type": "markdown",
   "metadata": {},
   "source": [
    "First, let's learn how to manually input values into an array. This typically isn't how programs work. Normally, we create arrays by loading them from an external source, like a data file.\n",
    "\n",
    "To create an array by hand, call the function `make_array`.  Each argument you pass to `make_array` will be in the array it returns.  Run this cell to see an example:"
   ]
  },
  {
   "cell_type": "code",
   "execution_count": 37,
   "metadata": {
    "scrolled": true
   },
   "outputs": [
    {
     "data": {
      "text/plain": [
       "array([ 0.125,  4.75 , -1.3  ])"
      ]
     },
     "execution_count": 37,
     "metadata": {},
     "output_type": "execute_result"
    }
   ],
   "source": [
    "make_array(0.125, 4.75, -1.3)"
   ]
  },
  {
   "cell_type": "markdown",
   "metadata": {},
   "source": [
    "Each value in an array (in the above case, the numbers 0.125, 4.75, and -1.3) is called an *element* of that array.\n",
    "\n",
    "Arrays themselves are also values, just like numbers and strings.  That means you can assign them to names or use them as arguments to functions. For example, `len(<some_array>)` returns the number of elements in `some_array`."
   ]
  },
  {
   "cell_type": "markdown",
   "metadata": {},
   "source": [
    "#### Task 08 📍"
   ]
  },
  {
   "cell_type": "markdown",
   "metadata": {
    "deletable": false,
    "editable": false
   },
   "source": [
    "Make an array containing the numbers 0, 1, -1, $\\pi$, and $e$, in that order.  Name it `interesting_numbers`.  \n",
    "\n",
    "*Hint:* How did you get the values $\\pi$ and $e$ in Task 06?  You can refer to them in exactly the same way here.\n"
   ]
  },
  {
   "cell_type": "code",
   "execution_count": 22,
   "metadata": {
    "tags": []
   },
   "outputs": [
    {
     "data": {
      "text/plain": [
       "array([ 0.        ,  1.        , -1.        ,  3.14159265,  2.71828183])"
      ]
     },
     "execution_count": 22,
     "metadata": {},
     "output_type": "execute_result"
    }
   ],
   "source": [
    "interesting_numbers = make_array(0, 1, -1, math.pi, math.e)\n",
    "interesting_numbers"
   ]
  },
  {
   "cell_type": "code",
   "execution_count": 23,
   "metadata": {
    "deletable": false,
    "editable": false
   },
   "outputs": [
    {
     "data": {
      "text/html": [
       "<p><strong><pre style='display: inline;'>task_08</pre></strong> passed! 🌈</p><p><strong><pre style='display: inline;'>task_08 - 1</pre> message:</strong> ✅ It seems like you made an array.</p><p><strong><pre style='display: inline;'>task_08 - 2</pre> message:</strong> ✅ You have the correct number of values.</p><p><strong><pre style='display: inline;'>task_08 - 3</pre> message:</strong> ✅ It seems like you have the correct values.</p>"
      ],
      "text/plain": [
       "task_08 results: All test cases passed!\n",
       "task_08 - 1 message: ✅ It seems like you made an array.\n",
       "task_08 - 2 message: ✅ You have the correct number of values.\n",
       "task_08 - 3 message: ✅ It seems like you have the correct values."
      ]
     },
     "execution_count": 23,
     "metadata": {},
     "output_type": "execute_result"
    }
   ],
   "source": [
    "grader.check(\"task_08\")"
   ]
  },
  {
   "cell_type": "markdown",
   "metadata": {},
   "source": [
    "#### Task 09 📍"
   ]
  },
  {
   "cell_type": "markdown",
   "metadata": {
    "deletable": false,
    "editable": false
   },
   "source": [
    "Make an array containing the five strings `\"Hello\"`, `\",\"`, `\" \"`, `\"world\"`, and `\"!\"`.  (The third one is a single space inside quotes.)  Name it `hello_world_components`.\n",
    "\n",
    "*Note:* If you evaluate `hello_world_components`, you'll notice some extra information in addition to its contents: `dtype='<U5'`.  That's just NumPy's extremely cryptic way of saying that the data types in the array are strings.\n"
   ]
  },
  {
   "cell_type": "code",
   "execution_count": 28,
   "metadata": {
    "tags": []
   },
   "outputs": [
    {
     "data": {
      "text/plain": [
       "array(['Hello', ',', ' ', 'world', '!'],\n",
       "      dtype='<U5')"
      ]
     },
     "execution_count": 28,
     "metadata": {},
     "output_type": "execute_result"
    }
   ],
   "source": [
    "hello_world_components = make_array(\"Hello\", \",\", \" \", \"world\", \"!\")\n",
    "hello_world_components"
   ]
  },
  {
   "cell_type": "code",
   "execution_count": 29,
   "metadata": {
    "deletable": false,
    "editable": false
   },
   "outputs": [
    {
     "data": {
      "text/html": [
       "<p><strong><pre style='display: inline;'>task_09</pre></strong> passed! 💯</p><p><strong><pre style='display: inline;'>task_09 - 1</pre> message:</strong> ✅ It seems like you made an array.</p><p><strong><pre style='display: inline;'>task_09 - 2</pre> message:</strong> ✅ You have the correct number of values.</p><p><strong><pre style='display: inline;'>task_09 - 3</pre> message:</strong> ✅ It looks like your array contains the blank space!</p><p><strong><pre style='display: inline;'>task_09 - 4</pre> message:</strong> ✅ It seems like you have the correct values.</p>"
      ],
      "text/plain": [
       "task_09 results: All test cases passed!\n",
       "task_09 - 1 message: ✅ It seems like you made an array.\n",
       "task_09 - 2 message: ✅ You have the correct number of values.\n",
       "task_09 - 3 message: ✅ It looks like your array contains the blank space!\n",
       "task_09 - 4 message: ✅ It seems like you have the correct values."
      ]
     },
     "execution_count": 29,
     "metadata": {},
     "output_type": "execute_result"
    }
   ],
   "source": [
    "grader.check(\"task_09\")"
   ]
  },
  {
   "cell_type": "markdown",
   "metadata": {},
   "source": [
    "####  `np.arange`"
   ]
  },
  {
   "cell_type": "markdown",
   "metadata": {},
   "source": [
    "Arrays are provided by a package called [NumPy](http://www.numpy.org/) (pronounced \"NUM-pie\"). The package is called `numpy`, but it's standard to rename it `np` for brevity.  You can do that with:\n",
    "\n",
    "    import numpy as np\n",
    "\n",
    "Very often in data science, we want to work with many numbers that are evenly spaced within some range.  NumPy provides a special function for this called `arange`.  The line of code `np.arange(start, stop, step)` evaluates to an array with all the numbers starting at `start` and counting up by `step`, stopping **before** `stop` is reached.\n",
    "\n",
    "Note that this is not exactly the same as the built in data type `range`!\n",
    "\n",
    "Run the following cells to see some examples!"
   ]
  },
  {
   "cell_type": "code",
   "execution_count": 45,
   "metadata": {},
   "outputs": [
    {
     "data": {
      "text/plain": [
       "array([1, 3, 5])"
      ]
     },
     "execution_count": 45,
     "metadata": {},
     "output_type": "execute_result"
    }
   ],
   "source": [
    "# This array starts at 1 and counts up by 2\n",
    "# and then stops before 6\n",
    "np.arange(1, 6, 2)"
   ]
  },
  {
   "cell_type": "code",
   "execution_count": 46,
   "metadata": {},
   "outputs": [
    {
     "data": {
      "text/plain": [
       "array([4, 5, 6, 7, 8])"
      ]
     },
     "execution_count": 46,
     "metadata": {},
     "output_type": "execute_result"
    }
   ],
   "source": [
    "# This array doesn't contain 9\n",
    "# because np.arange stops *before* the stop value is reached\n",
    "np.arange(4, 9, 1)"
   ]
  },
  {
   "cell_type": "markdown",
   "metadata": {},
   "source": [
    "#### Task 10 📍"
   ]
  },
  {
   "cell_type": "markdown",
   "metadata": {
    "deletable": false,
    "editable": false
   },
   "source": [
    "Use `np.arange` to create an array with the multiples of 99 from 0 up to (**and including**) 9999.  (So its elements are 0, 99, 198, 297, etc.)\n"
   ]
  },
  {
   "cell_type": "code",
   "execution_count": 34,
   "metadata": {
    "tags": []
   },
   "outputs": [
    {
     "data": {
      "text/plain": [
       "array([   0,   99,  198,  297,  396,  495,  594,  693,  792,  891,  990,\n",
       "       1089, 1188, 1287, 1386, 1485, 1584, 1683, 1782, 1881, 1980, 2079,\n",
       "       2178, 2277, 2376, 2475, 2574, 2673, 2772, 2871, 2970, 3069, 3168,\n",
       "       3267, 3366, 3465, 3564, 3663, 3762, 3861, 3960, 4059, 4158, 4257,\n",
       "       4356, 4455, 4554, 4653, 4752, 4851, 4950, 5049, 5148, 5247, 5346,\n",
       "       5445, 5544, 5643, 5742, 5841, 5940, 6039, 6138, 6237, 6336, 6435,\n",
       "       6534, 6633, 6732, 6831, 6930, 7029, 7128, 7227, 7326, 7425, 7524,\n",
       "       7623, 7722, 7821, 7920, 8019, 8118, 8217, 8316, 8415, 8514, 8613,\n",
       "       8712, 8811, 8910, 9009, 9108, 9207, 9306, 9405, 9504, 9603, 9702,\n",
       "       9801, 9900, 9999])"
      ]
     },
     "execution_count": 34,
     "metadata": {},
     "output_type": "execute_result"
    }
   ],
   "source": [
    "multiples_of_99 = np.arange(0, 10000, 99)\n",
    "multiples_of_99"
   ]
  },
  {
   "cell_type": "code",
   "execution_count": 35,
   "metadata": {
    "deletable": false,
    "editable": false
   },
   "outputs": [
    {
     "data": {
      "text/html": [
       "<p><strong><pre style='display: inline;'>task_10</pre></strong> passed! 🌟</p><p><strong><pre style='display: inline;'>task_10 - 1</pre> message:</strong> ✅ It seems like you made an array.</p><p><strong><pre style='display: inline;'>task_10 - 2</pre> message:</strong> ✅ You have the correct number of values.</p><p><strong><pre style='display: inline;'>task_10 - 3</pre> message:</strong> ✅ It seems like you have the correct values.</p>"
      ],
      "text/plain": [
       "task_10 results: All test cases passed!\n",
       "task_10 - 1 message: ✅ It seems like you made an array.\n",
       "task_10 - 2 message: ✅ You have the correct number of values.\n",
       "task_10 - 3 message: ✅ It seems like you have the correct values."
      ]
     },
     "execution_count": 35,
     "metadata": {},
     "output_type": "execute_result"
    }
   ],
   "source": [
    "grader.check(\"task_10\")"
   ]
  },
  {
   "cell_type": "markdown",
   "metadata": {},
   "source": [
    "### Indexing"
   ]
  },
  {
   "cell_type": "markdown",
   "metadata": {},
   "source": [
    "Let's work with a more interesting dataset.  The next cell creates an array called `population_amounts` that includes estimated world populations in every year from **1950** to roughly the present.  (The estimates come from the US Census Bureau website.)\n",
    "\n",
    "Rather than type in the data manually, we've loaded them from a file on your computer called `world_population.csv`.  You'll learn about this code later."
   ]
  },
  {
   "cell_type": "code",
   "execution_count": 37,
   "metadata": {},
   "outputs": [
    {
     "data": {
      "text/plain": [
       "array([2557628654, 2594939877, 2636772306, 2682053389, 2730228104,\n",
       "       2782098943, 2835299673, 2891349717, 2948137248, 3000716593,\n",
       "       3043001508, 3083966929, 3140093217, 3209827882, 3281201306,\n",
       "       3350425793, 3420677923, 3490333715, 3562313822, 3637159050,\n",
       "       3712697742, 3790326948, 3866568653, 3942096442, 4016608813,\n",
       "       4089083233, 4160185010, 4232084578, 4304105753, 4379013942,\n",
       "       4451362735, 4534410125, 4614566561, 4695736743, 4774569391,\n",
       "       4856462699, 4940571232, 5027200492, 5114557167, 5201440110,\n",
       "       5288955934, 5371585922, 5456136278, 5538268316, 5618682132,\n",
       "       5699202985, 5779440593, 5857972543, 5935213248, 6012074922,\n",
       "       6088571383, 6165219247, 6242016348, 6318590956, 6395699509,\n",
       "       6473044732, 6551263534, 6629913759, 6709049780, 6788214394,\n",
       "       6866332358, 6944055583, 7022349283, 7101027895, 7178722893,\n",
       "       7256490011])"
      ]
     },
     "execution_count": 37,
     "metadata": {},
     "output_type": "execute_result"
    }
   ],
   "source": [
    "population_amounts = Table.read_table(\"./world_population.csv\").column(\"Population\")\n",
    "population_amounts"
   ]
  },
  {
   "cell_type": "markdown",
   "metadata": {},
   "source": [
    "Run the following cell to confirm that `population_amounts` is a NumPy array."
   ]
  },
  {
   "cell_type": "code",
   "execution_count": 53,
   "metadata": {},
   "outputs": [
    {
     "data": {
      "text/plain": [
       "numpy.ndarray"
      ]
     },
     "execution_count": 53,
     "metadata": {},
     "output_type": "execute_result"
    }
   ],
   "source": [
    "type(population_amounts)"
   ]
  },
  {
   "cell_type": "markdown",
   "metadata": {},
   "source": [
    "Here's how we get the first element of `population_amounts`, which is the world population in the first year in the dataset, 1950."
   ]
  },
  {
   "cell_type": "code",
   "execution_count": 54,
   "metadata": {},
   "outputs": [
    {
     "data": {
      "text/plain": [
       "2557628654"
      ]
     },
     "execution_count": 54,
     "metadata": {},
     "output_type": "execute_result"
    }
   ],
   "source": [
    "population_amounts.item(0)"
   ]
  },
  {
   "cell_type": "markdown",
   "metadata": {},
   "source": [
    "The value of that expression is the number 2557628654 (around 2.5 billion), because that's the first thing in the array `population_amounts`.\n",
    "\n",
    "Notice that we wrote `.item(0)`, not `.item(1)`, to get the first element.  This is a weird convention in computer science.  0 is called the *index* of the first item.  It's the number of elements that appear *before* that item.  So 3 is the index of the 4th item."
   ]
  },
  {
   "cell_type": "markdown",
   "metadata": {},
   "source": [
    "**Note:** It is possible to use `population_amounts[0]` to get the first element, but the course material does not guide you this way, so be careful and always check the data type of your results. The `.item` method from the `datascience` module is performing some additional code that the square bracket notation is not performing."
   ]
  },
  {
   "cell_type": "code",
   "execution_count": 55,
   "metadata": {},
   "outputs": [
    {
     "data": {
      "text/plain": [
       "int"
      ]
     },
     "execution_count": 55,
     "metadata": {},
     "output_type": "execute_result"
    }
   ],
   "source": [
    "type(population_amounts.item(0))"
   ]
  },
  {
   "cell_type": "code",
   "execution_count": 56,
   "metadata": {},
   "outputs": [
    {
     "data": {
      "text/plain": [
       "numpy.int64"
      ]
     },
     "execution_count": 56,
     "metadata": {},
     "output_type": "execute_result"
    }
   ],
   "source": [
    "type(population_amounts[0])"
   ]
  },
  {
   "cell_type": "markdown",
   "metadata": {},
   "source": [
    "Here are some more examples.  In the examples, we've given names to the things we get out of `population_amounts`.  Read and run each cell."
   ]
  },
  {
   "cell_type": "code",
   "execution_count": 57,
   "metadata": {},
   "outputs": [
    {
     "data": {
      "text/plain": [
       "3140093217"
      ]
     },
     "execution_count": 57,
     "metadata": {},
     "output_type": "execute_result"
    }
   ],
   "source": [
    "# The 13th element in the array is the population\n",
    "# in 1962 (which is 1950 + 12).\n",
    "population_1962 = population_amounts.item(12)\n",
    "population_1962"
   ]
  },
  {
   "cell_type": "code",
   "execution_count": 58,
   "metadata": {},
   "outputs": [
    {
     "data": {
      "text/plain": [
       "7256490011"
      ]
     },
     "execution_count": 58,
     "metadata": {},
     "output_type": "execute_result"
    }
   ],
   "source": [
    "# The 66th element is the population in 2015.\n",
    "population_2015 = population_amounts.item(65)\n",
    "population_2015"
   ]
  },
  {
   "cell_type": "markdown",
   "metadata": {},
   "source": [
    "You will see an `IndexError` if you try to use an index value that is outside the range of possible values for the array:\n",
    "\n",
    "<img src=\"./index_error.png\">"
   ]
  },
  {
   "cell_type": "markdown",
   "metadata": {},
   "source": [
    "Since `make_array` returns an array, we can call `.item(3)` on its output to get its 4th element, just like we \"chained\" together calls to the method `replace` earlier."
   ]
  },
  {
   "cell_type": "code",
   "execution_count": 59,
   "metadata": {},
   "outputs": [
    {
     "data": {
      "text/plain": [
       "-2"
      ]
     },
     "execution_count": 59,
     "metadata": {},
     "output_type": "execute_result"
    }
   ],
   "source": [
    "make_array(-1, -3, 4, -2).item(3)"
   ]
  },
  {
   "cell_type": "markdown",
   "metadata": {},
   "source": [
    "#### Task 11 📍"
   ]
  },
  {
   "cell_type": "markdown",
   "metadata": {
    "deletable": false,
    "editable": false
   },
   "source": [
    "Set `population_1973` to the world population in 1973, by getting the appropriate element from `population_amounts` using `item`.\n"
   ]
  },
  {
   "cell_type": "code",
   "execution_count": 38,
   "metadata": {
    "tags": []
   },
   "outputs": [
    {
     "data": {
      "text/plain": [
       "3942096442"
      ]
     },
     "execution_count": 38,
     "metadata": {},
     "output_type": "execute_result"
    }
   ],
   "source": [
    "population_1973 = population_amounts.item(23)\n",
    "population_1973"
   ]
  },
  {
   "cell_type": "code",
   "execution_count": 39,
   "metadata": {
    "deletable": false,
    "editable": false
   },
   "outputs": [
    {
     "data": {
      "text/html": [
       "<p><strong><pre style='display: inline;'>task_11</pre></strong> passed! 🚀</p><p><strong><pre style='display: inline;'>task_11 - 1</pre> message:</strong> ✅ It seems like you used the .item method.</p><p><strong><pre style='display: inline;'>task_11 - 2</pre> message:</strong> ✅ You have the correct value.</p>"
      ],
      "text/plain": [
       "task_11 results: All test cases passed!\n",
       "task_11 - 1 message: ✅ It seems like you used the .item method.\n",
       "task_11 - 2 message: ✅ You have the correct value."
      ]
     },
     "execution_count": 39,
     "metadata": {},
     "output_type": "execute_result"
    }
   ],
   "source": [
    "grader.check(\"task_11\")"
   ]
  },
  {
   "cell_type": "markdown",
   "metadata": {},
   "source": [
    "Arrays are primarily useful for doing the same operation many times, so we don't often have to use `.item` and work with single elements."
   ]
  },
  {
   "cell_type": "markdown",
   "metadata": {},
   "source": [
    "### Logarithms"
   ]
  },
  {
   "cell_type": "markdown",
   "metadata": {},
   "source": [
    "Here is one question we might ask about world population:\n",
    "\n",
    "> How big was the population in *orders of magnitude* in each year?\n",
    "\n",
    "Orders of magnitude quantify how big a number is by representing it as the power of another number (for example, representing $104$ as $10^{2.017033}$). One way to do this is by using the logarithm function. The logarithm (base 10) of a number increases by 1 every time we multiply the number by 10. It's like a measure of how many decimal digits the number has, or how big it is in orders of magnitude.\n",
    "\n",
    "We can use the `log10` function from the `math` module to see that $1004$ is an order of magnitude larger than $104$. "
   ]
  },
  {
   "cell_type": "code",
   "execution_count": 70,
   "metadata": {},
   "outputs": [
    {
     "data": {
      "text/plain": [
       "2.0170333392987803"
      ]
     },
     "execution_count": 70,
     "metadata": {},
     "output_type": "execute_result"
    }
   ],
   "source": [
    "math.log10(104)"
   ]
  },
  {
   "cell_type": "code",
   "execution_count": 71,
   "metadata": {},
   "outputs": [
    {
     "data": {
      "text/plain": [
       "3.0017337128090005"
      ]
     },
     "execution_count": 71,
     "metadata": {},
     "output_type": "execute_result"
    }
   ],
   "source": [
    "math.log10(1004)"
   ]
  },
  {
   "cell_type": "markdown",
   "metadata": {},
   "source": [
    "To answer the original question, we could try to answer our question like this, using the `log10` function from the `math` module and the `item` method you just saw:"
   ]
  },
  {
   "cell_type": "code",
   "execution_count": null,
   "metadata": {
    "scrolled": true
   },
   "outputs": [],
   "source": [
    "population_1950_magnitude = math.log10(population_amounts.item(0))\n",
    "population_1951_magnitude = math.log10(population_amounts.item(1))\n",
    "population_1952_magnitude = math.log10(population_amounts.item(2))\n",
    "population_1953_magnitude = math.log10(population_amounts.item(3))\n",
    "# and so on"
   ]
  },
  {
   "cell_type": "markdown",
   "metadata": {},
   "source": [
    "But this is tedious and doesn't really take advantage of the fact that we are using a computer.\n",
    "\n",
    "Instead, NumPy provides its own version of `log10` that takes the logarithm of each element of an array.  It takes a single array of numbers as its argument.  It returns an array of the same length, where the first element of the result is the logarithm of the first element of the argument, and so on.\n",
    "\n",
    "For example:"
   ]
  },
  {
   "cell_type": "code",
   "execution_count": 72,
   "metadata": {},
   "outputs": [
    {
     "data": {
      "text/plain": [
       "2.0170333392987803"
      ]
     },
     "execution_count": 72,
     "metadata": {},
     "output_type": "execute_result"
    }
   ],
   "source": [
    "np.log10(104)"
   ]
  },
  {
   "cell_type": "code",
   "execution_count": 73,
   "metadata": {},
   "outputs": [
    {
     "data": {
      "text/plain": [
       "array([ 2.01703334,  3.00173371])"
      ]
     },
     "execution_count": 73,
     "metadata": {},
     "output_type": "execute_result"
    }
   ],
   "source": [
    "an_array = make_array(104, 1004)\n",
    "np.log10(an_array)"
   ]
  },
  {
   "cell_type": "markdown",
   "metadata": {},
   "source": [
    "#### Task 12 📍"
   ]
  },
  {
   "cell_type": "markdown",
   "metadata": {
    "deletable": false,
    "editable": false
   },
   "source": [
    "Use `np.log10` to compute the logarithms of the world population in every year.  Give the result (an array of 66 numbers) the name `population_magnitudes`.  Your code should be very short.\n"
   ]
  },
  {
   "cell_type": "code",
   "execution_count": 40,
   "metadata": {
    "tags": []
   },
   "outputs": [
    {
     "data": {
      "text/plain": [
       "array([ 9.40783749,  9.4141273 ,  9.42107263,  9.42846742,  9.43619893,\n",
       "        9.44437257,  9.45259897,  9.46110062,  9.4695477 ,  9.47722498,\n",
       "        9.48330217,  9.48910971,  9.49694254,  9.50648175,  9.51603288,\n",
       "        9.5251    ,  9.53411218,  9.54286695,  9.55173218,  9.56076229,\n",
       "        9.56968959,  9.57867667,  9.58732573,  9.59572724,  9.60385954,\n",
       "        9.61162595,  9.61911264,  9.62655434,  9.63388293,  9.64137633,\n",
       "        9.64849299,  9.6565208 ,  9.66413091,  9.67170374,  9.67893421,\n",
       "        9.68632006,  9.69377717,  9.70132621,  9.70880804,  9.7161236 ,\n",
       "        9.72336995,  9.73010253,  9.73688521,  9.74337399,  9.74963446,\n",
       "        9.75581413,  9.7618858 ,  9.76774733,  9.77343633,  9.77902438,\n",
       "        9.7845154 ,  9.78994853,  9.7953249 ,  9.80062024,  9.80588805,\n",
       "        9.81110861,  9.81632507,  9.82150788,  9.82666101,  9.83175555,\n",
       "        9.83672482,  9.84161319,  9.84648243,  9.85132122,  9.85604719,\n",
       "        9.8607266 ])"
      ]
     },
     "execution_count": 40,
     "metadata": {},
     "output_type": "execute_result"
    }
   ],
   "source": [
    "population_magnitudes = np.log10(population_amounts)\n",
    "population_magnitudes"
   ]
  },
  {
   "cell_type": "code",
   "execution_count": 41,
   "metadata": {
    "deletable": false,
    "editable": false
   },
   "outputs": [
    {
     "data": {
      "text/html": [
       "<p><strong><pre style='display: inline;'>task_12</pre></strong> passed! 🌟</p><p><strong><pre style='display: inline;'>task_12 - 1</pre> message:</strong> ✅ It seems like you made an array.</p><p><strong><pre style='display: inline;'>task_12 - 2</pre> message:</strong> ✅ It seems like you have the correct values.</p>"
      ],
      "text/plain": [
       "task_12 results: All test cases passed!\n",
       "task_12 - 1 message: ✅ It seems like you made an array.\n",
       "task_12 - 2 message: ✅ It seems like you have the correct values."
      ]
     },
     "execution_count": 41,
     "metadata": {},
     "output_type": "execute_result"
    }
   ],
   "source": [
    "grader.check(\"task_12\")"
   ]
  },
  {
   "cell_type": "markdown",
   "metadata": {},
   "source": [
    "What you just did is called *elementwise* application of `np.log10`, since `np.log10` operates separately on each element of the array that it's called on. Here's a picture of what's going on:"
   ]
  },
  {
   "cell_type": "markdown",
   "metadata": {},
   "source": [
    "<img src=\"./array_logarithm.jpg\">\n",
    "\n",
    "\n",
    "The textbook's [section](https://www.inferentialthinking.com/chapters/05/1/Arrays)  on arrays has a useful list of NumPy functions that are designed to work elementwise, like `np.log10`."
   ]
  },
  {
   "cell_type": "markdown",
   "metadata": {},
   "source": [
    "### Arithmetic"
   ]
  },
  {
   "cell_type": "markdown",
   "metadata": {},
   "source": [
    "Arithmetic also works elementwise on arrays, meaning that if you perform an arithmetic operation (like subtraction, division, etc) on an array, Python will do the operation to every element of the array individually and return an array of all of the results. For example, you can divide all the population numbers by 1 billion to get numbers in billions:"
   ]
  },
  {
   "cell_type": "code",
   "execution_count": null,
   "metadata": {},
   "outputs": [],
   "source": [
    "population_in_billions = population_amounts / 1000000000\n",
    "population_in_billions"
   ]
  },
  {
   "cell_type": "markdown",
   "metadata": {},
   "source": [
    "You can do the same with addition, subtraction, multiplication, and exponentiation (`**`). For example, you can calculate a tip on several restaurant bills at once (in this case just 3):"
   ]
  },
  {
   "cell_type": "code",
   "execution_count": 78,
   "metadata": {},
   "outputs": [
    {
     "name": "stdout",
     "output_type": "stream",
     "text": [
      "Restaurant bills:\t [ 20.12  39.9   31.01]\n",
      "Tips:\t\t\t [ 4.024  7.98   6.202]\n"
     ]
    }
   ],
   "source": [
    "restaurant_bills = make_array(20.12, 39.90, 31.01)\n",
    "print(\"Restaurant bills:\\t\", restaurant_bills)\n",
    "\n",
    "# Array multiplication\n",
    "tips = .2 * restaurant_bills\n",
    "print(\"Tips:\\t\\t\\t\", tips)"
   ]
  },
  {
   "cell_type": "markdown",
   "metadata": {},
   "source": [
    "<img src=\"./array_multiplication.jpg\">"
   ]
  },
  {
   "cell_type": "markdown",
   "metadata": {},
   "source": [
    "Suppose the total charge at a restaurant is the original bill plus the tip. If the tip is 20%, that means we can multiply the original bill by 1.2 to get the total charge.  Run the following code to calculate the total charge for each bill in `restaurant_bills`, and assign the resulting array to `total_charges`."
   ]
  },
  {
   "cell_type": "code",
   "execution_count": 84,
   "metadata": {},
   "outputs": [
    {
     "data": {
      "text/plain": [
       "array([ 24.144,  47.88 ,  37.212])"
      ]
     },
     "execution_count": 84,
     "metadata": {},
     "output_type": "execute_result"
    }
   ],
   "source": [
    "total_charges = 1.2 * restaurant_bills\n",
    "total_charges"
   ]
  },
  {
   "cell_type": "markdown",
   "metadata": {},
   "source": [
    "#### Task 13 📍"
   ]
  },
  {
   "cell_type": "markdown",
   "metadata": {
    "deletable": false,
    "editable": false
   },
   "source": [
    "The array `more_restaurant_bills` contains 100,000 bills!  Compute the total charge for every bill.\n",
    "\n",
    "*Note: You'll learn about the command `Table.read_table` soon. For now, just run the cell.*\n"
   ]
  },
  {
   "cell_type": "code",
   "execution_count": 1,
   "metadata": {
    "tags": []
   },
   "outputs": [
    {
     "ename": "NameError",
     "evalue": "name 'Table' is not defined",
     "output_type": "error",
     "traceback": [
      "\u001b[0;31m---------------------------------------------------------------------------\u001b[0m",
      "\u001b[0;31mNameError\u001b[0m                                 Traceback (most recent call last)",
      "Cell \u001b[0;32mIn[1], line 1\u001b[0m\n\u001b[0;32m----> 1\u001b[0m more_restaurant_bills \u001b[38;5;241m=\u001b[39m \u001b[43mTable\u001b[49m\u001b[38;5;241m.\u001b[39mread_table(\u001b[38;5;124m\"\u001b[39m\u001b[38;5;124m./more_restaurant_bills.csv\u001b[39m\u001b[38;5;124m\"\u001b[39m)\u001b[38;5;241m.\u001b[39mcolumn(\u001b[38;5;124m\"\u001b[39m\u001b[38;5;124mBill\u001b[39m\u001b[38;5;124m\"\u001b[39m)\n\u001b[1;32m      2\u001b[0m more_total_charges \u001b[38;5;241m=\u001b[39m np\u001b[38;5;241m.\u001b[39marray(more_restaurant_bills) \u001b[38;5;241m*\u001b[39m \u001b[38;5;241m1.2\u001b[39m\n\u001b[1;32m      3\u001b[0m more_total_charges\n",
      "\u001b[0;31mNameError\u001b[0m: name 'Table' is not defined"
     ]
    }
   ],
   "source": [
    "more_restaurant_bills = Table.read_table(\"./more_restaurant_bills.csv\").column(\"Bill\")\n",
    "more_total_charges = np.array(more_restaurant_bills) * 1.2\n",
    "more_total_charges"
   ]
  },
  {
   "cell_type": "code",
   "execution_count": 43,
   "metadata": {
    "deletable": false,
    "editable": false
   },
   "outputs": [
    {
     "data": {
      "text/html": [
       "<p><strong><pre style='display: inline;'>task_13</pre></strong> passed! 🙌</p><p><strong><pre style='display: inline;'>task_13 - 1</pre> message:</strong> ✅ It seems like you made an array.</p><p><strong><pre style='display: inline;'>task_13 - 2</pre> message:</strong> ✅ It seems like you have the correct values.</p>"
      ],
      "text/plain": [
       "task_13 results: All test cases passed!\n",
       "task_13 - 1 message: ✅ It seems like you made an array.\n",
       "task_13 - 2 message: ✅ It seems like you have the correct values."
      ]
     },
     "execution_count": 43,
     "metadata": {},
     "output_type": "execute_result"
    }
   ],
   "source": [
    "grader.check(\"task_13\")"
   ]
  },
  {
   "cell_type": "markdown",
   "metadata": {},
   "source": [
    "The function `np.sum` takes a single array of numbers as its argument.  It returns the sum of all the numbers in that array (so it returns a single number, not an array)."
   ]
  },
  {
   "cell_type": "markdown",
   "metadata": {},
   "source": [
    "#### Task 14 📍"
   ]
  },
  {
   "cell_type": "markdown",
   "metadata": {
    "deletable": false,
    "editable": false
   },
   "source": [
    "What was the sum of all the bills in `more_restaurant_bills`, *including tips*?\n"
   ]
  },
  {
   "cell_type": "code",
   "execution_count": 44,
   "metadata": {
    "tags": []
   },
   "outputs": [
    {
     "data": {
      "text/plain": [
       "1795730.0640000193"
      ]
     },
     "execution_count": 44,
     "metadata": {},
     "output_type": "execute_result"
    }
   ],
   "source": [
    "sum_of_bills = sum(np.array(more_restaurant_bills) * 1.2)\n",
    "sum_of_bills"
   ]
  },
  {
   "cell_type": "code",
   "execution_count": 45,
   "metadata": {
    "deletable": false,
    "editable": false
   },
   "outputs": [
    {
     "data": {
      "text/html": [
       "<p><strong><pre style='display: inline;'>task_14</pre></strong> passed! 🍀</p><p><strong><pre style='display: inline;'>task_14 - 1</pre> message:</strong> ✅ It seems like you have the correct values.</p>"
      ],
      "text/plain": [
       "task_14 results: All test cases passed!\n",
       "task_14 - 1 message: ✅ It seems like you have the correct values."
      ]
     },
     "execution_count": 45,
     "metadata": {},
     "output_type": "execute_result"
    }
   ],
   "source": [
    "grader.check(\"task_14\")"
   ]
  },
  {
   "cell_type": "markdown",
   "metadata": {},
   "source": [
    "#### Task 15 📍"
   ]
  },
  {
   "cell_type": "markdown",
   "metadata": {
    "deletable": false,
    "editable": false
   },
   "source": [
    "The powers of 2 ($2^0 = 1$, $2^1 = 2$, $2^2 = 4$, etc) arise frequently in computer science.  (For example, you may have noticed that storage on smartphones or USBs come in powers of 2, like 16 GB, 32 GB, or 64 GB.)  \n",
    "\n",
    "Use the exponentiation operator `**` with `np.arange` to compute the first 30 powers of 2, starting from $2^0$ up to and including $2^{29}$.\n",
    "\n",
    "* *Hint 1:* `2 ** make_array(1, 2)` would produce the array `array([2, 4])`.\n",
    "* *Hint 2:* `np.arange(1, 2**30, 1)` creates an array with $2^{30}$ elements and **will crash your kernel**.\n",
    "\n"
   ]
  },
  {
   "cell_type": "code",
   "execution_count": 50,
   "metadata": {
    "tags": []
   },
   "outputs": [
    {
     "data": {
      "text/plain": [
       "array([        1,         2,         4,         8,        16,        32,\n",
       "              64,       128,       256,       512,      1024,      2048,\n",
       "            4096,      8192,     16384,     32768,     65536,    131072,\n",
       "          262144,    524288,   1048576,   2097152,   4194304,   8388608,\n",
       "        16777216,  33554432,  67108864, 134217728, 268435456, 536870912])"
      ]
     },
     "execution_count": 50,
     "metadata": {},
     "output_type": "execute_result"
    }
   ],
   "source": [
    "powers_of_2 = 2 ** np.arange(30)\n",
    "powers_of_2"
   ]
  },
  {
   "cell_type": "code",
   "execution_count": 51,
   "metadata": {
    "deletable": false,
    "editable": false
   },
   "outputs": [
    {
     "data": {
      "text/html": [
       "<p><strong><pre style='display: inline;'>task_15</pre></strong> passed! 🙌</p><p><strong><pre style='display: inline;'>task_15 - 1</pre> message:</strong> ✅ It seems like you have the correct values.</p>"
      ],
      "text/plain": [
       "task_15 results: All test cases passed!\n",
       "task_15 - 1 message: ✅ It seems like you have the correct values."
      ]
     },
     "execution_count": 51,
     "metadata": {},
     "output_type": "execute_result"
    }
   ],
   "source": [
    "grader.check(\"task_15\")"
   ]
  },
  {
   "cell_type": "markdown",
   "metadata": {},
   "source": [
    "## Submit your Lab to Canvas\n",
    "\n",
    "Once you have finished working on the lab questions, prepare to submit your work in Canvas by completing the following steps.\n",
    "\n",
    "1. In the related Canvas Assignment page, check the requirements for a Complete score for this lab assignment.\n",
    "2. Double-check that you have run the code cell near the end of the notebook that contains the command `grader.check_all()`. This command will run all of the run tests on all your responses to the auto-graded tasks marked with 📍.\n",
    "3. Double-check your responses to the manually graded tasks marked with 📍🔎.\n",
    "4. Select the menu items `File`, `Save and Export Notebook As...`, and `Html_embed` in the notebook's Toolbar to download an HTML version of this notebook file.\n",
    "5. In the related Canvas Assignment page, click Start Assignment or New Attempt to upload the downloaded HTML file."
   ]
  },
  {
   "cell_type": "markdown",
   "metadata": {
    "deletable": false,
    "editable": false
   },
   "source": [
    "---\n",
    "\n",
    "To double-check your work, the cell below will rerun all of the autograder tests."
   ]
  },
  {
   "cell_type": "code",
   "execution_count": 52,
   "metadata": {
    "deletable": false,
    "editable": false
   },
   "outputs": [
    {
     "data": {
      "text/plain": [
       "task_01 results: All test cases passed!\n",
       "task_01 - 1 message: ✅ Great work running an assignment statement with the name max_value.\n",
       "task_01 - 2 message: ✅ Great work! Hopefully, you were able to utilize the max and abs functions.\n",
       "\n",
       "task_02 results: All test cases passed!\n",
       "task_02 - 1 message: ✅ It seems like you have the correct string.\n",
       "task_02 - 2 message: ✅ It seems like you have the correct string.\n",
       "\n",
       "task_03 results: All test cases passed!\n",
       "task_03 - 1 message: ✅ It seems like you have the correct string.\n",
       "\n",
       "task_04 results: All test cases passed!\n",
       "task_04 - 1 message: ✅ It seems like you have the correct value.\n",
       "\n",
       "task_05 results: All test cases passed!\n",
       "task_05 - 1 message: ✅ That seems correct!\n",
       "\n",
       "task_06 results: All test cases passed!\n",
       "task_06 - 1 message: ✅ Great work running the cell above that imports the math module.\n",
       "task_06 - 2 message: ✅ Great work. It seems you have correct value.\n",
       "\n",
       "task_07 results: All test cases passed!\n",
       "task_07 - 1 message: ✅ Great work. It seems you have correct value.\n",
       "\n",
       "task_08 results: All test cases passed!\n",
       "task_08 - 1 message: ✅ It seems like you made an array.\n",
       "task_08 - 2 message: ✅ You have the correct number of values.\n",
       "task_08 - 3 message: ✅ It seems like you have the correct values.\n",
       "\n",
       "task_09 results: All test cases passed!\n",
       "task_09 - 1 message: ✅ It seems like you made an array.\n",
       "task_09 - 2 message: ✅ You have the correct number of values.\n",
       "task_09 - 3 message: ✅ It looks like your array contains the blank space!\n",
       "task_09 - 4 message: ✅ It seems like you have the correct values.\n",
       "\n",
       "task_10 results: All test cases passed!\n",
       "task_10 - 1 message: ✅ It seems like you made an array.\n",
       "task_10 - 2 message: ✅ You have the correct number of values.\n",
       "task_10 - 3 message: ✅ It seems like you have the correct values.\n",
       "\n",
       "task_11 results: All test cases passed!\n",
       "task_11 - 1 message: ✅ It seems like you used the .item method.\n",
       "task_11 - 2 message: ✅ You have the correct value.\n",
       "\n",
       "task_12 results: All test cases passed!\n",
       "task_12 - 1 message: ✅ It seems like you made an array.\n",
       "task_12 - 2 message: ✅ It seems like you have the correct values.\n",
       "\n",
       "task_13 results: All test cases passed!\n",
       "task_13 - 1 message: ✅ It seems like you made an array.\n",
       "task_13 - 2 message: ✅ It seems like you have the correct values.\n",
       "\n",
       "task_14 results: All test cases passed!\n",
       "task_14 - 1 message: ✅ It seems like you have the correct values.\n",
       "\n",
       "task_15 results: All test cases passed!\n",
       "task_15 - 1 message: ✅ It seems like you have the correct values."
      ]
     },
     "execution_count": 52,
     "metadata": {},
     "output_type": "execute_result"
    }
   ],
   "source": [
    "grader.check_all()"
   ]
  },
  {
   "cell_type": "code",
   "execution_count": null,
   "metadata": {},
   "outputs": [],
   "source": []
  }
 ],
 "metadata": {
  "hide_input": false,
  "kernelspec": {
   "display_name": "Python 3 (ipykernel)",
   "language": "python",
   "name": "python3"
  },
  "language_info": {
   "codemirror_mode": {
    "name": "ipython",
    "version": 3
   },
   "file_extension": ".py",
   "mimetype": "text/x-python",
   "name": "python",
   "nbconvert_exporter": "python",
   "pygments_lexer": "ipython3",
   "version": "3.10.12"
  },
  "otter": {
   "OK_FORMAT": true,
   "assignment_name": "lab02_sp24",
   "tests": {
    "task_01": {
     "name": "task_01",
     "points": null,
     "suites": [
      {
       "cases": [
        {
         "code": ">>> max_value != ...\nTrue",
         "failure_message": "❌ It doesn't seem that you replaced ... in the assignment statement.",
         "hidden": false,
         "locked": false,
         "success_message": "✅ Great work running an assignment statement with the name max_value."
        },
        {
         "code": ">>> max_value == 2023\nTrue",
         "failure_message": "❌ It doesn't seem that you have the correct value. Double-check your expressions, make sure to use the abs function for 1., and consider using the max function with 2 inputs to get your overall value.",
         "hidden": false,
         "locked": false,
         "success_message": "✅ Great work! Hopefully, you were able to utilize the max and abs functions."
        }
       ],
       "scored": true,
       "setup": "",
       "teardown": "",
       "type": "doctest"
      }
     ]
    },
    "task_02": {
     "name": "task_02",
     "points": null,
     "suites": [
      {
       "cases": [
        {
         "code": ">>> woman_asking == 'The woman asked:'\nTrue",
         "failure_message": "❌ It doesn't seem like you have the correct string. The print commands adds a space between the strings you provide as input.",
         "hidden": false,
         "locked": false,
         "points": 1,
         "success_message": "✅ It seems like you have the correct string."
        },
        {
         "code": ">>> gagarin_quote == '\"As a matter of fact, I have!\"'\nTrue",
         "failure_message": "❌ You'll need to use two different types of quotes, so you can use quotes within a string.",
         "hidden": false,
         "locked": false,
         "points": 1,
         "success_message": "✅ It seems like you have the correct string."
        }
       ],
       "scored": true,
       "setup": "",
       "teardown": "",
       "type": "doctest"
      }
     ]
    },
    "task_03": {
     "name": "task_03",
     "points": null,
     "suites": [
      {
       "cases": [
        {
         "code": ">>> new_word == 'matchmaker'\nTrue",
         "failure_message": "❌ Start with 'hitchhiker' and use .replace() after that.",
         "hidden": false,
         "locked": false,
         "points": 1,
         "success_message": "✅ It seems like you have the correct string."
        }
       ],
       "scored": true,
       "setup": "",
       "teardown": "",
       "type": "doctest"
      }
     ]
    },
    "task_04": {
     "name": "task_04",
     "points": null,
     "suites": [
      {
       "cases": [
        {
         "code": ">>> abs(difference) == 30 or round(abs(difference), 1) == 30.0\nTrue",
         "failure_message": "❌ You'll need to convert the strings to numbers. Try using the int() function to convert the strings to integers, so you can subtract the values.",
         "hidden": false,
         "locked": false,
         "points": 1,
         "success_message": "✅ It seems like you have the correct value."
        }
       ],
       "scored": true,
       "setup": "",
       "teardown": "",
       "type": "doctest"
      }
     ]
    },
    "task_05": {
     "name": "task_05",
     "points": null,
     "suites": [
      {
       "cases": [
        {
         "code": ">>> sentence_length == 896\nTrue",
         "failure_message": "❌ Try using len() with the string as the argument.",
         "hidden": false,
         "locked": false,
         "points": 1,
         "success_message": "✅ That seems correct!"
        }
       ],
       "scored": true,
       "setup": "",
       "teardown": "",
       "type": "doctest"
      }
     ]
    },
    "task_06": {
     "name": "task_06",
     "points": null,
     "suites": [
      {
       "cases": [
        {
         "code": ">>> import sys\n>>> 'math' in sys.modules\nTrue",
         "failure_message": "❌ It doesn't seem that you have imported the math module. Make sure to run the cell above that contains the code: import math.",
         "hidden": false,
         "locked": false,
         "success_message": "✅ Great work running the cell above that imports the math module."
        },
        {
         "code": ">>> near_twenty != ... and round(near_twenty, 8) == 19.99909998\nTrue",
         "failure_message": "❌ It doesn't seem that you have the correct value. Make sure you are using math.pi and math.e in your expression.",
         "hidden": false,
         "locked": false,
         "success_message": "✅ Great work. It seems you have correct value."
        }
       ],
       "scored": true,
       "setup": "",
       "teardown": "",
       "type": "doctest"
      }
     ]
    },
    "task_07": {
     "name": "task_07",
     "points": null,
     "suites": [
      {
       "cases": [
        {
         "code": ">>> import math\n>>> square_root_of_pi != ... and round(square_root_of_pi, 8) == 1.77245385\nTrue",
         "failure_message": "❌ It doesn't seem that you have the correct value. Make sure you are using math.pi and math.sqrt or the exponent (1/2) in your expression.",
         "hidden": false,
         "locked": false,
         "success_message": "✅ Great work. It seems you have correct value."
        }
       ],
       "scored": true,
       "setup": "",
       "teardown": "",
       "type": "doctest"
      }
     ]
    },
    "task_08": {
     "name": "task_08",
     "points": null,
     "suites": [
      {
       "cases": [
        {
         "code": ">>> type(interesting_numbers) == np.ndarray\nTrue",
         "failure_message": "❌ You need to make an array. Try using the function make_array.",
         "hidden": false,
         "locked": false,
         "points": 1,
         "success_message": "✅ It seems like you made an array."
        },
        {
         "code": ">>> len(interesting_numbers) == 5\nTrue",
         "failure_message": "❌ It seems like you missed some of the values, you should have 5.",
         "hidden": false,
         "locked": false,
         "points": 1,
         "success_message": "✅ You have the correct number of values."
        },
        {
         "code": ">>> all(interesting_numbers == np.array([0, 1, -1, math.pi, math.e]))\nTrue",
         "failure_message": "❌ You don't seem to have the correct values. Don't forgot that pi and e are part of the math module.",
         "hidden": false,
         "locked": false,
         "points": 1,
         "success_message": "✅ It seems like you have the correct values."
        }
       ],
       "scored": true,
       "setup": "",
       "teardown": "",
       "type": "doctest"
      }
     ]
    },
    "task_09": {
     "name": "task_09",
     "points": null,
     "suites": [
      {
       "cases": [
        {
         "code": ">>> type(hello_world_components) == np.ndarray\nTrue",
         "failure_message": "❌ You need to make an array. Try using the function make_array.",
         "hidden": false,
         "locked": false,
         "points": 1,
         "success_message": "✅ It seems like you made an array."
        },
        {
         "code": ">>> len(hello_world_components) == 5\nTrue",
         "failure_message": "❌ It seems like you missed some of the values, you should have 5.",
         "hidden": false,
         "locked": false,
         "points": 1,
         "success_message": "✅ You have the correct number of values."
        },
        {
         "code": ">>> ' ' in hello_world_components\nTrue",
         "failure_message": "❌ It seems like you did not use a blank space in your string. Use \" \" instead of \"\".",
         "hidden": false,
         "locked": false,
         "points": 1,
         "success_message": "✅ It looks like your array contains the blank space!"
        },
        {
         "code": ">>> all(hello_world_components == np.array(['Hello', ',', ' ', 'world', '!']))\nTrue",
         "failure_message": "❌ You don't seem to have the correct values.",
         "hidden": false,
         "locked": false,
         "points": 1,
         "success_message": "✅ It seems like you have the correct values."
        }
       ],
       "scored": true,
       "setup": "",
       "teardown": "",
       "type": "doctest"
      }
     ]
    },
    "task_10": {
     "name": "task_10",
     "points": null,
     "suites": [
      {
       "cases": [
        {
         "code": ">>> type(multiples_of_99) == np.ndarray\nTrue",
         "failure_message": "❌ You need to make an array. Try using the function make_array.",
         "hidden": false,
         "locked": false,
         "points": 1,
         "success_message": "✅ It seems like you made an array."
        },
        {
         "code": ">>> len(multiples_of_99) == 102\nTrue",
         "failure_message": "❌ It seems like you missed some of the values, you should have 5.",
         "hidden": false,
         "locked": false,
         "points": 1,
         "success_message": "✅ You have the correct number of values."
        },
        {
         "code": ">>> all(multiples_of_99 == np.arange(0, 9999 + 99, 99))\nTrue",
         "failure_message": "❌ You don't seem to have the correct values. Don't forgot that pi and e are part of the math module.",
         "hidden": false,
         "locked": false,
         "points": 1,
         "success_message": "✅ It seems like you have the correct values."
        }
       ],
       "scored": true,
       "setup": "",
       "teardown": "",
       "type": "doctest"
      }
     ]
    },
    "task_11": {
     "name": "task_11",
     "points": null,
     "suites": [
      {
       "cases": [
        {
         "code": ">>> not isinstance(population_1973, np.int64)\nTrue",
         "failure_message": "❌ It doesn't seem that you used the .item method. Maybe you used the bracket notation. Try using .item() after the array name using the correct index.",
         "hidden": false,
         "locked": false,
         "points": 1,
         "success_message": "✅ It seems like you used the .item method."
        },
        {
         "code": ">>> population_1973 == 3942096442\nTrue",
         "failure_message": "❌ It doesn't seem that you have the correct value. Try using .item() after the array name using the correct index. You might be off by 1 on the index.",
         "hidden": false,
         "locked": false,
         "points": 1,
         "success_message": "✅ You have the correct value."
        }
       ],
       "scored": true,
       "setup": "",
       "teardown": "",
       "type": "doctest"
      }
     ]
    },
    "task_12": {
     "name": "task_12",
     "points": null,
     "suites": [
      {
       "cases": [
        {
         "code": ">>> type(population_magnitudes) == np.ndarray\nTrue",
         "failure_message": "❌ You need to make an array. Try using the function make_array.",
         "hidden": false,
         "locked": false,
         "points": 1,
         "success_message": "✅ It seems like you made an array."
        },
        {
         "code": ">>> sum(abs(population_magnitudes - np.log10(population_amounts))) < 1e-06\nTrue",
         "failure_message": "❌ You don't seem to have the correct values. Make sure you are using np.log10",
         "hidden": false,
         "locked": false,
         "points": 1,
         "success_message": "✅ It seems like you have the correct values."
        }
       ],
       "scored": true,
       "setup": "",
       "teardown": "",
       "type": "doctest"
      }
     ]
    },
    "task_13": {
     "name": "task_13",
     "points": null,
     "suites": [
      {
       "cases": [
        {
         "code": ">>> type(more_total_charges) == np.ndarray\nTrue",
         "failure_message": "❌ You need to make an array. Try using the function make_array.",
         "hidden": false,
         "locked": false,
         "points": 1,
         "success_message": "✅ It seems like you made an array."
        },
        {
         "code": ">>> sum(abs(more_total_charges - 1.2 * more_restaurant_bills)) < 1e-06\nTrue",
         "failure_message": "❌ You don't seem to have the correct values. Try multiplying the array by 1.2",
         "hidden": false,
         "locked": false,
         "points": 1,
         "success_message": "✅ It seems like you have the correct values."
        }
       ],
       "scored": true,
       "setup": "",
       "teardown": "",
       "type": "doctest"
      }
     ]
    },
    "task_14": {
     "name": "task_14",
     "points": null,
     "suites": [
      {
       "cases": [
        {
         "code": ">>> round(sum_of_bills, 2) == 1795730.06\nTrue",
         "failure_message": "❌ You don't seem to have the correct values. Try using the sum function.",
         "hidden": false,
         "locked": false,
         "points": 1,
         "success_message": "✅ It seems like you have the correct values."
        }
       ],
       "scored": true,
       "setup": "",
       "teardown": "",
       "type": "doctest"
      }
     ]
    },
    "task_15": {
     "name": "task_15",
     "points": null,
     "suites": [
      {
       "cases": [
        {
         "code": ">>> all(powers_of_2 == 2 ** np.arange(30))\nTrue",
         "failure_message": "❌ You don't seem to have the correct values. Try evaluating 2 with an exponent that is an array of values.",
         "hidden": false,
         "locked": false,
         "points": 1,
         "success_message": "✅ It seems like you have the correct values."
        }
       ],
       "scored": true,
       "setup": "",
       "teardown": "",
       "type": "doctest"
      }
     ]
    }
   }
  },
  "toc-autonumbering": false,
  "toc-showmarkdowntxt": false
 },
 "nbformat": 4,
 "nbformat_minor": 4
}
