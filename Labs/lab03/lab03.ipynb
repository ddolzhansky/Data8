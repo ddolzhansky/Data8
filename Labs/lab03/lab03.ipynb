{
 "cells": [
  {
   "cell_type": "code",
   "execution_count": 90,
   "metadata": {
    "deletable": false,
    "editable": false
   },
   "outputs": [],
   "source": [
    "# Initialize Otter\n",
    "import otter\n",
    "grader = otter.Notebook(\"lab03.ipynb\")"
   ]
  },
  {
   "cell_type": "markdown",
   "metadata": {},
   "source": [
    "<img style=\"display: block; margin-left: auto; margin-right: auto\" src=\"./ccsf-logo.png\" width=\"250rem;\" alt=\"The CCSF black and white logo\">"
   ]
  },
  {
   "cell_type": "markdown",
   "metadata": {},
   "source": [
    "<div style=\"text-align: center;\">\n",
    "    <h1>Lab 03 - Tables and Visualization</h1>\n",
    "    <em>View the related <a href=\"https://ccsf.instructure.com\" target=\"_blank\">Canvas</a> Assignment page for additional details.</em>\n",
    "</div>"
   ]
  },
  {
   "cell_type": "markdown",
   "metadata": {},
   "source": [
    "## References"
   ]
  },
  {
   "cell_type": "markdown",
   "metadata": {},
   "source": [
    "* [Sections 6.0 - 6.4 of the Textbook](https://inferentialthinking.com/chapters/06/Tables.html)\n",
    "* [Sections 7.0 - 7.3 of the Textbook](https://inferentialthinking.com/chapters/07/Visualization.html)\n",
    "* [datascience Documentation](https://datascience.readthedocs.io/)\n",
    "* [Markdown Cheat Sheet](https://www.markdownguide.org/cheat-sheet/)"
   ]
  },
  {
   "cell_type": "markdown",
   "metadata": {},
   "source": [
    "First, run the following cell to set up the lab, and make sure you run the cell at the top of the notebook that initializes Otter."
   ]
  },
  {
   "cell_type": "code",
   "execution_count": 91,
   "metadata": {},
   "outputs": [],
   "source": [
    "import numpy as np\n",
    "from datascience import *\n",
    "import matplotlib\n",
    "%matplotlib inline\n",
    "import matplotlib.pyplot as plt\n",
    "plt.style.use('fivethirtyeight')"
   ]
  },
  {
   "cell_type": "markdown",
   "metadata": {},
   "source": [
    "## Some Table Operations"
   ]
  },
  {
   "cell_type": "markdown",
   "metadata": {},
   "source": [
    "The CSV file `farmers_markets.csv` contains data on farmers' markets in the United States.  (The was data collected from [the USDA's website](https://apps.ams.usda.gov/FarmersMarketsExport/ExcelExport.aspx)).  Each row represents one such market.\n",
    "\n",
    "Run the next cell to load the `farmers_markets` table."
   ]
  },
  {
   "cell_type": "code",
   "execution_count": 4,
   "metadata": {
    "tags": []
   },
   "outputs": [],
   "source": [
    "farmers_markets = Table.read_table('farmers_markets.csv')"
   ]
  },
  {
   "cell_type": "markdown",
   "metadata": {},
   "source": [
    "Let's examine our table to see what data it contains."
   ]
  },
  {
   "cell_type": "markdown",
   "metadata": {},
   "source": [
    "### `show`"
   ]
  },
  {
   "cell_type": "markdown",
   "metadata": {},
   "source": [
    "#### Task 01 📍🔎"
   ]
  },
  {
   "cell_type": "markdown",
   "metadata": {},
   "source": [
    "Use the method `show` to display the first 5 rows of `farmers_markets`. `tbl.show(3)` will show the first 3 rows of `tbl`.\n",
    "\n",
    "Make sure to check your visualization with a classmate, a tutor, or the instructor before moving on since there is no auto-grader for this lab task.\n",
    "\n",
    "**Important Note:** Be careful to not to call `.show()` without an argument. There is a lot of information in the farmers market table and showing it all will crash your kernel!"
   ]
  },
  {
   "cell_type": "markdown",
   "metadata": {
    "deletable": false,
    "editable": false
   },
   "source": [
    "<!-- BEGIN QUESTION -->\n",
    "\n"
   ]
  },
  {
   "cell_type": "code",
   "execution_count": 6,
   "metadata": {
    "tags": []
   },
   "outputs": [
    {
     "data": {
      "text/html": [
       "<table border=\"1\" class=\"dataframe\">\n",
       "    <thead>\n",
       "        <tr>\n",
       "            <th>FMID</th> <th>MarketName</th> <th>Website</th> <th>Facebook</th> <th>Twitter</th> <th>Youtube</th> <th>OtherMedia</th> <th>street</th> <th>city</th> <th>County</th> <th>State</th> <th>zip</th> <th>Season1Date</th> <th>Season1Time</th> <th>Season2Date</th> <th>Season2Time</th> <th>Season3Date</th> <th>Season3Time</th> <th>Season4Date</th> <th>Season4Time</th> <th>x</th> <th>y</th> <th>Location</th> <th>Credit</th> <th>WIC</th> <th>WICcash</th> <th>SFMNP</th> <th>SNAP</th> <th>Organic</th> <th>Bakedgoods</th> <th>Cheese</th> <th>Crafts</th> <th>Flowers</th> <th>Eggs</th> <th>Seafood</th> <th>Herbs</th> <th>Vegetables</th> <th>Honey</th> <th>Jams</th> <th>Maple</th> <th>Meat</th> <th>Nursery</th> <th>Nuts</th> <th>Plants</th> <th>Poultry</th> <th>Prepared</th> <th>Soap</th> <th>Trees</th> <th>Wine</th> <th>Coffee</th> <th>Beans</th> <th>Fruits</th> <th>Grains</th> <th>Juices</th> <th>Mushrooms</th> <th>PetFood</th> <th>Tofu</th> <th>WildHarvested</th> <th>updateTime</th>\n",
       "        </tr>\n",
       "    </thead>\n",
       "    <tbody>\n",
       "        <tr>\n",
       "            <td>1018261</td> <td> Caledonia Farmers Market Association - Danville           </td> <td>https://www.caledoniafarmersmarket.com</td> <td>https://www.facebook.com/Danville.VT.Farmers.Market/        </td> <td>nan    </td> <td>nan    </td> <td>nan                         </td> <td>nan                       </td> <td>Danville        </td> <td>Caledonia     </td> <td>Vermont   </td> <td>05828</td> <td>06/10/2020 to 10/07/2020</td> <td>Wed: 9:00 AM-1:00 PM;                                       </td> <td>nan                     </td> <td>nan                                                         </td> <td>nan        </td> <td>nan        </td> <td>nan        </td> <td>nan        </td> <td>-72.1403</td> <td>44.411 </td> <td>nan     </td> <td>Y     </td> <td>Y   </td> <td>N      </td> <td>Y    </td> <td>N   </td> <td>Y      </td> <td>Y         </td> <td>Y     </td> <td>Y     </td> <td>Y      </td> <td>Y   </td> <td>N      </td> <td>Y    </td> <td>Y         </td> <td>Y    </td> <td>Y   </td> <td>Y    </td> <td>Y   </td> <td>N      </td> <td>N   </td> <td>N     </td> <td>Y      </td> <td>Y       </td> <td>Y   </td> <td>Y    </td> <td>N   </td> <td>Y     </td> <td>Y    </td> <td>Y     </td> <td>N     </td> <td>N     </td> <td>Y        </td> <td>Y      </td> <td>N   </td> <td>N            </td> <td>8/3/2020 3:23:12 PM </td>\n",
       "        </tr>\n",
       "        <tr>\n",
       "            <td>1009994</td> <td>18th Street Farmer's Market                                </td> <td>nan                                   </td> <td>https://www.facebook.com/ScottsbluffFarmersMarket           </td> <td>nan    </td> <td>nan    </td> <td>nan                         </td> <td>18th and Broadway         </td> <td>Scottsbluff     </td> <td>Scotts Bluff  </td> <td>Nebraska  </td> <td>69361</td> <td>06/05/2021 to 06/05/2021</td> <td>Sat: 8:00 AM-11:00 AM;                                      </td> <td>nan                     </td> <td>nan                                                         </td> <td>nan        </td> <td>nan        </td> <td>nan        </td> <td>nan        </td> <td>-103.663</td> <td>41.8643</td> <td>nan     </td> <td>Y     </td> <td>N   </td> <td>N      </td> <td>Y    </td> <td>N   </td> <td>Y      </td> <td>Y         </td> <td>Y     </td> <td>Y     </td> <td>Y      </td> <td>Y   </td> <td>N      </td> <td>Y    </td> <td>Y         </td> <td>Y    </td> <td>Y   </td> <td>N    </td> <td>Y   </td> <td>N      </td> <td>N   </td> <td>Y     </td> <td>Y      </td> <td>Y       </td> <td>N   </td> <td>N    </td> <td>N   </td> <td>Y     </td> <td>Y    </td> <td>Y     </td> <td>N     </td> <td>N     </td> <td>N        </td> <td>N      </td> <td>N   </td> <td>N            </td> <td>2/18/2021 2:37:26 PM</td>\n",
       "        </tr>\n",
       "        <tr>\n",
       "            <td>1000709</td> <td>26th Annual Highlands Business Partnership's Farmers Market</td> <td>http://www.highlandsnj.com            </td> <td>https://www.facebook.com/pages/Highlands-Business-Partne ...</td> <td>nan    </td> <td>nan    </td> <td>visithighlandsnj - Instagram</td> <td>71 Waterwitch Avenue      </td> <td>Highlands       </td> <td>Monmouth      </td> <td>New Jersey</td> <td>07732</td> <td>06/06/2020              </td> <td>Sat: 8:30 AM-2:00 PM;                                       </td> <td>nan                     </td> <td>nan                                                         </td> <td>nan        </td> <td>nan        </td> <td>nan        </td> <td>nan        </td> <td>-73.9944</td> <td>40.4048</td> <td>nan     </td> <td>Y     </td> <td>Y   </td> <td>Y      </td> <td>Y    </td> <td>Y   </td> <td>Y      </td> <td>Y         </td> <td>Y     </td> <td>Y     </td> <td>Y      </td> <td>Y   </td> <td>N      </td> <td>Y    </td> <td>Y         </td> <td>Y    </td> <td>Y   </td> <td>N    </td> <td>N   </td> <td>N      </td> <td>Y   </td> <td>Y     </td> <td>N      </td> <td>N       </td> <td>Y   </td> <td>N    </td> <td>N   </td> <td>N     </td> <td>N    </td> <td>Y     </td> <td>N     </td> <td>Y     </td> <td>N        </td> <td>N      </td> <td>N   </td> <td>Y            </td> <td>9/10/2020 3:25:18 PM</td>\n",
       "        </tr>\n",
       "        <tr>\n",
       "            <td>1019956</td> <td>29 Palms Farmers' Market                                   </td> <td>nan                                   </td> <td>https://www.facebook.com/29palmsfarmersmarket/              </td> <td>nan    </td> <td>nan    </td> <td>IG @29palmsfarmersmarket    </td> <td>73484 Twentynine Palms Hwy</td> <td>Twentynine Palms</td> <td>San Bernardino</td> <td>California</td> <td>92277</td> <td>01/01/2020 to 01/01/2020</td> <td>Sat: 8:00 AM-1:00 PM;                                       </td> <td>nan                     </td> <td>nan                                                         </td> <td>nan        </td> <td>nan        </td> <td>nan        </td> <td>nan        </td> <td>-116.059</td> <td>34.1358</td> <td>nan     </td> <td>Y     </td> <td>N   </td> <td>N      </td> <td>N    </td> <td>N   </td> <td>Y      </td> <td>Y         </td> <td>N     </td> <td>Y     </td> <td>N      </td> <td>Y   </td> <td>N      </td> <td>Y    </td> <td>Y         </td> <td>Y    </td> <td>Y   </td> <td>N    </td> <td>N   </td> <td>N      </td> <td>Y   </td> <td>N     </td> <td>N      </td> <td>Y       </td> <td>Y   </td> <td>N    </td> <td>N   </td> <td>N     </td> <td>N    </td> <td>Y     </td> <td>N     </td> <td>Y     </td> <td>N        </td> <td>N      </td> <td>N   </td> <td>N            </td> <td>1/13/2021 5:15:12 PM</td>\n",
       "        </tr>\n",
       "        <tr>\n",
       "            <td>1009959</td> <td>2nd Street Market - Five Rivers MetroPark                  </td> <td>http://www.metroparks.org             </td> <td>https://www.facebook.com/2ndStreetMarket/                   </td> <td>nan    </td> <td>nan    </td> <td>nan                         </td> <td>600 E. 2nd Street         </td> <td>Dayton          </td> <td>Montgomery    </td> <td>Ohio      </td> <td>45402</td> <td>01/01/2018 to 05/31/2018</td> <td>Thu: 11:00 AM-3:00 PM;Fri: 11:00 AM-3:00 PM;Sat: 8:00 AM ...</td> <td>06/01/2018 to 12/31/2018</td> <td>Thu: 11:00 AM-3:00 PM;Fri: 11:00 AM-3:00 PM;Sat: 8:00 AM ...</td> <td>nan        </td> <td>nan        </td> <td>nan        </td> <td>nan        </td> <td>-84.181 </td> <td>39.7626</td> <td>nan     </td> <td>Y     </td> <td>N   </td> <td>Y      </td> <td>N    </td> <td>Y   </td> <td>Y      </td> <td>Y         </td> <td>Y     </td> <td>Y     </td> <td>Y      </td> <td>Y   </td> <td>N      </td> <td>Y    </td> <td>Y         </td> <td>Y    </td> <td>Y   </td> <td>Y    </td> <td>Y   </td> <td>N      </td> <td>Y   </td> <td>Y     </td> <td>Y      </td> <td>Y       </td> <td>Y   </td> <td>N    </td> <td>N   </td> <td>Y     </td> <td>Y    </td> <td>Y     </td> <td>Y     </td> <td>Y     </td> <td>Y        </td> <td>Y      </td> <td>N   </td> <td>Y            </td> <td>7/26/2018 4:26:56 PM</td>\n",
       "        </tr>\n",
       "    </tbody>\n",
       "</table>\n",
       "<p>... (1676 rows omitted)</p>"
      ],
      "text/plain": [
       "<IPython.core.display.HTML object>"
      ]
     },
     "metadata": {},
     "output_type": "display_data"
    }
   ],
   "source": [
    "farmers_markets.show(5)"
   ]
  },
  {
   "cell_type": "markdown",
   "metadata": {
    "deletable": false,
    "editable": false
   },
   "source": [
    "<!-- END QUESTION -->\n",
    "\n",
    "Notice that some of the values in this table are missing, as denoted by `nan`. This means either that the value is not available (e.g. if we don’t know the market’s street address) or not applicable (e.g. if the market doesn’t have a street address). You'll also notice that the table has a large number of columns in it!"
   ]
  },
  {
   "cell_type": "markdown",
   "metadata": {},
   "source": [
    "### `num_columns`"
   ]
  },
  {
   "cell_type": "markdown",
   "metadata": {},
   "source": [
    "The table property `num_columns` returns the number of columns in a table. (A \"property\" is a variable in an object. It is referenced without parentheses.)\n",
    "\n",
    "Example call: `<tbl>.num_columns`"
   ]
  },
  {
   "cell_type": "markdown",
   "metadata": {},
   "source": [
    "#### Task 02 📍"
   ]
  },
  {
   "cell_type": "markdown",
   "metadata": {},
   "source": [
    "Use `num_columns` to find the number of columns in our farmers' markets dataset.\n",
    "\n",
    "Assign the number of columns to `num_farmers_markets_columns`."
   ]
  },
  {
   "cell_type": "code",
   "execution_count": 7,
   "metadata": {
    "tags": []
   },
   "outputs": [
    {
     "name": "stdout",
     "output_type": "stream",
     "text": [
      "The table has 59 columns in it!\n"
     ]
    }
   ],
   "source": [
    "num_farmers_markets_columns = farmers_markets.num_columns\n",
    "print(\"The table has\", num_farmers_markets_columns, \"columns in it!\")"
   ]
  },
  {
   "cell_type": "code",
   "execution_count": 8,
   "metadata": {
    "deletable": false,
    "editable": false
   },
   "outputs": [
    {
     "data": {
      "text/html": [
       "<p><strong><pre style='display: inline;'>task_02</pre></strong> passed! 🌈</p><p><strong><pre style='display: inline;'>task_02 - 1</pre> message:</strong> ✅ Great work!</p>"
      ],
      "text/plain": [
       "task_02 results: All test cases passed!\n",
       "task_02 - 1 message: ✅ Great work!"
      ]
     },
     "execution_count": 8,
     "metadata": {},
     "output_type": "execute_result"
    }
   ],
   "source": [
    "grader.check(\"task_02\")"
   ]
  },
  {
   "cell_type": "markdown",
   "metadata": {},
   "source": [
    "### `num_rows`"
   ]
  },
  {
   "cell_type": "markdown",
   "metadata": {},
   "source": [
    "Similarly, the property `num_rows` tells you how many rows are in a table. Run the following cell to see how that table property can be accessed."
   ]
  },
  {
   "cell_type": "code",
   "execution_count": 9,
   "metadata": {},
   "outputs": [
    {
     "name": "stdout",
     "output_type": "stream",
     "text": [
      "The table has 1681 rows in it!\n"
     ]
    }
   ],
   "source": [
    "num_farmers_markets_rows = farmers_markets.num_rows\n",
    "print(\"The table has\", num_farmers_markets_rows, \"rows in it!\")"
   ]
  },
  {
   "cell_type": "markdown",
   "metadata": {},
   "source": [
    "### `select` and `drop`"
   ]
  },
  {
   "cell_type": "markdown",
   "metadata": {},
   "source": [
    "Most of the columns are about particular products -- whether the market sells tofu, pet food, etc.  If we're not interested in that information, it just makes the table difficult to read.  This comes up more than you might think, because people who collect and publish data may not know ahead of time what people will want to do with it.\n",
    "\n",
    "In such situations, we can use the table method `select` to choose only the columns that we want in a particular table. It takes any number of arguments. Each should be the name of a column in the table. It returns a new table with only those columns in it. The columns are in the order *in which they were listed as arguments*.\n",
    "\n",
    "For example, the value of `farmers_markets.select(\"MarketName\", \"State\")` is a table with only the name and the state of each farmers' market in `farmers_markets`."
   ]
  },
  {
   "cell_type": "markdown",
   "metadata": {},
   "source": [
    "#### Task 03 📍"
   ]
  },
  {
   "cell_type": "markdown",
   "metadata": {},
   "source": [
    "Use `select` to create a table with only the name, city, county, state, longitude (`x`), and latitude (`y`) of each market.  Assign that new table to the name `farmers_markets_locations`. \n",
    "\n",
    "**Note:** We didn't create the column names (and their format), they come directly from the United States Department of Agriculture data resource. Make sure to be exact when using column names with `select`. Double-check capitalization! In this task, the order of the columns doesn't matter, but it might in future tasks!"
   ]
  },
  {
   "cell_type": "code",
   "execution_count": 18,
   "metadata": {
    "tags": []
   },
   "outputs": [
    {
     "data": {
      "text/html": [
       "<table border=\"1\" class=\"dataframe\">\n",
       "    <thead>\n",
       "        <tr>\n",
       "            <th>MarketName</th> <th>city</th> <th>County</th> <th>State</th> <th>x</th> <th>y</th>\n",
       "        </tr>\n",
       "    </thead>\n",
       "    <tbody>\n",
       "        <tr>\n",
       "            <td> Caledonia Farmers Market Association - Danville           </td> <td>Danville        </td> <td>Caledonia     </td> <td>Vermont   </td> <td>-72.1403</td> <td>44.411 </td>\n",
       "        </tr>\n",
       "        <tr>\n",
       "            <td>18th Street Farmer's Market                                </td> <td>Scottsbluff     </td> <td>Scotts Bluff  </td> <td>Nebraska  </td> <td>-103.663</td> <td>41.8643</td>\n",
       "        </tr>\n",
       "        <tr>\n",
       "            <td>26th Annual Highlands Business Partnership's Farmers Market</td> <td>Highlands       </td> <td>Monmouth      </td> <td>New Jersey</td> <td>-73.9944</td> <td>40.4048</td>\n",
       "        </tr>\n",
       "        <tr>\n",
       "            <td>29 Palms Farmers' Market                                   </td> <td>Twentynine Palms</td> <td>San Bernardino</td> <td>California</td> <td>-116.059</td> <td>34.1358</td>\n",
       "        </tr>\n",
       "        <tr>\n",
       "            <td>2nd Street Market - Five Rivers MetroPark                  </td> <td>Dayton          </td> <td>Montgomery    </td> <td>Ohio      </td> <td>-84.181 </td> <td>39.7626</td>\n",
       "        </tr>\n",
       "        <tr>\n",
       "            <td>3 French Hens French Country Market                        </td> <td>Morris          </td> <td>Grundy        </td> <td>Illinois  </td> <td>-88.4252</td> <td>41.3564</td>\n",
       "        </tr>\n",
       "        <tr>\n",
       "            <td>3rd Day Farmer's Market                                    </td> <td>Lake City       </td> <td>Missaukee     </td> <td>Michigan  </td> <td>-85.2961</td> <td>44.293 </td>\n",
       "        </tr>\n",
       "        <tr>\n",
       "            <td>4 Veggies & 3 Fruits Farmer’s Market                       </td> <td>Chicago         </td> <td>Cook          </td> <td>Illinois  </td> <td>-87.6296</td> <td>41.7819</td>\n",
       "        </tr>\n",
       "        <tr>\n",
       "            <td>61st Street Farmers Market                                 </td> <td>Chicago         </td> <td>Cook          </td> <td>Illinois  </td> <td>-87.5906</td> <td>41.7841</td>\n",
       "        </tr>\n",
       "        <tr>\n",
       "            <td>A Growers' Market                                          </td> <td>Tallahassee     </td> <td>Leon          </td> <td>Florida   </td> <td>-84.2799</td> <td>30.462 </td>\n",
       "        </tr>\n",
       "    </tbody>\n",
       "</table>\n",
       "<p>... (1671 rows omitted)</p>"
      ],
      "text/plain": [
       "MarketName                                                  | city             | County         | State      | x        | y\n",
       " Caledonia Farmers Market Association - Danville            | Danville         | Caledonia      | Vermont    | -72.1403 | 44.411\n",
       "18th Street Farmer's Market                                 | Scottsbluff      | Scotts Bluff   | Nebraska   | -103.663 | 41.8643\n",
       "26th Annual Highlands Business Partnership's Farmers Market | Highlands        | Monmouth       | New Jersey | -73.9944 | 40.4048\n",
       "29 Palms Farmers' Market                                    | Twentynine Palms | San Bernardino | California | -116.059 | 34.1358\n",
       "2nd Street Market - Five Rivers MetroPark                   | Dayton           | Montgomery     | Ohio       | -84.181  | 39.7626\n",
       "3 French Hens French Country Market                         | Morris           | Grundy         | Illinois   | -88.4252 | 41.3564\n",
       "3rd Day Farmer's Market                                     | Lake City        | Missaukee      | Michigan   | -85.2961 | 44.293\n",
       "4 Veggies & 3 Fruits Farmer’s Market                        | Chicago          | Cook           | Illinois   | -87.6296 | 41.7819\n",
       "61st Street Farmers Market                                  | Chicago          | Cook           | Illinois   | -87.5906 | 41.7841\n",
       "A Growers' Market                                           | Tallahassee      | Leon           | Florida    | -84.2799 | 30.462\n",
       "... (1671 rows omitted)"
      ]
     },
     "execution_count": 18,
     "metadata": {},
     "output_type": "execute_result"
    }
   ],
   "source": [
    "farmers_markets_locations = farmers_markets.select(\"MarketName\", \"city\", \"County\", \"State\", \"x\", \"y\")\n",
    "farmers_markets_locations"
   ]
  },
  {
   "cell_type": "code",
   "execution_count": 19,
   "metadata": {
    "deletable": false,
    "editable": false
   },
   "outputs": [
    {
     "data": {
      "text/html": [
       "<p><strong><pre style='display: inline;'>task_03</pre></strong> passed! 🌈</p><p><strong><pre style='display: inline;'>task_03 - 1</pre> message:</strong> ✅ Great work. It seems you have the correct columns!</p><p><strong><pre style='display: inline;'>task_03 - 2</pre> message:</strong> ✅ Your table seems to have the correct information.</p>"
      ],
      "text/plain": [
       "task_03 results: All test cases passed!\n",
       "task_03 - 1 message: ✅ Great work. It seems you have the correct columns!\n",
       "task_03 - 2 message: ✅ Your table seems to have the correct information."
      ]
     },
     "execution_count": 19,
     "metadata": {},
     "output_type": "execute_result"
    }
   ],
   "source": [
    "grader.check(\"task_03\")"
   ]
  },
  {
   "cell_type": "markdown",
   "metadata": {},
   "source": [
    "### `drop`"
   ]
  },
  {
   "cell_type": "markdown",
   "metadata": {},
   "source": [
    "`drop` serves the same purpose as `select`, but it takes away the columns that you provide rather than the ones that you don't provide. Like `select`, `drop` returns a new table.\n",
    "\n",
    "For example, the following code would create a copy of the `farmers_markets` table without the `FMID` and `updateTime` columns."
   ]
  },
  {
   "cell_type": "code",
   "execution_count": 20,
   "metadata": {},
   "outputs": [
    {
     "data": {
      "text/html": [
       "<table border=\"1\" class=\"dataframe\">\n",
       "    <thead>\n",
       "        <tr>\n",
       "            <th>MarketName</th> <th>Website</th> <th>Facebook</th> <th>Twitter</th> <th>Youtube</th> <th>OtherMedia</th> <th>street</th> <th>city</th> <th>County</th> <th>State</th> <th>zip</th> <th>Season1Date</th> <th>Season1Time</th> <th>Season2Date</th> <th>Season2Time</th> <th>Season3Date</th> <th>Season3Time</th> <th>Season4Date</th> <th>Season4Time</th> <th>x</th> <th>y</th> <th>Location</th> <th>Credit</th> <th>WIC</th> <th>WICcash</th> <th>SFMNP</th> <th>SNAP</th> <th>Organic</th> <th>Bakedgoods</th> <th>Cheese</th> <th>Crafts</th> <th>Flowers</th> <th>Eggs</th> <th>Seafood</th> <th>Herbs</th> <th>Vegetables</th> <th>Honey</th> <th>Jams</th> <th>Maple</th> <th>Meat</th> <th>Nursery</th> <th>Nuts</th> <th>Plants</th> <th>Poultry</th> <th>Prepared</th> <th>Soap</th> <th>Trees</th> <th>Wine</th> <th>Coffee</th> <th>Beans</th> <th>Fruits</th> <th>Grains</th> <th>Juices</th> <th>Mushrooms</th> <th>PetFood</th> <th>Tofu</th> <th>WildHarvested</th>\n",
       "        </tr>\n",
       "    </thead>\n",
       "    <tbody>\n",
       "        <tr>\n",
       "            <td> Caledonia Farmers Market Association - Danville           </td> <td>https://www.caledoniafarmersmarket.com   </td> <td>https://www.facebook.com/Danville.VT.Farmers.Market/        </td> <td>nan     </td> <td>nan    </td> <td>nan                         </td> <td>nan                       </td> <td>Danville        </td> <td>Caledonia     </td> <td>Vermont   </td> <td>05828</td> <td>06/10/2020 to 10/07/2020</td> <td>Wed: 9:00 AM-1:00 PM;                                       </td> <td>nan                     </td> <td>nan                                                         </td> <td>nan        </td> <td>nan        </td> <td>nan        </td> <td>nan        </td> <td>-72.1403</td> <td>44.411 </td> <td>nan     </td> <td>Y     </td> <td>Y   </td> <td>N      </td> <td>Y    </td> <td>N   </td> <td>Y      </td> <td>Y         </td> <td>Y     </td> <td>Y     </td> <td>Y      </td> <td>Y   </td> <td>N      </td> <td>Y    </td> <td>Y         </td> <td>Y    </td> <td>Y   </td> <td>Y    </td> <td>Y   </td> <td>N      </td> <td>N   </td> <td>N     </td> <td>Y      </td> <td>Y       </td> <td>Y   </td> <td>Y    </td> <td>N   </td> <td>Y     </td> <td>Y    </td> <td>Y     </td> <td>N     </td> <td>N     </td> <td>Y        </td> <td>Y      </td> <td>N   </td> <td>N            </td>\n",
       "        </tr>\n",
       "        <tr>\n",
       "            <td>18th Street Farmer's Market                                </td> <td>nan                                      </td> <td>https://www.facebook.com/ScottsbluffFarmersMarket           </td> <td>nan     </td> <td>nan    </td> <td>nan                         </td> <td>18th and Broadway         </td> <td>Scottsbluff     </td> <td>Scotts Bluff  </td> <td>Nebraska  </td> <td>69361</td> <td>06/05/2021 to 06/05/2021</td> <td>Sat: 8:00 AM-11:00 AM;                                      </td> <td>nan                     </td> <td>nan                                                         </td> <td>nan        </td> <td>nan        </td> <td>nan        </td> <td>nan        </td> <td>-103.663</td> <td>41.8643</td> <td>nan     </td> <td>Y     </td> <td>N   </td> <td>N      </td> <td>Y    </td> <td>N   </td> <td>Y      </td> <td>Y         </td> <td>Y     </td> <td>Y     </td> <td>Y      </td> <td>Y   </td> <td>N      </td> <td>Y    </td> <td>Y         </td> <td>Y    </td> <td>Y   </td> <td>N    </td> <td>Y   </td> <td>N      </td> <td>N   </td> <td>Y     </td> <td>Y      </td> <td>Y       </td> <td>N   </td> <td>N    </td> <td>N   </td> <td>Y     </td> <td>Y    </td> <td>Y     </td> <td>N     </td> <td>N     </td> <td>N        </td> <td>N      </td> <td>N   </td> <td>N            </td>\n",
       "        </tr>\n",
       "        <tr>\n",
       "            <td>26th Annual Highlands Business Partnership's Farmers Market</td> <td>http://www.highlandsnj.com               </td> <td>https://www.facebook.com/pages/Highlands-Business-Partne ...</td> <td>nan     </td> <td>nan    </td> <td>visithighlandsnj - Instagram</td> <td>71 Waterwitch Avenue      </td> <td>Highlands       </td> <td>Monmouth      </td> <td>New Jersey</td> <td>07732</td> <td>06/06/2020              </td> <td>Sat: 8:30 AM-2:00 PM;                                       </td> <td>nan                     </td> <td>nan                                                         </td> <td>nan        </td> <td>nan        </td> <td>nan        </td> <td>nan        </td> <td>-73.9944</td> <td>40.4048</td> <td>nan     </td> <td>Y     </td> <td>Y   </td> <td>Y      </td> <td>Y    </td> <td>Y   </td> <td>Y      </td> <td>Y         </td> <td>Y     </td> <td>Y     </td> <td>Y      </td> <td>Y   </td> <td>N      </td> <td>Y    </td> <td>Y         </td> <td>Y    </td> <td>Y   </td> <td>N    </td> <td>N   </td> <td>N      </td> <td>Y   </td> <td>Y     </td> <td>N      </td> <td>N       </td> <td>Y   </td> <td>N    </td> <td>N   </td> <td>N     </td> <td>N    </td> <td>Y     </td> <td>N     </td> <td>Y     </td> <td>N        </td> <td>N      </td> <td>N   </td> <td>Y            </td>\n",
       "        </tr>\n",
       "        <tr>\n",
       "            <td>29 Palms Farmers' Market                                   </td> <td>nan                                      </td> <td>https://www.facebook.com/29palmsfarmersmarket/              </td> <td>nan     </td> <td>nan    </td> <td>IG @29palmsfarmersmarket    </td> <td>73484 Twentynine Palms Hwy</td> <td>Twentynine Palms</td> <td>San Bernardino</td> <td>California</td> <td>92277</td> <td>01/01/2020 to 01/01/2020</td> <td>Sat: 8:00 AM-1:00 PM;                                       </td> <td>nan                     </td> <td>nan                                                         </td> <td>nan        </td> <td>nan        </td> <td>nan        </td> <td>nan        </td> <td>-116.059</td> <td>34.1358</td> <td>nan     </td> <td>Y     </td> <td>N   </td> <td>N      </td> <td>N    </td> <td>N   </td> <td>Y      </td> <td>Y         </td> <td>N     </td> <td>Y     </td> <td>N      </td> <td>Y   </td> <td>N      </td> <td>Y    </td> <td>Y         </td> <td>Y    </td> <td>Y   </td> <td>N    </td> <td>N   </td> <td>N      </td> <td>Y   </td> <td>N     </td> <td>N      </td> <td>Y       </td> <td>Y   </td> <td>N    </td> <td>N   </td> <td>N     </td> <td>N    </td> <td>Y     </td> <td>N     </td> <td>Y     </td> <td>N        </td> <td>N      </td> <td>N   </td> <td>N            </td>\n",
       "        </tr>\n",
       "        <tr>\n",
       "            <td>2nd Street Market - Five Rivers MetroPark                  </td> <td>http://www.metroparks.org                </td> <td>https://www.facebook.com/2ndStreetMarket/                   </td> <td>nan     </td> <td>nan    </td> <td>nan                         </td> <td>600 E. 2nd Street         </td> <td>Dayton          </td> <td>Montgomery    </td> <td>Ohio      </td> <td>45402</td> <td>01/01/2018 to 05/31/2018</td> <td>Thu: 11:00 AM-3:00 PM;Fri: 11:00 AM-3:00 PM;Sat: 8:00 AM ...</td> <td>06/01/2018 to 12/31/2018</td> <td>Thu: 11:00 AM-3:00 PM;Fri: 11:00 AM-3:00 PM;Sat: 8:00 AM ...</td> <td>nan        </td> <td>nan        </td> <td>nan        </td> <td>nan        </td> <td>-84.181 </td> <td>39.7626</td> <td>nan     </td> <td>Y     </td> <td>N   </td> <td>Y      </td> <td>N    </td> <td>Y   </td> <td>Y      </td> <td>Y         </td> <td>Y     </td> <td>Y     </td> <td>Y      </td> <td>Y   </td> <td>N      </td> <td>Y    </td> <td>Y         </td> <td>Y    </td> <td>Y   </td> <td>Y    </td> <td>Y   </td> <td>N      </td> <td>Y   </td> <td>Y     </td> <td>Y      </td> <td>Y       </td> <td>Y   </td> <td>N    </td> <td>N   </td> <td>Y     </td> <td>Y    </td> <td>Y     </td> <td>Y     </td> <td>Y     </td> <td>Y        </td> <td>Y      </td> <td>N   </td> <td>Y            </td>\n",
       "        </tr>\n",
       "        <tr>\n",
       "            <td>3 French Hens French Country Market                        </td> <td>http://www.3frenchhensmarket.blogspot.com</td> <td>https://www.facebook.com/pages/3-French-Hens-French-Coun ...</td> <td>nan     </td> <td>nan    </td> <td>nan                         </td> <td>123 W. Illinois ave.      </td> <td>Morris          </td> <td>Grundy        </td> <td>Illinois  </td> <td>60450</td> <td>05/12/2018 to 10/13/2018</td> <td>Sat: 8:00 AM-2:00 PM;                                       </td> <td>11/09/2018 to 11/10/2018</td> <td>Fri: 4:00 PM-10:00 PM;Sat: 10:00 AM-3:00 PM;                </td> <td>nan        </td> <td>nan        </td> <td>nan        </td> <td>nan        </td> <td>-88.4252</td> <td>41.3564</td> <td>nan     </td> <td>Y     </td> <td>N   </td> <td>N      </td> <td>N    </td> <td>N   </td> <td>Y      </td> <td>Y         </td> <td>Y     </td> <td>Y     </td> <td>Y      </td> <td>Y   </td> <td>N      </td> <td>Y    </td> <td>Y         </td> <td>Y    </td> <td>Y   </td> <td>Y    </td> <td>Y   </td> <td>N      </td> <td>N   </td> <td>Y     </td> <td>Y      </td> <td>Y       </td> <td>Y   </td> <td>Y    </td> <td>N   </td> <td>Y     </td> <td>Y    </td> <td>Y     </td> <td>N     </td> <td>N     </td> <td>N        </td> <td>Y      </td> <td>N   </td> <td>N            </td>\n",
       "        </tr>\n",
       "        <tr>\n",
       "            <td>3rd Day Farmer's Market                                    </td> <td>http://www.3rddayfarm.com                </td> <td>facebook/ 3rd Day Farm                                      </td> <td>nan     </td> <td>nan    </td> <td>nan                         </td> <td>3234 S. LaChance Rd       </td> <td>Lake City       </td> <td>Missaukee     </td> <td>Michigan  </td> <td>49651</td> <td>nan                     </td> <td>Tue: 10:00 AM-5:00 PM;Wed: 10:00 AM-5:00 PM;Thu: 10:00 A ...</td> <td>nan                     </td> <td>nan                                                         </td> <td>nan        </td> <td>nan        </td> <td>nan        </td> <td>nan        </td> <td>-85.2961</td> <td>44.293 </td> <td>nan     </td> <td>Y     </td> <td>Y   </td> <td>Y      </td> <td>Y    </td> <td>Y   </td> <td>N      </td> <td>Y         </td> <td>Y     </td> <td>Y     </td> <td>Y      </td> <td>Y   </td> <td>N      </td> <td>Y    </td> <td>Y         </td> <td>Y    </td> <td>Y   </td> <td>Y    </td> <td>Y   </td> <td>N      </td> <td>N   </td> <td>Y     </td> <td>Y      </td> <td>N       </td> <td>Y   </td> <td>Y    </td> <td>N   </td> <td>N     </td> <td>N    </td> <td>Y     </td> <td>N     </td> <td>N     </td> <td>Y        </td> <td>N      </td> <td>N   </td> <td>Y            </td>\n",
       "        </tr>\n",
       "        <tr>\n",
       "            <td>4 Veggies & 3 Fruits Farmer’s Market                       </td> <td>nan                                      </td> <td>nan                                                         </td> <td>nan     </td> <td>nan    </td> <td>nan                         </td> <td>140 W 62nd Street         </td> <td>Chicago         </td> <td>Cook          </td> <td>Illinois  </td> <td>60621</td> <td>01/01/2021 to 01/01/2021</td> <td>Wed: 3:00 PM-8:00 PM;Sun: 9:00 AM-8:00 PM;                  </td> <td>nan                     </td> <td>nan                                                         </td> <td>nan        </td> <td>nan        </td> <td>nan        </td> <td>nan        </td> <td>-87.6296</td> <td>41.7819</td> <td>nan     </td> <td>Y     </td> <td>N   </td> <td>N      </td> <td>N    </td> <td>Y   </td> <td>N      </td> <td>N         </td> <td>N     </td> <td>Y     </td> <td>N      </td> <td>N   </td> <td>N      </td> <td>Y    </td> <td>N         </td> <td>Y    </td> <td>N   </td> <td>N    </td> <td>Y   </td> <td>N      </td> <td>Y   </td> <td>N     </td> <td>N      </td> <td>N       </td> <td>Y   </td> <td>N    </td> <td>N   </td> <td>Y     </td> <td>N    </td> <td>N     </td> <td>N     </td> <td>N     </td> <td>N        </td> <td>N      </td> <td>N   </td> <td>N            </td>\n",
       "        </tr>\n",
       "        <tr>\n",
       "            <td>61st Street Farmers Market                                 </td> <td>https://experimentalstation.org/market   </td> <td>61market                                                    </td> <td>61market</td> <td>nan    </td> <td>Instagram:                  </td> <td>6100 S. Blackstone Ave    </td> <td>Chicago         </td> <td>Cook          </td> <td>Illinois  </td> <td>60637</td> <td>05/12/2018 to 12/15/2018</td> <td>Sat: 9:00 AM-2:00 PM;                                       </td> <td>nan                     </td> <td>nan                                                         </td> <td>nan        </td> <td>nan        </td> <td>nan        </td> <td>nan        </td> <td>-87.5906</td> <td>41.7841</td> <td>nan     </td> <td>Y     </td> <td>N   </td> <td>N      </td> <td>N    </td> <td>Y   </td> <td>-      </td> <td>Y         </td> <td>Y     </td> <td>N     </td> <td>Y      </td> <td>Y   </td> <td>Y      </td> <td>Y    </td> <td>Y         </td> <td>Y    </td> <td>Y   </td> <td>Y    </td> <td>N   </td> <td>N      </td> <td>Y   </td> <td>N     </td> <td>N      </td> <td>Y       </td> <td>Y   </td> <td>N    </td> <td>N   </td> <td>Y     </td> <td>N    </td> <td>Y     </td> <td>N     </td> <td>Y     </td> <td>Y        </td> <td>N      </td> <td>N   </td> <td>N            </td>\n",
       "        </tr>\n",
       "        <tr>\n",
       "            <td>A Growers' Market                                          </td> <td>nan                                      </td> <td>nan                                                         </td> <td>nan     </td> <td>nan    </td> <td>nan                         </td> <td>229 Lake Ella Drive       </td> <td>Tallahassee     </td> <td>Leon          </td> <td>Florida   </td> <td>32303</td> <td>01/01/2018 to 12/31/2018</td> <td>Wed: 12:00 PM-6:00 PM;Sat: 11:00 AM-3:00 PM;                </td> <td>nan                     </td> <td>nan                                                         </td> <td>nan        </td> <td>nan        </td> <td>nan        </td> <td>nan        </td> <td>-84.2799</td> <td>30.462 </td> <td>nan     </td> <td>Y     </td> <td>Y   </td> <td>N      </td> <td>Y    </td> <td>Y   </td> <td>N      </td> <td>Y         </td> <td>Y     </td> <td>N     </td> <td>Y      </td> <td>Y   </td> <td>N      </td> <td>Y    </td> <td>Y         </td> <td>Y    </td> <td>Y   </td> <td>N    </td> <td>N   </td> <td>N      </td> <td>N   </td> <td>N     </td> <td>N      </td> <td>Y       </td> <td>Y   </td> <td>N    </td> <td>N   </td> <td>N     </td> <td>N    </td> <td>Y     </td> <td>N     </td> <td>N     </td> <td>Y        </td> <td>N      </td> <td>N   </td> <td>N            </td>\n",
       "        </tr>\n",
       "    </tbody>\n",
       "</table>\n",
       "<p>... (1671 rows omitted)</p>"
      ],
      "text/plain": [
       "MarketName                                                  | Website                                   | Facebook                                                     | Twitter  | Youtube | OtherMedia                   | street                     | city             | County         | State      | zip   | Season1Date              | Season1Time                                                  | Season2Date              | Season2Time                                                  | Season3Date | Season3Time | Season4Date | Season4Time | x        | y       | Location | Credit | WIC  | WICcash | SFMNP | SNAP | Organic | Bakedgoods | Cheese | Crafts | Flowers | Eggs | Seafood | Herbs | Vegetables | Honey | Jams | Maple | Meat | Nursery | Nuts | Plants | Poultry | Prepared | Soap | Trees | Wine | Coffee | Beans | Fruits | Grains | Juices | Mushrooms | PetFood | Tofu | WildHarvested\n",
       " Caledonia Farmers Market Association - Danville            | https://www.caledoniafarmersmarket.com    | https://www.facebook.com/Danville.VT.Farmers.Market/         | nan      | nan     | nan                          | nan                        | Danville         | Caledonia      | Vermont    | 05828 | 06/10/2020 to 10/07/2020 | Wed: 9:00 AM-1:00 PM;                                        | nan                      | nan                                                          | nan         | nan         | nan         | nan         | -72.1403 | 44.411  | nan      | Y      | Y    | N       | Y     | N    | Y       | Y          | Y      | Y      | Y       | Y    | N       | Y     | Y          | Y     | Y    | Y     | Y    | N       | N    | N      | Y       | Y        | Y    | Y     | N    | Y      | Y     | Y      | N      | N      | Y         | Y       | N    | N\n",
       "18th Street Farmer's Market                                 | nan                                       | https://www.facebook.com/ScottsbluffFarmersMarket            | nan      | nan     | nan                          | 18th and Broadway          | Scottsbluff      | Scotts Bluff   | Nebraska   | 69361 | 06/05/2021 to 06/05/2021 | Sat: 8:00 AM-11:00 AM;                                       | nan                      | nan                                                          | nan         | nan         | nan         | nan         | -103.663 | 41.8643 | nan      | Y      | N    | N       | Y     | N    | Y       | Y          | Y      | Y      | Y       | Y    | N       | Y     | Y          | Y     | Y    | N     | Y    | N       | N    | Y      | Y       | Y        | N    | N     | N    | Y      | Y     | Y      | N      | N      | N         | N       | N    | N\n",
       "26th Annual Highlands Business Partnership's Farmers Market | http://www.highlandsnj.com                | https://www.facebook.com/pages/Highlands-Business-Partne ... | nan      | nan     | visithighlandsnj - Instagram | 71 Waterwitch Avenue       | Highlands        | Monmouth       | New Jersey | 07732 | 06/06/2020               | Sat: 8:30 AM-2:00 PM;                                        | nan                      | nan                                                          | nan         | nan         | nan         | nan         | -73.9944 | 40.4048 | nan      | Y      | Y    | Y       | Y     | Y    | Y       | Y          | Y      | Y      | Y       | Y    | N       | Y     | Y          | Y     | Y    | N     | N    | N       | Y    | Y      | N       | N        | Y    | N     | N    | N      | N     | Y      | N      | Y      | N         | N       | N    | Y\n",
       "29 Palms Farmers' Market                                    | nan                                       | https://www.facebook.com/29palmsfarmersmarket/               | nan      | nan     | IG @29palmsfarmersmarket     | 73484 Twentynine Palms Hwy | Twentynine Palms | San Bernardino | California | 92277 | 01/01/2020 to 01/01/2020 | Sat: 8:00 AM-1:00 PM;                                        | nan                      | nan                                                          | nan         | nan         | nan         | nan         | -116.059 | 34.1358 | nan      | Y      | N    | N       | N     | N    | Y       | Y          | N      | Y      | N       | Y    | N       | Y     | Y          | Y     | Y    | N     | N    | N       | Y    | N      | N       | Y        | Y    | N     | N    | N      | N     | Y      | N      | Y      | N         | N       | N    | N\n",
       "2nd Street Market - Five Rivers MetroPark                   | http://www.metroparks.org                 | https://www.facebook.com/2ndStreetMarket/                    | nan      | nan     | nan                          | 600 E. 2nd Street          | Dayton           | Montgomery     | Ohio       | 45402 | 01/01/2018 to 05/31/2018 | Thu: 11:00 AM-3:00 PM;Fri: 11:00 AM-3:00 PM;Sat: 8:00 AM ... | 06/01/2018 to 12/31/2018 | Thu: 11:00 AM-3:00 PM;Fri: 11:00 AM-3:00 PM;Sat: 8:00 AM ... | nan         | nan         | nan         | nan         | -84.181  | 39.7626 | nan      | Y      | N    | Y       | N     | Y    | Y       | Y          | Y      | Y      | Y       | Y    | N       | Y     | Y          | Y     | Y    | Y     | Y    | N       | Y    | Y      | Y       | Y        | Y    | N     | N    | Y      | Y     | Y      | Y      | Y      | Y         | Y       | N    | Y\n",
       "3 French Hens French Country Market                         | http://www.3frenchhensmarket.blogspot.com | https://www.facebook.com/pages/3-French-Hens-French-Coun ... | nan      | nan     | nan                          | 123 W. Illinois ave.       | Morris           | Grundy         | Illinois   | 60450 | 05/12/2018 to 10/13/2018 | Sat: 8:00 AM-2:00 PM;                                        | 11/09/2018 to 11/10/2018 | Fri: 4:00 PM-10:00 PM;Sat: 10:00 AM-3:00 PM;                 | nan         | nan         | nan         | nan         | -88.4252 | 41.3564 | nan      | Y      | N    | N       | N     | N    | Y       | Y          | Y      | Y      | Y       | Y    | N       | Y     | Y          | Y     | Y    | Y     | Y    | N       | N    | Y      | Y       | Y        | Y    | Y     | N    | Y      | Y     | Y      | N      | N      | N         | Y       | N    | N\n",
       "3rd Day Farmer's Market                                     | http://www.3rddayfarm.com                 | facebook/ 3rd Day Farm                                       | nan      | nan     | nan                          | 3234 S. LaChance Rd        | Lake City        | Missaukee      | Michigan   | 49651 | nan                      | Tue: 10:00 AM-5:00 PM;Wed: 10:00 AM-5:00 PM;Thu: 10:00 A ... | nan                      | nan                                                          | nan         | nan         | nan         | nan         | -85.2961 | 44.293  | nan      | Y      | Y    | Y       | Y     | Y    | N       | Y          | Y      | Y      | Y       | Y    | N       | Y     | Y          | Y     | Y    | Y     | Y    | N       | N    | Y      | Y       | N        | Y    | Y     | N    | N      | N     | Y      | N      | N      | Y         | N       | N    | Y\n",
       "4 Veggies & 3 Fruits Farmer’s Market                        | nan                                       | nan                                                          | nan      | nan     | nan                          | 140 W 62nd Street          | Chicago          | Cook           | Illinois   | 60621 | 01/01/2021 to 01/01/2021 | Wed: 3:00 PM-8:00 PM;Sun: 9:00 AM-8:00 PM;                   | nan                      | nan                                                          | nan         | nan         | nan         | nan         | -87.6296 | 41.7819 | nan      | Y      | N    | N       | N     | Y    | N       | N          | N      | Y      | N       | N    | N       | Y     | N          | Y     | N    | N     | Y    | N       | Y    | N      | N       | N        | Y    | N     | N    | Y      | N     | N      | N      | N      | N         | N       | N    | N\n",
       "61st Street Farmers Market                                  | https://experimentalstation.org/market    | 61market                                                     | 61market | nan     | Instagram:                   | 6100 S. Blackstone Ave     | Chicago          | Cook           | Illinois   | 60637 | 05/12/2018 to 12/15/2018 | Sat: 9:00 AM-2:00 PM;                                        | nan                      | nan                                                          | nan         | nan         | nan         | nan         | -87.5906 | 41.7841 | nan      | Y      | N    | N       | N     | Y    | -       | Y          | Y      | N      | Y       | Y    | Y       | Y     | Y          | Y     | Y    | Y     | N    | N       | Y    | N      | N       | Y        | Y    | N     | N    | Y      | N     | Y      | N      | Y      | Y         | N       | N    | N\n",
       "A Growers' Market                                           | nan                                       | nan                                                          | nan      | nan     | nan                          | 229 Lake Ella Drive        | Tallahassee      | Leon           | Florida    | 32303 | 01/01/2018 to 12/31/2018 | Wed: 12:00 PM-6:00 PM;Sat: 11:00 AM-3:00 PM;                 | nan                      | nan                                                          | nan         | nan         | nan         | nan         | -84.2799 | 30.462  | nan      | Y      | Y    | N       | Y     | Y    | N       | Y          | Y      | N      | Y       | Y    | N       | Y     | Y          | Y     | Y    | N     | N    | N       | N    | N      | N       | Y        | Y    | N     | N    | N      | N     | Y      | N      | N      | Y         | N       | N    | N\n",
       "... (1671 rows omitted)"
      ]
     },
     "execution_count": 20,
     "metadata": {},
     "output_type": "execute_result"
    }
   ],
   "source": [
    "farmers_markets.drop(\"FMID\", \"updateTime\")"
   ]
  },
  {
   "cell_type": "markdown",
   "metadata": {},
   "source": [
    "### `where`"
   ]
  },
  {
   "cell_type": "markdown",
   "metadata": {},
   "source": [
    "Now let's say we want a table of all farmers' markets in California. We can use the table method `where` to do this. \n",
    "\n",
    "Run the following cell to filter the table to include only California farmers' markets."
   ]
  },
  {
   "cell_type": "code",
   "execution_count": 27,
   "metadata": {},
   "outputs": [
    {
     "data": {
      "text/html": [
       "<table border=\"1\" class=\"dataframe\">\n",
       "    <thead>\n",
       "        <tr>\n",
       "            <th>MarketName</th> <th>city</th> <th>County</th> <th>State</th> <th>x</th> <th>y</th>\n",
       "        </tr>\n",
       "    </thead>\n",
       "    <tbody>\n",
       "        <tr>\n",
       "            <td>29 Palms Farmers' Market                            </td> <td>Twentynine Palms     </td> <td>San Bernardino</td> <td>California</td> <td>-116.059</td> <td>34.1358</td>\n",
       "        </tr>\n",
       "        <tr>\n",
       "            <td>Alturas Farmers Market                              </td> <td>Alturas              </td> <td>Modoc         </td> <td>California</td> <td>-120.542</td> <td>41.4839</td>\n",
       "        </tr>\n",
       "        <tr>\n",
       "            <td>Atwater Village Farmers' Market                     </td> <td>Los Angeles          </td> <td>Los Angeles   </td> <td>California</td> <td>-118.26 </td> <td>34.1178</td>\n",
       "        </tr>\n",
       "        <tr>\n",
       "            <td>Barm Bargains Market                                </td> <td>Garden Valley        </td> <td>El Dorado     </td> <td>California</td> <td>-120.878</td> <td>38.8402</td>\n",
       "        </tr>\n",
       "        <tr>\n",
       "            <td>Benica Certified Farmers Market                     </td> <td>Benicia              </td> <td>Solano        </td> <td>California</td> <td>-122.161</td> <td>38.0462</td>\n",
       "        </tr>\n",
       "        <tr>\n",
       "            <td>Beverly Hills Farmers Market                        </td> <td>Beverly Hills        </td> <td>Los Angeles   </td> <td>California</td> <td>-118.399</td> <td>34.0737</td>\n",
       "        </tr>\n",
       "        <tr>\n",
       "            <td>Big Bear Farmers Market                             </td> <td>City of Big Bear Lake</td> <td>San Bernardino</td> <td>California</td> <td>-116.867</td> <td>34.2608</td>\n",
       "        </tr>\n",
       "        <tr>\n",
       "            <td>Burbank Certified Farmers' Market                   </td> <td>Burbank              </td> <td>Los Angeles   </td> <td>California</td> <td>-118.308</td> <td>34.1828</td>\n",
       "        </tr>\n",
       "        <tr>\n",
       "            <td>CalaverasGROWN Certified Farmers' Market San Andreas</td> <td>San Andreas          </td> <td>Calaveras     </td> <td>California</td> <td>-120.668</td> <td>38.1912</td>\n",
       "        </tr>\n",
       "        <tr>\n",
       "            <td>CalaverasGROWN Murphys Certified Farmers' Market    </td> <td>Murphys              </td> <td>Calaveras     </td> <td>California</td> <td>-120.464</td> <td>38.1369</td>\n",
       "        </tr>\n",
       "    </tbody>\n",
       "</table>\n",
       "<p>... (126 rows omitted)</p>"
      ],
      "text/plain": [
       "MarketName                                           | city                  | County         | State      | x        | y\n",
       "29 Palms Farmers' Market                             | Twentynine Palms      | San Bernardino | California | -116.059 | 34.1358\n",
       "Alturas Farmers Market                               | Alturas               | Modoc          | California | -120.542 | 41.4839\n",
       "Atwater Village Farmers' Market                      | Los Angeles           | Los Angeles    | California | -118.26  | 34.1178\n",
       "Barm Bargains Market                                 | Garden Valley         | El Dorado      | California | -120.878 | 38.8402\n",
       "Benica Certified Farmers Market                      | Benicia               | Solano         | California | -122.161 | 38.0462\n",
       "Beverly Hills Farmers Market                         | Beverly Hills         | Los Angeles    | California | -118.399 | 34.0737\n",
       "Big Bear Farmers Market                              | City of Big Bear Lake | San Bernardino | California | -116.867 | 34.2608\n",
       "Burbank Certified Farmers' Market                    | Burbank               | Los Angeles    | California | -118.308 | 34.1828\n",
       "CalaverasGROWN Certified Farmers' Market San Andreas | San Andreas           | Calaveras      | California | -120.668 | 38.1912\n",
       "CalaverasGROWN Murphys Certified Farmers' Market     | Murphys               | Calaveras      | California | -120.464 | 38.1369\n",
       "... (126 rows omitted)"
      ]
     },
     "execution_count": 27,
     "metadata": {},
     "output_type": "execute_result"
    }
   ],
   "source": [
    "california_farmers_markets = farmers_markets_locations.where('State', are.equal_to('California'))\n",
    "california_farmers_markets"
   ]
  },
  {
   "cell_type": "markdown",
   "metadata": {},
   "source": [
    "Ignore the syntax for the moment.  Instead, try to read that line like this:\n",
    "\n",
    "> Assign the name **`california_farmers_markets`** to a table whose rows are the rows in the **`farmers_markets_locations`** table **`where`** the **`'State'`**s **`are` `equal` `to` `California`**."
   ]
  },
  {
   "cell_type": "markdown",
   "metadata": {},
   "source": [
    "Let's dive into the details a bit more.  `where` takes 2 arguments:\n",
    "\n",
    "1. The name of a column.  `where` finds rows where that column's values meet some criterion.\n",
    "2. A predicate that describes the criterion that the column needs to meet.\n",
    "\n",
    "The predicate in the example above called the function `are.equal_to` with the value we wanted, 'California'.  We'll see other predicates soon.\n",
    "\n",
    "`where` returns a table that's a copy of the original table, but **with only the rows that meet the given predicate**."
   ]
  },
  {
   "cell_type": "markdown",
   "metadata": {},
   "source": [
    "#### Task 04 📍"
   ]
  },
  {
   "cell_type": "markdown",
   "metadata": {},
   "source": [
    "Use `california_farmers_markets` to create a table called `sf_markets` containing farmers' markets in San Francisco, California. \n",
    "\n",
    "**Note:** These aren't all of the markets in the city, but they are the markets listed in USDA's data set."
   ]
  },
  {
   "cell_type": "code",
   "execution_count": 28,
   "metadata": {
    "tags": []
   },
   "outputs": [
    {
     "data": {
      "text/html": [
       "<table border=\"1\" class=\"dataframe\">\n",
       "    <thead>\n",
       "        <tr>\n",
       "            <th>MarketName</th> <th>city</th> <th>County</th> <th>State</th> <th>x</th> <th>y</th>\n",
       "        </tr>\n",
       "    </thead>\n",
       "    <tbody>\n",
       "        <tr>\n",
       "            <td>Ferry Plaza Farmers Market                    </td> <td>San Francisco</td> <td>San Francisco</td> <td>California</td> <td>-122.394</td> <td>37.7952</td>\n",
       "        </tr>\n",
       "        <tr>\n",
       "            <td>Mission Community Market                      </td> <td>San Francisco</td> <td>San Francisco</td> <td>California</td> <td>-122.42 </td> <td>37.7554</td>\n",
       "        </tr>\n",
       "        <tr>\n",
       "            <td>San Francisco Certified Alemany Farmers Market</td> <td>San Francisco</td> <td>San Francisco</td> <td>California</td> <td>-122.409</td> <td>37.7373</td>\n",
       "        </tr>\n",
       "    </tbody>\n",
       "</table>"
      ],
      "text/plain": [
       "MarketName                                     | city          | County        | State      | x        | y\n",
       "Ferry Plaza Farmers Market                     | San Francisco | San Francisco | California | -122.394 | 37.7952\n",
       "Mission Community Market                       | San Francisco | San Francisco | California | -122.42  | 37.7554\n",
       "San Francisco Certified Alemany Farmers Market | San Francisco | San Francisco | California | -122.409 | 37.7373"
      ]
     },
     "execution_count": 28,
     "metadata": {},
     "output_type": "execute_result"
    }
   ],
   "source": [
    "sf_markets = california_farmers_markets.where('city', are.equal_to('San Francisco'))\n",
    "sf_markets"
   ]
  },
  {
   "cell_type": "code",
   "execution_count": 29,
   "metadata": {
    "deletable": false,
    "editable": false
   },
   "outputs": [
    {
     "data": {
      "text/html": [
       "<p><strong><pre style='display: inline;'>task_04</pre></strong> passed! ✨</p><p><strong><pre style='display: inline;'>task_04 - 1</pre> message:</strong> ✅ It seems you have the correct number of markets.</p><p><strong><pre style='display: inline;'>task_04 - 2</pre> message:</strong> ✅ You've filtered the table to just San Francisco markets.</p>"
      ],
      "text/plain": [
       "task_04 results: All test cases passed!\n",
       "task_04 - 1 message: ✅ It seems you have the correct number of markets.\n",
       "task_04 - 2 message: ✅ You've filtered the table to just San Francisco markets."
      ]
     },
     "execution_count": 29,
     "metadata": {},
     "output_type": "execute_result"
    }
   ],
   "source": [
    "grader.check(\"task_04\")"
   ]
  },
  {
   "cell_type": "markdown",
   "metadata": {},
   "source": [
    "So far we've only been using `where` with the predicate that requires finding the values in a column to be *exactly* equal to a certain value. However, there are many other predicates. Here are a few:\n",
    "\n",
    "|Predicate|Example|Result|\n",
    "|-|-|-|\n",
    "|`are.equal_to`|`are.equal_to(50)`|Find rows with values equal to 50|\n",
    "|`are.not_equal_to`|`are.not_equal_to(50)`|Find rows with values not equal to 50|\n",
    "|`are.above`|`are.above(50)`|Find rows with values above (and not equal to) 50|\n",
    "|`are.above_or_equal_to`|`are.above_or_equal_to(50)`|Find rows with values above 50 or equal to 50|\n",
    "|`are.below`|`are.below(50)`|Find rows with values below 50|\n",
    "|`are.between`|`are.between(2, 10)`|Find rows with values above or equal to 2 and below 10|"
   ]
  },
  {
   "cell_type": "markdown",
   "metadata": {},
   "source": [
    "### `group` and `sort`"
   ]
  },
  {
   "cell_type": "markdown",
   "metadata": {},
   "source": [
    "Now, suppose we want to answer a question about farmers' markets in the US. For example, which state(s) have the most number of farmers' markets? \n",
    "\n",
    "To answer this, we'll `group` the table `farmers_markets_locations` by 'State' and then `sort` the resulting table by 'count'.\n",
    "\n",
    "The `group` table method in the `datascience` library is a powerful tool for summarizing and aggregating data based on the unique values within one or more columns. At its core, it works by grouping rows in a table based on the distinct values in one or more specified columns.\n",
    "\n",
    "Run the following cell which takes `farmers_market_locations` and creates a new table that will group the farmers' markets by `'State'` and list the counts for the number of farmers' markets in each state. We will go into greater depth with the `group` method later in the course."
   ]
  },
  {
   "cell_type": "code",
   "execution_count": 30,
   "metadata": {},
   "outputs": [
    {
     "data": {
      "text/html": [
       "<table border=\"1\" class=\"dataframe\">\n",
       "    <thead>\n",
       "        <tr>\n",
       "            <th>State</th> <th>count</th>\n",
       "        </tr>\n",
       "    </thead>\n",
       "    <tbody>\n",
       "        <tr>\n",
       "            <td>Alabama             </td> <td>17   </td>\n",
       "        </tr>\n",
       "        <tr>\n",
       "            <td>Alaska              </td> <td>8    </td>\n",
       "        </tr>\n",
       "        <tr>\n",
       "            <td>Arizona             </td> <td>11   </td>\n",
       "        </tr>\n",
       "        <tr>\n",
       "            <td>Arkansas            </td> <td>30   </td>\n",
       "        </tr>\n",
       "        <tr>\n",
       "            <td>California          </td> <td>136  </td>\n",
       "        </tr>\n",
       "        <tr>\n",
       "            <td>Colorado            </td> <td>25   </td>\n",
       "        </tr>\n",
       "        <tr>\n",
       "            <td>Connecticut         </td> <td>28   </td>\n",
       "        </tr>\n",
       "        <tr>\n",
       "            <td>Delaware            </td> <td>7    </td>\n",
       "        </tr>\n",
       "        <tr>\n",
       "            <td>District of Columbia</td> <td>8    </td>\n",
       "        </tr>\n",
       "        <tr>\n",
       "            <td>Florida             </td> <td>36   </td>\n",
       "        </tr>\n",
       "    </tbody>\n",
       "</table>\n",
       "<p>... (43 rows omitted)</p>"
      ],
      "text/plain": [
       "State                | count\n",
       "Alabama              | 17\n",
       "Alaska               | 8\n",
       "Arizona              | 11\n",
       "Arkansas             | 30\n",
       "California           | 136\n",
       "Colorado             | 25\n",
       "Connecticut          | 28\n",
       "Delaware             | 7\n",
       "District of Columbia | 8\n",
       "Florida              | 36\n",
       "... (43 rows omitted)"
      ]
     },
     "execution_count": 30,
     "metadata": {},
     "output_type": "execute_result"
    }
   ],
   "source": [
    "farmers_markets_locations.group('State')"
   ]
  },
  {
   "cell_type": "markdown",
   "metadata": {},
   "source": [
    "Next, to find the states with the most numbers of farmers' markets in this data set, we will sort the 'count' column in descending order and the first states listed will answer our question. \n",
    "\n",
    "Run the following cell to find the states in the data set with the most farmers' markets."
   ]
  },
  {
   "cell_type": "code",
   "execution_count": 31,
   "metadata": {},
   "outputs": [
    {
     "data": {
      "text/html": [
       "<table border=\"1\" class=\"dataframe\">\n",
       "    <thead>\n",
       "        <tr>\n",
       "            <th>State</th> <th>count</th>\n",
       "        </tr>\n",
       "    </thead>\n",
       "    <tbody>\n",
       "        <tr>\n",
       "            <td>California  </td> <td>136  </td>\n",
       "        </tr>\n",
       "        <tr>\n",
       "            <td>New York    </td> <td>87   </td>\n",
       "        </tr>\n",
       "        <tr>\n",
       "            <td>Texas       </td> <td>78   </td>\n",
       "        </tr>\n",
       "        <tr>\n",
       "            <td>Indiana     </td> <td>74   </td>\n",
       "        </tr>\n",
       "        <tr>\n",
       "            <td>Ohio        </td> <td>71   </td>\n",
       "        </tr>\n",
       "        <tr>\n",
       "            <td>Kentucky    </td> <td>70   </td>\n",
       "        </tr>\n",
       "        <tr>\n",
       "            <td>Michigan    </td> <td>68   </td>\n",
       "        </tr>\n",
       "        <tr>\n",
       "            <td>Virginia    </td> <td>64   </td>\n",
       "        </tr>\n",
       "        <tr>\n",
       "            <td>Pennsylvania</td> <td>61   </td>\n",
       "        </tr>\n",
       "        <tr>\n",
       "            <td>Wisconsin   </td> <td>60   </td>\n",
       "        </tr>\n",
       "    </tbody>\n",
       "</table>\n",
       "<p>... (43 rows omitted)</p>"
      ],
      "text/plain": [
       "State        | count\n",
       "California   | 136\n",
       "New York     | 87\n",
       "Texas        | 78\n",
       "Indiana      | 74\n",
       "Ohio         | 71\n",
       "Kentucky     | 70\n",
       "Michigan     | 68\n",
       "Virginia     | 64\n",
       "Pennsylvania | 61\n",
       "Wisconsin    | 60\n",
       "... (43 rows omitted)"
      ]
     },
     "execution_count": 31,
     "metadata": {},
     "output_type": "execute_result"
    }
   ],
   "source": [
    "farmers_markets_locations.group('State').sort('count', True)"
   ]
  },
  {
   "cell_type": "markdown",
   "metadata": {},
   "source": [
    "Sorting the table by the count values in descending order, put California at the top of the table to reveal that we have the most number of farmers' markets listed in this particular database."
   ]
  },
  {
   "cell_type": "markdown",
   "metadata": {},
   "source": [
    "#### Task 05 📍"
   ]
  },
  {
   "cell_type": "markdown",
   "metadata": {
    "deletable": false,
    "editable": false
   },
   "source": [
    "Now, do the same thing with California farmers' markets and 'County'. What are the top eight counties in California that have the most farmers' markets?\n",
    "\n",
    "To answer this, `group` `california_farmers_markets` by 'County', then `sort` it in descending order by 'count', and then `take` the first eight rows of the resulting table.  Call the new table `top_8_by_county`."
   ]
  },
  {
   "cell_type": "code",
   "execution_count": 32,
   "metadata": {
    "tags": []
   },
   "outputs": [
    {
     "data": {
      "text/html": [
       "<table border=\"1\" class=\"dataframe\">\n",
       "    <thead>\n",
       "        <tr>\n",
       "            <th>County</th> <th>count</th>\n",
       "        </tr>\n",
       "    </thead>\n",
       "    <tbody>\n",
       "        <tr>\n",
       "            <td>Los Angeles   </td> <td>28   </td>\n",
       "        </tr>\n",
       "        <tr>\n",
       "            <td>San Bernardino</td> <td>10   </td>\n",
       "        </tr>\n",
       "        <tr>\n",
       "            <td>Sonoma        </td> <td>10   </td>\n",
       "        </tr>\n",
       "        <tr>\n",
       "            <td>Alameda       </td> <td>7    </td>\n",
       "        </tr>\n",
       "        <tr>\n",
       "            <td>Santa Clara   </td> <td>7    </td>\n",
       "        </tr>\n",
       "        <tr>\n",
       "            <td>El Dorado     </td> <td>6    </td>\n",
       "        </tr>\n",
       "        <tr>\n",
       "            <td>San Diego     </td> <td>6    </td>\n",
       "        </tr>\n",
       "        <tr>\n",
       "            <td>Fresno        </td> <td>5    </td>\n",
       "        </tr>\n",
       "    </tbody>\n",
       "</table>"
      ],
      "text/plain": [
       "County         | count\n",
       "Los Angeles    | 28\n",
       "San Bernardino | 10\n",
       "Sonoma         | 10\n",
       "Alameda        | 7\n",
       "Santa Clara    | 7\n",
       "El Dorado      | 6\n",
       "San Diego      | 6\n",
       "Fresno         | 5"
      ]
     },
     "execution_count": 32,
     "metadata": {},
     "output_type": "execute_result"
    }
   ],
   "source": [
    "markets_by_county = california_farmers_markets.group('County')\n",
    "counties_sorted = markets_by_county.sort('count', descending=True)\n",
    "top_8_by_county = counties_sorted.take[:8]\n",
    "top_8_by_county"
   ]
  },
  {
   "cell_type": "code",
   "execution_count": 33,
   "metadata": {
    "deletable": false,
    "editable": false
   },
   "outputs": [
    {
     "data": {
      "text/html": [
       "<p><strong><pre style='display: inline;'>task_05</pre></strong> passed! 🎉</p><p><strong><pre style='display: inline;'>task_05 - 1</pre> message:</strong> ✅ You've made a table with the correct name.</p><p><strong><pre style='display: inline;'>task_05 - 2</pre> message:</strong> ✅ It seems like you have the correct number of columns!</p><p><strong><pre style='display: inline;'>task_05 - 3</pre> message:</strong> ✅ It seems like you have the values sorted correctly!</p>"
      ],
      "text/plain": [
       "task_05 results: All test cases passed!\n",
       "task_05 - 1 message: ✅ You've made a table with the correct name.\n",
       "task_05 - 2 message: ✅ It seems like you have the correct number of columns!\n",
       "task_05 - 3 message: ✅ It seems like you have the values sorted correctly!"
      ]
     },
     "execution_count": 33,
     "metadata": {},
     "output_type": "execute_result"
    }
   ],
   "source": [
    "grader.check(\"task_05\")"
   ]
  },
  {
   "cell_type": "markdown",
   "metadata": {},
   "source": [
    "There are many more table operations. It is challenging to memorize them all and you do not need to do that! Instead, reference documentation such as the [`datascience` documentation page on `Tables`](https://datascience.readthedocs.io/en/master/tables.html) to reference a summary of all the operations for tables."
   ]
  },
  {
   "cell_type": "markdown",
   "metadata": {},
   "source": [
    "## Visualizations and Attributes"
   ]
  },
  {
   "cell_type": "markdown",
   "metadata": {},
   "source": [
    "Visualizing data is an essential step in gaining insights from the vast and complex datasets that permeate our modern world. There exists a myriad of techniques and tools to transform raw data into comprehensible, meaningful representations. Among these techniques, a set of standard visualizations has emerged as go-to options, each with its unique strengths and applications. The choice of which standard visualization to employ hinges on various factors, a key factor among them being the attribute type of the data under investigation. It's important to note that this attribute type may not always align with the data type in which information is stored, making the selection of an appropriate visualization an artful and pivotal decision in the data analysis process."
   ]
  },
  {
   "cell_type": "markdown",
   "metadata": {},
   "source": [
    "To streamline our understanding of attribute types for data visualization, we can simplify them into two broad categories: **numerical** and **categorical**. \n",
    "* Numerical attributes encompass data that consists of continuous or discrete numeric values. These attributes are typically quantitative and can be operated on mathematically. Examples of numerical attributes include variables like age, temperature, or income.\n",
    "* Categorical attributes deal with data that fall into distinct categories or labels. They represent qualitative information where mathematical operations typically do not have clear meanings. Examples of categorical attributes include gender (male, female, nonbinary), color (red, blue, green), or product categories (electronics, clothing, food).\n",
    "\n",
    "By classifying attributes into these two fundamental types, we can better tailor our choice of visualization methods to the nature of the data, allowing us to extract more valuable insights from it."
   ]
  },
  {
   "cell_type": "markdown",
   "metadata": {},
   "source": [
    "### Numbers for Categories"
   ]
  },
  {
   "cell_type": "markdown",
   "metadata": {},
   "source": [
    "Just because an attribute has values that are numbers, does not mean you should treat the attribute as numerical. Postal codes are numbers. However, the attribute type for postal codes is categorical rather than numerical. Postal codes represent specific geographical regions and are not meant for mathematical operations like addition or subtraction. For example, `90210` (Beverly Hills) and `10001` (Manhattan) are categorical values representing different locations. Choosing an appropriate visualization method for postal codes would involve treating them categorically, not numerically, despite their data type."
   ]
  },
  {
   "cell_type": "markdown",
   "metadata": {
    "tags": []
   },
   "source": [
    "### Task 06 📍"
   ]
  },
  {
   "cell_type": "markdown",
   "metadata": {
    "deletable": false,
    "editable": false
   },
   "source": [
    "Which of the following attributes are categorical in nature? Assign `categorical_attributes` to an array with the numbers for the variables that represent categorical attributes.\n",
    "\n",
    "1. Height in centimeters\n",
    "2. Eye color (e.g., blue, brown, green)\n",
    "3. Temperature in degrees Celsius\n",
    "4. Years of education completed\n",
    "5. Vehicle make and model (e.g., Toyota Camry)\n",
    "6. Employee identification number\n",
    "7. Blood type (e.g., A, B, AB, O)\n",
    "8. Stock prices\n",
    "9. Time of day (e.g., morning, afternoon, evening)\n",
    "10. Mobile phone number"
   ]
  },
  {
   "cell_type": "code",
   "execution_count": 41,
   "metadata": {
    "tags": []
   },
   "outputs": [],
   "source": [
    "categorical_attributes = make_array(2, 5, 6, 7, 9, 10)"
   ]
  },
  {
   "cell_type": "code",
   "execution_count": 42,
   "metadata": {
    "deletable": false,
    "editable": false
   },
   "outputs": [
    {
     "data": {
      "text/html": [
       "<p><strong><pre style='display: inline;'>task_06</pre></strong> passed! 🚀</p><p><strong><pre style='display: inline;'>task_06 - 1</pre> message:</strong> ✅ categorical_attributes is an array.</p><p><strong><pre style='display: inline;'>task_06 - 2</pre> message:</strong> ✅ categorical_attributes contains numbers 1 - 10.</p><p><strong><pre style='display: inline;'>task_06 - 3</pre> message:</strong> ✅ Great work on identifying all of the categorical attributes!</p>"
      ],
      "text/plain": [
       "task_06 results: All test cases passed!\n",
       "task_06 - 1 message: ✅ categorical_attributes is an array.\n",
       "task_06 - 2 message: ✅ categorical_attributes contains numbers 1 - 10.\n",
       "task_06 - 3 message: ✅ Great work on identifying all of the categorical attributes!"
      ]
     },
     "execution_count": 42,
     "metadata": {},
     "output_type": "execute_result"
    }
   ],
   "source": [
    "grader.check(\"task_06\")"
   ]
  },
  {
   "cell_type": "markdown",
   "metadata": {},
   "source": [
    "## Bar Charts"
   ]
  },
  {
   "cell_type": "markdown",
   "metadata": {},
   "source": [
    "When it comes to visualizing categorical data, one of the standard and effective methods is the use of bar charts. Bar charts allow us to represent categorical variables by displaying their frequencies or proportions as bars of different lengths or heights. \n",
    "\n",
    "In Python, you can create bar charts easily using libraries like `matplotlib` or `datascience`. Specifically, the `datascience` library provides the `bar` and `barh` table methods, which simplify the process of generating bar charts. The `bar` method is used for vertical bar charts, while the `barh` method is employed for horizontal bar charts."
   ]
  },
  {
   "cell_type": "markdown",
   "metadata": {},
   "source": [
    "Run the following code cell to create the table `car_inventory`."
   ]
  },
  {
   "cell_type": "code",
   "execution_count": 45,
   "metadata": {},
   "outputs": [
    {
     "data": {
      "text/html": [
       "<table border=\"1\" class=\"dataframe\">\n",
       "    <thead>\n",
       "        <tr>\n",
       "            <th>Car Type</th> <th>Count</th>\n",
       "        </tr>\n",
       "    </thead>\n",
       "    <tbody>\n",
       "        <tr>\n",
       "            <td>Sedan    </td> <td>25   </td>\n",
       "        </tr>\n",
       "        <tr>\n",
       "            <td>SUV      </td> <td>15   </td>\n",
       "        </tr>\n",
       "        <tr>\n",
       "            <td>Truck    </td> <td>12   </td>\n",
       "        </tr>\n",
       "        <tr>\n",
       "            <td>Hatchback</td> <td>8    </td>\n",
       "        </tr>\n",
       "    </tbody>\n",
       "</table>"
      ],
      "text/plain": [
       "Car Type  | Count\n",
       "Sedan     | 25\n",
       "SUV       | 15\n",
       "Truck     | 12\n",
       "Hatchback | 8"
      ]
     },
     "execution_count": 45,
     "metadata": {},
     "output_type": "execute_result"
    }
   ],
   "source": [
    "car_inventory = Table().with_columns(\n",
    "    'Car Type', ['Sedan', 'SUV', 'Truck', 'Hatchback'],\n",
    "    'Count', [25, 15, 12, 8]\n",
    ")\n",
    "car_inventory"
   ]
  },
  {
   "cell_type": "markdown",
   "metadata": {},
   "source": [
    "Using the `barh` table method, you can create a horizontal bar chart to visualize the distribution of car types in `car_inventory`.\n",
    "\n",
    "Run the following code cell to generate the bar chart."
   ]
  },
  {
   "cell_type": "code",
   "execution_count": 46,
   "metadata": {},
   "outputs": [
    {
     "data": {
      "image/png": "[encoded data removed]",
      "text/plain": [
       "<Figure size 600x400 with 1 Axes>"
      ]
     },
     "metadata": {},
     "output_type": "display_data"
    }
   ],
   "source": [
    "car_inventory.barh('Car Type', 'Count')\n",
    "\n",
    "# Optional Customization\n",
    "plt.title('Distribution of Car Types')\n",
    "plt.show()"
   ]
  },
  {
   "cell_type": "markdown",
   "metadata": {},
   "source": [
    "This visualization method is invaluable for quickly grasping the distribution and comparison of categorical data."
   ]
  },
  {
   "cell_type": "markdown",
   "metadata": {},
   "source": [
    "The `barh` method has a few arguments, but two important ones are the first two.\n",
    "\n",
    "* The first argument `column_for_categories` specifies which column in the table to use for the categorical values. In this case, `column_for_categories='Car Type'`.\n",
    "* The second argument `select` specifies what values to use as the length of the bars. If you don't specify this argument, then it will try to use columns with numerical data to generate the bars. In this case, `select='Count'`.\n",
    "\n",
    "There are other arguments to experiment with, but you will typically just need to work with these two.\n"
   ]
  },
  {
   "cell_type": "markdown",
   "metadata": {},
   "source": [
    "### Visualizing California Farmers' Market Data"
   ]
  },
  {
   "cell_type": "markdown",
   "metadata": {
    "tags": []
   },
   "source": [
    "### Task 07 📍🔎"
   ]
  },
  {
   "cell_type": "markdown",
   "metadata": {
    "deletable": false,
    "editable": false
   },
   "source": [
    "<!-- BEGIN QUESTION -->\n",
    "\n",
    "Using the `top_8_by_county` table from Task 06 above, create a bar chart showing the distribution of the number of farmers' markets for the top eight counties in California.\n",
    "\n",
    "_Make sure to check your visualization with a classmate, a tutor, or the instructor before moving on since there is no auto-grader for this lab task._"
   ]
  },
  {
   "cell_type": "code",
   "execution_count": 54,
   "metadata": {
    "tags": []
   },
   "outputs": [
    {
     "data": {
      "image/png": "[encoded data removed]",
      "text/plain": [
       "<Figure size 640x480 with 1 Axes>"
      ]
     },
     "metadata": {},
     "output_type": "display_data"
    }
   ],
   "source": [
    "# Generate your chart in this cell\n",
    "plt.barh(top_8_by_county.column('County'), top_8_by_county.column('count'))\n",
    "\n",
    "plt.title('Top 8 California Counties')\n",
    "plt.show()"
   ]
  },
  {
   "cell_type": "markdown",
   "metadata": {
    "deletable": false,
    "editable": false
   },
   "source": [
    "<!-- END QUESTION -->\n",
    "\n",
    "Great work so far! If your data is organized it is pretty easy to make a good, basic visualization. In a more realistic situation, you would be that you need to clean up your data and re-organize it to be able to make the visualization you want to make. So, this means that you will usually need to perform a few table operations first and then visualize."
   ]
  },
  {
   "cell_type": "markdown",
   "metadata": {},
   "source": [
    "### Corporate Contributions"
   ]
  },
  {
   "cell_type": "markdown",
   "metadata": {},
   "source": [
    "The [OpenSecret Corporate Contributions to Outside Groups page](https://www.opensecrets.org/outside-spending/corporate-contributions) states that:\n",
    "\n",
    "> Unlike conventional PACs (political action committees), super PACs and other outside groups can receive direct contributions from corporate treasuries.\n",
    "\n",
    "Run the following code cell to see a list of corporations that have made direct contributions of $1,000,000 or more to an outside group. (Last Updated: November 13, 2023)\n",
    "\n",
    "**Note**: This cell contains extra code that you are not responsible for. Extra formatting was needed to get the dates in a usable format."
   ]
  },
  {
   "cell_type": "code",
   "execution_count": 141,
   "metadata": {},
   "outputs": [
    {
     "data": {
      "text/html": [
       "<table border=\"1\" class=\"dataframe\">\n",
       "    <thead>\n",
       "        <tr>\n",
       "            <th>Contributor</th> <th>Recipient</th> <th>Amount</th> <th>Date</th> <th>Recipient Viewpoint</th>\n",
       "        </tr>\n",
       "    </thead>\n",
       "    <tbody>\n",
       "        <tr>\n",
       "            <td>Koch Industries      </td> <td>Americans for Prosperity Action</td> <td>$25,000,000</td> <td>2023-05-19 00:00:00</td> <td>Conservative       </td>\n",
       "        </tr>\n",
       "        <tr>\n",
       "            <td>Ripple               </td> <td>Fairshake PAC                  </td> <td>$20,000,000</td> <td>2023-12-15 00:00:00</td> <td>nan                </td>\n",
       "        </tr>\n",
       "        <tr>\n",
       "            <td>Coinbase             </td> <td>Fairshake PAC                  </td> <td>$15,500,000</td> <td>2023-12-20 00:00:00</td> <td>nan                </td>\n",
       "        </tr>\n",
       "        <tr>\n",
       "            <td>Ah Capital Management</td> <td>Fairshake PAC                  </td> <td>$14,000,000</td> <td>2023-12-14 00:00:00</td> <td>nan                </td>\n",
       "        </tr>\n",
       "        <tr>\n",
       "            <td>Jump Crypto          </td> <td>Fairshake PAC                  </td> <td>$5,000,000 </td> <td>2023-12-13 00:00:00</td> <td>nan                </td>\n",
       "        </tr>\n",
       "        <tr>\n",
       "            <td>Ah Capital Management</td> <td>Fairshake PAC                  </td> <td>$5,000,000 </td> <td>2023-10-23 00:00:00</td> <td>nan                </td>\n",
       "        </tr>\n",
       "        <tr>\n",
       "            <td>Coinbase             </td> <td>Fairshake PAC                  </td> <td>$5,000,000 </td> <td>2023-11-03 00:00:00</td> <td>nan                </td>\n",
       "        </tr>\n",
       "        <tr>\n",
       "            <td>Occidental Petroleum </td> <td>Senate Leadership Fund         </td> <td>$2,000,000 </td> <td>2023-06-02 00:00:00</td> <td>Conservative       </td>\n",
       "        </tr>\n",
       "        <tr>\n",
       "            <td>Farrington Rocket LLC</td> <td>Best of America PAC            </td> <td>$2,000,000 </td> <td>2023-06-30 00:00:00</td> <td>Conservative       </td>\n",
       "        </tr>\n",
       "        <tr>\n",
       "            <td>AH Capital Management</td> <td>Defend American Jobs           </td> <td>$1,500,000 </td> <td>2023-12-15 00:00:00</td> <td>Conservative       </td>\n",
       "        </tr>\n",
       "    </tbody>\n",
       "</table>\n",
       "<p>... (23 rows omitted)</p>"
      ],
      "text/plain": [
       "Contributor           | Recipient                       | Amount      | Date                | Recipient Viewpoint\n",
       "Koch Industries       | Americans for Prosperity Action | $25,000,000 | 2023-05-19 00:00:00 | Conservative\n",
       "Ripple                | Fairshake PAC                   | $20,000,000 | 2023-12-15 00:00:00 | nan\n",
       "Coinbase              | Fairshake PAC                   | $15,500,000 | 2023-12-20 00:00:00 | nan\n",
       "Ah Capital Management | Fairshake PAC                   | $14,000,000 | 2023-12-14 00:00:00 | nan\n",
       "Jump Crypto           | Fairshake PAC                   | $5,000,000  | 2023-12-13 00:00:00 | nan\n",
       "Ah Capital Management | Fairshake PAC                   | $5,000,000  | 2023-10-23 00:00:00 | nan\n",
       "Coinbase              | Fairshake PAC                   | $5,000,000  | 2023-11-03 00:00:00 | nan\n",
       "Occidental Petroleum  | Senate Leadership Fund          | $2,000,000  | 2023-06-02 00:00:00 | Conservative\n",
       "Farrington Rocket LLC | Best of America PAC             | $2,000,000  | 2023-06-30 00:00:00 | Conservative\n",
       "AH Capital Management | Defend American Jobs            | $1,500,000  | 2023-12-15 00:00:00 | Conservative\n",
       "... (23 rows omitted)"
      ]
     },
     "execution_count": 141,
     "metadata": {},
     "output_type": "execute_result"
    }
   ],
   "source": [
    "corporate_contributions = Table.read_table('corporate_contributions.csv')\n",
    "\n",
    "# Convert all date strings to datetime objects\n",
    "from datetime import datetime\n",
    "input_format = \"%m/%d/%Y\"\n",
    "dates = corporate_contributions.column('Date')\n",
    "dates = [datetime.strptime(date_string, input_format) for date_string in dates]\n",
    "corporate_contributions = corporate_contributions.with_column('Date', dates)\n",
    "\n",
    "corporate_contributions"
   ]
  },
  {
   "cell_type": "markdown",
   "metadata": {
    "tags": []
   },
   "source": [
    "### Task 08 📍"
   ]
  },
  {
   "cell_type": "markdown",
   "metadata": {
    "deletable": false,
    "editable": false
   },
   "source": [
    "Use the `group` method with the `corporate_contributions` table to create a table called `viewpoints` with two columns in the following order: '`Recipient Viewpoint`' and `'Percentage'`. This table should show the distribution of `'Recipient Viewpoint'` values in this data set.\n",
    "\n",
    "**Hint**: The group method gives you counts by default. Extract the count information from the grouped table, divide each count by the total number of items in the table, and multiply by 100 to get the correct percentage. You can then put the percentages back in the table using `with_column` and clean up the table using the `drop` method."
   ]
  },
  {
   "cell_type": "code",
   "execution_count": 115,
   "metadata": {
    "tags": []
   },
   "outputs": [
    {
     "data": {
      "text/html": [
       "<table border=\"1\" class=\"dataframe\">\n",
       "    <thead>\n",
       "        <tr>\n",
       "            <th>Recipient Viewpoint</th> <th>Percentage</th>\n",
       "        </tr>\n",
       "    </thead>\n",
       "    <tbody>\n",
       "        <tr>\n",
       "            <td>Conservative       </td> <td>66.6667   </td>\n",
       "        </tr>\n",
       "        <tr>\n",
       "            <td>Liberal            </td> <td>12.1212   </td>\n",
       "        </tr>\n",
       "        <tr>\n",
       "            <td>nan                </td> <td>21.2121   </td>\n",
       "        </tr>\n",
       "    </tbody>\n",
       "</table>"
      ],
      "text/plain": [
       "Recipient Viewpoint | Percentage\n",
       "Conservative        | 66.6667\n",
       "Liberal             | 12.1212\n",
       "nan                 | 21.2121"
      ]
     },
     "execution_count": 115,
     "metadata": {},
     "output_type": "execute_result"
    }
   ],
   "source": [
    "# Group the data by 'Recipient Viewpoint' and get counts\n",
    "viewpoints_grouped = corporate_contributions.group('Recipient Viewpoint')\n",
    "\n",
    "# Calculate the percentage for each viewpoint\n",
    "percentages = viewpoints_grouped.column('count') / corporate_contributions.num_rows * 100\n",
    "\n",
    "# Create a new table with viewpoint and percentage\n",
    "viewpoints = viewpoints_grouped.with_column('Percentage', percentages)\n",
    "\n",
    "# Drop the unnecessary columns\n",
    "viewpoints = viewpoints.drop('count')\n",
    "\n",
    "viewpoints\n"
   ]
  },
  {
   "cell_type": "code",
   "execution_count": 94,
   "metadata": {
    "deletable": false,
    "editable": false
   },
   "outputs": [
    {
     "data": {
      "text/html": [
       "<p><strong><pre style='display: inline;'>task_08</pre></strong> passed! 🌈</p><p><strong><pre style='display: inline;'>task_08 - 1</pre> message:</strong> ✅ viewpoints is a Table.</p><p><strong><pre style='display: inline;'>task_08 - 2</pre> message:</strong> ✅ The viewpoints table has the correct number of rows and columns.</p><p><strong><pre style='display: inline;'>task_08 - 3</pre> message:</strong> ✅ The viewpoints table contains the label Recipient Viewpoint.</p><p><strong><pre style='display: inline;'>task_08 - 4</pre> message:</strong> ✅ The viewpoints table contains the label Percentage.</p><p><strong><pre style='display: inline;'>task_08 - 5</pre> message:</strong> ✅ It seems like the viewpoints table is correct!</p>"
      ],
      "text/plain": [
       "task_08 results: All test cases passed!\n",
       "task_08 - 1 message: ✅ viewpoints is a Table.\n",
       "task_08 - 2 message: ✅ The viewpoints table has the correct number of rows and columns.\n",
       "task_08 - 3 message: ✅ The viewpoints table contains the label Recipient Viewpoint.\n",
       "task_08 - 4 message: ✅ The viewpoints table contains the label Percentage.\n",
       "task_08 - 5 message: ✅ It seems like the viewpoints table is correct!"
      ]
     },
     "execution_count": 94,
     "metadata": {},
     "output_type": "execute_result"
    }
   ],
   "source": [
    "grader.check(\"task_08\")"
   ]
  },
  {
   "cell_type": "markdown",
   "metadata": {
    "tags": []
   },
   "source": [
    "### Task 09 📍🔎"
   ]
  },
  {
   "cell_type": "markdown",
   "metadata": {},
   "source": [
    "<!-- BEGIN QUESTION -->\n",
    "\n",
    "Using the `viewpoints` table, create a bar chart showing the distribution of recipient viewpoints for corporate contributions of at least $1,000,000. Make sure that the bars of your chart are organized such that the largest bars are at the top and the smallest are at the bottom.\n",
    "\n",
    "_Make sure to check your visualization with a classmate, a tutor, or the instructor before moving on since there is no auto-grader for this lab task._"
   ]
  },
  {
   "cell_type": "code",
   "execution_count": 148,
   "metadata": {
    "tags": []
   },
   "outputs": [
    {
     "ename": "TypeError",
     "evalue": "'>=' not supported between instances of 'numpy.str_' and 'int'",
     "output_type": "error",
     "traceback": [
      "\u001b[0;31m---------------------------------------------------------------------------\u001b[0m",
      "\u001b[0;31mTypeError\u001b[0m                                 Traceback (most recent call last)",
      "Cell \u001b[0;32mIn[148], line 2\u001b[0m\n\u001b[1;32m      1\u001b[0m \u001b[38;5;66;03m# Filter the viewpoints table for corporate contributions of at least $1,000,000\u001b[39;00m\n\u001b[0;32m----> 2\u001b[0m viewpoints_filtered \u001b[38;5;241m=\u001b[39m \u001b[43mcorporate_contributions\u001b[49m\u001b[38;5;241;43m.\u001b[39;49m\u001b[43mwhere\u001b[49m\u001b[43m(\u001b[49m\u001b[38;5;124;43m'\u001b[39;49m\u001b[38;5;124;43mAmount\u001b[39;49m\u001b[38;5;124;43m'\u001b[39;49m\u001b[43m,\u001b[49m\u001b[43m \u001b[49m\u001b[43mare\u001b[49m\u001b[38;5;241;43m.\u001b[39;49m\u001b[43mabove_or_equal_to\u001b[49m\u001b[43m(\u001b[49m\u001b[38;5;241;43m1000000\u001b[39;49m\u001b[43m)\u001b[49m\u001b[43m)\u001b[49m\n\u001b[1;32m      4\u001b[0m \u001b[38;5;66;03m# Sort the filtered table by counts in descending order\u001b[39;00m\n\u001b[1;32m      5\u001b[0m viewpoints_sorted \u001b[38;5;241m=\u001b[39m viewpoints_filtered\u001b[38;5;241m.\u001b[39msort(\u001b[38;5;124m'\u001b[39m\u001b[38;5;124mPercentage\u001b[39m\u001b[38;5;124m'\u001b[39m, descending\u001b[38;5;241m=\u001b[39m\u001b[38;5;28;01mTrue\u001b[39;00m)\n",
      "File \u001b[0;32m/srv/conda/envs/notebook/lib/python3.10/site-packages/datascience/tables.py:1415\u001b[0m, in \u001b[0;36mTable.where\u001b[0;34m(self, column_or_label, value_or_predicate, other)\u001b[0m\n\u001b[1;32m   1413\u001b[0m     \u001b[38;5;28;01melse\u001b[39;00m:\n\u001b[1;32m   1414\u001b[0m         predicate \u001b[38;5;241m=\u001b[39m value_or_predicate\n\u001b[0;32m-> 1415\u001b[0m     column \u001b[38;5;241m=\u001b[39m [predicate(x) \u001b[38;5;28;01mfor\u001b[39;00m x \u001b[38;5;129;01min\u001b[39;00m column]\n\u001b[1;32m   1416\u001b[0m \u001b[38;5;28;01mreturn\u001b[39;00m \u001b[38;5;28mself\u001b[39m\u001b[38;5;241m.\u001b[39mtake(np\u001b[38;5;241m.\u001b[39mnonzero(column)[\u001b[38;5;241m0\u001b[39m])\n",
      "File \u001b[0;32m/srv/conda/envs/notebook/lib/python3.10/site-packages/datascience/tables.py:1415\u001b[0m, in \u001b[0;36m<listcomp>\u001b[0;34m(.0)\u001b[0m\n\u001b[1;32m   1413\u001b[0m     \u001b[38;5;28;01melse\u001b[39;00m:\n\u001b[1;32m   1414\u001b[0m         predicate \u001b[38;5;241m=\u001b[39m value_or_predicate\n\u001b[0;32m-> 1415\u001b[0m     column \u001b[38;5;241m=\u001b[39m [\u001b[43mpredicate\u001b[49m\u001b[43m(\u001b[49m\u001b[43mx\u001b[49m\u001b[43m)\u001b[49m \u001b[38;5;28;01mfor\u001b[39;00m x \u001b[38;5;129;01min\u001b[39;00m column]\n\u001b[1;32m   1416\u001b[0m \u001b[38;5;28;01mreturn\u001b[39;00m \u001b[38;5;28mself\u001b[39m\u001b[38;5;241m.\u001b[39mtake(np\u001b[38;5;241m.\u001b[39mnonzero(column)[\u001b[38;5;241m0\u001b[39m])\n",
      "File \u001b[0;32m/srv/conda/envs/notebook/lib/python3.10/site-packages/datascience/predicates.py:225\u001b[0m, in \u001b[0;36m_combinable.__call__\u001b[0;34m(self, x)\u001b[0m\n\u001b[1;32m    224\u001b[0m \u001b[38;5;28;01mdef\u001b[39;00m \u001b[38;5;21m__call__\u001b[39m(\u001b[38;5;28mself\u001b[39m, x):\n\u001b[0;32m--> 225\u001b[0m     \u001b[38;5;28;01mreturn\u001b[39;00m \u001b[38;5;28;43mself\u001b[39;49m\u001b[38;5;241;43m.\u001b[39;49m\u001b[43mf\u001b[49m\u001b[43m(\u001b[49m\u001b[43mx\u001b[49m\u001b[43m)\u001b[49m\n",
      "File \u001b[0;32m/srv/conda/envs/notebook/lib/python3.10/site-packages/datascience/predicates.py:127\u001b[0m, in \u001b[0;36mare.above_or_equal_to.<locals>.<lambda>\u001b[0;34m(x)\u001b[0m\n\u001b[1;32m    125\u001b[0m \u001b[38;5;250m\u001b[39m\u001b[38;5;124;03m\"\"\"Greater than or equal to y.\"\"\"\u001b[39;00m\n\u001b[1;32m    126\u001b[0m check_iterable(y)\n\u001b[0;32m--> 127\u001b[0m \u001b[38;5;28;01mreturn\u001b[39;00m _combinable(\u001b[38;5;28;01mlambda\u001b[39;00m x: \u001b[43mx\u001b[49m\u001b[43m \u001b[49m\u001b[38;5;241;43m>\u001b[39;49m\u001b[38;5;241;43m=\u001b[39;49m\u001b[43m \u001b[49m\u001b[43my\u001b[49m \u001b[38;5;129;01mor\u001b[39;00m _equal_or_float_equal(x, y))\n",
      "\u001b[0;31mTypeError\u001b[0m: '>=' not supported between instances of 'numpy.str_' and 'int'"
     ]
    }
   ],
   "source": [
    "# Filter the viewpoints table for corporate contributions of at least $1,000,000\n",
    "viewpoints_filtered = corporate_contributions.where('Amount', are.above_or_equal_to(1000000))\n",
    "\n",
    "# Sort the filtered table by counts in descending order\n",
    "viewpoints_sorted = viewpoints_filtered.sort('Percentage', descending=True)\n",
    "\n",
    "# Generate your chart in this cell\n",
    "plt.barh(viewpoints_sorted.column('Recipient Viewpoint'), viewpoints_sorted.column('Percentage'))\n",
    "\n",
    "plt.title('Distribution of Corporate Contribution Recipient Viewpoints')\n",
    "plt.show()"
   ]
  },
  {
   "cell_type": "markdown",
   "metadata": {
    "deletable": false,
    "editable": false
   },
   "source": [
    "<!-- END QUESTION -->\n",
    "\n",
    "One thing to keep in mind when looking at this visualization is that **some corporations made more than one contribution to the same recipient**. So, once you know how to work with the `group` method a little bit more, you might want to revisit this example and create a visualization that better shows the association between corporate contributions and recipient viewpoints."
   ]
  },
  {
   "cell_type": "markdown",
   "metadata": {},
   "source": [
    "## Histograms"
   ]
  },
  {
   "cell_type": "markdown",
   "metadata": {},
   "source": [
    "When it comes to visualizing numerical data, one of the default and fundamental techniques is to use a histogram. Histograms provide a graphical representation of the distribution of numerical values within a dataset, allowing you to observe patterns, central tendencies, and variations. \n",
    "\n",
    "In the `datascience` library, you can create histograms conveniently using the `hist` table method. \n",
    "\n",
    "When working with histograms, it's essential to consider the choice of bin sizes or intervals, as this can impact the interpretation of the data. \n",
    "\n",
    "The `hist` method defaults to displaying data density on the vertical axis rather than raw counts. This means that the height of each bar in the histogram represents the density of data within that bin, and the area of the bar, not the count, reflects the amount of data. This distinction is crucial for accurately understanding the distribution of numerical data and is a core concept in data visualization and analysis."
   ]
  },
  {
   "cell_type": "markdown",
   "metadata": {},
   "source": [
    "Run the following code cell to create a table called `ages` contain the ages of a group of people."
   ]
  },
  {
   "cell_type": "code",
   "execution_count": 101,
   "metadata": {},
   "outputs": [
    {
     "data": {
      "text/html": [
       "<table border=\"1\" class=\"dataframe\">\n",
       "    <thead>\n",
       "        <tr>\n",
       "            <th>Age</th>\n",
       "        </tr>\n",
       "    </thead>\n",
       "    <tbody>\n",
       "        <tr>\n",
       "            <td>12  </td>\n",
       "        </tr>\n",
       "        <tr>\n",
       "            <td>15  </td>\n",
       "        </tr>\n",
       "        <tr>\n",
       "            <td>18  </td>\n",
       "        </tr>\n",
       "        <tr>\n",
       "            <td>20  </td>\n",
       "        </tr>\n",
       "        <tr>\n",
       "            <td>22  </td>\n",
       "        </tr>\n",
       "        <tr>\n",
       "            <td>25  </td>\n",
       "        </tr>\n",
       "        <tr>\n",
       "            <td>26  </td>\n",
       "        </tr>\n",
       "        <tr>\n",
       "            <td>28  </td>\n",
       "        </tr>\n",
       "        <tr>\n",
       "            <td>30  </td>\n",
       "        </tr>\n",
       "        <tr>\n",
       "            <td>32  </td>\n",
       "        </tr>\n",
       "    </tbody>\n",
       "</table>\n",
       "<p>... (7 rows omitted)</p>"
      ],
      "text/plain": [
       "Age\n",
       "12\n",
       "15\n",
       "18\n",
       "20\n",
       "22\n",
       "25\n",
       "26\n",
       "28\n",
       "30\n",
       "32\n",
       "... (7 rows omitted)"
      ]
     },
     "execution_count": 101,
     "metadata": {},
     "output_type": "execute_result"
    }
   ],
   "source": [
    "ages = Table().with_column(\n",
    "    'Age', [12, 15, 18, 20, 22, 25, 26, 28, 30, 32, 35, 36, 38, 40, 45, 50, 55]\n",
    ")\n",
    "ages"
   ]
  },
  {
   "cell_type": "markdown",
   "metadata": {},
   "source": [
    "To visualize this distribution, you can use the code `ages.hist('Age')`. `hist` has several arguments, but the first argument `columns` identifies the column(s) that contain the numerical data for the histogram."
   ]
  },
  {
   "cell_type": "code",
   "execution_count": 102,
   "metadata": {},
   "outputs": [
    {
     "data": {
      "image/png": "[encoded data removed]",
      "text/plain": [
       "<Figure size 600x400 with 1 Axes>"
      ]
     },
     "metadata": {},
     "output_type": "display_data"
    }
   ],
   "source": [
    "ages.hist('Age')\n",
    "\n",
    "# Optional Customization\n",
    "plt.title('Distribution of Ages')\n",
    "plt.show()"
   ]
  },
  {
   "cell_type": "markdown",
   "metadata": {},
   "source": [
    "The `hist` table method offers two other arguments that are worth mentioning for this class: `bins` and `unit`. These arguments play a pivotal role in customizing the appearance and interpretation of the histogram. \n",
    "\n",
    "* The `bins` argument allows you to specify the number of bins or intervals into which the data range will be divided. A well-chosen number of bins can significantly affect the visual representation of the data, influencing the granularity of the histogram. By default, there is an algorithm that attempts to generate \"good\" bins, but you might need to specifically define the bins with an array or the number of bins with an integer to get the histogram to look good for your situation.\n",
    "* The `unit` argument provides a way to provide labels to the horizontal and vertical axes as a reminder of what the units of the data are."
   ]
  },
  {
   "cell_type": "markdown",
   "metadata": {},
   "source": [
    "The ages are most likely measured in years and it might make sense to bin these ages by creating bins that are 10 years wide. You can achieve this with the parameters `unit=\"Years\"` and `bins=np.arange(10, 61, 10)`. \n",
    "\n",
    "Run the following code cell to see the results."
   ]
  },
  {
   "cell_type": "code",
   "execution_count": 103,
   "metadata": {},
   "outputs": [
    {
     "data": {
      "image/png": "[encoded data removed]",
      "text/plain": [
       "<Figure size 600x400 with 1 Axes>"
      ]
     },
     "metadata": {},
     "output_type": "display_data"
    }
   ],
   "source": [
    "ages.hist('Age', unit=\"Years\", bins=np.arange(10, 61, 10))\n",
    "\n",
    "# Optional Customization\n",
    "plt.title('Distribution of Ages')\n",
    "plt.show()"
   ]
  },
  {
   "cell_type": "markdown",
   "metadata": {},
   "source": [
    "Notice how the shape of the histogram changes! The same numerical data can look very different in a histogram depending on how it is binned. This can be used as a tool for analysis and inquiry, but it can also be used as a tool to misguide."
   ]
  },
  {
   "cell_type": "markdown",
   "metadata": {
    "tags": []
   },
   "source": [
    "### Task 10 📍"
   ]
  },
  {
   "cell_type": "markdown",
   "metadata": {
    "deletable": false,
    "editable": false
   },
   "source": [
    "The `'Amount'` label in the `corporate_contributions` table shows the amount that the corporation contributed. Your next task will be to visualize the distribution of contribution amounts, but there is a problem with the data. The amounts are presented as strings. Later in the course, you'll learn how to deal with this. For now, we will help you out by creating an array called `amounts` of all the dollar amounts as floats. \n",
    "\n",
    "Run the following cell to create that array."
   ]
  },
  {
   "cell_type": "code",
   "execution_count": 120,
   "metadata": {
    "deletable": false,
    "editable": false
   },
   "outputs": [
    {
     "data": {
      "text/plain": [
       "array([ 25000000.,  20000000.,  15500000.,  14000000.,   5000000.,\n",
       "         5000000.,   5000000.,   2000000.,   2000000.,   1500000.,\n",
       "         1500000.,   1500000.,   1500000.,   1500000.,   1500000.,\n",
       "         1500000.,   1500000.,   1000000.,   1000000.,   1000000.,\n",
       "         1000000.,   1000000.,   1000000.,   1000000.,   1000000.,\n",
       "         1000000.,   1000000.,   1000000.,   1000000.,   1000000.,\n",
       "         1000000.,   1000000.,   1000000.])"
      ]
     },
     "execution_count": 120,
     "metadata": {},
     "output_type": "execute_result"
    }
   ],
   "source": [
    "# Just run this cell. You will learn a way to do this later in the course\n",
    "amounts_as_strings = corporate_contributions.column('Amount')\n",
    "amounts = np.array([float(s.replace('$', '').replace(',', '')) for s in amounts_as_strings])\n",
    "amounts"
   ]
  },
  {
   "cell_type": "markdown",
   "metadata": {
    "deletable": false,
    "editable": false
   },
   "source": [
    "Now, update the data in the `'Amount'` column in `corporate_contributions` with this array of float values.\n",
    "\n",
    "**Hint**: If you use the `with_column` method with a column label that already exists in the table, then the information in that column will be updated with the array you use with `with_column`."
   ]
  },
  {
   "cell_type": "code",
   "execution_count": 121,
   "metadata": {
    "tags": []
   },
   "outputs": [],
   "source": [
    "corporate_contributions = corporate_contributions.with_column(\n",
    "    'Amount', amounts)"
   ]
  },
  {
   "cell_type": "code",
   "execution_count": 122,
   "metadata": {
    "deletable": false,
    "editable": false
   },
   "outputs": [
    {
     "data": {
      "text/html": [
       "<p><strong><pre style='display: inline;'>task_10</pre></strong> passed! ✨</p><p><strong><pre style='display: inline;'>task_10 - 1</pre> message:</strong> ✅ The labels of the corporate_contributions table seem correct.</p><p><strong><pre style='display: inline;'>task_10 - 2</pre> message:</strong> ✅ The values in the Amount column are floats.</p><p><strong><pre style='display: inline;'>task_10 - 3</pre> message:</strong> ✅ The values in the Amount column seem correct.</p>"
      ],
      "text/plain": [
       "task_10 results: All test cases passed!\n",
       "task_10 - 1 message: ✅ The labels of the corporate_contributions table seem correct.\n",
       "task_10 - 2 message: ✅ The values in the Amount column are floats.\n",
       "task_10 - 3 message: ✅ The values in the Amount column seem correct."
      ]
     },
     "execution_count": 122,
     "metadata": {},
     "output_type": "execute_result"
    }
   ],
   "source": [
    "grader.check(\"task_10\")"
   ]
  },
  {
   "cell_type": "markdown",
   "metadata": {
    "tags": []
   },
   "source": [
    "### Task 11 📍🔎"
   ]
  },
  {
   "cell_type": "markdown",
   "metadata": {
    "deletable": false,
    "editable": false
   },
   "source": [
    "<!-- BEGIN QUESTION -->\n",
    "\n",
    "Now that you have the contribution amounts as a numerical data type. Use the `hist` method on `corporate_contributions` to show the distribution of contribution amounts. The default bins do not end up creating a \"good-looking\" chart, try adjusting the bins to see how the bins impact the visualization.\n",
    "\n",
    "_Make sure to check your visualization with a classmate, a tutor, or the instructor before moving on since there is no auto-grader for this lab task._\n",
    "\n",
    "**Note**: Ultimately, the issue with the histogram looking bad has to do with the fact that there are few really large (over 1 million dollars) contributions, and most contributions are exactly $1,000,000. A better practice might be to analyze the distribution of the contributions over 1 million dollars separately."
   ]
  },
  {
   "cell_type": "code",
   "execution_count": 130,
   "metadata": {
    "tags": []
   },
   "outputs": [
    {
     "data": {
      "image/png": "[encoded data removed]",
      "text/plain": [
       "<Figure size 640x480 with 1 Axes>"
      ]
     },
     "metadata": {},
     "output_type": "display_data"
    }
   ],
   "source": [
    "# Generate your chart in this cell\n",
    "...\n",
    "plt.hist(corporate_contributions.column('Amount'), bins=10)\n",
    "\n",
    "plt.title('Distribution of Corporate Contributions')\n",
    "plt.show()"
   ]
  },
  {
   "cell_type": "markdown",
   "metadata": {
    "deletable": false,
    "editable": false
   },
   "source": [
    "<!-- END QUESTION -->\n",
    "\n",
    "## Line Plots and Scatter Plots"
   ]
  },
  {
   "cell_type": "markdown",
   "metadata": {},
   "source": [
    "When it comes to visualizing numerical relationships in data, scatter plots and line plots are two fundamental tools that provide valuable insights. \n",
    "\n",
    "In the `datascience` library, the `scatter` method is used to create scatter plots, while the `plot` method is employed to generate line plots. \n",
    "\n",
    "These visualization techniques share a conceptual similarity: both display data points on a two-dimensional plane, typically with one numerical variable on the x-axis and another on the y-axis. However, the key distinction lies in the purpose and interpretation.\n",
    "\n",
    "* Scatter plots are versatile and are primarily used to showcase the association and general pattern between two numerical variables. They are excellent for revealing relationships, correlations, and outliers in the data.\n",
    "* Line plots are best suited when the horizontal axis represents sequential data, such as time or distance. These plots connect the data points with lines, making them ideal for visualizing trends and showing how a numerical variable changes over a continuous range, as in the case of tracking revenue over time.\n",
    "\n",
    "In essence, scatter plots excel at depicting associations, while line plots are tailor-made for illustrating trends and sequential relationships in numerical data."
   ]
  },
  {
   "cell_type": "markdown",
   "metadata": {},
   "source": [
    "For example, run the following code cell to generate a table called `company_data` showing revenue and profit data for the last ten years for some **fake** company."
   ]
  },
  {
   "cell_type": "code",
   "execution_count": 131,
   "metadata": {},
   "outputs": [
    {
     "data": {
      "text/html": [
       "<table border=\"1\" class=\"dataframe\">\n",
       "    <thead>\n",
       "        <tr>\n",
       "            <th>Year</th> <th>Revenue</th> <th>Profit</th>\n",
       "        </tr>\n",
       "    </thead>\n",
       "    <tbody>\n",
       "        <tr>\n",
       "            <td>2014</td> <td>35000  </td> <td>2860.51</td>\n",
       "        </tr>\n",
       "        <tr>\n",
       "            <td>2015</td> <td>37500  </td> <td>2944.34</td>\n",
       "        </tr>\n",
       "        <tr>\n",
       "            <td>2016</td> <td>32500  </td> <td>2747.53</td>\n",
       "        </tr>\n",
       "        <tr>\n",
       "            <td>2017</td> <td>32500  </td> <td>2505.47</td>\n",
       "        </tr>\n",
       "        <tr>\n",
       "            <td>2018</td> <td>60000  </td> <td>4805.49</td>\n",
       "        </tr>\n",
       "        <tr>\n",
       "            <td>2019</td> <td>45000  </td> <td>3583.15</td>\n",
       "        </tr>\n",
       "        <tr>\n",
       "            <td>2020</td> <td>17500  </td> <td>1453.65</td>\n",
       "        </tr>\n",
       "        <tr>\n",
       "            <td>2021</td> <td>32500  </td> <td>2695.51</td>\n",
       "        </tr>\n",
       "        <tr>\n",
       "            <td>2022</td> <td>22500  </td> <td>1806.97</td>\n",
       "        </tr>\n",
       "        <tr>\n",
       "            <td>2023</td> <td>35000  </td> <td>2826.47</td>\n",
       "        </tr>\n",
       "    </tbody>\n",
       "</table>"
      ],
      "text/plain": [
       "Year | Revenue | Profit\n",
       "2014 | 35000   | 2860.51\n",
       "2015 | 37500   | 2944.34\n",
       "2016 | 32500   | 2747.53\n",
       "2017 | 32500   | 2505.47\n",
       "2018 | 60000   | 4805.49\n",
       "2019 | 45000   | 3583.15\n",
       "2020 | 17500   | 1453.65\n",
       "2021 | 32500   | 2695.51\n",
       "2022 | 22500   | 1806.97\n",
       "2023 | 35000   | 2826.47"
      ]
     },
     "execution_count": 131,
     "metadata": {},
     "output_type": "execute_result"
    }
   ],
   "source": [
    "# Generate random data\n",
    "np.random.seed(0)\n",
    "years = np.arange(2014, 2024)\n",
    "revenue = np.random.poisson(14, 10) * 2_500\n",
    "profit = revenue * np.random.normal(0.08, 0.002, 10)\n",
    "\n",
    "company_data = Table().with_columns('Year', years, 'Revenue', revenue, 'Profit', profit)\n",
    "company_data"
   ]
  },
  {
   "cell_type": "markdown",
   "metadata": {},
   "source": [
    "A line plot would be a standard choice to visualize the trend of profit over time. This can be done with the command `company_data.plot('Year', 'Profit')`.\n",
    "\n",
    "Run the following code cell to see the results."
   ]
  },
  {
   "cell_type": "code",
   "execution_count": 132,
   "metadata": {},
   "outputs": [
    {
     "data": {
      "image/png": "[encoded data removed]",
      "text/plain": [
       "<Figure size 600x600 with 1 Axes>"
      ]
     },
     "metadata": {},
     "output_type": "display_data"
    }
   ],
   "source": [
    "company_data.plot('Year', 'Profit')\n",
    "\n",
    "# Optional Customization\n",
    "plt.title('Profits Over Time')\n",
    "plt.show()"
   ]
  },
  {
   "cell_type": "markdown",
   "metadata": {},
   "source": [
    "The trend of this line shows that there was something very significant that happened around 2018 to make the company very profitable. After a short period of time of high profits, there was a steep decline in profit levels that were lower than in years previous to 2018. For the last few years, the company's profits seem to lack stability. This is likely due to economic instability surrounding the pandemic, but all this profit data was made up and so is money. 🤓"
   ]
  },
  {
   "cell_type": "markdown",
   "metadata": {},
   "source": [
    "It might be nice to compare the trends of two numerical distributions over the same horizontal axis. This would be a great time to try an overlaid line plot. For example, you could plot the lines for both profit and revenue over time.\n",
    "\n",
    "The `plot` method can handle this by making sure the table only contains the variables you are interested in `'Year'`, `'Profit'`, and `'Revenue'` and just specifying the horizontal axis in the `plot` method. For example, just use `company_data.plot('Year')`.\n",
    "\n",
    "Run the following cell to see that a line is created for every numerical column in the table other than `'Year'`."
   ]
  },
  {
   "cell_type": "code",
   "execution_count": 133,
   "metadata": {},
   "outputs": [
    {
     "data": {
      "image/png": "[encoded data removed]",
      "text/plain": [
       "<Figure size 600x600 with 1 Axes>"
      ]
     },
     "metadata": {},
     "output_type": "display_data"
    }
   ],
   "source": [
    "company_data.plot('Year')\n",
    "\n",
    "# Optional Customization\n",
    "plt.title('Revenue and Profits Over Time')\n",
    "plt.show()"
   ]
  },
  {
   "cell_type": "markdown",
   "metadata": {},
   "source": [
    "Revenue looks much less stable on this graph because of the scale of the values. Profits were hovering around 8% of revenue, so putting both lines on the y-axis doesn't offer a fair comparison."
   ]
  },
  {
   "cell_type": "markdown",
   "metadata": {},
   "source": [
    "How do you better see the relationship between revenue and profit? Since the data are not sequential and you are just looking to visualize the association, use a scatter plot. The `scatter` method would help out with this. Since profit follows from revenue, it is standard practice to have the horizontal axis reflect revenue values. Use the command `company_data.scatter('Revenue', 'Profit')` to make this happen.\n",
    "\n",
    "Run the following cell to see the results."
   ]
  },
  {
   "cell_type": "code",
   "execution_count": 134,
   "metadata": {},
   "outputs": [
    {
     "data": {
      "image/png": "[encoded data removed]",
      "text/plain": [
       "<Figure size 500x500 with 1 Axes>"
      ]
     },
     "metadata": {},
     "output_type": "display_data"
    }
   ],
   "source": [
    "company_data.scatter('Revenue', 'Profit')\n",
    "\n",
    "# Optional Customization\n",
    "plt.title('Revenue vs. Profit')\n",
    "plt.show()"
   ]
  },
  {
   "cell_type": "markdown",
   "metadata": {},
   "source": [
    "This shows a pretty strong (linear) positive relationship between revenue and profit. Dividing the profit values by the revenue shows a pretty stable profit margin of roughly 8%."
   ]
  },
  {
   "cell_type": "code",
   "execution_count": 135,
   "metadata": {},
   "outputs": [
    {
     "name": "stdout",
     "output_type": "stream",
     "text": [
      "The profit margins (profile/revenue) are:\n",
      "\n"
     ]
    },
    {
     "data": {
      "text/plain": [
       "array([ 0.08172887,  0.07851567,  0.08453951,  0.07709127,  0.08009152,\n",
       "        0.07962563,  0.08306556,  0.08293872,  0.08030989,  0.08075633])"
      ]
     },
     "metadata": {},
     "output_type": "display_data"
    },
    {
     "name": "stdout",
     "output_type": "stream",
     "text": [
      "\n",
      "The average profit margin over this period is 8.09%\n"
     ]
    }
   ],
   "source": [
    "profit_margins = company_data.column('Profit') / company_data.column('Revenue')\n",
    "print('The profit margins (profile/revenue) are:\\n')\n",
    "display(profit_margins)\n",
    "average_profit_margin = \"{:.2%}\".format(np.average(profit_margins))\n",
    "print(f'\\nThe average profit margin over this period is {average_profit_margin}')"
   ]
  },
  {
   "cell_type": "markdown",
   "metadata": {
    "tags": []
   },
   "source": [
    "### Task 12 📍🔎"
   ]
  },
  {
   "cell_type": "markdown",
   "metadata": {
    "deletable": false,
    "editable": false
   },
   "source": [
    "<!-- BEGIN QUESTION -->\n",
    "\n",
    "For this task, return to the corporate contribution data in `corporate_contributions`, and create a line plot using the `plot` table method to visualize the trend of corporate contributions over the election cycle.\n",
    "\n",
    "_Make sure to check your visualization with a classmate, a tutor, or the instructor before moving on since there is no auto-grader for this lab task._"
   ]
  },
  {
   "cell_type": "code",
   "execution_count": 136,
   "metadata": {
    "tags": []
   },
   "outputs": [
    {
     "data": {
      "image/png": "[encoded data removed]",
      "text/plain": [
       "<Figure size 1500x500 with 1 Axes>"
      ]
     },
     "metadata": {},
     "output_type": "display_data"
    }
   ],
   "source": [
    "# Generate your chart in this cell\n",
    "corporate_contributions.plot('Date', 'Amount')\n",
    "\n",
    "# Customization\n",
    "plt.title('Contributions Over Time')\n",
    "plt.gcf().set_size_inches(15, 5)\n",
    "plt.xticks(rotation=45)\n",
    "plt.show()"
   ]
  },
  {
   "cell_type": "markdown",
   "metadata": {
    "deletable": false,
    "editable": false,
    "tags": []
   },
   "source": [
    "<!-- END QUESTION -->\n",
    "\n",
    "### Task 13 📍🔎"
   ]
  },
  {
   "cell_type": "markdown",
   "metadata": {
    "deletable": false,
    "editable": false
   },
   "source": [
    "<!-- BEGIN QUESTION -->\n",
    "\n",
    "What do you notice about the line graph in terms of contribution trends in relation to the election cycle?\n",
    "\n",
    "_Make sure to check your response with a classmate, a tutor, or the instructor before moving on since there is no auto-grader for this lab task._"
   ]
  },
  {
   "cell_type": "markdown",
   "metadata": {},
   "source": [
    "More information is needed. The time period is very limited."
   ]
  },
  {
   "cell_type": "markdown",
   "metadata": {
    "deletable": false,
    "editable": false
   },
   "source": [
    "<!-- END QUESTION -->\n",
    "\n",
    "### Outside Spending"
   ]
  },
  {
   "cell_type": "markdown",
   "metadata": {},
   "source": [
    "According to the [OpenSecrets Outside Spending page](https://www.opensecrets.org/outside-spending/summary):\n",
    "\n",
    "> A January 2010 Supreme Court decision (Citizens United v. Federal Election Commission) permits corporations and unions to make political expenditures from their treasuries directly and through other organizations, as long as the spending -- often in the form of TV ads -- is done independently of any candidate. In many cases, the activity takes place without complete or immediate disclosure about who is funding it, preventing voters from understanding who is truly behind many political messages. The spending figures cited are what the groups reported to the FEC; it does not account for all the money the groups spent, since certain kinds of ads are not required to be reported.\n",
    "\n",
    "Run the following cell to create the table `outside_spending` showing the outside spending for all the senate races in the 2022 election cycle.\n",
    "\n",
    "**Note**: The focus of the 2024 election cycle is on the presidential election, so similar data for this year doesn't show as much spending on advertising for and against each party. We've included the 2024 election cycle data in the file `outside_spending_2024.csv` if you want to explore it to see how the spending is much different."
   ]
  },
  {
   "cell_type": "code",
   "execution_count": 137,
   "metadata": {},
   "outputs": [
    {
     "data": {
      "text/html": [
       "<table border=\"1\" class=\"dataframe\">\n",
       "    <thead>\n",
       "        <tr>\n",
       "            <th>Race</th> <th>For Dems</th> <th>Against Dems</th> <th>For Repubs</th> <th>Against Repubs</th>\n",
       "        </tr>\n",
       "    </thead>\n",
       "    <tbody>\n",
       "        <tr>\n",
       "            <td>Pennsylvania Senate  </td> <td>39570169</td> <td>81322826    </td> <td>23957259  </td> <td>98219173      </td>\n",
       "        </tr>\n",
       "        <tr>\n",
       "            <td>Georgia Senate       </td> <td>42730486</td> <td>63251936    </td> <td>44095363  </td> <td>74837797      </td>\n",
       "        </tr>\n",
       "        <tr>\n",
       "            <td>Wisconsin Senate     </td> <td>13098167</td> <td>50040668    </td> <td>24146293  </td> <td>33780246      </td>\n",
       "        </tr>\n",
       "        <tr>\n",
       "            <td>Nevada Senate        </td> <td>20315783</td> <td>47703937    </td> <td>7994024   </td> <td>37128626      </td>\n",
       "        </tr>\n",
       "        <tr>\n",
       "            <td>Arizona Senate       </td> <td>22412869</td> <td>30491416    </td> <td>21034906  </td> <td>33829849      </td>\n",
       "        </tr>\n",
       "        <tr>\n",
       "            <td>North Carolina Senate</td> <td>6281440 </td> <td>42285557    </td> <td>25368517  </td> <td>23780490      </td>\n",
       "        </tr>\n",
       "        <tr>\n",
       "            <td>Ohio Senate          </td> <td>3948237 </td> <td>35271534    </td> <td>25812585  </td> <td>30631478      </td>\n",
       "        </tr>\n",
       "        <tr>\n",
       "            <td>New Hampshire Senate </td> <td>3992855 </td> <td>10641693    </td> <td>17520560  </td> <td>17843300      </td>\n",
       "        </tr>\n",
       "        <tr>\n",
       "            <td>Alabama Senate       </td> <td>0       </td> <td>0           </td> <td>16613271  </td> <td>14998353      </td>\n",
       "        </tr>\n",
       "        <tr>\n",
       "            <td>Colorado Senate      </td> <td>2186362 </td> <td>6179689     </td> <td>3164739   </td> <td>20011828      </td>\n",
       "        </tr>\n",
       "    </tbody>\n",
       "</table>"
      ],
      "text/plain": [
       "<IPython.core.display.HTML object>"
      ]
     },
     "metadata": {},
     "output_type": "display_data"
    }
   ],
   "source": [
    "outside_spending = Table.read_table('outside_spending_2022.csv')\n",
    "outside_spending.show()"
   ]
  },
  {
   "cell_type": "markdown",
   "metadata": {
    "tags": []
   },
   "source": [
    "### Task 14 📍🔎"
   ]
  },
  {
   "cell_type": "markdown",
   "metadata": {
    "deletable": false,
    "editable": false
   },
   "source": [
    "<!-- BEGIN QUESTION -->\n",
    "\n",
    "Create a few scatter plots using the `outside_spending` data. Stop when you find a visualization that shows a positive association.\n",
    "\n",
    "**Suggestion**: Try to find the positive association between two different attributes that seems the strongest!\n",
    "\n",
    "_Make sure to check your visualization with a classmate, a tutor, or the instructor before moving on since there is no auto-grader for this lab task._"
   ]
  },
  {
   "cell_type": "code",
   "execution_count": 138,
   "metadata": {
    "tags": []
   },
   "outputs": [
    {
     "data": {
      "image/png": "[encoded data removed]",
      "text/plain": [
       "<Figure size 500x500 with 1 Axes>"
      ]
     },
     "metadata": {},
     "output_type": "display_data"
    }
   ],
   "source": [
    "# Generate your chart in this cell\n",
    "outside_spending.scatter('For Repubs', 'Against Dems')"
   ]
  },
  {
   "cell_type": "markdown",
   "metadata": {
    "deletable": false,
    "editable": false
   },
   "source": [
    "<!-- END QUESTION -->\n",
    "\n",
    "Great work! You now have some practice with the basics of data visualization."
   ]
  },
  {
   "cell_type": "markdown",
   "metadata": {},
   "source": [
    "## Summary"
   ]
  },
  {
   "cell_type": "markdown",
   "metadata": {},
   "source": [
    "For your reference, here's a table of all the functions and methods we saw in this lab. As your list of operations expands, you'll find it help to consult with the [datascience documentation](https://datascience.readthedocs.io/) or the quick reference in Canvas rather than trying to memorize all the commands.\n",
    "\n",
    "|Name|Example|Purpose|\n",
    "|-|-|-|\n",
    "|`num_rows`|`tbl.num_rows`|Compute the number of rows in a table|\n",
    "|`num_columns`|`tbl.num_columns`|Compute the number of columns in a table|\n",
    "|`select`|`tbl.select(col1,col2,...)`|Create a copy of a table with only some of the columns|\n",
    "|`drop`|`tbl.drop(col1,col2,...)`|Create a copy of a table without some of the columns|\n",
    "|`where`|`tbl.where(\"N\", are.above(2))`|Create a copy of a table with only the rows that match some *predicate*|\n",
    "|`group`|`tbl.group(col)`|Create a table with the distinct values from `col` and the counts of those values|\n",
    "|`sort`|`tbl.sort(\"N\")`|Create a copy of a table sorted by the values in a column|\n",
    "|`take`|`tbl.take(row_indices)`|Create a copy of a table with only some of the rows|\n",
    "|`barh`|`tbl.barh(col)`|Create a horizontal bar chart for the values in the column|\n",
    "|`hist`|`tbl.hist(col)`|Create a histogram for the values in the column|\n",
    "|`plot`|`tbl.plot(col_x, col_y)`|Create a line plot using the columns|\n",
    "|`scatter`|`tbl.scatter(col_x, col_y)`|Create a scatter plot using the columns|"
   ]
  },
  {
   "cell_type": "markdown",
   "metadata": {},
   "source": [
    "## Submit your Lab to Canvas\n",
    "\n",
    "Once you have finished working on the lab questions, prepare to submit your work in Canvas by completing the following steps.\n",
    "\n",
    "1. In the related Canvas Assignment page, check the requirements for a Complete score for this lab assignments.\n",
    "2. Double-check that you have run the code cell near the end of the notebook that contains the command `\"grader.check_all()\"`. This command will run all of the run tests on all your responses to the auto-graded tasks marked with 📍.\n",
    "3. Double-check your responses to the manually graded tasks marked with 📍🔎.\n",
    "4. Select the menu items \"File\", \"Save and Export Notebook As...\", and \"HTML (.html)\" in the notebook's Toolbar to download an HTML version of this notebook file.\n",
    "5. In the related Canvas Assignment page, click Start Assignment or New Attempt to upload the downloaded HTML file."
   ]
  },
  {
   "cell_type": "markdown",
   "metadata": {
    "deletable": false,
    "editable": false
   },
   "source": [
    "---\n",
    "\n",
    "To double-check your work, the cell below will rerun all of the autograder tests."
   ]
  },
  {
   "cell_type": "code",
   "execution_count": 139,
   "metadata": {
    "deletable": false,
    "editable": false
   },
   "outputs": [
    {
     "data": {
      "text/plain": [
       "task_02 results: All test cases passed!\n",
       "task_02 - 1 message: ✅ Great work!\n",
       "\n",
       "task_03 results: All test cases passed!\n",
       "task_03 - 1 message: ✅ Great work. It seems you have the correct columns!\n",
       "task_03 - 2 message: ✅ Your table seems to have the correct information.\n",
       "\n",
       "task_04 results: All test cases passed!\n",
       "task_04 - 1 message: ✅ It seems you have the correct number of markets.\n",
       "task_04 - 2 message: ✅ You've filtered the table to just San Francisco markets.\n",
       "\n",
       "task_05 results: All test cases passed!\n",
       "task_05 - 1 message: ✅ You've made a table with the correct name.\n",
       "task_05 - 2 message: ✅ It seems like you have the correct number of columns!\n",
       "task_05 - 3 message: ✅ It seems like you have the values sorted correctly!\n",
       "\n",
       "task_06 results: All test cases passed!\n",
       "task_06 - 1 message: ✅ categorical_attributes is an array.\n",
       "task_06 - 2 message: ✅ categorical_attributes contains numbers 1 - 10.\n",
       "task_06 - 3 message: ✅ Great work on identifying all of the categorical attributes!\n",
       "\n",
       "task_08 results: All test cases passed!\n",
       "task_08 - 1 message: ✅ viewpoints is a Table.\n",
       "task_08 - 2 message: ✅ The viewpoints table has the correct number of rows and columns.\n",
       "task_08 - 3 message: ✅ The viewpoints table contains the label Recipient Viewpoint.\n",
       "task_08 - 4 message: ✅ The viewpoints table contains the label Percentage.\n",
       "task_08 - 5 message: ✅ It seems like the viewpoints table is correct!\n",
       "\n",
       "task_10 results: All test cases passed!\n",
       "task_10 - 1 message: ✅ The labels of the corporate_contributions table seem correct.\n",
       "task_10 - 2 message: ✅ The values in the Amount column are floats.\n",
       "task_10 - 3 message: ✅ The values in the Amount column seem correct."
      ]
     },
     "execution_count": 139,
     "metadata": {},
     "output_type": "execute_result"
    }
   ],
   "source": [
    "grader.check_all()"
   ]
  },
  {
   "cell_type": "code",
   "execution_count": null,
   "metadata": {},
   "outputs": [],
   "source": []
  }
 ],
 "metadata": {
  "hide_input": false,
  "kernelspec": {
   "display_name": "Python 3 (ipykernel)",
   "language": "python",
   "name": "python3"
  },
  "language_info": {
   "codemirror_mode": {
    "name": "ipython",
    "version": 3
   },
   "file_extension": ".py",
   "mimetype": "text/x-python",
   "name": "python",
   "nbconvert_exporter": "python",
   "pygments_lexer": "ipython3",
   "version": "3.10.12"
  },
  "otter": {
   "OK_FORMAT": true,
   "assignment_name": "lab03_sp24",
   "tests": {
    "task_02": {
     "name": "task_02",
     "points": null,
     "suites": [
      {
       "cases": [
        {
         "code": ">>> num_farmers_markets_columns == 59\nTrue",
         "failure_message": "❌ It doesn't seem that you have the correct value. Make sure you using .num_columns directly after the name of the table.",
         "hidden": false,
         "locked": false,
         "success_message": "✅ Great work!"
        }
       ],
       "scored": true,
       "setup": "",
       "teardown": "",
       "type": "doctest"
      }
     ]
    },
    "task_03": {
     "name": "task_03",
     "points": null,
     "suites": [
      {
       "cases": [
        {
         "code": ">>> sorted(farmers_markets_locations.labels) == ['County', 'MarketName', 'State', 'city', 'x', 'y']\nTrue",
         "failure_message": "❌ It doesn't seem that you have the correct columns. Make sure you are using the names of the 5 column, sepearted by commas, as the input for .select().",
         "hidden": false,
         "locked": false,
         "success_message": "✅ Great work. It seems you have the correct columns!"
        },
        {
         "code": ">>> farmers_markets_locations.num_rows == 1681 and farmers_markets_locations.sort('State').row(10).item(3) == 'Alabama'\nTrue",
         "failure_message": "❌ It doesn't seem that you all of the information from the table for those specific columns",
         "hidden": false,
         "locked": false,
         "success_message": "✅ Your table seems to have the correct information."
        }
       ],
       "scored": true,
       "setup": "",
       "teardown": "",
       "type": "doctest"
      }
     ]
    },
    "task_04": {
     "name": "task_04",
     "points": null,
     "suites": [
      {
       "cases": [
        {
         "code": ">>> sf_markets.num_rows == 3\nTrue",
         "failure_message": "❌ It doesn't seem that you have the correct number of markets. Make sure you are using the where method with the 'city' column as the first arugment and and correct city as the second argument",
         "hidden": false,
         "locked": false,
         "success_message": "✅ It seems you have the correct number of markets."
        },
        {
         "code": ">>> list(sf_markets.column('city')) == ['San Francisco', 'San Francisco', 'San Francisco']\nTrue",
         "failure_message": "❌ It doesn't seem that you have filtered the table to just San Francisco markets. Make sure to double-check your spelling.",
         "hidden": false,
         "locked": false,
         "success_message": "✅ You've filtered the table to just San Francisco markets."
        }
       ],
       "scored": true,
       "setup": "",
       "teardown": "",
       "type": "doctest"
      }
     ]
    },
    "task_05": {
     "name": "task_05",
     "points": null,
     "suites": [
      {
       "cases": [
        {
         "code": ">>> isinstance(top_8_by_county, Table)\nTrue",
         "failure_message": "❌ It doesn't seem that you made a table with the correct name.",
         "hidden": false,
         "locked": false,
         "success_message": "✅ You've made a table with the correct name."
        },
        {
         "code": ">>> top_8_by_county.num_columns == 2\nTrue",
         "failure_message": "❌ It seems that you don't have the correct number of columns. Don't forget about the group method.",
         "hidden": false,
         "locked": false,
         "success_message": "✅ It seems like you have the correct number of columns!"
        },
        {
         "code": ">>> np.all(top_8_by_county.column('count') == make_array(28, 10, 10, 7, 7, 6, 6, 5))\nTrue",
         "failure_message": "❌ It doesn't seem that you sorted the values correct. Don't forget about the optional argument called descending.",
         "hidden": false,
         "locked": false,
         "success_message": "✅ It seems like you have the values sorted correctly!"
        }
       ],
       "scored": true,
       "setup": "",
       "teardown": "",
       "type": "doctest"
      }
     ]
    },
    "task_06": {
     "name": "task_06",
     "points": null,
     "suites": [
      {
       "cases": [
        {
         "code": ">>> isinstance(categorical_attributes, np.ndarray)\nTrue",
         "failure_message": "❌ categorical_attributes should be an array. Try using make_array to make an array with your choice of numbers 1 - 10.",
         "hidden": false,
         "locked": false,
         "points": 1,
         "success_message": "✅ categorical_attributes is an array."
        },
        {
         "code": ">>> set(categorical_attributes).issubset(set(np.arange(1, 11)))\nTrue",
         "failure_message": "❌ categorical_attributes should contain numbers 1 - 10 to reflect the 10 possible attributes.",
         "hidden": false,
         "locked": false,
         "points": 1,
         "success_message": "✅ categorical_attributes contains numbers 1 - 10."
        },
        {
         "code": ">>> set(categorical_attributes) == {2, 5, 6, 7, 9, 10}\nTrue",
         "failure_message": "❌ It seems like some of your choices are incorrect and are more likely to be considered as numerical attributes.",
         "hidden": false,
         "locked": false,
         "points": 1,
         "success_message": "✅ Great work on identifying all of the categorical attributes!"
        }
       ],
       "scored": true,
       "setup": "",
       "teardown": "",
       "type": "doctest"
      }
     ]
    },
    "task_08": {
     "name": "task_08",
     "points": null,
     "suites": [
      {
       "cases": [
        {
         "code": ">>> isinstance(viewpoints, Table)\nTrue",
         "failure_message": "❌ viewpoints is not a Table. Use the group table method with corporate_contributions to produce a Table.",
         "hidden": false,
         "locked": false,
         "points": 1,
         "success_message": "✅ viewpoints is a Table."
        },
        {
         "code": ">>> viewpoints.num_columns == 2 and viewpoints.num_rows == 3\nTrue",
         "failure_message": "❌ The viewpoints table should have 3 rows and 2 columns.",
         "hidden": false,
         "locked": false,
         "points": 1,
         "success_message": "✅ The viewpoints table has the correct number of rows and columns."
        },
        {
         "code": ">>> 'Recipient Viewpoint' in viewpoints.labels\nTrue",
         "failure_message": "❌ The viewpoints table doesn't contain the label Recipient Viewpoint. Are you grouping by Recipient Viewpoint?",
         "hidden": false,
         "locked": false,
         "points": 1,
         "success_message": "✅ The viewpoints table contains the label Recipient Viewpoint."
        },
        {
         "code": ">>> 'Percentage' in viewpoints.labels\nTrue",
         "failure_message": "❌ The viewpoints table doesn't contain the label Percentage. Create an array of percentages and add that information back to the table.",
         "hidden": false,
         "locked": false,
         "points": 1,
         "success_message": "✅ The viewpoints table contains the label Percentage."
        },
        {
         "code": ">>> viewpoints\nRecipient Viewpoint | Percentage\nConservative        | 66.6667\nLiberal             | 12.1212\nnan                 | 21.2121",
         "failure_message": "❌ It doesn't seem like the viewpoints table is correct. Ask for help before moving on.",
         "hidden": false,
         "locked": false,
         "points": 1,
         "success_message": "✅ It seems like the viewpoints table is correct!"
        }
       ],
       "scored": true,
       "setup": "",
       "teardown": "",
       "type": "doctest"
      }
     ]
    },
    "task_10": {
     "name": "task_10",
     "points": null,
     "suites": [
      {
       "cases": [
        {
         "code": ">>> corporate_contributions.labels == ('Contributor', 'Recipient', 'Amount', 'Date', 'Recipient Viewpoint')\nTrue",
         "failure_message": "❌ The labels of the corporate_contributions table doesn't seem correct. You should have the same labels that you did before this task.",
         "hidden": false,
         "locked": false,
         "points": 1,
         "success_message": "✅ The labels of the corporate_contributions table seem correct."
        },
        {
         "code": ">>> isinstance(corporate_contributions.column('Amount').item(0), float)\nTrue",
         "failure_message": "❌ The values in the Amount column should be floats. Try using with_column with the label name `Amount` and amounts array we created for you.",
         "hidden": false,
         "locked": false,
         "points": 1,
         "success_message": "✅ The values in the Amount column are floats."
        },
        {
         "code": ">>> sum(corporate_contributions.column('Amount')) == 121500000.0\nTrue",
         "failure_message": "❌ The values in the Amount column are not correct. Get help before moving on.",
         "hidden": false,
         "locked": false,
         "points": 1,
         "success_message": "✅ The values in the Amount column seem correct."
        }
       ],
       "scored": true,
       "setup": "",
       "teardown": "",
       "type": "doctest"
      }
     ]
    }
   }
  },
  "toc-autonumbering": false,
  "toc-showmarkdowntxt": false
 },
 "nbformat": 4,
 "nbformat_minor": 4
}
