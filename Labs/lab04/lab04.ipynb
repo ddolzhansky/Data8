{
 "cells": [
  {
   "cell_type": "code",
   "execution_count": 87,
   "metadata": {
    "deletable": false,
    "editable": false
   },
   "outputs": [],
   "source": [
    "# Initialize Otter\n",
    "import otter\n",
    "grader = otter.Notebook(\"lab04.ipynb\")"
   ]
  },
  {
   "cell_type": "markdown",
   "metadata": {},
   "source": [
    "<img style=\"display: block; margin-left: auto; margin-right: auto\" src=\"./ccsf-logo.png\" width=\"250rem;\" alt=\"The CCSF black and white logo\">"
   ]
  },
  {
   "cell_type": "markdown",
   "metadata": {},
   "source": [
    "# Lab 04 - Functions and Aggregation"
   ]
  },
  {
   "cell_type": "markdown",
   "metadata": {},
   "source": [
    "## References"
   ]
  },
  {
   "cell_type": "markdown",
   "metadata": {},
   "source": [
    "* [Sections 8.0 - 7.2 of the Textbook](https://inferentialthinking.com/chapters/08/Functions_and_Tables.html)\n",
    "* [datascience Documentation](https://datascience.readthedocs.io/)"
   ]
  },
  {
   "cell_type": "markdown",
   "metadata": {},
   "source": [
    "## Assignment Reminders"
   ]
  },
  {
   "cell_type": "markdown",
   "metadata": {},
   "source": [
    "- Make sure to run the code cell at the top of this notebook that starts with `# Initialize Otter` to load the auto-grader.\n",
    "- For all tasks indicated with a 🔎 that you must write explanations and sentences for, provide your answer in the designated space.\n",
    "- Throughout this assignment and all future ones, please be sure to not re-assign variables throughout the notebook! _For example, if you use `max_temperature` in your answer to one question, do not reassign it later on. Otherwise, you will fail tests that you thought you were passing previously!_\n",
    "- Collaborating on labs is more than okay -- it's encouraged! You should rarely remain stuck for more than a few minutes on questions in labs, so ask an instructor or classmate for help. (Explaining things is beneficial, too -- the best way to solidify your knowledge of a subject is to explain it.) Please don't just share answers, though.\n",
    "- View the related <a href=\"https://ccsf.instructure.com\" target=\"_blank\">Canvas</a> Assignment page for additional details."
   ]
  },
  {
   "cell_type": "markdown",
   "metadata": {},
   "source": [
    "Run the following cell to set up the lab, and make sure you run the cell at the top of the notebook that initializes Otter."
   ]
  },
  {
   "cell_type": "code",
   "execution_count": 8,
   "metadata": {},
   "outputs": [],
   "source": [
    "from datascience import *\n",
    "import numpy as np\n",
    "%matplotlib inline\n",
    "import matplotlib.pyplot as plt\n",
    "plt.style.use('fivethirtyeight')\n",
    "\n",
    "# Interactive Widgets\n",
    "from ipywidgets import interact, interactive, fixed, interact_manual\n",
    "import ipywidgets as widgets"
   ]
  },
  {
   "cell_type": "markdown",
   "metadata": {},
   "source": [
    "## Defining functions"
   ]
  },
  {
   "cell_type": "markdown",
   "metadata": {},
   "source": [
    "Let's write a very simple function that converts a proportion to a percentage by multiplying it by 100.  For example, the value of `to_percentage(.5)` should be the number 50 (no percent sign).\n",
    "\n",
    "A function definition has a few parts."
   ]
  },
  {
   "cell_type": "markdown",
   "metadata": {},
   "source": [
    "### `def`"
   ]
  },
  {
   "cell_type": "markdown",
   "metadata": {},
   "source": [
    "It always starts with `def` (short for **def**ine):\n",
    "\n",
    "``` python\n",
    "def\n",
    "```"
   ]
  },
  {
   "cell_type": "markdown",
   "metadata": {},
   "source": [
    "### Name"
   ]
  },
  {
   "cell_type": "markdown",
   "metadata": {},
   "source": [
    "Next comes the name of the function.  Like other names we've defined, it can't start with a number or contain spaces. Let's call our function `to_percentage`:\n",
    "\n",
    "``` python\n",
    "def to_percentage\n",
    "```"
   ]
  },
  {
   "cell_type": "markdown",
   "metadata": {},
   "source": [
    "### Signature"
   ]
  },
  {
   "cell_type": "markdown",
   "metadata": {},
   "source": [
    "Next comes something called the *signature* of the function.  This tells Python how many arguments your function should have, and what names you'll use to refer to those arguments in the function's code.  A function can have any number of arguments (including 0!). \n",
    "\n",
    "`to_percentage` should take one argument, and we'll call that argument `proportion` since it should be a proportion.\n",
    "\n",
    "``` python\n",
    "def to_percentage(proportion)\n",
    "```\n",
    "\n",
    "If we want our function to take more than one argument, we add a comma between each argument name. Note that if we had zero arguments, we'd still place the parentheses () after than name. \n",
    "\n",
    "We put a colon after the signature to tell Python it's over. If you're getting a syntax error after defining a function, check to make sure you remembered the colon!\n",
    "\n",
    "``` python\n",
    "def to_percentage(proportion):\n",
    "```"
   ]
  },
  {
   "cell_type": "markdown",
   "metadata": {},
   "source": [
    "### Documentation"
   ]
  },
  {
   "cell_type": "markdown",
   "metadata": {},
   "source": [
    "Functions can do complicated things, so you should write an explanation of what your function does.  For small functions, this is less important, but it's a good habit to learn from the start.  Conventionally, Python functions are documented by writing an **indented** triple-quoted string:\n",
    "\n",
    "``` python\n",
    "def to_percentage(proportion):\n",
    "    \"\"\"Converts a proportion to a percentage.\"\"\"\n",
    "```"
   ]
  },
  {
   "cell_type": "markdown",
   "metadata": {},
   "source": [
    "### Body"
   ]
  },
  {
   "cell_type": "markdown",
   "metadata": {},
   "source": [
    "Now we start writing code that runs when the function is called.  This is called the *body* of the function and every line **must be indented with a tab or 4 spaces**.  Any lines that are *not* indented and left-aligned with the def statement is considered outside the function. \n",
    "\n",
    "Some notes about the body of the function:\n",
    "- We can write code that we would write anywhere else.  \n",
    "- We use the arguments defined in the function signature. We can do this because we assume that when we call the function, values are already assigned to those arguments.\n",
    "- We generally avoid referencing variables defined *outside* the function. If you would like to reference variables outside of the function, pass them through as arguments!\n",
    "\n",
    "\n",
    "Now, let's give a name to the number we multiply a proportion by to get a percentage:\n",
    "\n",
    "``` python\n",
    "def to_percentage(proportion):\n",
    "    \"\"\"Converts a proportion to a percentage.\"\"\"\n",
    "    factor = 100\n",
    "```"
   ]
  },
  {
   "cell_type": "markdown",
   "metadata": {},
   "source": [
    "### `return`"
   ]
  },
  {
   "cell_type": "markdown",
   "metadata": {},
   "source": [
    "The special instruction `return` is part of the function's body and tells Python to make the value of the function call equal to whatever comes right after `return`.  We want the value of `to_percentage(.5)` to be the proportion .5 times the factor 100, so we write:\n",
    "\n",
    "``` python\n",
    "def to_percentage(proportion):\n",
    "    \"\"\"Converts a proportion to a percentage.\"\"\"\n",
    "    factor = 100\n",
    "    return proportion * factor\n",
    "```\n",
    "        \n",
    "`return` only makes sense in the context of a function, and **can never be used outside of a function**. If present, `return` is always the last line of the function because Python stops executing the body of a function once it hits a `return` statement.\n",
    "\n",
    "*Note:*  `return` inside a function tells Python what value the function evaluates to. However, there are other functions, like `print`, that have no `return` value. For example, `print` simply prints a certain value out to the console. \n",
    "\n",
    "`return` and `print` are **very** different. "
   ]
  },
  {
   "cell_type": "markdown",
   "metadata": {},
   "source": [
    "### Task 01 📍"
   ]
  },
  {
   "cell_type": "markdown",
   "metadata": {
    "deletable": false,
    "editable": false
   },
   "source": [
    "1. Define `to_percentage` in the cell below.\n",
    "2. Call your function to convert the proportion 0.2 to a percentage and name the output `twenty_percent`.\n"
   ]
  },
  {
   "cell_type": "code",
   "execution_count": 89,
   "metadata": {
    "tags": []
   },
   "outputs": [
    {
     "data": {
      "text/plain": [
       "20.0"
      ]
     },
     "execution_count": 89,
     "metadata": {},
     "output_type": "execute_result"
    }
   ],
   "source": [
    "def to_percentage(proportion):\n",
    "\n",
    "    \"\"\"\"\n",
    "    Converts a proportion to a percentage.\n",
    "    \n",
    "    >>> to_percentage(0.25)\n",
    "    25.0\n",
    "    \"\"\"\n",
    "    return proportion * 100\n",
    "    \n",
    "twenty_percent = to_percentage(0.2)\n",
    "twenty_percent\n"
   ]
  },
  {
   "cell_type": "code",
   "execution_count": 90,
   "metadata": {
    "deletable": false,
    "editable": false
   },
   "outputs": [
    {
     "data": {
      "text/html": [
       "<p><strong><pre style='display: inline;'>task_01</pre></strong> passed! 🙌</p><p><strong><pre style='display: inline;'>task_01 - 1</pre> message:</strong> ✅ It seems like your function is working!</p>"
      ],
      "text/plain": [
       "task_01 results: All test cases passed!\n",
       "task_01 - 1 message: ✅ It seems like your function is working!"
      ]
     },
     "execution_count": 90,
     "metadata": {},
     "output_type": "execute_result"
    }
   ],
   "source": [
    "grader.check(\"task_01\")"
   ]
  },
  {
   "cell_type": "markdown",
   "metadata": {},
   "source": [
    "Like you’ve done with built-in functions in previous labs (max, abs, etc.), you can pass in named values as arguments to your function."
   ]
  },
  {
   "cell_type": "markdown",
   "metadata": {},
   "source": [
    "### Task 02 📍"
   ]
  },
  {
   "cell_type": "markdown",
   "metadata": {
    "deletable": false,
    "editable": false
   },
   "source": [
    "Use `to_percentage` again to convert the proportion named `a_proportion` (defined below) to a percentage called `a_percentage`.\n",
    "\n",
    "*Note:* You don't need to define `to_percentage` again!  Like other named values, functions stick around after you define them.\n"
   ]
  },
  {
   "cell_type": "code",
   "execution_count": 91,
   "metadata": {
    "tags": []
   },
   "outputs": [
    {
     "data": {
      "text/plain": [
       "70.71067811865476"
      ]
     },
     "execution_count": 91,
     "metadata": {},
     "output_type": "execute_result"
    }
   ],
   "source": [
    "a_proportion = 2 ** (0.5) / 2\n",
    "a_percentage = to_percentage(a_proportion)\n",
    "a_percentage"
   ]
  },
  {
   "cell_type": "code",
   "execution_count": 92,
   "metadata": {
    "deletable": false,
    "editable": false
   },
   "outputs": [
    {
     "data": {
      "text/html": [
       "<p><strong><pre style='display: inline;'>task_02</pre></strong> passed! 🌈</p><p><strong><pre style='display: inline;'>task_02 - 1</pre> message:</strong> ✅ Great work calling the function on the value named a_proportion.</p>"
      ],
      "text/plain": [
       "task_02 results: All test cases passed!\n",
       "task_02 - 1 message: ✅ Great work calling the function on the value named a_proportion."
      ]
     },
     "execution_count": 92,
     "metadata": {},
     "output_type": "execute_result"
    }
   ],
   "source": [
    "grader.check(\"task_02\")"
   ]
  },
  {
   "cell_type": "markdown",
   "metadata": {},
   "source": [
    "Here's something important about functions: the names assigned *within* a function body are only accessible within the function body. Once the function has returned, those names are gone.  So even if you created a variable called `factor` and defined `factor = 100` inside of the body of the `to_percentage` function and then called `to_percentage`, `factor` would not have a value assigned to it outside of the body of `to_percentage`."
   ]
  },
  {
   "cell_type": "markdown",
   "metadata": {},
   "source": [
    "As we've seen with built-in functions, functions can also take strings (or arrays, or tables) as arguments, and they can return those things, too."
   ]
  },
  {
   "cell_type": "markdown",
   "metadata": {},
   "source": [
    "### Task 03 📍"
   ]
  },
  {
   "cell_type": "markdown",
   "metadata": {
    "deletable": false,
    "editable": false
   },
   "source": [
    "Define a function called `disemvowel`.  It should take a single string as its argument.  (You can call that argument whatever you want.)  It should return a copy of that string, but with all the characters that are vowels removed.  (In English, the vowels are the characters \"a\", \"e\", \"i\", \"o\", and \"u\".) You can use as many lines inside of the function to do this as you’d like.\n",
    "\n",
    "*Hint:* To remove all the \"a\"s from a string, you can use `that_string.replace(\"a\", \"\")`.  The `.replace` method for strings returns a new string, so you can call `replace` multiple times, one after the other. \n"
   ]
  },
  {
   "cell_type": "code",
   "execution_count": 94,
   "metadata": {
    "tags": []
   },
   "outputs": [
    {
     "data": {
      "text/plain": [
       "'Cn y rd ths wtht vwls?'"
      ]
     },
     "execution_count": 94,
     "metadata": {},
     "output_type": "execute_result"
    }
   ],
   "source": [
    "def disemvowel(a_string):\n",
    "    \"\"\"\n",
    "    Removes all vowels from a string.\n",
    "    \n",
    "    >>> disemvowel('datascience')\n",
    "    'dtscnc'\n",
    "    \"\"\" \n",
    "    vowels = \"aeiouAEIOU\"\n",
    "    for vowel in vowels:\n",
    "        a_string = a_string.replace(vowel, \"\")\n",
    "    return a_string\n",
    "\n",
    "# Checking to see if your function works for an example string.\n",
    "disemvowel(\"Can you read this without vowels?\")"
   ]
  },
  {
   "cell_type": "code",
   "execution_count": 95,
   "metadata": {
    "deletable": false,
    "editable": false
   },
   "outputs": [
    {
     "data": {
      "text/html": [
       "<p><strong><pre style='display: inline;'>task_03</pre></strong> passed! 🚀</p><p><strong><pre style='display: inline;'>task_03 - 1</pre> message:</strong> ✅ It looks like disemvowel is working correctly.</p>"
      ],
      "text/plain": [
       "task_03 results: All test cases passed!\n",
       "task_03 - 1 message: ✅ It looks like disemvowel is working correctly."
      ]
     },
     "execution_count": 95,
     "metadata": {},
     "output_type": "execute_result"
    }
   ],
   "source": [
    "grader.check(\"task_03\")"
   ]
  },
  {
   "cell_type": "markdown",
   "metadata": {},
   "source": [
    "### Calls on calls on calls"
   ]
  },
  {
   "cell_type": "markdown",
   "metadata": {},
   "source": [
    "Just as you write a series of lines to build up a complex computation, it's useful to define a series of small functions that build on each other.  Since you can write any code inside a function's body, you can call other functions you've written.\n",
    "\n",
    "If a function is a like a recipe, defining a function in terms of other functions is like having a recipe for cake telling you to follow another recipe to make the frosting, and another to make the jam filling.  This makes the cake recipe shorter and clearer, and it avoids having a bunch of duplicated frosting recipes.  It's a foundation of productive programming.\n",
    "\n",
    "For example, suppose you want to count the number of characters *that aren't vowels* in a piece of text.  One way to do that is this to remove all the vowels and count the size of the remaining string."
   ]
  },
  {
   "cell_type": "markdown",
   "metadata": {},
   "source": [
    "### Task 04 📍"
   ]
  },
  {
   "cell_type": "markdown",
   "metadata": {
    "deletable": false,
    "editable": false
   },
   "source": [
    "Write a function called `num_non_vowels`.  It should take a string as its argument and return a number.  That number should be the number of characters in the argument string that aren't vowels. You should use the `disemvowel` function you wrote above inside of the `num_non_vowels` function.\n",
    "\n",
    "*Hint:* The function `len` takes a string as its argument and returns the number of characters in it.\n"
   ]
  },
  {
   "cell_type": "code",
   "execution_count": 96,
   "metadata": {
    "tags": []
   },
   "outputs": [
    {
     "data": {
      "text/plain": [
       "6"
      ]
     },
     "execution_count": 96,
     "metadata": {},
     "output_type": "execute_result"
    }
   ],
   "source": [
    "def num_non_vowels(a_string):\n",
    "    \"\"\"\n",
    "    The number of characters in a string, minus the vowels.\n",
    "    \n",
    "    >>> num_non_vowels('datascience')\n",
    "    \n",
    "    6\n",
    "    \"\"\"\n",
    "    non_vowel = disemvowel(a_string)\n",
    "    return len(non_vowel)\n",
    "\n",
    "# Try running an example function call of num_non_vowels below to test out your code.\n",
    "...\n",
    "\n",
    "result = num_non_vowels(\"datascience\")\n",
    "result"
   ]
  },
  {
   "cell_type": "code",
   "execution_count": 97,
   "metadata": {
    "deletable": false,
    "editable": false
   },
   "outputs": [
    {
     "data": {
      "text/html": [
       "<p><strong><pre style='display: inline;'>task_04</pre></strong> passed! ✨</p><p><strong><pre style='display: inline;'>task_04 - 1</pre> message:</strong> ✅ It seems like your function num_non_vowels is working correctly!</p>"
      ],
      "text/plain": [
       "task_04 results: All test cases passed!\n",
       "task_04 - 1 message: ✅ It seems like your function num_non_vowels is working correctly!"
      ]
     },
     "execution_count": 97,
     "metadata": {},
     "output_type": "execute_result"
    }
   ],
   "source": [
    "grader.check(\"task_04\")"
   ]
  },
  {
   "cell_type": "markdown",
   "metadata": {},
   "source": [
    "Functions can also encapsulate code that *displays output* instead of computing a value. For example, if you call `print` inside a function, and then call that function, something will get printed.\n",
    "\n",
    "The `top_movies_1995_2022.csv` dataset has information about movie sales in recent years.  Suppose you'd like to display the year with the 5th-highest total gross (adjusted) movie sales, printed in a human-readable way.  You might do this:"
   ]
  },
  {
   "cell_type": "code",
   "execution_count": 31,
   "metadata": {},
   "outputs": [
    {
     "name": "stdout",
     "output_type": "stream",
     "text": [
      "Year number 5 for total gross movie sales was: 2022\n"
     ]
    }
   ],
   "source": [
    "movies_by_year = Table.read_table(\"top_movies_1995_2022.csv\")\n",
    "k = 5\n",
    "fifth_from_top_movie_year = movies_by_year.sort(\"Total Gross (Adjusted)\", descending=True).column(\"Year\").item(k-1)\n",
    "print(\"Year number\", k, \"for total gross movie sales was:\", fifth_from_top_movie_year)"
   ]
  },
  {
   "cell_type": "markdown",
   "metadata": {},
   "source": [
    "After writing this, you realize you also wanted to print out the 2nd and 3rd-highest years.  Instead of copying your code, you decide to put it in a function.  Since the rank varies, you make that an argument to your function."
   ]
  },
  {
   "cell_type": "markdown",
   "metadata": {},
   "source": [
    "### Task 05 📍"
   ]
  },
  {
   "cell_type": "markdown",
   "metadata": {
    "deletable": false,
    "editable": false
   },
   "source": [
    "Write a function called `print_kth_top_movie_year`.\n",
    "\n",
    "* It should take a single argument, `k`, the rank of the year (like 2, 3, or 5 in the above examples).  \n",
    "* It should print out a message like the one above.  So, rather than a `return` statement, your function will have a `print` statement at the end."
   ]
  },
  {
   "cell_type": "code",
   "execution_count": 99,
   "metadata": {
    "tags": []
   },
   "outputs": [
    {
     "name": "stdout",
     "output_type": "stream",
     "text": [
      "Year number 2 for total gross movie sales was: 2019\n"
     ]
    }
   ],
   "source": [
    "def print_kth_top_movie_year(k):\n",
    "    \n",
    "    movies_by_year = Table.read_table(\"top_movies_1995_2022.csv\")\n",
    "    kth_movie_year = movies_by_year.sort(\"Total Gross (Adjusted)\", descending=True).column(\"Year\").item(k-1)\n",
    "    print(\"Year number\", k, \"for total gross movie sales was:\", kth_movie_year)\n",
    "\n",
    "# Try running an example function call below with k = 2 to test out your code.\n",
    "print_kth_top_movie_year(2)"
   ]
  },
  {
   "cell_type": "code",
   "execution_count": 100,
   "metadata": {
    "deletable": false,
    "editable": false
   },
   "outputs": [
    {
     "data": {
      "text/html": [
       "<p><strong><pre style='display: inline;'>task_05</pre></strong> passed! 💯</p><p><strong><pre style='display: inline;'>task_05 - 1</pre> message:</strong> ✅ It seems like your function print_kth_top_movie_year is working correctly!</p>"
      ],
      "text/plain": [
       "task_05 results: All test cases passed!\n",
       "task_05 - 1 message: ✅ It seems like your function print_kth_top_movie_year is working correctly!"
      ]
     },
     "execution_count": 100,
     "metadata": {},
     "output_type": "execute_result"
    }
   ],
   "source": [
    "grader.check(\"task_05\")"
   ]
  },
  {
   "cell_type": "markdown",
   "metadata": {},
   "source": [
    "`interact` from the `ipywidgets` module allows you to pass in an array for a function argument. It will then present a dropdown menu of options. Run the following cell to see how it works.\n",
    "\n",
    "`interact` produces an output that isn't helpful in this context. Some people use a symbol like the underscore `_` for the name of something that produces an unwanted output to prevent form showing."
   ]
  },
  {
   "cell_type": "code",
   "execution_count": 37,
   "metadata": {
    "tags": []
   },
   "outputs": [
    {
     "data": {
      "application/vnd.jupyter.widget-view+json": {
       "model_id": "77f16fa1f84947759662859ff1366efc",
       "version_major": 2,
       "version_minor": 0
      },
      "text/plain": [
       "interactive(children=(Dropdown(description='k', options=(1, 2, 3, 4, 5, 6, 7, 8, 9), value=1), Output()), _dom…"
      ]
     },
     "metadata": {},
     "output_type": "display_data"
    }
   ],
   "source": [
    "_ = interact(print_kth_top_movie_year, k=np.arange(1, 10))"
   ]
  },
  {
   "cell_type": "markdown",
   "metadata": {},
   "source": [
    "### `print` is not the same as `return`"
   ]
  },
  {
   "cell_type": "markdown",
   "metadata": {},
   "source": [
    "The `print_kth_top_movie_year(k)` function prints the total gross movie sales for the year that was provided! However, since we did not return any value in this function, we can not use it after we call it. Let's look at an example of another function that prints a value but does not return it."
   ]
  },
  {
   "cell_type": "code",
   "execution_count": 2,
   "metadata": {
    "tags": []
   },
   "outputs": [],
   "source": [
    "def print_number_five():\n",
    "    print(5)"
   ]
  },
  {
   "cell_type": "code",
   "execution_count": 4,
   "metadata": {
    "tags": []
   },
   "outputs": [
    {
     "name": "stdout",
     "output_type": "stream",
     "text": [
      "5\n"
     ]
    }
   ],
   "source": [
    "print_number_five()"
   ]
  },
  {
   "cell_type": "markdown",
   "metadata": {},
   "source": [
    "However, if we try to use the output of `print_number_five()`, we see that the value `5` is printed but we get a TypeError when we try to add the number 2 to it!"
   ]
  },
  {
   "cell_type": "markdown",
   "metadata": {},
   "source": [
    "<img src=\"./nonetype_error.png\" alt=\"The TypeError seen when using the named output of print statement.\">"
   ]
  },
  {
   "cell_type": "markdown",
   "metadata": {},
   "source": [
    "It may seem that `print_number_five()` is returning a value, 5. In reality, it just displays the number 5 to you without giving you the actual value! If your function prints out a value without returning it and you try to use that value, you will run into errors, so be careful!\n",
    "\n",
    "Explain to your neighbor how you might add a line of code to the `print_number_five` function (after `print(5)`) so that the code `print_number_five_output + 5` would result in the value `10`, rather than an error."
   ]
  },
  {
   "cell_type": "markdown",
   "metadata": {},
   "source": [
    "## Functions and CEO Incomes"
   ]
  },
  {
   "cell_type": "markdown",
   "metadata": {},
   "source": [
    "In this question, we'll look at the 2015 compensation of CEOs at the 100 largest companies in California. The data was compiled from a [Los Angeles Times analysis](http://spreadsheets.latimes.com/california-ceo-compensation/), and ultimately came from [filings](https://www.sec.gov/answers/proxyhtf.htm) mandated by the SEC from all publicly-traded companies. Two companies have two CEOs, so there are 102 CEOs in the dataset.\n",
    "\n",
    "We've copied the raw data from the LA Times page into a file called `raw_compensation.csv`. (The page notes that all dollar amounts are in **millions of dollars**.)"
   ]
  },
  {
   "cell_type": "code",
   "execution_count": 9,
   "metadata": {
    "tags": []
   },
   "outputs": [
    {
     "data": {
      "text/html": [
       "<table border=\"1\" class=\"dataframe\">\n",
       "    <thead>\n",
       "        <tr>\n",
       "            <th>Rank</th> <th>Name</th> <th>Company (Headquarters)</th> <th>Total Pay</th> <th>% Change</th> <th>Cash Pay</th> <th>Equity Pay</th> <th>Other Pay</th> <th>Ratio of CEO pay to average industry worker pay</th>\n",
       "        </tr>\n",
       "    </thead>\n",
       "    <tbody>\n",
       "        <tr>\n",
       "            <td>1   </td> <td>Mark V. Hurd*     </td> <td>Oracle (Redwood City)         </td> <td>$53.25   </td> <td>(No previous year)</td> <td>$0.95   </td> <td>$52.27    </td> <td>$0.02    </td> <td>362                                            </td>\n",
       "        </tr>\n",
       "        <tr>\n",
       "            <td>2   </td> <td>Safra A. Catz*    </td> <td>Oracle (Redwood City)         </td> <td>$53.24   </td> <td>(No previous year)</td> <td>$0.95   </td> <td>$52.27    </td> <td>$0.02    </td> <td>362                                            </td>\n",
       "        </tr>\n",
       "        <tr>\n",
       "            <td>3   </td> <td>Robert A. Iger    </td> <td>Walt Disney (Burbank)         </td> <td>$44.91   </td> <td>-3%               </td> <td>$24.89  </td> <td>$17.28    </td> <td>$2.74    </td> <td>477                                            </td>\n",
       "        </tr>\n",
       "        <tr>\n",
       "            <td>4   </td> <td>Marissa A. Mayer  </td> <td>Yahoo! (Sunnyvale)            </td> <td>$35.98   </td> <td>-15%              </td> <td>$1.00   </td> <td>$34.43    </td> <td>$0.55    </td> <td>342                                            </td>\n",
       "        </tr>\n",
       "        <tr>\n",
       "            <td>5   </td> <td>Marc Benioff      </td> <td>salesforce.com (San Francisco)</td> <td>$33.36   </td> <td>-16%              </td> <td>$4.65   </td> <td>$27.26    </td> <td>$1.45    </td> <td>338                                            </td>\n",
       "        </tr>\n",
       "        <tr>\n",
       "            <td>6   </td> <td>John H. Hammergren</td> <td>McKesson (San Francisco)      </td> <td>$24.84   </td> <td>-4%               </td> <td>$12.10  </td> <td>$12.37    </td> <td>$0.37    </td> <td>222                                            </td>\n",
       "        </tr>\n",
       "        <tr>\n",
       "            <td>7   </td> <td>John S. Watson    </td> <td>Chevron (San Ramon)           </td> <td>$22.04   </td> <td>-15%              </td> <td>$4.31   </td> <td>$14.68    </td> <td>$3.05    </td> <td>183                                            </td>\n",
       "        </tr>\n",
       "        <tr>\n",
       "            <td>8   </td> <td>Jeffrey Weiner    </td> <td>LinkedIn (Mountain View)      </td> <td>$19.86   </td> <td>27%               </td> <td>$2.47   </td> <td>$17.26    </td> <td>$0.13    </td> <td>182                                            </td>\n",
       "        </tr>\n",
       "        <tr>\n",
       "            <td>9   </td> <td>John T. Chambers**</td> <td>Cisco Systems (San Jose)      </td> <td>$19.62   </td> <td>19%               </td> <td>$5.10   </td> <td>$14.51    </td> <td>$0.01    </td> <td>170                                            </td>\n",
       "        </tr>\n",
       "        <tr>\n",
       "            <td>10  </td> <td>John G. Stumpf    </td> <td>Wells Fargo  (San Francisco)  </td> <td>$19.32   </td> <td>-10%              </td> <td>$6.80   </td> <td>$12.50    </td> <td>$0.02    </td> <td>256                                            </td>\n",
       "        </tr>\n",
       "    </tbody>\n",
       "</table>\n",
       "<p>... (92 rows omitted)</p>"
      ],
      "text/plain": [
       "Rank | Name               | Company (Headquarters)         | Total Pay | % Change           | Cash Pay | Equity Pay | Other Pay | Ratio of CEO pay to average industry worker pay\n",
       "1    | Mark V. Hurd*      | Oracle (Redwood City)          | $53.25    | (No previous year) | $0.95    | $52.27     | $0.02     | 362\n",
       "2    | Safra A. Catz*     | Oracle (Redwood City)          | $53.24    | (No previous year) | $0.95    | $52.27     | $0.02     | 362\n",
       "3    | Robert A. Iger     | Walt Disney (Burbank)          | $44.91    | -3%                | $24.89   | $17.28     | $2.74     | 477\n",
       "4    | Marissa A. Mayer   | Yahoo! (Sunnyvale)             | $35.98    | -15%               | $1.00    | $34.43     | $0.55     | 342\n",
       "5    | Marc Benioff       | salesforce.com (San Francisco) | $33.36    | -16%               | $4.65    | $27.26     | $1.45     | 338\n",
       "6    | John H. Hammergren | McKesson (San Francisco)       | $24.84    | -4%                | $12.10   | $12.37     | $0.37     | 222\n",
       "7    | John S. Watson     | Chevron (San Ramon)            | $22.04    | -15%               | $4.31    | $14.68     | $3.05     | 183\n",
       "8    | Jeffrey Weiner     | LinkedIn (Mountain View)       | $19.86    | 27%                | $2.47    | $17.26     | $0.13     | 182\n",
       "9    | John T. Chambers** | Cisco Systems (San Jose)       | $19.62    | 19%                | $5.10    | $14.51     | $0.01     | 170\n",
       "10   | John G. Stumpf     | Wells Fargo  (San Francisco)   | $19.32    | -10%               | $6.80    | $12.50     | $0.02     | 256\n",
       "... (92 rows omitted)"
      ]
     },
     "execution_count": 9,
     "metadata": {},
     "output_type": "execute_result"
    }
   ],
   "source": [
    "raw_compensation = Table.read_table('raw_compensation.csv')\n",
    "raw_compensation"
   ]
  },
  {
   "cell_type": "markdown",
   "metadata": {},
   "source": [
    "Computing the average of the CEOs' pay might seem like a simple task, but there are some issues with this data that make that task a bit challenging. View the error produced from the following code:"
   ]
  },
  {
   "cell_type": "markdown",
   "metadata": {},
   "source": [
    "<img src=\"./totalpay_error.png\" alt=\"The UFuncTypeError the occurs from running np.average(raw_compensation.column('Total Pay'))\">"
   ]
  },
  {
   "cell_type": "markdown",
   "metadata": {},
   "source": [
    "Let's examine why this error occurred by looking at the values in the `Total Pay` column. "
   ]
  },
  {
   "cell_type": "markdown",
   "metadata": {},
   "source": [
    "### Task 06 📍"
   ]
  },
  {
   "cell_type": "markdown",
   "metadata": {
    "deletable": false,
    "editable": false
   },
   "source": [
    "Use the `type` function and set `total_pay_type` to the type of the first value in the \"Total Pay\" column.\n"
   ]
  },
  {
   "cell_type": "code",
   "execution_count": 19,
   "metadata": {
    "tags": []
   },
   "outputs": [
    {
     "data": {
      "text/plain": [
       "str"
      ]
     },
     "execution_count": 19,
     "metadata": {},
     "output_type": "execute_result"
    }
   ],
   "source": [
    "total_pay_type = type(raw_compensation.column('Total Pay').item(0))\n",
    "total_pay_type"
   ]
  },
  {
   "cell_type": "code",
   "execution_count": 13,
   "metadata": {
    "deletable": false,
    "editable": false
   },
   "outputs": [
    {
     "data": {
      "text/html": [
       "<p><strong><pre style='display: inline;'>task_06</pre></strong> passed! 💯</p><p><strong><pre style='display: inline;'>task_06 - 1</pre> message:</strong> ✅ Great work naming the item and not the array.</p><p><strong><pre style='display: inline;'>task_06 - 2</pre> message:</strong> ✅ Nice! The type of the frist item in the Total Pay column is a string.</p><p><strong><pre style='display: inline;'>task_06 - 3</pre> message:</strong> ✅ Looks good! The value might look like a number, but it isn't.</p>"
      ],
      "text/plain": [
       "task_06 results: All test cases passed!\n",
       "task_06 - 1 message: ✅ Great work naming the item and not the array.\n",
       "task_06 - 2 message: ✅ Nice! The type of the frist item in the Total Pay column is a string.\n",
       "task_06 - 3 message: ✅ Looks good! The value might look like a number, but it isn't."
      ]
     },
     "execution_count": 13,
     "metadata": {},
     "output_type": "execute_result"
    }
   ],
   "source": [
    "grader.check(\"task_06\")"
   ]
  },
  {
   "cell_type": "markdown",
   "metadata": {},
   "source": [
    "### Task 07 📍"
   ]
  },
  {
   "cell_type": "markdown",
   "metadata": {
    "deletable": false,
    "editable": false
   },
   "source": [
    "You should have found that the values in the `Total Pay` column are strings. It doesn't make sense to take the average of string values, so we need to convert them to numbers if we want to do this. Extract the first value in `Total Pay`.  It's Mark Hurd's pay in 2015, in *millions* of dollars.  Call it `mark_hurd_pay_string`.\n"
   ]
  },
  {
   "cell_type": "code",
   "execution_count": 101,
   "metadata": {
    "tags": []
   },
   "outputs": [
    {
     "data": {
      "text/plain": [
       "'$53.25 '"
      ]
     },
     "execution_count": 101,
     "metadata": {},
     "output_type": "execute_result"
    }
   ],
   "source": [
    "# Extracting the first value in the \"Total Pay\" column\n",
    "mark_hurd_pay_string = raw_compensation.column('Total Pay').item(0)\n",
    "mark_hurd_pay_string"
   ]
  },
  {
   "cell_type": "code",
   "execution_count": 102,
   "metadata": {
    "deletable": false,
    "editable": false
   },
   "outputs": [
    {
     "data": {
      "text/html": [
       "<p><strong><pre style='display: inline;'>task_07</pre></strong> passed! 🌟</p><p><strong><pre style='display: inline;'>task_07 - 1</pre> message:</strong> ✅ Nice work getting the correct value.</p>"
      ],
      "text/plain": [
       "task_07 results: All test cases passed!\n",
       "task_07 - 1 message: ✅ Nice work getting the correct value."
      ]
     },
     "execution_count": 102,
     "metadata": {},
     "output_type": "execute_result"
    }
   ],
   "source": [
    "grader.check(\"task_07\")"
   ]
  },
  {
   "cell_type": "markdown",
   "metadata": {},
   "source": [
    "### Task 08 📍"
   ]
  },
  {
   "cell_type": "markdown",
   "metadata": {
    "deletable": false,
    "editable": false
   },
   "source": [
    "Convert `mark_hurd_pay_string` to a number of *dollars*. \n",
    "\n",
    "Some hints, as this question requires multiple steps:\n",
    "- The string method `strip` will be useful for removing the dollar sign; it removes a specified character from the start or end of a string.  For example, the value of `\"100%\".strip(\"%\")` is the string `\"100\"`.  \n",
    "- You'll also need the function `float`, which converts a string that looks like a number to an actual number.  \n",
    "- Finally, remember that the answer should be in dollars, not millions of dollars.\n"
   ]
  },
  {
   "cell_type": "code",
   "execution_count": 24,
   "metadata": {
    "tags": []
   },
   "outputs": [
    {
     "data": {
      "text/plain": [
       "53250000.0"
      ]
     },
     "execution_count": 24,
     "metadata": {},
     "output_type": "execute_result"
    }
   ],
   "source": [
    "# Step 1\n",
    "mark_hurd_pay_string = mark_hurd_pay_string.strip('$')\n",
    "\n",
    "# Step 2\n",
    "mark_hurd_pay_float = float(mark_hurd_pay_string)\n",
    "\n",
    "# Step 3\n",
    "mark_hurd_pay_dollars = mark_hurd_pay_float * 1000000\n",
    "\n",
    "mark_hurd_pay = mark_hurd_pay_dollars\n",
    "mark_hurd_pay"
   ]
  },
  {
   "cell_type": "code",
   "execution_count": 23,
   "metadata": {
    "deletable": false,
    "editable": false
   },
   "outputs": [
    {
     "data": {
      "text/html": [
       "<p><strong><pre style='display: inline;'>task_08</pre></strong> passed! 🎉</p><p><strong><pre style='display: inline;'>task_08 - 1</pre> message:</strong> ✅ It looks like the value is no longer a string.</p><p><strong><pre style='display: inline;'>task_08 - 2</pre> message:</strong> ✅ Nice! You don't have the dolloar amount in millions of dollars.</p><p><strong><pre style='display: inline;'>task_08 - 3</pre> message:</strong> ✅ It looks like you have the correct value.</p>"
      ],
      "text/plain": [
       "task_08 results: All test cases passed!\n",
       "task_08 - 1 message: ✅ It looks like the value is no longer a string.\n",
       "task_08 - 2 message: ✅ Nice! You don't have the dolloar amount in millions of dollars.\n",
       "task_08 - 3 message: ✅ It looks like you have the correct value."
      ]
     },
     "execution_count": 23,
     "metadata": {},
     "output_type": "execute_result"
    }
   ],
   "source": [
    "grader.check(\"task_08\")"
   ]
  },
  {
   "cell_type": "markdown",
   "metadata": {},
   "source": [
    "To compute the average pay, we need to do this for every CEO.  But that looks like it would involve copying this code 102 times.\n",
    "\n",
    "This is where functions come in.  First, we'll define a new function, giving a name to the expression that converts \"total pay\" strings to numeric values.  Later in this lab, we'll see the payoff: we can call that function on every pay string in the dataset at once.\n",
    "\n",
    "The next section of this lab explains how to define a function For now, just fill in the ellipses in the cell below."
   ]
  },
  {
   "cell_type": "markdown",
   "metadata": {},
   "source": [
    "### Task 09 📍"
   ]
  },
  {
   "cell_type": "markdown",
   "metadata": {
    "deletable": false,
    "editable": false
   },
   "source": [
    "Copy the expression you used to compute `mark_hurd_pay`, and use it as the return expression of the function below. But make sure you replace the specific `mark_hurd_pay_string` with the generic `pay_string` name specified in the first line in the `def` statement.\n",
    "\n",
    "*Hint*: When dealing with functions, you should generally not be referencing any variable outside of the function. Usually, you want to be working with the arguments that are passed into it, such as `pay_string` for this function. If you're using `mark_hurd_pay_string` within your function, you're referencing an outside variable!\n"
   ]
  },
  {
   "cell_type": "code",
   "execution_count": 37,
   "metadata": {
    "tags": []
   },
   "outputs": [],
   "source": [
    "def convert_pay_string_to_number(pay_string):\n",
    "    \"\"\"\n",
    "    Converts a pay string like '$100' (in millions) to a number of\n",
    "    dollars.\n",
    "    \n",
    "    >>> convert_pay_string_to_number(\"$100 \")\n",
    "    100000000.0\n",
    "    \"\"\"\n",
    "    pay_string = pay_string.strip('$')\n",
    "    pay_float = float(pay_string)\n",
    "    pay_dollars = pay_float * 1000000\n",
    "    \n",
    "    return pay_dollars"
   ]
  },
  {
   "cell_type": "code",
   "execution_count": 33,
   "metadata": {
    "deletable": false,
    "editable": false
   },
   "outputs": [
    {
     "data": {
      "text/html": [
       "<p><strong><pre style='display: inline;'>task_09</pre></strong> passed! 🚀</p><p><strong><pre style='display: inline;'>task_09 - 1</pre> message:</strong> ✅ It looks like your function convert_pay_string_to_number is working with the input '$100 '.</p><p><strong><pre style='display: inline;'>task_09 - 2</pre> message:</strong> ✅ It looks like your function convert_pay_string_to_number is working with the input '$23 '.</p>"
      ],
      "text/plain": [
       "task_09 results: All test cases passed!\n",
       "task_09 - 1 message: ✅ It looks like your function convert_pay_string_to_number is working with the input '$100 '.\n",
       "task_09 - 2 message: ✅ It looks like your function convert_pay_string_to_number is working with the input '$23 '."
      ]
     },
     "execution_count": 33,
     "metadata": {},
     "output_type": "execute_result"
    }
   ],
   "source": [
    "grader.check(\"task_09\")"
   ]
  },
  {
   "cell_type": "markdown",
   "metadata": {},
   "source": [
    "Running that cell doesn't convert any particular pay string. Instead, it creates a function called `convert_pay_string_to_number` that can convert *any* string with the right format to a number representing millions of dollars.\n",
    "\n",
    "We can call our function just like we call the built-in functions we've seen. It takes one argument -- a string -- and it returns a float."
   ]
  },
  {
   "cell_type": "code",
   "execution_count": 42,
   "metadata": {},
   "outputs": [
    {
     "data": {
      "text/plain": [
       "42000000.0"
      ]
     },
     "execution_count": 42,
     "metadata": {},
     "output_type": "execute_result"
    }
   ],
   "source": [
    "convert_pay_string_to_number('$42')"
   ]
  },
  {
   "cell_type": "code",
   "execution_count": 43,
   "metadata": {},
   "outputs": [
    {
     "data": {
      "text/plain": [
       "53250000.0"
      ]
     },
     "execution_count": 43,
     "metadata": {},
     "output_type": "execute_result"
    }
   ],
   "source": [
    "convert_pay_string_to_number(mark_hurd_pay_string)"
   ]
  },
  {
   "cell_type": "markdown",
   "metadata": {},
   "source": [
    "We can also compute Safra Catz's pay in the same way. Run the following cell to see the results."
   ]
  },
  {
   "cell_type": "code",
   "execution_count": 44,
   "metadata": {},
   "outputs": [
    {
     "data": {
      "text/plain": [
       "53240000.0"
      ]
     },
     "execution_count": 44,
     "metadata": {},
     "output_type": "execute_result"
    }
   ],
   "source": [
    "convert_pay_string_to_number(raw_compensation.where(\"Name\", are.containing(\"Safra\")).column(\"Total Pay\").item(0))"
   ]
  },
  {
   "cell_type": "markdown",
   "metadata": {},
   "source": [
    "So, what have we gained by defining the `convert_pay_string_to_number` function? \n",
    "Well, without it, we'd have to copy the code `10**6 * float(some_pay_string.strip(\"$\"))` each time we wanted to convert a pay string.  Now we just call a function whose name says exactly what it's doing."
   ]
  },
  {
   "cell_type": "markdown",
   "metadata": {},
   "source": [
    "## `apply`ing functions"
   ]
  },
  {
   "cell_type": "markdown",
   "metadata": {},
   "source": [
    "Defining a function is a lot like giving a name to a value with `=`.  In fact, a function is a value just like the number 1 or the text \"data\"!\n",
    "\n",
    "For example, we can make a new name for the built-in function `max` if we want:"
   ]
  },
  {
   "cell_type": "code",
   "execution_count": 45,
   "metadata": {},
   "outputs": [
    {
     "data": {
      "text/plain": [
       "6"
      ]
     },
     "execution_count": 45,
     "metadata": {},
     "output_type": "execute_result"
    }
   ],
   "source": [
    "our_name_for_max = max\n",
    "our_name_for_max(2, 6)"
   ]
  },
  {
   "cell_type": "markdown",
   "metadata": {},
   "source": [
    "The old name for `max` is still around:"
   ]
  },
  {
   "cell_type": "code",
   "execution_count": 50,
   "metadata": {},
   "outputs": [
    {
     "data": {
      "text/plain": [
       "6"
      ]
     },
     "execution_count": 50,
     "metadata": {},
     "output_type": "execute_result"
    }
   ],
   "source": [
    "max(2, 6)"
   ]
  },
  {
   "cell_type": "markdown",
   "metadata": {},
   "source": [
    "Try just writing `max` or `our_name_for_max` (or the name of any other function) in a cell, and run that cell.  Python will print out a (very brief) description of the function."
   ]
  },
  {
   "cell_type": "code",
   "execution_count": 51,
   "metadata": {},
   "outputs": [
    {
     "data": {
      "text/plain": [
       "<function max>"
      ]
     },
     "execution_count": 51,
     "metadata": {},
     "output_type": "execute_result"
    }
   ],
   "source": [
    "max"
   ]
  },
  {
   "cell_type": "markdown",
   "metadata": {},
   "source": [
    "Now try writing `?max` or `?our_name_for_max` (or the name of any other function) in a cell, and run that cell.  A information box should show up at the bottom of your screen a longer description of the function\n",
    "\n",
    "*Note: You can also press Shift+Tab after clicking on a name to see similar information!*"
   ]
  },
  {
   "cell_type": "code",
   "execution_count": 52,
   "metadata": {},
   "outputs": [
    {
     "data": {
      "text/plain": [
       "\u001b[0;31mDocstring:\u001b[0m\n",
       "max(iterable, *[, default=obj, key=func]) -> value\n",
       "max(arg1, arg2, *args, *[, key=func]) -> value\n",
       "\n",
       "With a single iterable argument, return its biggest item. The\n",
       "default keyword-only argument specifies an object to return if\n",
       "the provided iterable is empty.\n",
       "With two or more arguments, return the largest argument.\n",
       "\u001b[0;31mType:\u001b[0m      builtin_function_or_method"
      ]
     },
     "metadata": {},
     "output_type": "display_data"
    }
   ],
   "source": [
    "?our_name_for_max"
   ]
  },
  {
   "cell_type": "markdown",
   "metadata": {},
   "source": [
    "Let's look at what happens when we set `max`to a non-function value. You'll notice that a TypeError will occur when you try calling `max`. Things like integers and strings are not callable. Look out for any functions that might have been renamed when you encounter this type of error"
   ]
  },
  {
   "cell_type": "markdown",
   "metadata": {},
   "source": [
    "<img src=\"./rename_function_error.png\" alt=\"The TypeError that occurs when max is used to name a value and then used as a function.\">"
   ]
  },
  {
   "cell_type": "markdown",
   "metadata": {},
   "source": [
    "The following cell resets `max` to the built-in function. Just run this cell to reset `max` just in case you changed it."
   ]
  },
  {
   "cell_type": "code",
   "execution_count": 53,
   "metadata": {},
   "outputs": [],
   "source": [
    "#Just run this cell, don't change its contents\n",
    "import builtins\n",
    "max = builtins.max"
   ]
  },
  {
   "cell_type": "markdown",
   "metadata": {},
   "source": [
    "Why is this useful?  Since functions are just values, it's possible to pass them as arguments to other functions.  Here's a simple but not-so-practical example: we can make an array of functions."
   ]
  },
  {
   "cell_type": "code",
   "execution_count": 54,
   "metadata": {},
   "outputs": [
    {
     "data": {
      "text/plain": [
       "array([<built-in function max>, <function average at 0x7f2c74301f30>,\n",
       "       <function are.equal_to at 0x7f2c50eaa830>], dtype=object)"
      ]
     },
     "execution_count": 54,
     "metadata": {},
     "output_type": "execute_result"
    }
   ],
   "source": [
    "make_array(max, np.average, are.equal_to)"
   ]
  },
  {
   "cell_type": "markdown",
   "metadata": {},
   "source": [
    "Working with functions as values can lead to some funny-looking code. For example, see if you can figure out why the following code works. Check your explanation with a neighbor or a staff member."
   ]
  },
  {
   "cell_type": "code",
   "execution_count": 55,
   "metadata": {},
   "outputs": [
    {
     "data": {
      "text/plain": [
       "7"
      ]
     },
     "execution_count": 55,
     "metadata": {},
     "output_type": "execute_result"
    }
   ],
   "source": [
    "make_array(max, np.average, are.equal_to).item(0)(4, -2, 7)"
   ]
  },
  {
   "cell_type": "markdown",
   "metadata": {},
   "source": [
    "A more useful example of passing functions to other functions as arguments is the table method `apply`.\n",
    "\n",
    "`apply` calls a function many times, once on *each* element in a column of a table.  It produces an *array* of the results.  Here we use `apply` to convert every CEO's pay to a number, using the function you defined:"
   ]
  },
  {
   "cell_type": "code",
   "execution_count": 56,
   "metadata": {},
   "outputs": [
    {
     "data": {
      "text/plain": [
       "array([  5.32500000e+07,   5.32400000e+07,   4.49100000e+07,\n",
       "         3.59800000e+07,   3.33600000e+07,   2.48400000e+07,\n",
       "         2.20400000e+07,   1.98600000e+07,   1.96200000e+07,\n",
       "         1.93200000e+07,   1.87600000e+07,   1.86100000e+07,\n",
       "         1.83600000e+07,   1.80900000e+07,   1.71000000e+07,\n",
       "         1.66300000e+07,   1.63300000e+07,   1.61400000e+07,\n",
       "         1.61000000e+07,   1.60200000e+07,   1.51000000e+07,\n",
       "         1.49800000e+07,   1.46300000e+07,   1.45100000e+07,\n",
       "         1.44400000e+07,   1.43600000e+07,   1.43100000e+07,\n",
       "         1.40900000e+07,   1.40000000e+07,   1.36700000e+07,\n",
       "         1.23400000e+07,   1.22000000e+07,   1.21800000e+07,\n",
       "         1.21300000e+07,   1.20500000e+07,   1.18400000e+07,\n",
       "         1.17100000e+07,   1.16300000e+07,   1.11600000e+07,\n",
       "         1.11100000e+07,   1.11100000e+07,   1.07300000e+07,\n",
       "         1.05000000e+07,   1.04300000e+07,   1.03700000e+07,\n",
       "         1.02800000e+07,   1.02700000e+07,   1.01800000e+07,\n",
       "         1.01600000e+07,   9.97000000e+06,   9.96000000e+06,\n",
       "         9.86000000e+06,   9.74000000e+06,   9.42000000e+06,\n",
       "         9.39000000e+06,   9.22000000e+06,   9.06000000e+06,\n",
       "         9.03000000e+06,   8.86000000e+06,   8.76000000e+06,\n",
       "         8.57000000e+06,   8.38000000e+06,   8.36000000e+06,\n",
       "         8.35000000e+06,   8.23000000e+06,   7.86000000e+06,\n",
       "         7.70000000e+06,   7.58000000e+06,   7.51000000e+06,\n",
       "         7.23000000e+06,   7.21000000e+06,   7.12000000e+06,\n",
       "         6.88000000e+06,   6.77000000e+06,   6.64000000e+06,\n",
       "         6.56000000e+06,   6.14000000e+06,   5.92000000e+06,\n",
       "         5.90000000e+06,   5.89000000e+06,   5.73000000e+06,\n",
       "         5.42000000e+06,   5.04000000e+06,   4.92000000e+06,\n",
       "         4.92000000e+06,   4.47000000e+06,   4.25000000e+06,\n",
       "         4.08000000e+06,   3.93000000e+06,   3.72000000e+06,\n",
       "         2.88000000e+06,   2.83000000e+06,   2.82000000e+06,\n",
       "         2.45000000e+06,   1.79000000e+06,   1.68000000e+06,\n",
       "         1.53000000e+06,   9.40000000e+05,   8.10000000e+05,\n",
       "         7.00000000e+04,   4.00000000e+04,   0.00000000e+00])"
      ]
     },
     "execution_count": 56,
     "metadata": {},
     "output_type": "execute_result"
    }
   ],
   "source": [
    "raw_compensation.apply(convert_pay_string_to_number, \"Total Pay\")"
   ]
  },
  {
   "cell_type": "markdown",
   "metadata": {},
   "source": [
    "Here's an illustration of what that did:\n",
    "\n",
    "<img src=\"./apply.png\"/>\n",
    "\n",
    "Note that we didn’t write `raw_compensation.apply(convert_pay_string_to_number(), “Total Pay”)` or `raw_compensation.apply(convert_pay_string_to_number(“Total Pay”))`. We just passed the name of the function, with no parentheses, to `apply`, because all we want to do is let `apply` know the name of the function we’d like to use and the name of the column we’d like to use it on. `apply` will then call the function `convert_pay_string_to_number` on each value in the column for us!"
   ]
  },
  {
   "cell_type": "markdown",
   "metadata": {},
   "source": [
    "### Task 10 📍"
   ]
  },
  {
   "cell_type": "markdown",
   "metadata": {
    "deletable": false,
    "editable": false
   },
   "source": [
    "Using `apply`, make a table that's a copy of `raw_compensation` with one additional column called `Total Pay ($)`.  That column should contain the result of applying `convert_pay_string_to_number` to the `Total Pay` column (as we did above).  Call the new table `compensation`.\n"
   ]
  },
  {
   "cell_type": "code",
   "execution_count": 60,
   "metadata": {
    "tags": []
   },
   "outputs": [
    {
     "data": {
      "text/html": [
       "<table border=\"1\" class=\"dataframe\">\n",
       "    <thead>\n",
       "        <tr>\n",
       "            <th>Rank</th> <th>Name</th> <th>Company (Headquarters)</th> <th>Total Pay</th> <th>% Change</th> <th>Cash Pay</th> <th>Equity Pay</th> <th>Other Pay</th> <th>Ratio of CEO pay to average industry worker pay</th> <th>Total Pay ($)</th>\n",
       "        </tr>\n",
       "    </thead>\n",
       "    <tbody>\n",
       "        <tr>\n",
       "            <td>1   </td> <td>Mark V. Hurd*     </td> <td>Oracle (Redwood City)         </td> <td>$53.25   </td> <td>(No previous year)</td> <td>$0.95   </td> <td>$52.27    </td> <td>$0.02    </td> <td>362                                            </td> <td>5.325e+07    </td>\n",
       "        </tr>\n",
       "        <tr>\n",
       "            <td>2   </td> <td>Safra A. Catz*    </td> <td>Oracle (Redwood City)         </td> <td>$53.24   </td> <td>(No previous year)</td> <td>$0.95   </td> <td>$52.27    </td> <td>$0.02    </td> <td>362                                            </td> <td>5.324e+07    </td>\n",
       "        </tr>\n",
       "        <tr>\n",
       "            <td>3   </td> <td>Robert A. Iger    </td> <td>Walt Disney (Burbank)         </td> <td>$44.91   </td> <td>-3%               </td> <td>$24.89  </td> <td>$17.28    </td> <td>$2.74    </td> <td>477                                            </td> <td>4.491e+07    </td>\n",
       "        </tr>\n",
       "        <tr>\n",
       "            <td>4   </td> <td>Marissa A. Mayer  </td> <td>Yahoo! (Sunnyvale)            </td> <td>$35.98   </td> <td>-15%              </td> <td>$1.00   </td> <td>$34.43    </td> <td>$0.55    </td> <td>342                                            </td> <td>3.598e+07    </td>\n",
       "        </tr>\n",
       "        <tr>\n",
       "            <td>5   </td> <td>Marc Benioff      </td> <td>salesforce.com (San Francisco)</td> <td>$33.36   </td> <td>-16%              </td> <td>$4.65   </td> <td>$27.26    </td> <td>$1.45    </td> <td>338                                            </td> <td>3.336e+07    </td>\n",
       "        </tr>\n",
       "        <tr>\n",
       "            <td>6   </td> <td>John H. Hammergren</td> <td>McKesson (San Francisco)      </td> <td>$24.84   </td> <td>-4%               </td> <td>$12.10  </td> <td>$12.37    </td> <td>$0.37    </td> <td>222                                            </td> <td>2.484e+07    </td>\n",
       "        </tr>\n",
       "        <tr>\n",
       "            <td>7   </td> <td>John S. Watson    </td> <td>Chevron (San Ramon)           </td> <td>$22.04   </td> <td>-15%              </td> <td>$4.31   </td> <td>$14.68    </td> <td>$3.05    </td> <td>183                                            </td> <td>2.204e+07    </td>\n",
       "        </tr>\n",
       "        <tr>\n",
       "            <td>8   </td> <td>Jeffrey Weiner    </td> <td>LinkedIn (Mountain View)      </td> <td>$19.86   </td> <td>27%               </td> <td>$2.47   </td> <td>$17.26    </td> <td>$0.13    </td> <td>182                                            </td> <td>1.986e+07    </td>\n",
       "        </tr>\n",
       "        <tr>\n",
       "            <td>9   </td> <td>John T. Chambers**</td> <td>Cisco Systems (San Jose)      </td> <td>$19.62   </td> <td>19%               </td> <td>$5.10   </td> <td>$14.51    </td> <td>$0.01    </td> <td>170                                            </td> <td>1.962e+07    </td>\n",
       "        </tr>\n",
       "        <tr>\n",
       "            <td>10  </td> <td>John G. Stumpf    </td> <td>Wells Fargo  (San Francisco)  </td> <td>$19.32   </td> <td>-10%              </td> <td>$6.80   </td> <td>$12.50    </td> <td>$0.02    </td> <td>256                                            </td> <td>1.932e+07    </td>\n",
       "        </tr>\n",
       "    </tbody>\n",
       "</table>\n",
       "<p>... (92 rows omitted)</p>"
      ],
      "text/plain": [
       "Rank | Name               | Company (Headquarters)         | Total Pay | % Change           | Cash Pay | Equity Pay | Other Pay | Ratio of CEO pay to average industry worker pay | Total Pay ($)\n",
       "1    | Mark V. Hurd*      | Oracle (Redwood City)          | $53.25    | (No previous year) | $0.95    | $52.27     | $0.02     | 362                                             | 5.325e+07\n",
       "2    | Safra A. Catz*     | Oracle (Redwood City)          | $53.24    | (No previous year) | $0.95    | $52.27     | $0.02     | 362                                             | 5.324e+07\n",
       "3    | Robert A. Iger     | Walt Disney (Burbank)          | $44.91    | -3%                | $24.89   | $17.28     | $2.74     | 477                                             | 4.491e+07\n",
       "4    | Marissa A. Mayer   | Yahoo! (Sunnyvale)             | $35.98    | -15%               | $1.00    | $34.43     | $0.55     | 342                                             | 3.598e+07\n",
       "5    | Marc Benioff       | salesforce.com (San Francisco) | $33.36    | -16%               | $4.65    | $27.26     | $1.45     | 338                                             | 3.336e+07\n",
       "6    | John H. Hammergren | McKesson (San Francisco)       | $24.84    | -4%                | $12.10   | $12.37     | $0.37     | 222                                             | 2.484e+07\n",
       "7    | John S. Watson     | Chevron (San Ramon)            | $22.04    | -15%               | $4.31    | $14.68     | $3.05     | 183                                             | 2.204e+07\n",
       "8    | Jeffrey Weiner     | LinkedIn (Mountain View)       | $19.86    | 27%                | $2.47    | $17.26     | $0.13     | 182                                             | 1.986e+07\n",
       "9    | John T. Chambers** | Cisco Systems (San Jose)       | $19.62    | 19%                | $5.10    | $14.51     | $0.01     | 170                                             | 1.962e+07\n",
       "10   | John G. Stumpf     | Wells Fargo  (San Francisco)   | $19.32    | -10%               | $6.80    | $12.50     | $0.02     | 256                                             | 1.932e+07\n",
       "... (92 rows omitted)"
      ]
     },
     "execution_count": 60,
     "metadata": {},
     "output_type": "execute_result"
    }
   ],
   "source": [
    "compensation = raw_compensation.with_column(\n",
    "    \"Total Pay ($)\",\n",
    "    raw_compensation.apply(convert_pay_string_to_number, \"Total Pay\")\n",
    "    ) \n",
    "compensation"
   ]
  },
  {
   "cell_type": "code",
   "execution_count": 63,
   "metadata": {},
   "outputs": [
    {
     "data": {
      "text/plain": [
       "float"
      ]
     },
     "execution_count": 63,
     "metadata": {},
     "output_type": "execute_result"
    }
   ],
   "source": [
    "whatistype = type(compensation.column('Total Pay ($)').item(0))\n",
    "whatistype"
   ]
  },
  {
   "cell_type": "code",
   "execution_count": 58,
   "metadata": {
    "deletable": false,
    "editable": false
   },
   "outputs": [
    {
     "data": {
      "text/html": [
       "<p><strong><pre style='display: inline;'>task_10</pre></strong> passed! 🙌</p><p><strong><pre style='display: inline;'>task_10 - 1</pre> message:</strong> ✅ It looks like you created a column labeled Total Pay ($)</p><p><strong><pre style='display: inline;'>task_10 - 2</pre> message:</strong> ✅ We checked a value in the table and it looks correct!</p>"
      ],
      "text/plain": [
       "task_10 results: All test cases passed!\n",
       "task_10 - 1 message: ✅ It looks like you created a column labeled Total Pay ($)\n",
       "task_10 - 2 message: ✅ We checked a value in the table and it looks correct!"
      ]
     },
     "execution_count": 58,
     "metadata": {},
     "output_type": "execute_result"
    }
   ],
   "source": [
    "grader.check(\"task_10\")"
   ]
  },
  {
   "cell_type": "markdown",
   "metadata": {},
   "source": [
    "Now that we have all the pays as numbers, we can finally calculate the average from early."
   ]
  },
  {
   "cell_type": "markdown",
   "metadata": {},
   "source": [
    "### Task 11 📍"
   ]
  },
  {
   "cell_type": "markdown",
   "metadata": {
    "deletable": false,
    "editable": false
   },
   "source": [
    "Compute the average total pay of the CEOs in the dataset."
   ]
  },
  {
   "cell_type": "code",
   "execution_count": 64,
   "metadata": {
    "tags": []
   },
   "outputs": [
    {
     "data": {
      "text/plain": [
       "11445294.117647059"
      ]
     },
     "execution_count": 64,
     "metadata": {},
     "output_type": "execute_result"
    }
   ],
   "source": [
    "# Compute the average total pay\n",
    "average_total_pay = compensation.column(\"Total Pay ($)\").mean()\n",
    "average_total_pay"
   ]
  },
  {
   "cell_type": "code",
   "execution_count": 65,
   "metadata": {
    "deletable": false,
    "editable": false
   },
   "outputs": [
    {
     "data": {
      "text/html": [
       "<p><strong><pre style='display: inline;'>task_11</pre></strong> passed! 🙌</p><p><strong><pre style='display: inline;'>task_11 - 1</pre> message:</strong> ✅ Great work!</p>"
      ],
      "text/plain": [
       "task_11 results: All test cases passed!\n",
       "task_11 - 1 message: ✅ Great work!"
      ]
     },
     "execution_count": 65,
     "metadata": {},
     "output_type": "execute_result"
    }
   ],
   "source": [
    "grader.check(\"task_11\")"
   ]
  },
  {
   "cell_type": "markdown",
   "metadata": {
    "for_assignment_type": "solution"
   },
   "source": [
    "### Why is `apply` useful?"
   ]
  },
  {
   "cell_type": "markdown",
   "metadata": {},
   "source": [
    "For operations like arithmetic, or the functions in the NumPy library, you don't need to use `apply`, because they automatically work on each element of an array.  But there are many things that don't.  The string manipulation we did in today's lab is one example.  Since you can write any code you want in a function, `apply` gives you total control over how you operate on data."
   ]
  },
  {
   "cell_type": "markdown",
   "metadata": {},
   "source": [
    "## Joining Tables"
   ]
  },
  {
   "cell_type": "markdown",
   "metadata": {},
   "source": [
    "There are a  variety of reasons why data might be stored across multiple tables, and it might be necessary to combining data from 2 or more sources into one table. Think of joining tables like mixing ingredients to create a delicious recipe! When we use methods like `join` in the `datascience` Python library, we're basically combining different sets of data based on something they have in common, just like adding various ingredients to make a yummy dish. This helps us get a bigger picture of the data and discover exciting insights by bringing together information from different sources, making data analysis a bit like cooking up a data stew! 🍲🔍"
   ]
  },
  {
   "cell_type": "markdown",
   "metadata": {},
   "source": [
    "For example, you might have customer data in two different tables. \n",
    "\n",
    "* A table called `customers` might contain contact information.\n",
    "* A table called `purchase_history` might contain information on the customer's last purchase.\n",
    "\n",
    "Run the following code cell to create examples of such tables."
   ]
  },
  {
   "cell_type": "code",
   "execution_count": 66,
   "metadata": {},
   "outputs": [
    {
     "data": {
      "text/html": [
       "<table border=\"1\" class=\"dataframe\">\n",
       "    <thead>\n",
       "        <tr>\n",
       "            <th>Name</th> <th>Email</th> <th>Customer ID</th>\n",
       "        </tr>\n",
       "    </thead>\n",
       "    <tbody>\n",
       "        <tr>\n",
       "            <td>Alice Johnson</td> <td>alice@example.com   </td> <td>1          </td>\n",
       "        </tr>\n",
       "        <tr>\n",
       "            <td>Mohammed Khan</td> <td>mohammed@example.com</td> <td>2          </td>\n",
       "        </tr>\n",
       "        <tr>\n",
       "            <td>Maria García </td> <td>maria@example.com   </td> <td>3          </td>\n",
       "        </tr>\n",
       "        <tr>\n",
       "            <td>Ling Chen    </td> <td>ling@example.com    </td> <td>4          </td>\n",
       "        </tr>\n",
       "    </tbody>\n",
       "</table>"
      ],
      "text/plain": [
       "Name          | Email                | Customer ID\n",
       "Alice Johnson | alice@example.com    | 1\n",
       "Mohammed Khan | mohammed@example.com | 2\n",
       "Maria García  | maria@example.com    | 3\n",
       "Ling Chen     | ling@example.com     | 4"
      ]
     },
     "metadata": {},
     "output_type": "display_data"
    },
    {
     "data": {
      "text/html": [
       "<table border=\"1\" class=\"dataframe\">\n",
       "    <thead>\n",
       "        <tr>\n",
       "            <th>Customer Number</th> <th>Product</th> <th>Ad</th> <th>Amount ($)</th>\n",
       "        </tr>\n",
       "    </thead>\n",
       "    <tbody>\n",
       "        <tr>\n",
       "            <td>1              </td> <td>Widget     </td> <td>Yes </td> <td>10        </td>\n",
       "        </tr>\n",
       "        <tr>\n",
       "            <td>3              </td> <td>Gadget     </td> <td>No  </td> <td>15        </td>\n",
       "        </tr>\n",
       "        <tr>\n",
       "            <td>4              </td> <td>Doodad     </td> <td>No  </td> <td>8         </td>\n",
       "        </tr>\n",
       "        <tr>\n",
       "            <td>5              </td> <td>Thingamajig</td> <td>Yes </td> <td>12        </td>\n",
       "        </tr>\n",
       "        <tr>\n",
       "            <td>1              </td> <td>Gadget     </td> <td>Yes </td> <td>15        </td>\n",
       "        </tr>\n",
       "        <tr>\n",
       "            <td>4              </td> <td>Widget     </td> <td>Yes </td> <td>10        </td>\n",
       "        </tr>\n",
       "        <tr>\n",
       "            <td>4              </td> <td>Doodad     </td> <td>Yes </td> <td>8         </td>\n",
       "        </tr>\n",
       "    </tbody>\n",
       "</table>"
      ],
      "text/plain": [
       "Customer Number | Product     | Ad   | Amount ($)\n",
       "1               | Widget      | Yes  | 10\n",
       "3               | Gadget      | No   | 15\n",
       "4               | Doodad      | No   | 8\n",
       "5               | Thingamajig | Yes  | 12\n",
       "1               | Gadget      | Yes  | 15\n",
       "4               | Widget      | Yes  | 10\n",
       "4               | Doodad      | Yes  | 8"
      ]
     },
     "metadata": {},
     "output_type": "display_data"
    }
   ],
   "source": [
    "customers = Table().with_columns(\n",
    "    'Name', ['Alice Johnson', 'Mohammed Khan', 'Maria García', 'Ling Chen'],\n",
    "    'Email', ['alice@example.com', 'mohammed@example.com', 'maria@example.com', 'ling@example.com'],\n",
    "    'Customer ID', [1, 2, 3, 4]\n",
    ")\n",
    "\n",
    "purchase_history = Table().with_columns(\n",
    "    'Customer Number', [1, 3, 4, 5, 1, 4, 4],\n",
    "    'Product', ['Widget', 'Gadget', 'Doodad', 'Thingamajig', 'Gadget', 'Widget', 'Doodad'],\n",
    "    'Ad', ['Yes', 'No', 'No', 'Yes', 'Yes', 'Yes', 'Yes'],\n",
    "    'Amount ($)', [10, 15, 8, 12, 15, 10, 8]\n",
    ")\n",
    "\n",
    "display(customers)\n",
    "display(purchase_history)"
   ]
  },
  {
   "cell_type": "markdown",
   "metadata": {},
   "source": [
    "You might want to put all this information in one table to more easily analyze the data or follow up with a customer about one of their purchases. The key to joining data is that there must be a clearly defined relation between the two tables. In this case, the link between the tables is the customer identification number. Customer 1, Alice Johnson (alice@example.com) has purchased a Widget for 10 dollars and a Gadget for 15 dollars. Both purchases were made through an advertisement link."
   ]
  },
  {
   "cell_type": "markdown",
   "metadata": {},
   "source": [
    "To use the join method from the `datascience` library, you'll typically have two tables, let's call them `tbl1` and `tbl2`, and you want to combine them based on a common key. Let's say that the key values are located in `'Column 1'` for `tbl1` and `'Column 2'` for `tbl2`.\n",
    "\n",
    "You could use `tbl1.join('Column 1', tbl2, 'Column 2')` to join these tables together, aligning rows with matching key values in `'Column 1'` and `'Column 2'` into a single table where the focus is placed on the column of `tbl1`.\n",
    "If you used `tbl2.join('Column 2', tb1, 'Column 1')`, you would also create a joined table, but the output would likely be different as the table would be created from the perspective of the column in `tbl2`."
   ]
  },
  {
   "cell_type": "markdown",
   "metadata": {
    "tags": []
   },
   "source": [
    "### Task 12 📍"
   ]
  },
  {
   "cell_type": "markdown",
   "metadata": {
    "deletable": false,
    "editable": false
   },
   "source": [
    "Complete the following code to join the data in the `purchase_history` table with the data in the `customers` table. The resulting table should have 6 rows and the 6 columns `'Customer ID', 'Name', 'Email', 'Product', 'Ad', 'Amount ($)'`."
   ]
  },
  {
   "cell_type": "code",
   "execution_count": 67,
   "metadata": {
    "tags": []
   },
   "outputs": [
    {
     "data": {
      "text/html": [
       "<table border=\"1\" class=\"dataframe\">\n",
       "    <thead>\n",
       "        <tr>\n",
       "            <th>Customer ID</th> <th>Name</th> <th>Email</th> <th>Product</th> <th>Ad</th> <th>Amount ($)</th>\n",
       "        </tr>\n",
       "    </thead>\n",
       "    <tbody>\n",
       "        <tr>\n",
       "            <td>1          </td> <td>Alice Johnson</td> <td>alice@example.com</td> <td>Widget </td> <td>Yes </td> <td>10        </td>\n",
       "        </tr>\n",
       "        <tr>\n",
       "            <td>1          </td> <td>Alice Johnson</td> <td>alice@example.com</td> <td>Gadget </td> <td>Yes </td> <td>15        </td>\n",
       "        </tr>\n",
       "        <tr>\n",
       "            <td>3          </td> <td>Maria García </td> <td>maria@example.com</td> <td>Gadget </td> <td>No  </td> <td>15        </td>\n",
       "        </tr>\n",
       "        <tr>\n",
       "            <td>4          </td> <td>Ling Chen    </td> <td>ling@example.com </td> <td>Doodad </td> <td>No  </td> <td>8         </td>\n",
       "        </tr>\n",
       "        <tr>\n",
       "            <td>4          </td> <td>Ling Chen    </td> <td>ling@example.com </td> <td>Widget </td> <td>Yes </td> <td>10        </td>\n",
       "        </tr>\n",
       "        <tr>\n",
       "            <td>4          </td> <td>Ling Chen    </td> <td>ling@example.com </td> <td>Doodad </td> <td>Yes </td> <td>8         </td>\n",
       "        </tr>\n",
       "    </tbody>\n",
       "</table>"
      ],
      "text/plain": [
       "Customer ID | Name          | Email             | Product | Ad   | Amount ($)\n",
       "1           | Alice Johnson | alice@example.com | Widget  | Yes  | 10\n",
       "1           | Alice Johnson | alice@example.com | Gadget  | Yes  | 15\n",
       "3           | Maria García  | maria@example.com | Gadget  | No   | 15\n",
       "4           | Ling Chen     | ling@example.com  | Doodad  | No   | 8\n",
       "4           | Ling Chen     | ling@example.com  | Widget  | Yes  | 10\n",
       "4           | Ling Chen     | ling@example.com  | Doodad  | Yes  | 8"
      ]
     },
     "execution_count": 67,
     "metadata": {},
     "output_type": "execute_result"
    }
   ],
   "source": [
    "customer_data = customers.join('Customer ID', purchase_history, 'Customer Number')\n",
    "customer_data"
   ]
  },
  {
   "cell_type": "code",
   "execution_count": 68,
   "metadata": {
    "deletable": false,
    "editable": false
   },
   "outputs": [
    {
     "data": {
      "text/html": [
       "<p><strong><pre style='display: inline;'>task_12</pre></strong> passed! 🌟</p><p><strong><pre style='display: inline;'>task_12 - 1</pre> message:</strong> ✅ customer_data is a Table.</p><p><strong><pre style='display: inline;'>task_12 - 2</pre> message:</strong> ✅ customer_data has the correct labels.</p><p><strong><pre style='display: inline;'>task_12 - 3</pre> message:</strong> ✅ customer_data seems correct!</p>"
      ],
      "text/plain": [
       "task_12 results: All test cases passed!\n",
       "task_12 - 1 message: ✅ customer_data is a Table.\n",
       "task_12 - 2 message: ✅ customer_data has the correct labels.\n",
       "task_12 - 3 message: ✅ customer_data seems correct!"
      ]
     },
     "execution_count": 68,
     "metadata": {},
     "output_type": "execute_result"
    }
   ],
   "source": [
    "grader.check(\"task_12\")"
   ]
  },
  {
   "cell_type": "markdown",
   "metadata": {},
   "source": [
    "There are a few things to notice about how this `join` method worked. \n",
    "* Since you started with `customers`, it kept all the column labels of the `customers` table.\n",
    "* The `'Customer ID'` column was brought to the front of the table.\n",
    "* The columns in `purchase_history` that were not used to join the data (`'Ad'` and `'Amount ($)'`) were added to the end of the table.\n",
    "* The label `'Customer Number'` doesn't appear in the resulting table.\n",
    "* There is no customer contact data for customer number 5 so that information is missing from the joined table.\n",
    "* Customer with ID 2 does not have any purchase history so that information is missing from the joined table."
   ]
  },
  {
   "cell_type": "markdown",
   "metadata": {},
   "source": [
    "## Aggregation"
   ]
  },
  {
   "cell_type": "markdown",
   "metadata": {},
   "source": [
    "Aggregation refers to the process of summarizing and condensing large datasets into more manageable and meaningful insights. You've seen this in action through using functions like `np.average` and `np.sum`. In the context of the `datascience` library, more advanced aggregation can be achieved using table methods like `group` and `pivot`. \n",
    "\n",
    "* The `group` method allows you to group data by specific criteria, such as categories or attributes, and then apply aggregation functions (e.g., `sum`, `mean`, etc.) to calculate summary statistics within each group.\n",
    "* Pivot tables with the `pivot` method, on the other hand, enable you to restructure data to create a compact summary table, making it easier to analyze relationships between variables.\n",
    "\n",
    "These methods are essential for extracting valuable information and patterns from complex datasets."
   ]
  },
  {
   "cell_type": "markdown",
   "metadata": {},
   "source": [
    "### Group"
   ]
  },
  {
   "cell_type": "markdown",
   "metadata": {},
   "source": [
    "The `group` table method has the general format `tbl.group(column_or_label, collect)`. You've worked with the group method without providing a function name for `collect`. The `collect` argument gives you a place to specify a function that you want to apply to all the values associated with the grouped labels.  \n",
    "\n",
    "By default, the `group` method counts up the number of rows in the table associated with the grouped values for the specified column. If you wanted to do something else besides counting the number of rows, then you'd provide a function name for `collect`. For example, `tbl.group('Column Label', np.min)` would apply the minimum function to all the grouped data based on the category values in the column `'Column Label'`. \n",
    "\n",
    "Run the following code to see how this works when we apply `np.min` to the grouped data from the previous task based on `'Name'` values. "
   ]
  },
  {
   "cell_type": "code",
   "execution_count": 69,
   "metadata": {},
   "outputs": [
    {
     "data": {
      "text/html": [
       "<table border=\"1\" class=\"dataframe\">\n",
       "    <thead>\n",
       "        <tr>\n",
       "            <th>Name</th> <th>Customer ID min</th> <th>Email min</th> <th>Product min</th> <th>Ad min</th> <th>Amount ($) min</th>\n",
       "        </tr>\n",
       "    </thead>\n",
       "    <tbody>\n",
       "        <tr>\n",
       "            <td>Alice Johnson</td> <td>1              </td> <td>         </td> <td>           </td> <td>      </td> <td>10            </td>\n",
       "        </tr>\n",
       "        <tr>\n",
       "            <td>Ling Chen    </td> <td>4              </td> <td>         </td> <td>           </td> <td>      </td> <td>8             </td>\n",
       "        </tr>\n",
       "        <tr>\n",
       "            <td>Maria García </td> <td>3              </td> <td>         </td> <td>           </td> <td>      </td> <td>15            </td>\n",
       "        </tr>\n",
       "    </tbody>\n",
       "</table>"
      ],
      "text/plain": [
       "Name          | Customer ID min | Email min | Product min | Ad min | Amount ($) min\n",
       "Alice Johnson | 1               |           |             |        | 10\n",
       "Ling Chen     | 4               |           |             |        | 8\n",
       "Maria García  | 3               |           |             |        | 15"
      ]
     },
     "execution_count": 69,
     "metadata": {},
     "output_type": "execute_result"
    }
   ],
   "source": [
    "customer_data.group('Name', np.min)"
   ]
  },
  {
   "cell_type": "markdown",
   "metadata": {},
   "source": [
    "It is important to know a few things about how using `group` with a collect function works.\n",
    "* The `np.min` function attempted to apply to every column of the table other than `'Name'`. In this case, if the column contains numerical values, it will return the minimum of the grouped values for each row. If the column doesn't contain numerical values, then it will return an empty value (The empty string `''` for example).\n",
    "* The columns of the resulting table will be `'Name'` and a column for each of the other columns in `customer_data` with the function name `min` added to the end of the label.\n",
    "\n",
    "You can reduce the number of columns using `select` or `drop` before you use the group method to get a more presentable table."
   ]
  },
  {
   "cell_type": "markdown",
   "metadata": {
    "tags": []
   },
   "source": [
    "### Task 13 📍"
   ]
  },
  {
   "cell_type": "markdown",
   "metadata": {
    "deletable": false,
    "editable": false
   },
   "source": [
    "Using the `customer_data` table, create a table called `customer_averages` that shows the name and average purchase amount for each customer in the `customer_data` table. Your resulting table should have 3 rows and 2 columns."
   ]
  },
  {
   "cell_type": "code",
   "execution_count": 76,
   "metadata": {
    "tags": []
   },
   "outputs": [
    {
     "data": {
      "text/html": [
       "<table border=\"1\" class=\"dataframe\">\n",
       "    <thead>\n",
       "        <tr>\n",
       "            <th>Name</th> <th>Amount ($) average</th>\n",
       "        </tr>\n",
       "    </thead>\n",
       "    <tbody>\n",
       "        <tr>\n",
       "            <td>Alice Johnson</td> <td>12.5              </td>\n",
       "        </tr>\n",
       "        <tr>\n",
       "            <td>Ling Chen    </td> <td>8.66667           </td>\n",
       "        </tr>\n",
       "        <tr>\n",
       "            <td>Maria García </td> <td>15                </td>\n",
       "        </tr>\n",
       "    </tbody>\n",
       "</table>"
      ],
      "text/plain": [
       "Name          | Amount ($) average\n",
       "Alice Johnson | 12.5\n",
       "Ling Chen     | 8.66667\n",
       "Maria García  | 15"
      ]
     },
     "execution_count": 76,
     "metadata": {},
     "output_type": "execute_result"
    }
   ],
   "source": [
    "customer_reduced = customer_data.select('Name', 'Amount ($)')\n",
    "customer_averages = customer_reduced.group('Name', np.average)\n",
    "customer_averages"
   ]
  },
  {
   "cell_type": "code",
   "execution_count": 77,
   "metadata": {
    "deletable": false,
    "editable": false
   },
   "outputs": [
    {
     "data": {
      "text/html": [
       "<p><strong><pre style='display: inline;'>task_13</pre></strong> passed! 🌈</p><p><strong><pre style='display: inline;'>task_13 - 1</pre> message:</strong> ✅ customer_averages is a Table</p><p><strong><pre style='display: inline;'>task_13 - 2</pre> message:</strong> ✅ customer_averages has the correct number of rows.</p><p><strong><pre style='display: inline;'>task_13 - 3</pre> message:</strong> ✅ customer_averages has the correct number of columns</p><p><strong><pre style='display: inline;'>task_13 - 4</pre> message:</strong> ✅ customer_averages seems correct.</p>"
      ],
      "text/plain": [
       "task_13 results: All test cases passed!\n",
       "task_13 - 1 message: ✅ customer_averages is a Table\n",
       "task_13 - 2 message: ✅ customer_averages has the correct number of rows.\n",
       "task_13 - 3 message: ✅ customer_averages has the correct number of columns\n",
       "task_13 - 4 message: ✅ customer_averages seems correct."
      ]
     },
     "execution_count": 77,
     "metadata": {},
     "output_type": "execute_result"
    }
   ],
   "source": [
    "grader.check(\"task_13\")"
   ]
  },
  {
   "cell_type": "markdown",
   "metadata": {},
   "source": [
    "Now that you have the purchase amount averages by customer, you might also further break down this summary by find the customer averages through purchases made from advertisements or not.\n",
    "\n",
    "You can group by more than 1 column using the `group` method by providing a list of column labels or indexes for the first argument of `group`. The format would be `tbl.group(['Label 1', 'Label 2'], collect)`. This would create a table for each unique grouping of values from both columns and calculate the averages for the grouped data."
   ]
  },
  {
   "cell_type": "markdown",
   "metadata": {
    "tags": []
   },
   "source": [
    "### Task 14 📍"
   ]
  },
  {
   "cell_type": "markdown",
   "metadata": {
    "deletable": false,
    "editable": false
   },
   "source": [
    "Using the `customer_data` table, create a 4-row and 3-column table called `customer_ad_averages` that contains a row for each combination of customer name and ad (Yes/No) pairing along with the average purchase amount. The labels should be `'Name', 'Ad', and 'Amount ($) average'`.\n",
    "\n",
    "**Tip**: Don't forget that you will probably want to reduce the `customer_data` table to the relevant columns first."
   ]
  },
  {
   "cell_type": "code",
   "execution_count": 80,
   "metadata": {
    "tags": []
   },
   "outputs": [
    {
     "data": {
      "text/html": [
       "<table border=\"1\" class=\"dataframe\">\n",
       "    <thead>\n",
       "        <tr>\n",
       "            <th>Name</th> <th>Ad</th> <th>Amount ($) average</th>\n",
       "        </tr>\n",
       "    </thead>\n",
       "    <tbody>\n",
       "        <tr>\n",
       "            <td>Alice Johnson</td> <td>Yes </td> <td>12.5              </td>\n",
       "        </tr>\n",
       "        <tr>\n",
       "            <td>Ling Chen    </td> <td>No  </td> <td>8                 </td>\n",
       "        </tr>\n",
       "        <tr>\n",
       "            <td>Ling Chen    </td> <td>Yes </td> <td>9                 </td>\n",
       "        </tr>\n",
       "        <tr>\n",
       "            <td>Maria García </td> <td>No  </td> <td>15                </td>\n",
       "        </tr>\n",
       "    </tbody>\n",
       "</table>"
      ],
      "text/plain": [
       "Name          | Ad   | Amount ($) average\n",
       "Alice Johnson | Yes  | 12.5\n",
       "Ling Chen     | No   | 8\n",
       "Ling Chen     | Yes  | 9\n",
       "Maria García  | No   | 15"
      ]
     },
     "execution_count": 80,
     "metadata": {},
     "output_type": "execute_result"
    }
   ],
   "source": [
    "customer_reduced_again = customer_data.select('Name', 'Ad', 'Amount ($)')\n",
    "\n",
    "customer_ad_averages = customer_reduced_again.group(['Name', 'Ad'], np.average)\n",
    "customer_ad_averages"
   ]
  },
  {
   "cell_type": "code",
   "execution_count": 81,
   "metadata": {
    "deletable": false,
    "editable": false
   },
   "outputs": [
    {
     "data": {
      "text/html": [
       "<p><strong><pre style='display: inline;'>task_14</pre></strong> passed! 🌟</p><p><strong><pre style='display: inline;'>task_14 - 1</pre> message:</strong> ✅ customer_ad_averages is a Table.</p><p><strong><pre style='display: inline;'>task_14 - 2</pre> message:</strong> ✅ customer_ad_averages has the correct number of rows.</p><p><strong><pre style='display: inline;'>task_14 - 3</pre> message:</strong> ✅ customer_ad_averages has the correct column labels.</p><p><strong><pre style='display: inline;'>task_14 - 4</pre> message:</strong> ✅ customer_ad_averages seems correct.</p>"
      ],
      "text/plain": [
       "task_14 results: All test cases passed!\n",
       "task_14 - 1 message: ✅ customer_ad_averages is a Table.\n",
       "task_14 - 2 message: ✅ customer_ad_averages has the correct number of rows.\n",
       "task_14 - 3 message: ✅ customer_ad_averages has the correct column labels.\n",
       "task_14 - 4 message: ✅ customer_ad_averages seems correct."
      ]
     },
     "execution_count": 81,
     "metadata": {},
     "output_type": "execute_result"
    }
   ],
   "source": [
    "grader.check(\"task_14\")"
   ]
  },
  {
   "cell_type": "markdown",
   "metadata": {},
   "source": [
    "You should see that customer Ling Chen spends about 1 dollar more on average for purchases made through advertisements compared to purchases not made through advertisements. This is a small example of the more detailed analysis you can provide when aggregating your data across multiple categories."
   ]
  },
  {
   "cell_type": "markdown",
   "metadata": {},
   "source": [
    "### Pivot"
   ]
  },
  {
   "cell_type": "markdown",
   "metadata": {},
   "source": [
    "A pivot table provides the same information as you get from grouping by two columns, but the format is slightly different. \n",
    "\n",
    "Here are a few examples where using pivot over group can be advantageous:\n",
    "\n",
    "* Pivot tables are excellent for creating summary tables. If your goal is to create a structured summary table with row and column headers that represent specific categories, pivot is often more straightforward to use.\n",
    "* If your primary goal is to visualize data, pivot tables can be more useful. The resulting grid structure from a pivot table can be directly used in data visualization tools or libraries for creating bar charts or other visual representations of your data.\n",
    "* Pivot tables in the `datascience` library handle missing values differently compared with `group`. When using `pivot`, a placeholder of some kind is provided for missing combinations of values. On the other hand, `group` will leave out any missing combinations of values from the table.\n",
    "\n",
    "The first two arguments of `pivot` are important. \n",
    "* The first argument specifies the column where the pivot table column values will come from.\n",
    "* The second argument will specify the column where the pivot table row values in the first column come from.\n",
    "\n",
    "By default, the values inside the table come from the counts of how often the pair of column and row values occur in the data set. "
   ]
  },
  {
   "cell_type": "markdown",
   "metadata": {},
   "source": [
    "For example, run the following cell  to see the pivot table showing the number of purchases made by each customer through an advertisement or not. Notice that the `'Ad'` values appear as column labels."
   ]
  },
  {
   "cell_type": "code",
   "execution_count": 83,
   "metadata": {},
   "outputs": [
    {
     "data": {
      "text/html": [
       "<table border=\"1\" class=\"dataframe\">\n",
       "    <thead>\n",
       "        <tr>\n",
       "            <th>Name</th> <th>No</th> <th>Yes</th>\n",
       "        </tr>\n",
       "    </thead>\n",
       "    <tbody>\n",
       "        <tr>\n",
       "            <td>Alice Johnson</td> <td>0   </td> <td>2   </td>\n",
       "        </tr>\n",
       "        <tr>\n",
       "            <td>Ling Chen    </td> <td>1   </td> <td>2   </td>\n",
       "        </tr>\n",
       "        <tr>\n",
       "            <td>Maria García </td> <td>1   </td> <td>0   </td>\n",
       "        </tr>\n",
       "    </tbody>\n",
       "</table>"
      ],
      "text/plain": [
       "Name          | No   | Yes\n",
       "Alice Johnson | 0    | 2\n",
       "Ling Chen     | 1    | 2\n",
       "Maria García  | 1    | 0"
      ]
     },
     "execution_count": 83,
     "metadata": {},
     "output_type": "execute_result"
    }
   ],
   "source": [
    "customer_data.pivot('Ad', 'Name')"
   ]
  },
  {
   "cell_type": "markdown",
   "metadata": {},
   "source": [
    "You can go further by specifying a third and fourth argument: `values` and `collect`. `values` represents the column in the table for which the `collect` function will be applied to create the values inside the pivot table."
   ]
  },
  {
   "cell_type": "markdown",
   "metadata": {
    "tags": []
   },
   "source": [
    "### Task 15 📍"
   ]
  },
  {
   "cell_type": "markdown",
   "metadata": {
    "deletable": false,
    "editable": false
   },
   "source": [
    "Using the `customer_data` table, create a pivot table `ad_name_pivot` that has a row for each customer name, a column for the `'Yes'` and `'No'` `'Ad'` values, and the average purchase amount for each pairing of customers and purchases made through advertisements or not. You won't need to reduce the `customer_data` table like you needed to do in previous tasks. This is another benefit of the `pivot` method!\n",
    "\n",
    "**Hint**: Use `'Amount ($)'` for the values and `'np.average'` for the collect function."
   ]
  },
  {
   "cell_type": "code",
   "execution_count": 84,
   "metadata": {
    "tags": []
   },
   "outputs": [
    {
     "data": {
      "text/html": [
       "<table border=\"1\" class=\"dataframe\">\n",
       "    <thead>\n",
       "        <tr>\n",
       "            <th>Name</th> <th>No</th> <th>Yes</th>\n",
       "        </tr>\n",
       "    </thead>\n",
       "    <tbody>\n",
       "        <tr>\n",
       "            <td>Alice Johnson</td> <td>0   </td> <td>12.5</td>\n",
       "        </tr>\n",
       "        <tr>\n",
       "            <td>Ling Chen    </td> <td>8   </td> <td>9   </td>\n",
       "        </tr>\n",
       "        <tr>\n",
       "            <td>Maria García </td> <td>15  </td> <td>0   </td>\n",
       "        </tr>\n",
       "    </tbody>\n",
       "</table>"
      ],
      "text/plain": [
       "Name          | No   | Yes\n",
       "Alice Johnson | 0    | 12.5\n",
       "Ling Chen     | 8    | 9\n",
       "Maria García  | 15   | 0"
      ]
     },
     "execution_count": 84,
     "metadata": {},
     "output_type": "execute_result"
    }
   ],
   "source": [
    "ad_name_pivot = customer_data.pivot('Ad', 'Name', 'Amount ($)', np.average)\n",
    "ad_name_pivot"
   ]
  },
  {
   "cell_type": "code",
   "execution_count": 85,
   "metadata": {
    "deletable": false,
    "editable": false
   },
   "outputs": [
    {
     "data": {
      "text/html": [
       "<p><strong><pre style='display: inline;'>task_15</pre></strong> passed! ✨</p><p><strong><pre style='display: inline;'>task_15 - 1</pre> message:</strong> ✅ ad_name_pivot is a Table.</p><p><strong><pre style='display: inline;'>task_15 - 2</pre> message:</strong> ✅ ad_name_pivot has the right column labels</p><p><strong><pre style='display: inline;'>task_15 - 3</pre> message:</strong> ✅ ad_name_pivot has the correct values in the first column to represent the customer names.</p><p><strong><pre style='display: inline;'>task_15 - 4</pre> message:</strong> ✅ ad_name_pivot seems correct.</p>"
      ],
      "text/plain": [
       "task_15 results: All test cases passed!\n",
       "task_15 - 1 message: ✅ ad_name_pivot is a Table.\n",
       "task_15 - 2 message: ✅ ad_name_pivot has the right column labels\n",
       "task_15 - 3 message: ✅ ad_name_pivot has the correct values in the first column to represent the customer names.\n",
       "task_15 - 4 message: ✅ ad_name_pivot seems correct."
      ]
     },
     "execution_count": 85,
     "metadata": {},
     "output_type": "execute_result"
    }
   ],
   "source": [
    "grader.check(\"task_15\")"
   ]
  },
  {
   "cell_type": "markdown",
   "metadata": {},
   "source": [
    "As you can see there are a lot of ways to organize and summarize data in a table. You'll gain a lot of experience with using the tools in this lab throughout the semester."
   ]
  },
  {
   "cell_type": "markdown",
   "metadata": {},
   "source": [
    "## Submit your Lab to Canvas\n",
    "\n",
    "Once you have finished working on the lab questions, prepare to submit your work in Canvas by completing the following steps.\n",
    "\n",
    "1. In the related Canvas Assignment page, check the requirements for a Complete score for this lab assignment.\n",
    "2. Double-check that you have run the code cell near the end of the notebook that contains the command `grader.check_all()`. This command will run all of the run tests on all your responses to the auto-graded tasks marked with 📍.\n",
    "3. Double-check your responses to the manually graded tasks marked with 📍🔎.\n",
    "4. Select the menu items `File`, `Save and Export Notebook As...`, and `Html_embed` in the notebook's Toolbar to download an HTML version of this notebook file.\n",
    "5. In the related Canvas Assignment page, click Start Assignment or New Attempt to upload the downloaded HTML file."
   ]
  },
  {
   "cell_type": "markdown",
   "metadata": {
    "deletable": false,
    "editable": false
   },
   "source": [
    "---\n",
    "\n",
    "To double-check your work, the cell below will rerun all of the autograder tests."
   ]
  },
  {
   "cell_type": "code",
   "execution_count": 103,
   "metadata": {
    "deletable": false,
    "editable": false
   },
   "outputs": [
    {
     "data": {
      "text/plain": [
       "task_01 results: All test cases passed!\n",
       "task_01 - 1 message: ✅ It seems like your function is working!\n",
       "\n",
       "task_02 results: All test cases passed!\n",
       "task_02 - 1 message: ✅ Great work calling the function on the value named a_proportion.\n",
       "\n",
       "task_03 results: All test cases passed!\n",
       "task_03 - 1 message: ✅ It looks like disemvowel is working correctly.\n",
       "\n",
       "task_04 results: All test cases passed!\n",
       "task_04 - 1 message: ✅ It seems like your function num_non_vowels is working correctly!\n",
       "\n",
       "task_05 results: All test cases passed!\n",
       "task_05 - 1 message: ✅ It seems like your function print_kth_top_movie_year is working correctly!\n",
       "\n",
       "task_06 results: All test cases passed!\n",
       "task_06 - 1 message: ✅ Great work naming the item and not the array.\n",
       "task_06 - 2 message: ✅ Nice! The type of the frist item in the Total Pay column is a string.\n",
       "task_06 - 3 message: ✅ Looks good! The value might look like a number, but it isn't.\n",
       "\n",
       "task_07 results: All test cases passed!\n",
       "task_07 - 1 message: ✅ Nice work getting the correct value.\n",
       "\n",
       "task_08 results: All test cases passed!\n",
       "task_08 - 1 message: ✅ It looks like the value is no longer a string.\n",
       "task_08 - 2 message: ✅ Nice! You don't have the dolloar amount in millions of dollars.\n",
       "task_08 - 3 message: ✅ It looks like you have the correct value.\n",
       "\n",
       "task_09 results: All test cases passed!\n",
       "task_09 - 1 message: ✅ It looks like your function convert_pay_string_to_number is working with the input '$100 '.\n",
       "task_09 - 2 message: ✅ It looks like your function convert_pay_string_to_number is working with the input '$23 '.\n",
       "\n",
       "task_10 results: All test cases passed!\n",
       "task_10 - 1 message: ✅ It looks like you created a column labeled Total Pay ($)\n",
       "task_10 - 2 message: ✅ We checked a value in the table and it looks correct!\n",
       "\n",
       "task_11 results: All test cases passed!\n",
       "task_11 - 1 message: ✅ Great work!\n",
       "\n",
       "task_12 results: All test cases passed!\n",
       "task_12 - 1 message: ✅ customer_data is a Table.\n",
       "task_12 - 2 message: ✅ customer_data has the correct labels.\n",
       "task_12 - 3 message: ✅ customer_data seems correct!\n",
       "\n",
       "task_13 results: All test cases passed!\n",
       "task_13 - 1 message: ✅ customer_averages is a Table\n",
       "task_13 - 2 message: ✅ customer_averages has the correct number of rows.\n",
       "task_13 - 3 message: ✅ customer_averages has the correct number of columns\n",
       "task_13 - 4 message: ✅ customer_averages seems correct.\n",
       "\n",
       "task_14 results: All test cases passed!\n",
       "task_14 - 1 message: ✅ customer_ad_averages is a Table.\n",
       "task_14 - 2 message: ✅ customer_ad_averages has the correct number of rows.\n",
       "task_14 - 3 message: ✅ customer_ad_averages has the correct column labels.\n",
       "task_14 - 4 message: ✅ customer_ad_averages seems correct.\n",
       "\n",
       "task_15 results: All test cases passed!\n",
       "task_15 - 1 message: ✅ ad_name_pivot is a Table.\n",
       "task_15 - 2 message: ✅ ad_name_pivot has the right column labels\n",
       "task_15 - 3 message: ✅ ad_name_pivot has the correct values in the first column to represent the customer names.\n",
       "task_15 - 4 message: ✅ ad_name_pivot seems correct."
      ]
     },
     "execution_count": 103,
     "metadata": {},
     "output_type": "execute_result"
    }
   ],
   "source": [
    "grader.check_all()"
   ]
  },
  {
   "cell_type": "code",
   "execution_count": null,
   "metadata": {},
   "outputs": [],
   "source": []
  }
 ],
 "metadata": {
  "hide_input": false,
  "kernelspec": {
   "display_name": "Python 3 (ipykernel)",
   "language": "python",
   "name": "python3"
  },
  "language_info": {
   "codemirror_mode": {
    "name": "ipython",
    "version": 3
   },
   "file_extension": ".py",
   "mimetype": "text/x-python",
   "name": "python",
   "nbconvert_exporter": "python",
   "pygments_lexer": "ipython3",
   "version": "3.10.12"
  },
  "otter": {
   "OK_FORMAT": true,
   "assignment_name": "lab04_sp24",
   "tests": {
    "task_01": {
     "name": "task_01",
     "points": null,
     "suites": [
      {
       "cases": [
        {
         "code": ">>> to_percentage(0.25) == 25.0\nTrue",
         "failure_message": "❌ Make sure you are mulitplying the input proportion 100.",
         "hidden": false,
         "locked": false,
         "points": 1,
         "success_message": "✅ It seems like your function is working!"
        }
       ],
       "scored": true,
       "setup": "",
       "teardown": "",
       "type": "doctest"
      }
     ]
    },
    "task_02": {
     "name": "task_02",
     "points": null,
     "suites": [
      {
       "cases": [
        {
         "code": ">>> a_percentage == 70.71067811865476\nTrue",
         "failure_message": "❌ It doesn't seem like you are calling the function to_percentage on a_proportion.",
         "hidden": false,
         "locked": false,
         "points": 1,
         "success_message": "✅ Great work calling the function on the value named a_proportion."
        }
       ],
       "scored": true,
       "setup": "",
       "teardown": "",
       "type": "doctest"
      }
     ]
    },
    "task_03": {
     "name": "task_03",
     "points": null,
     "suites": [
      {
       "cases": [
        {
         "code": ">>> disemvowel('Datascience rules!') == 'Dtscnc rls!'\nTrue",
         "failure_message": "❌ It doesn't seem like disemvowel is wokring correctly. a_string.replace('t', '') will remove any t's in the string named a_string.",
         "hidden": false,
         "locked": false,
         "points": 1,
         "success_message": "✅ It looks like disemvowel is working correctly."
        }
       ],
       "scored": true,
       "setup": "",
       "teardown": "",
       "type": "doctest"
      }
     ]
    },
    "task_04": {
     "name": "task_04",
     "points": null,
     "suites": [
      {
       "cases": [
        {
         "code": ">>> num_non_vowels('datascience') == 6\nTrue",
         "failure_message": "❌ It doesn't seem like your function num_non_vowels is working correctly. Try using len on the output of disemvowel.",
         "hidden": false,
         "locked": false,
         "points": 1,
         "success_message": "✅ It seems like your function num_non_vowels is working correctly!"
        }
       ],
       "scored": true,
       "setup": "",
       "teardown": "",
       "type": "doctest"
      }
     ]
    },
    "task_05": {
     "name": "task_05",
     "points": null,
     "suites": [
      {
       "cases": [
        {
         "code": ">>> print(print_kth_top_movie_year(2))\nYear number 2 for total gross movie sales was: 2019\nNone\n",
         "failure_message": "❌ It doesn't seem like your function print_kth_top_movie_year is working correctly. Try using the sort and column table methods along with the array method item. Don't forget the index number is 1 less than the item number in an array",
         "hidden": false,
         "locked": false,
         "points": 1,
         "success_message": "✅ It seems like your function print_kth_top_movie_year is working correctly!"
        }
       ],
       "scored": true,
       "setup": "",
       "teardown": "",
       "type": "doctest"
      }
     ]
    },
    "task_06": {
     "name": "task_06",
     "points": null,
     "suites": [
      {
       "cases": [
        {
         "code": ">>> import numpy\n>>> total_pay_type != numpy.ndarray\nTrue",
         "failure_message": "❌ Make sure you are examining the values in the column, not the column itself.",
         "hidden": false,
         "locked": false,
         "points": 1,
         "success_message": "✅ Great work naming the item and not the array."
        },
        {
         "code": ">>> 'str' in str(total_pay_type)\nTrue",
         "failure_message": "❌ You should get a string if you get the type of the frist item in the Total Pay column.",
         "hidden": false,
         "locked": false,
         "points": 1,
         "success_message": "✅ Nice! The type of the frist item in the Total Pay column is a string."
        },
        {
         "code": ">>> total_pay_type != int\nTrue",
         "failure_message": "❌ The value might look like a number, but it isn't. Make sure to call the type function on a value in the column.",
         "hidden": false,
         "locked": false,
         "points": 1,
         "success_message": "✅ Looks good! The value might look like a number, but it isn't."
        }
       ],
       "scored": true,
       "setup": "",
       "teardown": "",
       "type": "doctest"
      }
     ]
    },
    "task_07": {
     "name": "task_07",
     "points": null,
     "suites": [
      {
       "cases": [
        {
         "code": ">>> str(mark_hurd_pay_string) == '$53.25 '\nTrue",
         "failure_message": "❌ It doesn't seem like you have the correct value. You want to get the first item in the Total Pay column's array of values.",
         "hidden": false,
         "locked": false,
         "points": 1,
         "success_message": "✅ Nice work getting the correct value."
        }
       ],
       "scored": true,
       "setup": "",
       "teardown": "",
       "type": "doctest"
      }
     ]
    },
    "task_08": {
     "name": "task_08",
     "points": null,
     "suites": [
      {
       "cases": [
        {
         "code": ">>> type(mark_hurd_pay) != str\nTrue",
         "failure_message": "❌ The value is still a string. Try stripping the $ sign and using float.",
         "hidden": false,
         "locked": false,
         "points": 1,
         "success_message": "✅ It looks like the value is no longer a string."
        },
        {
         "code": ">>> mark_hurd_pay != 5325\nTrue",
         "failure_message": "❌ Don't forget to give your answer in dollars, not millions of dollars. Try multiplying by one million.",
         "hidden": false,
         "locked": false,
         "points": 1,
         "success_message": "✅ Nice! You don't have the dolloar amount in millions of dollars."
        },
        {
         "code": ">>> mark_hurd_pay == 53250000\nTrue",
         "failure_message": "❌ Your value doesn't seem correct.",
         "hidden": false,
         "locked": false,
         "points": 1,
         "success_message": "✅ It looks like you have the correct value."
        }
       ],
       "scored": true,
       "setup": "",
       "teardown": "",
       "type": "doctest"
      }
     ]
    },
    "task_09": {
     "name": "task_09",
     "points": null,
     "suites": [
      {
       "cases": [
        {
         "code": ">>> convert_pay_string_to_number('$100 ') == 100000000.0\nTrue",
         "failure_message": "❌ convert_pay_string_to_number is not working for our example. Try to redo the strips from a previous task, but use the name pay_string for the string.",
         "hidden": false,
         "locked": false,
         "points": 1,
         "success_message": "✅ It looks like your function convert_pay_string_to_number is working with the input '$100 '."
        },
        {
         "code": ">>> convert_pay_string_to_number('$23 ') == 23000000.0\nTrue",
         "failure_message": "❌ convert_pay_string_to_number is not working for our example.",
         "hidden": false,
         "locked": false,
         "points": 1,
         "success_message": "✅ It looks like your function convert_pay_string_to_number is working with the input '$23 '."
        }
       ],
       "scored": true,
       "setup": "",
       "teardown": "",
       "type": "doctest"
      }
     ]
    },
    "task_10": {
     "name": "task_10",
     "points": null,
     "suites": [
      {
       "cases": [
        {
         "code": ">>> 'Total Pay ($)' in compensation.labels\nTrue",
         "failure_message": "❌ You either didn't add the 'Total Pay ($)' column, or you mislabeled it",
         "hidden": false,
         "locked": false,
         "points": 1,
         "success_message": "✅ It looks like you created a column labeled Total Pay ($)"
        },
        {
         "code": ">>> t = compensation.sort('Total Pay ($)', descending=True)\n>>> t.column('Total Pay ($)').item(0) == 53250000.0\nTrue",
         "failure_message": "❌ You have the correct column in your table, but the values may be wrong. Try using the apply method with convert_pay_string_to_number function. You'll need to add that information to the table using with_column.",
         "hidden": false,
         "locked": false,
         "points": 1,
         "success_message": "✅ We checked a value in the table and it looks correct!"
        }
       ],
       "scored": true,
       "setup": "",
       "teardown": "",
       "type": "doctest"
      }
     ]
    },
    "task_11": {
     "name": "task_11",
     "points": null,
     "suites": [
      {
       "cases": [
        {
         "code": ">>> import math\n>>> math.isclose(average_total_pay, 11445294.11764706, rel_tol=0.1)\nTrue",
         "failure_message": "❌ It doesn't seem like you have the correct value. Try using np.mean or np.average.",
         "hidden": false,
         "locked": false,
         "points": 1,
         "success_message": "✅ Great work!"
        }
       ],
       "scored": true,
       "setup": "",
       "teardown": "",
       "type": "doctest"
      }
     ]
    },
    "task_12": {
     "name": "task_12",
     "points": null,
     "suites": [
      {
       "cases": [
        {
         "code": ">>> isinstance(customer_data, Table)\nTrue",
         "failure_message": "❌ customer_data should be a Table. Are you using the join method?",
         "hidden": false,
         "locked": false,
         "points": 1,
         "success_message": "✅ customer_data is a Table."
        },
        {
         "code": ">>> customer_data.labels == ('Customer ID', 'Name', 'Email', 'Product', 'Ad', 'Amount ($)')\nTrue",
         "failure_message": "❌ customer_data doesn't have the correct labels. Make sure you start your join statement with customers.join because purchase_history.join would produce a different collection of labels.",
         "hidden": false,
         "locked": false,
         "points": 1,
         "success_message": "✅ customer_data has the correct labels."
        },
        {
         "code": ">>> customer_data\nCustomer ID | Name          | Email             | Product | Ad   | Amount ($)\n1           | Alice Johnson | alice@example.com | Widget  | Yes  | 10\n1           | Alice Johnson | alice@example.com | Gadget  | Yes  | 15\n3           | Maria García  | maria@example.com | Gadget  | No   | 15\n4           | Ling Chen     | ling@example.com  | Doodad  | No   | 8\n4           | Ling Chen     | ling@example.com  | Widget  | Yes  | 10\n4           | Ling Chen     | ling@example.com  | Doodad  | Yes  | 8",
         "failure_message": "❌ customer_data doesn't look correct. Check with someone before moving on.",
         "hidden": false,
         "locked": false,
         "points": 1,
         "success_message": "✅ customer_data seems correct!"
        }
       ],
       "scored": true,
       "setup": "",
       "teardown": "",
       "type": "doctest"
      }
     ]
    },
    "task_13": {
     "name": "task_13",
     "points": null,
     "suites": [
      {
       "cases": [
        {
         "code": ">>> isinstance(customer_averages, Table)\nTrue",
         "failure_message": "❌ customer_averages should be a Table. Make sure to use the group method.",
         "hidden": false,
         "locked": false,
         "points": 1,
         "success_message": "✅ customer_averages is a Table"
        },
        {
         "code": ">>> customer_averages.num_rows == 3\nTrue",
         "failure_message": "❌ customer_averages does not have the correct number of rows. Double check that you are using the customer_data table.",
         "hidden": false,
         "locked": false,
         "points": 1,
         "success_message": "✅ customer_averages has the correct number of rows."
        },
        {
         "code": ">>> customer_averages.num_columns == 2\nTrue",
         "failure_message": "❌ customer_averages doesn't have the correct number of columns. Try using select or drop first before grouping the data.",
         "hidden": false,
         "locked": false,
         "points": 1,
         "success_message": "✅ customer_averages has the correct number of columns"
        },
        {
         "code": ">>> customer_averages\nName          | Amount ($) average\nAlice Johnson | 12.5\nLing Chen     | 8.66667\nMaria García  | 15",
         "failure_message": "❌ customer_averages doesn't seem correct. Check with someone before moving on.",
         "hidden": false,
         "locked": false,
         "points": 1,
         "success_message": "✅ customer_averages seems correct."
        }
       ],
       "scored": true,
       "setup": "",
       "teardown": "",
       "type": "doctest"
      }
     ]
    },
    "task_14": {
     "name": "task_14",
     "points": null,
     "suites": [
      {
       "cases": [
        {
         "code": ">>> isinstance(customer_ad_averages, Table)\nTrue",
         "failure_message": "❌ customer_ad_averages should be a Table. Are you using the group method with customer_data?",
         "hidden": false,
         "locked": false,
         "points": 1,
         "success_message": "✅ customer_ad_averages is a Table."
        },
        {
         "code": ">>> customer_ad_averages.num_rows == 4\nTrue",
         "failure_message": "❌ customer_ad_averages should have 4 rows. Make sure you are working from the customer_data table.",
         "hidden": false,
         "locked": false,
         "points": 1,
         "success_message": "✅ customer_ad_averages has the correct number of rows."
        },
        {
         "code": ">>> customer_ad_averages.labels == ('Name', 'Ad', 'Amount ($) average')\nTrue",
         "failure_message": "❌ customer_ad_averages doesn't have the correct column labels. Try using select or drop with customer_data before grouping.?",
         "hidden": false,
         "locked": false,
         "points": 1,
         "success_message": "✅ customer_ad_averages has the correct column labels."
        },
        {
         "code": ">>> customer_ad_averages\nName          | Ad   | Amount ($) average\nAlice Johnson | Yes  | 12.5\nLing Chen     | No   | 8\nLing Chen     | Yes  | 9\nMaria García  | No   | 15",
         "failure_message": "❌ customer_ad_averages doesn't seem correct. Check with someone before moving on.",
         "hidden": false,
         "locked": false,
         "points": 1,
         "success_message": "✅ customer_ad_averages seems correct."
        }
       ],
       "scored": true,
       "setup": "",
       "teardown": "",
       "type": "doctest"
      }
     ]
    },
    "task_15": {
     "name": "task_15",
     "points": null,
     "suites": [
      {
       "cases": [
        {
         "code": ">>> isinstance(ad_name_pivot, Table)\nTrue",
         "failure_message": "❌ ad_name_pivot should be a Table. Are you using the pivot method?",
         "hidden": false,
         "locked": false,
         "points": 1,
         "success_message": "✅ ad_name_pivot is a Table."
        },
        {
         "code": ">>> ad_name_pivot.labels == ('Name', 'No', 'Yes')\nTrue",
         "failure_message": "❌ ad_name_pivot doesn't have the correct column labels. The first argument of pivot should be 'Ad'.",
         "hidden": false,
         "locked": false,
         "points": 1,
         "success_message": "✅ ad_name_pivot has the right column labels"
        },
        {
         "code": ">>> tuple(ad_name_pivot.column(0)) == ('Alice Johnson', 'Ling Chen', 'Maria García')\nTrue",
         "failure_message": "❌ ad_name_pivot doesn't have the correct values in the first column. The second argument of pivot should be 'Name'.",
         "hidden": false,
         "locked": false,
         "points": 1,
         "success_message": "✅ ad_name_pivot has the correct values in the first column to represent the customer names."
        },
        {
         "code": ">>> ad_name_pivot\nName          | No   | Yes\nAlice Johnson | 0    | 12.5\nLing Chen     | 8    | 9\nMaria García  | 15   | 0",
         "failure_message": "❌ ad_name_pivot doesn't seem correct. Check with someone before moving on.",
         "hidden": false,
         "locked": false,
         "points": 1,
         "success_message": "✅ ad_name_pivot seems correct."
        }
       ],
       "scored": true,
       "setup": "",
       "teardown": "",
       "type": "doctest"
      }
     ]
    }
   }
  },
  "toc-autonumbering": false,
  "toc-showmarkdowntxt": false
 },
 "nbformat": 4,
 "nbformat_minor": 4
}
