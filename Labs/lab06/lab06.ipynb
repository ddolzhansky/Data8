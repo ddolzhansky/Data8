{
 "cells": [
  {
   "cell_type": "code",
   "execution_count": 40,
   "id": "1c072659",
   "metadata": {
    "deletable": false,
    "editable": false
   },
   "outputs": [],
   "source": [
    "# Initialize Otter\n",
    "import otter\n",
    "grader = otter.Notebook(\"lab06.ipynb\")"
   ]
  },
  {
   "cell_type": "markdown",
   "id": "274b3d8a-4082-4e4d-abe2-676e517cfaad",
   "metadata": {},
   "source": [
    "<img style=\"display: block; margin-left: auto; margin-right: auto\" src=\"./ccsf-logo.png\" width=\"250rem;\" alt=\"The CCSF black and white logo\">"
   ]
  },
  {
   "cell_type": "markdown",
   "id": "08607e8f-7ecc-4bbd-92ab-d2ceed0f13a6",
   "metadata": {},
   "source": [
    "# Lab 06 - Testing Hypotheses"
   ]
  },
  {
   "cell_type": "markdown",
   "id": "19ed50c7-456f-40f3-a6b0-15095aa02d2e",
   "metadata": {},
   "source": [
    "## References"
   ]
  },
  {
   "cell_type": "markdown",
   "id": "cf2fe11f-5c3f-490a-a6cd-75d9337aed21",
   "metadata": {},
   "source": [
    "* [Sections 11.0 - 11.4 of the Textbook](https://inferentialthinking.com/chapters/11/Testing_Hypotheses.html)\n",
    "* [datascience Documentation](https://datascience.readthedocs.io/)\n",
    "* [Python Quick Reference](https://ccsf-math-108.github.io/materials-fa23/resources/quick_reference.html)"
   ]
  },
  {
   "cell_type": "markdown",
   "id": "fb2024fd-35bc-4d88-8de5-964743f27ef4",
   "metadata": {},
   "source": [
    "## Assignment Reminders"
   ]
  },
  {
   "cell_type": "markdown",
   "id": "6f458ea9-07d0-4bab-ba8d-bb821e192fc8",
   "metadata": {},
   "source": [
    "- Make sure to run the code cell at the top of this notebook that starts with `# Initialize Otter` to load the auto-grader.\n",
    "- For all tasks indicated with a 🔎 that you must write explanations and sentences for, provide your answer in the designated space.\n",
    "- Throughout this assignment and all future ones, please be sure to not re-assign variables throughout the notebook! _For example, if you use `max_temperature` in your answer to one question, do not reassign it later on. Otherwise, you will fail tests that you thought you were passing previously!_\n",
    "- Collaborating on labs is more than okay -- it's encouraged! You should rarely remain stuck for more than a few minutes on questions in labs, so ask an instructor or classmate for help. (Explaining things is beneficial, too -- the best way to solidify your knowledge of a subject is to explain it.) Please don't just share answers, though.\n",
    "- View the related <a href=\"https://ccsf.instructure.com\" target=\"_blank\">Canvas</a> Assignment page for additional details."
   ]
  },
  {
   "cell_type": "markdown",
   "id": "3b8f6917-f17e-470a-8c36-c455164e606b",
   "metadata": {},
   "source": [
    "Run the following cell to set up the lab, and make sure you run the cell at the top of the notebook that initializes Otter."
   ]
  },
  {
   "cell_type": "code",
   "execution_count": 41,
   "id": "86ec8ba3-0adc-419b-b596-8af409a9c1b2",
   "metadata": {},
   "outputs": [],
   "source": [
    "from datascience import *\n",
    "import numpy as np\n",
    "%matplotlib inline\n",
    "import matplotlib.pyplot as plt\n",
    "plt.style.use('fivethirtyeight')"
   ]
  },
  {
   "cell_type": "markdown",
   "id": "748d45ce-6853-4ace-b6e8-5ad5b6cf69ce",
   "metadata": {},
   "source": [
    "## Therapeutic Touch"
   ]
  },
  {
   "cell_type": "markdown",
   "id": "7d2ed8ff-c1b1-463d-bc06-aa7b9cb42ea6",
   "metadata": {},
   "source": [
    "The [therapeutic touch (TT)](https://en.wikipedia.org/wiki/Therapeutic_touch) is the idea that everyone can feel the Human Energy Field (HEF) around individuals.  Those who practice TT have described different people's HEFs as \"warm as Jell-O\" and \"tactile as taffy.\" \n",
    "\n",
    "TT was a popular technique used throughout the 20th century that was toted as a great way to bring balance to a person's health. Certain practitioners claim they have the ability to feel the HEF and can massage it in order to promote health and relaxation in individuals."
   ]
  },
  {
   "cell_type": "markdown",
   "id": "912b478a-cc80-4b09-94b4-dad133d5a8d5",
   "metadata": {},
   "source": [
    "## Emily Rosa"
   ]
  },
  {
   "cell_type": "markdown",
   "id": "87b6cfc7-d5cf-42f4-b457-c7d42e050023",
   "metadata": {},
   "source": [
    "[Emily Rosa](https://en.wikipedia.org/wiki/Emily_Rosa) was a 4th grade student who was very familiar with the world of TT, thanks to her parents, who were both medical practitioners and skeptics of TT.\n",
    "\n",
    "For her 4th grade science fair project, Emily decided to test whether or not TT practitioners could truly interact with a person's HEF. She later went on to publish her work in TT, becoming the youngest person to have a research paper published in a peer reviewed medical journal."
   ]
  },
  {
   "cell_type": "markdown",
   "id": "939e1d8e-07c3-4df5-9e37-7627151fb03d",
   "metadata": {},
   "source": [
    "## Emily's Experiment"
   ]
  },
  {
   "cell_type": "markdown",
   "id": "955d7d19-a0b8-4c1f-84c1-349d4c9fdf8f",
   "metadata": {},
   "source": [
    "Emily's experiment was clean, simple, and effective. Due to her parents' occupations in the medical field, she had wide access to people who claimed to be TT practitioners. \n",
    "\n",
    "Emily took 21 TT practitioners and used them for her science experiment. She would take a TT practitioner and ask them to extend their hands through a screen (which they can't see through). Emily would be on the other side and would flip a fair coin. Depending on how the coin landed, she would put out either her left hand or her right hand. The TT practitioner would then have to answer which hand Emily put out. If a pracitioner could truly interact with a person's HEF, it would be expected that they answered correctly.\n",
    "\n",
    "Overall, through 210 samples, the practitioner picked the correct hand 44% of the time. \n",
    "\n",
    "Emily's main goal here was to test whether or not the TT practicioners' guesses were random, like the flip of a coin. In most medical experiments, this is the norm. We want to test whether or not the treatment has an effect, *not* whether or not the treatment actually works. \n",
    "\n",
    "We will now begin to formulate this experiment in terms of the terminology we learned in this course. "
   ]
  },
  {
   "cell_type": "markdown",
   "id": "98ae6dd1-bcba-4197-be57-19902713f8a6",
   "metadata": {},
   "source": [
    "## Task 01 📍🔎"
   ]
  },
  {
   "cell_type": "markdown",
   "id": "0326402c-b325-4489-90a2-503bb317229b",
   "metadata": {
    "deletable": false,
    "editable": false
   },
   "source": [
    "<!-- BEGIN QUESTION -->\n",
    "\n",
    "Describe Emily's model for how likely the TT practitioners are to choose the correct hand. What alternative model is her model meant to discredit? Discuss with students around you to come to a conclusion. Check-in with a tutor or the instructor if you are stuck.\n"
   ]
  },
  {
   "cell_type": "markdown",
   "id": "9c4425c6",
   "metadata": {},
   "source": [
    "Emily's model assumes TT practitioners' guesses are random, akin to flipping a coin. She aims to disprove the idea that TT practitioners can accurately interact with a person's Human Energy Field (HEF) to locate the extended hand."
   ]
  },
  {
   "cell_type": "markdown",
   "id": "f986e0d7-c4c8-44b6-846b-b4a2707dbecb",
   "metadata": {
    "deletable": false,
    "editable": false
   },
   "source": [
    "<!-- END QUESTION -->\n",
    "\n",
    "## Task 02 📍"
   ]
  },
  {
   "cell_type": "markdown",
   "id": "508534fa-49de-4189-98db-a9d9436366a7",
   "metadata": {
    "deletable": false,
    "editable": false
   },
   "source": [
    "Remember that the practitioner got the correct answer 44% (0.44) of the time. According to Emily's model, on average, what proportion of times do we expect the practitioner to guess the correct hand? Make sure your answer is between 0 and 1. \n"
   ]
  },
  {
   "cell_type": "code",
   "execution_count": 5,
   "id": "89a38596-2864-4d4f-b22d-303c0cf770e3",
   "metadata": {
    "tags": []
   },
   "outputs": [
    {
     "data": {
      "text/plain": [
       "0.5"
      ]
     },
     "execution_count": 5,
     "metadata": {},
     "output_type": "execute_result"
    }
   ],
   "source": [
    "expected_proportion_correct = .5\n",
    "expected_proportion_correct"
   ]
  },
  {
   "cell_type": "code",
   "execution_count": 6,
   "id": "a9fda4c7",
   "metadata": {
    "deletable": false,
    "editable": false
   },
   "outputs": [
    {
     "data": {
      "text/html": [
       "<p><strong><pre style='display: inline;'>task_02</pre></strong> passed! 🍀</p><p><strong><pre style='display: inline;'>task_02 - 1</pre> message:</strong> ✅ Great work. A propbability value is a number between 0 and 1, inclusive.</p><p><strong><pre style='display: inline;'>task_02 - 2</pre> message:</strong> ✅ You got it!</p>"
      ],
      "text/plain": [
       "task_02 results: All test cases passed!\n",
       "task_02 - 1 message: ✅ Great work. A propbability value is a number between 0 and 1, inclusive.\n",
       "task_02 - 2 message: ✅ You got it!"
      ]
     },
     "execution_count": 6,
     "metadata": {},
     "output_type": "execute_result"
    }
   ],
   "source": [
    "grader.check(\"task_02\")"
   ]
  },
  {
   "cell_type": "markdown",
   "id": "551676c3-4860-45fe-a148-8955daf51536",
   "metadata": {},
   "source": [
    "The goal now is to see if our deviation from this expected proportion of correct answers is due to something other than chance. "
   ]
  },
  {
   "cell_type": "markdown",
   "id": "d4536ff9-ee25-4136-8753-df664def5d79",
   "metadata": {},
   "source": [
    "## Task 03 📍"
   ]
  },
  {
   "cell_type": "markdown",
   "id": "af186d1c-2a1f-428e-ab19-e1cf0f4d2a46",
   "metadata": {
    "deletable": false,
    "editable": false
   },
   "source": [
    "We usually use a statistic to help determine which model the evidence points towards. What is a statistic that we can use to compare outcomes under Emily’s model to what was observed? Assign `valid_stat` to an array of integer(s) representing test statistics that Emily can use: \n",
    "\n",
    "1. The difference between the expected percent correct and the actual percent correct\n",
    "2. The absolute difference between the expected percent correct and the actual percent correct\n",
    "3. The sum of the expected percent correct and the actual percent correct\n",
    "\n"
   ]
  },
  {
   "cell_type": "code",
   "execution_count": 9,
   "id": "53602da4-0ee3-47c2-b3f9-541e59dc1d9f",
   "metadata": {
    "tags": []
   },
   "outputs": [
    {
     "data": {
      "text/plain": [
       "array([2])"
      ]
     },
     "execution_count": 9,
     "metadata": {},
     "output_type": "execute_result"
    }
   ],
   "source": [
    "valid_stat = make_array(2)\n",
    "valid_stat"
   ]
  },
  {
   "cell_type": "code",
   "execution_count": 10,
   "id": "f5f989f9",
   "metadata": {
    "deletable": false,
    "editable": false
   },
   "outputs": [
    {
     "data": {
      "text/html": [
       "<p><strong><pre style='display: inline;'>task_03</pre></strong> passed! 🍀</p><p><strong><pre style='display: inline;'>task_03 - 1</pre> message:</strong> ✅ valid_stat is an array.</p><p><strong><pre style='display: inline;'>task_03 - 2</pre> message:</strong> ✅ Great work. Your answers seem correct!</p>"
      ],
      "text/plain": [
       "task_03 results: All test cases passed!\n",
       "task_03 - 1 message: ✅ valid_stat is an array.\n",
       "task_03 - 2 message: ✅ Great work. Your answers seem correct!"
      ]
     },
     "execution_count": 10,
     "metadata": {},
     "output_type": "execute_result"
    }
   ],
   "source": [
    "grader.check(\"task_03\")"
   ]
  },
  {
   "cell_type": "markdown",
   "id": "cd4a7caf-c765-4517-8929-e4ff3883cc5a",
   "metadata": {},
   "source": [
    "## Task 04 📍🔎"
   ]
  },
  {
   "cell_type": "markdown",
   "id": "8ddf8776-e6f4-4b11-949b-db254817de1d",
   "metadata": {
    "deletable": false,
    "editable": false
   },
   "source": [
    "<!-- BEGIN QUESTION -->\n",
    "\n",
    "Why is the statistic from Task 03 the best choice for comparing outcomes in Emily's experiment? How does it relate to the models you defined in Task 01?"
   ]
  },
  {
   "cell_type": "markdown",
   "id": "d35ea1a4",
   "metadata": {},
   "source": [
    "This statistic is the best choice because it directly measures the discrepancy between Emily's model assumption (random guessing, 50% expected correctness) and the observed outcome (44% correctness)."
   ]
  },
  {
   "cell_type": "markdown",
   "id": "7b262efc-b967-44cf-9655-5009295cf027",
   "metadata": {
    "deletable": false,
    "editable": false
   },
   "source": [
    "<!-- END QUESTION -->\n",
    "\n",
    "## Task 05 📍"
   ]
  },
  {
   "cell_type": "markdown",
   "id": "f15eba6f-a2b8-4e8d-86d6-6d0bcc0cabd7",
   "metadata": {
    "deletable": false,
    "editable": false
   },
   "source": [
    "Define the function `statistic` which takes in an expected proportion and an actual proportion, and returns the value of the statistic chosen in Task 3. Assume that the argument takes in proportions, but  return your answer as a percentage. \n",
    "\n",
    "*Hint:* Remember we are asking for a **percentage**, not a proportion. \n"
   ]
  },
  {
   "cell_type": "code",
   "execution_count": 13,
   "id": "bf9055ef-a045-40a0-b2dc-c4aecaa36522",
   "metadata": {},
   "outputs": [],
   "source": [
    "def statistic(expected_prop, actual_prop):\n",
    "    absolute_difference = abs(expected_prop - actual_prop)\n",
    "    percentage_difference = absolute_difference * 100\n",
    "    return percentage_difference"
   ]
  },
  {
   "cell_type": "code",
   "execution_count": 14,
   "id": "d994cf9d",
   "metadata": {
    "deletable": false,
    "editable": false
   },
   "outputs": [
    {
     "data": {
      "text/html": [
       "<p><strong><pre style='display: inline;'>task_05</pre></strong> passed! 🌟</p><p><strong><pre style='display: inline;'>task_05 - 1</pre> message:</strong> ✅ We tested your function for a few values it seems to be working.</p><p><strong><pre style='display: inline;'>task_05 - 2</pre> message:</strong> ✅ Great work using absolute value.</p>"
      ],
      "text/plain": [
       "task_05 results: All test cases passed!\n",
       "task_05 - 1 message: ✅ We tested your function for a few values it seems to be working.\n",
       "task_05 - 2 message: ✅ Great work using absolute value."
      ]
     },
     "execution_count": 14,
     "metadata": {},
     "output_type": "execute_result"
    }
   ],
   "source": [
    "grader.check(\"task_05\")"
   ]
  },
  {
   "cell_type": "markdown",
   "id": "e4c9d17b-49a9-4b62-8e23-5f04c4538d21",
   "metadata": {},
   "source": [
    "## Task 06 📍"
   ]
  },
  {
   "cell_type": "markdown",
   "id": "c1f17935-4975-4022-9ae9-13ba0f65d6b7",
   "metadata": {
    "deletable": false,
    "editable": false
   },
   "source": [
    "Use your newly defined function to calculate the observed statistic from Emily's experiment. \n"
   ]
  },
  {
   "cell_type": "code",
   "execution_count": 36,
   "id": "13afc030-eb7a-4930-b3fa-39584be66da5",
   "metadata": {
    "tags": []
   },
   "outputs": [
    {
     "data": {
      "text/plain": [
       "6.0"
      ]
     },
     "execution_count": 36,
     "metadata": {},
     "output_type": "execute_result"
    }
   ],
   "source": [
    "observed_statistic = 6.0\n",
    "observed_statistic"
   ]
  },
  {
   "cell_type": "code",
   "execution_count": 37,
   "id": "2bba7cc7",
   "metadata": {
    "deletable": false,
    "editable": false
   },
   "outputs": [
    {
     "data": {
      "text/html": [
       "<p><strong><pre style='display: inline;'>task_06</pre></strong> passed! 🎉</p><p><strong><pre style='display: inline;'>task_06 - 1</pre> message:</strong> ✅ Your value seems correct!</p>"
      ],
      "text/plain": [
       "task_06 results: All test cases passed!\n",
       "task_06 - 1 message: ✅ Your value seems correct!"
      ]
     },
     "execution_count": 37,
     "metadata": {},
     "output_type": "execute_result"
    }
   ],
   "source": [
    "grader.check(\"task_06\")"
   ]
  },
  {
   "cell_type": "markdown",
   "id": "2e1e57d8-c96c-4ab1-8c86-48560cb84837",
   "metadata": {},
   "source": [
    "> **Is this observed statistic consistent with what we might see under Emily’s model?**\n",
    "\n",
    "In order to answer this question, we must simulate the experiment as though Emily's model was correct, and calculate our statistic for every simulation."
   ]
  },
  {
   "cell_type": "markdown",
   "id": "e7c4f10f-b0db-4927-9fff-dc9e086b0641",
   "metadata": {},
   "source": [
    "## `sample_proportions`"
   ]
  },
  {
   "cell_type": "markdown",
   "id": "7bf33211-4f8d-4fec-8456-c8d5500d1860",
   "metadata": {},
   "source": [
    "`sample_proportions` can be used to randomly sample from multiple categories when you know the proportion of data points that are expected to fall in each category. `sample_proportions` takes two arguments: the sample size and an array that contains the distribution of categories in the population (should sum to 1).\n",
    "\n",
    "Consider flipping a fair coin, where the two outcomes (coin lands heads and coin lands tails) occur with an equal chance. We expect that half of all coin flips will land heads, and half of all coin flips will land tails.\n",
    "\n",
    "Run the following cell to see the simulation of 10 flips of a fair coin. Let the first item of `coin_proportions` be the proportion of heads and the second item of `coin_proportions` be the proportion of tails.\n",
    "\n",
    "*Observe what happens when you run this cell multiple times. The proportion of coin flips that land heads and tails appears to change as you are simulating flipping 10 coins each time!*"
   ]
  },
  {
   "cell_type": "code",
   "execution_count": 42,
   "id": "fc126fd6-36a8-40b8-9e89-5bb54e623c3e",
   "metadata": {},
   "outputs": [
    {
     "data": {
      "text/plain": [
       "array([ 0.5,  0.5])"
      ]
     },
     "execution_count": 42,
     "metadata": {},
     "output_type": "execute_result"
    }
   ],
   "source": [
    "coin_proportions = make_array(0.5, 0.5) \n",
    "ten_flips = sample_proportions(10, coin_proportions)\n",
    "ten_flips"
   ]
  },
  {
   "cell_type": "markdown",
   "id": "aa5edf1b-742f-459a-8d3e-c551711674e3",
   "metadata": {},
   "source": [
    "`sample_proportions` returns an array that is the same length as the proportion array that is passed through. It contains the proportion of each category that appears in the sample. \n",
    "\n",
    "In our example, the first item of `ten_flips` is the simulated proportion of heads and the second item of `ten_flips` is the simulated proportion of tails."
   ]
  },
  {
   "cell_type": "code",
   "execution_count": 43,
   "id": "4d33f057-41f1-4ace-9c87-87e179405ba2",
   "metadata": {},
   "outputs": [
    {
     "name": "stdout",
     "output_type": "stream",
     "text": [
      "In our simluation, 0.5 of flips were heads and 0.5 of flips were tails.\n"
     ]
    }
   ],
   "source": [
    "simluated_proportion_heads = ten_flips.item(0)\n",
    "simluated_proportion_tails = ten_flips.item(1)\n",
    "\n",
    "print(\"In our simluation, \" + str(simluated_proportion_heads) + \" of flips were heads and \" \\\n",
    "      + str(simluated_proportion_tails) + \" of flips were tails.\")"
   ]
  },
  {
   "cell_type": "markdown",
   "id": "cb7d8aae-b3cc-4d63-b645-2ff36e40260e",
   "metadata": {},
   "source": [
    "## Task 07 📍"
   ]
  },
  {
   "cell_type": "markdown",
   "id": "03a2c8be-0170-4274-8c0c-ce09caa95461",
   "metadata": {
    "deletable": false,
    "editable": false
   },
   "source": [
    "To begin simulating, we should start by creating a representation of Emily's model to use for our simulation. This will be an array with two items in it. The first item should be the proportion of times, assuming that Emily’s model was correct, a TT practictioner picks the correct hand. The second item should be the proportion of times, under the same assumption, that the TT practitioner picks the incorrect hand. Assign `model_proportions` to this array. \n",
    "\n",
    "After this, we can simulate 210 hand choices, as Emily evaluated in real life, and find a single statistic to summarize this instance of the simulation. Use the `sample_proportions` function and assign the proportion of correct hand choices (out of 210) to `simulation_proportion_correct`. Lastly, use your statistic function to assign `one_statistic`  to the value of the statistic for this one simulation.\n",
    "\n",
    "*Hint:* `sample_proportions` usage can be found [here](http://data8.org/su19/python-reference.html).\n"
   ]
  },
  {
   "cell_type": "code",
   "execution_count": 45,
   "id": "db98bddf-3324-41e2-858f-4d84902356b5",
   "metadata": {},
   "outputs": [
    {
     "data": {
      "text/plain": [
       "1.9047619047619035"
      ]
     },
     "execution_count": 45,
     "metadata": {},
     "output_type": "execute_result"
    }
   ],
   "source": [
    "# This saves the random state of our code so that we can \n",
    "# generate the same numbers each time we run the code.\n",
    "# Please do not change this next line. \n",
    "np.random.seed(1234)\n",
    "\n",
    "# Your work goes below this comment.\n",
    "model_proportions = make_array(0.5, 0.5)\n",
    "simulation_proportion_correct = sample_proportions(210, model_proportions).item(0)\n",
    "one_statistic = statistic(0.5, simulation_proportion_correct)\n",
    "one_statistic"
   ]
  },
  {
   "cell_type": "code",
   "execution_count": 46,
   "id": "133622bb",
   "metadata": {
    "deletable": false,
    "editable": false
   },
   "outputs": [
    {
     "data": {
      "text/html": [
       "<p><strong><pre style='display: inline;'>task_07</pre></strong> passed! 🌟</p><p><strong><pre style='display: inline;'>task_07 - 1</pre> message:</strong> ✅ model_proportions has 2 items.</p><p><strong><pre style='display: inline;'>task_07 - 2</pre> message:</strong> ✅ Your values are the same.</p><p><strong><pre style='display: inline;'>task_07 - 3</pre> message:</strong> ✅ Your values sum to be 1.</p><p><strong><pre style='display: inline;'>task_07 - 4</pre> message:</strong> ✅ simulation_proportion_correct is a float.</p><p><strong><pre style='display: inline;'>task_07 - 5</pre> message:</strong> ✅ This value for simulation_proportion_correct seems correct.</p><p><strong><pre style='display: inline;'>task_07 - 6</pre> message:</strong> ✅ This value for one_statistic seems correct.</p>"
      ],
      "text/plain": [
       "task_07 results: All test cases passed!\n",
       "task_07 - 1 message: ✅ model_proportions has 2 items.\n",
       "task_07 - 2 message: ✅ Your values are the same.\n",
       "task_07 - 3 message: ✅ Your values sum to be 1.\n",
       "task_07 - 4 message: ✅ simulation_proportion_correct is a float.\n",
       "task_07 - 5 message: ✅ This value for simulation_proportion_correct seems correct.\n",
       "task_07 - 6 message: ✅ This value for one_statistic seems correct."
      ]
     },
     "execution_count": 46,
     "metadata": {},
     "output_type": "execute_result"
    }
   ],
   "source": [
    "grader.check(\"task_07\")"
   ]
  },
  {
   "cell_type": "markdown",
   "id": "d859f623-857e-4312-b895-8612a0b7e8ca",
   "metadata": {},
   "source": [
    "## Task 08 📍"
   ]
  },
  {
   "cell_type": "markdown",
   "id": "07a92f3c-685b-4c9c-a6db-f54ef4f0ca54",
   "metadata": {
    "deletable": false,
    "editable": false
   },
   "source": [
    "Let's now see what the distribution of statistics is actually like under Emily's model. \n",
    "\n",
    "1. Define the function `simulation_and_statistic` to take in the `model_proportions` array and the expected proportion of times a TT practitioner would guess a hand correctly under Emily's model. The function should simulate Emily running through the experiment 210 times and return the statistic of this one simulation. _This should follow the same pattern as the code you did in the previous problem._\n",
    "2. Using this function, assign `simulated_statistics` to an array of 1000 statistics that you calculated under the assumption that Emily's model was true."
   ]
  },
  {
   "cell_type": "code",
   "execution_count": 27,
   "id": "c349e974-7c77-459f-bd0e-564cebb9066d",
   "metadata": {
    "for_assignment_type": "solution",
    "tags": []
   },
   "outputs": [],
   "source": [
    "def simulation_and_statistic(model_proportions, expected_proportion_correct):\n",
    "    simulation_proportion_correct = sample_proportions(210, model_proportions).item(0)\n",
    "    one_statistic = statistic(expected_proportion_correct, simulation_proportion_correct)\n",
    "    return one_statistic"
   ]
  },
  {
   "cell_type": "code",
   "execution_count": 28,
   "id": "b6585039-de56-4e16-8718-b13ef8496d02",
   "metadata": {
    "tags": []
   },
   "outputs": [],
   "source": [
    "num_repetitions = 1000\n",
    "\n",
    "simulated_statistics = make_array()\n",
    "\n",
    "for _ in range(num_repetitions):\n",
    "    one_statistic = simulation_and_statistic(model_proportions, 0.5)\n",
    "    simulated_statistics = np.append(simulated_statistics, one_statistic)\n"
   ]
  },
  {
   "cell_type": "code",
   "execution_count": 30,
   "id": "3c72e2a3",
   "metadata": {
    "deletable": false,
    "editable": false
   },
   "outputs": [
    {
     "data": {
      "text/html": [
       "<p><strong><pre style='display: inline;'>task_08</pre></strong> passed! ✨</p><p><strong><pre style='display: inline;'>task_08 - 1</pre> message:</strong> ✅ You defined a function called simulation_and_statistic.</p><p><strong><pre style='display: inline;'>task_08 - 2</pre> message:</strong> ✅ It seems that you've stored 1000 values in simulated_statistics.</p><p><strong><pre style='display: inline;'>task_08 - 3</pre> message:</strong> ✅ All of the values in your simulated_statistics array are at most 30.</p><p><strong><pre style='display: inline;'>task_08 - 4</pre> message:</strong> ✅ All of the values in your simulated_statistics array are at least 0.</p><p><strong><pre style='display: inline;'>task_08 - 5</pre> message:</strong> ✅ Great. Your value for simulation_and_statistic is between 0 and 25, inclusive. This is what we expected.</p>"
      ],
      "text/plain": [
       "task_08 results: All test cases passed!\n",
       "task_08 - 1 message: ✅ You defined a function called simulation_and_statistic.\n",
       "task_08 - 2 message: ✅ It seems that you've stored 1000 values in simulated_statistics.\n",
       "task_08 - 3 message: ✅ All of the values in your simulated_statistics array are at most 30.\n",
       "task_08 - 4 message: ✅ All of the values in your simulated_statistics array are at least 0.\n",
       "task_08 - 5 message: ✅ Great. Your value for simulation_and_statistic is between 0 and 25, inclusive. This is what we expected."
      ]
     },
     "execution_count": 30,
     "metadata": {},
     "output_type": "execute_result"
    }
   ],
   "source": [
    "grader.check(\"task_08\")"
   ]
  },
  {
   "cell_type": "markdown",
   "id": "940b444b-ecf2-4bd3-baa1-7a8555723471",
   "metadata": {},
   "source": [
    "Let's view the distribution of the simulated statistics under Emily's model, and visually compare where the observed statistic lies relative to the simulated statistics."
   ]
  },
  {
   "cell_type": "code",
   "execution_count": 32,
   "id": "36bd5d06-1470-44ec-b4a0-edea67750407",
   "metadata": {},
   "outputs": [
    {
     "data": {
      "image/png": "[encoded data removed]",
      "text/plain": [
       "<Figure size 600x400 with 1 Axes>"
      ]
     },
     "metadata": {},
     "output_type": "display_data"
    }
   ],
   "source": [
    "t = Table().with_column('Simulated Statistics', simulated_statistics)\n",
    "t.hist()\n",
    "plt.scatter(observed_statistic, 0, color='red', s=30, zorder=3);"
   ]
  },
  {
   "cell_type": "markdown",
   "id": "cfd66584-4c4b-4922-9369-2ee332bc2995",
   "metadata": {},
   "source": [
    "We can make a visual argument as to whether we believe the observed statistic is consistent with Emily’s model. Here, since larger values of the test statistic suggest the alternative model (where the chance of guessing the correct hand is something other than 50%), we can formalize our analysis by finding what proportion of simulated statistics were as large or larger than our observed test statistic (the area at or to the right of the observed test statistic). If this area is small enough, we’ll declare that the observed data are inconsistent with our simulated model."
   ]
  },
  {
   "cell_type": "markdown",
   "id": "4c3f6ddd-8939-4fa6-bdbc-2e790cebc083",
   "metadata": {},
   "source": [
    "## Task 09 📍"
   ]
  },
  {
   "cell_type": "markdown",
   "id": "253c8f62-9dae-40c5-921a-f4a3d6c564ca",
   "metadata": {
    "deletable": false,
    "editable": false
   },
   "source": [
    "Calculate the proportion of simulated statistics greater than or equal to the observed statistic. \n",
    "\n",
    "You might want to use `np.count_nonzero` for this.\n"
   ]
  },
  {
   "cell_type": "code",
   "execution_count": 33,
   "id": "c684bfbb-4f1d-46ac-8073-d08401debc9a",
   "metadata": {
    "scrolled": true,
    "tags": []
   },
   "outputs": [
    {
     "data": {
      "text/plain": [
       "0.085"
      ]
     },
     "execution_count": 33,
     "metadata": {},
     "output_type": "execute_result"
    }
   ],
   "source": [
    "proportion_greater_or_equal = np.count_nonzero(simulated_statistics >= observed_statistic) / num_repetitions\n",
    "proportion_greater_or_equal"
   ]
  },
  {
   "cell_type": "code",
   "execution_count": 34,
   "id": "aa730734",
   "metadata": {
    "deletable": false,
    "editable": false
   },
   "outputs": [
    {
     "data": {
      "text/html": [
       "<p><strong><pre style='display: inline;'>task_09</pre></strong> passed! 🎉</p><p><strong><pre style='display: inline;'>task_09 - 1</pre> message:</strong> ✅ proportion_greater_or_equal is a possible value.</p><p><strong><pre style='display: inline;'>task_09 - 2</pre> message:</strong> ✅ Your value for proportion_greater_or_equal seems correct.</p>"
      ],
      "text/plain": [
       "task_09 results: All test cases passed!\n",
       "task_09 - 1 message: ✅ proportion_greater_or_equal is a possible value.\n",
       "task_09 - 2 message: ✅ Your value for proportion_greater_or_equal seems correct."
      ]
     },
     "execution_count": 34,
     "metadata": {},
     "output_type": "execute_result"
    }
   ],
   "source": [
    "grader.check(\"task_09\")"
   ]
  },
  {
   "cell_type": "markdown",
   "id": "9ecc579f-ad58-4b6d-b2d4-e1dec4f88308",
   "metadata": {},
   "source": [
    "By convention, we often compare the proportion we just calculated to 0.05. If the proportion of simulated statistics greater than or equal to the observed statistic is sufficiently small (less than or equal to 0.05), then this is evidence against Emily's model. Otherwise, we don’t have any reason to doubt Emily’s model. \n",
    "\n",
    "This should help you make your own conclusions about Emily Rosa's experiment. \n",
    "\n",
    "Therapeutic touch fell out of use after this experiment, which was eventually accepted into one of the premier medical journals. TT practitioners hit back and accused Emily and her family of tampering with the results, while some claimed that Emily's bad spiritual mood towards therapeutic touch made it difficult to read her HEF. Whatever it may be, Emily's experiment is a classic example about how anyone, with the right resources, can test anything they want!\n"
   ]
  },
  {
   "cell_type": "markdown",
   "id": "937ac222-20c9-4fd3-9258-95200647f61a",
   "metadata": {},
   "source": [
    "## Task 10 📍🔎"
   ]
  },
  {
   "cell_type": "markdown",
   "id": "89ec8777-0eb5-40a9-a4cd-1612374e332d",
   "metadata": {
    "deletable": false,
    "editable": false
   },
   "source": [
    "<!-- BEGIN QUESTION -->\n",
    "\n",
    "Now, take some time to reflect on the questions below and then, discuss with your peers.\n",
    "\n",
    "1. Is the data more consistent with Emily's model (practioners were randomly guessing)?\n",
    "2. What does this mean in terms of Emily's experiment? Do the TT practitioners' answers follow an even chance model or is there something else at play? \n",
    "\n",
    "Write you response to these questions in the following cell."
   ]
  },
  {
   "cell_type": "markdown",
   "id": "37ac6812",
   "metadata": {},
   "source": [
    "The data supports random guessing by TT practitioners rather than any special ability. Emily's experiment doesn't strongly back the idea that TT practitioners can perceive or interact with the Human Energy Field. It highlights the need for rigorous scientific examination of therapeutic practices."
   ]
  },
  {
   "cell_type": "markdown",
   "id": "c0537f1f-368e-442e-97cc-73554fde5199",
   "metadata": {
    "deletable": false,
    "editable": false
   },
   "source": [
    "<!-- END QUESTION -->\n",
    "\n",
    "## Submit your Lab to Canvas\n",
    "\n",
    "Once you have finished working on the lab questions, prepare to submit your work in Canvas by completing the following steps.\n",
    "\n",
    "1. In the related Canvas Assignment page, check the requirements for a Complete score for this lab assignment.\n",
    "2. Double-check that you have run the code cell near the end of the notebook that contains the command `grader.check_all()`. This command will run all of the run tests on all your responses to the auto-graded tasks marked with 📍.\n",
    "3. Double-check your responses to the manually graded tasks marked with 📍🔎.\n",
    "4. Select the menu items `File`, `Save and Export Notebook As...`, and `Html_embed` in the notebook's Toolbar to download an HTML version of this notebook file.\n",
    "5. In the related Canvas Assignment page, click Start Assignment or New Attempt to upload the downloaded HTML file."
   ]
  },
  {
   "cell_type": "markdown",
   "id": "76f00176",
   "metadata": {
    "deletable": false,
    "editable": false
   },
   "source": [
    "---\n",
    "\n",
    "To double-check your work, the cell below will rerun all of the autograder tests."
   ]
  },
  {
   "cell_type": "code",
   "execution_count": 48,
   "id": "6e69d1ad",
   "metadata": {
    "deletable": false,
    "editable": false
   },
   "outputs": [
    {
     "data": {
      "text/plain": [
       "task_02 results: All test cases passed!\n",
       "task_02 - 1 message: ✅ Great work. A propbability value is a number between 0 and 1, inclusive.\n",
       "task_02 - 2 message: ✅ You got it!\n",
       "\n",
       "task_03 results: All test cases passed!\n",
       "task_03 - 1 message: ✅ valid_stat is an array.\n",
       "task_03 - 2 message: ✅ Great work. Your answers seem correct!\n",
       "\n",
       "task_05 results: All test cases passed!\n",
       "task_05 - 1 message: ✅ We tested your function for a few values it seems to be working.\n",
       "task_05 - 2 message: ✅ Great work using absolute value.\n",
       "\n",
       "task_06 results: All test cases passed!\n",
       "task_06 - 1 message: ✅ Your value seems correct!\n",
       "\n",
       "task_07 results: All test cases passed!\n",
       "task_07 - 1 message: ✅ model_proportions has 2 items.\n",
       "task_07 - 2 message: ✅ Your values are the same.\n",
       "task_07 - 3 message: ✅ Your values sum to be 1.\n",
       "task_07 - 4 message: ✅ simulation_proportion_correct is a float.\n",
       "task_07 - 5 message: ✅ This value for simulation_proportion_correct seems correct.\n",
       "task_07 - 6 message: ✅ This value for one_statistic seems correct.\n",
       "\n",
       "task_08 results: All test cases passed!\n",
       "task_08 - 1 message: ✅ You defined a function called simulation_and_statistic.\n",
       "task_08 - 2 message: ✅ It seems that you've stored 1000 values in simulated_statistics.\n",
       "task_08 - 3 message: ✅ All of the values in your simulated_statistics array are at most 30.\n",
       "task_08 - 4 message: ✅ All of the values in your simulated_statistics array are at least 0.\n",
       "task_08 - 5 message: ✅ Great. Your value for simulation_and_statistic is between 0 and 25, inclusive. This is what we expected.\n",
       "\n",
       "task_09 results: All test cases passed!\n",
       "task_09 - 1 message: ✅ proportion_greater_or_equal is a possible value.\n",
       "task_09 - 2 message: ✅ Your value for proportion_greater_or_equal seems correct."
      ]
     },
     "execution_count": 48,
     "metadata": {},
     "output_type": "execute_result"
    }
   ],
   "source": [
    "grader.check_all()"
   ]
  },
  {
   "cell_type": "code",
   "execution_count": null,
   "id": "ffbd5fb4-9004-48cc-b990-5d562eb04a01",
   "metadata": {},
   "outputs": [],
   "source": []
  }
 ],
 "metadata": {
  "kernelspec": {
   "display_name": "Python 3 (ipykernel)",
   "language": "python",
   "name": "python3"
  },
  "language_info": {
   "codemirror_mode": {
    "name": "ipython",
    "version": 3
   },
   "file_extension": ".py",
   "mimetype": "text/x-python",
   "name": "python",
   "nbconvert_exporter": "python",
   "pygments_lexer": "ipython3",
   "version": "3.10.12"
  },
  "otter": {
   "OK_FORMAT": true,
   "assignment_name": "lab06_sp24",
   "tests": {
    "task_02": {
     "name": "task_02",
     "points": null,
     "suites": [
      {
       "cases": [
        {
         "code": ">>> 0 <= expected_proportion_correct <= 1\nTrue",
         "failure_message": "❌ Remember that a propbability value is a number between 0 and 1, inclusive.",
         "hidden": false,
         "locked": false,
         "points": 1,
         "success_message": "✅ Great work. A propbability value is a number between 0 and 1, inclusive."
        },
        {
         "code": ">>> expected_proportion_correct == 0.5\nTrue",
         "failure_message": "❌ Emily believes they have a 50% chance of guessing correctly.",
         "hidden": false,
         "locked": false,
         "points": 1,
         "success_message": "✅ You got it!"
        }
       ],
       "scored": true,
       "setup": "",
       "teardown": "",
       "type": "doctest"
      }
     ]
    },
    "task_03": {
     "name": "task_03",
     "points": null,
     "suites": [
      {
       "cases": [
        {
         "code": ">>> type(valid_stat) == np.ndarray\nTrue",
         "failure_message": "❌ valid_stat should be an array. Try using make_array().",
         "hidden": false,
         "locked": false,
         "points": 1,
         "success_message": "✅ valid_stat is an array."
        },
        {
         "code": ">>> int(sum(valid_stat)) == 2\nTrue",
         "failure_message": "❌ Remember that she wants to measure whether or not the treatment has an effect, not whether or not the treatment actually works.",
         "hidden": false,
         "locked": false,
         "points": 1,
         "success_message": "✅ Great work. Your answers seem correct!"
        }
       ],
       "scored": true,
       "setup": "",
       "teardown": "",
       "type": "doctest"
      }
     ]
    },
    "task_05": {
     "name": "task_05",
     "points": null,
     "suites": [
      {
       "cases": [
        {
         "code": ">>> int(round(statistic(0.5, 0.5) + statistic(0.4, 0.1), 1)) == 30\nTrue",
         "failure_message": "❌ We tested your function for a few values it doesn't seem to be working. Try subracting the inputs, computing the absolute value, and converting the proportion into a percent value.",
         "hidden": false,
         "locked": false,
         "points": 1,
         "success_message": "✅ We tested your function for a few values it seems to be working."
        },
        {
         "code": ">>> int(statistic(0.4, 0.1) - statistic(0.1, 0.4)) == 0 and abs(statistic(0.4, 0.1)) == abs(statistic(0.1, 0.4))\nTrue",
         "failure_message": "❌ Don't forget to use the absolute value.",
         "hidden": false,
         "locked": false,
         "points": 1,
         "success_message": "✅ Great work using absolute value."
        }
       ],
       "scored": true,
       "setup": "",
       "teardown": "",
       "type": "doctest"
      }
     ]
    },
    "task_06": {
     "name": "task_06",
     "points": null,
     "suites": [
      {
       "cases": [
        {
         "code": ">>> int(round(observed_statistic, 2)) == 6\nTrue",
         "failure_message": "❌ Your value doesn't seem correct. Remember that the observed proportion was 0.44.",
         "hidden": false,
         "locked": false,
         "points": 1,
         "success_message": "✅ Your value seems correct!"
        }
       ],
       "scored": true,
       "setup": "",
       "teardown": "",
       "type": "doctest"
      }
     ]
    },
    "task_07": {
     "name": "task_07",
     "points": null,
     "suites": [
      {
       "cases": [
        {
         "code": ">>> len(model_proportions) == 2\nTrue",
         "failure_message": "❌ model_proportions should have 2 items.",
         "hidden": false,
         "locked": false,
         "points": 1,
         "success_message": "✅ model_proportions has 2 items."
        },
        {
         "code": ">>> len(np.unique(model_proportions)) == 1\nTrue",
         "failure_message": "❌ Your values should be the same. Revisit Emily's model.",
         "hidden": false,
         "locked": false,
         "points": 1,
         "success_message": "✅ Your values are the same."
        },
        {
         "code": ">>> sum(model_proportions) == 1\nTrue",
         "failure_message": "❌ Your values should sum to be 1.",
         "hidden": false,
         "locked": false,
         "points": 1,
         "success_message": "✅ Your values sum to be 1."
        },
        {
         "code": ">>> type(simulation_proportion_correct) == float\nTrue",
         "failure_message": "❌ simulation_proportion_correct should be a float. Don't for get to get the first item from the array.",
         "hidden": false,
         "locked": false,
         "points": 1,
         "success_message": "✅ simulation_proportion_correct is a float."
        },
        {
         "code": ">>> round(simulation_proportion_correct, 2)\n0.48",
         "failure_message": "❌ This value for simulation_proportion_correct doesn't seem correct. Double check your sample size and the population proportions.",
         "hidden": false,
         "locked": false,
         "points": 1,
         "success_message": "✅ This value for simulation_proportion_correct seems correct."
        },
        {
         "code": ">>> np.isclose(one_statistic, 1.9, atol=0.01)\nTrue",
         "failure_message": "❌ This value for one_statistic doesn't seem correct. Try using the statistic function.",
         "hidden": false,
         "locked": false,
         "points": 1,
         "success_message": "✅ This value for one_statistic seems correct."
        }
       ],
       "scored": true,
       "setup": "",
       "teardown": "",
       "type": "doctest"
      }
     ]
    },
    "task_08": {
     "name": "task_08",
     "points": null,
     "suites": [
      {
       "cases": [
        {
         "code": ">>> callable(simulation_and_statistic)\nTrue",
         "failure_message": "❌ simulation_and_statistic should be a function.",
         "hidden": false,
         "locked": false,
         "points": 1,
         "success_message": "✅ You defined a function called simulation_and_statistic."
        },
        {
         "code": ">>> len(simulated_statistics) == 1000\nTrue",
         "failure_message": "❌ There should be 1000 values in simulated_statistics.",
         "hidden": false,
         "locked": false,
         "points": 1,
         "success_message": "✅ It seems that you've stored 1000 values in simulated_statistics."
        },
        {
         "code": ">>> np.all(simulated_statistics <= 30)\nTrue",
         "failure_message": "❌ All of the values in your simulated_statistics array should be at most 30.",
         "hidden": false,
         "locked": false,
         "points": 1,
         "success_message": "✅ All of the values in your simulated_statistics array are at most 30."
        },
        {
         "code": ">>> np.all(simulated_statistics >= 0)\nTrue",
         "failure_message": "❌ All of the values in your simulated_statistics array should be at least 0.",
         "hidden": false,
         "locked": false,
         "points": 1,
         "success_message": "✅ All of the values in your simulated_statistics array are at least 0."
        },
        {
         "code": ">>> 0 <= simulation_and_statistic(model_proportions, expected_proportion_correct) <= 25\nTrue",
         "failure_message": "❌ Your value for simulation_and_statistic should be between 0 and 25, inclusive.",
         "hidden": false,
         "locked": false,
         "points": 1,
         "success_message": "✅ Great. Your value for simulation_and_statistic is between 0 and 25, inclusive. This is what we expected."
        }
       ],
       "scored": true,
       "setup": "",
       "teardown": "",
       "type": "doctest"
      }
     ]
    },
    "task_09": {
     "name": "task_09",
     "points": null,
     "suites": [
      {
       "cases": [
        {
         "code": ">>> 0 <= proportion_greater_or_equal <= 1\nTrue",
         "failure_message": "❌ proportion_greater_or_equal should be a number between 0 and 1, inclusive.",
         "hidden": false,
         "locked": false,
         "points": 1,
         "success_message": "✅ proportion_greater_or_equal is a possible value."
        },
        {
         "code": ">>> proportion_greater_or_equal * 1000 == np.count_nonzero(simulated_statistics >= observed_statistic)\nTrue",
         "failure_message": "❌ Your value for proportion_greater_or_equal doesn't seem correct. Check when the simulated statistic is greater than or equal the observed statistic. Divide the number of times when that happened by the number of simulations you performed.",
         "hidden": false,
         "locked": false,
         "points": 1,
         "success_message": "✅ Your value for proportion_greater_or_equal seems correct."
        }
       ],
       "scored": true,
       "setup": "",
       "teardown": "",
       "type": "doctest"
      }
     ]
    }
   }
  }
 },
 "nbformat": 4,
 "nbformat_minor": 5
}
