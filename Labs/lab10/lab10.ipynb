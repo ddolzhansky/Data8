{
 "cells": [
  {
   "cell_type": "code",
   "execution_count": 66,
   "id": "6ed78fd6",
   "metadata": {
    "deletable": false,
    "editable": false
   },
   "outputs": [],
   "source": [
    "# Initialize Otter\n",
    "import otter\n",
    "grader = otter.Notebook(\"lab10.ipynb\")"
   ]
  },
  {
   "cell_type": "markdown",
   "id": "6f613be5-006b-4b77-84fc-dabd8dd49dc3",
   "metadata": {},
   "source": [
    "<img style=\"display: block; margin-left: auto; margin-right: auto\" src=\"./ccsf-logo.png\" width=\"250rem;\" alt=\"The CCSF black and white logo\">"
   ]
  },
  {
   "cell_type": "markdown",
   "id": "262e2809-ea70-4e72-b3c1-3d8974b72221",
   "metadata": {},
   "source": [
    "# Lab 10: Residuals"
   ]
  },
  {
   "cell_type": "markdown",
   "id": "ec555451-3f29-4c5b-8b30-ec27fc678da1",
   "metadata": {},
   "source": [
    "## References"
   ]
  },
  {
   "cell_type": "markdown",
   "id": "ef034bcf-89b5-4fe6-8057-2fccb1ad484e",
   "metadata": {},
   "source": [
    "* [Sections 15.0 - 15.6 of the Textbook](https://inferentialthinking.com/chapters/15/Prediction.html)\n",
    "* [Sections 16.0 - 16.3 of the Textbook](https://inferentialthinking.com/chapters/16/Inference_for_Regression.html#)\n",
    "* [datascience Documentation](https://datascience.readthedocs.io/)\n",
    "* [Python Quick Reference](https://ccsf-math-108.github.io/materials-sp24/resources/quick-reference.html)"
   ]
  },
  {
   "cell_type": "markdown",
   "id": "970196e5-b166-4955-95e0-1d12ecbe4a3b",
   "metadata": {},
   "source": [
    "## Assignment Reminders"
   ]
  },
  {
   "cell_type": "markdown",
   "id": "62f6e8f2-b026-4762-8896-760001ee2232",
   "metadata": {},
   "source": [
    "- Make sure to run the code cell at the top of this notebook that starts with `# Initialize Otter` to load the auto-grader.\n",
    "- For all tasks indicated with a 🔎 that you must write explanations and sentences for, provide your answer in the designated space.\n",
    "- Throughout this assignment and all future ones, please be sure to not re-assign variables throughout the notebook! _For example, if you use `max_temperature` in your answer to one question, do not reassign it later on. Otherwise, you will fail tests that you thought you were passing previously!_\n",
    "- Collaborating on labs is more than okay -- it's encouraged! You should rarely remain stuck for more than a few minutes on questions in labs, so ask an instructor or classmate for help. (Explaining things is beneficial, too -- the best way to solidify your knowledge of a subject is to explain it.) Please don't just share answers, though.\n",
    "- View the related <a href=\"https://ccsf.instructure.com\" target=\"_blank\">Canvas</a> Assignment page for additional details."
   ]
  },
  {
   "cell_type": "markdown",
   "id": "c4759a26-0a88-41b0-9669-ee8b3631921f",
   "metadata": {},
   "source": [
    "Run the following cell to set up the lab, and make sure you run the cell at the top of the notebook that initializes Otter."
   ]
  },
  {
   "cell_type": "code",
   "execution_count": 67,
   "id": "aae9f880-9100-4ada-afe9-a9afed85923f",
   "metadata": {},
   "outputs": [],
   "source": [
    "from datascience import *\n",
    "import numpy as np\n",
    "%matplotlib inline\n",
    "import matplotlib.pyplot as plt\n",
    "plt.style.use('fivethirtyeight')"
   ]
  },
  {
   "cell_type": "markdown",
   "id": "d59d63de-30e6-4b74-8007-6a549fc0eaca",
   "metadata": {},
   "source": [
    "## ✈️ San Francisco International Airport Utility Usage"
   ]
  },
  {
   "cell_type": "markdown",
   "id": "7d91f176-012f-4143-91ec-22b9ef90d90a",
   "metadata": {},
   "source": [
    "<img src=\"sfo.webp\" width=80% alt=\"The SFO Internation temrinal\">"
   ]
  },
  {
   "cell_type": "markdown",
   "id": "08bac88c-ab91-4fca-8b03-e041e8df7637",
   "metadata": {},
   "source": [
    "The San Francisco International Airport (SFO) utilizes a lot of utilities. The data in `sfo_usage.csv` includes the total monthly utility consumption for the electricity (`'electricity'`), natural gas (`'gas'`), and water (`'water'`) utilities. This data was sourced from the [SFO Airport Monthly Utility Consumption for Natural Gas, Water, and Electricity page](https://data.sfgov.org/Energy-and-Environment/SFO-Airport-Monthly-Utility-Consumption-for-Natura/gcjv-3mzf/about_data) on data.sfgov.org. The units for each utility are:\n",
    "\n",
    "* Electricity: kWh\n",
    "* Natural Gas: therms\n",
    "* Water: million gallons\n",
    "\n",
    "The `'passengers'` column contains the total number of passengers in SFO for the given month.\n",
    "\n",
    "**Run the following cell to load the data in the table `sfo`.**"
   ]
  },
  {
   "cell_type": "code",
   "execution_count": 68,
   "id": "7bacd78e-874b-4d61-98c8-55f8b0927f54",
   "metadata": {},
   "outputs": [
    {
     "data": {
      "text/html": [
       "<table border=\"1\" class=\"dataframe\">\n",
       "    <thead>\n",
       "        <tr>\n",
       "            <th>date</th> <th>month</th> <th>month_number</th> <th>year</th> <th>electricity</th> <th>gas</th> <th>water</th> <th>passengers</th>\n",
       "        </tr>\n",
       "    </thead>\n",
       "    <tbody>\n",
       "        <tr>\n",
       "            <td>2013-01-01</td> <td>Jan  </td> <td>1           </td> <td>2013</td> <td>2.69065e+07</td> <td>412598</td> <td>31.0368</td> <td>3.20936e+06</td>\n",
       "        </tr>\n",
       "        <tr>\n",
       "            <td>2013-02-01</td> <td>Feb  </td> <td>2           </td> <td>2013</td> <td>2.44482e+07</td> <td>368066</td> <td>28.8347</td> <td>2.96895e+06</td>\n",
       "        </tr>\n",
       "        <tr>\n",
       "            <td>2013-03-01</td> <td>Mar  </td> <td>3           </td> <td>2013</td> <td>2.76641e+07</td> <td>363378</td> <td>28.8376</td> <td>3.59997e+06</td>\n",
       "        </tr>\n",
       "    </tbody>\n",
       "</table>\n",
       "<p>... (77 rows omitted)</p>"
      ],
      "text/plain": [
       "<IPython.core.display.HTML object>"
      ]
     },
     "metadata": {},
     "output_type": "display_data"
    }
   ],
   "source": [
    "sfo = Table.read_table('sfo.csv')\n",
    "sfo.show(3)"
   ]
  },
  {
   "cell_type": "markdown",
   "id": "15114fcb-7549-4040-bffb-9ff8d469d81d",
   "metadata": {},
   "source": [
    "In this lab, you'll create models to predict the usage of electricity from the usage of water and evaluate the model by analyzing the residuals."
   ]
  },
  {
   "cell_type": "markdown",
   "id": "68d2cc18-6b20-4fc4-945f-3f7b8aff11aa",
   "metadata": {
    "tags": []
   },
   "source": [
    "### Task 01 📍🔎"
   ]
  },
  {
   "cell_type": "markdown",
   "id": "dd2268b5-ae23-4ed8-973a-d1a1734c546a",
   "metadata": {
    "deletable": false,
    "editable": false
   },
   "source": [
    "<!-- BEGIN QUESTION -->\n",
    "\n",
    "To start, create a scatter plot showing the relationship between electricity and water usage with the least squares regression line overlaid on the scatter plot. \n",
    "\n",
    "**Note:** Use the `fit_line=True` parameter for the `scatter` method.\n",
    "\n",
    "_Check your graph with a classmate, a tutor, or the instructor since there are no auto-grader tests for this task._"
   ]
  },
  {
   "cell_type": "code",
   "execution_count": null,
   "id": "a9327a81-8135-4593-b797-71b8c2799f7d",
   "metadata": {
    "tags": []
   },
   "outputs": [],
   "source": [
    "...\n",
    "plt.title('Electricty vs. Water')\n",
    "plt.show()"
   ]
  },
  {
   "cell_type": "code",
   "execution_count": 69,
   "id": "bd57dce4-dd40-4fac-b123-dd92cebc89dd",
   "metadata": {},
   "outputs": [
    {
     "data": {
      "image/png": "[encoded data removed]",
      "text/plain": [
       "<Figure size 500x500 with 1 Axes>"
      ]
     },
     "metadata": {},
     "output_type": "display_data"
    }
   ],
   "source": [
    "from datascience import *\n",
    "import numpy as np\n",
    "%matplotlib inline\n",
    "import matplotlib.pyplot as plt\n",
    "plt.style.use('fivethirtyeight')\n",
    "\n",
    "# Define a function to scatter plot with fit line\n",
    "def scatter_fit(table, x, y):\n",
    "    table.scatter(x, y, fit_line=True)  # Use fit_line=True to fit and plot regression line\n",
    "    plt.xlabel(x)\n",
    "    plt.ylabel(y)\n",
    "\n",
    "# Use the scatter_fit function to plot electricity vs. water\n",
    "scatter_fit(sfo, 'water', 'electricity')\n",
    "\n",
    "# Show the plot\n",
    "plt.title('Electricty vs. Water')\n",
    "plt.show()\n"
   ]
  },
  {
   "cell_type": "markdown",
   "id": "0cfe44b1-c9c7-4cb9-b739-bb9b2da8176d",
   "metadata": {
    "deletable": false,
    "editable": false,
    "tags": []
   },
   "source": [
    "<!-- END QUESTION -->\n",
    "\n",
    "### Task 02 📍"
   ]
  },
  {
   "cell_type": "markdown",
   "id": "ec6a5949-e2d4-4528-be65-8f7fc764e368",
   "metadata": {
    "deletable": false,
    "editable": false
   },
   "source": [
    "Assign an array of integers to `electricity_water` where the integers correspond to the following statements that best describe the relationship between the gas and water usage based on the scatter plot.\n",
    "\n",
    "1. There is a positive association between the variables.\n",
    "2. There is a negative association between the variables.\n",
    "3. There is neither a positive association nor a negative association between the variables.\n",
    "4. The association between the variables is approximately linear.\n",
    "5. The association between the variables is nonlinear."
   ]
  },
  {
   "cell_type": "code",
   "execution_count": 70,
   "id": "ace9544e-6338-4133-a6e3-725bf917238b",
   "metadata": {
    "tags": []
   },
   "outputs": [],
   "source": [
    "electricity_water = make_array(1, 5)"
   ]
  },
  {
   "cell_type": "code",
   "execution_count": 71,
   "id": "19c294e2",
   "metadata": {
    "deletable": false,
    "editable": false
   },
   "outputs": [
    {
     "data": {
      "text/html": [
       "<p><strong><pre style='display: inline;'>task_02</pre></strong> passed! 🎉</p><p><strong><pre style='display: inline;'>task_02 - 1</pre> message:</strong> ✅ gas_water represents an array of integers.</p><p><strong><pre style='display: inline;'>task_02 - 2</pre> message:</strong> ✅ Great work. That is how we interpreted this graph as well.</p>"
      ],
      "text/plain": [
       "task_02 results: All test cases passed!\n",
       "task_02 - 1 message: ✅ gas_water represents an array of integers.\n",
       "task_02 - 2 message: ✅ Great work. That is how we interpreted this graph as well."
      ]
     },
     "execution_count": 71,
     "metadata": {},
     "output_type": "execute_result"
    }
   ],
   "source": [
    "grader.check(\"task_02\")"
   ]
  },
  {
   "cell_type": "markdown",
   "id": "4b846bc1-e447-4b30-a8f0-374d289473e0",
   "metadata": {},
   "source": [
    "## Fitting Models"
   ]
  },
  {
   "cell_type": "markdown",
   "id": "4fa4f5fd-302b-4af8-b023-11601407636f",
   "metadata": {},
   "source": [
    "There is some kind of relationship between the water and electricity usage at SFO. Now, you will fit the best linear model and the best quadratic model to the data. This part of the lab is a continuation of what you were learning last week."
   ]
  },
  {
   "cell_type": "markdown",
   "id": "26f37735-a502-4874-8f99-ba9e418abb7f",
   "metadata": {
    "tags": []
   },
   "source": [
    "### Task 03 📍"
   ]
  },
  {
   "cell_type": "markdown",
   "id": "4a626f25-c440-4642-b31f-a219d31ae720",
   "metadata": {
    "deletable": false,
    "editable": false
   },
   "source": [
    "A linear model has the form of `linear_predicted_electricity = slope * actual_water + intercept`. \n",
    "\n",
    "Create the function `linear_model_rmse` that returns the [RMSE](https://inferentialthinking.com/chapters/15/3/Method_of_Least_Squares.html#root-mean-squared-error) for a linear model fit to the electricity and water data in the `sfo` table.\n",
    "\n",
    "The code provided below the function definition will minimize the RMSE and return the approximate slope and the approximate intercept for the least square regression line.\n",
    "\n",
    "**Note:** Remember that we are defining error to be the actual $y$ value minus the predicted $y$ value."
   ]
  },
  {
   "cell_type": "code",
   "execution_count": null,
   "id": "e23bf6a5-1ad5-442b-af53-923dad01610d",
   "metadata": {
    "tags": []
   },
   "outputs": [],
   "source": [
    "def linear_model_rmse(slope, intercept):\n",
    "    actual_electricity = ...\n",
    "    actual_water = ...\n",
    "    linear_predicted_electricity = ...\n",
    "    error = ...\n",
    "    return ...\n",
    "\n",
    "# The following code uses the minimize function to determine the optimal \n",
    "# slope and intercept for the linear model based on your RMSE function.\n",
    "slope, intercept = minimize(linear_model_rmse)\n",
    "print(f'The approximate slope and intercept of the least squares linear \\\n",
    "regression line fit to this data are {slope:.3f} kWh/million gallons and {intercept:.3f} kWh.')"
   ]
  },
  {
   "cell_type": "code",
   "execution_count": 72,
   "id": "071154b4-891d-4b82-bb46-024ac7953d85",
   "metadata": {},
   "outputs": [
    {
     "name": "stdout",
     "output_type": "stream",
     "text": [
      "The approximate slope and intercept of the least squares linear regression line fit to this data are 113753.566 kWh/million gallons and 23136076.141 kWh.\n"
     ]
    }
   ],
   "source": [
    "def linear_model_rmse(slope, intercept):\n",
    "    actual_electricity = sfo.column('electricity')  # Actual electricity usage\n",
    "    actual_water = sfo.column('water')  # Actual water usage\n",
    "    linear_predicted_electricity = slope * actual_water + intercept  # Predicted electricity usage\n",
    "    error = actual_electricity - linear_predicted_electricity  # Calculate error (residuals)\n",
    "    rmse = np.sqrt(np.mean(error ** 2))  # Calculate RMSE\n",
    "    return rmse\n",
    "\n",
    "# The following code uses the minimize function to determine the optimal \n",
    "# slope and intercept for the linear model based on your RMSE function.\n",
    "slope, intercept = minimize(linear_model_rmse)\n",
    "print(f'The approximate slope and intercept of the least squares linear \\\n",
    "regression line fit to this data are {slope:.3f} kWh/million gallons and {intercept:.3f} kWh.')\n"
   ]
  },
  {
   "cell_type": "code",
   "execution_count": 73,
   "id": "3dda0742",
   "metadata": {
    "deletable": false,
    "editable": false
   },
   "outputs": [
    {
     "data": {
      "text/html": [
       "<p><strong><pre style='display: inline;'>task_03</pre></strong> passed! 💯</p><p><strong><pre style='display: inline;'>task_03 - 1</pre> message:</strong> ✅ Your function seems to be working correctly</p>"
      ],
      "text/plain": [
       "task_03 results: All test cases passed!\n",
       "task_03 - 1 message: ✅ Your function seems to be working correctly"
      ]
     },
     "execution_count": 73,
     "metadata": {},
     "output_type": "execute_result"
    }
   ],
   "source": [
    "grader.check(\"task_03\")"
   ]
  },
  {
   "cell_type": "markdown",
   "id": "fd6130d4-cab3-4863-9f81-803977705a35",
   "metadata": {
    "tags": []
   },
   "source": [
    "### Task 04 📍"
   ]
  },
  {
   "cell_type": "markdown",
   "id": "c7b65fcd-2838-443e-a396-b77ca3668ee4",
   "metadata": {
    "deletable": false,
    "editable": false
   },
   "source": [
    "Using the `slope` and `intercept` values calculated in the previous task, create a function called `linear_predict_electricity`. The function should return the predicted electricity usage for the provided water usage."
   ]
  },
  {
   "cell_type": "code",
   "execution_count": 78,
   "id": "be6a082f-09b9-4585-8fee-ca6cb548ccef",
   "metadata": {},
   "outputs": [
    {
     "data": {
      "text/html": [
       "<table border=\"1\" class=\"dataframe\">\n",
       "    <thead>\n",
       "        <tr>\n",
       "            <th>date</th> <th>month</th> <th>month_number</th> <th>year</th> <th>electricity</th> <th>gas</th> <th>water</th> <th>passengers</th> <th>linear_electricity</th>\n",
       "        </tr>\n",
       "    </thead>\n",
       "    <tbody>\n",
       "        <tr>\n",
       "            <td>2013-01-01</td> <td>Jan  </td> <td>1           </td> <td>2013</td> <td>2.69065e+07</td> <td>412598</td> <td>31.0368</td> <td>3.20936e+06</td> <td>2.66666e+07       </td>\n",
       "        </tr>\n",
       "        <tr>\n",
       "            <td>2013-02-01</td> <td>Feb  </td> <td>2           </td> <td>2013</td> <td>2.44482e+07</td> <td>368066</td> <td>28.8347</td> <td>2.96895e+06</td> <td>2.64161e+07       </td>\n",
       "        </tr>\n",
       "        <tr>\n",
       "            <td>2013-03-01</td> <td>Mar  </td> <td>3           </td> <td>2013</td> <td>2.76641e+07</td> <td>363378</td> <td>28.8376</td> <td>3.59997e+06</td> <td>2.64165e+07       </td>\n",
       "        </tr>\n",
       "    </tbody>\n",
       "</table>\n",
       "<p>... (77 rows omitted)</p>"
      ],
      "text/plain": [
       "<IPython.core.display.HTML object>"
      ]
     },
     "metadata": {},
     "output_type": "display_data"
    }
   ],
   "source": [
    "def linear_predict_electricity(water_usage):\n",
    "    slope = 113753.566\n",
    "    intercept = 23136076.141  \n",
    "    predicted_electricity = slope * water_usage + intercept\n",
    "    return predicted_electricity\n",
    "\n",
    "# Apply the function to the data and the predicted values to the table\n",
    "sfo = sfo.with_column('linear_electricity', \n",
    "                      sfo.apply(linear_predict_electricity, 'water'))\n",
    "\n",
    "sfo.show(3)"
   ]
  },
  {
   "cell_type": "code",
   "execution_count": 79,
   "id": "b2bbca07",
   "metadata": {
    "deletable": false,
    "editable": false
   },
   "outputs": [
    {
     "data": {
      "text/html": [
       "<p><strong><pre style='display: inline;'>task_04</pre></strong> passed! 🍀</p><p><strong><pre style='display: inline;'>task_04 - 1</pre> message:</strong> ✅ linear_predict_electricity seems to be working correctly.</p>"
      ],
      "text/plain": [
       "task_04 results: All test cases passed!\n",
       "task_04 - 1 message: ✅ linear_predict_electricity seems to be working correctly."
      ]
     },
     "execution_count": 79,
     "metadata": {},
     "output_type": "execute_result"
    }
   ],
   "source": [
    "grader.check(\"task_04\")"
   ]
  },
  {
   "cell_type": "markdown",
   "id": "cbda4839-7aa1-457d-812f-464b74ba111d",
   "metadata": {
    "tags": []
   },
   "source": [
    "### Task 05 📍"
   ]
  },
  {
   "cell_type": "markdown",
   "id": "04356441-98d8-499c-98fd-532569541eda",
   "metadata": {
    "deletable": false,
    "editable": false
   },
   "source": [
    "Next, fit the best quadratic model to the data. (As a reminder, \"best\" for us in this context means the quadratic model that has the lowest RMSE.) A quadratic model has the form `quadratic_predicted_electricity = a * actual_water ** 2 + b * actual_water + c`.\n",
    "\n",
    "For this task, we've provided you with the template that mirrors the steps for the linear model. You just need to fill in the details."
   ]
  },
  {
   "cell_type": "code",
   "execution_count": 80,
   "id": "5afb3ed6-0c1b-4359-8b6c-b5695cdae17a",
   "metadata": {},
   "outputs": [
    {
     "data": {
      "text/html": [
       "<table border=\"1\" class=\"dataframe\">\n",
       "    <thead>\n",
       "        <tr>\n",
       "            <th>date</th> <th>month</th> <th>month_number</th> <th>year</th> <th>electricity</th> <th>gas</th> <th>water</th> <th>passengers</th> <th>linear_electricity</th> <th>quadratic_electricity</th>\n",
       "        </tr>\n",
       "    </thead>\n",
       "    <tbody>\n",
       "        <tr>\n",
       "            <td>2013-01-01</td> <td>Jan  </td> <td>1           </td> <td>2013</td> <td>2.69065e+07</td> <td>412598</td> <td>31.0368</td> <td>3.20936e+06</td> <td>2.66666e+07       </td> <td>2.68492e+07          </td>\n",
       "        </tr>\n",
       "        <tr>\n",
       "            <td>2013-02-01</td> <td>Feb  </td> <td>2           </td> <td>2013</td> <td>2.44482e+07</td> <td>368066</td> <td>28.8347</td> <td>2.96895e+06</td> <td>2.64161e+07       </td> <td>2.62343e+07          </td>\n",
       "        </tr>\n",
       "        <tr>\n",
       "            <td>2013-03-01</td> <td>Mar  </td> <td>3           </td> <td>2013</td> <td>2.76641e+07</td> <td>363378</td> <td>28.8376</td> <td>3.59997e+06</td> <td>2.64165e+07       </td> <td>2.62353e+07          </td>\n",
       "        </tr>\n",
       "        <tr>\n",
       "            <td>2013-04-01</td> <td>Apr  </td> <td>4           </td> <td>2013</td> <td>2.70255e+07</td> <td>313840</td> <td>32.3031</td> <td>3.60954e+06</td> <td>2.68107e+07       </td> <td>2.7114e+07           </td>\n",
       "        </tr>\n",
       "        <tr>\n",
       "            <td>2013-05-01</td> <td>May  </td> <td>5           </td> <td>2013</td> <td>2.81716e+07</td> <td>308500</td> <td>32.1146</td> <td>3.9349e+06 </td> <td>2.67892e+07       </td> <td>2.70787e+07          </td>\n",
       "        </tr>\n",
       "        <tr>\n",
       "            <td>2013-06-01</td> <td>Jun  </td> <td>6           </td> <td>2013</td> <td>2.76321e+07</td> <td>268765</td> <td>34.5307</td> <td>4.15515e+06</td> <td>2.70641e+07       </td> <td>2.74224e+07          </td>\n",
       "        </tr>\n",
       "        <tr>\n",
       "            <td>2013-07-01</td> <td>Jul  </td> <td>7           </td> <td>2013</td> <td>2.87237e+07</td> <td>279592</td> <td>31.7107</td> <td>4.18112e+06</td> <td>2.67433e+07       </td> <td>2.69982e+07          </td>\n",
       "        </tr>\n",
       "        <tr>\n",
       "            <td>2013-08-01</td> <td>Aug  </td> <td>8           </td> <td>2013</td> <td>2.91834e+07</td> <td>269948</td> <td>37.4292</td> <td>4.3511e+06 </td> <td>2.73938e+07       </td> <td>2.75234e+07          </td>\n",
       "        </tr>\n",
       "        <tr>\n",
       "            <td>2013-09-01</td> <td>Sep  </td> <td>9           </td> <td>2013</td> <td>2.81579e+07</td> <td>242525</td> <td>37.8765</td> <td>3.78548e+06</td> <td>2.74447e+07       </td> <td>2.75087e+07          </td>\n",
       "        </tr>\n",
       "        <tr>\n",
       "            <td>2013-10-01</td> <td>Oct  </td> <td>10          </td> <td>2013</td> <td>2.83721e+07</td> <td>309631</td> <td>32.2261</td> <td>3.92644e+06</td> <td>2.68019e+07       </td> <td>2.70997e+07          </td>\n",
       "        </tr>\n",
       "    </tbody>\n",
       "</table>\n",
       "<p>... (70 rows omitted)</p>"
      ],
      "text/plain": [
       "date       | month | month_number | year | electricity | gas    | water   | passengers  | linear_electricity | quadratic_electricity\n",
       "2013-01-01 | Jan   | 1            | 2013 | 2.69065e+07 | 412598 | 31.0368 | 3.20936e+06 | 2.66666e+07        | 2.68492e+07\n",
       "2013-02-01 | Feb   | 2            | 2013 | 2.44482e+07 | 368066 | 28.8347 | 2.96895e+06 | 2.64161e+07        | 2.62343e+07\n",
       "2013-03-01 | Mar   | 3            | 2013 | 2.76641e+07 | 363378 | 28.8376 | 3.59997e+06 | 2.64165e+07        | 2.62353e+07\n",
       "2013-04-01 | Apr   | 4            | 2013 | 2.70255e+07 | 313840 | 32.3031 | 3.60954e+06 | 2.68107e+07        | 2.7114e+07\n",
       "2013-05-01 | May   | 5            | 2013 | 2.81716e+07 | 308500 | 32.1146 | 3.9349e+06  | 2.67892e+07        | 2.70787e+07\n",
       "2013-06-01 | Jun   | 6            | 2013 | 2.76321e+07 | 268765 | 34.5307 | 4.15515e+06 | 2.70641e+07        | 2.74224e+07\n",
       "2013-07-01 | Jul   | 7            | 2013 | 2.87237e+07 | 279592 | 31.7107 | 4.18112e+06 | 2.67433e+07        | 2.69982e+07\n",
       "2013-08-01 | Aug   | 8            | 2013 | 2.91834e+07 | 269948 | 37.4292 | 4.3511e+06  | 2.73938e+07        | 2.75234e+07\n",
       "2013-09-01 | Sep   | 9            | 2013 | 2.81579e+07 | 242525 | 37.8765 | 3.78548e+06 | 2.74447e+07        | 2.75087e+07\n",
       "2013-10-01 | Oct   | 10           | 2013 | 2.83721e+07 | 309631 | 32.2261 | 3.92644e+06 | 2.68019e+07        | 2.70997e+07\n",
       "... (70 rows omitted)"
      ]
     },
     "execution_count": 80,
     "metadata": {},
     "output_type": "execute_result"
    }
   ],
   "source": [
    "from scipy.optimize import minimize\n",
    "\n",
    "def quadratic_model_rmse(params):\n",
    "    a, b, c = params\n",
    "    actual_electricity = sfo.column('electricity')\n",
    "    actual_water = sfo.column('water')\n",
    "    quadratic_predicted_electricity = a * actual_water ** 2 + b * actual_water + c\n",
    "    error = actual_electricity - quadratic_predicted_electricity\n",
    "    rmse = np.sqrt(np.mean(error ** 2))\n",
    "    return rmse\n",
    "    \n",
    "initial_guess = [0, 0, 0]\n",
    "result = minimize(quadratic_model_rmse, initial_guess)\n",
    "a, b, c = result.x\n",
    "\n",
    "def quadratic_predict_electricity(water_usage):\n",
    "    predicted_electricity = a * water_usage ** 2 + b * water_usage + c\n",
    "    return predicted_electricity\n",
    "\n",
    "# Apply the function to the data and the predicted values to the table\n",
    "sfo = sfo.with_column('quadratic_electricity', \n",
    "                      sfo.apply(quadratic_predict_electricity, 'water'))\n",
    "\n",
    "sfo"
   ]
  },
  {
   "cell_type": "code",
   "execution_count": 82,
   "id": "d56cde2c",
   "metadata": {
    "deletable": false,
    "editable": false
   },
   "outputs": [
    {
     "data": {
      "text/html": [
       "<p><strong style='color: red;'><pre style='display: inline;'>task_05</pre> results:</strong></p><p><strong><pre style='display: inline;'>task_05 - 1</pre> message:</strong> ✅ Great work adding the 'quadratic_electricity' column to sfo.</p><p><strong><pre style='display: inline;'>task_05 - 1</pre> result:</strong></p><pre>    ✅ Test case passed</pre><p><strong><pre style='display: inline;'>task_05 - 2</pre> message:</strong> ❌ Your quadratic electricity predictions do not seem to be correct. Ask for help as you try to follow similar steps for the linear model.</p><p><strong><pre style='display: inline;'>task_05 - 2</pre> result:</strong></p><pre>    ❌ Test case failed\n",
       "    Trying:\n",
       "        np.isclose(sum(sfo.column('quadratic_electricity')), 2152232600.1741104) and np.isclose(min(sfo.column('quadratic_electricity')), 25325122.546123043)\n",
       "    Expecting:\n",
       "        True\n",
       "    **********************************************************************\n",
       "    Line 1, in task_05 1\n",
       "    Failed example:\n",
       "        np.isclose(sum(sfo.column('quadratic_electricity')), 2152232600.1741104) and np.isclose(min(sfo.column('quadratic_electricity')), 25325122.546123043)\n",
       "    Expected:\n",
       "        True\n",
       "    Got:\n",
       "        False\n",
       "</pre>"
      ],
      "text/plain": [
       "task_05 results:\n",
       "    task_05 - 1 message: ✅ Great work adding the 'quadratic_electricity' column to sfo.\n",
       "\n",
       "    task_05 - 1 result:\n",
       "        ✅ Test case passed\n",
       "\n",
       "    task_05 - 2 message: ❌ Your quadratic electricity predictions do not seem to be correct. Ask for help as you try to follow similar steps for the linear model.\n",
       "\n",
       "    task_05 - 2 result:\n",
       "        ❌ Test case failed\n",
       "        Trying:\n",
       "            np.isclose(sum(sfo.column('quadratic_electricity')), 2152232600.1741104) and np.isclose(min(sfo.column('quadratic_electricity')), 25325122.546123043)\n",
       "        Expecting:\n",
       "            True\n",
       "        **********************************************************************\n",
       "        Line 1, in task_05 1\n",
       "        Failed example:\n",
       "            np.isclose(sum(sfo.column('quadratic_electricity')), 2152232600.1741104) and np.isclose(min(sfo.column('quadratic_electricity')), 25325122.546123043)\n",
       "        Expected:\n",
       "            True\n",
       "        Got:\n",
       "            False"
      ]
     },
     "execution_count": 82,
     "metadata": {},
     "output_type": "execute_result"
    }
   ],
   "source": [
    "grader.check(\"task_05\")"
   ]
  },
  {
   "cell_type": "markdown",
   "id": "2865cd38-c8ae-4d77-9435-3d904b166738",
   "metadata": {
    "tags": []
   },
   "source": [
    "### Task 06 📍🔎"
   ]
  },
  {
   "cell_type": "markdown",
   "id": "65b13186-6ae9-4778-8689-c59792af1867",
   "metadata": {
    "deletable": false,
    "editable": false
   },
   "source": [
    "<!-- BEGIN QUESTION -->\n",
    "\n",
    "Run the following code cell to see the predicted electricity values overlaid with the actual data."
   ]
  },
  {
   "cell_type": "code",
   "execution_count": 83,
   "id": "a05cc9c2-1a7f-4f3b-8a72-19e742a56cb9",
   "metadata": {
    "deletable": false,
    "editable": false
   },
   "outputs": [
    {
     "data": {
      "image/png": "[encoded data removed]",
      "text/plain": [
       "<Figure size 500x500 with 1 Axes>"
      ]
     },
     "metadata": {},
     "output_type": "display_data"
    }
   ],
   "source": [
    "sfo.select('electricity', 'water', 'linear_electricity', 'quadratic_electricity').scatter('water')"
   ]
  },
  {
   "cell_type": "markdown",
   "id": "9dff61a3-aaba-4ed8-98b1-9603f8f05e99",
   "metadata": {
    "deletable": false,
    "editable": false
   },
   "source": [
    "Based on this graphic, do you think the linear or quadratic model fits the general trend of the data?\n",
    "\n",
    "_Check your response with a classmate, a tutor, or the instructor before moving on since there is no auto-grader for this task._"
   ]
  },
  {
   "cell_type": "markdown",
   "id": "a3e2d9e2",
   "metadata": {},
   "source": [
    "Yes, based on the graphic, the quadratic model appears to fit the general trend of the data well."
   ]
  },
  {
   "cell_type": "markdown",
   "id": "612939c6-77b0-4140-a936-6b60064edd00",
   "metadata": {
    "deletable": false,
    "editable": false
   },
   "source": [
    "<!-- END QUESTION -->\n",
    "\n",
    "## Model Evaluation"
   ]
  },
  {
   "cell_type": "markdown",
   "id": "a8a340a1-d4ac-4273-8279-1c9bf03257fd",
   "metadata": {},
   "source": [
    "Great work so far! Now we want you to use the tools you've learned in [Chapter 14](https://inferentialthinking.com/chapters/15/Prediction.html) to be able to decide between the two models. "
   ]
  },
  {
   "cell_type": "markdown",
   "id": "82955607-522e-498a-bb0c-2670cc457d41",
   "metadata": {},
   "source": [
    "### Residuals"
   ]
  },
  {
   "cell_type": "markdown",
   "id": "967472ed-c781-4bcb-b96e-628e104509fd",
   "metadata": {},
   "source": [
    "We define the residual to be the actual value minus the predicted value. (Yes, this is the same as the term error used above.) Analyzing residuals can be useful to help you decide between two (or more) models for prediction. "
   ]
  },
  {
   "cell_type": "markdown",
   "id": "f00867a4-79a2-4ba1-a30c-048c385d1685",
   "metadata": {
    "tags": []
   },
   "source": [
    "#### Task 07 📍"
   ]
  },
  {
   "cell_type": "markdown",
   "id": "f5e43629-f26f-4502-a94d-1cf850e8dbfb",
   "metadata": {
    "deletable": false,
    "editable": false
   },
   "source": [
    "Calculate the residuals associated with the linear and quadratic predictions. We created the function below called `residual` that returns the residual associated with the provided actual and predicted values.\n",
    "\n",
    "We provided code to add those residuals to the table `sfo`."
   ]
  },
  {
   "cell_type": "code",
   "execution_count": 89,
   "id": "bfe8c8f6-f86c-4f9f-989e-78a152a14021",
   "metadata": {
    "deletable": false,
    "editable": false
   },
   "outputs": [],
   "source": [
    "def residual(actual, predicted):\n",
    "    return actual - predicted"
   ]
  },
  {
   "cell_type": "code",
   "execution_count": 91,
   "id": "b54b5d99-cc3e-4415-81c4-4df668dee3ef",
   "metadata": {},
   "outputs": [
    {
     "data": {
      "text/html": [
       "<table border=\"1\" class=\"dataframe\">\n",
       "    <thead>\n",
       "        <tr>\n",
       "            <th>date</th> <th>month</th> <th>month_number</th> <th>year</th> <th>electricity</th> <th>gas</th> <th>water</th> <th>passengers</th> <th>linear_electricity</th> <th>quadratic_electricity</th> <th>linear_residual</th> <th>quadratic_residual</th>\n",
       "        </tr>\n",
       "    </thead>\n",
       "    <tbody>\n",
       "        <tr>\n",
       "            <td>2013-01-01</td> <td>Jan  </td> <td>1           </td> <td>2013</td> <td>2.69065e+07</td> <td>412598</td> <td>31.0368</td> <td>3.20936e+06</td> <td>2.66666e+07       </td> <td>2.68492e+07          </td> <td>239890         </td> <td>57328.8           </td>\n",
       "        </tr>\n",
       "        <tr>\n",
       "            <td>2013-02-01</td> <td>Feb  </td> <td>2           </td> <td>2013</td> <td>2.44482e+07</td> <td>368066</td> <td>28.8347</td> <td>2.96895e+06</td> <td>2.64161e+07       </td> <td>2.62343e+07          </td> <td>-1.96794e+06   </td> <td>-1.78611e+06      </td>\n",
       "        </tr>\n",
       "        <tr>\n",
       "            <td>2013-03-01</td> <td>Mar  </td> <td>3           </td> <td>2013</td> <td>2.76641e+07</td> <td>363378</td> <td>28.8376</td> <td>3.59997e+06</td> <td>2.64165e+07       </td> <td>2.62353e+07          </td> <td>1.24761e+06    </td> <td>1.42882e+06       </td>\n",
       "        </tr>\n",
       "        <tr>\n",
       "            <td>2013-04-01</td> <td>Apr  </td> <td>4           </td> <td>2013</td> <td>2.70255e+07</td> <td>313840</td> <td>32.3031</td> <td>3.60954e+06</td> <td>2.68107e+07       </td> <td>2.7114e+07           </td> <td>214872         </td> <td>-88439.7          </td>\n",
       "        </tr>\n",
       "        <tr>\n",
       "            <td>2013-05-01</td> <td>May  </td> <td>5           </td> <td>2013</td> <td>2.81716e+07</td> <td>308500</td> <td>32.1146</td> <td>3.9349e+06 </td> <td>2.67892e+07       </td> <td>2.70787e+07          </td> <td>1.38239e+06    </td> <td>1.09295e+06       </td>\n",
       "        </tr>\n",
       "        <tr>\n",
       "            <td>2013-06-01</td> <td>Jun  </td> <td>6           </td> <td>2013</td> <td>2.76321e+07</td> <td>268765</td> <td>34.5307</td> <td>4.15515e+06</td> <td>2.70641e+07       </td> <td>2.74224e+07          </td> <td>568019         </td> <td>209660            </td>\n",
       "        </tr>\n",
       "        <tr>\n",
       "            <td>2013-07-01</td> <td>Jul  </td> <td>7           </td> <td>2013</td> <td>2.87237e+07</td> <td>279592</td> <td>31.7107</td> <td>4.18112e+06</td> <td>2.67433e+07       </td> <td>2.69982e+07          </td> <td>1.98041e+06    </td> <td>1.72551e+06       </td>\n",
       "        </tr>\n",
       "        <tr>\n",
       "            <td>2013-08-01</td> <td>Aug  </td> <td>8           </td> <td>2013</td> <td>2.91834e+07</td> <td>269948</td> <td>37.4292</td> <td>4.3511e+06 </td> <td>2.73938e+07       </td> <td>2.75234e+07          </td> <td>1.78959e+06    </td> <td>1.66e+06          </td>\n",
       "        </tr>\n",
       "        <tr>\n",
       "            <td>2013-09-01</td> <td>Sep  </td> <td>9           </td> <td>2013</td> <td>2.81579e+07</td> <td>242525</td> <td>37.8765</td> <td>3.78548e+06</td> <td>2.74447e+07       </td> <td>2.75087e+07          </td> <td>713285         </td> <td>649256            </td>\n",
       "        </tr>\n",
       "        <tr>\n",
       "            <td>2013-10-01</td> <td>Oct  </td> <td>10          </td> <td>2013</td> <td>2.83721e+07</td> <td>309631</td> <td>32.2261</td> <td>3.92644e+06</td> <td>2.68019e+07       </td> <td>2.70997e+07          </td> <td>1.57017e+06    </td> <td>1.27235e+06       </td>\n",
       "        </tr>\n",
       "    </tbody>\n",
       "</table>\n",
       "<p>... (70 rows omitted)</p>"
      ],
      "text/plain": [
       "date       | month | month_number | year | electricity | gas    | water   | passengers  | linear_electricity | quadratic_electricity | linear_residual | quadratic_residual\n",
       "2013-01-01 | Jan   | 1            | 2013 | 2.69065e+07 | 412598 | 31.0368 | 3.20936e+06 | 2.66666e+07        | 2.68492e+07           | 239890          | 57328.8\n",
       "2013-02-01 | Feb   | 2            | 2013 | 2.44482e+07 | 368066 | 28.8347 | 2.96895e+06 | 2.64161e+07        | 2.62343e+07           | -1.96794e+06    | -1.78611e+06\n",
       "2013-03-01 | Mar   | 3            | 2013 | 2.76641e+07 | 363378 | 28.8376 | 3.59997e+06 | 2.64165e+07        | 2.62353e+07           | 1.24761e+06     | 1.42882e+06\n",
       "2013-04-01 | Apr   | 4            | 2013 | 2.70255e+07 | 313840 | 32.3031 | 3.60954e+06 | 2.68107e+07        | 2.7114e+07            | 214872          | -88439.7\n",
       "2013-05-01 | May   | 5            | 2013 | 2.81716e+07 | 308500 | 32.1146 | 3.9349e+06  | 2.67892e+07        | 2.70787e+07           | 1.38239e+06     | 1.09295e+06\n",
       "2013-06-01 | Jun   | 6            | 2013 | 2.76321e+07 | 268765 | 34.5307 | 4.15515e+06 | 2.70641e+07        | 2.74224e+07           | 568019          | 209660\n",
       "2013-07-01 | Jul   | 7            | 2013 | 2.87237e+07 | 279592 | 31.7107 | 4.18112e+06 | 2.67433e+07        | 2.69982e+07           | 1.98041e+06     | 1.72551e+06\n",
       "2013-08-01 | Aug   | 8            | 2013 | 2.91834e+07 | 269948 | 37.4292 | 4.3511e+06  | 2.73938e+07        | 2.75234e+07           | 1.78959e+06     | 1.66e+06\n",
       "2013-09-01 | Sep   | 9            | 2013 | 2.81579e+07 | 242525 | 37.8765 | 3.78548e+06 | 2.74447e+07        | 2.75087e+07           | 713285          | 649256\n",
       "2013-10-01 | Oct   | 10           | 2013 | 2.83721e+07 | 309631 | 32.2261 | 3.92644e+06 | 2.68019e+07        | 2.70997e+07           | 1.57017e+06     | 1.27235e+06\n",
       "... (70 rows omitted)"
      ]
     },
     "execution_count": 91,
     "metadata": {},
     "output_type": "execute_result"
    }
   ],
   "source": [
    "actual_electricity = sfo.column('electricity')\n",
    "linear_predicted_electricity = sfo.column('linear_electricity')\n",
    "linear_residuals = residual(actual_electricity, linear_predicted_electricity)\n",
    "\n",
    "quadratic_predicted_electricity = sfo.column('quadratic_electricity')\n",
    "quadratic_residuals = residual(actual_electricity, quadratic_predicted_electricity)\n",
    "\n",
    "sfo = sfo.with_columns(\n",
    "    'linear_residual', linear_residuals,\n",
    "    'quadratic_residual', quadratic_residuals)\n",
    "\n",
    "sfo"
   ]
  },
  {
   "cell_type": "code",
   "execution_count": 92,
   "id": "b51e9a7e",
   "metadata": {
    "deletable": false,
    "editable": false
   },
   "outputs": [
    {
     "data": {
      "text/html": [
       "<p><strong style='color: red;'><pre style='display: inline;'>task_07</pre> results:</strong></p><p><strong><pre style='display: inline;'>task_07 - 1</pre> message:</strong> ❌ Your residuals from the linear model do not seem correct. Try applying the residual function to the sfo table and reference the linear_electricty values</p><p><strong><pre style='display: inline;'>task_07 - 1</pre> result:</strong></p><pre>    ❌ Test case failed\n",
       "    Trying:\n",
       "        np.isclose(np.sum(sfo.column('linear_residual')), -10.664834152907133) and np.isclose(min(sfo.column('linear_residual')), -3345482.7231732905)\n",
       "    Expecting:\n",
       "        True\n",
       "    **********************************************************************\n",
       "    Line 1, in task_07 0\n",
       "    Failed example:\n",
       "        np.isclose(np.sum(sfo.column('linear_residual')), -10.664834152907133) and np.isclose(min(sfo.column('linear_residual')), -3345482.7231732905)\n",
       "    Expected:\n",
       "        True\n",
       "    Got:\n",
       "        False\n",
       "</pre><p><strong><pre style='display: inline;'>task_07 - 2</pre> message:</strong> ❌ Your residuals from the quadratic model do not seem correct. Try applying the residual function to the sfo table and reference the quadratic_electricty values.</p><p><strong><pre style='display: inline;'>task_07 - 2</pre> result:</strong></p><pre>    ❌ Test case failed\n",
       "    Trying:\n",
       "        np.isclose(np.sum(sfo.column('quadratic_residual')), 20128.225890103728) and np.isclose(min(sfo.column('quadratic_residual')), -3393442.3036418445)\n",
       "    Expecting:\n",
       "        True\n",
       "    **********************************************************************\n",
       "    Line 1, in task_07 1\n",
       "    Failed example:\n",
       "        np.isclose(np.sum(sfo.column('quadratic_residual')), 20128.225890103728) and np.isclose(min(sfo.column('quadratic_residual')), -3393442.3036418445)\n",
       "    Expected:\n",
       "        True\n",
       "    Got:\n",
       "        False\n",
       "</pre>"
      ],
      "text/plain": [
       "task_07 results:\n",
       "    task_07 - 1 message: ❌ Your residuals from the linear model do not seem correct. Try applying the residual function to the sfo table and reference the linear_electricty values\n",
       "\n",
       "    task_07 - 1 result:\n",
       "        ❌ Test case failed\n",
       "        Trying:\n",
       "            np.isclose(np.sum(sfo.column('linear_residual')), -10.664834152907133) and np.isclose(min(sfo.column('linear_residual')), -3345482.7231732905)\n",
       "        Expecting:\n",
       "            True\n",
       "        **********************************************************************\n",
       "        Line 1, in task_07 0\n",
       "        Failed example:\n",
       "            np.isclose(np.sum(sfo.column('linear_residual')), -10.664834152907133) and np.isclose(min(sfo.column('linear_residual')), -3345482.7231732905)\n",
       "        Expected:\n",
       "            True\n",
       "        Got:\n",
       "            False\n",
       "\n",
       "    task_07 - 2 message: ❌ Your residuals from the quadratic model do not seem correct. Try applying the residual function to the sfo table and reference the quadratic_electricty values.\n",
       "\n",
       "    task_07 - 2 result:\n",
       "        ❌ Test case failed\n",
       "        Trying:\n",
       "            np.isclose(np.sum(sfo.column('quadratic_residual')), 20128.225890103728) and np.isclose(min(sfo.column('quadratic_residual')), -3393442.3036418445)\n",
       "        Expecting:\n",
       "            True\n",
       "        **********************************************************************\n",
       "        Line 1, in task_07 1\n",
       "        Failed example:\n",
       "            np.isclose(np.sum(sfo.column('quadratic_residual')), 20128.225890103728) and np.isclose(min(sfo.column('quadratic_residual')), -3393442.3036418445)\n",
       "        Expected:\n",
       "            True\n",
       "        Got:\n",
       "            False"
      ]
     },
     "execution_count": 92,
     "metadata": {},
     "output_type": "execute_result"
    }
   ],
   "source": [
    "grader.check(\"task_07\")"
   ]
  },
  {
   "cell_type": "markdown",
   "id": "2f24e95c-acfc-4568-a2fa-42586f2c2a8d",
   "metadata": {
    "tags": []
   },
   "source": [
    "#### Task 08 📍🔎"
   ]
  },
  {
   "cell_type": "markdown",
   "id": "27f6adad-f876-4c4a-8974-3887f7aafff0",
   "metadata": {
    "deletable": false,
    "editable": false
   },
   "source": [
    "<!-- BEGIN QUESTION -->\n",
    "\n",
    "Residual plots can be used to do a visual diagnostic of a model. In short, a residual plot is a scatter plot with the predictor variable (water usage) on the horizontal axis and the associated residuals on the vertical axis.\n",
    "\n",
    "According to [Section 15.5](https://inferentialthinking.com/chapters/15/5/Visual_Diagnostics.html):\n",
    "\n",
    "> The residual plot of a good regression shows no pattern. The residuals look about the same, above and below the horizontal line at 0, across the range of the predictor variable.\n",
    "\n",
    "1. Create two residual plots, one for the linear model and one for the quadratic model.\n",
    "2. Based on a visual inspection of the two plots and the content of Section 15.5, which model would you choose?"
   ]
  },
  {
   "cell_type": "markdown",
   "id": "4ed25f6b",
   "metadata": {},
   "source": [
    "I would pick the quadratic model."
   ]
  },
  {
   "cell_type": "code",
   "execution_count": 94,
   "id": "4a8c2efb-e6ed-49b8-9571-68885e95a380",
   "metadata": {
    "tags": []
   },
   "outputs": [
    {
     "data": {
      "image/png": "[encoded data removed]",
      "text/plain": [
       "<Figure size 500x500 with 1 Axes>"
      ]
     },
     "metadata": {},
     "output_type": "display_data"
    },
    {
     "data": {
      "image/png": "[encoded data removed]",
      "text/plain": [
       "<Figure size 500x500 with 1 Axes>"
      ]
     },
     "metadata": {},
     "output_type": "display_data"
    }
   ],
   "source": [
    "sfo.scatter('water', 'linear_residual')\n",
    "plt.title('(Linear) Residual Plot')\n",
    "plt.show()\n",
    "\n",
    "sfo.scatter('water', 'quadratic_residual')\n",
    "plt.title('Quadratic) Residual Plot')\n",
    "plt.show()"
   ]
  },
  {
   "cell_type": "markdown",
   "id": "e131f728-b980-41ba-aa42-b0c1ec77073e",
   "metadata": {
    "deletable": false,
    "editable": false
   },
   "source": [
    "<!-- END QUESTION -->\n",
    "\n",
    "### RMSE"
   ]
  },
  {
   "cell_type": "markdown",
   "id": "fa9d61c4-5c34-4649-9a92-990bce930b3f",
   "metadata": {},
   "source": [
    "Root mean squared error (Error) is a way to summarize the prediction error for a model. You can decide between two models by choosing the model with the smaller RMSE."
   ]
  },
  {
   "cell_type": "markdown",
   "id": "346891e3-e055-42a4-968c-de000f1aa015",
   "metadata": {
    "tags": []
   },
   "source": [
    "#### Task 09 📍"
   ]
  },
  {
   "cell_type": "markdown",
   "id": "dd409029-4e0b-4703-8f3b-da0598f4176b",
   "metadata": {
    "deletable": false,
    "editable": false
   },
   "source": [
    "For this task:\n",
    "1. Create the function `rmse` that uses the `sfo` table that you've built so far and returns the RMSE associated with the actual electricity values and predicted electricity values based on the model you used. The argument `'predicted_col'` will tell the function which column in `sfo` contains the predicted values you want to use for the calculation.\n",
    "2. After calculating the RMSE associated with each model, assign 'linear' or 'quadratic' to `best_model_by_RMSE` based on which model has the lowest RMSE. "
   ]
  },
  {
   "cell_type": "code",
   "execution_count": 98,
   "id": "93a40a53-1671-4da8-bc03-98b49deac847",
   "metadata": {},
   "outputs": [
    {
     "name": "stdout",
     "output_type": "stream",
     "text": [
      "The linear RMSE is 1210610.0712136773. \n",
      "The quadratic RMSE is 1251437.2141435074.\n",
      "You said the the linear model is the best model based on the RMSE value.\n"
     ]
    }
   ],
   "source": [
    "def rmse(predicted_col):\n",
    "    actual = sfo.column('electricity')\n",
    "    predicted = sfo.column(predicted_col)\n",
    "    error = actual - predicted\n",
    "    rmse_value = np.sqrt(np.mean(error ** 2))\n",
    "    return rmse_value\n",
    "\n",
    "linear_rmse = rmse('linear_electricity')\n",
    "quadratic_rmse = rmse('quadratic_electricity')\n",
    "\n",
    "print(f'The linear RMSE is {linear_rmse}. \\nThe quadratic RMSE is {quadratic_rmse}.')\n",
    "\n",
    "if linear_rmse < quadratic_rmse:\n",
    "    best_model_by_RMSE = 'linear'\n",
    "else:\n",
    "    best_model_by_RMSE = 'quadratic'\n",
    "\n",
    "print(f'You said the the {best_model_by_RMSE} model is the best model based on the RMSE value.')"
   ]
  },
  {
   "cell_type": "code",
   "execution_count": 99,
   "id": "b8e907f4",
   "metadata": {
    "deletable": false,
    "editable": false
   },
   "outputs": [
    {
     "data": {
      "text/html": [
       "<p><strong style='color: red;'><pre style='display: inline;'>task_09</pre> results:</strong></p><p><strong><pre style='display: inline;'>task_09 - 1</pre> message:</strong> ✅ Your linear RMSE seems correct.</p><p><strong><pre style='display: inline;'>task_09 - 1</pre> result:</strong></p><pre>    ✅ Test case passed</pre><p><strong><pre style='display: inline;'>task_09 - 2</pre> message:</strong> ❌ Your quadratic RMSE doesn't seem correct. Use 'quadratic_electricity' with the rmse function. You might have a bug with your function. Ask for help if you need it.</p><p><strong><pre style='display: inline;'>task_09 - 2</pre> result:</strong></p><pre>    ❌ Test case failed\n",
       "    Trying:\n",
       "        import hashlib\n",
       "    Expecting nothing\n",
       "    ok\n",
       "    Trying:\n",
       "        def get_hash(num):\n",
       "            \"\"\"Helper function for assessing correctness.\"\"\"\n",
       "            return hashlib.md5(str(num).encode()).hexdigest()\n",
       "    Expecting nothing\n",
       "    ok\n",
       "    Trying:\n",
       "        get_hash(round(quadratic_rmse, 3))\n",
       "    Expecting:\n",
       "        '7413ee868029c953ed1d27fb8bb9a674'\n",
       "    **********************************************************************\n",
       "    Line 6, in task_09 1\n",
       "    Failed example:\n",
       "        get_hash(round(quadratic_rmse, 3))\n",
       "    Expected:\n",
       "        '7413ee868029c953ed1d27fb8bb9a674'\n",
       "    Got:\n",
       "        'a7141429b7b42295856e6ed3a79c178f'\n",
       "</pre><p><strong><pre style='display: inline;'>task_09 - 3</pre> message:</strong> ✅ You choose 'linear' or 'quadratic'.</p><p><strong><pre style='display: inline;'>task_09 - 3</pre> result:</strong></p><pre>    ✅ Test case passed</pre><p><strong><pre style='display: inline;'>task_09 - 4</pre> message:</strong> ❌ We don't agree with your model choice. Make sure you are picking the model with the smaller RMSE value. </p><p><strong><pre style='display: inline;'>task_09 - 4</pre> result:</strong></p><pre>    ❌ Test case failed\n",
       "    Trying:\n",
       "        import hashlib\n",
       "    Expecting nothing\n",
       "    ok\n",
       "    Trying:\n",
       "        def get_hash(num):\n",
       "            \"\"\"Helper function for assessing correctness.\"\"\"\n",
       "            return hashlib.md5(str(num).encode()).hexdigest()\n",
       "    Expecting nothing\n",
       "    ok\n",
       "    Trying:\n",
       "        get_hash(best_model_by_RMSE)\n",
       "    Expecting:\n",
       "        'd2ac8798d82192d415e5a4d797dda30a'\n",
       "    **********************************************************************\n",
       "    Line 6, in task_09 3\n",
       "    Failed example:\n",
       "        get_hash(best_model_by_RMSE)\n",
       "    Expected:\n",
       "        'd2ac8798d82192d415e5a4d797dda30a'\n",
       "    Got:\n",
       "        '9a932b3cb396238423eb2f33ec17d6aa'\n",
       "</pre>"
      ],
      "text/plain": [
       "task_09 results:\n",
       "    task_09 - 1 message: ✅ Your linear RMSE seems correct.\n",
       "\n",
       "    task_09 - 1 result:\n",
       "        ✅ Test case passed\n",
       "\n",
       "    task_09 - 2 message: ❌ Your quadratic RMSE doesn't seem correct. Use 'quadratic_electricity' with the rmse function. You might have a bug with your function. Ask for help if you need it.\n",
       "\n",
       "    task_09 - 2 result:\n",
       "        ❌ Test case failed\n",
       "        Trying:\n",
       "            import hashlib\n",
       "        Expecting nothing\n",
       "        ok\n",
       "        Trying:\n",
       "            def get_hash(num):\n",
       "                \"\"\"Helper function for assessing correctness.\"\"\"\n",
       "                return hashlib.md5(str(num).encode()).hexdigest()\n",
       "        Expecting nothing\n",
       "        ok\n",
       "        Trying:\n",
       "            get_hash(round(quadratic_rmse, 3))\n",
       "        Expecting:\n",
       "            '7413ee868029c953ed1d27fb8bb9a674'\n",
       "        **********************************************************************\n",
       "        Line 6, in task_09 1\n",
       "        Failed example:\n",
       "            get_hash(round(quadratic_rmse, 3))\n",
       "        Expected:\n",
       "            '7413ee868029c953ed1d27fb8bb9a674'\n",
       "        Got:\n",
       "            'a7141429b7b42295856e6ed3a79c178f'\n",
       "\n",
       "    task_09 - 3 message: ✅ You choose 'linear' or 'quadratic'.\n",
       "\n",
       "    task_09 - 3 result:\n",
       "        ✅ Test case passed\n",
       "\n",
       "    task_09 - 4 message: ❌ We don't agree with your model choice. Make sure you are picking the model with the smaller RMSE value. \n",
       "\n",
       "    task_09 - 4 result:\n",
       "        ❌ Test case failed\n",
       "        Trying:\n",
       "            import hashlib\n",
       "        Expecting nothing\n",
       "        ok\n",
       "        Trying:\n",
       "            def get_hash(num):\n",
       "                \"\"\"Helper function for assessing correctness.\"\"\"\n",
       "                return hashlib.md5(str(num).encode()).hexdigest()\n",
       "        Expecting nothing\n",
       "        ok\n",
       "        Trying:\n",
       "            get_hash(best_model_by_RMSE)\n",
       "        Expecting:\n",
       "            'd2ac8798d82192d415e5a4d797dda30a'\n",
       "        **********************************************************************\n",
       "        Line 6, in task_09 3\n",
       "        Failed example:\n",
       "            get_hash(best_model_by_RMSE)\n",
       "        Expected:\n",
       "            'd2ac8798d82192d415e5a4d797dda30a'\n",
       "        Got:\n",
       "            '9a932b3cb396238423eb2f33ec17d6aa'"
      ]
     },
     "execution_count": 99,
     "metadata": {},
     "output_type": "execute_result"
    }
   ],
   "source": [
    "grader.check(\"task_09\")"
   ]
  },
  {
   "cell_type": "markdown",
   "id": "129e7bf1-2748-4afd-a10e-78da4c498ed3",
   "metadata": {},
   "source": [
    "Great work! As you can see, choosing the best model to predict with is not a simple decision. There are many things to consider when picking a model, and the tools you've learned about are here to help you make a decision."
   ]
  },
  {
   "cell_type": "markdown",
   "id": "7e06f7cb-e75b-4f0c-88d0-f24686eda60d",
   "metadata": {
    "editable": true,
    "jp-MarkdownHeadingCollapsed": true,
    "slideshow": {
     "slide_type": ""
    },
    "tags": []
   },
   "source": [
    "## Submit your Lab to Canvas\n",
    "\n",
    "Once you have finished working on the lab questions, prepare to submit your work in Canvas by completing the following steps.\n",
    "\n",
    "1. In the related Canvas Assignment page, check the requirements for a Complete score for this lab assignment.\n",
    "2. Double-check that you have run the code cell near the end of the notebook that contains the command `grader.check_all()`. This command will run all of the run tests on all your responses to the auto-graded tasks marked with 📍.\n",
    "3. Double-check your responses to the manually graded tasks marked with 📍🔎.\n",
    "4. Select the menu items `File`, `Save and Export Notebook As...`, and `Html_embed` in the notebook's Toolbar to download an HTML version of this notebook file.\n",
    "5. In the related Canvas Assignment page, click Start Assignment or New Attempt to upload the downloaded HTML file."
   ]
  },
  {
   "cell_type": "markdown",
   "id": "1a6e324a",
   "metadata": {
    "deletable": false,
    "editable": false
   },
   "source": [
    "---\n",
    "\n",
    "To double-check your work, the cell below will rerun all of the autograder tests."
   ]
  },
  {
   "cell_type": "code",
   "execution_count": null,
   "id": "d7b7a6af",
   "metadata": {
    "deletable": false,
    "editable": false
   },
   "outputs": [],
   "source": [
    "grader.check_all()"
   ]
  }
 ],
 "metadata": {
  "kernelspec": {
   "display_name": "Python 3 (ipykernel)",
   "language": "python",
   "name": "python3"
  },
  "language_info": {
   "codemirror_mode": {
    "name": "ipython",
    "version": 3
   },
   "file_extension": ".py",
   "mimetype": "text/x-python",
   "name": "python",
   "nbconvert_exporter": "python",
   "pygments_lexer": "ipython3",
   "version": "3.10.12"
  },
  "otter": {
   "OK_FORMAT": true,
   "assignment_name": "lab10_sp24",
   "tests": {
    "task_02": {
     "name": "task_02",
     "points": null,
     "suites": [
      {
       "cases": [
        {
         "code": ">>> isinstance(electricity_water, np.ndarray) and isinstance(electricity_water.item(0), (int, np.integer))\nTrue",
         "failure_message": "❌ gas_water should represent an array of integers.",
         "hidden": false,
         "locked": false,
         "points": 1,
         "success_message": "✅ gas_water represents an array of integers."
        },
        {
         "code": ">>> 1 in electricity_water and 5 in electricity_water and (not set(electricity_water).issubset({2, 3, 4}))\nTrue",
         "failure_message": "❌ Notice that the scatterplot shows a slightly curved trend that starts from the lower left and moves towards the upper right.",
         "hidden": false,
         "locked": false,
         "points": 1,
         "success_message": "✅ Great work. That is how we interpreted this graph as well."
        }
       ],
       "scored": true,
       "setup": "",
       "teardown": "",
       "type": "doctest"
      }
     ]
    },
    "task_03": {
     "name": "task_03",
     "points": null,
     "suites": [
      {
       "cases": [
        {
         "code": ">>> np.isclose(linear_model_rmse(113753.566, 23136076.141), 1210610.0712136773) and np.isclose(linear_model_rmse(100000, 20000000), 3790521.8867601505)\nTrue",
         "failure_message": "❌ Your function doesn't seem to be working correctly. The actual data should come from the electricity column. The predicted data should be calculated using slope * actual_water + intercept. The function should return the RMSE using the error actual - predicted.",
         "hidden": false,
         "locked": false,
         "success_message": "✅ Your function seems to be working correctly"
        }
       ],
       "scored": true,
       "setup": "",
       "teardown": "",
       "type": "doctest"
      }
     ]
    },
    "task_04": {
     "name": "task_04",
     "points": null,
     "suites": [
      {
       "cases": [
        {
         "code": ">>> np.isclose(linear_predict_electricity(31.0368), 26666622.809532203) and np.isclose(sum(sfo.column('linear_electricity')), 2152252739.064834)\nTrue",
         "failure_message": "❌ linear_predict_electricity doesn't seem to be working correctly. You should return the slope times the water usage plus the intercept.",
         "hidden": false,
         "locked": false,
         "success_message": "✅ linear_predict_electricity seems to be working correctly."
        }
       ],
       "scored": true,
       "setup": "",
       "teardown": "",
       "type": "doctest"
      }
     ]
    },
    "task_05": {
     "name": "task_05",
     "points": null,
     "suites": [
      {
       "cases": [
        {
         "code": ">>> 'quadratic_electricity' in sfo.labels\nTrue",
         "failure_message": "❌ It doesn't seem that you've added the 'quadratic_electricity' column to the sfo table.",
         "hidden": false,
         "locked": false,
         "success_message": "✅ Great work adding the 'quadratic_electricity' column to sfo."
        },
        {
         "code": ">>> np.isclose(sum(sfo.column('quadratic_electricity')), 2152232600.1741104) and np.isclose(min(sfo.column('quadratic_electricity')), 25325122.546123043)\nTrue",
         "failure_message": "❌ Your quadratic electricity predictions do not seem to be correct. Ask for help as you try to follow similar steps for the linear model.",
         "hidden": false,
         "locked": false,
         "success_message": "✅ Your quadratic electricity predictions seem to be correct."
        }
       ],
       "scored": true,
       "setup": "",
       "teardown": "",
       "type": "doctest"
      }
     ]
    },
    "task_07": {
     "name": "task_07",
     "points": null,
     "suites": [
      {
       "cases": [
        {
         "code": ">>> np.isclose(np.sum(sfo.column('linear_residual')), -10.664834152907133) and np.isclose(min(sfo.column('linear_residual')), -3345482.7231732905)\nTrue",
         "failure_message": "❌ Your residuals from the linear model do not seem correct. Try applying the residual function to the sfo table and reference the linear_electricty values",
         "hidden": false,
         "locked": false,
         "success_message": "✅ Your residuals from the linear model seem correct."
        },
        {
         "code": ">>> np.isclose(np.sum(sfo.column('quadratic_residual')), 20128.225890103728) and np.isclose(min(sfo.column('quadratic_residual')), -3393442.3036418445)\nTrue",
         "failure_message": "❌ Your residuals from the quadratic model do not seem correct. Try applying the residual function to the sfo table and reference the quadratic_electricty values.",
         "hidden": false,
         "locked": false,
         "success_message": "✅ Your residuals from the quadratic model seem correct."
        }
       ],
       "scored": true,
       "setup": "",
       "teardown": "",
       "type": "doctest"
      }
     ]
    },
    "task_09": {
     "name": "task_09",
     "points": null,
     "suites": [
      {
       "cases": [
        {
         "code": ">>> import hashlib\n>>> \n>>> def get_hash(num):\n...     \"\"\"Helper function for assessing correctness.\"\"\"\n...     return hashlib.md5(str(num).encode()).hexdigest()\n>>> get_hash(round(linear_rmse, 3))\n'c3d8812aaed53c05c039426a5d513bb5'",
         "failure_message": "❌ Your linear RMSE doesn't seem correct. Use 'linear_electricity' with the rmse function. You might have a bug with your function. Ask for help if you need it.",
         "hidden": false,
         "locked": false,
         "success_message": "✅ Your linear RMSE seems correct."
        },
        {
         "code": ">>> import hashlib\n>>> \n>>> def get_hash(num):\n...     \"\"\"Helper function for assessing correctness.\"\"\"\n...     return hashlib.md5(str(num).encode()).hexdigest()\n>>> get_hash(round(quadratic_rmse, 3))\n'7413ee868029c953ed1d27fb8bb9a674'",
         "failure_message": "❌ Your quadratic RMSE doesn't seem correct. Use 'quadratic_electricity' with the rmse function. You might have a bug with your function. Ask for help if you need it.",
         "hidden": false,
         "locked": false,
         "success_message": "✅ Your quadratic RMSE seems correct."
        },
        {
         "code": ">>> import hashlib\n>>> \n>>> def get_hash(num):\n...     \"\"\"Helper function for assessing correctness.\"\"\"\n...     return hashlib.md5(str(num).encode()).hexdigest()\n>>> best_model_by_RMSE in {'linear', 'quadratic'}\nTrue",
         "failure_message": "❌ Make sure to assign 'linear' or 'quadratic' to best_model_by_rmse.",
         "hidden": false,
         "locked": false,
         "success_message": "✅ You choose 'linear' or 'quadratic'."
        },
        {
         "code": ">>> import hashlib\n>>> \n>>> def get_hash(num):\n...     \"\"\"Helper function for assessing correctness.\"\"\"\n...     return hashlib.md5(str(num).encode()).hexdigest()\n>>> get_hash(best_model_by_RMSE)\n'd2ac8798d82192d415e5a4d797dda30a'",
         "failure_message": "❌ We don't agree with your model choice. Make sure you are picking the model with the smaller RMSE value. ",
         "hidden": false,
         "locked": false,
         "success_message": "✅ We agree with your model choice!"
        }
       ],
       "scored": true,
       "setup": "",
       "teardown": "",
       "type": "doctest"
      }
     ]
    }
   }
  }
 },
 "nbformat": 4,
 "nbformat_minor": 5
}
