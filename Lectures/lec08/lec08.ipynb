{
 "cells": [
  {
   "cell_type": "markdown",
   "id": "44323d32-6a3e-4884-ac83-5912fb31c7c1",
   "metadata": {
    "slideshow": {
     "slide_type": "slide"
    }
   },
   "source": [
    "<div style=\"width: 38.5%;\">\n",
    "    <p><strong>City College of San Francisco</strong><p>\n",
    "    <hr>\n",
    "    <p>MATH 108 - Foundations of Data Science</p>\n",
    "</div>"
   ]
  },
  {
   "cell_type": "markdown",
   "id": "c082eba5-b296-4e15-ac51-bab13e3a196f",
   "metadata": {
    "slideshow": {
     "slide_type": "-"
    }
   },
   "source": [
    "# Lecture 08: Charts"
   ]
  },
  {
   "cell_type": "markdown",
   "id": "c1c3a4ff-d9da-4bb7-b0b7-c9b98bf73351",
   "metadata": {
    "slideshow": {
     "slide_type": "-"
    }
   },
   "source": [
    "Associated Textbook Sections: [7.0, 7.1](https://inferentialthinking.com/chapters/07/Visualization.html)"
   ]
  },
  {
   "cell_type": "markdown",
   "id": "1afa36b0-8bf2-4537-96a2-278baa908195",
   "metadata": {},
   "source": [
    "---"
   ]
  },
  {
   "cell_type": "markdown",
   "id": "728af57f-90e1-42b0-8a08-f901f9c598d4",
   "metadata": {
    "slideshow": {
     "slide_type": "slide"
    }
   },
   "source": [
    "## Overview"
   ]
  },
  {
   "cell_type": "markdown",
   "id": "1007bb93-b04c-4909-b9a5-586f947c31aa",
   "metadata": {
    "slideshow": {
     "slide_type": "-"
    }
   },
   "source": [
    "* [W. E. B. Du Bois](#W.-E.-B.-Du-Bois)\n",
    "* [Why Do We Visualize Data](#Why-Do-We-Visualize-Data)\n",
    "* [Course Visualizations](#Course-Visualizations)\n",
    "* [Categorical Data](#Categorical-Data)\n",
    "* [Numerical Data](#Numerical-Data)\n",
    "* [Exploring Census Data](#Exploring-Census-Data)"
   ]
  },
  {
   "cell_type": "markdown",
   "id": "17683293-2b5b-4456-8405-6d16b5d694d8",
   "metadata": {},
   "source": [
    "---"
   ]
  },
  {
   "cell_type": "markdown",
   "id": "a50166e0-f98e-4ce7-9a81-63e7b73b6c4f",
   "metadata": {
    "slideshow": {
     "slide_type": "slide"
    }
   },
   "source": [
    "## Set Up the Notebook"
   ]
  },
  {
   "cell_type": "code",
   "execution_count": null,
   "id": "de21b7ed-b3d4-4840-a94b-dcf2b6c6dcbe",
   "metadata": {
    "slideshow": {
     "slide_type": "-"
    }
   },
   "outputs": [],
   "source": [
    "from datascience import *\n",
    "import numpy as np\n",
    "%matplotlib inline\n",
    "import matplotlib.pyplot as plt\n",
    "plt.style.use('fivethirtyeight')"
   ]
  },
  {
   "cell_type": "markdown",
   "id": "4eaa259e-6f37-4b47-b17d-c3982911f07b",
   "metadata": {
    "slideshow": {
     "slide_type": "fragment"
    }
   },
   "source": [
    "---"
   ]
  },
  {
   "cell_type": "markdown",
   "id": "f1d6f4e2-a79e-4072-8432-688dc719028f",
   "metadata": {},
   "source": [
    "## W. E. B. Du Bois"
   ]
  },
  {
   "cell_type": "markdown",
   "id": "d3476310-5b8a-4d82-880a-e9df25b33d62",
   "metadata": {
    "slideshow": {
     "slide_type": "fragment"
    }
   },
   "source": [
    "---"
   ]
  },
  {
   "cell_type": "markdown",
   "id": "0fb1140c-1623-43ab-bcdf-5a8ad7868a59",
   "metadata": {},
   "source": [
    "### Background"
   ]
  },
  {
   "cell_type": "markdown",
   "id": "0e5ee662-31e1-4d26-ac8c-ea813522e557",
   "metadata": {},
   "source": [
    "<a href=\"https://en.wikipedia.org/wiki/W._E._B._Du_Bois\"><img src=\"./WEB_DuBois_1918.jpeg\" alt=\"W.E.B. Du Bois\" width = 12%></a>"
   ]
  },
  {
   "cell_type": "markdown",
   "id": "5aaae657-a435-4885-b537-fdd024cd6e75",
   "metadata": {},
   "source": [
    "**The content of the following podcast, video, and images contains references to slavery, lynching, and the historical use of the word negro.**"
   ]
  },
  {
   "cell_type": "markdown",
   "id": "a789118e-25ff-464a-8d3c-46f4e06a7e1a",
   "metadata": {},
   "source": [
    "* Scholar, historian, activist, and data scientist\n",
    "    > \"The Philadelphia Negro was the first scientific study of race in the world. [...] the first non-racist investigation of a non-white poulation in the world. [...] one of the first social scientific written in the U.S. using the advanced statistical methods of the time.\" - Dr. Tukufu Zuberi, Professor of Race Relations at the University of Pennsylvania (Source: [A Legacy of Courage: W.E.B. Du Bois and the Philadelphia Negro](https://youtu.be/PQX_0uyDgGw))\n",
    "* First Black American to receive a PhD from Harvard\n",
    "* NAACP founder"
   ]
  },
  {
   "cell_type": "markdown",
   "id": "786a2293-1f02-4482-b48e-d3e9a01eb6f8",
   "metadata": {
    "slideshow": {
     "slide_type": "fragment"
    }
   },
   "source": [
    "---"
   ]
  },
  {
   "cell_type": "markdown",
   "id": "6ddc7e51-cf1f-404e-9696-586cd4457c69",
   "metadata": {},
   "source": [
    "### Paris Exposition"
   ]
  },
  {
   "cell_type": "markdown",
   "id": "e2991624-7bf0-42ca-9250-a897dbfb8549",
   "metadata": {},
   "source": [
    "Made a series of visualizations for the 1900 Paris Exposition\n",
    "* Goal: Change the way people see Black Americans\n",
    "* Hundreds of photographs and patents\n",
    "* 60+ handmade graphs in 3 months\n",
    "> \"All art is propaganda, and ever must be, despite the wailing of the purists. I stand in utter shamelessness and say that whatever art I have for writing has been used always for propaganda for gaining the right of black folk to love and enjoy. I do not care a damn for any art that is not used for propaganda.\" - W.E.B. Du Bois"
   ]
  },
  {
   "cell_type": "markdown",
   "id": "df0e89b2-a184-4123-a3bd-f20cb0e4037a",
   "metadata": {
    "slideshow": {
     "slide_type": "fragment"
    }
   },
   "source": [
    "---"
   ]
  },
  {
   "cell_type": "markdown",
   "id": "c60bf0a2-28a7-411c-831e-d0be422148eb",
   "metadata": {},
   "source": [
    "* Ideologies of W.E.B. Du Bois and Booker T. Washington are typically compared\n",
    "* A podcast that provides an 11-minute overview of Du Bois and Washington:"
   ]
  },
  {
   "cell_type": "code",
   "execution_count": null,
   "id": "19a7f585-261b-4aa8-98e4-3dbac34f4f23",
   "metadata": {},
   "outputs": [],
   "source": [
    "from IPython.display import IFrame\n",
    "IFrame('https://open.spotify.com/embed/episode/6MdipyUuPK2bbXF0n2CYA1?utm_source=generator',\n",
    "       width=500, height=350)"
   ]
  },
  {
   "cell_type": "markdown",
   "id": "9e8ed7fb-9d6c-442f-b105-22a4b285e7c2",
   "metadata": {},
   "source": [
    "---"
   ]
  },
  {
   "cell_type": "markdown",
   "id": "1d4ef890-d08f-434b-8497-e939dd6741d2",
   "metadata": {},
   "source": [
    "### Images from Paris Exposition"
   ]
  },
  {
   "cell_type": "markdown",
   "id": "5b180ded-3f01-4c98-81d1-8b98d6457429",
   "metadata": {},
   "source": [
    "The following images are from:\n",
    "* [Smithsonian Magazine - W.E.B. Du Bois’ Visionary Infographics Come Together for the First Time in Full Color](https://www.smithsonianmag.com/history/first-time-together-and-color-book-displays-web-du-bois-visionary-infographics-180970826/#)\n",
    "* [WBUR - W.E.B. Du Bois Created These Infographics In 1900 To Humanize The African-American Experience](https://www.wbur.org/news/2019/02/21/web-du-bois-infographics-humanity-african-american)"
   ]
  },
  {
   "cell_type": "markdown",
   "id": "1491f3f4-2d7a-4ea7-bd9c-296a86d38a89",
   "metadata": {},
   "source": [
    "<img src=\"./dubois_city_rural.jpeg\" alt=\"Du Bois's City and Rural Populations Graph\" width=32%>"
   ]
  },
  {
   "cell_type": "markdown",
   "id": "3cb07012-19cc-4ea7-b19a-be21ee9560ec",
   "metadata": {},
   "source": [
    "<img src=\"./dubois_freeman_slaves.jpeg\" alt=\"Du Bois's Proportion of Freeman and Slaves Graphic\" width = 32%>"
   ]
  },
  {
   "cell_type": "markdown",
   "id": "7d36e460-247c-4c96-8ab0-a85ae23f2565",
   "metadata": {},
   "source": [
    "<img src=\"./WEB_DuBois_income_and_expenditure.jpeg\" alt=\"Du Bois's graphic of Income and Expenditures\" width = 50%>"
   ]
  },
  {
   "cell_type": "markdown",
   "id": "f83f3d48-e8c6-40a4-8fa4-03abb6b38f6f",
   "metadata": {
    "slideshow": {
     "slide_type": "fragment"
    }
   },
   "source": [
    "---"
   ]
  },
  {
   "cell_type": "markdown",
   "id": "e33d6ee2-ac2c-4cc4-9b81-c6c820284a28",
   "metadata": {
    "slideshow": {
     "slide_type": "subslide"
    }
   },
   "source": [
    "## Why Do We Visualize Data"
   ]
  },
  {
   "cell_type": "markdown",
   "id": "cd7c9305-3ef2-4674-ba80-d1e801f4478f",
   "metadata": {
    "slideshow": {
     "slide_type": "-"
    }
   },
   "source": [
    "* A large fraction of our brains are dedicated to visual reasoning. \n",
    "* In Data Science we use visualization:\n",
    "    * For others – to communicate our findings\n",
    "    * For ourselves – to understand our data, see patterns, and discover relationships "
   ]
  },
  {
   "cell_type": "markdown",
   "id": "eaa2112d-c364-4093-a216-e0a36547c9f7",
   "metadata": {},
   "source": [
    "---"
   ]
  },
  {
   "cell_type": "markdown",
   "id": "a023de92-24f7-4c29-8021-295299691c10",
   "metadata": {
    "slideshow": {
     "slide_type": "slide"
    }
   },
   "source": [
    "## Course Visualizations"
   ]
  },
  {
   "cell_type": "markdown",
   "id": "ca47b26e-76c9-4c5a-941b-3b8bf2e8fc81",
   "metadata": {
    "slideshow": {
     "slide_type": "-"
    }
   },
   "source": [
    "* In the course we will mostly use the following visualizations:\n",
    "    * Histograms\n",
    "    * Line Graphs\n",
    "    * Scatter Plots\n",
    "    * Bar Charts\n",
    "* You will need to overlay graphs to explore relationships\n",
    "* How you visualize your data depends on attribute type\n",
    "* The data type doesn't determine numerical/categorical attribute label. \n",
    "    * `'$12.00'` is a `str` and likely to reflect a numerical attribute\n",
    "    * The context of the data and analysis is important to understand\n"
   ]
  },
  {
   "cell_type": "markdown",
   "id": "8dc98fb5-e98f-46f0-9ce6-3f42b58c1673",
   "metadata": {},
   "source": [
    "*You will indirectly work withe standard [Matplotlib library](https://matplotlib.org/) for data visualization using the `datascience` library. You can optionally interact with visualizations using the [Plotly library](https://plotly.com/python), but customizing and creating interactive visualizations is not required and you will not be tested on these things.*"
   ]
  },
  {
   "cell_type": "markdown",
   "id": "8954a5ba-3521-477b-b12f-968661cc130f",
   "metadata": {},
   "source": [
    "---"
   ]
  },
  {
   "cell_type": "markdown",
   "id": "e4d5bd2b-15d2-4e07-bbb7-81923aeb7b7f",
   "metadata": {},
   "source": [
    "### Good Practices"
   ]
  },
  {
   "cell_type": "markdown",
   "id": "ea6faaaf-e9f9-46d5-93d3-afb707ce1a80",
   "metadata": {},
   "source": [
    "* Less can be more\n",
    "    * Minimize decoration\n",
    "    * Choose colors carefully: Minimize the number of different colors\n",
    "* If data are numerical, preserve their relative values and distances between them\n",
    "\n",
    "_See Edward Tufte's [\"The Visual Display of Quantitative Information\"](https://www.edwardtufte.com/tufte/books_vdqi) for additional suggestions._\n"
   ]
  },
  {
   "cell_type": "markdown",
   "id": "3b623eb1-d604-484b-9407-64719fe8ceab",
   "metadata": {},
   "source": [
    "---"
   ]
  },
  {
   "cell_type": "markdown",
   "id": "1bc27fde-c59b-4a7a-bec5-c8be88cd3c62",
   "metadata": {
    "slideshow": {
     "slide_type": "subslide"
    }
   },
   "source": [
    "### Demo: Identifying Data Type of Column Values"
   ]
  },
  {
   "cell_type": "markdown",
   "id": "1790d802-a116-436a-a87d-a78288bea4ad",
   "metadata": {
    "slideshow": {
     "slide_type": "skip"
    }
   },
   "source": [
    "The dataset `top_grossing_movies.csv` shows the [highest 1,000-grossing movies worldwide listed on IMDB](https://www.imdb.com/list/ls098063263). Adjusted total gross values were also provided for data before 2021 using the Consumer Price Index (CPI)-based Python library `cpi`."
   ]
  },
  {
   "cell_type": "code",
   "execution_count": null,
   "id": "85a65369-b1a3-4ba3-a77f-db213df5dfa7",
   "metadata": {},
   "outputs": [],
   "source": [
    "top_movies = Table.read_table('top_grossing_movies.csv')\n",
    "top_movies"
   ]
  },
  {
   "cell_type": "markdown",
   "id": "c3e3e6a6-7bc1-4fc1-86b1-88fefe50f9cc",
   "metadata": {
    "slideshow": {
     "slide_type": "skip"
    }
   },
   "source": [
    "The movie titles reflect a categorical attribute."
   ]
  },
  {
   "cell_type": "code",
   "execution_count": null,
   "id": "3e51152f-4c78-41f9-943a-a9a0430555a2",
   "metadata": {
    "slideshow": {
     "slide_type": "fragment"
    }
   },
   "outputs": [],
   "source": [
    "type(top_movies.column('Title').item(0))"
   ]
  },
  {
   "cell_type": "markdown",
   "id": "39ee7288-993e-41db-a772-8eab18614a67",
   "metadata": {
    "slideshow": {
     "slide_type": "skip"
    }
   },
   "source": [
    "The movie years reflect a numerical attribute."
   ]
  },
  {
   "cell_type": "code",
   "execution_count": null,
   "id": "a602684e-3087-48af-a533-e91411c9557e",
   "metadata": {
    "slideshow": {
     "slide_type": "fragment"
    }
   },
   "outputs": [],
   "source": [
    "type(top_movies.column('Year').item(0))"
   ]
  },
  {
   "cell_type": "markdown",
   "id": "06248d9e-0580-489e-9e71-9c8649c7a770",
   "metadata": {},
   "source": [
    "Be careful. Sometimes the data type doesn't align with the intended attribute type."
   ]
  },
  {
   "cell_type": "markdown",
   "id": "932b65d0-6d4c-4ced-8984-230d00f48ca1",
   "metadata": {
    "slideshow": {
     "slide_type": "slide"
    }
   },
   "source": [
    "## Categorical Data"
   ]
  },
  {
   "cell_type": "markdown",
   "id": "769b9134-96db-425e-a447-8eb150473254",
   "metadata": {},
   "source": [
    "---"
   ]
  },
  {
   "cell_type": "markdown",
   "id": "be100199-ed18-4603-af9e-9ece43ca071a",
   "metadata": {
    "slideshow": {
     "slide_type": "-"
    }
   },
   "source": [
    "(Horizontal) Bar charts `barh` are a standard way to visualize the distribution of a single categorical variable.\n"
   ]
  },
  {
   "cell_type": "markdown",
   "id": "2665a018-fe90-47b4-bf5a-ba26473b3fed",
   "metadata": {},
   "source": [
    "---"
   ]
  },
  {
   "cell_type": "markdown",
   "id": "efc3dc20-2acc-4415-bfc1-a3d476283926",
   "metadata": {
    "hide_input": true,
    "slideshow": {
     "slide_type": "subslide"
    }
   },
   "source": [
    "#### A Bar Chart"
   ]
  },
  {
   "cell_type": "markdown",
   "id": "3537398d-0be8-44df-bcc4-27fc0618ce11",
   "metadata": {},
   "source": [
    "*The following code uses `group`. We will address that later in the course. Additionally, there is customization to the visual done on the lines that start with `plots`. You are not responsible for this customization.*"
   ]
  },
  {
   "cell_type": "code",
   "execution_count": null,
   "id": "4f3a0aed-b270-4a85-a710-9751f4a67972",
   "metadata": {
    "hide_input": false,
    "slideshow": {
     "slide_type": "-"
    }
   },
   "outputs": [],
   "source": [
    "cones = Table().read_table('cones.csv')\n",
    "cones_grouped_by_flavor = cones.group('Flavor')\n",
    "cones_grouped_by_flavor.barh('Flavor')\n",
    "\n",
    "plt.title('Distrubtion of Ice Cream Flavors')\n",
    "plt.show()"
   ]
  },
  {
   "cell_type": "markdown",
   "id": "1858aea0-20ec-4c1a-856d-9e1be8908aaf",
   "metadata": {},
   "source": [
    "---"
   ]
  },
  {
   "cell_type": "markdown",
   "id": "b731d4ff-f7fc-4b78-a2ae-a38455e6d362",
   "metadata": {
    "slideshow": {
     "slide_type": "subslide"
    }
   },
   "source": [
    "### Demo: Bar Charts"
   ]
  },
  {
   "cell_type": "markdown",
   "id": "a611c022-08db-41ce-b626-15cd1e9b4440",
   "metadata": {
    "deletable": false,
    "editable": false,
    "slideshow": {
     "slide_type": "skip"
    }
   },
   "source": [
    "Since _Gone with the Wind_ has been re-released several times, the adjusted price is not the most honest representation of its adjusted gross proces. For a more comparable analysis, reduce the table to the top top 10 movies based on actual gross values (`'Gross (Adjusted)'`) for the movies releasted in the last decade."
   ]
  },
  {
   "cell_type": "code",
   "execution_count": null,
   "id": "b1070a13-5c80-4426-b545-9a65d088a8cc",
   "metadata": {
    "scrolled": true,
    "slideshow": {
     "slide_type": "subslide"
    },
    "tags": []
   },
   "outputs": [],
   "source": [
    "top_movies_select = top_movies.select('Title', 'Year', 'Gross (Adjusted)')\n",
    "top_movies_last_decade = ...\n",
    "top_movies_last_decade_sorted = ...\n",
    "top10 = ...\n",
    "top10"
   ]
  },
  {
   "cell_type": "markdown",
   "id": "3435ad23-122a-4bbc-9aa6-8075c60b1729",
   "metadata": {},
   "source": [
    "---"
   ]
  },
  {
   "cell_type": "markdown",
   "id": "655b143e-e4f1-4699-9e1a-812da4838899",
   "metadata": {
    "deletable": false,
    "editable": false,
    "slideshow": {
     "slide_type": "skip"
    }
   },
   "source": [
    "Returning to top grossing movies data, convert to the gross (adjusted) values in the `top10` table to billions of dollars for readability."
   ]
  },
  {
   "cell_type": "code",
   "execution_count": null,
   "id": "51b4837f-5eac-4382-ac5d-3827e90a4305",
   "metadata": {
    "scrolled": true,
    "slideshow": {
     "slide_type": "subslide"
    },
    "tags": []
   },
   "outputs": [],
   "source": [
    "billions = ...\n",
    "top10 = top10.with_column('Gross Adjusted (Billions)', billions)\n",
    "top10"
   ]
  },
  {
   "cell_type": "markdown",
   "id": "9380b129-41f6-4d7b-9568-22adbcdae349",
   "metadata": {},
   "source": [
    "---"
   ]
  },
  {
   "cell_type": "markdown",
   "id": "7c44bbdd-ac9d-4d27-896e-92b0350c6085",
   "metadata": {
    "deletable": false,
    "editable": false,
    "slideshow": {
     "slide_type": "skip"
    }
   },
   "source": [
    "Visualize the gross adjusted values for each of the top 10 grossing (adjusted) movies."
   ]
  },
  {
   "cell_type": "code",
   "execution_count": null,
   "id": "8106139e-ee77-4b76-8c00-a5fd292dcd41",
   "metadata": {
    "slideshow": {
     "slide_type": "subslide"
    },
    "tags": []
   },
   "outputs": [],
   "source": [
    "...\n",
    "\n",
    "plt.title(\"The Top 10 Grossing Movies\")\n",
    "plt.show()"
   ]
  },
  {
   "cell_type": "markdown",
   "id": "ed547cff-c235-45cb-8818-410105512865",
   "metadata": {
    "slideshow": {
     "slide_type": "subslide"
    }
   },
   "source": [
    "### Visual Perception Accuracy"
   ]
  },
  {
   "cell_type": "markdown",
   "id": "bf2c732c-2179-4581-b802-998b5c458d3d",
   "metadata": {},
   "source": [
    "---"
   ]
  },
  {
   "cell_type": "markdown",
   "id": "5d7f11b8-3014-404b-94b1-020c38490c5f",
   "metadata": {
    "slideshow": {
     "slide_type": "skip"
    }
   },
   "source": [
    "From [Nathan Yau’s Data Points: Visualization that Means Something](https://flowingdata.com/data-points/), our eyes can extract information at different levels of accuracy depending on the design."
   ]
  },
  {
   "cell_type": "markdown",
   "id": "6c8f506d-1723-4387-aa8f-b00dc4784f88",
   "metadata": {
    "slideshow": {
     "slide_type": "-"
    }
   },
   "source": [
    "<img src=\"./visual_perception.png\" alt=\"Visualizations ordered by levels of accuracy\" width=70%>"
   ]
  },
  {
   "cell_type": "markdown",
   "id": "9dad8cf8-d867-4881-99b2-468684db5344",
   "metadata": {},
   "source": [
    "*For this reason, pie charts are generally discouraged because most people have a difficult time visually interpreting angles compared to lengths of bars.*"
   ]
  },
  {
   "cell_type": "markdown",
   "id": "a3a5310b-ff00-4602-90a4-1ca392ac56b1",
   "metadata": {},
   "source": [
    "---"
   ]
  },
  {
   "cell_type": "markdown",
   "id": "00399db3-5ae9-4efe-a482-ca6751f2c25f",
   "metadata": {},
   "source": [
    "### Demo: Visualizing Du Bois"
   ]
  },
  {
   "cell_type": "markdown",
   "id": "345b7eed-8e3f-4dbd-bde0-e57f355e1985",
   "metadata": {},
   "source": [
    "Read the `du_bois.csv` data as a table, reformat the data, and create a stacked bar chart."
   ]
  },
  {
   "cell_type": "code",
   "execution_count": null,
   "id": "2e4a6bc8-f926-42fa-ba54-2748aade2502",
   "metadata": {},
   "outputs": [],
   "source": [
    "du_bois = Table.read_table('du_bois.csv')\n",
    "du_bois.set_format('RENT', PercentFormatter)\n",
    "du_bois.set_format('FOOD', PercentFormatter)\n",
    "du_bois.set_format('CLOTHES', PercentFormatter)\n",
    "du_bois.set_format('TAXES', PercentFormatter)\n",
    "du_bois.set_format('OTHER', PercentFormatter)\n",
    "du_bois"
   ]
  },
  {
   "cell_type": "markdown",
   "id": "724f9706-df96-44d6-8191-f75fa66328e3",
   "metadata": {},
   "source": [
    "---"
   ]
  },
  {
   "cell_type": "markdown",
   "id": "7db34ced-04c3-4eae-9c98-52f867b7edba",
   "metadata": {},
   "source": [
    "Notice that the table is formatted to show percentages, but the values in the % columns are actually floats. "
   ]
  },
  {
   "cell_type": "code",
   "execution_count": null,
   "id": "8c3cf10c-923f-4393-be98-dbfbb14794c0",
   "metadata": {},
   "outputs": [],
   "source": [
    "du_bois.column('RENT')"
   ]
  },
  {
   "cell_type": "code",
   "execution_count": null,
   "id": "320ce8b8-661a-47b1-84c8-205720981182",
   "metadata": {},
   "outputs": [],
   "source": [
    "type(du_bois.column('RENT').item(0))"
   ]
  },
  {
   "cell_type": "markdown",
   "id": "9b96d677-ad4b-4fde-b104-4e7feb112c28",
   "metadata": {},
   "source": [
    "---"
   ]
  },
  {
   "cell_type": "markdown",
   "id": "cd7f93ab-7df2-4bea-be3f-3fe56a7106e8",
   "metadata": {
    "deletable": false,
    "editable": false
   },
   "source": [
    "For a quick review, find the income bracket (`CLASS`) that spent the highest percentage of their income on rent."
   ]
  },
  {
   "cell_type": "code",
   "execution_count": null,
   "id": "10bb8752-78ce-473f-bc3e-d115d30f47e1",
   "metadata": {
    "tags": []
   },
   "outputs": [],
   "source": [
    "..."
   ]
  },
  {
   "cell_type": "markdown",
   "id": "2beb2cf3-6421-4195-bd53-4a50cc030f01",
   "metadata": {},
   "source": [
    "---"
   ]
  },
  {
   "cell_type": "markdown",
   "id": "6cb52246-3b76-45d8-8de7-540894e71692",
   "metadata": {
    "deletable": false,
    "editable": false
   },
   "source": [
    "Start to re-create the bar chart that Du Bois presented in Paris."
   ]
  },
  {
   "cell_type": "code",
   "execution_count": null,
   "id": "b8f261dc-41b9-423b-845f-2b7f75cd4d1d",
   "metadata": {
    "tags": []
   },
   "outputs": [],
   "source": [
    "du_bois_for_bar = du_bois.drop('ACTUAL AVERAGE', 'Food $', 'STATUS')\n",
    "du_bois_for_bar"
   ]
  },
  {
   "cell_type": "code",
   "execution_count": null,
   "id": "4052b4c8-10bf-4d30-8976-5d70daafb010",
   "metadata": {
    "tags": []
   },
   "outputs": [],
   "source": [
    "...\n",
    "\n",
    "# Some extra graph formatting you are not responsible for\n",
    "plt.title('W.E. Du Bois Income and Expenditure')\n",
    "plt.show()"
   ]
  },
  {
   "cell_type": "markdown",
   "id": "f25fa2d5-6c45-4e94-824d-12ffe5a265a9",
   "metadata": {},
   "source": [
    "---"
   ]
  },
  {
   "cell_type": "markdown",
   "id": "30f47a82-97b0-41ec-883a-731eb4beb94d",
   "metadata": {},
   "source": [
    "### [Optional] Interactive Charts with Plotly"
   ]
  },
  {
   "cell_type": "markdown",
   "id": "83ddb959-4fcb-4eb5-9a71-4a4c36fe8d8a",
   "metadata": {},
   "source": [
    "* By default, we will be using the static visualizations that are made using the Matplotlib library.\n",
    "* You have the ability to access interactive Plotly visualizations by adding an `i` in front of the table method name that creates the default visual.\n",
    "* The arguments change to fit the Plotly functions."
   ]
  },
  {
   "cell_type": "markdown",
   "id": "b93f509d-e791-412b-96fc-8c29c0177677",
   "metadata": {},
   "source": [
    "---"
   ]
  },
  {
   "cell_type": "markdown",
   "id": "72ab5c2b-c660-43f1-9b0a-bd41040f324d",
   "metadata": {},
   "source": [
    "### [Optional] Demo: Visualizing Du Bois with Plotly"
   ]
  },
  {
   "cell_type": "markdown",
   "id": "8dd3b761-bfb2-4e64-9fca-bce33e62cf2b",
   "metadata": {},
   "source": [
    "Create the interactive version of the bar chart."
   ]
  },
  {
   "cell_type": "code",
   "execution_count": null,
   "id": "7b511128-fafb-44c1-9668-e879e453cf9d",
   "metadata": {},
   "outputs": [],
   "source": [
    "du_bois_for_bar.ibarh(\n",
    "    column_for_categories='CLASS',\n",
    "    title='W.E. Du Bois Income and Expenditure',\n",
    "    xaxis=dict(tickformat='0.1%')\n",
    ")"
   ]
  },
  {
   "cell_type": "markdown",
   "id": "66f70540-994c-4e16-a49b-581e524b32ea",
   "metadata": {},
   "source": [
    "Plotly has an easy way to stack the bars to create an overlaid bar chart."
   ]
  },
  {
   "cell_type": "code",
   "execution_count": null,
   "id": "0111fb6f-b635-4ff6-bdb3-695b0e2a91a6",
   "metadata": {},
   "outputs": [],
   "source": [
    "# barmode and xaxis are available with ibarh because they are a Plotly arguments\n",
    "fig = du_bois_for_bar.ibarh(\n",
    "    column_for_categories='CLASS',\n",
    "    barmode=\"stack\",\n",
    "    title='W.E. Du Bois Income and Expenditure',\n",
    "    xaxis=dict(tickformat='0.1%')\n",
    ")"
   ]
  },
  {
   "cell_type": "markdown",
   "id": "9f15ab02-031c-4aa3-a38f-7c6d1fc0c853",
   "metadata": {},
   "source": [
    "We are starting to get something that looks like Du Bois's visual, but let's stop there because this is optional for this class. If you like creating visualizations, try to read through the [Plotly documentation](https://plotly.com/python/) or [Matplotlib documentation](https://matplotlib.org/stable/api/index.html) to update the colors, add overlaid text, etc."
   ]
  },
  {
   "cell_type": "markdown",
   "id": "d26b81af-e423-4604-bf84-8cfc323cec4a",
   "metadata": {
    "slideshow": {
     "slide_type": "fragment"
    }
   },
   "source": [
    "---"
   ]
  },
  {
   "cell_type": "markdown",
   "id": "d5756e3f-ec5c-41f0-a7f4-5b6ed8c8ed5c",
   "metadata": {
    "slideshow": {
     "slide_type": "slide"
    }
   },
   "source": [
    "## Numerical Data"
   ]
  },
  {
   "cell_type": "markdown",
   "id": "01770ecf-ad43-4aeb-8bcc-9a12c29fe76e",
   "metadata": {},
   "source": [
    "---"
   ]
  },
  {
   "cell_type": "markdown",
   "id": "061ab72d-5ca0-427a-a6cf-8bbf4bce926b",
   "metadata": {
    "slideshow": {
     "slide_type": "subslide"
    }
   },
   "source": [
    "### Visualizing the Distribution of One Numerical Variable"
   ]
  },
  {
   "cell_type": "markdown",
   "id": "3bdca69a-06cf-47ba-986c-66caeb35411b",
   "metadata": {
    "slideshow": {
     "slide_type": "-"
    }
   },
   "source": [
    "Histograms `tbl.hist` are a standard way to visualize the distribution of one numerical variable.\n",
    "\n",
    "*Histograms will be focused on in the next lecture.*"
   ]
  },
  {
   "cell_type": "markdown",
   "id": "e7440daa-deb6-448c-9ee4-75f35b75ee87",
   "metadata": {},
   "source": [
    "---"
   ]
  },
  {
   "cell_type": "markdown",
   "id": "7241bb4f-4a43-44d4-82f3-05dbfa344d0d",
   "metadata": {
    "slideshow": {
     "slide_type": "subslide"
    }
   },
   "source": [
    "#### A Histogram"
   ]
  },
  {
   "cell_type": "code",
   "execution_count": null,
   "id": "aa7e899b-2ba1-46a3-a648-4fda46e3a7b3",
   "metadata": {
    "slideshow": {
     "slide_type": "-"
    }
   },
   "outputs": [],
   "source": [
    "top_movies.hist('Year', unit=\"Year\") \n",
    "\n",
    "# Some extra graph formatting you are not responsible for\n",
    "plt.title('Distribution of Total Gross')\n",
    "plt.show()"
   ]
  },
  {
   "cell_type": "markdown",
   "id": "8396e9c1-6188-45e4-97c8-54df018ce73a",
   "metadata": {},
   "source": [
    "---"
   ]
  },
  {
   "cell_type": "markdown",
   "id": "99d2304f-70d2-4589-ab7d-d11e8ab4d048",
   "metadata": {
    "slideshow": {
     "slide_type": "subslide"
    }
   },
   "source": [
    "### Plotting Two Numerical Variables"
   ]
  },
  {
   "cell_type": "markdown",
   "id": "66175719-9edc-4903-95da-e370b167be77",
   "metadata": {
    "slideshow": {
     "slide_type": "-"
    }
   },
   "source": [
    "Line graphs `tbl.plot` and Scatter plots `tbl.scatter` are standard ways to visualize the relationship of two numerical variables."
   ]
  },
  {
   "cell_type": "markdown",
   "id": "2cc67f4e-077a-4698-85c1-4e9476bd6181",
   "metadata": {},
   "source": [
    "---"
   ]
  },
  {
   "cell_type": "markdown",
   "id": "67aca60c-eecb-4163-9d4e-e0ccdb1d287a",
   "metadata": {
    "slideshow": {
     "slide_type": "subslide"
    }
   },
   "source": [
    "#### A Line Graph"
   ]
  },
  {
   "cell_type": "code",
   "execution_count": null,
   "id": "11db083a-9000-4591-8489-a2b9805e8fbd",
   "metadata": {},
   "outputs": [],
   "source": [
    "movies_per_year = top_movies.group('Year').relabeled('count', 'Number of Movies')\n",
    "movies_per_year.where('Year', are.above(1999)).plot('Year', 'Number of Movies') \n",
    "\n",
    "# Some extra graph formatting you are not responsible for\n",
    "plt.xticks(np.arange(2000, 2023, 5))\n",
    "plt.title('Number of Movies vs. Release Year')\n",
    "plt.show()"
   ]
  },
  {
   "cell_type": "markdown",
   "id": "a03cc1cd-87af-428e-b107-90cac669b1f0",
   "metadata": {},
   "source": [
    "---"
   ]
  },
  {
   "cell_type": "markdown",
   "id": "1544af7b-6835-49a4-a8f0-fd5f6a08e906",
   "metadata": {
    "hide_input": true,
    "slideshow": {
     "slide_type": "subslide"
    }
   },
   "source": [
    "#### A Scatter Plot"
   ]
  },
  {
   "cell_type": "code",
   "execution_count": null,
   "id": "14318f60-d1d5-4cb8-b17b-0281086fca06",
   "metadata": {
    "hide_input": false,
    "slideshow": {
     "slide_type": "-"
    }
   },
   "outputs": [],
   "source": [
    "actors = Table.read_table('actors.csv')\n",
    "actors.scatter('Number of Movies', 'Average per Movie')\n",
    "\n",
    "# Some extra graph formatting you are not responsible for\n",
    "plt.title('Average Pay per Movie (Thousands of Dollars) vs. Number of Movies')\n",
    "plt.show()"
   ]
  },
  {
   "cell_type": "markdown",
   "id": "9be69b98-dfed-48e1-b1a6-f9b9d3d2b488",
   "metadata": {},
   "source": [
    "---"
   ]
  },
  {
   "cell_type": "markdown",
   "id": "38f3a1da-1cee-49d1-9c4a-b2dc2a3b6b28",
   "metadata": {
    "slideshow": {
     "slide_type": "subslide"
    }
   },
   "source": [
    "### When to use a line vs scatter plot?"
   ]
  },
  {
   "cell_type": "markdown",
   "id": "1d299365-805d-439f-a481-5c88a23b909e",
   "metadata": {
    "slideshow": {
     "slide_type": "-"
    }
   },
   "source": [
    "* Use line plots for sequential data if:\n",
    "    * ... your x-axis has an order\n",
    "    * ... sequential differences in y values are meaningful\n",
    "    * ... there's only one y-value for each x-value\n",
    "* Usually: x-axis is time or distance\n",
    "* Use scatter plots for non-sequential data --- When you’re looking for associations\n"
   ]
  },
  {
   "cell_type": "markdown",
   "id": "38216f24-303b-413a-9784-2e5d15246caf",
   "metadata": {},
   "source": [
    "---"
   ]
  },
  {
   "cell_type": "markdown",
   "id": "d804be00-5936-4f98-84cc-894ad00526cd",
   "metadata": {
    "slideshow": {
     "slide_type": "subslide"
    }
   },
   "source": [
    "### Demo: Scatter Plots"
   ]
  },
  {
   "cell_type": "markdown",
   "id": "4e47c3e8-5e4f-4ff0-aeb1-8b53a928035e",
   "metadata": {
    "deletable": false,
    "editable": false,
    "slideshow": {
     "slide_type": "skip"
    }
   },
   "source": [
    "Visualize the relationship between the IMDb rating and the number of votes for the movies in `top_movies`."
   ]
  },
  {
   "cell_type": "code",
   "execution_count": null,
   "id": "7ab4a07c-d135-4235-9122-709ef02a512c",
   "metadata": {
    "tags": []
   },
   "outputs": [],
   "source": [
    "top_movies.show(3)"
   ]
  },
  {
   "cell_type": "code",
   "execution_count": null,
   "id": "b88eac6d-9920-4ec5-9072-8c5c5f2d40c7",
   "metadata": {
    "slideshow": {
     "slide_type": "subslide"
    },
    "tags": []
   },
   "outputs": [],
   "source": [
    "...\n",
    "\n",
    "# Some extra graph formatting you are not responsible for\n",
    "plt.title('IMDb Rating vs. Number of Votes')\n",
    "plt.show()"
   ]
  },
  {
   "cell_type": "markdown",
   "id": "164154a0-e9a8-412c-90cd-74f85a534082",
   "metadata": {},
   "source": [
    "---"
   ]
  },
  {
   "cell_type": "markdown",
   "id": "1a67b4cf-3057-4597-bcf8-f826e1a099ed",
   "metadata": {},
   "source": [
    "### [Optional] Demo: Interactive Scatter Plots"
   ]
  },
  {
   "cell_type": "markdown",
   "id": "d7c8869f-80f5-496e-96f9-402c2f90014c",
   "metadata": {
    "slideshow": {
     "slide_type": "skip"
    }
   },
   "source": [
    "Again, for all the visualization methods we use from the `datascience` library, if you put an `i` infront of the name of the visualization, you can access an interactive version of plot that is based on another visualization library called [Plotly](https://plotly.com/). You will not be tested on your knowledge of these interactive plots. You might find them helpful for exploring the data."
   ]
  },
  {
   "cell_type": "code",
   "execution_count": null,
   "id": "7a043201-1cf0-4578-987c-c079a5989afb",
   "metadata": {
    "slideshow": {
     "slide_type": "subslide"
    }
   },
   "outputs": [],
   "source": [
    "top_movies.iscatter(\n",
    "    column_for_x='IMDb Rating', \n",
    "    select='Num Votes', \n",
    "    labels='Title', \n",
    "    title='IMDb Rating vs. Number of Votes'\n",
    ")"
   ]
  },
  {
   "cell_type": "markdown",
   "id": "376003e6-bbab-48d6-b80f-b2d72a6fa976",
   "metadata": {
    "slideshow": {
     "slide_type": "fragment"
    }
   },
   "source": [
    "---"
   ]
  },
  {
   "cell_type": "markdown",
   "id": "33fc8b29-9b1e-4a3b-9598-5191456f454d",
   "metadata": {
    "slideshow": {
     "slide_type": "slide"
    }
   },
   "source": [
    "## Exploring Census Data"
   ]
  },
  {
   "cell_type": "markdown",
   "id": "48a93519-611b-4686-9aeb-12adf3171830",
   "metadata": {
    "slideshow": {
     "slide_type": "fragment"
    }
   },
   "source": [
    "---"
   ]
  },
  {
   "cell_type": "markdown",
   "id": "900368df-7f6b-47b4-ab9e-56e82f5dc3e8",
   "metadata": {
    "slideshow": {
     "slide_type": "subslide"
    }
   },
   "source": [
    "### The Decennial Census"
   ]
  },
  {
   "cell_type": "markdown",
   "id": "b5bcbb97-b6bd-41c6-9552-389c060a4b3d",
   "metadata": {
    "slideshow": {
     "slide_type": "-"
    }
   },
   "source": [
    "* Every ten years, the Census Bureau counts how many people there are in the U.S.\n",
    "* In between censuses, the Bureau estimates how many people there are each year.\n",
    "* Article 1, Section 2 of the Constitution: \n",
    "> \"Representatives and direct Taxes shall be apportioned among the several States ... according to their respective Numbers ...\"\n"
   ]
  },
  {
   "cell_type": "markdown",
   "id": "0aa4090d-917c-4091-b46c-494c162d00c7",
   "metadata": {
    "slideshow": {
     "slide_type": "fragment"
    }
   },
   "source": [
    "---"
   ]
  },
  {
   "cell_type": "markdown",
   "id": "ff4b8189-b1c5-4eff-b5f5-6b05319875fa",
   "metadata": {
    "slideshow": {
     "slide_type": "subslide"
    }
   },
   "source": [
    "### Census Table Description"
   ]
  },
  {
   "cell_type": "markdown",
   "id": "6a61b5a0-a9e7-48a7-a974-4fdc06db0fed",
   "metadata": {
    "slideshow": {
     "slide_type": "-"
    }
   },
   "source": [
    "* Values have column-dependent interpretations\n",
    "    * The `SEX` column: `1` is Male, `2` is Female\n",
    "    * The `POPESTIMATE2010` column: 7/1/2010 estimate\n",
    "* In this table, some rows are sums of other rows\n",
    "    * The `SEX` column: `0` is Total (of Male + Female)\n",
    "    * The `AGE` column: `999` is Total of all ages\n",
    "* Numeric codes are often used for storage efficiency\n",
    "    * Values in a column have the same type, but are not necessarily comparable (`AGE 12` vs `AGE 999`)"
   ]
  },
  {
   "cell_type": "markdown",
   "id": "4eab8b42-2230-4c75-90be-b8d14c596447",
   "metadata": {
    "slideshow": {
     "slide_type": "fragment"
    }
   },
   "source": [
    "---"
   ]
  },
  {
   "cell_type": "markdown",
   "id": "3e3edd80-655d-4d57-81d1-22222976801c",
   "metadata": {
    "slideshow": {
     "slide_type": "subslide"
    }
   },
   "source": [
    "### Demo: Census"
   ]
  },
  {
   "cell_type": "markdown",
   "id": "511f10a5-5770-4998-8858-421faf9d9e48",
   "metadata": {
    "slideshow": {
     "slide_type": "skip"
    }
   },
   "source": [
    "Explore the US Census data in `census.csv` from the [Annual Estimates of the Resident Population by Single Year of Age and Sex for the United States](https://www2.census.gov/programs-surveys/popest/technical-documentation/file-layouts/2010-2020/cc-est2020-agesex.pdf). \n",
    "\n",
    "(Release date: June 2021, Updated January 2022 to include April 1, 2020 estimates)"
   ]
  },
  {
   "cell_type": "code",
   "execution_count": null,
   "id": "3f834b11-9d06-49a6-91b9-f0a2912c6641",
   "metadata": {},
   "outputs": [],
   "source": [
    "census = Table.read_table('census.csv')\n",
    "census"
   ]
  },
  {
   "cell_type": "markdown",
   "id": "5d330c41-4f64-4f98-85cc-32733687e043",
   "metadata": {},
   "source": [
    "---"
   ]
  },
  {
   "cell_type": "markdown",
   "id": "8ae72e39-d6ba-4a98-80e5-c522ee04f4eb",
   "metadata": {
    "deletable": false,
    "editable": false,
    "slideshow": {
     "slide_type": "skip"
    }
   },
   "source": [
    "Clean up the table by completing the following:\n",
    "1. Select the `SEX`, `AGE`, `CENSUS2010POP`, and `POPESTIMATE2019` columns.\n",
    "2. Relabel the 2010 and 2019 columns.\n",
    "3. Remove the 999 ages and focus just on the combined data where the `SEX` value is 0. Drop the `SEX` column since there is only one value there."
   ]
  },
  {
   "cell_type": "code",
   "execution_count": null,
   "id": "93cbede9-6eff-49be-ba25-daea5eea5bd3",
   "metadata": {
    "slideshow": {
     "slide_type": "subslide"
    },
    "tags": []
   },
   "outputs": [],
   "source": [
    "census_reduced = ...\n",
    "census_relabeled = ...\n",
    "census_no_999 = ...\n",
    "everyone = ...\n",
    "everyone"
   ]
  },
  {
   "cell_type": "markdown",
   "id": "5ce3570c-c81a-4997-9e57-2ecb68ccf367",
   "metadata": {},
   "source": [
    "---"
   ]
  },
  {
   "cell_type": "markdown",
   "id": "38b4c151-b60a-4b5d-9939-705407ca56ae",
   "metadata": {},
   "source": [
    "### Demo: Line Plots"
   ]
  },
  {
   "cell_type": "markdown",
   "id": "23f8f653-25ef-4eb5-b4a1-b0d7430f3ecd",
   "metadata": {
    "deletable": false,
    "editable": false,
    "slideshow": {
     "slide_type": "skip"
    }
   },
   "source": [
    "Visualize the relationship between age and population size in 2010."
   ]
  },
  {
   "cell_type": "code",
   "execution_count": null,
   "id": "cae95e46-64a8-42bf-a36a-23b15a2c30b2",
   "metadata": {
    "slideshow": {
     "slide_type": "subslide"
    },
    "tags": []
   },
   "outputs": [],
   "source": [
    "...\n",
    "\n",
    "# Some extra graph formatting you are not responsible for\n",
    "plt.title('US Population Size') \n",
    "plt.show()"
   ]
  },
  {
   "cell_type": "markdown",
   "id": "de24a160-fa82-4405-8906-91927764b62a",
   "metadata": {},
   "source": [
    "---"
   ]
  },
  {
   "cell_type": "markdown",
   "id": "4e35ed3e-e576-4c9e-8d07-249e35b642b9",
   "metadata": {
    "deletable": false,
    "editable": false,
    "slideshow": {
     "slide_type": "skip"
    }
   },
   "source": [
    "Include lines for both 2010 and the estimated 2019 population sizes."
   ]
  },
  {
   "cell_type": "code",
   "execution_count": null,
   "id": "481e43ea-5c7d-4bc3-8c9c-5a690f5c7996",
   "metadata": {
    "slideshow": {
     "slide_type": "subslide"
    },
    "tags": []
   },
   "outputs": [],
   "source": [
    "...\n",
    "\n",
    "# Some extra graph formatting you are not responsible for\n",
    "plt.title('US Population Size') \n",
    "plt.show()"
   ]
  },
  {
   "cell_type": "markdown",
   "id": "a31532b9-dfb7-4d00-ac5f-2164ba2925a3",
   "metadata": {},
   "source": [
    "---"
   ]
  },
  {
   "cell_type": "markdown",
   "id": "f1b81493-2d40-4f07-bf4e-45e326e90c1d",
   "metadata": {
    "slideshow": {
     "slide_type": "subslide"
    }
   },
   "source": [
    "### Demo: Male and Female 2019 Estimates"
   ]
  },
  {
   "cell_type": "markdown",
   "id": "82fa9ef7-f77d-40ff-aed1-444d55cff6ab",
   "metadata": {
    "deletable": false,
    "editable": false,
    "slideshow": {
     "slide_type": "skip"
    }
   },
   "source": [
    "Create a table with `Age`, `Males`, `Females` columns showing the population estimates in 2019 for males and females by age."
   ]
  },
  {
   "cell_type": "code",
   "execution_count": null,
   "id": "d3c5b84c-73d0-451e-9a7c-821e446e0fb1",
   "metadata": {
    "slideshow": {
     "slide_type": "subslide"
    },
    "tags": []
   },
   "outputs": [],
   "source": [
    "males = ...\n",
    "females = ...\n",
    "pop_2019 = ...\n",
    "pop_2019"
   ]
  },
  {
   "cell_type": "markdown",
   "id": "26ae97dc-6f39-4377-a90d-02e1dfd3d281",
   "metadata": {},
   "source": [
    "---"
   ]
  },
  {
   "cell_type": "markdown",
   "id": "26a7d8bb-9287-4237-994f-f4666047e0f0",
   "metadata": {
    "deletable": false,
    "editable": false,
    "slideshow": {
     "slide_type": "skip"
    }
   },
   "source": [
    "Visualize the distribution of of population size for both males and females."
   ]
  },
  {
   "cell_type": "code",
   "execution_count": null,
   "id": "09479c4e-27cb-484f-99de-24443267a6c4",
   "metadata": {
    "slideshow": {
     "slide_type": "subslide"
    },
    "tags": []
   },
   "outputs": [],
   "source": [
    "...\n",
    "\n",
    "# Some extra graph formatting you are not responsible for\n",
    "plt.title('2019 Population Size Estimates')\n",
    "plt.show()"
   ]
  },
  {
   "cell_type": "markdown",
   "id": "cc76be62-4be7-494a-93be-23bdc404383d",
   "metadata": {},
   "source": [
    "---"
   ]
  },
  {
   "cell_type": "markdown",
   "id": "de195677-be93-446a-b235-d1b58793159f",
   "metadata": {
    "deletable": false,
    "editable": false,
    "slideshow": {
     "slide_type": "skip"
    }
   },
   "source": [
    "Calculate the percent female for each age"
   ]
  },
  {
   "cell_type": "code",
   "execution_count": null,
   "id": "41ae8113-a7e3-4512-8598-a67b09bb35cb",
   "metadata": {
    "slideshow": {
     "slide_type": "subslide"
    },
    "tags": []
   },
   "outputs": [],
   "source": [
    "total = ...\n",
    "pct_female = ...\n",
    "pct_female"
   ]
  },
  {
   "cell_type": "code",
   "execution_count": null,
   "id": "a804f811-6cb1-4aec-b3cf-d8fbdba761f8",
   "metadata": {
    "slideshow": {
     "slide_type": "subslide"
    },
    "tags": []
   },
   "outputs": [],
   "source": [
    "pct_female = ...\n",
    "pct_female"
   ]
  },
  {
   "cell_type": "markdown",
   "id": "7f77fc4c-0934-4fcd-9e2c-528ea7d41108",
   "metadata": {},
   "source": [
    "---"
   ]
  },
  {
   "cell_type": "markdown",
   "id": "f41c5bd6-87d1-4eb5-8a92-54be5eb24687",
   "metadata": {
    "deletable": false,
    "editable": false,
    "slideshow": {
     "slide_type": "skip"
    }
   },
   "source": [
    "Add female percent to our table"
   ]
  },
  {
   "cell_type": "code",
   "execution_count": null,
   "id": "d2d5c056-47d4-4f3b-ae3f-9774e1db60c0",
   "metadata": {
    "slideshow": {
     "slide_type": "subslide"
    },
    "tags": []
   },
   "outputs": [],
   "source": [
    "pop_2019 = ...\n",
    "pop_2019"
   ]
  },
  {
   "cell_type": "markdown",
   "id": "f4f642ec-cbe6-44b7-b955-fd8e54639674",
   "metadata": {},
   "source": [
    "---"
   ]
  },
  {
   "cell_type": "markdown",
   "id": "d2fd283b-e280-4b26-928e-6a3fc9367124",
   "metadata": {
    "deletable": false,
    "editable": false,
    "slideshow": {
     "slide_type": "skip"
    }
   },
   "source": [
    "Visualize the relationship between age and the percent of the population that is female."
   ]
  },
  {
   "cell_type": "code",
   "execution_count": null,
   "id": "0d1cdba2-6186-458a-aed1-da00797fa1f3",
   "metadata": {
    "slideshow": {
     "slide_type": "subslide"
    },
    "tags": []
   },
   "outputs": [],
   "source": [
    "...\n",
    "\n",
    "# Some extra graph formatting you are not responsible for\n",
    "plt.title('Female Population Percentage over Age')\n",
    "plt.show()"
   ]
  },
  {
   "cell_type": "code",
   "execution_count": null,
   "id": "76d2acad-f533-4029-9d37-3962fb2fde5c",
   "metadata": {
    "slideshow": {
     "slide_type": "subslide"
    },
    "tags": []
   },
   "outputs": [],
   "source": [
    "...\n",
    "\n",
    "# Some extra graph formatting you are not responsible for\n",
    "plt.ylim(0, 100)\n",
    "plt.title('Female Population Percentage over Age')\n",
    "plt.show()"
   ]
  },
  {
   "cell_type": "markdown",
   "id": "6b7df663-60f7-44f9-9490-147cb1df6f1d",
   "metadata": {},
   "source": [
    "---"
   ]
  },
  {
   "cell_type": "markdown",
   "id": "459cc6e9-a0e4-4e27-9b82-904fd85351b7",
   "metadata": {
    "slideshow": {
     "slide_type": "notes"
    }
   },
   "source": [
    "<footer>\n",
    "    <p>Adopted from UC Berkeley DATA 8 course materials.</p>\n",
    "    <p>This content is offered under a <a href=\"https://creativecommons.org/licenses/by-nc-sa/4.0/\">CC Attribution Non-Commercial Share Alike</a> license.</p>\n",
    "</footer>"
   ]
  }
 ],
 "metadata": {
  "kernelspec": {
   "display_name": "Python 3 (ipykernel)",
   "language": "python",
   "name": "python3"
  },
  "language_info": {
   "codemirror_mode": {
    "name": "ipython",
    "version": 3
   },
   "file_extension": ".py",
   "mimetype": "text/x-python",
   "name": "python",
   "nbconvert_exporter": "python",
   "pygments_lexer": "ipython3",
   "version": "3.10.12"
  },
  "otter": {
   "OK_FORMAT": true,
   "tests": {}
  }
 },
 "nbformat": 4,
 "nbformat_minor": 5
}
