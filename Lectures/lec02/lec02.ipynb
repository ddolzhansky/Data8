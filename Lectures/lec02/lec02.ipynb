{
 "cells": [
  {
   "cell_type": "markdown",
   "id": "6ac610d8-cfbc-447d-9b62-66550bb5fb85",
   "metadata": {
    "editable": true,
    "slideshow": {
     "slide_type": "slide"
    },
    "tags": []
   },
   "source": [
    "<div style=\"width: 38.5%;\">\n",
    "    <p><strong>City College of San Francisco</strong><p>\n",
    "    <hr>\n",
    "    <p>MATH 108 - Foundations of Data Science</p>\n",
    "</div>"
   ]
  },
  {
   "cell_type": "markdown",
   "id": "675a0324-65cc-4c4a-8a9a-c74e5972a3d4",
   "metadata": {
    "editable": true,
    "slideshow": {
     "slide_type": ""
    },
    "tags": []
   },
   "source": [
    "# Lecture 02: Cause and Effect"
   ]
  },
  {
   "cell_type": "markdown",
   "id": "a9f974ad-7477-48c8-9685-15b7a8997c5d",
   "metadata": {
    "editable": true,
    "slideshow": {
     "slide_type": ""
    },
    "tags": []
   },
   "source": [
    "Associated Textbook Sections: [2.0, 2.1, 2.2, 2.3. 2.4, 2.5](https://inferentialthinking.com/chapters/02/causality-and-experiments.html)"
   ]
  },
  {
   "cell_type": "markdown",
   "id": "b390d7f9-60ff-4cd0-ac1e-89fa4f25aef9",
   "metadata": {
    "editable": true,
    "slideshow": {
     "slide_type": "fragment"
    },
    "tags": []
   },
   "source": [
    "---"
   ]
  },
  {
   "cell_type": "markdown",
   "id": "c3a8f6fe-af4e-4a81-9065-038711dade94",
   "metadata": {
    "editable": true,
    "slideshow": {
     "slide_type": "slide"
    },
    "tags": []
   },
   "source": [
    "## Overview"
   ]
  },
  {
   "cell_type": "markdown",
   "id": "d8b5b42a-24e2-4a3d-aeb5-e6d3c5def2e5",
   "metadata": {
    "editable": true,
    "slideshow": {
     "slide_type": ""
    },
    "tags": []
   },
   "source": [
    "* [Associations](#Associations)\n",
    "* [A Data Science Origin Story](#A-Data-Science-Origin-Story)\n",
    "* [Causation](#Causation)\n",
    "* [Confounding Variables](#Confounding-Variables)\n",
    "* [Randomized Controlled Experiments](#Randomized-Controlled-Experiments)"
   ]
  },
  {
   "cell_type": "markdown",
   "id": "c5c79ea2-d704-4eb1-9839-8ebbf5a33cf7",
   "metadata": {
    "editable": true,
    "slideshow": {
     "slide_type": "fragment"
    },
    "tags": []
   },
   "source": [
    "---"
   ]
  },
  {
   "cell_type": "markdown",
   "id": "b230a3ee-ae07-41bf-a4fb-df86bb1990f6",
   "metadata": {
    "editable": true,
    "slideshow": {
     "slide_type": "slide"
    },
    "tags": []
   },
   "source": [
    "## Associations"
   ]
  },
  {
   "cell_type": "markdown",
   "id": "378384bf-4d1e-4a88-b99b-72954a4e3f2e",
   "metadata": {
    "editable": true,
    "slideshow": {
     "slide_type": "fragment"
    },
    "tags": []
   },
   "source": [
    "---"
   ]
  },
  {
   "cell_type": "markdown",
   "id": "f08b875c-0d4a-42e9-94cd-95e5ebb31b2b",
   "metadata": {
    "editable": true,
    "slideshow": {
     "slide_type": "subslide"
    },
    "tags": []
   },
   "source": [
    "### Headline"
   ]
  },
  {
   "cell_type": "markdown",
   "id": "cba01e2b-6407-4e09-b885-ae7815eec248",
   "metadata": {
    "editable": true,
    "slideshow": {
     "slide_type": ""
    },
    "tags": []
   },
   "source": [
    "📢 \"Regularly Eating Chocolate Is Linked to 8 Percent Lower Heart Attack Risk\" - [everydayhealth.com](https://www.everydayhealth.com/diet-nutrition/eating-chocolate-regularly-linked-to-lower-heart-attack-risk)"
   ]
  },
  {
   "cell_type": "markdown",
   "id": "2177a0e6-07b8-40dd-932c-61879be132d2",
   "metadata": {
    "editable": true,
    "slideshow": {
     "slide_type": "-"
    },
    "tags": []
   },
   "source": [
    "<a href=\"https://www.everydayhealth.com/diet-nutrition/eating-chocolate-regularly-linked-to-lower-heart-attack-risk\" title=\"Everyday Health chocolate article\"><img src=\"./chocolate.jpeg\" alt=\"Two heart symbols overlapped\" width = 40%></a>"
   ]
  },
  {
   "cell_type": "markdown",
   "id": "37443164-7b88-407f-9a0b-1e1b4dbc34c6",
   "metadata": {
    "editable": true,
    "slideshow": {
     "slide_type": "fragment"
    },
    "tags": []
   },
   "source": [
    "---"
   ]
  },
  {
   "cell_type": "markdown",
   "id": "83bc027e-d2e3-41a1-889a-7846522da739",
   "metadata": {
    "editable": true,
    "slideshow": {
     "slide_type": "subslide"
    },
    "tags": []
   },
   "source": [
    "### A Headline Source"
   ]
  },
  {
   "cell_type": "markdown",
   "id": "2ea49b87-8f16-4e5d-b844-347888d7052f",
   "metadata": {
    "editable": true,
    "slideshow": {
     "slide_type": ""
    },
    "tags": []
   },
   "source": [
    "* Headlines are created to capture our attention.\n",
    "* Sometimes headlines are created from actual studies, and sometimes they are not.\n",
    "* This headline has a [study from the European Journal of Preventive Cardiology](https://heart.bmj.com/content/101/16/1279) as the source."
   ]
  },
  {
   "cell_type": "markdown",
   "id": "3ee7491b-a0d4-4899-a1c4-17eaeade3fa9",
   "metadata": {
    "editable": true,
    "slideshow": {
     "slide_type": "fragment"
    },
    "tags": []
   },
   "source": [
    "---"
   ]
  },
  {
   "cell_type": "markdown",
   "id": "f1a05d2a-ed55-443b-b4c4-40c46a11d984",
   "metadata": {
    "editable": true,
    "slideshow": {
     "slide_type": "subslide"
    },
    "tags": []
   },
   "source": [
    "### Study Observations\n"
   ]
  },
  {
   "cell_type": "markdown",
   "id": "dea11b96-cb77-43c9-af4c-70f8a865b944",
   "metadata": {
    "editable": true,
    "slideshow": {
     "slide_type": ""
    },
    "tags": []
   },
   "source": [
    "* Meta-Study: Combines the results from several studies\n",
    "* Individuals: Study subjects, participants, units, etc.\n",
    "    * 336,289 US, Swedish, and Australian adults from several studies\n",
    "* Treatment: A specific intervention or condition that is applied to individuals\n",
    "    * Chocolate consumption\n",
    "* Outcome: A variable or event that researchers measure or observe to assess the effects of the treatment(s)\n",
    "    * Coronary heart disease risk"
   ]
  },
  {
   "cell_type": "markdown",
   "id": "16e02de6-72c1-430c-ba2a-757d613fc0a0",
   "metadata": {
    "slideshow": {
     "slide_type": "fragment"
    },
    "tags": []
   },
   "source": [
    "---"
   ]
  },
  {
   "cell_type": "markdown",
   "id": "55b6201a-b1d0-4a42-a857-8090cc3b59c6",
   "metadata": {
    "editable": true,
    "slideshow": {
     "slide_type": "subslide"
    },
    "tags": []
   },
   "source": [
    "### An Initial Question"
   ]
  },
  {
   "cell_type": "markdown",
   "id": "b43ec28d-ffcc-440e-a8f7-906d0ec5d923",
   "metadata": {
    "editable": true,
    "slideshow": {
     "slide_type": ""
    },
    "tags": []
   },
   "source": [
    "Is there an association between chocolate consumption and heart disease risk?"
   ]
  },
  {
   "cell_type": "markdown",
   "id": "2cf00ae0-cd9a-40bd-a160-2d2c3ea6763f",
   "metadata": {
    "editable": true,
    "slideshow": {
     "slide_type": "fragment"
    },
    "tags": []
   },
   "source": [
    "Yes, the reviewed article in the European Journal of Preventive Cardiology concludes that those consumed chocolate more than 1 time per week or more than 3.5 times per month were associated with fewer cases of heart disease compared with those that didn't.\n"
   ]
  },
  {
   "cell_type": "markdown",
   "id": "eb014348-a1aa-4e05-a977-195cba99443c",
   "metadata": {
    "slideshow": {
     "slide_type": "fragment"
    },
    "tags": []
   },
   "source": [
    "---"
   ]
  },
  {
   "cell_type": "markdown",
   "id": "6f196d9e-4d2f-4043-b631-9ac0d97653de",
   "metadata": {
    "editable": true,
    "slideshow": {
     "slide_type": "subslide"
    },
    "tags": []
   },
   "source": [
    "### A Follow Up Question"
   ]
  },
  {
   "cell_type": "markdown",
   "id": "1ab88000-dbf6-4a89-b5ac-3dca325b4605",
   "metadata": {
    "editable": true,
    "slideshow": {
     "slide_type": ""
    },
    "tags": []
   },
   "source": [
    "Does chocolate consumption **lead to** a reduction in heart disease?"
   ]
  },
  {
   "cell_type": "markdown",
   "id": "b2ca95b4-2176-4d0a-98fe-35fa8cf525e9",
   "metadata": {
    "editable": true,
    "slideshow": {
     "slide_type": "fragment"
    },
    "tags": []
   },
   "source": [
    "This question is often harder to answer and refers to the concept of *causality*."
   ]
  },
  {
   "cell_type": "markdown",
   "id": "f274256f-9504-4c87-b9f5-9ce399357861",
   "metadata": {
    "editable": true,
    "slideshow": {
     "slide_type": "fragment"
    },
    "tags": []
   },
   "source": [
    "No, there are several factors that could explain why fewer people that consumed chocolate regularly developed heart disease. For example, better health care access could explain financial freedom to consume more foods like chocolate and explain less cases of heart disease.\n",
    "\n",
    "> “Dr. Alice Lichtenstein, an American Heart Association volunteer and professor of nutrition science and policy at Tufts University, was more skeptical of the findings.”"
   ]
  },
  {
   "cell_type": "markdown",
   "id": "bea1cc09-19dd-4383-9ad4-582cfed81c5a",
   "metadata": {
    "slideshow": {
     "slide_type": "fragment"
    },
    "tags": []
   },
   "source": [
    "---"
   ]
  },
  {
   "cell_type": "markdown",
   "id": "be80cdef-f5cf-492b-859b-62931b4a4b3a",
   "metadata": {
    "editable": true,
    "slideshow": {
     "slide_type": "subslide"
    },
    "tags": []
   },
   "source": [
    "### Association and Causality"
   ]
  },
  {
   "cell_type": "markdown",
   "id": "8ee92b21-7cb5-4695-a07e-831603c9ffef",
   "metadata": {
    "editable": true,
    "slideshow": {
     "slide_type": ""
    },
    "tags": []
   },
   "source": [
    "Does the treatment affect the outcome?\n",
    "* Association: Any relationship between treatment and outcome\n",
    "* Causality: Treatment caused the outcome"
   ]
  },
  {
   "cell_type": "markdown",
   "id": "976f4a73-ff01-46e2-8bad-e0e661e8d798",
   "metadata": {
    "slideshow": {
     "slide_type": "fragment"
    },
    "tags": []
   },
   "source": [
    "---"
   ]
  },
  {
   "cell_type": "markdown",
   "id": "839bbbac-4589-4f47-b0ef-d969f01de957",
   "metadata": {
    "editable": true,
    "slideshow": {
     "slide_type": "subslide"
    },
    "tags": []
   },
   "source": [
    "### Two Study Designs"
   ]
  },
  {
   "cell_type": "markdown",
   "id": "97fc9eb3-4cb1-4d96-aff6-1bd6e51ad6f1",
   "metadata": {
    "editable": true,
    "slideshow": {
     "slide_type": ""
    },
    "tags": []
   },
   "source": [
    "At a basic level, we will consider two types of study designs for collecting and analyzing data:\n",
    "\n",
    "* **Observational Studies**: Observing outcomes without intervening or manipulating variables.\n",
    "* **Experiments**: Manipulating variables to observe the effect on outcomes.\n",
    "\n",
    "There are several sub-categories of observational studies and experiments that you will encounter in this class."
   ]
  },
  {
   "cell_type": "markdown",
   "id": "f9618871-e070-4680-8d60-3fe4a7da1c05",
   "metadata": {
    "editable": true,
    "slideshow": {
     "slide_type": "fragment"
    },
    "tags": []
   },
   "source": [
    "**At a high-level, the chocolate study is an observational study and we can only conclude with associations.**"
   ]
  },
  {
   "cell_type": "markdown",
   "id": "179adade-5341-4360-8f27-ebb375488d96",
   "metadata": {
    "slideshow": {
     "slide_type": "fragment"
    },
    "tags": []
   },
   "source": [
    "---"
   ]
  },
  {
   "cell_type": "markdown",
   "id": "2d851658-f43a-41c8-bd16-0a1bbba56e42",
   "metadata": {
    "editable": true,
    "slideshow": {
     "slide_type": "slide"
    },
    "tags": []
   },
   "source": [
    "## A Data Science Origin Story\n",
    "\n"
   ]
  },
  {
   "cell_type": "markdown",
   "id": "83279c80-0c93-4fcf-906a-1d0e65ee1b86",
   "metadata": {
    "slideshow": {
     "slide_type": "fragment"
    },
    "tags": []
   },
   "source": [
    "---"
   ]
  },
  {
   "cell_type": "markdown",
   "id": "c6d0a935-ecdf-4e27-b2cc-acf3b1c844d3",
   "metadata": {
    "editable": true,
    "slideshow": {
     "slide_type": "subslide"
    },
    "tags": []
   },
   "source": [
    "### London, Early 1850’s"
   ]
  },
  {
   "cell_type": "markdown",
   "id": "69cf094c-456a-4b44-9f9d-96211ddb7aea",
   "metadata": {
    "editable": true,
    "slideshow": {
     "slide_type": ""
    },
    "tags": []
   },
   "source": [
    "<a href=\"https://en.wikipedia.org/wiki/1854_Broad_Street_cholera_outbreak\" title=\"Wikipedia - 1954 Broad Street Cholera Outbreak\"><img src=\"./punch_a_court_for_king_cholera.png\" alt=\"A street scene drawing of London in 1954\" width = 40%></a>"
   ]
  },
  {
   "cell_type": "markdown",
   "id": "36ff1508-9cb9-45d3-86ec-a3a87f3008b2",
   "metadata": {
    "slideshow": {
     "slide_type": "fragment"
    },
    "tags": []
   },
   "source": [
    "---"
   ]
  },
  {
   "cell_type": "markdown",
   "id": "e9b1ef4a-dfe4-49f9-8cc5-acde6482d79a",
   "metadata": {
    "editable": true,
    "slideshow": {
     "slide_type": "subslide"
    },
    "tags": []
   },
   "source": [
    "### Miasmas, Miasmatism, Miasmatists"
   ]
  },
  {
   "cell_type": "markdown",
   "id": "cd236df4-5766-483d-aa1b-48a26efc3e49",
   "metadata": {
    "editable": true,
    "slideshow": {
     "slide_type": ""
    },
    "tags": []
   },
   "source": [
    "Why are so many people dying?"
   ]
  },
  {
   "cell_type": "markdown",
   "id": "50786589-2253-416d-b80c-084a281c623b",
   "metadata": {
    "editable": true,
    "slideshow": {
     "slide_type": "fragment"
    },
    "tags": []
   },
   "source": [
    "At the time, some believed:\n",
    "\n",
    "* Bad smells given off by waste and rotting matter\n",
    "* Believed to be the main source of disease"
   ]
  },
  {
   "cell_type": "markdown",
   "id": "6f93dcc7-afff-4614-8cd3-7927af8c5e7c",
   "metadata": {
    "editable": true,
    "slideshow": {
     "slide_type": "fragment"
    },
    "tags": []
   },
   "source": [
    "Staunch believers:\n",
    "* Florence Nightingale (founder of modern nursing)\n",
    "* Edwin Chadwick (Commissioner of the General Board of Health)"
   ]
  },
  {
   "cell_type": "markdown",
   "id": "08d52e16-32e8-4029-80c1-85b5bc85e0df",
   "metadata": {
    "slideshow": {
     "slide_type": "fragment"
    },
    "tags": []
   },
   "source": [
    "---"
   ]
  },
  {
   "cell_type": "markdown",
   "id": "8b48c50a-45aa-4b7f-994c-ac2c9dc4ceba",
   "metadata": {
    "editable": true,
    "slideshow": {
     "slide_type": "subslide"
    },
    "tags": []
   },
   "source": [
    "### Suggested Remedies"
   ]
  },
  {
   "cell_type": "markdown",
   "id": "f98f9ca4-3128-4457-bf12-0569568fcbb1",
   "metadata": {
    "editable": true,
    "slideshow": {
     "slide_type": ""
    },
    "tags": []
   },
   "source": [
    "How do we prevent people from dying at this alarming rate?"
   ]
  },
  {
   "cell_type": "markdown",
   "id": "ebd5c910-36b6-457a-9d3b-7d8e143d1863",
   "metadata": {
    "slideshow": {
     "slide_type": "fragment"
    },
    "tags": []
   },
   "source": [
    "---"
   ]
  },
  {
   "cell_type": "markdown",
   "id": "0cc1697f-d1e0-44a4-9bb1-27431d3c3431",
   "metadata": {
    "editable": true,
    "slideshow": {
     "slide_type": "subslide"
    },
    "tags": []
   },
   "source": [
    "#### Cholera, around 1850"
   ]
  },
  {
   "cell_type": "markdown",
   "id": "f4e67c71-f670-4c96-a01b-0503aefe56f0",
   "metadata": {
    "editable": true,
    "slideshow": {
     "slide_type": ""
    },
    "tags": []
   },
   "source": [
    "* fly to clene air\n",
    "* a pocket full o’posies\n",
    "* fire off barrels of gunpowder"
   ]
  },
  {
   "cell_type": "markdown",
   "id": "1203f030-e891-416c-b35f-6480292e423b",
   "metadata": {
    "editable": true,
    "slideshow": {
     "slide_type": "fragment"
    },
    "tags": []
   },
   "source": [
    "This might seem strange ..."
   ]
  },
  {
   "cell_type": "markdown",
   "id": "e0a418aa-82ae-4b47-b979-918eacac0866",
   "metadata": {
    "slideshow": {
     "slide_type": "fragment"
    },
    "tags": []
   },
   "source": [
    "---"
   ]
  },
  {
   "cell_type": "markdown",
   "id": "0c74cc89-3ac1-4457-b0d1-f510205b0dfd",
   "metadata": {
    "editable": true,
    "slideshow": {
     "slide_type": "subslide"
    },
    "tags": []
   },
   "source": [
    "#### COVID-19, Starting in 2020"
   ]
  },
  {
   "cell_type": "markdown",
   "id": "44b12ca5-ee6c-40d8-9dd0-de3e8604a0ba",
   "metadata": {
    "editable": true,
    "slideshow": {
     "slide_type": ""
    },
    "tags": []
   },
   "source": [
    "* Sunlight\n",
    "* Inject disinfectant\n",
    "* Hydroxychloroquine\n",
    "* Take 6 deep breaths, then cough while covering mouth\n",
    "* Cannabis, cocaine, mangoes, onion, garlic, drinking water every 15 minutes, tea, eating ice cream, avoiding ice cream"
   ]
  },
  {
   "cell_type": "markdown",
   "id": "4efb704e-0968-4533-81be-0692ce37d611",
   "metadata": {
    "slideshow": {
     "slide_type": "fragment"
    },
    "tags": []
   },
   "source": [
    "---"
   ]
  },
  {
   "cell_type": "markdown",
   "id": "4ab7b3b8-7b6e-48ed-8cfd-3209ba0582ac",
   "metadata": {
    "editable": true,
    "slideshow": {
     "slide_type": "subslide"
    },
    "tags": []
   },
   "source": [
    "### John Snow, 1813-1858"
   ]
  },
  {
   "cell_type": "markdown",
   "id": "8ee8be32-e184-4987-87fe-5d7deedb7f35",
   "metadata": {
    "editable": true,
    "slideshow": {
     "slide_type": "-"
    },
    "tags": []
   },
   "source": [
    "<a href=\"https://en.wikipedia.org/wiki/John_Snow\" title=\"John Snow\"><img src=\"./john_snow.jpeg\" alt=\"John Snow\" width = 15%></a>"
   ]
  },
  {
   "cell_type": "markdown",
   "id": "4a7c1789-9f0c-493c-9578-77f32009a45c",
   "metadata": {
    "slideshow": {
     "slide_type": "fragment"
    },
    "tags": []
   },
   "source": [
    "---"
   ]
  },
  {
   "cell_type": "markdown",
   "id": "e2cbf498-46aa-422b-b704-a0ad2fae24ff",
   "metadata": {
    "editable": true,
    "slideshow": {
     "slide_type": "subslide"
    },
    "tags": []
   },
   "source": [
    "### Cholera Map"
   ]
  },
  {
   "cell_type": "markdown",
   "id": "804630f7-6f16-4032-9f62-e0efed6e921e",
   "metadata": {
    "editable": true,
    "slideshow": {
     "slide_type": "-"
    },
    "tags": []
   },
   "source": [
    "<a href=\"https://www.nationalgeographic.org/activity/mapping-london-epidemic\" title=\"National Geographic - Mapping A London Epidemic\"><img src=\"./cholera_map.jpeg\" alt=\"John Snow's map showing a neighborhood's streets and buildings with tallies of deaths on the buildings.\" width = 40%></a>"
   ]
  },
  {
   "cell_type": "markdown",
   "id": "e6eafd24-862c-468e-a4cd-d644936f9961",
   "metadata": {
    "editable": true,
    "slideshow": {
     "slide_type": "fragment"
    },
    "tags": []
   },
   "source": [
    "According to the National Geographic Society, \n",
    "\n",
    "> \"This map of London was created by John Snow in 1854. London was experiencing a deadly cholera epidemic, when Snow tracked the cases on this map. The cholera cases are highlighted in black. Using this map, Snow and other scientists were able to trace the cholera outbreak to a single infected water pump.\""
   ]
  },
  {
   "cell_type": "markdown",
   "id": "29efe019-a6cc-4144-ad44-b4c83b719b6f",
   "metadata": {
    "slideshow": {
     "slide_type": "fragment"
    },
    "tags": []
   },
   "source": [
    "---"
   ]
  },
  {
   "cell_type": "markdown",
   "id": "c096b447-2f34-42d2-a262-5a3872834736",
   "metadata": {
    "editable": true,
    "slideshow": {
     "slide_type": "subslide"
    },
    "tags": []
   },
   "source": [
    "### The Broad Street Pump"
   ]
  },
  {
   "cell_type": "code",
   "execution_count": null,
   "id": "b74170a8-d839-41ae-8a14-bf491909841d",
   "metadata": {
    "editable": true,
    "hide_input": true,
    "slideshow": {
     "slide_type": ""
    },
    "tags": []
   },
   "outputs": [],
   "source": [
    "from IPython.display import IFrame\n",
    "IFrame(src=\"https://www.google.com/maps/embed?pb=!1m18!1m12!1m3!1d2482.9971371478814!2d-\\\n",
    "            0.13879218398430104!3d51.51326851809472!2m3!1f0!2f0!3f0!3m2!1i1024!2i768!4f13\\\n",
    "            .1!3m3!1m2!1s0x487604d4eb49ec6d%3A0xc4ff84518f83499d!2sJohn%20Snow!5e0!3m2!1\\\n",
    "            sen!2sus!4v1642117611191!5m2!1sen!2sus\", \n",
    "       width=800, height=600)"
   ]
  },
  {
   "cell_type": "markdown",
   "id": "797d6de1-b6b5-4d71-9255-af22bb5e7234",
   "metadata": {
    "slideshow": {
     "slide_type": "fragment"
    },
    "tags": []
   },
   "source": [
    "---"
   ]
  },
  {
   "cell_type": "markdown",
   "id": "4c91b0ff-3baa-43ee-80fd-6fdf3783c527",
   "metadata": {
    "editable": true,
    "slideshow": {
     "slide_type": "slide"
    },
    "tags": []
   },
   "source": [
    "## Causation"
   ]
  },
  {
   "cell_type": "markdown",
   "id": "f1b1594f-b418-4e7f-b178-d7b18597f691",
   "metadata": {
    "slideshow": {
     "slide_type": "fragment"
    },
    "tags": []
   },
   "source": [
    "---"
   ]
  },
  {
   "cell_type": "markdown",
   "id": "8af1c537-2038-4418-888a-0def03ec379f",
   "metadata": {
    "editable": true,
    "slideshow": {
     "slide_type": "subslide"
    },
    "tags": []
   },
   "source": [
    "### London Water Supply Service Regions"
   ]
  },
  {
   "cell_type": "markdown",
   "id": "206b0483-8e38-4df7-b829-bc142f9db096",
   "metadata": {
    "editable": true,
    "slideshow": {
     "slide_type": "-"
    },
    "tags": []
   },
   "source": [
    "<a href = \"https://sciencephotogallery.com/featured/john-snows-map-of-the-water-supply-in-london-wellcome-imagesscience-photo-library.html\" title=\"John Snow's Map Of The Water Supply In London\"><img src=\"./johnsnow_water_companies.jpeg\" alt=\"John Snow's Map Of The Water Supply In London\" width = 40%></a>"
   ]
  },
  {
   "cell_type": "markdown",
   "id": "7e53784f-d30a-4f59-87f5-125a089671f9",
   "metadata": {
    "editable": true,
    "slideshow": {
     "slide_type": "notes"
    },
    "tags": []
   },
   "source": [
    "In the image:\n",
    "* Blue - Southwark and Vauxhall Company\n",
    "* Red - Lambeth Company\n",
    "* Purple - The area in which the pipes of both Companies are intermingled"
   ]
  },
  {
   "cell_type": "markdown",
   "id": "c4c95c24-ebc6-4259-8c51-53be2db398c8",
   "metadata": {
    "slideshow": {
     "slide_type": "fragment"
    },
    "tags": []
   },
   "source": [
    "---"
   ]
  },
  {
   "cell_type": "markdown",
   "id": "aa972c2c-84b6-40d3-a135-50c0302465ee",
   "metadata": {
    "editable": true,
    "slideshow": {
     "slide_type": "subslide"
    },
    "tags": []
   },
   "source": [
    "### Comparison"
   ]
  },
  {
   "cell_type": "markdown",
   "id": "8181447d-8f18-41bf-9192-0ff12e01f7d1",
   "metadata": {
    "editable": true,
    "slideshow": {
     "slide_type": ""
    },
    "tags": []
   },
   "source": [
    "* Treatment group:\n",
    "    * Receives the experimental treatment or intervention being tested.\n",
    "    * The goal is to assess the impact or effectiveness of the treatment.\n",
    "* Control Group:\n",
    "    * This group does not receive the experimental treatment.\n",
    "    * It serves as a baseline or reference group to which the treatment group is compared.\n",
    "    * Utilizes no treatment, placebo treatments, treatments with well-understood outcomes, etc."
   ]
  },
  {
   "cell_type": "markdown",
   "id": "6b2b10a9-cdb9-4371-aaaa-e6318e4f5749",
   "metadata": {
    "slideshow": {
     "slide_type": "fragment"
    },
    "tags": []
   },
   "source": [
    "---"
   ]
  },
  {
   "cell_type": "markdown",
   "id": "2394a16a-7998-4e75-9b82-af57ebd4e5d3",
   "metadata": {
    "editable": true,
    "slideshow": {
     "slide_type": "subslide"
    },
    "tags": []
   },
   "source": [
    "### Snow’s “Grand Experiment” ... Study"
   ]
  },
  {
   "cell_type": "markdown",
   "id": "f362316f-33a1-415c-bbe3-00549dc5fcac",
   "metadata": {
    "editable": true,
    "slideshow": {
     "slide_type": ""
    },
    "tags": []
   },
   "source": [
    "* John Snow used a natural experiment study design.\n",
    "* Despite the name, a natural experiment is an observational study.\n",
    "* In some cases, natural experiments can be used to show causation:\n",
    "    * \"... there is no difference whatever in the houses or the people receiving the supply of the two Water Companies, or in any of the physical conditions with which they are surrounded ...\"\n",
    "    * The two groups were similar except for the treatment.\n"
   ]
  },
  {
   "cell_type": "markdown",
   "id": "aaa2cc64-1a63-49cf-a80d-f37b3436f989",
   "metadata": {
    "slideshow": {
     "slide_type": "fragment"
    },
    "tags": []
   },
   "source": [
    "---"
   ]
  },
  {
   "cell_type": "markdown",
   "id": "0f9dd38e-5eb2-4abb-bd91-5b1d9d1d0358",
   "metadata": {
    "editable": true,
    "slideshow": {
     "slide_type": "subslide"
    },
    "tags": []
   },
   "source": [
    "### Snow's Table"
   ]
  },
  {
   "cell_type": "markdown",
   "id": "c6cfee4c-fb4a-4d6a-b792-075497ed31a7",
   "metadata": {
    "editable": true,
    "slideshow": {
     "slide_type": ""
    },
    "tags": []
   },
   "source": [
    "How did John Snow use the data to create an argument?"
   ]
  },
  {
   "cell_type": "markdown",
   "id": "8266436f-ccfd-4a4b-b2e5-c08f21f1c43a",
   "metadata": {
    "slideshow": {
     "slide_type": "fragment"
    },
    "tags": []
   },
   "source": [
    "---"
   ]
  },
  {
   "cell_type": "markdown",
   "id": "60ebc1f5-fd12-4a45-b235-e65764872f44",
   "metadata": {
    "editable": true,
    "slideshow": {
     "slide_type": "subslide"
    },
    "tags": []
   },
   "source": [
    "#### Load John Snow's Data"
   ]
  },
  {
   "cell_type": "code",
   "execution_count": null,
   "id": "1b150ad6-e562-4df8-99ec-fe83424ea7d4",
   "metadata": {
    "editable": true,
    "slideshow": {
     "slide_type": "fragment"
    },
    "tags": []
   },
   "outputs": [],
   "source": [
    "from datascience import *\n",
    "import numpy as np"
   ]
  },
  {
   "cell_type": "code",
   "execution_count": null,
   "id": "3b3486dc-7996-4f12-b6fa-12d4c44e4012",
   "metadata": {
    "editable": true,
    "slideshow": {
     "slide_type": "fragment"
    },
    "tags": []
   },
   "outputs": [],
   "source": [
    "snows_table = Table(['Supply Area', 'Number of Houses', 'Cholera Deaths']).with_rows([\n",
    "    ['S&V', 40046, 1263], \n",
    "    ['Lambeth', 26107, 98],\n",
    "    ['Rest of London', 256423, 1422]\n",
    "])\n",
    "snows_table"
   ]
  },
  {
   "cell_type": "markdown",
   "id": "be44b0e3-e152-4e7a-aac6-f5bedb3ee80a",
   "metadata": {
    "editable": true,
    "slideshow": {
     "slide_type": "fragment"
    },
    "tags": []
   },
   "source": [
    "---"
   ]
  },
  {
   "cell_type": "markdown",
   "id": "4da2c5be-1008-4af0-a80a-07bed3fac0cd",
   "metadata": {
    "editable": true,
    "slideshow": {
     "slide_type": "subslide"
    },
    "tags": []
   },
   "source": [
    "#### Create a Relative Frequency"
   ]
  },
  {
   "cell_type": "markdown",
   "id": "637977ab-edc8-4df3-b9b7-3415e325ab1d",
   "metadata": {
    "deletable": false,
    "editable": false,
    "slideshow": {
     "slide_type": ""
    },
    "tags": []
   },
   "source": [
    "To compare the deaths totals in various supply areas, calculate the relative frequency of deaths per household."
   ]
  },
  {
   "cell_type": "code",
   "execution_count": null,
   "id": "388d572a-0d8d-49a4-8914-08ab80d9d3c5",
   "metadata": {
    "editable": true,
    "slideshow": {
     "slide_type": "fragment"
    },
    "tags": []
   },
   "outputs": [],
   "source": [
    "number_of_deaths = snows_table.column('Cholera Deaths')\n",
    "number_of_houses = snows_table.column('Number of Houses') \n",
    "death_per_house = ...\n",
    "snows_table.with_column('Deaths per House',  death_per_house)"
   ]
  },
  {
   "cell_type": "markdown",
   "id": "efdf358a-c4de-44a2-ab9e-4a775f8e78ac",
   "metadata": {
    "editable": true,
    "slideshow": {
     "slide_type": "fragment"
    },
    "tags": []
   },
   "source": [
    "---"
   ]
  },
  {
   "cell_type": "markdown",
   "id": "9196d69b-37ac-49f9-99ac-6cbc180b1662",
   "metadata": {
    "deletable": false,
    "editable": false,
    "slideshow": {
     "slide_type": ""
    },
    "tags": []
   },
   "source": [
    "Scale and round the rates to show whole numbers."
   ]
  },
  {
   "cell_type": "code",
   "execution_count": null,
   "id": "02753076-c09b-4961-932c-ca1c7210e918",
   "metadata": {
    "editable": true,
    "slideshow": {
     "slide_type": "fragment"
    },
    "tags": []
   },
   "outputs": [],
   "source": [
    "deaths_per_10000_houses = ...\n",
    "snows_table.with_column('Deaths per 10,000 Houses', \n",
    "                        np.round(deaths_per_10000_houses))"
   ]
  },
  {
   "cell_type": "markdown",
   "id": "e8372b31-2524-4cc8-9303-47b50963bbba",
   "metadata": {
    "slideshow": {
     "slide_type": "fragment"
    },
    "tags": []
   },
   "source": [
    "---"
   ]
  },
  {
   "cell_type": "markdown",
   "id": "df401548-fb15-465b-a366-ff124e1176f4",
   "metadata": {
    "editable": true,
    "slideshow": {
     "slide_type": "subslide"
    },
    "tags": []
   },
   "source": [
    "#### Scale for Readability"
   ]
  },
  {
   "cell_type": "markdown",
   "id": "a2cd9548-e609-43f7-b11b-7f433032147b",
   "metadata": {
    "editable": true,
    "slideshow": {
     "slide_type": ""
    },
    "tags": []
   },
   "source": [
    "Scaling rates a common presentation technique. This can provide clarity, but it can also be misleading!"
   ]
  },
  {
   "cell_type": "markdown",
   "id": "169d9b68-37a7-4428-8dbd-271376cd4efa",
   "metadata": {
    "editable": true,
    "slideshow": {
     "slide_type": ""
    },
    "tags": []
   },
   "source": [
    "<a title=\"CDC - Rates of COVID-19-Associated Hospitalization (Updated Jan 24, 2024)\" href=\"https://gis.cdc.gov/grasp/covidnet/covid19_3.html\"><img src=\"./CDC-COVID-hospitalization-rates.png\" alt=\"A chart showing\" width = 40%></a>"
   ]
  },
  {
   "cell_type": "markdown",
   "id": "76016856-b550-40c9-870e-8ff199144183",
   "metadata": {
    "editable": true,
    "slideshow": {
     "slide_type": "subslide"
    },
    "tags": []
   },
   "source": [
    "### A Key to Establishing Causality"
   ]
  },
  {
   "cell_type": "markdown",
   "id": "418040d7-c793-4d76-9f85-262b515722e4",
   "metadata": {
    "editable": true,
    "slideshow": {
     "slide_type": ""
    },
    "tags": []
   },
   "source": [
    "If the treatment and control groups are similar apart from the treatment, then differences between the outcomes in the two groups can be ascribed to the treatment."
   ]
  },
  {
   "cell_type": "markdown",
   "id": "ab3ef3c4-3166-49dd-8369-6872063b7864",
   "metadata": {
    "slideshow": {
     "slide_type": "fragment"
    },
    "tags": []
   },
   "source": [
    "---"
   ]
  },
  {
   "cell_type": "markdown",
   "id": "d17d492c-d2dc-40b7-9ce3-8bef333ecd07",
   "metadata": {
    "editable": true,
    "slideshow": {
     "slide_type": "slide"
    },
    "tags": []
   },
   "source": [
    "## Confounding Variables"
   ]
  },
  {
   "cell_type": "markdown",
   "id": "5469654d-dd2d-4bda-ba5e-7dd211dad8bd",
   "metadata": {
    "slideshow": {
     "slide_type": "fragment"
    },
    "tags": []
   },
   "source": [
    "---"
   ]
  },
  {
   "cell_type": "markdown",
   "id": "8a537571-5554-45f1-b11f-90db1d002d6e",
   "metadata": {
    "editable": true,
    "slideshow": {
     "slide_type": "subslide"
    },
    "tags": []
   },
   "source": [
    "### Confounding Factors Weaken a Causal Argument"
   ]
  },
  {
   "cell_type": "markdown",
   "id": "ab420069-2e0d-4790-8695-d5757c77fc5a",
   "metadata": {
    "editable": true,
    "slideshow": {
     "slide_type": ""
    },
    "tags": []
   },
   "source": [
    "* If the treatment and control groups have systematic differences other than the treatment, then it might be difficult to identify causality. \n",
    "* Such differences are often present in observational studies.\n",
    "* When they lead researchers astray, they are called confounding factors."
   ]
  },
  {
   "cell_type": "markdown",
   "id": "0677b8cc-0389-4f7c-b327-d9d929b6ed2d",
   "metadata": {
    "slideshow": {
     "slide_type": "fragment"
    },
    "tags": []
   },
   "source": [
    "---"
   ]
  },
  {
   "cell_type": "markdown",
   "id": "ae76f188-bddb-4146-b469-d326a87dc363",
   "metadata": {
    "editable": true,
    "slideshow": {
     "slide_type": "subslide"
    },
    "tags": []
   },
   "source": [
    "### Example of a Confounding Relationship"
   ]
  },
  {
   "cell_type": "markdown",
   "id": "fc6bba36-fb93-4519-bf1c-eb38e165db59",
   "metadata": {
    "editable": true,
    "slideshow": {
     "slide_type": ""
    },
    "tags": []
   },
   "source": [
    "<img src=\"./cheese_sheets_association.svg\" width = 70%>"
   ]
  },
  {
   "cell_type": "markdown",
   "id": "c7f44c7e-d6f0-4f77-9344-eea0ae44e35e",
   "metadata": {
    "slideshow": {
     "slide_type": "fragment"
    },
    "tags": []
   },
   "source": [
    "---"
   ]
  },
  {
   "cell_type": "markdown",
   "id": "60919082-a8eb-4f59-bc71-467c719bc634",
   "metadata": {
    "editable": true,
    "slideshow": {
     "slide_type": "slide"
    },
    "tags": []
   },
   "source": [
    "## Randomized Controlled Experiments"
   ]
  },
  {
   "cell_type": "markdown",
   "id": "3decc6df-efc3-4c3a-bd4a-e473dd6b1dd7",
   "metadata": {
    "slideshow": {
     "slide_type": "fragment"
    },
    "tags": []
   },
   "source": [
    "---"
   ]
  },
  {
   "cell_type": "markdown",
   "id": "71b91f14-24f4-4caa-9650-2ff48bf0171f",
   "metadata": {
    "editable": true,
    "slideshow": {
     "slide_type": "subslide"
    },
    "tags": []
   },
   "source": [
    "### Randomized Controlled Experiment"
   ]
  },
  {
   "cell_type": "markdown",
   "id": "fd367488-35df-4b95-85cc-16cbb1c3b88c",
   "metadata": {
    "editable": true,
    "slideshow": {
     "slide_type": ""
    },
    "tags": []
   },
   "source": [
    "Randomized controlled experiments are typically the standard study design for establishing causation."
   ]
  },
  {
   "cell_type": "markdown",
   "id": "2a28b558-e5c3-4244-990e-996ad0756d82",
   "metadata": {
    "editable": true,
    "slideshow": {
     "slide_type": "fragment"
    },
    "tags": []
   },
   "source": [
    "* Randomization: Randomly assigning individuals to a specific treatment\n",
    "    * You can (mathematically) account for variability in the assignment.\n",
    "    * Regardless of what the dictionary says, in probability theory\n",
    "        * Random ≠ Haphazard\n",
    "        * Random refers to the concept of unpredictability\n",
    "* Controlled: At least one treatment is a control."
   ]
  },
  {
   "cell_type": "markdown",
   "id": "8630d605-8707-4ad7-9001-eaf73d94893a",
   "metadata": {
    "editable": true,
    "slideshow": {
     "slide_type": "fragment"
    },
    "tags": []
   },
   "source": [
    "If you assign individuals to treatment and control at random, then the two groups are likely to be similar apart from the treatment."
   ]
  },
  {
   "cell_type": "markdown",
   "id": "ab56fd42-a20e-4200-970a-25eba1de73f9",
   "metadata": {
    "slideshow": {
     "slide_type": "fragment"
    },
    "tags": []
   },
   "source": [
    "---"
   ]
  },
  {
   "cell_type": "markdown",
   "id": "305e634c-1f5b-44ce-8f57-816ee2c18afe",
   "metadata": {
    "editable": true,
    "slideshow": {
     "slide_type": "subslide"
    },
    "tags": []
   },
   "source": [
    "### Reflecting on John Snow's Natural Experiment"
   ]
  },
  {
   "cell_type": "markdown",
   "id": "b1240c52-1ed3-42c6-b5eb-555021c54154",
   "metadata": {
    "editable": true,
    "slideshow": {
     "slide_type": ""
    },
    "tags": []
   },
   "source": [
    "John Snow's story has some issues:\n",
    " * Falsely relies on the idea that water was distributed randomly to a certain area of London\n",
    " * The area studied was very dense, so it is not possible to rule out socioeconomic factors\n",
    " * Removing the pump handle prematurely should raise ethical concerns\n",
    " * Ultimately, the way our body responds to the cholera bacteria, not the pump"
   ]
  },
  {
   "cell_type": "markdown",
   "id": "09271974-ab58-4766-95f2-5c9e88184b9c",
   "metadata": {
    "slideshow": {
     "slide_type": "fragment"
    },
    "tags": []
   },
   "source": [
    "---"
   ]
  },
  {
   "cell_type": "markdown",
   "id": "4131cc8d-2838-49e9-b858-62978df1ea25",
   "metadata": {
    "editable": true,
    "slideshow": {
     "slide_type": "subslide"
    },
    "tags": []
   },
   "source": [
    "### A Randomized Controlled Experiment"
   ]
  },
  {
   "cell_type": "markdown",
   "id": "d43b6756-7e77-487b-a4d8-dff63cfd8a6b",
   "metadata": {
    "editable": true,
    "slideshow": {
     "slide_type": ""
    },
    "tags": []
   },
   "source": [
    "[An experimental study on the effect of an experimental drug on treating Leukemia](https://ashpublications.org/blood/article/130/Supplement%201/2647/80090/Multivariate-Efficacy-Analysis-of-a-Randomized):\n",
    "* An example of a modern randomized controlled experiment\n",
    "* Treatment: 1 to 2 cycles of induction therapy with CPX-351 - an experimental drug\n",
    "* Control: Conventional 7+3 - a standard of care chemotherapy\n",
    "* Randomization: After patients were divided into smaller groups based on their ages, they were randomly assigned to the treatment or control."
   ]
  },
  {
   "cell_type": "markdown",
   "id": "224301ac-7fd9-48a9-911f-cac0d50ea9da",
   "metadata": {
    "editable": true,
    "slideshow": {
     "slide_type": "fragment"
    },
    "tags": []
   },
   "source": [
    "---"
   ]
  },
  {
   "cell_type": "markdown",
   "id": "9b7f8a06-a010-4b29-9e5b-32e23254315d",
   "metadata": {
    "editable": true,
    "slideshow": {
     "slide_type": "slide"
    },
    "tags": []
   },
   "source": [
    "### Ethical Concerns"
   ]
  },
  {
   "cell_type": "markdown",
   "id": "0da262af-c980-4bcc-8847-5d70b57673ba",
   "metadata": {
    "editable": true,
    "slideshow": {
     "slide_type": ""
    },
    "tags": []
   },
   "source": [
    "Sometimes randomized controlled experiments are considered unethical\n",
    "*  Assigning a patient something other than a known effective treatment.\n",
    "*  The participants might be from populations that are not able to fully consent to treatment.\n",
    "*  The treatments might be risky. (Correct dosages might not be fully understood.)\n",
    "*  etc."
   ]
  },
  {
   "cell_type": "markdown",
   "id": "ee92f649-162a-4220-92a2-e7305b089ad3",
   "metadata": {},
   "source": [
    "Identifying and responding to ethical concerns is and should be a common part of a researchers work."
   ]
  },
  {
   "cell_type": "markdown",
   "id": "84005d04-706d-4012-96d4-7b188b6f5a30",
   "metadata": {
    "slideshow": {
     "slide_type": "fragment"
    },
    "tags": []
   },
   "source": [
    "---"
   ]
  },
  {
   "cell_type": "markdown",
   "id": "226bbc20-e62d-4dd7-95f3-42eb1ab56bee",
   "metadata": {
    "slideshow": {
     "slide_type": "notes"
    }
   },
   "source": [
    "<footer>\n",
    "    <p>Adopted from UC Berkeley DATA 8 course materials.</p>\n",
    "    <p>This content is offered under a <a href=\"https://creativecommons.org/licenses/by-nc-sa/4.0/\">CC Attribution Non-Commercial Share Alike</a> license.</p>\n",
    "</footer>"
   ]
  }
 ],
 "metadata": {
  "kernelspec": {
   "display_name": "Python 3 (ipykernel)",
   "language": "python",
   "name": "python3"
  },
  "language_info": {
   "codemirror_mode": {
    "name": "ipython",
    "version": 3
   },
   "file_extension": ".py",
   "mimetype": "text/x-python",
   "name": "python",
   "nbconvert_exporter": "python",
   "pygments_lexer": "ipython3",
   "version": "3.10.12"
  },
  "otter": {
   "OK_FORMAT": true,
   "tests": {}
  }
 },
 "nbformat": 4,
 "nbformat_minor": 5
}
