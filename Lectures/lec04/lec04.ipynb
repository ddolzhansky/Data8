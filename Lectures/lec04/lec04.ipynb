{
 "cells": [
  {
   "cell_type": "markdown",
   "id": "c26e4a6b-d496-4582-9a96-da21819767da",
   "metadata": {
    "editable": true,
    "slideshow": {
     "slide_type": "slide"
    },
    "tags": []
   },
   "source": [
    "<div style=\"width: 38.5%;\">\n",
    "    <p><strong>City College of San Francisco</strong><p>\n",
    "    <hr>\n",
    "    <p>MATH 108 - Foundations of Data Science</p>\n",
    "</div>"
   ]
  },
  {
   "cell_type": "markdown",
   "id": "d348f996-0196-4c2f-9670-f0f64652d084",
   "metadata": {
    "slideshow": {
     "slide_type": "-"
    }
   },
   "source": [
    "# Lecture 04: Data Types"
   ]
  },
  {
   "cell_type": "markdown",
   "id": "8e85229a-f201-468a-8af4-1d48274c6ef5",
   "metadata": {
    "slideshow": {
     "slide_type": "-"
    }
   },
   "source": [
    "Associated Textbook Sections: [4.0, 4.1, 4.2, 4.3](https://inferentialthinking.com/chapters/04/Data_Types.html)"
   ]
  },
  {
   "cell_type": "markdown",
   "id": "0ebbe85c-612a-4905-8b94-9ce6d9e4839d",
   "metadata": {
    "editable": true,
    "slideshow": {
     "slide_type": "fragment"
    },
    "tags": []
   },
   "source": [
    "---"
   ]
  },
  {
   "cell_type": "markdown",
   "id": "61f8d2cb-751d-4915-882a-8f83c3858fb1",
   "metadata": {
    "editable": true,
    "slideshow": {
     "slide_type": "slide"
    },
    "tags": []
   },
   "source": [
    "## Overview\n",
    "\n",
    "* [Data Types](#Data-Types)\n",
    "* [Numbers](#Numbers)\n",
    "* [Strings](#Strings)\n",
    "* [Boolean Values](#Boolean-Values)\n",
    "* [Type Casting](#Type-Casting)\n",
    "* [No Value](#No-Value)\n",
    "* [Attributes and Methods](#Attributes-and-Methods)"
   ]
  },
  {
   "cell_type": "markdown",
   "id": "44bca07c-537a-406a-a242-8bf296f0e386",
   "metadata": {
    "editable": true,
    "slideshow": {
     "slide_type": "fragment"
    },
    "tags": []
   },
   "source": [
    "---"
   ]
  },
  {
   "cell_type": "markdown",
   "id": "61dc3772-a8b1-46dc-9103-444f3abca5cf",
   "metadata": {
    "editable": true,
    "slideshow": {
     "slide_type": "slide"
    },
    "tags": []
   },
   "source": [
    "## Set Up the Notebook"
   ]
  },
  {
   "cell_type": "code",
   "execution_count": null,
   "id": "443576c9-cf41-4470-bd2e-daf83b7d4336",
   "metadata": {
    "editable": true,
    "slideshow": {
     "slide_type": ""
    },
    "tags": []
   },
   "outputs": [],
   "source": [
    "from datascience import *\n",
    "import numpy as np"
   ]
  },
  {
   "cell_type": "markdown",
   "id": "9385b9bd-2aa1-481c-a380-435162f334ee",
   "metadata": {},
   "source": [
    "## Data Types"
   ]
  },
  {
   "cell_type": "markdown",
   "id": "7e05316d-c241-4b79-a8e5-9acf29461d48",
   "metadata": {
    "slideshow": {
     "slide_type": "subslide"
    }
   },
   "source": [
    "### `type`"
   ]
  },
  {
   "cell_type": "markdown",
   "id": "53f58497-b9e1-4df4-bc39-007bcc8409fa",
   "metadata": {},
   "source": [
    "* Every value in Python is a certain data type\n",
    "* The type of a value determines what operations can be performed on it\n",
    "* The built-in function `type` can be used to show you data type of a value: `type(2)`\n",
    "* An expression's \"type\" is based on its value, not how it looks"
   ]
  },
  {
   "cell_type": "markdown",
   "id": "7c41045c-844c-44a2-bf94-eeab5757668c",
   "metadata": {
    "slideshow": {
     "slide_type": "subslide"
    }
   },
   "source": [
    "### Demo: Types"
   ]
  },
  {
   "cell_type": "markdown",
   "id": "bd0c81fd-b1df-45a0-9404-e2a1855d5352",
   "metadata": {
    "slideshow": {
     "slide_type": "skip"
    }
   },
   "source": [
    "Use the `type` function to check an objects type."
   ]
  },
  {
   "cell_type": "code",
   "execution_count": null,
   "id": "e521e8dd-4560-41ae-98d3-f93f0ade2ef5",
   "metadata": {
    "slideshow": {
     "slide_type": "subslide"
    },
    "tags": []
   },
   "outputs": [],
   "source": [
    "..."
   ]
  },
  {
   "cell_type": "code",
   "execution_count": null,
   "id": "09e1eb01-6a1c-4539-9177-b49da255c273",
   "metadata": {
    "slideshow": {
     "slide_type": "fragment"
    },
    "tags": []
   },
   "outputs": [],
   "source": [
    "a = ...\n",
    "..."
   ]
  },
  {
   "cell_type": "code",
   "execution_count": null,
   "id": "c6cc76b0-848f-44e1-bdb4-7d0647525d7a",
   "metadata": {
    "slideshow": {
     "slide_type": "fragment"
    },
    "tags": []
   },
   "outputs": [],
   "source": [
    "..."
   ]
  },
  {
   "cell_type": "code",
   "execution_count": null,
   "id": "42999b33-7c9c-400f-8370-77b1933c3016",
   "metadata": {
    "slideshow": {
     "slide_type": "fragment"
    },
    "tags": []
   },
   "outputs": [],
   "source": [
    "..."
   ]
  },
  {
   "cell_type": "code",
   "execution_count": null,
   "id": "52cb9bee-235c-4928-957b-aa0d4947aefd",
   "metadata": {
    "editable": true,
    "slideshow": {
     "slide_type": "fragment"
    },
    "tags": []
   },
   "outputs": [],
   "source": [
    "..."
   ]
  },
  {
   "cell_type": "code",
   "execution_count": null,
   "id": "65e8bfd0-4a20-440b-8bd6-863777aa431a",
   "metadata": {
    "slideshow": {
     "slide_type": "fragment"
    },
    "tags": []
   },
   "outputs": [],
   "source": [
    "..."
   ]
  },
  {
   "cell_type": "code",
   "execution_count": null,
   "id": "c9435621-5bf0-4875-a153-f30bdaa66c25",
   "metadata": {
    "tags": []
   },
   "outputs": [],
   "source": [
    "..."
   ]
  },
  {
   "cell_type": "code",
   "execution_count": null,
   "id": "29eef16d-ad70-44b7-9ddf-5daf443d02e6",
   "metadata": {
    "tags": []
   },
   "outputs": [],
   "source": [
    "..."
   ]
  },
  {
   "cell_type": "markdown",
   "id": "c2e6aa16-3788-4f2d-9171-add067b72db2",
   "metadata": {
    "editable": true,
    "slideshow": {
     "slide_type": "fragment"
    },
    "tags": []
   },
   "source": [
    "---"
   ]
  },
  {
   "cell_type": "markdown",
   "id": "9b0bd69d-5295-4229-8d0f-157d794cbffa",
   "metadata": {
    "slideshow": {
     "slide_type": "slide"
    }
   },
   "source": [
    "## Numbers"
   ]
  },
  {
   "cell_type": "markdown",
   "id": "f81d0cad-497a-43b9-97e8-7912cf720f61",
   "metadata": {
    "slideshow": {
     "slide_type": "fragment"
    }
   },
   "source": [
    "---"
   ]
  },
  {
   "cell_type": "markdown",
   "id": "f3e1854f-f702-43ee-8e84-bc21221656be",
   "metadata": {
    "slideshow": {
     "slide_type": "subslide"
    }
   },
   "source": [
    "### `ints` and `floats`"
   ]
  },
  {
   "cell_type": "markdown",
   "id": "b74a97d7-777a-47ad-882e-1f5c7c5aab9e",
   "metadata": {
    "slideshow": {
     "slide_type": "-"
    }
   },
   "source": [
    "* Python has two real number types \n",
    "    * `int`: an integer of any size\n",
    "    * `float`: a number with an optional fractional part\n",
    "* An `int` never has a decimal point; a `float` always does\n",
    "* A `float` might be printed using scientific notation\n",
    "* Three limitations of `float` values:\n",
    "    * They have limited size (but the limit is huge)\n",
    "    * They have limited precision of 15-16 decimal places\n",
    "    * After arithmetic, the final few decimal places can be wrong\n"
   ]
  },
  {
   "cell_type": "markdown",
   "id": "ac1a5c68-faa4-47e1-8c40-a7c8c9144e61",
   "metadata": {
    "editable": true,
    "slideshow": {
     "slide_type": "fragment"
    },
    "tags": []
   },
   "source": [
    "---"
   ]
  },
  {
   "cell_type": "markdown",
   "id": "4bfdc92c-0738-4a4a-8a41-1d8603a272c0",
   "metadata": {
    "slideshow": {
     "slide_type": "subslide"
    }
   },
   "source": [
    "### Demo: Numbers"
   ]
  },
  {
   "cell_type": "markdown",
   "id": "5d07d157-ca7b-4a77-b69b-5554fee0018e",
   "metadata": {
    "slideshow": {
     "slide_type": "skip"
    }
   },
   "source": [
    "Demonstrate integers and floats."
   ]
  },
  {
   "cell_type": "code",
   "execution_count": null,
   "id": "43a42a49-f9bb-402a-9d84-e8a56894530f",
   "metadata": {
    "slideshow": {
     "slide_type": "subslide"
    },
    "tags": []
   },
   "outputs": [],
   "source": [
    "# int\n",
    "..."
   ]
  },
  {
   "cell_type": "code",
   "execution_count": null,
   "id": "95576463-d781-483d-897a-36acecb348bb",
   "metadata": {
    "tags": []
   },
   "outputs": [],
   "source": [
    "# float\n",
    "..."
   ]
  },
  {
   "cell_type": "markdown",
   "id": "55409cf5-bbb3-4040-861d-520960374cc6",
   "metadata": {
    "editable": true,
    "slideshow": {
     "slide_type": "fragment"
    },
    "tags": []
   },
   "source": [
    "---"
   ]
  },
  {
   "cell_type": "markdown",
   "id": "84a99350-d13a-416d-8e76-ecc38d0ec67e",
   "metadata": {},
   "source": [
    "Try out some arithmetic with integers."
   ]
  },
  {
   "cell_type": "code",
   "execution_count": null,
   "id": "f4886f5f-2c17-4cfe-a819-b9032a28c298",
   "metadata": {
    "slideshow": {
     "slide_type": "fragment"
    },
    "tags": []
   },
   "outputs": [],
   "source": [
    "# Multiplication\n",
    "..."
   ]
  },
  {
   "cell_type": "code",
   "execution_count": null,
   "id": "2645c542-c550-4a3c-992a-06ecbbf111b1",
   "metadata": {
    "slideshow": {
     "slide_type": "subslide"
    },
    "tags": []
   },
   "outputs": [],
   "source": [
    "# Exponentiation\n",
    "..."
   ]
  },
  {
   "cell_type": "markdown",
   "id": "4fc1522d-76cb-458c-b7bc-f926c036683b",
   "metadata": {
    "editable": true,
    "slideshow": {
     "slide_type": "fragment"
    },
    "tags": []
   },
   "source": [
    "---"
   ]
  },
  {
   "cell_type": "markdown",
   "id": "26d76649-a415-4b43-9a52-cefd4fc54a30",
   "metadata": {
    "slideshow": {
     "slide_type": "skip"
    }
   },
   "source": [
    "The number of digits Python will keep a record of is basically limited by the computer's memory."
   ]
  },
  {
   "cell_type": "code",
   "execution_count": null,
   "id": "9f307dad-580d-4eb1-a564-5efe1b694ebd",
   "metadata": {
    "slideshow": {
     "slide_type": "fragment"
    }
   },
   "outputs": [],
   "source": [
    "123456789 ** 123"
   ]
  },
  {
   "cell_type": "markdown",
   "id": "abc12b4b-caeb-4359-bf6a-e44097b68ba1",
   "metadata": {
    "editable": true,
    "slideshow": {
     "slide_type": "fragment"
    },
    "tags": []
   },
   "source": [
    "---"
   ]
  },
  {
   "cell_type": "markdown",
   "id": "8e740875-6a59-4c26-9fc7-aff0e9a87bb0",
   "metadata": {
    "slideshow": {
     "slide_type": "skip"
    }
   },
   "source": [
    "Integer arithmetic with division leads to float values."
   ]
  },
  {
   "cell_type": "code",
   "execution_count": null,
   "id": "27868e4b-1fc8-4fae-8c6d-83212d9f3362",
   "metadata": {
    "slideshow": {
     "slide_type": "subslide"
    },
    "tags": []
   },
   "outputs": [],
   "source": [
    "# Division with positive remainder\n",
    "..."
   ]
  },
  {
   "cell_type": "code",
   "execution_count": null,
   "id": "1d3896db-e180-4449-ab19-981bef85c9e9",
   "metadata": {
    "slideshow": {
     "slide_type": "fragment"
    },
    "tags": []
   },
   "outputs": [],
   "source": [
    "# Division with no remainder\n",
    "..."
   ]
  },
  {
   "cell_type": "markdown",
   "id": "381a029c-3363-49d6-87cd-67ad80243a7d",
   "metadata": {
    "editable": true,
    "slideshow": {
     "slide_type": "fragment"
    },
    "tags": []
   },
   "source": [
    "---"
   ]
  },
  {
   "cell_type": "markdown",
   "id": "f8f75463-cde0-4fd0-ab1b-0a5eb57d44c9",
   "metadata": {},
   "source": [
    "General arithmetic that include float values lead to float values."
   ]
  },
  {
   "cell_type": "code",
   "execution_count": null,
   "id": "6148539e-b7d7-48fe-98b2-a27c336864f2",
   "metadata": {
    "slideshow": {
     "slide_type": "subslide"
    },
    "tags": []
   },
   "outputs": [],
   "source": [
    "..."
   ]
  },
  {
   "cell_type": "code",
   "execution_count": null,
   "id": "057458de-ebeb-4bfd-b583-f2ed8e38f0cd",
   "metadata": {
    "slideshow": {
     "slide_type": "fragment"
    },
    "tags": []
   },
   "outputs": [],
   "source": [
    "..."
   ]
  },
  {
   "cell_type": "code",
   "execution_count": null,
   "id": "ea959b4a-ce06-44c6-a2e6-42a98554e73b",
   "metadata": {
    "tags": []
   },
   "outputs": [],
   "source": [
    "..."
   ]
  },
  {
   "cell_type": "code",
   "execution_count": null,
   "id": "36f00876-8f5d-41bb-ad1d-e406a26062f4",
   "metadata": {
    "tags": []
   },
   "outputs": [],
   "source": [
    "..."
   ]
  },
  {
   "cell_type": "code",
   "execution_count": null,
   "id": "5059c953-3435-4c61-836a-aa394fd1d542",
   "metadata": {
    "slideshow": {
     "slide_type": "subslide"
    },
    "tags": []
   },
   "outputs": [],
   "source": [
    "# For readability, you can use _\n",
    "..."
   ]
  },
  {
   "cell_type": "markdown",
   "id": "5ff5b195-da2d-4476-936d-b38b6e96cbcc",
   "metadata": {
    "editable": true,
    "slideshow": {
     "slide_type": "fragment"
    },
    "tags": []
   },
   "source": [
    "---"
   ]
  },
  {
   "cell_type": "markdown",
   "id": "eb92da57-57de-4511-96a7-6b54552c9c2f",
   "metadata": {
    "slideshow": {
     "slide_type": "skip"
    }
   },
   "source": [
    "Float values tend to produce surprising results."
   ]
  },
  {
   "cell_type": "code",
   "execution_count": null,
   "id": "6f304de5-29e7-4b63-90ed-3ff9d5dd349d",
   "metadata": {
    "slideshow": {
     "slide_type": "fragment"
    },
    "tags": []
   },
   "outputs": [],
   "source": [
    "# Almost canceling\n",
    "..."
   ]
  },
  {
   "cell_type": "code",
   "execution_count": null,
   "id": "1536311a-95b2-4c31-af22-c6f532640beb",
   "metadata": {
    "slideshow": {
     "slide_type": "subslide"
    },
    "tags": []
   },
   "outputs": [],
   "source": [
    "# floating-point rounding\n",
    "0.12345678901234567890123456789"
   ]
  },
  {
   "cell_type": "code",
   "execution_count": null,
   "id": "8a3bfe47-09a6-45e7-a351-0defb1fa8a64",
   "metadata": {
    "slideshow": {
     "slide_type": "fragment"
    },
    "tags": []
   },
   "outputs": [],
   "source": [
    "0.12345678901234567890123456789 - 0.1234567890123456789"
   ]
  },
  {
   "cell_type": "markdown",
   "id": "b0bc1210-e7f3-4147-858f-f92ab8f5394d",
   "metadata": {
    "editable": true,
    "slideshow": {
     "slide_type": "fragment"
    },
    "tags": []
   },
   "source": [
    "---"
   ]
  },
  {
   "cell_type": "markdown",
   "id": "9dac747c-841f-4f6f-b644-74fd726fbfca",
   "metadata": {},
   "source": [
    "Scientific notation is used."
   ]
  },
  {
   "cell_type": "code",
   "execution_count": null,
   "id": "75cc7c0d-c40d-426e-b26c-442788dd305d",
   "metadata": {
    "slideshow": {
     "slide_type": "fragment"
    },
    "tags": []
   },
   "outputs": [],
   "source": [
    "# For readability, you can use _\n",
    "6 / 4_000"
   ]
  },
  {
   "cell_type": "code",
   "execution_count": null,
   "id": "fe181910-f38b-4d20-92f9-9c1579e6ab41",
   "metadata": {
    "slideshow": {
     "slide_type": "fragment"
    },
    "tags": []
   },
   "outputs": [],
   "source": [
    "6 / 400_000_000"
   ]
  },
  {
   "cell_type": "code",
   "execution_count": null,
   "id": "a2ba8abd-5836-4bfb-80d8-7844c21e3d51",
   "metadata": {
    "tags": []
   },
   "outputs": [],
   "source": [
    "1.5e-08"
   ]
  },
  {
   "cell_type": "code",
   "execution_count": null,
   "id": "04a83e67-ecc2-4266-aa0f-860c418a0634",
   "metadata": {
    "editable": true,
    "slideshow": {
     "slide_type": "subslide"
    },
    "tags": []
   },
   "outputs": [],
   "source": [
    "..."
   ]
  },
  {
   "cell_type": "code",
   "execution_count": null,
   "id": "17f7cf3b-e9a1-47a3-8e3f-40d8efd642d9",
   "metadata": {
    "tags": []
   },
   "outputs": [],
   "source": [
    "..."
   ]
  },
  {
   "cell_type": "markdown",
   "id": "77a7a4e2-9342-4c61-a33e-e4a703911476",
   "metadata": {
    "editable": true,
    "slideshow": {
     "slide_type": "fragment"
    },
    "tags": []
   },
   "source": [
    "---"
   ]
  },
  {
   "cell_type": "markdown",
   "id": "91576f3a-7843-4cce-907b-814210d266e1",
   "metadata": {
    "slideshow": {
     "slide_type": "skip"
    }
   },
   "source": [
    "Be careful of your syntax. Sometimes common notation from mathematics or other languages do not work here."
   ]
  },
  {
   "cell_type": "code",
   "execution_count": null,
   "id": "1ef95655-4889-4f11-b018-7438ed09ce6a",
   "metadata": {
    "slideshow": {
     "slide_type": "subslide"
    },
    "tags": []
   },
   "outputs": [],
   "source": [
    "x = 5"
   ]
  },
  {
   "cell_type": "code",
   "execution_count": null,
   "id": "40565e56-e654-4b44-b237-d88e6876da38",
   "metadata": {
    "slideshow": {
     "slide_type": "fragment"
    },
    "tags": []
   },
   "outputs": [],
   "source": [
    "2 * x"
   ]
  },
  {
   "cell_type": "code",
   "execution_count": null,
   "id": "7bbe1248-d07a-4fbf-8d0f-37b5e5d4d247",
   "metadata": {
    "slideshow": {
     "slide_type": "fragment"
    },
    "tags": []
   },
   "outputs": [],
   "source": [
    "# A SyntaxError\n",
    "# 2x"
   ]
  },
  {
   "cell_type": "markdown",
   "id": "3734b370-5e24-48fc-9500-f9e04e539be5",
   "metadata": {
    "slideshow": {
     "slide_type": "fragment"
    }
   },
   "source": [
    "---"
   ]
  },
  {
   "cell_type": "markdown",
   "id": "e834a080-9e82-406a-87f1-9fb0d7b46013",
   "metadata": {
    "slideshow": {
     "slide_type": "slide"
    }
   },
   "source": [
    "## Strings"
   ]
  },
  {
   "cell_type": "markdown",
   "id": "1fcb3882-0fd3-418d-bb6d-bd3b70ad8646",
   "metadata": {
    "slideshow": {
     "slide_type": "fragment"
    }
   },
   "source": [
    "---"
   ]
  },
  {
   "cell_type": "markdown",
   "id": "8ba74374-a10f-411e-8452-60f72d63c2f1",
   "metadata": {
    "slideshow": {
     "slide_type": "subslide"
    }
   },
   "source": [
    "### Text and Strings"
   ]
  },
  {
   "cell_type": "markdown",
   "id": "131e8651-c158-4b85-85e7-38f34a808063",
   "metadata": {
    "slideshow": {
     "slide_type": "-"
    }
   },
   "source": [
    "* A string (`str`) value is a snippet of text of any length\n",
    "    * `'a'`\n",
    "    * `'word'`\n",
    "    * `\"there can be 2 sentences. Here's the second!\"`\n",
    "* Strings consisting of numbers can be converted to numbers\n",
    "    * `int('12')`\n",
    "    * `float('1.2')`\n",
    "* Any value can be converted to a string\n",
    "    * `str(5)`\n"
   ]
  },
  {
   "cell_type": "markdown",
   "id": "7ab6e0fc-72c8-4b9e-8589-8963139e4e16",
   "metadata": {
    "editable": true,
    "slideshow": {
     "slide_type": "fragment"
    },
    "tags": []
   },
   "source": [
    "---"
   ]
  },
  {
   "cell_type": "markdown",
   "id": "52effdc9-3d67-40e9-81a2-265152999be4",
   "metadata": {
    "slideshow": {
     "slide_type": "subslide"
    }
   },
   "source": [
    "### Demo: Strings"
   ]
  },
  {
   "cell_type": "markdown",
   "id": "6c2ebe64-8421-451d-8708-f03ab88fc7f6",
   "metadata": {
    "slideshow": {
     "slide_type": "skip"
    }
   },
   "source": [
    "Explore how quotation marks are used to make strings."
   ]
  },
  {
   "cell_type": "code",
   "execution_count": null,
   "id": "3f294e4a-4055-4c90-b32f-7cc3d7bf1f46",
   "metadata": {
    "slideshow": {
     "slide_type": "subslide"
    },
    "tags": []
   },
   "outputs": [],
   "source": [
    "..."
   ]
  },
  {
   "cell_type": "code",
   "execution_count": null,
   "id": "f6e7b873-300d-4859-ac8b-86fd144fc8a0",
   "metadata": {
    "tags": []
   },
   "outputs": [],
   "source": [
    "..."
   ]
  },
  {
   "cell_type": "code",
   "execution_count": null,
   "id": "630de44b-ea1e-487d-ba84-4c3388cece19",
   "metadata": {
    "tags": []
   },
   "outputs": [],
   "source": [
    "# A SyntaxError:\n",
    "# 'Don't always use single quotes'"
   ]
  },
  {
   "cell_type": "code",
   "execution_count": null,
   "id": "86a4a352-87b9-4ed6-af19-6a3d6aad83ac",
   "metadata": {
    "tags": []
   },
   "outputs": [],
   "source": [
    "..."
   ]
  },
  {
   "cell_type": "markdown",
   "id": "6db8bb18-c038-40fe-8293-0ae0672a3700",
   "metadata": {
    "slideshow": {
     "slide_type": "fragment"
    }
   },
   "source": [
    "---"
   ]
  },
  {
   "cell_type": "markdown",
   "id": "e78f7191-f65d-4e46-a259-6ae7e3b61959",
   "metadata": {
    "slideshow": {
     "slide_type": "skip"
    }
   },
   "source": [
    "Notice that there is some kind of \"arithmetic\" with strings."
   ]
  },
  {
   "cell_type": "code",
   "execution_count": null,
   "id": "ebbd7e14-934b-44fc-822d-f0944e490fa8",
   "metadata": {
    "slideshow": {
     "slide_type": "subslide"
    },
    "tags": []
   },
   "outputs": [],
   "source": [
    "# concatenation\n",
    "..."
   ]
  },
  {
   "cell_type": "code",
   "execution_count": null,
   "id": "e4461044-0ff7-4834-b32c-8b6dd18bde5b",
   "metadata": {
    "slideshow": {
     "slide_type": "fragment"
    },
    "tags": []
   },
   "outputs": [],
   "source": [
    "..."
   ]
  },
  {
   "cell_type": "code",
   "execution_count": null,
   "id": "282d2517-723e-4497-95de-76999002a846",
   "metadata": {
    "slideshow": {
     "slide_type": "subslide"
    },
    "tags": []
   },
   "outputs": [],
   "source": [
    "..."
   ]
  },
  {
   "cell_type": "code",
   "execution_count": null,
   "id": "62211cc3-12f7-4519-bc31-71085ecc28d7",
   "metadata": {
    "slideshow": {
     "slide_type": "fragment"
    },
    "tags": []
   },
   "outputs": [],
   "source": [
    "# A TypeError\n",
    "# 'lo' * 5.5"
   ]
  },
  {
   "cell_type": "markdown",
   "id": "6d786b52-ab23-44a9-b9fa-894b3c101b4b",
   "metadata": {
    "slideshow": {
     "slide_type": "fragment"
    }
   },
   "source": [
    "---"
   ]
  },
  {
   "cell_type": "markdown",
   "id": "12218993-3db9-4715-a97b-e5b6e1b0f958",
   "metadata": {},
   "source": [
    "## Boolean Values"
   ]
  },
  {
   "cell_type": "markdown",
   "id": "db7f9733-0736-4bbf-b173-7aec72fa04ab",
   "metadata": {
    "slideshow": {
     "slide_type": "fragment"
    }
   },
   "source": [
    "---"
   ]
  },
  {
   "cell_type": "markdown",
   "id": "a1ff735c-b0f4-4d5d-8f3f-6dc3ce48e0e7",
   "metadata": {},
   "source": [
    "### `bool`"
   ]
  },
  {
   "cell_type": "markdown",
   "id": "01bd19c1-488d-4d7c-844d-cc6b6704ccf0",
   "metadata": {},
   "source": [
    "* Boolean values are used to represent truth or falsehood\n",
    "* They can only have two possible values:\n",
    "    * `True`\n",
    "    * `False`\n",
    "* This data type can be used to control the flow of code and aid in data analysis."
   ]
  },
  {
   "cell_type": "markdown",
   "id": "9fa39ea4-611c-4ef0-a37e-1f7fb17c1545",
   "metadata": {
    "slideshow": {
     "slide_type": "fragment"
    }
   },
   "source": [
    "---"
   ]
  },
  {
   "cell_type": "markdown",
   "id": "3bc6ca14-04e9-4efe-a615-b780509e56e2",
   "metadata": {
    "editable": true,
    "slideshow": {
     "slide_type": "subslide"
    },
    "tags": []
   },
   "source": [
    "## Type Casting"
   ]
  },
  {
   "cell_type": "markdown",
   "id": "944949ca-c386-4cbe-a4d5-118a26dd3e53",
   "metadata": {
    "slideshow": {
     "slide_type": "fragment"
    }
   },
   "source": [
    "---"
   ]
  },
  {
   "cell_type": "markdown",
   "id": "25cb7b87-ce87-492b-9798-9aeb7002a147",
   "metadata": {},
   "source": [
    "### Type Casting"
   ]
  },
  {
   "cell_type": "markdown",
   "id": "982a9099-2e04-47e5-b70d-97d5347f5dc0",
   "metadata": {
    "editable": true,
    "slideshow": {
     "slide_type": "-"
    },
    "tags": []
   },
   "source": [
    "* Type casting is the process of converting a value from one data type to another\n",
    "* Strings that contain numbers can be converted to floats and sometimes integers\n",
    "    * `int('12')`\n",
    "    * `float('1.2')`\n",
    "    * `float('one point two')` --- **Not a Good Idea!**\n",
    "* Any value can be converted to a string\n",
    "    * `str(5)`\n",
    "* Numbers can be converted to other numeric types\n",
    "    * `float(1)`\n",
    "    * `int(1.2)` --- **DANGER: Loses Information!**\n",
    "  "
   ]
  },
  {
   "cell_type": "markdown",
   "id": "e387ec88-5896-4eb4-aa5d-c5170280433d",
   "metadata": {
    "editable": true,
    "slideshow": {
     "slide_type": "fragment"
    },
    "tags": []
   },
   "source": [
    "---"
   ]
  },
  {
   "cell_type": "markdown",
   "id": "4c0885dd-b772-46a2-8f83-001eccff5330",
   "metadata": {
    "editable": true,
    "slideshow": {
     "slide_type": "subslide"
    },
    "tags": []
   },
   "source": [
    "### Demo: Type Casting"
   ]
  },
  {
   "cell_type": "markdown",
   "id": "8d59a9c4-f20f-4225-b3f9-603cd012ed00",
   "metadata": {
    "slideshow": {
     "slide_type": "skip"
    }
   },
   "source": [
    "Try converting between strings and other data types."
   ]
  },
  {
   "cell_type": "code",
   "execution_count": null,
   "id": "7d30487a-0405-467e-a98e-9ed9e40fe666",
   "metadata": {
    "editable": true,
    "slideshow": {
     "slide_type": "subslide"
    },
    "tags": []
   },
   "outputs": [],
   "source": [
    "..."
   ]
  },
  {
   "cell_type": "code",
   "execution_count": null,
   "id": "a1912358-7ba7-4fe4-b18b-943936cda605",
   "metadata": {
    "editable": true,
    "slideshow": {
     "slide_type": ""
    },
    "tags": []
   },
   "outputs": [],
   "source": [
    "..."
   ]
  },
  {
   "cell_type": "code",
   "execution_count": null,
   "id": "136d3c67-5cb4-4ff7-a133-e5ffc331909e",
   "metadata": {
    "editable": true,
    "slideshow": {
     "slide_type": "fragment"
    },
    "tags": []
   },
   "outputs": [],
   "source": [
    "# A ValueError\n",
    "# int('3.0')"
   ]
  },
  {
   "cell_type": "code",
   "execution_count": null,
   "id": "1fb1a686-5204-4cb7-b67c-b493719ff942",
   "metadata": {
    "slideshow": {
     "slide_type": "fragment"
    },
    "tags": []
   },
   "outputs": [],
   "source": [
    "..."
   ]
  },
  {
   "cell_type": "code",
   "execution_count": null,
   "id": "f0955bf8-458b-427a-aaf2-a33298ef504d",
   "metadata": {
    "editable": true,
    "slideshow": {
     "slide_type": "fragment"
    },
    "tags": []
   },
   "outputs": [],
   "source": [
    "..."
   ]
  },
  {
   "cell_type": "code",
   "execution_count": null,
   "id": "5ada44e3-b365-4e69-a55f-6b9a0925ac18",
   "metadata": {
    "tags": []
   },
   "outputs": [],
   "source": [
    "..."
   ]
  },
  {
   "cell_type": "markdown",
   "id": "eaf52872-0932-4f67-89a9-77fc51a32d16",
   "metadata": {
    "slideshow": {
     "slide_type": "fragment"
    }
   },
   "source": [
    "---"
   ]
  },
  {
   "cell_type": "markdown",
   "id": "5f74735d-8048-428c-9e2b-d1a868bc1258",
   "metadata": {},
   "source": [
    "## No Value"
   ]
  },
  {
   "cell_type": "markdown",
   "id": "05734aad-84c0-476e-9280-5969f8abf52e",
   "metadata": {
    "slideshow": {
     "slide_type": "fragment"
    }
   },
   "source": [
    "---"
   ]
  },
  {
   "cell_type": "markdown",
   "id": "b0a03bc1-c551-4f9f-9888-16b3da7ce2cd",
   "metadata": {},
   "source": [
    "### `NoneType`"
   ]
  },
  {
   "cell_type": "markdown",
   "id": "914118e5-c11e-4419-86d3-e7eae652ba4d",
   "metadata": {},
   "source": [
    "* Somethings in Python have a `NoneType` data type.\n",
    "* `None` is an example of something in Python without value."
   ]
  },
  {
   "cell_type": "markdown",
   "id": "dd963554-30fc-4252-9420-9b148fc37554",
   "metadata": {},
   "source": [
    "### Demo: `NoneType`"
   ]
  },
  {
   "cell_type": "code",
   "execution_count": null,
   "id": "aaaa6011-aad7-4723-89ab-d709e739b318",
   "metadata": {
    "tags": []
   },
   "outputs": [],
   "source": [
    "..."
   ]
  },
  {
   "cell_type": "code",
   "execution_count": null,
   "id": "1979e60b-e369-4b6c-8af4-ce4455d5ebcf",
   "metadata": {
    "tags": []
   },
   "outputs": [],
   "source": [
    "print(\"Hello\")"
   ]
  },
  {
   "cell_type": "code",
   "execution_count": null,
   "id": "c6c7bc2e-e91a-4bf3-afa0-ce8d8824d957",
   "metadata": {
    "tags": []
   },
   "outputs": [],
   "source": [
    "..."
   ]
  },
  {
   "cell_type": "markdown",
   "id": "011c9fef-4236-41b7-89d2-b6c9e65ea257",
   "metadata": {
    "slideshow": {
     "slide_type": "fragment"
    }
   },
   "source": [
    "---"
   ]
  },
  {
   "cell_type": "markdown",
   "id": "c8ebc3ac-0e86-45f8-8132-ff6aec659626",
   "metadata": {},
   "source": [
    "## Attributes and Methods"
   ]
  },
  {
   "cell_type": "markdown",
   "id": "16066cc4-3286-4992-9fa2-c02fabcca553",
   "metadata": {
    "slideshow": {
     "slide_type": "fragment"
    }
   },
   "source": [
    "---"
   ]
  },
  {
   "cell_type": "markdown",
   "id": "65adc6c4-3473-4c9d-b507-b6e2443e033f",
   "metadata": {
    "editable": true,
    "slideshow": {
     "slide_type": "subslide"
    },
    "tags": []
   },
   "source": [
    "### Attributes and Methods"
   ]
  },
  {
   "cell_type": "markdown",
   "id": "57a6309f-0e8b-421c-9fab-cef55f61180c",
   "metadata": {
    "editable": true,
    "slideshow": {
     "slide_type": "-"
    },
    "tags": []
   },
   "source": [
    "* Python is an Object Orientated Programming language\n",
    "* Almost everything in Python is an object\n",
    "* Objects usually have attributes and methods associated with them\n",
    "    * An attribute is some characteristic of the object\n",
    "    * A method is some function associated with the object\n",
    "* Using a `.` after an object will allow you to access the object's attributes and methods\n",
    "* In Jupyter, press the tab key after the `.` to see a list of available attributes and methods\n",
    "  "
   ]
  },
  {
   "cell_type": "markdown",
   "id": "3602ac90-20bd-475c-9a42-174563e92d30",
   "metadata": {
    "editable": true,
    "slideshow": {
     "slide_type": "fragment"
    },
    "tags": []
   },
   "source": [
    "---"
   ]
  },
  {
   "cell_type": "markdown",
   "id": "0d4407c2-e370-4f45-a063-3e31c43f6705",
   "metadata": {
    "editable": true,
    "slideshow": {
     "slide_type": "subslide"
    },
    "tags": []
   },
   "source": [
    "### Demo: Attributes and Methods"
   ]
  },
  {
   "cell_type": "markdown",
   "id": "3b1d512a-5d22-488a-a1f4-9d36d8956791",
   "metadata": {
    "slideshow": {
     "slide_type": "skip"
    }
   },
   "source": [
    "Replace a character in a string with another character."
   ]
  },
  {
   "cell_type": "code",
   "execution_count": null,
   "id": "1c3cc3a7-73da-4f00-bef7-3097ea183a29",
   "metadata": {
    "tags": []
   },
   "outputs": [],
   "source": [
    "a_string = ...\n",
    "a_string"
   ]
  },
  {
   "cell_type": "code",
   "execution_count": null,
   "id": "308f8b38-0b05-4673-973f-1d9a215db5a9",
   "metadata": {
    "tags": []
   },
   "outputs": [],
   "source": [
    "..."
   ]
  },
  {
   "cell_type": "code",
   "execution_count": null,
   "id": "fd9b346d-4426-4389-b001-d3e1fef605a7",
   "metadata": {
    "tags": []
   },
   "outputs": [],
   "source": [
    "# a_string was not updated\n",
    "a_string"
   ]
  },
  {
   "cell_type": "code",
   "execution_count": null,
   "id": "28c272a0-cd0b-4972-8726-e940ca9a023c",
   "metadata": {
    "tags": []
   },
   "outputs": [],
   "source": [
    "str.islower?"
   ]
  },
  {
   "cell_type": "code",
   "execution_count": null,
   "id": "9b8fe629-3c10-4026-b2a9-30a97602fbe2",
   "metadata": {
    "tags": []
   },
   "outputs": [],
   "source": [
    "..."
   ]
  },
  {
   "cell_type": "code",
   "execution_count": null,
   "id": "143b33f4-48e8-40ed-9da9-45001477c002",
   "metadata": {
    "tags": []
   },
   "outputs": [],
   "source": [
    "a_string = ...\n",
    "a_string"
   ]
  },
  {
   "cell_type": "code",
   "execution_count": null,
   "id": "d0cf6a04-9066-4d86-ba60-87bdc599d45a",
   "metadata": {
    "tags": []
   },
   "outputs": [],
   "source": [
    "..."
   ]
  },
  {
   "cell_type": "markdown",
   "id": "e62893de-f5b2-4f5a-9cfc-c98fe4015167",
   "metadata": {
    "slideshow": {
     "slide_type": "fragment"
    }
   },
   "source": [
    "---"
   ]
  },
  {
   "cell_type": "markdown",
   "id": "0419afc2-3a11-45c6-913f-ced00ef20cf7",
   "metadata": {
    "slideshow": {
     "slide_type": "notes"
    }
   },
   "source": [
    "<footer>\n",
    "    <p>Adopted from UC Berkeley DATA 8 course materials.</p>\n",
    "    <p>This content is offered under a <a href=\"https://creativecommons.org/licenses/by-nc-sa/4.0/\">CC Attribution Non-Commercial Share Alike</a> license.</p>\n",
    "</footer>"
   ]
  }
 ],
 "metadata": {
  "kernelspec": {
   "display_name": "Python 3 (ipykernel)",
   "language": "python",
   "name": "python3"
  },
  "language_info": {
   "codemirror_mode": {
    "name": "ipython",
    "version": 3
   },
   "file_extension": ".py",
   "mimetype": "text/x-python",
   "name": "python",
   "nbconvert_exporter": "python",
   "pygments_lexer": "ipython3",
   "version": "3.10.12"
  },
  "otter": {
   "OK_FORMAT": true,
   "tests": {}
  }
 },
 "nbformat": 4,
 "nbformat_minor": 5
}
