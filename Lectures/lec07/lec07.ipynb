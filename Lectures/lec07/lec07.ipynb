{
 "cells": [
  {
   "cell_type": "markdown",
   "id": "d15da123-cd0e-4a71-9dff-ef6bcfa2cabf",
   "metadata": {
    "slideshow": {
     "slide_type": "slide"
    }
   },
   "source": [
    "<div style=\"width: 38.5%;\">\n",
    "    <p><strong>City College of San Francisco</strong><p>\n",
    "    <hr>\n",
    "    <p>MATH 108 - Foundations of Data Science</p>\n",
    "</div>"
   ]
  },
  {
   "cell_type": "markdown",
   "id": "3fb190b4-d1c1-424a-a06e-e9e22e14fc14",
   "metadata": {
    "slideshow": {
     "slide_type": "-"
    }
   },
   "source": [
    "# Lecture 07: Building Tables"
   ]
  },
  {
   "cell_type": "markdown",
   "id": "aa88a61c-44e5-460c-adff-1502b2d79cbc",
   "metadata": {
    "slideshow": {
     "slide_type": "-"
    }
   },
   "source": [
    "Associated Textbook Sections: [5.0, 5.1, 5.2, 5.3](https://inferentialthinking.com/chapters/05/Sequences.html)"
   ]
  },
  {
   "cell_type": "markdown",
   "id": "4c58e7f6-ea37-4c02-bb8d-f7a003f30d72",
   "metadata": {},
   "source": [
    "---"
   ]
  },
  {
   "cell_type": "markdown",
   "id": "62596437-d186-4e3c-995b-5294e0dd1675",
   "metadata": {
    "slideshow": {
     "slide_type": "slide"
    }
   },
   "source": [
    "## Overview"
   ]
  },
  {
   "cell_type": "markdown",
   "id": "4456268a-f6cc-44af-bd82-8ed6b0ed7034",
   "metadata": {
    "slideshow": {
     "slide_type": "-"
    }
   },
   "source": [
    "* [Creating Tables](#Creating-Tables)\n",
    "* [Columns and Rows of Tables](#Columns-and-Rows-of-Tables)\n",
    "* [Attribute Types](#Attribute-Types)\n",
    "* [Exploring the Tallest_Buildings](#Exploring-the-Tallest-Buildings)\n",
    "* [Exploring Movies](#Exploring-Movies)"
   ]
  },
  {
   "cell_type": "markdown",
   "id": "586b3afd-dc75-4925-a665-0cf0d845d5bc",
   "metadata": {},
   "source": [
    "---"
   ]
  },
  {
   "cell_type": "markdown",
   "id": "e359cf1a-3aa1-4023-8346-130a16c02bc0",
   "metadata": {
    "slideshow": {
     "slide_type": "slide"
    }
   },
   "source": [
    "## Set Up the Notebook"
   ]
  },
  {
   "cell_type": "code",
   "execution_count": null,
   "id": "e7f66358-aa6b-467e-8b93-c612ae9c694f",
   "metadata": {
    "slideshow": {
     "slide_type": "-"
    },
    "tags": []
   },
   "outputs": [],
   "source": [
    "from datascience import *\n",
    "import numpy as np"
   ]
  },
  {
   "cell_type": "markdown",
   "id": "e3c6644a-0ab1-456f-8bb5-1b3d24c3b39b",
   "metadata": {},
   "source": [
    "---"
   ]
  },
  {
   "cell_type": "markdown",
   "id": "e889809e-e129-4820-a35c-7314ed60c843",
   "metadata": {
    "slideshow": {
     "slide_type": "slide"
    }
   },
   "source": [
    "## Creating Tables"
   ]
  },
  {
   "cell_type": "markdown",
   "id": "91688f26-57e6-4857-a0fe-b120a2dee582",
   "metadata": {
    "slideshow": {
     "slide_type": "-"
    }
   },
   "source": [
    "Here are *some* of the ways that you will create a table in this class:\n",
    "* `Table.read_table(filename)` - a table from a CSV file\n",
    "* `Table()` - an empty table\n",
    "* `select`, `drop`, `where`, `sort`, etc. - a table from existing tables\n",
    "* `with_column` and `with_columns` - a table from an existing table with additional columns\n",
    "* `with_row` and `with_rows` - a table from an existing table with additional rows"
   ]
  },
  {
   "cell_type": "markdown",
   "id": "dd496696-3abb-43e9-961b-c9c3d3347442",
   "metadata": {},
   "source": [
    "---"
   ]
  },
  {
   "cell_type": "markdown",
   "id": "24d7cc8f-1456-4f62-8a2c-ab837342e879",
   "metadata": {
    "slideshow": {
     "slide_type": "subslide"
    }
   },
   "source": [
    "### Demo: Using `read_table`"
   ]
  },
  {
   "cell_type": "markdown",
   "id": "98d71456-e7ee-4d2d-9dda-bfdbe78b51e3",
   "metadata": {
    "deletable": false,
    "editable": false
   },
   "source": [
    "As of February 2024, the tallest buildings in the United States (according to Wikipedia) **should** be stored in the file `tallest_buildings.csv`. This file is located in your the same folder as this Jupyter Notebook."
   ]
  },
  {
   "cell_type": "code",
   "execution_count": null,
   "id": "9f6f698e-5009-4522-a5eb-134396fd9379",
   "metadata": {
    "tags": []
   },
   "outputs": [],
   "source": [
    "tallest_buildings = ...\n",
    "tallest_buildings"
   ]
  },
  {
   "cell_type": "markdown",
   "id": "f05845c2-70b0-42a6-9087-9146bf8c282c",
   "metadata": {},
   "source": [
    "---"
   ]
  },
  {
   "cell_type": "markdown",
   "id": "35d6d5a9-d4e5-4a58-b0b6-9d653c7c99c4",
   "metadata": {
    "slideshow": {
     "slide_type": "subslide"
    }
   },
   "source": [
    "### Demo: Tables from Tables"
   ]
  },
  {
   "cell_type": "markdown",
   "id": "484da530-7d7b-47dd-8647-02f8aaa69f51",
   "metadata": {
    "deletable": false,
    "editable": false
   },
   "source": [
    "Most (not all) of the table methods create a new table and do not modify the original table."
   ]
  },
  {
   "cell_type": "code",
   "execution_count": null,
   "id": "18693a2d-1c94-44f5-b14a-ac4965712aef",
   "metadata": {
    "tags": []
   },
   "outputs": [],
   "source": [
    "tallest_buildings.select('Name', 'Height (ft)')"
   ]
  },
  {
   "cell_type": "code",
   "execution_count": null,
   "id": "9b2baa01-3c6d-4ea5-b834-adaaa5c048aa",
   "metadata": {
    "tags": []
   },
   "outputs": [],
   "source": [
    "tallest_buildings"
   ]
  },
  {
   "cell_type": "code",
   "execution_count": null,
   "id": "6369f77e-02ac-46df-9b8c-082bda57c66e",
   "metadata": {
    "tags": []
   },
   "outputs": [],
   "source": [
    "name_height = tallest_buildings.select('Name', 'Height (ft)')\n",
    "name_height"
   ]
  },
  {
   "cell_type": "code",
   "execution_count": null,
   "id": "9933d33d-bda9-412e-b540-e3fbae45b9c3",
   "metadata": {
    "scrolled": true,
    "tags": []
   },
   "outputs": [],
   "source": [
    "buildings_above_1500 = tallest_buildings.where('Height (ft)', are.above_or_equal_to(1500))\n",
    "buildings_above_1500"
   ]
  },
  {
   "cell_type": "markdown",
   "id": "d2337aad-2030-4ee1-a20b-f37abe37f6f4",
   "metadata": {},
   "source": [
    "---"
   ]
  },
  {
   "cell_type": "markdown",
   "id": "45ed7b6f-c19d-40da-b432-08daf05e110b",
   "metadata": {},
   "source": [
    "## Columns and Rows of Tables"
   ]
  },
  {
   "cell_type": "markdown",
   "id": "4b232269-58b5-4b45-ba49-b8b1695a6431",
   "metadata": {},
   "source": [
    "* Columns:\n",
    "    * Labeled NumPy arrays\n",
    "    * Column labels are strings\n",
    "    * All column values have the same data type\n",
    "    * `t.select(column_labels_or_indexes)` - creates a table with the specified columns of table `t`.\n",
    "    * `t.column(column_label_or_index)` - creates an array with the specified column information\n",
    "* Rows:\n",
    "    * `Row` data type (... kind of like a `list` where the items have labels)\n",
    "    * `t.take(row_indexes)` - creates a table with the specified rows\n",
    "    * `t.row(row_indexes)` - creates a row object with the specified rows"
   ]
  },
  {
   "cell_type": "markdown",
   "id": "3eb087a4-d69e-4fd0-967b-b3d8f86e283e",
   "metadata": {},
   "source": [
    "---"
   ]
  },
  {
   "cell_type": "markdown",
   "id": "bac6e6b9-c232-47bc-b6fb-5c2bae9a20cb",
   "metadata": {},
   "source": [
    "### Demo: Rows and Columns"
   ]
  },
  {
   "cell_type": "markdown",
   "id": "d74b39da-3f91-4130-ba7f-f57907af5f86",
   "metadata": {
    "deletable": false,
    "editable": false
   },
   "source": [
    "Compare the `row` and `take` table methods."
   ]
  },
  {
   "cell_type": "code",
   "execution_count": null,
   "id": "c1335dab-74e5-4904-9fcb-aed7a317916f",
   "metadata": {
    "tags": []
   },
   "outputs": [],
   "source": [
    "..."
   ]
  },
  {
   "cell_type": "code",
   "execution_count": null,
   "id": "daaad808-5ea0-4e49-abeb-c3bbe3dd13b3",
   "metadata": {
    "tags": []
   },
   "outputs": [],
   "source": [
    "..."
   ]
  },
  {
   "cell_type": "code",
   "execution_count": null,
   "id": "0977845c-850f-4209-be43-8493d3779e9f",
   "metadata": {
    "tags": []
   },
   "outputs": [],
   "source": [
    "..."
   ]
  },
  {
   "cell_type": "code",
   "execution_count": null,
   "id": "3e7798e8-524a-4763-9464-e6eba676e441",
   "metadata": {
    "tags": []
   },
   "outputs": [],
   "source": [
    "..."
   ]
  },
  {
   "cell_type": "markdown",
   "id": "65e78f45-0fde-481b-a078-4417121fa207",
   "metadata": {},
   "source": [
    "---"
   ]
  },
  {
   "cell_type": "markdown",
   "id": "ec33c991-37b8-4c98-9052-72e18816cb69",
   "metadata": {
    "deletable": false,
    "editable": false
   },
   "source": [
    "Demonstrate how to use an array to use `take` with more than 1 row."
   ]
  },
  {
   "cell_type": "code",
   "execution_count": null,
   "id": "86701208-6727-49ba-8fc7-1508440bf500",
   "metadata": {
    "scrolled": true,
    "tags": []
   },
   "outputs": [],
   "source": [
    "tallest_buildings.take(np.arange(5))"
   ]
  },
  {
   "cell_type": "markdown",
   "id": "f3fd7125-a488-4c18-abf2-f198ea43e156",
   "metadata": {},
   "source": [
    "---"
   ]
  },
  {
   "cell_type": "markdown",
   "id": "aba366d6-9a25-4677-9875-9563cafbd1c9",
   "metadata": {
    "deletable": false,
    "editable": false
   },
   "source": [
    "Compare the `select` and `column` table methods."
   ]
  },
  {
   "cell_type": "code",
   "execution_count": null,
   "id": "a0dcb944-a1d2-4808-a65f-3185729fa521",
   "metadata": {
    "tags": []
   },
   "outputs": [],
   "source": [
    "..."
   ]
  },
  {
   "cell_type": "code",
   "execution_count": null,
   "id": "26490243-ac30-459f-894b-9e733c9c6e31",
   "metadata": {
    "scrolled": true,
    "tags": []
   },
   "outputs": [],
   "source": [
    "..."
   ]
  },
  {
   "cell_type": "markdown",
   "id": "e44a4c1e-ec02-43b2-9624-5e1047b799a7",
   "metadata": {},
   "source": [
    "---"
   ]
  },
  {
   "cell_type": "markdown",
   "id": "e7f5b71b-06f1-4883-9193-f7d9e7b31d68",
   "metadata": {
    "slideshow": {
     "slide_type": "subslide"
    }
   },
   "source": [
    "### Demo: Creating a Table from Scratch"
   ]
  },
  {
   "cell_type": "markdown",
   "id": "21bac27b-7e98-4174-99e6-14d4c2b7938a",
   "metadata": {
    "deletable": false,
    "editable": false,
    "slideshow": {
     "slide_type": "skip"
    }
   },
   "source": [
    "Create a table containing information on the major east-west streets north of the Ocean campus and how far they are from campus.\n",
    "\n",
    "[Google Maps near CCSF - Ocean Campus](https://goo.gl/maps/QVR57VvqKWqLeSA9A)"
   ]
  },
  {
   "cell_type": "code",
   "execution_count": null,
   "id": "983a7a6e-9168-4740-8e17-6559761f79e2",
   "metadata": {
    "deletable": false,
    "editable": false,
    "slideshow": {
     "slide_type": "subslide"
    }
   },
   "outputs": [],
   "source": [
    "from IPython.display import IFrame\n",
    "IFrame('https://www.google.com/maps/embed?pb=!1m10!1m8!1m3!1d6311.10985715617\\\n",
    "7!2d-122.4451173!3d37.7301236!3m2!1i1024!2i768!4f13.1!5e0!3m2!1sen!2sus!4v1675\\\n",
    "197446609!5m2!1sen!2sus', 600, 450)"
   ]
  },
  {
   "cell_type": "code",
   "execution_count": null,
   "id": "33dcfd62-c6ef-4933-ae13-8b3695479c4d",
   "metadata": {
    "slideshow": {
     "slide_type": "fragment"
    },
    "tags": []
   },
   "outputs": [],
   "source": [
    "streets = make_array('Judson', 'Staples', 'Flood', 'Hearst')\n",
    "streets"
   ]
  },
  {
   "cell_type": "code",
   "execution_count": null,
   "id": "a95b9620-31d3-4189-99d5-e1c83b5d28fe",
   "metadata": {
    "slideshow": {
     "slide_type": "subslide"
    },
    "tags": []
   },
   "outputs": [],
   "source": [
    "Table()"
   ]
  },
  {
   "cell_type": "code",
   "execution_count": null,
   "id": "c4ee7900-5310-4be1-9304-4a6282b097fa",
   "metadata": {
    "tags": []
   },
   "outputs": [],
   "source": [
    "northside = ...\n",
    "northside"
   ]
  },
  {
   "cell_type": "code",
   "execution_count": null,
   "id": "88c7eb29-de75-4d84-9a3a-425a71af1d85",
   "metadata": {
    "tags": []
   },
   "outputs": [],
   "source": [
    "..."
   ]
  },
  {
   "cell_type": "code",
   "execution_count": null,
   "id": "4a1aa786-a57c-46c3-9ed4-7f2dbdbc7c49",
   "metadata": {
    "slideshow": {
     "slide_type": "subslide"
    },
    "tags": []
   },
   "outputs": [],
   "source": [
    "northside = ...\n",
    "northside"
   ]
  },
  {
   "cell_type": "code",
   "execution_count": null,
   "id": "02a15533-4d98-4b04-89b2-417dec68b9b0",
   "metadata": {
    "slideshow": {
     "slide_type": "fragment"
    },
    "tags": []
   },
   "outputs": [],
   "source": [
    "..."
   ]
  },
  {
   "cell_type": "code",
   "execution_count": null,
   "id": "9ff78cf6-1baf-4a55-ac21-241424ff7dd7",
   "metadata": {
    "slideshow": {
     "slide_type": "subslide"
    },
    "tags": []
   },
   "outputs": [],
   "source": [
    "northside"
   ]
  },
  {
   "cell_type": "code",
   "execution_count": null,
   "id": "f4c658e8-da8f-4929-a502-e5890207be83",
   "metadata": {
    "slideshow": {
     "slide_type": "fragment"
    },
    "tags": []
   },
   "outputs": [],
   "source": [
    "northside = ...\n",
    "northside"
   ]
  },
  {
   "cell_type": "markdown",
   "id": "2f97c29a-42a0-4169-ad74-aa9fe69d4efb",
   "metadata": {},
   "source": [
    "---"
   ]
  },
  {
   "cell_type": "markdown",
   "id": "f79acef8-7ae3-4e77-bfc4-5549fb1294f5",
   "metadata": {
    "deletable": false,
    "editable": false
   },
   "source": [
    "Update `northside` to include Monterey by adding it using `with_row`."
   ]
  },
  {
   "cell_type": "code",
   "execution_count": null,
   "id": "e51c4465-9a8a-454c-9281-6c053019d2c2",
   "metadata": {
    "tags": []
   },
   "outputs": [],
   "source": [
    "monterey_data = ...\n",
    "monterey_data"
   ]
  },
  {
   "cell_type": "code",
   "execution_count": null,
   "id": "74e12faf-9543-41a8-af3c-96a7c3a90a50",
   "metadata": {
    "scrolled": true,
    "tags": []
   },
   "outputs": [],
   "source": [
    "northside = ...\n",
    "northside"
   ]
  },
  {
   "cell_type": "markdown",
   "id": "616bb779-a513-4d28-9c49-454a4e637fc6",
   "metadata": {},
   "source": [
    "---"
   ]
  },
  {
   "cell_type": "markdown",
   "id": "97056ce1-c77c-4d33-8ce8-0303e5651044",
   "metadata": {
    "deletable": false,
    "editable": false
   },
   "source": [
    "Add multiple columns to a table using .with_columns"
   ]
  },
  {
   "cell_type": "code",
   "execution_count": null,
   "id": "83f1a830-2a5c-49ef-80c0-27ff3a3423d2",
   "metadata": {
    "scrolled": true,
    "tags": []
   },
   "outputs": [],
   "source": [
    "streets = make_array('Judson', 'Staples', 'Flood', 'Hearst', 'Monterey')\n",
    "blocks = np.arange(5)\n",
    "northside_again = ...\n",
    "northside_again"
   ]
  },
  {
   "cell_type": "markdown",
   "id": "0ef2d8ce-7166-4954-91a5-40b7fb0db2b3",
   "metadata": {},
   "source": [
    "---"
   ]
  },
  {
   "cell_type": "markdown",
   "id": "5c63ed3d-02a0-4333-ae0b-d8d4d5117ff4",
   "metadata": {
    "slideshow": {
     "slide_type": "slide"
    }
   },
   "source": [
    "## Attribute Types\n"
   ]
  },
  {
   "cell_type": "markdown",
   "id": "0d4d51f7-22f9-4030-b6af-5832f4441618",
   "metadata": {},
   "source": [
    "---"
   ]
  },
  {
   "cell_type": "markdown",
   "id": "5ec46d9d-625a-43e3-b22b-3269be53e877",
   "metadata": {
    "slideshow": {
     "slide_type": "subslide"
    }
   },
   "source": [
    "### Types of Attributes"
   ]
  },
  {
   "cell_type": "markdown",
   "id": "834ce008-4288-43db-817e-a69aa9d2572c",
   "metadata": {
    "slideshow": {
     "slide_type": "-"
    }
   },
   "source": [
    "All values in a column of a table should be both the same type and be comparable to each other in some way\n",
    "* **Numerical** --- Each value is from a numerical scale\n",
    "    * Numerical measurements are ordered\n",
    "    * Differences are meaningful\n",
    "* **Categorical** --- Each value is from a fixed inventory\n",
    "    * May or may not have an ordering\n",
    "    * Categories are the same or different\n"
   ]
  },
  {
   "cell_type": "markdown",
   "id": "537ec828-8a5e-41ad-8284-b0980dfa33ff",
   "metadata": {},
   "source": [
    "---"
   ]
  },
  {
   "cell_type": "markdown",
   "id": "d0728103-831e-4d37-9cfa-c2e14489bd4c",
   "metadata": {
    "slideshow": {
     "slide_type": "subslide"
    }
   },
   "source": [
    "### “Numerical” Attributes"
   ]
  },
  {
   "cell_type": "markdown",
   "id": "eac7ab20-6bd9-456e-a940-0a947532a328",
   "metadata": {
    "slideshow": {
     "slide_type": "-"
    }
   },
   "source": [
    "Sometimes numbers represent categorical data:\n",
    "* 94112 and 94110 are San Francisco ZIP codes\n",
    "* Subtracting 94112 and 94110 doesn't yield a meaningful value\n",
    "* ZIP codes are categorical, even though numbers were used for the categories"
   ]
  },
  {
   "cell_type": "markdown",
   "id": "db6e8dc4-63b2-4c7e-8fcb-4ef4e846b202",
   "metadata": {
    "slideshow": {
     "slide_type": "fragment"
    }
   },
   "source": [
    "---"
   ]
  },
  {
   "cell_type": "markdown",
   "id": "22db6753-c20d-4685-84b5-da2e4131ad4e",
   "metadata": {
    "slideshow": {
     "slide_type": "slide"
    }
   },
   "source": [
    "## Exploring the Tallest Buildings"
   ]
  },
  {
   "cell_type": "markdown",
   "id": "20e099f9-2d65-4c9b-b3c7-36ee6f530c10",
   "metadata": {},
   "source": [
    "---"
   ]
  },
  {
   "cell_type": "markdown",
   "id": "364d17e4-2994-4e1d-8b74-e09011553c9d",
   "metadata": {},
   "source": [
    "### Tallest Buildings Attributes"
   ]
  },
  {
   "cell_type": "code",
   "execution_count": null,
   "id": "461e946f-bf40-4fdc-a629-992e6ace73f7",
   "metadata": {},
   "outputs": [],
   "source": [
    "tallest_buildings"
   ]
  },
  {
   "cell_type": "markdown",
   "id": "90a10a08-2974-40b9-9026-2c2a5a701956",
   "metadata": {},
   "source": [
    "* `'Name'` and `'City'` are categorical attributes\n",
    "* The other attributes are numerical"
   ]
  },
  {
   "cell_type": "markdown",
   "id": "06da9039-49c5-4a1d-9a29-e0ede4bdf681",
   "metadata": {},
   "source": [
    "---"
   ]
  },
  {
   "cell_type": "markdown",
   "id": "90b244a1-58a1-41c0-b958-3376c05fc4a5",
   "metadata": {},
   "source": [
    "### Summarizing Height"
   ]
  },
  {
   "cell_type": "markdown",
   "id": "ce82fb7f-08b6-4238-b29b-ba8c700f4bde",
   "metadata": {},
   "source": [
    "Remember that `select` and `column` produce different data types."
   ]
  },
  {
   "cell_type": "code",
   "execution_count": null,
   "id": "4a38189e-13ab-40c8-b8e3-8782c0f4d96d",
   "metadata": {
    "slideshow": {
     "slide_type": "subslide"
    },
    "tags": []
   },
   "outputs": [],
   "source": [
    "tallest_buildings.select('Height (ft)')"
   ]
  },
  {
   "cell_type": "code",
   "execution_count": null,
   "id": "174cf07c-f38c-425d-971d-ebe08560aeb2",
   "metadata": {
    "slideshow": {
     "slide_type": "subslide"
    },
    "tags": []
   },
   "outputs": [],
   "source": [
    "tallest_buildings.column('Height (ft)')"
   ]
  },
  {
   "cell_type": "markdown",
   "id": "a0ff2695-46d2-4d6a-92b6-4520a8133b8e",
   "metadata": {},
   "source": [
    "---"
   ]
  },
  {
   "cell_type": "markdown",
   "id": "000e4852-53a9-409a-bbd6-af4db1673839",
   "metadata": {},
   "source": [
    "### Average"
   ]
  },
  {
   "cell_type": "markdown",
   "id": "7a86858a-6a1d-414b-be63-4c8ce8a16e92",
   "metadata": {
    "slideshow": {
     "slide_type": "subslide"
    },
    "tags": []
   },
   "source": [
    "* The average is one way to summarize numerical data like the heights of buildings.\n",
    "* Use `np.average` to calculate the average of an array of values.\n",
    "* Another name that we will use for average is `mean`.\n",
    "* `np.mean` calculates the mean of an array of values.\n",
    "* For our class, we will use average and mean interchangeably.\n",
    "* The `np.average` function also calculates weighted averages."
   ]
  },
  {
   "cell_type": "markdown",
   "id": "5f369aaa-86b2-4c0e-a37f-88a5271a7649",
   "metadata": {},
   "source": [
    "---"
   ]
  },
  {
   "cell_type": "markdown",
   "id": "ae310092-911e-4764-a80e-782a18dbe155",
   "metadata": {},
   "source": [
    "#### Demo: Average"
   ]
  },
  {
   "cell_type": "markdown",
   "id": "25cf2cc3-2610-4c67-be5a-e890ac43672d",
   "metadata": {
    "deletable": false,
    "editable": false
   },
   "source": [
    "Calculate the average height of the buildings in the data set."
   ]
  },
  {
   "cell_type": "code",
   "execution_count": null,
   "id": "1b5483ff-0a71-41f4-86b0-1e874f6f8883",
   "metadata": {
    "slideshow": {
     "slide_type": "subslide"
    },
    "tags": []
   },
   "outputs": [],
   "source": [
    "heights = ...\n",
    "heights"
   ]
  },
  {
   "cell_type": "code",
   "execution_count": null,
   "id": "66e772af-3c97-4f6c-89c9-3b66ab6dd92d",
   "metadata": {
    "slideshow": {
     "slide_type": "subslide"
    },
    "tags": []
   },
   "outputs": [],
   "source": [
    "average_height = ...\n",
    "average_height"
   ]
  },
  {
   "cell_type": "markdown",
   "id": "1d37e45a-d401-4f98-9203-69aa24ad30a6",
   "metadata": {},
   "source": [
    "---"
   ]
  },
  {
   "cell_type": "markdown",
   "id": "b06bb570-f9eb-4a8d-b622-9efcf6346a5b",
   "metadata": {},
   "source": [
    "### Median"
   ]
  },
  {
   "cell_type": "markdown",
   "id": "95c4f5ef-dce3-4ddd-8906-3dd570ea01ae",
   "metadata": {},
   "source": [
    "* The median can also be used to summarize numerical data like the heights of buildings\n",
    "* The median is:\n",
    "    * The middle value of an odd number of sorted data points\n",
    "    * The average of the two middle values of an even number of sorted data points\n",
    "* Use `np.median` to calculate the median of an array of numerical values."
   ]
  },
  {
   "cell_type": "markdown",
   "id": "c486c54f-761e-4a5b-a0aa-329b359314fd",
   "metadata": {},
   "source": [
    "---"
   ]
  },
  {
   "cell_type": "markdown",
   "id": "ee8940ea-7510-46de-802c-0bd989c93557",
   "metadata": {},
   "source": [
    "#### Demo: Median"
   ]
  },
  {
   "cell_type": "markdown",
   "id": "f2cf0672-fdfa-48a6-9ae3-3e012bd6573a",
   "metadata": {
    "deletable": false,
    "editable": false
   },
   "source": [
    "Calculate the median height of the buildings in the table."
   ]
  },
  {
   "cell_type": "code",
   "execution_count": null,
   "id": "fcfc420f-6432-4676-94d7-621ede20c165",
   "metadata": {
    "tags": []
   },
   "outputs": [],
   "source": [
    "median_height = ...\n",
    "median_height"
   ]
  },
  {
   "cell_type": "markdown",
   "id": "9722ce02-e429-48b6-904b-001c56874c62",
   "metadata": {},
   "source": [
    "---"
   ]
  },
  {
   "cell_type": "markdown",
   "id": "3f98e35a-4208-4139-9d03-e50a566e7da9",
   "metadata": {},
   "source": [
    "### The Salesforce Tower"
   ]
  },
  {
   "cell_type": "markdown",
   "id": "bb88d2d8-fc31-4619-b2f4-e36ee83dd953",
   "metadata": {
    "deletable": false,
    "editable": false,
    "slideshow": {
     "slide_type": "skip"
    }
   },
   "source": [
    "The Salesforce Tower in San Francisco is one of the tallest buildings in the country. See if it is in the `tallest_buildings` table."
   ]
  },
  {
   "cell_type": "code",
   "execution_count": null,
   "id": "f6b4c863-e044-461a-ad0d-d65af6f432b0",
   "metadata": {
    "slideshow": {
     "slide_type": "fragment"
    },
    "tags": []
   },
   "outputs": [],
   "source": [
    "..."
   ]
  },
  {
   "cell_type": "markdown",
   "id": "cff00fd7-e37c-4733-9c21-26e9dbcbca4f",
   "metadata": {},
   "source": [
    "---"
   ]
  },
  {
   "cell_type": "markdown",
   "id": "ff345761-a1d7-4e73-9d36-a8e79baacf42",
   "metadata": {
    "deletable": false,
    "editable": false
   },
   "source": [
    "There must have been a mistake on creating the `tallest_buildings.csv` data file, because the Salesforce Tower is on [Wikipedia's page](https://en.wikipedia.org/wiki/List_of_tallest_buildings_in_the_United_States), but not in the table. Create a new table that includes all the information in `tallest_buildings` and the Salesforce Tower information."
   ]
  },
  {
   "cell_type": "code",
   "execution_count": null,
   "id": "885c1b96-2fc1-4a5c-a177-50a6fe60c33c",
   "metadata": {
    "slideshow": {
     "slide_type": "subslide"
    },
    "tags": []
   },
   "outputs": [],
   "source": [
    "tallest_buildings_with_SFT = ...\n",
    "tallest_buildings_with_SFT.where('City', 'San Francisco')"
   ]
  },
  {
   "cell_type": "markdown",
   "id": "ef643f17-16f0-46f1-ae03-f90ebd16bb97",
   "metadata": {},
   "source": [
    "---"
   ]
  },
  {
   "cell_type": "markdown",
   "id": "75ff5890-f491-48db-87d6-add2f8d14ebe",
   "metadata": {
    "slideshow": {
     "slide_type": "subslide"
    }
   },
   "source": [
    "## Exploring Movies"
   ]
  },
  {
   "cell_type": "markdown",
   "id": "6c751ebc-5ec4-4b81-a04a-0444334dd2d3",
   "metadata": {},
   "source": [
    "---"
   ]
  },
  {
   "cell_type": "markdown",
   "id": "62040c7f-53e9-4b02-82c8-995ed2e0ed92",
   "metadata": {},
   "source": [
    "### Loading the Data"
   ]
  },
  {
   "cell_type": "markdown",
   "id": "752303c9-2892-444b-8398-9d39c6385eea",
   "metadata": {
    "slideshow": {
     "slide_type": "skip"
    }
   },
   "source": [
    "Explore the `top_movies.csv` data set that we generated from [www.the-numbers.com/market](https://www.the-numbers.com/market/). Try to implement several of the methods and attributes seen so far."
   ]
  },
  {
   "cell_type": "code",
   "execution_count": null,
   "id": "24737efb-ffae-4a87-a72c-cc81e655e891",
   "metadata": {
    "slideshow": {
     "slide_type": "fragment"
    },
    "tags": []
   },
   "outputs": [],
   "source": [
    "movies = Table.read_table('top_movies.csv')\n",
    "movies"
   ]
  },
  {
   "cell_type": "markdown",
   "id": "f10ebb08-6937-4589-971d-2931f93159f2",
   "metadata": {},
   "source": [
    "---"
   ]
  },
  {
   "cell_type": "markdown",
   "id": "7819ecf1-2f37-4cca-aece-c04882579dcb",
   "metadata": {},
   "source": [
    "### Data Attributes"
   ]
  },
  {
   "cell_type": "markdown",
   "id": "c7ab25ab-3e24-4e62-9d04-b076187712db",
   "metadata": {},
   "source": [
    "* `'Year'`, `'Total for Year ($)'`, `'Total in 2022 dollars'`, and `'Tickets Sold'` are numerical attributes\n",
    "* The other attributes are categorical"
   ]
  },
  {
   "cell_type": "markdown",
   "id": "20a14563-9d37-412e-b53f-6598d50d337e",
   "metadata": {},
   "source": [
    "---"
   ]
  },
  {
   "cell_type": "markdown",
   "id": "fff2fa66-d30e-4845-8882-2fb06e4b2238",
   "metadata": {},
   "source": [
    "### Demo: Explore Movies"
   ]
  },
  {
   "cell_type": "markdown",
   "id": "1d6d8535-28dc-4f8b-bba0-b70cc67240ca",
   "metadata": {
    "deletable": false,
    "editable": false,
    "slideshow": {
     "slide_type": "skip"
    }
   },
   "source": [
    "Calculate the average ticket price and add that information to the table."
   ]
  },
  {
   "cell_type": "code",
   "execution_count": null,
   "id": "90084a28-88d2-48a1-8b3d-4dad3a40d9b7",
   "metadata": {
    "slideshow": {
     "slide_type": "subslide"
    },
    "tags": []
   },
   "outputs": [],
   "source": [
    "total_gross = ...\n",
    "number_of_tickets_sold = ...\n",
    "ave_ticket_price = ...\n",
    "ave_ticket_price"
   ]
  },
  {
   "cell_type": "code",
   "execution_count": null,
   "id": "03a2bc19-09e5-4186-bfa8-fafabf639865",
   "metadata": {
    "slideshow": {
     "slide_type": "subslide"
    },
    "tags": []
   },
   "outputs": [],
   "source": [
    "movies = ...\n",
    "movies"
   ]
  },
  {
   "cell_type": "markdown",
   "id": "7ff96af3-bf81-4bdb-a06f-7d9ce36d6952",
   "metadata": {},
   "source": [
    "---"
   ]
  },
  {
   "cell_type": "markdown",
   "id": "af724297-3669-49c0-b3e3-db1e796275ff",
   "metadata": {
    "deletable": false,
    "editable": false,
    "slideshow": {
     "slide_type": "skip"
    }
   },
   "source": [
    "Practice filtering the data using the `where` and `take` table methods."
   ]
  },
  {
   "cell_type": "code",
   "execution_count": null,
   "id": "ee3fd831-998b-4e21-8441-62c10990f1e2",
   "metadata": {
    "slideshow": {
     "slide_type": "subslide"
    },
    "tags": []
   },
   "outputs": [],
   "source": [
    "..."
   ]
  },
  {
   "cell_type": "code",
   "execution_count": null,
   "id": "ba0514cc-4b53-405f-8aff-cd1061676159",
   "metadata": {
    "slideshow": {
     "slide_type": "fragment"
    },
    "tags": []
   },
   "outputs": [],
   "source": [
    "..."
   ]
  },
  {
   "cell_type": "code",
   "execution_count": null,
   "id": "7574046b-fe85-4472-8a8c-53a38f00b6b9",
   "metadata": {
    "slideshow": {
     "slide_type": "subslide"
    },
    "tags": []
   },
   "outputs": [],
   "source": [
    "..."
   ]
  },
  {
   "cell_type": "code",
   "execution_count": null,
   "id": "c6762d3f-fac5-4433-8dc7-47c123b9150b",
   "metadata": {
    "slideshow": {
     "slide_type": "subslide"
    },
    "tags": []
   },
   "outputs": [],
   "source": [
    "..."
   ]
  },
  {
   "cell_type": "code",
   "execution_count": null,
   "id": "a6b5a89c-ced8-497c-a006-b0371b65f4bb",
   "metadata": {
    "tags": []
   },
   "outputs": [],
   "source": [
    "sorted_movies = ...\n",
    "top_5_movies = ...\n",
    "top_5_movies"
   ]
  },
  {
   "cell_type": "markdown",
   "id": "98de31c3-f833-4d1e-82a7-5cf83cc9cc68",
   "metadata": {
    "slideshow": {
     "slide_type": "notes"
    }
   },
   "source": [
    "<footer>\n",
    "    <hr>\n",
    "    <p>Adopted from UC Berkeley DATA 8 course materials.</p>\n",
    "    <p>This content is offered under a <a href=\"https://creativecommons.org/licenses/by-nc-sa/4.0/\">CC Attribution Non-Commercial Share Alike</a> license.</p>\n",
    "</footer>"
   ]
  }
 ],
 "metadata": {
  "kernelspec": {
   "display_name": "Python 3 (ipykernel)",
   "language": "python",
   "name": "python3"
  },
  "language_info": {
   "codemirror_mode": {
    "name": "ipython",
    "version": 3
   },
   "file_extension": ".py",
   "mimetype": "text/x-python",
   "name": "python",
   "nbconvert_exporter": "python",
   "pygments_lexer": "ipython3",
   "version": "3.10.12"
  },
  "otter": {
   "OK_FORMAT": true,
   "tests": {}
  }
 },
 "nbformat": 4,
 "nbformat_minor": 5
}
