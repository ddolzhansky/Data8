{
 "cells": [
  {
   "cell_type": "markdown",
   "id": "ba0567f2-f7e2-4bae-9947-af5a4e40db3f",
   "metadata": {
    "slideshow": {
     "slide_type": "slide"
    }
   },
   "source": [
    "<div style=\"width: 38.5%;\">\n",
    "    <p><strong>City College of San Francisco</strong><p>\n",
    "    <hr>\n",
    "    <p>MATH 108 - Foundations of Data Science</p>\n",
    "</div>"
   ]
  },
  {
   "cell_type": "markdown",
   "id": "a04ba554-943e-4017-897c-32a8fa5e7cfb",
   "metadata": {
    "slideshow": {
     "slide_type": "-"
    }
   },
   "source": [
    "# Lecture 09: Histograms"
   ]
  },
  {
   "cell_type": "markdown",
   "id": "36a9a690-7645-4f30-b8e5-88ef82f82d1c",
   "metadata": {
    "slideshow": {
     "slide_type": "-"
    }
   },
   "source": [
    "Associated Textbook Sections: [7.2](https://inferentialthinking.com/chapters/07/2/Visualizing_Numerical_Distributions.html)"
   ]
  },
  {
   "cell_type": "markdown",
   "id": "0adf8e42-c927-4297-95b2-6b19588ebbb2",
   "metadata": {},
   "source": [
    "---"
   ]
  },
  {
   "cell_type": "markdown",
   "id": "e33f3011-04d2-4a92-a945-59487ff0880f",
   "metadata": {
    "slideshow": {
     "slide_type": "slide"
    }
   },
   "source": [
    "## Overview"
   ]
  },
  {
   "cell_type": "markdown",
   "id": "8aff8c28-f286-41d4-84ad-0c8def51cf24",
   "metadata": {},
   "source": [
    "* [Distributions](#Distributions)\n",
    "* [Distributions of Categorical Variables](#Distributions-of-Categorical-Variables)\n",
    "* [Distributions of Numerical Variables](#Distributions-of-Numerical-Variables)\n",
    "* [Area Principle](#Area-Principle)\n",
    "* [Creating Histograms](#Creating-Histograms)\n",
    "* [Density and Area](#Density-and-Area)"
   ]
  },
  {
   "cell_type": "markdown",
   "id": "effdec55-1aaa-4805-b41d-6446498bbed6",
   "metadata": {},
   "source": [
    "---"
   ]
  },
  {
   "cell_type": "markdown",
   "id": "34ca0177-513a-45a3-96b3-4102691792a4",
   "metadata": {
    "slideshow": {
     "slide_type": "slide"
    }
   },
   "source": [
    "## Set Up the Notebook"
   ]
  },
  {
   "cell_type": "code",
   "execution_count": null,
   "id": "38892a3f-9f11-43b1-af62-c7a81aa0d00e",
   "metadata": {
    "slideshow": {
     "slide_type": "-"
    }
   },
   "outputs": [],
   "source": [
    "from datascience import *\n",
    "import numpy as np\n",
    "%matplotlib inline\n",
    "import matplotlib.pyplot as plt\n",
    "plt.style.use('fivethirtyeight')"
   ]
  },
  {
   "cell_type": "markdown",
   "id": "68d8c85c-676c-4dfb-bfd0-ecd555953f96",
   "metadata": {},
   "source": [
    "---"
   ]
  },
  {
   "cell_type": "markdown",
   "id": "368ae57e-e7d6-4f7b-ae18-d78f107a9e49",
   "metadata": {
    "slideshow": {
     "slide_type": "slide"
    }
   },
   "source": [
    "## Distributions"
   ]
  },
  {
   "cell_type": "markdown",
   "id": "47d2e01c-25a4-4636-aec7-83bc29636879",
   "metadata": {},
   "source": [
    "---"
   ]
  },
  {
   "cell_type": "markdown",
   "id": "aab379d9-8706-4b9d-a255-3561d755dea0",
   "metadata": {
    "slideshow": {
     "slide_type": "subslide"
    }
   },
   "source": [
    "### Terminology"
   ]
  },
  {
   "cell_type": "markdown",
   "id": "85563aa4-28aa-4c99-afd5-16428970f859",
   "metadata": {
    "slideshow": {
     "slide_type": "-"
    }
   },
   "source": [
    "* Individuals: those whose features are recorded\n",
    "* Variable: a feature, an attribute\n",
    "* A variable has different values\n",
    "* Values can be numerical or categorical, and of many subtypes within these \n",
    "* Each individual has exactly one value of the variable\n",
    "* Distribution: For each different value of the variable, the frequency of individuals that have that value"
   ]
  },
  {
   "cell_type": "markdown",
   "id": "4afdc280-0acd-4d97-85cd-f7b0bb22f38e",
   "metadata": {},
   "source": [
    "---"
   ]
  },
  {
   "cell_type": "markdown",
   "id": "18f9408b-3692-4d3d-a906-27e31307ec25",
   "metadata": {
    "slideshow": {
     "slide_type": "slide"
    }
   },
   "source": [
    "## Distributions of Categorical Variables"
   ]
  },
  {
   "cell_type": "markdown",
   "id": "853fdf93-90e3-4955-bbf7-b49a78080c8f",
   "metadata": {},
   "source": [
    "---"
   ]
  },
  {
   "cell_type": "markdown",
   "id": "e0234238-2ae6-4995-aea3-caf81defba10",
   "metadata": {
    "slideshow": {
     "slide_type": "subslide"
    }
   },
   "source": [
    "### Demo: Categorical Distribution"
   ]
  },
  {
   "cell_type": "markdown",
   "id": "946fbe6a-5a3a-49bf-bf50-77610fce2902",
   "metadata": {
    "slideshow": {
     "slide_type": "skip"
    }
   },
   "source": [
    "Load the `top_grosing_movies_2023.csv` data set introduced in the previous lecture."
   ]
  },
  {
   "cell_type": "code",
   "execution_count": null,
   "id": "137520cd-673c-4055-96ef-ba0af9d39ec4",
   "metadata": {
    "slideshow": {
     "slide_type": "-"
    }
   },
   "outputs": [],
   "source": [
    "top_movies = Table.read_table('top_grossing_movies.csv')\n",
    "top_movies.show(3)"
   ]
  },
  {
   "cell_type": "markdown",
   "id": "a0188981-1e53-4b72-b794-1948ac3833f3",
   "metadata": {},
   "source": [
    "---"
   ]
  },
  {
   "cell_type": "markdown",
   "id": "4b045e46-5a50-4b50-846c-dd1b85830c62",
   "metadata": {
    "slideshow": {
     "slide_type": "skip"
    }
   },
   "source": [
    "The following code:\n",
    "* Creates a column called `'Decade'` showing the decade that the move was originally released in. \n",
    "* Reduces the table to just the columns `'Title'`, `'Year'`, `'Decade'`, `'Gross'`, and `'Gross (Adjusted)'`.\n",
    "* Relabels `'Year'` as `'Release Year'`.\n",
    "\n",
    "_This code uses NumPy's `astype` array method. This function converts all the data in an array to a specific data type. We will typically not use this function in this course._"
   ]
  },
  {
   "cell_type": "code",
   "execution_count": null,
   "id": "212d49e5-1975-4566-a28f-eb0628d62a36",
   "metadata": {
    "slideshow": {
     "slide_type": "subslide"
    }
   },
   "outputs": [],
   "source": [
    "decades = (np.floor(top_movies.column('Year') / 10) * 10).astype(int)\n",
    "top_movies = top_movies.with_column('Decade', decades)\n",
    "top_movies = top_movies.select('Title', 'Year', 'Decade', 'Gross', 'Gross (Adjusted)')\n",
    "top_movies = top_movies.relabeled('Year', 'Release Year')\n",
    "top_movies"
   ]
  },
  {
   "cell_type": "markdown",
   "id": "ec8789e3-ff6d-47e6-b30f-d29a5c428696",
   "metadata": {},
   "source": [
    "---"
   ]
  },
  {
   "cell_type": "markdown",
   "id": "5bfbfc6f-256b-40f6-a1ea-ec15d0de59de",
   "metadata": {
    "deletable": false,
    "editable": false,
    "slideshow": {
     "slide_type": "skip"
    }
   },
   "source": [
    "The decade values can be thought of as a categorical attribute for the movie. Use the `group` table method to show the distribution of decades. We will cover `group` more in detail in a future lecture."
   ]
  },
  {
   "cell_type": "code",
   "execution_count": null,
   "id": "e1ccd946-1c86-4597-93a3-7a52a5854837",
   "metadata": {
    "slideshow": {
     "slide_type": "subslide"
    },
    "tags": []
   },
   "outputs": [],
   "source": [
    "decade_distribution = ...\n",
    "decade_distribution"
   ]
  },
  {
   "cell_type": "code",
   "execution_count": null,
   "id": "d48e3c5e-ed4a-48ef-881e-d545bccfc042",
   "metadata": {
    "slideshow": {
     "slide_type": "fragment"
    },
    "tags": []
   },
   "outputs": [],
   "source": [
    "sum(decade_distribution.column('count'))"
   ]
  },
  {
   "cell_type": "markdown",
   "id": "fab7ffdd-9a4a-4d2b-8277-49e423c2bd79",
   "metadata": {},
   "source": [
    "---"
   ]
  },
  {
   "cell_type": "markdown",
   "id": "e9595d16-c9a6-4246-ac0c-806da6e38d77",
   "metadata": {
    "deletable": false,
    "editable": false,
    "slideshow": {
     "slide_type": "skip"
    }
   },
   "source": [
    "Visualize the distribution of decades."
   ]
  },
  {
   "cell_type": "code",
   "execution_count": null,
   "id": "d9dbc85e-74d3-4412-8ec3-dd0de2018a1f",
   "metadata": {
    "slideshow": {
     "slide_type": "subslide"
    },
    "tags": []
   },
   "outputs": [],
   "source": [
    "..."
   ]
  },
  {
   "cell_type": "markdown",
   "id": "343c303a-7347-4ff1-9b3e-ff6eae6d1ed2",
   "metadata": {},
   "source": [
    "---"
   ]
  },
  {
   "cell_type": "markdown",
   "id": "3a86515c-44a6-4ffc-b54a-98a646d3e559",
   "metadata": {
    "slideshow": {
     "slide_type": "slide"
    }
   },
   "source": [
    "## Distributions of Numerical Variables"
   ]
  },
  {
   "cell_type": "markdown",
   "id": "10a17742-8e8e-4d4c-979a-d4348c0dd678",
   "metadata": {},
   "source": [
    "---"
   ]
  },
  {
   "cell_type": "markdown",
   "id": "153c1093-4c47-49a4-8bb4-4565a9de3c86",
   "metadata": {
    "slideshow": {
     "slide_type": "subslide"
    }
   },
   "source": [
    "### Binning Numerical Values"
   ]
  },
  {
   "cell_type": "markdown",
   "id": "9e486a6a-5dd6-4de6-b2d5-5d6de8135729",
   "metadata": {
    "slideshow": {
     "slide_type": "-"
    }
   },
   "source": [
    "Binning is counting the number of numerical values that lie within ranges, called bins.\n",
    "* Bins are defined by their lower bounds (inclusive)\n",
    "* The upper bound is the lower bound of the next bin"
   ]
  },
  {
   "cell_type": "markdown",
   "id": "fd956ada-f931-482c-a686-e0466a095d2a",
   "metadata": {
    "slideshow": {
     "slide_type": "fragment"
    }
   },
   "source": [
    "For example, the values 188, 170, 189, 163, 183, 171, 185, 168, 173, ... could be binned as follows:\n",
    "\n",
    "<img src=\"./binning_example.png\" alt=\"A binning of the example data\" width = 80%>"
   ]
  },
  {
   "cell_type": "markdown",
   "id": "09b0045b-77e8-4b3d-9bcf-ab83ef2ab69b",
   "metadata": {},
   "source": [
    "---"
   ]
  },
  {
   "cell_type": "markdown",
   "id": "4b52b593-c977-4fd7-bff8-9562e90481ac",
   "metadata": {
    "slideshow": {
     "slide_type": "subslide"
    }
   },
   "source": [
    "### Demo: Binning"
   ]
  },
  {
   "cell_type": "code",
   "execution_count": null,
   "id": "1a02cdf3-f58b-4574-a5b7-c2ef16f9477c",
   "metadata": {
    "slideshow": {
     "slide_type": "-"
    }
   },
   "outputs": [],
   "source": [
    "top_movies"
   ]
  },
  {
   "cell_type": "code",
   "execution_count": null,
   "id": "c470f73e-ec94-471c-8f0e-1b716847bcd1",
   "metadata": {
    "slideshow": {
     "slide_type": "subslide"
    }
   },
   "outputs": [],
   "source": [
    "min_year = min(top_movies.column('Release Year'))\n",
    "max_year = max(top_movies.column('Release Year'))\n",
    "(min_year, max_year)"
   ]
  },
  {
   "cell_type": "markdown",
   "id": "6f8939bc-1d4b-449a-9368-ed59df1b2a9f",
   "metadata": {},
   "source": [
    "---"
   ]
  },
  {
   "cell_type": "markdown",
   "id": "351d90ae-85eb-4a1b-80d0-8566f041b745",
   "metadata": {
    "slideshow": {
     "slide_type": "skip"
    }
   },
   "source": [
    "Bin the release year data based on bins with unequal widths. We are using the `bin` table method to do this, but you will typically work with the `bin` table method in our assignments/exams."
   ]
  },
  {
   "cell_type": "code",
   "execution_count": null,
   "id": "ac8b54e8-9e32-4d2b-b67e-0077c02d36fc",
   "metadata": {
    "slideshow": {
     "slide_type": "subslide"
    }
   },
   "outputs": [],
   "source": [
    "unequally_spaced_bins = make_array(1937, 2000, 2010, 2020, 2022)"
   ]
  },
  {
   "cell_type": "code",
   "execution_count": null,
   "id": "9948ca17-94dc-47c7-a548-308679105979",
   "metadata": {
    "scrolled": true,
    "slideshow": {
     "slide_type": "fragment"
    }
   },
   "outputs": [],
   "source": [
    "top_movies.bin('Release Year', bins=unequally_spaced_bins)"
   ]
  },
  {
   "cell_type": "markdown",
   "id": "4a814002-b07e-4e6d-b7ec-96ccf10fa06b",
   "metadata": {
    "slideshow": {
     "slide_type": "skip"
    }
   },
   "source": [
    "The bin values represent the left-endpoint of the bin, except the last row bin value represents the right endpoint of the preceding bin."
   ]
  },
  {
   "cell_type": "markdown",
   "id": "cf5ab682-0a4a-4a5e-835e-22f730be727d",
   "metadata": {},
   "source": [
    "---"
   ]
  },
  {
   "cell_type": "markdown",
   "id": "e5882800-4d41-413c-8bad-178b02b5444e",
   "metadata": {
    "slideshow": {
     "slide_type": "skip"
    }
   },
   "source": [
    "Bin the release year data based on bins with unequal width."
   ]
  },
  {
   "cell_type": "code",
   "execution_count": null,
   "id": "2be0c4cc-08cd-48e9-8ce7-b81a5b03a2f8",
   "metadata": {
    "slideshow": {
     "slide_type": "subslide"
    }
   },
   "outputs": [],
   "source": [
    "binned_by_decade = top_movies.bin('Release Year', bins=np.arange(1930, 2031, 10))\n",
    "binned_by_decade.show()"
   ]
  },
  {
   "cell_type": "markdown",
   "id": "7e122ff9-f265-4b98-93db-96b42b38fb2c",
   "metadata": {},
   "source": [
    "---"
   ]
  },
  {
   "cell_type": "markdown",
   "id": "18209714-6fb5-421c-b6b6-e3aacf1328a8",
   "metadata": {
    "slideshow": {
     "slide_type": "slide"
    }
   },
   "source": [
    "## Area Principle"
   ]
  },
  {
   "cell_type": "markdown",
   "id": "c8a7dfbc-e054-45e2-9654-4f58d0e080e1",
   "metadata": {},
   "source": [
    "---"
   ]
  },
  {
   "cell_type": "markdown",
   "id": "68c558b6-6ab4-4d22-b7cd-fe97eeef31fa",
   "metadata": {
    "slideshow": {
     "slide_type": "slide"
    }
   },
   "source": [
    "### Area Principle"
   ]
  },
  {
   "cell_type": "markdown",
   "id": "340c4c3b-88dd-43c8-83b4-1880839fcb6c",
   "metadata": {
    "slideshow": {
     "slide_type": "-"
    }
   },
   "source": [
    "Areas should be proportional to the values they represent."
   ]
  },
  {
   "cell_type": "markdown",
   "id": "94242cc4-8268-4d8b-bc7a-59eba0e318c1",
   "metadata": {
    "slideshow": {
     "slide_type": "fragment"
    }
   },
   "source": [
    "* For example, if you represent 20% with ■, then 40% should be represented with twice that area ■■.\n",
    "* Below is [a visual example from Gizmodo in 2012](https://gizmodo.com/holy-f-ck-the-new-ipad-has-a-gigantic-70-percent-large-5893738) that mislead readers about the new iPad battery.\n",
    "\n",
    "<img src=\"./ipad_battery_comparison.jpeg\" alt=\"A comparison of iPad batteries that violates the Area Principle\" width = 50%>"
   ]
  },
  {
   "cell_type": "markdown",
   "id": "eb67736e-1f44-40dc-bef3-94006a031d72",
   "metadata": {},
   "source": [
    "---"
   ]
  },
  {
   "cell_type": "markdown",
   "id": "ec774898-f85d-417a-998c-808754539d7c",
   "metadata": {
    "slideshow": {
     "slide_type": "slide"
    }
   },
   "source": [
    "## Creating Histograms"
   ]
  },
  {
   "cell_type": "markdown",
   "id": "d9470f0f-45b5-4af6-8abc-d2fcf9e09b3e",
   "metadata": {},
   "source": [
    "---"
   ]
  },
  {
   "cell_type": "markdown",
   "id": "dbd3860f-ce8a-45e2-af44-576bc93315f1",
   "metadata": {
    "slideshow": {
     "slide_type": "subslide"
    }
   },
   "source": [
    "### Histograms"
   ]
  },
  {
   "cell_type": "markdown",
   "id": "b91daadc-4729-4687-8d66-9911b118ee68",
   "metadata": {
    "slideshow": {
     "slide_type": "-"
    }
   },
   "source": [
    "* Chart that displays the distribution of a numerical variable\n",
    "* Uses bins; there is one bar corresponding to each bin\n",
    "* Uses the area principle: The area of each bar is the percent of individuals in the corresponding bin\n"
   ]
  },
  {
   "cell_type": "markdown",
   "id": "ac9c10b1-f06e-441b-8d07-35a5a7b9aaa4",
   "metadata": {},
   "source": [
    "---"
   ]
  },
  {
   "cell_type": "markdown",
   "id": "962c60a7-f5b2-456e-a066-701c94333697",
   "metadata": {
    "slideshow": {
     "slide_type": "subslide"
    }
   },
   "source": [
    "### Demo: Histograms"
   ]
  },
  {
   "cell_type": "markdown",
   "id": "f246ca0b-ed06-4c72-902d-2d91ecd5647d",
   "metadata": {
    "deletable": false,
    "editable": false,
    "slideshow": {
     "slide_type": "skip"
    }
   },
   "source": [
    "Create a histogram of the release years using the default bins."
   ]
  },
  {
   "cell_type": "code",
   "execution_count": null,
   "id": "fdf6d662-3690-4f7f-a67a-0ad2e1a86997",
   "metadata": {
    "slideshow": {
     "slide_type": "subslide"
    },
    "tags": []
   },
   "outputs": [],
   "source": [
    "...\n",
    "\n",
    "# Formatting that you are not responsible for\n",
    "plt.title('Distribution of Top Movie Release Years')\n",
    "plt.show()"
   ]
  },
  {
   "cell_type": "markdown",
   "id": "fe576cb2-a097-43bd-b67e-98ea90e7af8d",
   "metadata": {},
   "source": [
    "---"
   ]
  },
  {
   "cell_type": "markdown",
   "id": "702b2665-d37f-4265-865f-8c5a67810b9e",
   "metadata": {
    "deletable": false,
    "editable": false,
    "slideshow": {
     "slide_type": "skip"
    }
   },
   "source": [
    "Now, use the unequally spaced bins."
   ]
  },
  {
   "cell_type": "code",
   "execution_count": null,
   "id": "22a4ca23-ca48-4309-8d9b-eaab16495742",
   "metadata": {
    "slideshow": {
     "slide_type": "subslide"
    },
    "tags": []
   },
   "outputs": [],
   "source": [
    "...\n",
    "\n",
    "# Formatting you are not responsible for\n",
    "plt.title('Distribution of Top Movie Release Years')\n",
    "plt.show()"
   ]
  },
  {
   "cell_type": "markdown",
   "id": "2708f0d5-4b51-411d-a506-d61c82b2d2d3",
   "metadata": {},
   "source": [
    "---"
   ]
  },
  {
   "cell_type": "markdown",
   "id": "2aea918b-e327-46cb-923c-c3e2f3059f2f",
   "metadata": {
    "deletable": false,
    "editable": false,
    "slideshow": {
     "slide_type": "skip"
    }
   },
   "source": [
    "Try using bins based on decades instead."
   ]
  },
  {
   "cell_type": "code",
   "execution_count": null,
   "id": "e793353c-bccb-485b-ae52-50e5ca4deac8",
   "metadata": {
    "slideshow": {
     "slide_type": "subslide"
    },
    "tags": []
   },
   "outputs": [],
   "source": [
    "...\n",
    "\n",
    "# Formatting you are not responsible for\n",
    "plt.title('Distribution of Top Movie Release Years')\n",
    "plt.show()"
   ]
  },
  {
   "cell_type": "markdown",
   "id": "4890e4a5-691f-40c3-95bb-2636dcbdd566",
   "metadata": {},
   "source": [
    "---"
   ]
  },
  {
   "cell_type": "markdown",
   "id": "be62d515-5c62-4573-8560-ee7f160aff60",
   "metadata": {
    "slideshow": {
     "slide_type": "slide"
    }
   },
   "source": [
    "## Density and Area"
   ]
  },
  {
   "cell_type": "markdown",
   "id": "d81d3e1f-d2e2-40f0-9d2b-78ac0af117e8",
   "metadata": {},
   "source": [
    "---"
   ]
  },
  {
   "cell_type": "markdown",
   "id": "66cd0756-4acb-4a01-985f-d5ad8d59c3b6",
   "metadata": {
    "slideshow": {
     "slide_type": "subslide"
    }
   },
   "source": [
    "### Histogram Axes"
   ]
  },
  {
   "cell_type": "markdown",
   "id": "9e10be39-fb10-4526-aa8f-1be710848e91",
   "metadata": {
    "slideshow": {
     "slide_type": "-"
    }
   },
   "source": [
    "* By default, `hist` uses a scale (`normed=True`) that ensures the area of the chart sums to 100%\n",
    "* The area of each bar is a percentage of the whole\n",
    "* The horizontal axis is a number line (e.g., years), and the bins sizes don't have to be equal to each other\n",
    "* The vertical axis is a rate (e.g., percent per year)"
   ]
  },
  {
   "cell_type": "markdown",
   "id": "3196f3f2-154f-4a82-bd48-5ee8009d5b9c",
   "metadata": {},
   "source": [
    "---"
   ]
  },
  {
   "cell_type": "markdown",
   "id": "8587a680-9a06-49f5-9949-82913193eada",
   "metadata": {
    "slideshow": {
     "slide_type": "subslide"
    }
   },
   "source": [
    "### Demo: Density and Area"
   ]
  },
  {
   "cell_type": "markdown",
   "id": "8364c380-3ba1-4f48-aa04-78535d823676",
   "metadata": {
    "deletable": false,
    "editable": false,
    "slideshow": {
     "slide_type": "skip"
    }
   },
   "source": [
    "Add a column containing what percent of movies are in each bin."
   ]
  },
  {
   "cell_type": "code",
   "execution_count": null,
   "id": "948df4d6-7898-48ae-96ee-e4b745a9d5a0",
   "metadata": {
    "slideshow": {
     "slide_type": "subslide"
    },
    "tags": []
   },
   "outputs": [],
   "source": [
    "percents = ...\n",
    "binned_by_decade = ...\n",
    "binned_by_decade"
   ]
  },
  {
   "cell_type": "markdown",
   "id": "22d76450-67da-45a7-bd19-8eb6256e76c9",
   "metadata": {},
   "source": [
    "---"
   ]
  },
  {
   "cell_type": "markdown",
   "id": "cc7c3333-1d52-462e-a5d6-0cc81ff733b4",
   "metadata": {
    "deletable": false,
    "editable": false,
    "slideshow": {
     "slide_type": "skip"
    }
   },
   "source": [
    "What is the height of the [1990, 2000) bin?"
   ]
  },
  {
   "cell_type": "code",
   "execution_count": null,
   "id": "f9678f25-deaa-4764-8ad7-55ad9bc33111",
   "metadata": {
    "slideshow": {
     "slide_type": "subslide"
    },
    "tags": []
   },
   "outputs": [],
   "source": [
    "percent = ...\n",
    "width = ...\n",
    "height = ...\n",
    "height"
   ]
  },
  {
   "cell_type": "markdown",
   "id": "32ba2665-feb7-4c04-bfeb-9c1acc7b2434",
   "metadata": {},
   "source": [
    "---"
   ]
  },
  {
   "cell_type": "markdown",
   "id": "0f80efc1-1fa5-409b-afe0-5c58012f03ab",
   "metadata": {
    "slideshow": {
     "slide_type": "skip"
    }
   },
   "source": [
    "Use array arithmetic to calculate the rest of the heights."
   ]
  },
  {
   "cell_type": "code",
   "execution_count": null,
   "id": "6d05ac28-2187-4151-acc9-8faf97fef633",
   "metadata": {
    "slideshow": {
     "slide_type": "subslide"
    }
   },
   "outputs": [],
   "source": [
    "bin_lefts = binned_by_decade.take(np.arange(binned_by_decade.num_rows - 1))\n",
    "bin_widths = np.diff(binned_by_decade.column('bin'))\n",
    "bin_lefts = bin_lefts.with_column('Width', bin_widths)\n",
    "bin_heights = bin_lefts.column('Percent') / bin_widths\n",
    "bin_lefts = bin_lefts.with_column('Height', bin_heights)\n",
    "bin_lefts"
   ]
  },
  {
   "cell_type": "markdown",
   "id": "884e0e01-60e6-4a49-a8a1-3da60f25b23e",
   "metadata": {},
   "source": [
    "---"
   ]
  },
  {
   "cell_type": "markdown",
   "id": "711b442c-d4c3-4fc6-a232-6ccc2506a12a",
   "metadata": {
    "slideshow": {
     "slide_type": "subslide"
    }
   },
   "source": [
    "### Height Measures Density"
   ]
  },
  {
   "cell_type": "markdown",
   "id": "28ef2588-ff90-4282-a410-25f152509d7e",
   "metadata": {
    "slideshow": {
     "slide_type": "-"
    }
   },
   "source": [
    "* The height measures the percent of data in the bin relative to the amount of space in the bin.\n",
    "* The general formula for height is: $$\\text{height } = \\frac{\\text{percent in bin}}{\\text{width of bin}}$$\n",
    "* Height measures crowdedness, or density.\n",
    "* Units: percent per unit on the horizontal axis\n",
    "\n"
   ]
  },
  {
   "cell_type": "markdown",
   "id": "f6031a63-3b8c-4d01-8d5f-95d2706f9765",
   "metadata": {},
   "source": [
    "---"
   ]
  },
  {
   "cell_type": "markdown",
   "id": "d5c67463-93d6-4402-b759-2b39572037dc",
   "metadata": {
    "slideshow": {
     "slide_type": "subslide"
    }
   },
   "source": [
    "### How to Calculate Height"
   ]
  },
  {
   "cell_type": "markdown",
   "id": "911d1035-ca90-4e0c-bbd6-12d08e3bbca9",
   "metadata": {
    "slideshow": {
     "slide_type": "-"
    }
   },
   "source": [
    "The $[1990, 2000)$ bin contains $151$ out of $1,000$ movies\n",
    "* $151$ out of $1000$ is $15.1\\%$\n",
    "* The bin is $2000 - 1990 = 10$ years wide\n",
    "* The height of the bar is calculated to be: $$\\frac{15.1 \\text{ percent}}{10 \\text{ years}} = 1.51 \\text{ percent per year}$$\n"
   ]
  },
  {
   "cell_type": "markdown",
   "id": "ee64b267-c7da-44a0-afde-f331c8af343d",
   "metadata": {},
   "source": [
    "---"
   ]
  },
  {
   "cell_type": "markdown",
   "id": "669d447f-7489-416f-9218-5d5c9d917f90",
   "metadata": {
    "slideshow": {
     "slide_type": "subslide"
    }
   },
   "source": [
    "### Area Measures Percent"
   ]
  },
  {
   "cell_type": "markdown",
   "id": "6563a22c-da40-4c66-96f7-b1599517ee4d",
   "metadata": {
    "slideshow": {
     "slide_type": "-"
    }
   },
   "source": [
    "* The area of a bar is the percent in the bin.\n",
    "* The area of a bar can be calculated by the formula: $\\text{area of a bar } = \\text{ height of the bar} \\times \\text{ width of bin}$.\n"
   ]
  },
  {
   "cell_type": "markdown",
   "id": "b7670394-d2b3-4190-baf0-8e20b207674b",
   "metadata": {},
   "source": [
    "---"
   ]
  },
  {
   "cell_type": "markdown",
   "id": "62209a31-e999-4a52-9635-7f33632efeb5",
   "metadata": {
    "slideshow": {
     "slide_type": "subslide"
    }
   },
   "source": [
    "### How to Calculate Area"
   ]
  },
  {
   "cell_type": "markdown",
   "id": "e83f38da-8170-4a87-a2c4-41927fc385d5",
   "metadata": {},
   "source": [
    "A bin that is $10$ years wide and has a density of $1.51$ percent per year contains $10 * 1.51 = 15.1$ percent of the data."
   ]
  },
  {
   "cell_type": "markdown",
   "id": "cb20b501-e0e4-436e-b058-d5d569808d5d",
   "metadata": {},
   "source": [
    "---"
   ]
  },
  {
   "cell_type": "markdown",
   "id": "b39dccba-2b67-4c73-8929-dd6d1eb3d78a",
   "metadata": {
    "slideshow": {
     "slide_type": "subslide"
    }
   },
   "source": [
    "### Area or Height"
   ]
  },
  {
   "cell_type": "markdown",
   "id": "818f572f-ee51-4ea9-aef3-078eb7c38802",
   "metadata": {
    "slideshow": {
     "slide_type": "-"
    }
   },
   "source": [
    "In general:\n",
    "* Use area when addressing a question like \"How many individuals in the bin?\"\n",
    "* Use height when addressing a question like \"How crowded is the bin?\""
   ]
  },
  {
   "cell_type": "markdown",
   "id": "10d07939-e243-4316-afaa-daaf1a5d5c8a",
   "metadata": {},
   "source": [
    "---"
   ]
  },
  {
   "cell_type": "markdown",
   "id": "03edb219-b023-45e1-adc9-072c9db85aa6",
   "metadata": {
    "slideshow": {
     "slide_type": "subslide"
    }
   },
   "source": [
    "### Bar Chart or Histogram?"
   ]
  },
  {
   "cell_type": "markdown",
   "id": "8f32b82b-2898-40bc-8d9a-bd63e0bc1004",
   "metadata": {
    "slideshow": {
     "slide_type": "-"
    }
   },
   "source": [
    "* Use a bar chart to visualize when the:\n",
    "    * Distribution of categorical variable\n",
    "    * Bars have arbitrary (but equal) widths and spacings \n",
    "    * Height (or length) and area of bars proportional to the percent of individuals\n",
    "* Use a histogram to visualize when the:\n",
    "    * Distribution of numerical variable\n",
    "    * Horizontal axis is numerical: to scale, no gaps, bins can be unequal\n",
    "    * Area of bars proportional to the percent of individuals; height measures density"
   ]
  },
  {
   "cell_type": "markdown",
   "id": "c137c520-c527-4558-a48c-7b4134f2576a",
   "metadata": {
    "slideshow": {
     "slide_type": "notes"
    }
   },
   "source": [
    "<footer>\n",
    "    <hr>\n",
    "    <p>Adopted from UC Berkeley DATA 8 course materials.</p>\n",
    "    <p>This content is offered under a <a href=\"https://creativecommons.org/licenses/by-nc-sa/4.0/\">CC Attribution Non-Commercial Share Alike</a> license.</p>\n",
    "</footer>"
   ]
  }
 ],
 "metadata": {
  "kernelspec": {
   "display_name": "Python 3 (ipykernel)",
   "language": "python",
   "name": "python3"
  },
  "language_info": {
   "codemirror_mode": {
    "name": "ipython",
    "version": 3
   },
   "file_extension": ".py",
   "mimetype": "text/x-python",
   "name": "python",
   "nbconvert_exporter": "python",
   "pygments_lexer": "ipython3",
   "version": "3.10.12"
  },
  "otter": {
   "OK_FORMAT": true,
   "tests": {}
  }
 },
 "nbformat": 4,
 "nbformat_minor": 5
}
