{
 "cells": [
  {
   "cell_type": "markdown",
   "id": "26ea126c-5e0c-4583-93d9-1d72fb0210bf",
   "metadata": {
    "editable": true,
    "slideshow": {
     "slide_type": "slide"
    },
    "tags": []
   },
   "source": [
    "<header style=\"width: 38.5%;\">\n",
    "    <p><strong>City College of San Francisco</strong><p>\n",
    "    <hr>\n",
    "    <p>MATH 108 - Foundations of Data Science</p>\n",
    "</header>"
   ]
  },
  {
   "cell_type": "markdown",
   "id": "f9448c1a-44be-4359-b021-8be850d6b9a4",
   "metadata": {
    "editable": true,
    "slideshow": {
     "slide_type": ""
    },
    "tags": []
   },
   "source": [
    "# Lecture 01: Introduction"
   ]
  },
  {
   "cell_type": "markdown",
   "id": "b507a7c8-8f14-494a-8110-411b57d7f70f",
   "metadata": {
    "editable": true,
    "slideshow": {
     "slide_type": "-"
    },
    "tags": []
   },
   "source": [
    "Associated Textbook Sections: [1.0, 1.1, 1.2, 1.3](https://inferentialthinking.com/chapters/01/what-is-data-science.html)"
   ]
  },
  {
   "cell_type": "markdown",
   "id": "47992dd9-e6c0-462c-9f75-771ff1f55026",
   "metadata": {
    "editable": true,
    "slideshow": {
     "slide_type": "fragment"
    },
    "tags": []
   },
   "source": [
    "---"
   ]
  },
  {
   "cell_type": "markdown",
   "id": "53bca4bf-8f7a-41c6-a615-c6af8abbd49f",
   "metadata": {
    "editable": true,
    "slideshow": {
     "slide_type": "slide"
    },
    "tags": []
   },
   "source": [
    "## Overview"
   ]
  },
  {
   "cell_type": "markdown",
   "id": "b6c8814b-fa3f-49d9-bbcd-360072a38d7a",
   "metadata": {
    "editable": true,
    "slideshow": {
     "slide_type": ""
    },
    "tags": []
   },
   "source": [
    "* [What is Data Science?](#What-is-Data-Science?)\n",
    "* [Reading Books](#Reading-Books)\n",
    "* [Adventures of Huckleberry Finn](#Adventures-of-Huckleberry-Finn)\n",
    "* [Little Women](#Little-Women)\n",
    "* [Exploring Sentence Structure](#Exploring-Sentence-Structure)\n",
    "* [Ask a Question](#Ask-a-Question)"
   ]
  },
  {
   "cell_type": "markdown",
   "id": "89b3c3c1-a493-4d37-9190-341053b64797",
   "metadata": {
    "editable": true,
    "slideshow": {
     "slide_type": "fragment"
    },
    "tags": []
   },
   "source": [
    "---"
   ]
  },
  {
   "cell_type": "markdown",
   "id": "7b757cbb-e235-4049-80e1-f12a79b5f896",
   "metadata": {
    "editable": true,
    "slideshow": {
     "slide_type": "slide"
    },
    "tags": []
   },
   "source": [
    "## What is Data Science?"
   ]
  },
  {
   "cell_type": "markdown",
   "id": "139116f2-7923-4e1f-bc22-22e00d30ae1a",
   "metadata": {
    "editable": true,
    "slideshow": {
     "slide_type": "fragment"
    },
    "tags": []
   },
   "source": [
    "---"
   ]
  },
  {
   "cell_type": "markdown",
   "id": "df7af94e-6461-4ab7-b66d-4d9141c69f1c",
   "metadata": {
    "editable": true,
    "slideshow": {
     "slide_type": "subslide"
    },
    "tags": []
   },
   "source": [
    "### Exploration, Inference, and Prediction"
   ]
  },
  {
   "cell_type": "markdown",
   "id": "f87031f1-f6bc-4dc6-984d-57f55bd4ead5",
   "metadata": {
    "editable": true,
    "slideshow": {
     "slide_type": ""
    },
    "tags": []
   },
   "source": [
    "Learning about the world from data using computation:"
   ]
  },
  {
   "cell_type": "markdown",
   "id": "612cc8df-2d4e-4fb6-8c56-e81615f0f81d",
   "metadata": {
    "editable": true,
    "slideshow": {
     "slide_type": "fragment"
    },
    "tags": []
   },
   "source": [
    "<img src=\"./what_is_ds.png\" width = 80% alt=\"Data Science categorized as Exploration, Inference, and Prediction.\">"
   ]
  },
  {
   "cell_type": "markdown",
   "id": "4bfb77e6-653c-4e0c-8553-0545f081a755",
   "metadata": {
    "editable": true,
    "slideshow": {
     "slide_type": "fragment"
    },
    "tags": []
   },
   "source": [
    "---"
   ]
  },
  {
   "cell_type": "markdown",
   "id": "9b521fc3-481d-4d32-a9af-fa4ffc9dae29",
   "metadata": {
    "editable": true,
    "slideshow": {
     "slide_type": "subslide"
    },
    "tags": []
   },
   "source": [
    "### Job Outlook"
   ]
  },
  {
   "cell_type": "markdown",
   "id": "cfc65e45-1092-48ef-bb16-1a5874fa963e",
   "metadata": {
    "editable": true,
    "slideshow": {
     "slide_type": ""
    },
    "tags": []
   },
   "source": [
    "According to [the US Bureau of Labor Statistics](https://www.bls.gov/ooh/math/data-scientists.htm):\n",
    "* 35% increase in the number of Data Science positions from 2021 - 2031\n",
    "* Median Data Scientist's annual wage was $103,500 (May 2022)"
   ]
  },
  {
   "cell_type": "markdown",
   "id": "84888804-2467-495a-9f51-412ff77ec10a",
   "metadata": {
    "editable": true,
    "slideshow": {
     "slide_type": "fragment"
    },
    "tags": []
   },
   "source": [
    "---"
   ]
  },
  {
   "cell_type": "markdown",
   "id": "67b08f82-8652-4abc-99b5-bc5757e38ce5",
   "metadata": {
    "editable": true,
    "slideshow": {
     "slide_type": "subslide"
    },
    "tags": []
   },
   "source": [
    "## Jupyter Notebooks"
   ]
  },
  {
   "cell_type": "markdown",
   "id": "f92beaf5-0985-47a0-a291-4932620066c3",
   "metadata": {
    "editable": true,
    "slideshow": {
     "slide_type": "notes"
    },
    "tags": [
     "Notes"
    ]
   },
   "source": [
    "A [Jupyter Notebook](https://jupyter.org/) is an application that combines:\n",
    "\n",
    "* Narrative: The text describing your analysis\n",
    "* Code: The program that does the analysis\n",
    "* Results: The output of the program\n",
    "\n",
    "The Jupyter environment was created by faculty ([Fernando Perez](https://bids.berkeley.edu/people/fernando-perez)) at UC Berkeley."
   ]
  },
  {
   "cell_type": "markdown",
   "id": "75ddaa51-61f2-4268-b907-c2367171442f",
   "metadata": {
    "editable": true,
    "slideshow": {
     "slide_type": "fragment"
    },
    "tags": []
   },
   "source": [
    "---"
   ]
  },
  {
   "cell_type": "markdown",
   "id": "d76282f1-7e8d-4f3d-abf7-4060140d5bbf",
   "metadata": {
    "editable": true,
    "slideshow": {
     "slide_type": "slide"
    },
    "tags": []
   },
   "source": [
    "## Reading Books"
   ]
  },
  {
   "cell_type": "markdown",
   "id": "a43d7ff3-6c96-4e1a-8154-d5b565949df3",
   "metadata": {
    "editable": true,
    "slideshow": {
     "slide_type": "fragment"
    },
    "tags": []
   },
   "source": [
    "---"
   ]
  },
  {
   "cell_type": "markdown",
   "id": "431a7ada-031b-4b2b-81ba-a5d23bb4f9a1",
   "metadata": {
    "editable": true,
    "slideshow": {
     "slide_type": "subslide"
    },
    "tags": []
   },
   "source": [
    "### Python \"Reads\" Two Books"
   ]
  },
  {
   "cell_type": "markdown",
   "id": "94d267ed-f0aa-4d15-9940-fd0543641a2f",
   "metadata": {
    "editable": true,
    "slideshow": {
     "slide_type": ""
    },
    "tags": []
   },
   "source": [
    "* [Project Gutenberg](https://www.gutenberg.org/) contains public domain book data.\n",
    "* Load the text from the Adventures of Huckleberry Finn and Little Women."
   ]
  },
  {
   "cell_type": "code",
   "execution_count": null,
   "id": "3522c7cb-3606-4586-bf9d-726c0b0a4006",
   "metadata": {
    "editable": true,
    "slideshow": {
     "slide_type": "fragment"
    },
    "tags": []
   },
   "outputs": [],
   "source": [
    "with open(\"./huck_finn.txt\") as huck_finn, \\\n",
    "open(\"./little_women.txt\") as little_women:\n",
    "    huck_finn_chapters = huck_finn.read().split('CHAPTER ')[44:]\n",
    "    little_women_chapters = little_women.read().split('CHAPTER ')[1:]"
   ]
  },
  {
   "cell_type": "markdown",
   "id": "e5c4fe22-5527-4d08-a3ef-b91b9d9eb272",
   "metadata": {
    "editable": true,
    "slideshow": {
     "slide_type": "fragment"
    },
    "tags": []
   },
   "source": [
    "Notice that all this code did not produce any output."
   ]
  },
  {
   "cell_type": "markdown",
   "id": "3cf393f2-4a6e-463d-815c-d98778ecb684",
   "metadata": {
    "editable": true,
    "slideshow": {
     "slide_type": "fragment"
    },
    "tags": []
   },
   "source": [
    "---"
   ]
  },
  {
   "cell_type": "markdown",
   "id": "1122d05f-9764-43d8-b981-212a4909a76c",
   "metadata": {
    "editable": true,
    "slideshow": {
     "slide_type": "slide"
    },
    "tags": []
   },
   "source": [
    "## Adventures of Huckleberry Finn"
   ]
  },
  {
   "cell_type": "markdown",
   "id": "33493d8d-bb97-4215-ade2-8d77abc20746",
   "metadata": {
    "editable": true,
    "slideshow": {
     "slide_type": "fragment"
    },
    "tags": []
   },
   "source": [
    "---"
   ]
  },
  {
   "cell_type": "markdown",
   "id": "e542f937-fe2e-42a9-9372-425c71ebb225",
   "metadata": {
    "editable": true,
    "slideshow": {
     "slide_type": "subslide"
    },
    "tags": []
   },
   "source": [
    "### Preview the Book"
   ]
  },
  {
   "cell_type": "markdown",
   "id": "d796f351-c0ba-471c-80d1-bd783d9a4312",
   "metadata": {
    "editable": true,
    "slideshow": {
     "slide_type": ""
    },
    "tags": []
   },
   "source": [
    "View the first 100 characters of Chapter 1."
   ]
  },
  {
   "cell_type": "code",
   "execution_count": null,
   "id": "895a8f33-a0f9-4eb3-86c7-1d3f81508f68",
   "metadata": {
    "editable": true,
    "slideshow": {
     "slide_type": "fragment"
    },
    "tags": []
   },
   "outputs": [],
   "source": [
    "huck_finn_chapters[0][:100]"
   ]
  },
  {
   "cell_type": "markdown",
   "id": "2b17b434-8aae-4047-bf62-635591e0066f",
   "metadata": {
    "editable": true,
    "slideshow": {
     "slide_type": "fragment"
    },
    "tags": []
   },
   "source": [
    "This code did produce output!"
   ]
  },
  {
   "cell_type": "markdown",
   "id": "13ffe2b9-d72b-44a0-8509-08f57c4fd713",
   "metadata": {
    "editable": true,
    "slideshow": {
     "slide_type": "fragment"
    },
    "tags": []
   },
   "source": [
    "---"
   ]
  },
  {
   "cell_type": "markdown",
   "id": "d075169e-3e29-4243-805b-2f21b5aa965a",
   "metadata": {
    "editable": true,
    "slideshow": {
     "slide_type": "subslide"
    },
    "tags": []
   },
   "source": [
    "### Import `datascience`"
   ]
  },
  {
   "cell_type": "markdown",
   "id": "17405fd0-fcd2-45dd-8083-d3ea1504c2f9",
   "metadata": {
    "editable": true,
    "slideshow": {
     "slide_type": ""
    },
    "tags": []
   },
   "source": [
    "* Data Science often requires transforming data for analysis.\n",
    "* We will use UC Berkeley's [datascience](https://datascience.readthedocs.io/) library to do this."
   ]
  },
  {
   "cell_type": "markdown",
   "id": "f48531ed-281e-431d-bd3d-e06bc7096180",
   "metadata": {
    "editable": true,
    "slideshow": {
     "slide_type": "fragment"
    },
    "tags": []
   },
   "source": [
    "---"
   ]
  },
  {
   "cell_type": "markdown",
   "id": "35107bc2-99ac-42e7-9de2-94cb6bd1709c",
   "metadata": {
    "editable": true,
    "slideshow": {
     "slide_type": "subslide"
    },
    "tags": []
   },
   "source": [
    "Import all of the content of the `datascience` library."
   ]
  },
  {
   "cell_type": "code",
   "execution_count": null,
   "id": "2fe096b7-0656-4eac-9b54-55adc1be1c36",
   "metadata": {
    "editable": true,
    "slideshow": {
     "slide_type": "fragment"
    },
    "tags": []
   },
   "outputs": [],
   "source": [
    "from datascience import *"
   ]
  },
  {
   "cell_type": "markdown",
   "id": "f91d1304-d424-46a9-b49a-cd9c57df5b17",
   "metadata": {
    "editable": true,
    "slideshow": {
     "slide_type": "fragment"
    },
    "tags": []
   },
   "source": [
    "---"
   ]
  },
  {
   "cell_type": "markdown",
   "id": "9a617343-5e9c-4dfd-9fd3-9b889bfd2f81",
   "metadata": {
    "editable": true,
    "slideshow": {
     "slide_type": "subslide"
    },
    "tags": []
   },
   "source": [
    "Notice that `Table` has a special meaning."
   ]
  },
  {
   "cell_type": "code",
   "execution_count": null,
   "id": "b3d0aa79-fdf4-44ca-bb11-a96cc00d1081",
   "metadata": {
    "editable": true,
    "slideshow": {
     "slide_type": "fragment"
    },
    "tags": []
   },
   "outputs": [],
   "source": [
    "Table"
   ]
  },
  {
   "cell_type": "markdown",
   "id": "2187d44e-43e6-4e53-9a8c-7e2a3ab98eb8",
   "metadata": {
    "editable": true,
    "slideshow": {
     "slide_type": "fragment"
    },
    "tags": []
   },
   "source": [
    "---"
   ]
  },
  {
   "cell_type": "markdown",
   "id": "68ae80cb-9fed-43bd-971a-23fa9ee1f09f",
   "metadata": {
    "editable": true,
    "slideshow": {
     "slide_type": "subslide"
    },
    "tags": []
   },
   "source": [
    "### Create a Table"
   ]
  },
  {
   "cell_type": "markdown",
   "id": "71b29e0d-9afa-4942-9f30-1d8035ae0ec3",
   "metadata": {
    "editable": true,
    "slideshow": {
     "slide_type": "subslide"
    },
    "tags": []
   },
   "source": [
    "Organize all the text from each chapter of the book within a `Table`."
   ]
  },
  {
   "cell_type": "code",
   "execution_count": null,
   "id": "d5a26325-74db-4483-9a70-ba6339bb3ea4",
   "metadata": {
    "editable": true,
    "slideshow": {
     "slide_type": "fragment"
    },
    "tags": []
   },
   "outputs": [],
   "source": [
    "Table().with_column('Chapters', huck_finn_chapters)"
   ]
  },
  {
   "cell_type": "markdown",
   "id": "e11e756e-6fd8-45a0-8ef1-526f648dd047",
   "metadata": {
    "editable": true,
    "slideshow": {
     "slide_type": "fragment"
    },
    "tags": []
   },
   "source": [
    "---"
   ]
  },
  {
   "cell_type": "markdown",
   "id": "e89aecd3-d24e-4d2d-81a3-36a64738864b",
   "metadata": {
    "editable": true,
    "slideshow": {
     "slide_type": "subslide"
    },
    "tags": []
   },
   "source": [
    "### Word Frequency"
   ]
  },
  {
   "cell_type": "markdown",
   "id": "c084ccf7-71ae-4359-9e42-5b0e814066ac",
   "metadata": {
    "editable": true,
    "slideshow": {
     "slide_type": ""
    },
    "tags": []
   },
   "source": [
    "What can the frequency of words in a story tell us about the story?"
   ]
  },
  {
   "cell_type": "markdown",
   "id": "e74bbb4a-6bf5-4f1d-9c72-6f17d39af5ca",
   "metadata": {
    "editable": true,
    "slideshow": {
     "slide_type": "fragment"
    },
    "tags": []
   },
   "source": [
    "* Counting words in a book might seem overwhelming.\n",
    "* Computers can help with tedious tasks like this."
   ]
  },
  {
   "cell_type": "markdown",
   "id": "9b1298f7-40ad-488e-acfc-f48899d2f3c0",
   "metadata": {
    "editable": true,
    "slideshow": {
     "slide_type": "fragment"
    },
    "tags": []
   },
   "source": [
    "---"
   ]
  },
  {
   "cell_type": "markdown",
   "id": "7b44c99e-29e2-4012-b559-a011a77f54af",
   "metadata": {
    "editable": true,
    "slideshow": {
     "slide_type": "subslide"
    },
    "tags": []
   },
   "source": [
    "### Import NumPy"
   ]
  },
  {
   "cell_type": "markdown",
   "id": "fca0faba-841e-4865-a2a7-71a9ce3b8d08",
   "metadata": {
    "editable": true,
    "slideshow": {
     "slide_type": ""
    },
    "tags": []
   },
   "source": [
    "* [NumPy](https://numpy.org/) is another standard library that you work with in this course.\n",
    "* This library is will help with doing the same calculation on many things."
   ]
  },
  {
   "cell_type": "markdown",
   "id": "a8ce3700-bce8-4523-85fa-a162213b296f",
   "metadata": {
    "editable": true,
    "slideshow": {
     "slide_type": "fragment"
    },
    "tags": []
   },
   "source": [
    "---"
   ]
  },
  {
   "cell_type": "markdown",
   "id": "1dc80c98-1bdb-45f7-a5b5-08bfe88f68a3",
   "metadata": {
    "editable": true,
    "slideshow": {
     "slide_type": "subslide"
    },
    "tags": []
   },
   "source": [
    "Import the `numpy` library and give it the alias `np`."
   ]
  },
  {
   "cell_type": "code",
   "execution_count": null,
   "id": "3f0aded6-ffbf-4af2-b821-fd5337bd1c04",
   "metadata": {
    "editable": true,
    "slideshow": {
     "slide_type": "fragment"
    },
    "tags": []
   },
   "outputs": [],
   "source": [
    "import numpy as np"
   ]
  },
  {
   "cell_type": "markdown",
   "id": "c6580f72-f988-436f-aa27-e41afedc4159",
   "metadata": {
    "editable": true,
    "slideshow": {
     "slide_type": "fragment"
    },
    "tags": []
   },
   "source": [
    "---"
   ]
  },
  {
   "cell_type": "markdown",
   "id": "2057f4c0-8f91-4ada-93c3-a5ee5e7da537",
   "metadata": {
    "editable": true,
    "slideshow": {
     "slide_type": "subslide"
    },
    "tags": []
   },
   "source": [
    "### Counting Names"
   ]
  },
  {
   "cell_type": "markdown",
   "id": "6dd2fd39-a999-49d6-a21e-27f1862f9f36",
   "metadata": {
    "editable": true,
    "slideshow": {
     "slide_type": "subslide"
    },
    "tags": []
   },
   "source": [
    "Count the number of times \"Tom\" and \"Jim\" appear in the text."
   ]
  },
  {
   "cell_type": "code",
   "execution_count": null,
   "id": "1b29933e-5273-451f-b3f2-7455cdb9eedd",
   "metadata": {
    "editable": true,
    "slideshow": {
     "slide_type": "fragment"
    },
    "tags": []
   },
   "outputs": [],
   "source": [
    "np.char.count(huck_finn_chapters, 'Tom')"
   ]
  },
  {
   "cell_type": "code",
   "execution_count": null,
   "id": "bf999d5a-b679-4083-b283-69e48aaa6edb",
   "metadata": {
    "editable": true,
    "slideshow": {
     "slide_type": "fragment"
    },
    "tags": []
   },
   "outputs": [],
   "source": [
    "np.char.count(huck_finn_chapters, 'Jim')"
   ]
  },
  {
   "cell_type": "markdown",
   "id": "c8cdb195-b52b-4713-aa5f-ce3505238874",
   "metadata": {
    "editable": true,
    "slideshow": {
     "slide_type": "fragment"
    },
    "tags": []
   },
   "source": [
    "---"
   ]
  },
  {
   "cell_type": "markdown",
   "id": "62da9f86-45b3-4b34-8b70-50de61054941",
   "metadata": {
    "editable": true,
    "slideshow": {
     "slide_type": "subslide"
    },
    "tags": []
   },
   "source": [
    "Create a table called `counts` that organizes the number of times the names Jim, Tom, and Huck appear in each chapter."
   ]
  },
  {
   "cell_type": "code",
   "execution_count": null,
   "id": "9264b73a-e6e1-427b-8182-814d98170817",
   "metadata": {
    "editable": true,
    "slideshow": {
     "slide_type": "fragment"
    },
    "tags": []
   },
   "outputs": [],
   "source": [
    "counts_hf = Table().with_columns([\n",
    "    'Tom', np.char.count(huck_finn_chapters, 'Tom'),\n",
    "    'Jim', np.char.count(huck_finn_chapters, 'Jim'),\n",
    "    'Huck', np.char.count(huck_finn_chapters, 'Huck'),\n",
    "])\n",
    "counts_hf"
   ]
  },
  {
   "cell_type": "markdown",
   "id": "66c26bca-f6f3-4f90-b71f-358fb160eaad",
   "metadata": {
    "editable": true,
    "slideshow": {
     "slide_type": "fragment"
    },
    "tags": []
   },
   "source": [
    "---"
   ]
  },
  {
   "cell_type": "markdown",
   "id": "8ced0ec8-c23e-4378-8eb6-3d9b4d35f2b6",
   "metadata": {
    "editable": true,
    "slideshow": {
     "slide_type": "subslide"
    },
    "tags": []
   },
   "source": [
    "### Import and Configure Matplotlib"
   ]
  },
  {
   "cell_type": "markdown",
   "id": "8b00840e-d9d5-4ea2-821c-334257227f2d",
   "metadata": {
    "editable": true,
    "slideshow": {
     "slide_type": ""
    },
    "tags": []
   },
   "source": [
    "* [Matplotlib](https://matplotlib.org/) is a standard Python visualization library.\n",
    "* In this course, we will use it indirectly to create visualizations."
   ]
  },
  {
   "cell_type": "markdown",
   "id": "8716ce0e-3d37-4607-a1ca-4ec1d5180e46",
   "metadata": {
    "editable": true,
    "slideshow": {
     "slide_type": "fragment"
    },
    "tags": []
   },
   "source": [
    "---"
   ]
  },
  {
   "cell_type": "markdown",
   "id": "15ed414d-1b4d-414b-bd31-1190adadfae7",
   "metadata": {
    "editable": true,
    "slideshow": {
     "slide_type": "subslide"
    },
    "tags": []
   },
   "source": [
    "Import and configure `matplotlib`."
   ]
  },
  {
   "cell_type": "code",
   "execution_count": null,
   "id": "b79aef0c-0e93-401f-9d90-99516cafb807",
   "metadata": {},
   "outputs": [],
   "source": [
    "%matplotlib inline\n",
    "import matplotlib.pyplot as plt\n",
    "plt.style.use('fivethirtyeight')"
   ]
  },
  {
   "cell_type": "markdown",
   "id": "ee0cb68f-8d4c-4583-aa56-b8e6173c467e",
   "metadata": {
    "editable": true,
    "slideshow": {
     "slide_type": "fragment"
    },
    "tags": []
   },
   "source": [
    "---"
   ]
  },
  {
   "cell_type": "markdown",
   "id": "fde27ad7-f2a5-47c4-b005-3b2a3662b888",
   "metadata": {
    "editable": true,
    "slideshow": {
     "slide_type": "subslide"
    },
    "tags": []
   },
   "source": [
    "### Visualize a Trend"
   ]
  },
  {
   "cell_type": "markdown",
   "id": "4cbbe16f-c44b-4bfd-aef0-e4920afb08de",
   "metadata": {
    "editable": true,
    "slideshow": {
     "slide_type": "subslide"
    },
    "tags": []
   },
   "source": [
    "Visualize how the cumulative counts for each person changes over the chapters."
   ]
  },
  {
   "cell_type": "code",
   "execution_count": null,
   "id": "554f4a2d-fbb4-400e-8638-e930e35aff91",
   "metadata": {
    "editable": true,
    "slideshow": {
     "slide_type": "fragment"
    },
    "tags": []
   },
   "outputs": [],
   "source": [
    "original_labels_hf =  list(counts_hf.labels)\n",
    "cumulative_values_hf = ([np.cumsum(counts_hf.column(index)) \n",
    "                         for index in np.arange(counts_hf.num_columns)])\n",
    "cumulative_counts_hf = (counts_hf\n",
    "                        .with_columns(zip(original_labels_hf, cumulative_values_hf))\n",
    "                        .with_column('Chapter', np.arange(1, 44, 1)))\n",
    "cumulative_counts_hf.plot('Chapter')\n",
    "plt.title('Cumulative Number of Times Name Appears')\n",
    "plt.show()"
   ]
  },
  {
   "cell_type": "markdown",
   "id": "1564f971-daa4-48d5-bb8a-873441cf4fb7",
   "metadata": {
    "editable": true,
    "slideshow": {
     "slide_type": "fragment"
    },
    "tags": []
   },
   "source": [
    "---"
   ]
  },
  {
   "cell_type": "markdown",
   "id": "f5ba4dc6-5031-41e2-8577-23a2e5c3fa35",
   "metadata": {
    "editable": true,
    "slideshow": {
     "slide_type": "slide"
    },
    "tags": []
   },
   "source": [
    "## Little Women"
   ]
  },
  {
   "cell_type": "markdown",
   "id": "cf3368af-e6b6-41bb-998c-61171ab7f423",
   "metadata": {
    "editable": true,
    "slideshow": {
     "slide_type": "fragment"
    },
    "tags": []
   },
   "source": [
    "---"
   ]
  },
  {
   "cell_type": "markdown",
   "id": "da54ae2d-c0ed-4abc-92a5-d2d9847ae502",
   "metadata": {
    "editable": true,
    "slideshow": {
     "slide_type": "subslide"
    },
    "tags": []
   },
   "source": [
    "### Create a Table"
   ]
  },
  {
   "cell_type": "markdown",
   "id": "aac34afd-e25a-434c-9dd3-1b19bad04e26",
   "metadata": {
    "editable": true,
    "slideshow": {
     "slide_type": ""
    },
    "tags": []
   },
   "source": [
    "Organize the text from each chapter from Little Women within a `Table`."
   ]
  },
  {
   "cell_type": "code",
   "execution_count": null,
   "id": "cf44db3d-5c38-42bd-8add-8ee95e341e5d",
   "metadata": {
    "editable": true,
    "slideshow": {
     "slide_type": "fragment"
    },
    "tags": []
   },
   "outputs": [],
   "source": [
    "Table().with_column('Chapters', little_women_chapters)"
   ]
  },
  {
   "cell_type": "markdown",
   "id": "391bcc49-a985-42d8-8601-3c646ce44cd0",
   "metadata": {
    "editable": true,
    "slideshow": {
     "slide_type": "fragment"
    },
    "tags": []
   },
   "source": [
    "---"
   ]
  },
  {
   "cell_type": "markdown",
   "id": "e959b1db-1487-45ac-8a52-3b07674a43c9",
   "metadata": {
    "editable": true,
    "slideshow": {
     "slide_type": "subslide"
    },
    "tags": []
   },
   "source": [
    "### Counting Names"
   ]
  },
  {
   "cell_type": "markdown",
   "id": "77887fea-7ec6-455d-9763-1289c7e44308",
   "metadata": {
    "editable": true,
    "slideshow": {
     "slide_type": ""
    },
    "tags": []
   },
   "source": [
    "Count how often the names of some characters in Little Women appear within each chapters."
   ]
  },
  {
   "cell_type": "code",
   "execution_count": null,
   "id": "36ea83e0-8966-4d68-b913-f4dbaa406905",
   "metadata": {
    "editable": true,
    "slideshow": {
     "slide_type": "fragment"
    },
    "tags": []
   },
   "outputs": [],
   "source": [
    "people_lw = ['Amy', 'Beth', 'Jo', 'Laurie', 'Meg']\n",
    "counts_lw = {pp: np.char.count(little_women_chapters, pp) for pp in people_lw}\n",
    "\n",
    "counts_lw = Table().with_columns([\n",
    "        'Amy', counts_lw['Amy'],\n",
    "        'Beth',counts_lw['Beth'],\n",
    "        'Jo', counts_lw['Jo'],\n",
    "        'Laurie', counts_lw['Laurie'],\n",
    "        'Meg', counts_lw['Meg']\n",
    "    ])\n",
    "counts_lw"
   ]
  },
  {
   "cell_type": "markdown",
   "id": "b7336f66-a955-4fe6-8dbc-51659ccd2e27",
   "metadata": {
    "editable": true,
    "slideshow": {
     "slide_type": "fragment"
    },
    "tags": []
   },
   "source": [
    "---"
   ]
  },
  {
   "cell_type": "markdown",
   "id": "03dfa92c-17f3-40d9-ad13-db5df19ab77a",
   "metadata": {
    "editable": true,
    "slideshow": {
     "slide_type": "subslide"
    },
    "tags": []
   },
   "source": [
    "### Visualize a Trend"
   ]
  },
  {
   "cell_type": "markdown",
   "id": "713ad45f-ab3e-4fcf-bb6a-88a9212ac502",
   "metadata": {
    "editable": true,
    "slideshow": {
     "slide_type": ""
    },
    "tags": []
   },
   "source": [
    "Visualize how the cumulative counts for each person changes over the chapters."
   ]
  },
  {
   "cell_type": "code",
   "execution_count": null,
   "id": "fdae3fa0-c01d-4b30-add9-0546f4a26e29",
   "metadata": {
    "editable": true,
    "slideshow": {
     "slide_type": "fragment"
    },
    "tags": []
   },
   "outputs": [],
   "source": [
    "original_labels_lw =  list(counts_lw.labels)\n",
    "cumulative_values_lw = ([np.cumsum(counts_lw.column(index)) \n",
    "                      for index in np.arange(counts_lw.num_columns)])\n",
    "cumulative_counts_lw = (counts_lw\n",
    "                        .with_columns(zip(original_labels_lw, cumulative_values_lw))\n",
    "                        .with_column('Chapter', np.arange(1, 48, 1)))\n",
    "cumulative_counts_lw.plot('Chapter')\n",
    "plt.title('Cumulative Number of Times Name Appears')\n",
    "plt.show()"
   ]
  },
  {
   "cell_type": "markdown",
   "id": "f12606bb-b818-4560-93f9-ff9cc75ae952",
   "metadata": {
    "editable": true,
    "slideshow": {
     "slide_type": "fragment"
    },
    "tags": []
   },
   "source": [
    "---"
   ]
  },
  {
   "cell_type": "markdown",
   "id": "b27fa322-588a-4fac-be4e-d63a7190966e",
   "metadata": {
    "editable": true,
    "slideshow": {
     "slide_type": "slide"
    },
    "tags": []
   },
   "source": [
    "## Exploring Sentence Structure"
   ]
  },
  {
   "cell_type": "markdown",
   "id": "f32db826-07a0-41ea-a690-9930e9abe433",
   "metadata": {
    "editable": true,
    "slideshow": {
     "slide_type": "fragment"
    },
    "tags": []
   },
   "source": [
    "---"
   ]
  },
  {
   "cell_type": "markdown",
   "id": "aecf515a-0d09-43cf-a90d-4365096f795d",
   "metadata": {
    "editable": true,
    "slideshow": {
     "slide_type": "subslide"
    },
    "tags": []
   },
   "source": [
    "### Chapter Length and Sentence Length"
   ]
  },
  {
   "cell_type": "markdown",
   "id": "b497356a-9585-48e4-a479-ea8d0c22d794",
   "metadata": {
    "editable": true,
    "slideshow": {
     "slide_type": ""
    },
    "tags": []
   },
   "source": [
    "* Is there relationship between the length of a chapter and the number of sentences in that chapter?\n",
    "* To explore this:\n",
    "    * Count of all the symbolic characters of the chapter.\n",
    "    * Count the approximate number of sentences in each chapter."
   ]
  },
  {
   "cell_type": "markdown",
   "id": "a0acc96b-482a-475a-b527-906996b03b86",
   "metadata": {
    "editable": true,
    "slideshow": {
     "slide_type": "fragment"
    },
    "tags": []
   },
   "source": [
    "---"
   ]
  },
  {
   "cell_type": "markdown",
   "id": "9f514559-ed72-4dea-b626-75d50053a854",
   "metadata": {
    "editable": true,
    "slideshow": {
     "slide_type": "subslide"
    },
    "tags": []
   },
   "source": [
    "### Create Some Tools"
   ]
  },
  {
   "cell_type": "markdown",
   "id": "9d674927-ef9d-4198-aee3-db93fb819333",
   "metadata": {
    "editable": true,
    "slideshow": {
     "slide_type": ""
    },
    "tags": []
   },
   "source": [
    "Data Science usually requires us to create tools."
   ]
  },
  {
   "cell_type": "code",
   "execution_count": null,
   "id": "5645a5b2-ad99-445b-8e89-be6b5edd62b7",
   "metadata": {
    "editable": true,
    "slideshow": {
     "slide_type": "fragment"
    },
    "tags": []
   },
   "outputs": [],
   "source": [
    "def count_characters(book_by_chapters):\n",
    "    '''Return the count of the number of characters \n",
    "    per chapter of the provided book.'''\n",
    "    return [len(s) for s in book_by_chapters]"
   ]
  },
  {
   "cell_type": "code",
   "execution_count": null,
   "id": "8511c430-ee4a-417a-b188-693f59b82f34",
   "metadata": {
    "editable": true,
    "slideshow": {
     "slide_type": "fragment"
    },
    "tags": []
   },
   "outputs": [],
   "source": [
    "def count_sentences(book_by_chapters):\n",
    "    '''Return the count of the number of periods, question marks, \n",
    "    and exclamation points per chapter of the provided book.'''\n",
    "    punctuation = ['.', '?', '!']\n",
    "    num_sentences = np.zeros_like(book_by_chapters, dtype=int)\n",
    "    for char in punctuation:\n",
    "        num_sentences += np.char.count(book_by_chapters, char)\n",
    "    return num_sentences"
   ]
  },
  {
   "cell_type": "markdown",
   "id": "0b4809d8-f755-43a1-8c44-29eab2d6fb37",
   "metadata": {
    "editable": true,
    "slideshow": {
     "slide_type": "fragment"
    },
    "tags": []
   },
   "source": [
    "---"
   ]
  },
  {
   "cell_type": "markdown",
   "id": "1d901615-7e56-4bc4-8af2-a9f955cdfd5b",
   "metadata": {
    "editable": true,
    "slideshow": {
     "slide_type": "subslide"
    },
    "tags": []
   },
   "source": [
    "### Apply the Tools"
   ]
  },
  {
   "cell_type": "markdown",
   "id": "d8093434-e539-4149-98ce-7970bd6ead60",
   "metadata": {
    "editable": true,
    "slideshow": {
     "slide_type": ""
    },
    "tags": []
   },
   "source": [
    "Determine the length of every chapter and the number of sentences per chapter of both books."
   ]
  },
  {
   "cell_type": "code",
   "execution_count": null,
   "id": "520afeff-80b7-4bb2-9a26-7e5c34069aec",
   "metadata": {
    "editable": true,
    "slideshow": {
     "slide_type": "fragment"
    },
    "tags": []
   },
   "outputs": [],
   "source": [
    "chapter_lengths_hf = count_characters(huck_finn_chapters)\n",
    "number_of_sentences_hf = count_sentences(huck_finn_chapters)\n",
    "chars_sentences_hf = Table().with_columns(\n",
    "    'Number of Sentences', number_of_sentences_hf,\n",
    "    'Chapter Length', chapter_lengths_hf,\n",
    "    'Book', ['Huck Finn'] * len(huck_finn_chapters))\n",
    "\n",
    "chapter_lengths_lw = count_characters(little_women_chapters)\n",
    "number_of_sentences_lw = count_sentences(little_women_chapters)\n",
    "chars_sentences_lw = Table().with_columns(\n",
    "    'Number of Sentences', number_of_sentences_lw,\n",
    "    'Chapter Length', chapter_lengths_lw,\n",
    "    'Book', ['Little Women'] * len(little_women_chapters))"
   ]
  },
  {
   "cell_type": "markdown",
   "id": "cff03eb7-edce-4638-9d9c-87be5f980964",
   "metadata": {
    "editable": true,
    "slideshow": {
     "slide_type": "fragment"
    },
    "tags": []
   },
   "source": [
    "---"
   ]
  },
  {
   "cell_type": "markdown",
   "id": "c951559c-8dae-41f1-b77e-4ed3c497a782",
   "metadata": {
    "editable": true,
    "slideshow": {
     "slide_type": "subslide"
    },
    "tags": []
   },
   "source": [
    "### Explore the Results"
   ]
  },
  {
   "cell_type": "markdown",
   "id": "5b4fa4de-7703-4332-97b9-438ccf077e7e",
   "metadata": {
    "editable": true,
    "slideshow": {
     "slide_type": ""
    },
    "tags": []
   },
   "source": [
    "Show the results for Huck Finn."
   ]
  },
  {
   "cell_type": "code",
   "execution_count": null,
   "id": "050341f0-1424-48c7-aeb8-3f16a8d5855c",
   "metadata": {
    "editable": true,
    "slideshow": {
     "slide_type": "fragment"
    },
    "tags": []
   },
   "outputs": [],
   "source": [
    "chars_sentences_hf"
   ]
  },
  {
   "cell_type": "markdown",
   "id": "6f5ad85f-3bed-42ec-8b54-567412e0f902",
   "metadata": {
    "editable": true,
    "slideshow": {
     "slide_type": "fragment"
    },
    "tags": []
   },
   "source": [
    "---"
   ]
  },
  {
   "cell_type": "markdown",
   "id": "b9ffba06-a930-4116-9aa7-b2df7f545533",
   "metadata": {
    "editable": true,
    "slideshow": {
     "slide_type": "subslide"
    },
    "tags": []
   },
   "source": [
    "Show the results for Little Women."
   ]
  },
  {
   "cell_type": "code",
   "execution_count": null,
   "id": "90a1d050-6d58-44f3-8202-1ae82f4a14b5",
   "metadata": {
    "editable": true,
    "slideshow": {
     "slide_type": "fragment"
    },
    "tags": []
   },
   "outputs": [],
   "source": [
    "chars_sentences_lw"
   ]
  },
  {
   "cell_type": "markdown",
   "id": "59e72348-8f1d-4b90-beb1-4ca8171175cb",
   "metadata": {
    "editable": true,
    "slideshow": {
     "slide_type": "fragment"
    },
    "tags": []
   },
   "source": [
    "---"
   ]
  },
  {
   "cell_type": "markdown",
   "id": "e15716d6-5da8-4aa4-94bb-be397736b525",
   "metadata": {
    "editable": true,
    "slideshow": {
     "slide_type": "subslide"
    },
    "tags": []
   },
   "source": [
    "Combine the two tables into one table."
   ]
  },
  {
   "cell_type": "code",
   "execution_count": null,
   "id": "c91593c9-fb67-43a2-b587-e126a65516f5",
   "metadata": {
    "editable": true,
    "slideshow": {
     "slide_type": "fragment"
    },
    "tags": []
   },
   "outputs": [],
   "source": [
    "chars_sentences = chars_sentences_hf.append(chars_sentences_lw)\n",
    "chars_sentences"
   ]
  },
  {
   "cell_type": "markdown",
   "id": "ba525c71-ae59-4167-95c3-6f8dad9b66c4",
   "metadata": {
    "editable": true,
    "slideshow": {
     "slide_type": "fragment"
    },
    "tags": []
   },
   "source": [
    "---"
   ]
  },
  {
   "cell_type": "markdown",
   "id": "b7836fdf-1c79-408e-862b-f1f43b1542bb",
   "metadata": {
    "editable": true,
    "slideshow": {
     "slide_type": "subslide"
    },
    "tags": []
   },
   "source": [
    "### Visualizing the Relationship"
   ]
  },
  {
   "cell_type": "markdown",
   "id": "7924b01c-8ce8-49f8-9c19-18c21ceaecd4",
   "metadata": {
    "editable": true,
    "slideshow": {
     "slide_type": "fragment"
    },
    "tags": []
   },
   "source": [
    "Visualize the relationship between the length of a chapter and the number of sentences in the same chapter."
   ]
  },
  {
   "cell_type": "code",
   "execution_count": null,
   "id": "e1a78525-5ce6-4717-be86-1effabaab671",
   "metadata": {
    "editable": true,
    "slideshow": {
     "slide_type": "fragment"
    },
    "tags": []
   },
   "outputs": [],
   "source": [
    "chars_sentences.scatter('Number of Sentences', group='Book')\n",
    "plt.title('Number of Sentence vs. Chapter Length')\n",
    "plt.show()"
   ]
  },
  {
   "cell_type": "markdown",
   "id": "8c4e6108-778c-49ad-91f1-4a888fcd805f",
   "metadata": {
    "editable": true,
    "slideshow": {
     "slide_type": "fragment"
    },
    "tags": []
   },
   "source": [
    "---"
   ]
  },
  {
   "cell_type": "markdown",
   "id": "a64407f3-4b56-40b7-b6d7-80a1b07714e7",
   "metadata": {
    "editable": true,
    "slideshow": {
     "slide_type": "subslide"
    },
    "tags": []
   },
   "source": [
    "### Quantifying the Relationship"
   ]
  },
  {
   "cell_type": "markdown",
   "id": "44d0e41c-a36c-45c5-b2f7-784f90977b08",
   "metadata": {
    "editable": true,
    "slideshow": {
     "slide_type": ""
    },
    "tags": []
   },
   "source": [
    "Compute the ratio of the average chapter length with the average number of sentences per chapter for each book."
   ]
  },
  {
   "cell_type": "code",
   "execution_count": null,
   "id": "273f7d6c-6f30-4271-b10a-2487c625b66e",
   "metadata": {
    "editable": true,
    "slideshow": {
     "slide_type": "fragment"
    },
    "tags": []
   },
   "outputs": [],
   "source": [
    "ave_sentence_length_hf = (np.average(chapter_lengths_hf) \n",
    "                          / np.average(number_of_sentences_hf))\n",
    "print(f'Huck Finn has an average approximate sentence \\\n",
    "length of {ave_sentence_length_hf} characters.')"
   ]
  },
  {
   "cell_type": "code",
   "execution_count": null,
   "id": "396569d6-26fe-4e40-ac3f-1444b4956b9c",
   "metadata": {
    "editable": true,
    "slideshow": {
     "slide_type": "fragment"
    },
    "tags": []
   },
   "outputs": [],
   "source": [
    "ave_sentence_length_lw = (np.average(chapter_lengths_lw) \n",
    "                          / np.average(number_of_sentences_lw))\n",
    "print(f'Little Women has an average approximate sentence \\\n",
    "length of {ave_sentence_length_lw} characters.')"
   ]
  },
  {
   "cell_type": "markdown",
   "id": "152f0345-bcf9-420e-8152-f846f148c7ba",
   "metadata": {
    "editable": true,
    "slideshow": {
     "slide_type": "fragment"
    },
    "tags": []
   },
   "source": [
    "---"
   ]
  },
  {
   "cell_type": "markdown",
   "id": "7b842243-97be-4ad5-8cce-c64c28236876",
   "metadata": {
    "editable": true,
    "slideshow": {
     "slide_type": "slide"
    },
    "tags": []
   },
   "source": [
    "## Ask a Question"
   ]
  },
  {
   "cell_type": "markdown",
   "id": "0da908e9-1460-4527-b75f-2ed2801f1b86",
   "metadata": {
    "editable": true,
    "slideshow": {
     "slide_type": ""
    },
    "tags": []
   },
   "source": [
    "A big part of this subject is to make observations and ask questions."
   ]
  },
  {
   "cell_type": "markdown",
   "id": "adb33890-15e5-4de8-9532-7f2aa66978fc",
   "metadata": {
    "editable": true,
    "slideshow": {
     "slide_type": ""
    },
    "tags": []
   },
   "source": [
    "* There seems to be a consistency between these two averages!\n",
    "* Is the difference (~ 3 characters) in their averages meaningful?\n",
    "* Do all books have the same pattern in their sentence structure?\n",
    "* ..."
   ]
  },
  {
   "cell_type": "markdown",
   "id": "576fa3da-2caf-4c24-90c2-82eb66c8d38e",
   "metadata": {
    "editable": true,
    "slideshow": {
     "slide_type": "fragment"
    },
    "tags": []
   },
   "source": [
    "---"
   ]
  },
  {
   "cell_type": "markdown",
   "id": "afb489eb-ee63-4897-bd58-236d2fd2af7a",
   "metadata": {
    "editable": true,
    "slideshow": {
     "slide_type": "notes"
    },
    "tags": []
   },
   "source": [
    "<footer>\n",
    "    <p>Adopted from <a href=\"https://data.berkeley.edu/education/courses/data-8\">UC Berkeley DATA 8</a> course materials.</p>\n",
    "    <p>This content is offered under a <a href=\"https://creativecommons.org/licenses/by-nc-sa/4.0/\">CC Attribution Non-Commercial Share Alike</a> license.</p>\n",
    "</footer>"
   ]
  }
 ],
 "metadata": {
  "kernelspec": {
   "display_name": "Python 3 (ipykernel)",
   "language": "python",
   "name": "python3"
  },
  "language_info": {
   "codemirror_mode": {
    "name": "ipython",
    "version": 3
   },
   "file_extension": ".py",
   "mimetype": "text/x-python",
   "name": "python",
   "nbconvert_exporter": "python",
   "pygments_lexer": "ipython3",
   "version": "3.10.12"
  },
  "otter": {
   "OK_FORMAT": true,
   "tests": {}
  }
 },
 "nbformat": 4,
 "nbformat_minor": 5
}
