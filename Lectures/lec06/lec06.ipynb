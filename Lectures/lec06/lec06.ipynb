{
 "cells": [
  {
   "cell_type": "markdown",
   "id": "5b901a36-8291-4190-8394-3014ff512ca0",
   "metadata": {
    "slideshow": {
     "slide_type": "slide"
    }
   },
   "source": [
    "<div style=\"width: 38.5%;\">\n",
    "    <p><strong>City College of San Francisco</strong><p>\n",
    "    <hr>\n",
    "    <p>MATH 108 - Foundations of Data Science</p>\n",
    "</div>"
   ]
  },
  {
   "cell_type": "markdown",
   "id": "c845d566-6408-409a-b07c-e10d9038094b",
   "metadata": {
    "slideshow": {
     "slide_type": "-"
    }
   },
   "source": [
    "# Lecture 06: Tables"
   ]
  },
  {
   "cell_type": "markdown",
   "id": "bde5a919-2140-47af-8da6-69d450e5fa9f",
   "metadata": {
    "slideshow": {
     "slide_type": "-"
    }
   },
   "source": [
    "Associated Textbook Sections: [3.4](https://inferentialthinking.com/chapters/03/4/Introduction_to_Tables.html)"
   ]
  },
  {
   "cell_type": "markdown",
   "id": "ef227789-95d3-4f0d-8982-4c3c643d8549",
   "metadata": {
    "editable": true,
    "slideshow": {
     "slide_type": "fragment"
    },
    "tags": []
   },
   "source": [
    "---"
   ]
  },
  {
   "cell_type": "markdown",
   "id": "46582649-1f7f-47ae-8e06-a934db27be93",
   "metadata": {
    "slideshow": {
     "slide_type": "slide"
    }
   },
   "source": [
    "## Overview"
   ]
  },
  {
   "cell_type": "markdown",
   "id": "3cb85204-e762-482c-a16e-80dbf5fd52ee",
   "metadata": {
    "slideshow": {
     "slide_type": "-"
    }
   },
   "source": [
    "* [Tables](#Tables)\n",
    "* [Attributes and Properties](#Attributes-and-Properties)\n",
    "* [Some Table Methods](#Some-Table-Methods)"
   ]
  },
  {
   "cell_type": "markdown",
   "id": "e559619e-d05f-450d-8cde-2d5775e2ac1c",
   "metadata": {
    "editable": true,
    "slideshow": {
     "slide_type": "fragment"
    },
    "tags": []
   },
   "source": [
    "---"
   ]
  },
  {
   "cell_type": "markdown",
   "id": "c30412b8-cc65-466a-88fa-e2fdcdc8cd4b",
   "metadata": {
    "slideshow": {
     "slide_type": "slide"
    }
   },
   "source": [
    "## Set Up the Notebook"
   ]
  },
  {
   "cell_type": "code",
   "execution_count": null,
   "id": "38cb2d4c-0357-4091-9f2b-798acd86deb3",
   "metadata": {
    "slideshow": {
     "slide_type": "-"
    },
    "tags": []
   },
   "outputs": [],
   "source": [
    "from datascience import *\n",
    "import numpy as np"
   ]
  },
  {
   "cell_type": "markdown",
   "id": "05b0c396-fe27-446a-9e3d-dc5c9de68384",
   "metadata": {
    "editable": true,
    "slideshow": {
     "slide_type": "fragment"
    },
    "tags": []
   },
   "source": [
    "---"
   ]
  },
  {
   "cell_type": "markdown",
   "id": "5008dba8-404e-424d-bf74-853938c78f50",
   "metadata": {
    "slideshow": {
     "slide_type": "slide"
    }
   },
   "source": [
    "## Tables"
   ]
  },
  {
   "cell_type": "markdown",
   "id": "a52bd079-190c-4403-87bc-ce47601f4e4a",
   "metadata": {
    "editable": true,
    "slideshow": {
     "slide_type": "fragment"
    },
    "tags": []
   },
   "source": [
    "---"
   ]
  },
  {
   "cell_type": "markdown",
   "id": "33cd9c24-e448-4ba8-9ca5-6d1aff9a564c",
   "metadata": {},
   "source": [
    "### Early Beginnings"
   ]
  },
  {
   "cell_type": "markdown",
   "id": "494acc1a-1281-4eab-86a9-d6ca32aeeb24",
   "metadata": {},
   "source": [
    "<a href=\"https://academic.oup.com/book/4975/chapter-abstract/147431903\" title=\"Tables and tabular formatting in Sumer, Babylonia, and Assyria, 2500 bce–50 ce\"><img src=\"./Shuruppag_data_table.jpeg\" alt=\"The world’s oldest datable mathematical table, from Shuruppag, c. 2600 BCE.  The first two columns contain identical lengths in descending order from 600 to 60 rods (c. 3600–360 m) and the final column contains the square area of their product\" width=40%></a>\n",
    "\n",
    "Ancient Mesopotamia (modern-day Iraq):\n",
    "* Sumer, Babylonia, and Assyria had clay tablets from around 2600-1600 BCE that provide examples of some of the earliest recorded numerical tables\n",
    "* The tablets demonstrate their proficiency in recording mathematical and astronomical data\n",
    "\n",
    "The image above shows the world's oldest dateable mathematical table (on record), from the Sumerian city of Shuruppag, c. 2600 BCE.  The first two columns contain identical lengths in descending order from 600 to 60 rods (c. 3600-360 m) and the final column contains the square area of their product"
   ]
  },
  {
   "cell_type": "markdown",
   "id": "7ddcad51-d71c-4302-b345-b24f13109636",
   "metadata": {
    "editable": true,
    "slideshow": {
     "slide_type": "fragment"
    },
    "tags": []
   },
   "source": [
    "---"
   ]
  },
  {
   "cell_type": "markdown",
   "id": "7baaab06-605c-4982-9111-35ab60ba7081",
   "metadata": {
    "slideshow": {
     "slide_type": "slide"
    }
   },
   "source": [
    "### Table Structure"
   ]
  },
  {
   "cell_type": "markdown",
   "id": "9dcc93ef-92fa-49e1-a428-3966d4db450f",
   "metadata": {
    "slideshow": {
     "slide_type": "skip"
    }
   },
   "source": [
    "* The `datascience` library contains a data type called a `Table`.\n",
    "* A `Table` is a sequence of labeled columns\n",
    "* Each row represents one individual\n",
    "* Data within a column represents one attribute of the individuals\n",
    "\n",
    "<img src=\"./table_structure.png\" alt=\"A table with the columns and rows indicated.\" width=50%>"
   ]
  },
  {
   "cell_type": "markdown",
   "id": "886125b2-6770-4997-869d-5a8495d4d61c",
   "metadata": {
    "editable": true,
    "slideshow": {
     "slide_type": "fragment"
    },
    "tags": []
   },
   "source": [
    "---"
   ]
  },
  {
   "cell_type": "markdown",
   "id": "c5cc5b05-7f05-4d64-a4cc-136743619df3",
   "metadata": {},
   "source": [
    "### Loading Data"
   ]
  },
  {
   "cell_type": "markdown",
   "id": "c879b95e-e78d-4613-a502-6f6f688e093c",
   "metadata": {},
   "source": [
    "* Data analysis usually includes connecting to various data sources\n",
    "* We focus on loading data from CSV files\n",
    "    * Comma Separated Values\n",
    "    * `.csv` extension\n",
    "* The `Table.read_table` function will load the contents of a CSV into the notebook as a `Table`. "
   ]
  },
  {
   "cell_type": "markdown",
   "id": "15012496-e191-4c83-8646-58eabf272757",
   "metadata": {
    "editable": true,
    "slideshow": {
     "slide_type": "fragment"
    },
    "tags": []
   },
   "source": [
    "---"
   ]
  },
  {
   "cell_type": "markdown",
   "id": "2f9ac517-69d4-4601-ba6f-49b4910a2be2",
   "metadata": {
    "editable": true,
    "slideshow": {
     "slide_type": ""
    },
    "tags": []
   },
   "source": [
    "### Demo: Loading Data"
   ]
  },
  {
   "cell_type": "markdown",
   "id": "83a6e900-4b14-4d45-91ad-103afc7564ed",
   "metadata": {
    "deletable": false,
    "editable": false,
    "slideshow": {
     "slide_type": ""
    },
    "tags": []
   },
   "source": [
    "<a href=\"https://upload.wikimedia.org/wikipedia/commons/b/bb/US_States_by_Total_Area.svg\" title=\"US States by Total Area\"><img src=\"US_States_by_Total_Area.svg\" alt=\"US states by area\" width=40%></a>\n",
    "\n",
    "Import data in `states_area.csv` that contains land and water area data sourced form [Wikipedia](https://en.wikipedia.org/wiki/List_of_U.S._states_and_territories_by_area)."
   ]
  },
  {
   "cell_type": "code",
   "execution_count": null,
   "id": "cc03cf85-1e1b-4f9c-89df-c9bf4512dcf4",
   "metadata": {
    "slideshow": {
     "slide_type": "fragment"
    },
    "tags": []
   },
   "outputs": [],
   "source": [
    "states = ...\n",
    "states"
   ]
  },
  {
   "cell_type": "code",
   "execution_count": null,
   "id": "1376367a-7dc8-4f85-b8c9-5a3dd7f47526",
   "metadata": {
    "tags": []
   },
   "outputs": [],
   "source": [
    "type(states)"
   ]
  },
  {
   "cell_type": "markdown",
   "id": "4d8910ec-5e81-4746-963d-b5614c94e868",
   "metadata": {
    "editable": true,
    "slideshow": {
     "slide_type": "fragment"
    },
    "tags": []
   },
   "source": [
    "---"
   ]
  },
  {
   "cell_type": "markdown",
   "id": "1f003460-047f-4fe0-a81c-6b4c1af1e86b",
   "metadata": {},
   "source": [
    "## Attributes and Properties"
   ]
  },
  {
   "cell_type": "markdown",
   "id": "4f974eea-97b5-4cdc-8b63-b075222bd927",
   "metadata": {},
   "source": [
    "A `Table` has information that we can access by command. For example:\n",
    "* `t.labels` - the labels of a table called `t`\n",
    "* `t.num_columns` - the number of columns in `t`\n",
    "* `t.num_rows` - the number of rows in `t`\n",
    "* `t.rows` - a collection of all the rows in `t`"
   ]
  },
  {
   "cell_type": "markdown",
   "id": "a2e62c70-9dd4-411e-8469-3f95d822ce8c",
   "metadata": {
    "editable": true,
    "slideshow": {
     "slide_type": "fragment"
    },
    "tags": []
   },
   "source": [
    "---"
   ]
  },
  {
   "cell_type": "markdown",
   "id": "df916125-86fe-430c-bc16-825503c6ebce",
   "metadata": {},
   "source": [
    "### Demo: Attributes and Properties"
   ]
  },
  {
   "cell_type": "markdown",
   "id": "1133d97c-9f63-4271-b553-ff46cb09603a",
   "metadata": {
    "deletable": false,
    "editable": false
   },
   "source": [
    "There are various attributes of a table that you can access as well using the dot notation such as `labels`, `num_columns`, and `num_rows`."
   ]
  },
  {
   "cell_type": "code",
   "execution_count": null,
   "id": "99f2d660-1896-4178-9348-85521f8a006e",
   "metadata": {
    "tags": []
   },
   "outputs": [],
   "source": [
    "..."
   ]
  },
  {
   "cell_type": "code",
   "execution_count": null,
   "id": "aabee19c-db88-4cb5-85af-ff9d7b013124",
   "metadata": {
    "tags": []
   },
   "outputs": [],
   "source": [
    "..."
   ]
  },
  {
   "cell_type": "code",
   "execution_count": null,
   "id": "8c69865a-356e-424c-8ea0-835ca455bdef",
   "metadata": {
    "tags": []
   },
   "outputs": [],
   "source": [
    "..."
   ]
  },
  {
   "cell_type": "code",
   "execution_count": null,
   "id": "0b5e646c-8b76-49bb-8de2-be9dc53cbf3b",
   "metadata": {
    "scrolled": true,
    "tags": []
   },
   "outputs": [],
   "source": [
    "..."
   ]
  },
  {
   "cell_type": "markdown",
   "id": "616244a5-aea3-4047-a028-f83036e3b7e2",
   "metadata": {
    "editable": true,
    "slideshow": {
     "slide_type": "fragment"
    },
    "tags": []
   },
   "source": [
    "---"
   ]
  },
  {
   "cell_type": "markdown",
   "id": "bc153ace-efd0-4b74-8741-f933b22edc98",
   "metadata": {},
   "source": [
    "## Some Table Methods"
   ]
  },
  {
   "cell_type": "markdown",
   "id": "75b2e025-e696-4956-861b-b624537c68a0",
   "metadata": {},
   "source": [
    "There is a collection of methods (functions) associated with every `Table` created. For example:\n",
    "* `t.show(n)` - displays the first `n` rows of a table called `t`\n",
    "* `t.select(label)` - constructs a new table with just the specified columns\n",
    "* `t.drop(label)` - constructs a new table in which the specified columns are omitted\n",
    "* `t.sort(label)` - constructs a new table with rows sorted by the specified column\n",
    "* `t.where(label, condition)` - constructs a new table with just the rows that match the condition\n",
    "    * Initially, the `condition` will be made up using Predicates such as `are.above`, `are.equal_to`, etc. \n",
    "* More can be found in the [`datascience` documentation](https://datascience.readthedocs.io/en/master/tables.html)"
   ]
  },
  {
   "cell_type": "markdown",
   "id": "c1f356a3-c308-4294-ae0d-18ad562e665f",
   "metadata": {
    "editable": true,
    "slideshow": {
     "slide_type": "fragment"
    },
    "tags": []
   },
   "source": [
    "---"
   ]
  },
  {
   "cell_type": "markdown",
   "id": "94885e70-33cf-4f5c-8aa1-507efd38ba46",
   "metadata": {},
   "source": [
    "### Demo: `show`"
   ]
  },
  {
   "cell_type": "markdown",
   "id": "cb0b68e9-64ac-4860-b1f6-651ccc184a8c",
   "metadata": {
    "deletable": false,
    "editable": false
   },
   "source": [
    "Explore the `show` table method."
   ]
  },
  {
   "cell_type": "code",
   "execution_count": null,
   "id": "c5adcee2-b1b9-4678-a6b0-5ba907778b33",
   "metadata": {
    "tags": []
   },
   "outputs": [],
   "source": [
    "..."
   ]
  },
  {
   "cell_type": "code",
   "execution_count": null,
   "id": "8c51c16f-528d-47f5-8761-a0cc40ae4181",
   "metadata": {
    "tags": []
   },
   "outputs": [],
   "source": [
    "..."
   ]
  },
  {
   "cell_type": "code",
   "execution_count": null,
   "id": "f994243e-7a86-472b-8d7b-71b6dd4bee83",
   "metadata": {
    "scrolled": true,
    "tags": []
   },
   "outputs": [],
   "source": [
    "# show(3) does not produce a Table\n",
    "states_show_3 = ...\n",
    "type(states_show_3)"
   ]
  },
  {
   "cell_type": "markdown",
   "id": "b3a5d1a8-f934-4277-b8d0-210b112e6770",
   "metadata": {
    "editable": true,
    "slideshow": {
     "slide_type": "fragment"
    },
    "tags": []
   },
   "source": [
    "---"
   ]
  },
  {
   "cell_type": "markdown",
   "id": "10aea105-505d-4f7f-beba-abb952d2535a",
   "metadata": {},
   "source": [
    "### Demo: `select`"
   ]
  },
  {
   "cell_type": "markdown",
   "id": "eb3aaf9c-b411-4e24-8c21-326739967487",
   "metadata": {
    "deletable": false,
    "editable": false
   },
   "source": [
    "Use the `select` table method to select columns by column labels and column indexes."
   ]
  },
  {
   "cell_type": "code",
   "execution_count": null,
   "id": "919a799e-54fe-4b46-80b8-6643855a9e62",
   "metadata": {
    "tags": []
   },
   "outputs": [],
   "source": [
    "..."
   ]
  },
  {
   "cell_type": "code",
   "execution_count": null,
   "id": "09490f27-ac9f-4d39-a221-6c61262b7ab3",
   "metadata": {
    "tags": []
   },
   "outputs": [],
   "source": [
    "..."
   ]
  },
  {
   "cell_type": "code",
   "execution_count": null,
   "id": "9aeb7084-a20f-4cdc-9fbc-c6ad16bcac05",
   "metadata": {
    "tags": []
   },
   "outputs": [],
   "source": [
    "# A NameError where the column name was used incorrectly.\n",
    "# states.select(State, 'Total Area (sq mi)')"
   ]
  },
  {
   "cell_type": "code",
   "execution_count": null,
   "id": "ac7b83bc-6de6-4751-8eb7-f27c19b027c4",
   "metadata": {
    "tags": []
   },
   "outputs": [],
   "source": [
    "# A ValueError where the column name was used incorrectly.\n",
    "# states.select('State', 'Total Area')"
   ]
  },
  {
   "cell_type": "markdown",
   "id": "db6e0dd8-29a7-456d-925e-ff014fa05c1a",
   "metadata": {
    "editable": true,
    "slideshow": {
     "slide_type": "fragment"
    },
    "tags": []
   },
   "source": [
    "---"
   ]
  },
  {
   "cell_type": "markdown",
   "id": "9838543c-99e8-4df8-813d-70b5c22f57a5",
   "metadata": {},
   "source": [
    "### Demo: `drop`"
   ]
  },
  {
   "cell_type": "markdown",
   "id": "20c227fa-d560-4aa2-83c5-2a7b3389e3c4",
   "metadata": {
    "deletable": false,
    "editable": false
   },
   "source": [
    "Use the `drop` table method to drop columns by name and by index."
   ]
  },
  {
   "cell_type": "code",
   "execution_count": null,
   "id": "362c3b74-67a5-489a-82ca-f8f0573a3d9f",
   "metadata": {
    "tags": []
   },
   "outputs": [],
   "source": [
    "..."
   ]
  },
  {
   "cell_type": "code",
   "execution_count": null,
   "id": "fed4cf12-9c00-491a-8464-34cf38318819",
   "metadata": {
    "tags": []
   },
   "outputs": [],
   "source": [
    "..."
   ]
  },
  {
   "cell_type": "markdown",
   "id": "dc814a69-d56e-4ce1-bbcf-0023517a3bd5",
   "metadata": {
    "editable": true,
    "slideshow": {
     "slide_type": "fragment"
    },
    "tags": []
   },
   "source": [
    "---"
   ]
  },
  {
   "cell_type": "markdown",
   "id": "b5d2d04d-e105-40cd-85f4-d3ae54af0aad",
   "metadata": {},
   "source": [
    "### Demo: `sort`"
   ]
  },
  {
   "cell_type": "markdown",
   "id": "f60d0ea2-17f1-4709-89f9-df55f07a1ddd",
   "metadata": {
    "deletable": false,
    "editable": false
   },
   "source": [
    "Use the `sort` table method to sort the data in the table by a certain column."
   ]
  },
  {
   "cell_type": "code",
   "execution_count": null,
   "id": "1872cee2-6f42-428c-a832-9542679d052a",
   "metadata": {
    "tags": []
   },
   "outputs": [],
   "source": [
    "..."
   ]
  },
  {
   "cell_type": "code",
   "execution_count": null,
   "id": "5c80b636-04b3-4f6d-9a2f-18b3f720b52e",
   "metadata": {
    "tags": []
   },
   "outputs": [],
   "source": [
    "..."
   ]
  },
  {
   "cell_type": "code",
   "execution_count": null,
   "id": "f8fadcd4-b4cc-440e-9e55-ccc50c5602e6",
   "metadata": {
    "tags": []
   },
   "outputs": [],
   "source": [
    "..."
   ]
  },
  {
   "cell_type": "code",
   "execution_count": null,
   "id": "d8ce29a4-0fe7-46e8-a36b-5c295194037b",
   "metadata": {
    "tags": []
   },
   "outputs": [],
   "source": [
    "..."
   ]
  },
  {
   "cell_type": "markdown",
   "id": "4ecd61f2-1135-4924-a928-e399a11e3160",
   "metadata": {
    "editable": true,
    "slideshow": {
     "slide_type": "fragment"
    },
    "tags": []
   },
   "source": [
    "---"
   ]
  },
  {
   "cell_type": "markdown",
   "id": "58fd774c-d7c5-4060-b019-5c44292b5876",
   "metadata": {},
   "source": [
    "### Demo: `where`"
   ]
  },
  {
   "cell_type": "markdown",
   "id": "b04c61e7-8ab3-4ca8-a3f6-b0445a4387d9",
   "metadata": {
    "deletable": false,
    "editable": false
   },
   "source": [
    "Use the `where` table method to filter the data in the table."
   ]
  },
  {
   "cell_type": "code",
   "execution_count": null,
   "id": "218d5a29-ba33-471a-aae3-27651a8e2b0a",
   "metadata": {
    "tags": []
   },
   "outputs": [],
   "source": [
    "# Nothing Filtered\n",
    "..."
   ]
  },
  {
   "cell_type": "code",
   "execution_count": null,
   "id": "7eb71396-6af7-4a60-87cd-8cc6782d7569",
   "metadata": {
    "tags": []
   },
   "outputs": [],
   "source": [
    "..."
   ]
  },
  {
   "cell_type": "code",
   "execution_count": null,
   "id": "9b7ae27a-31fb-4a5c-9b87-db43b708b539",
   "metadata": {
    "tags": []
   },
   "outputs": [],
   "source": [
    "..."
   ]
  },
  {
   "cell_type": "code",
   "execution_count": null,
   "id": "4c1cbb01-6e1a-473d-9646-a5d213609dfd",
   "metadata": {
    "scrolled": true,
    "tags": []
   },
   "outputs": [],
   "source": [
    "..."
   ]
  },
  {
   "cell_type": "markdown",
   "id": "55bc3f2d-8e5d-4fc7-b2d3-2ba5724a5513",
   "metadata": {
    "slideshow": {
     "slide_type": "notes"
    }
   },
   "source": [
    "<footer>\n",
    "    <hr>\n",
    "    <p>Adopted from UC Berkeley DATA 8 course materials.</p>\n",
    "    <p>This content is offered under a <a href=\"https://creativecommons.org/licenses/by-nc-sa/4.0/\">CC Attribution Non-Commercial Share Alike</a> license.</p>\n",
    "</footer>"
   ]
  }
 ],
 "metadata": {
  "kernelspec": {
   "display_name": "Python 3 (ipykernel)",
   "language": "python",
   "name": "python3"
  },
  "language_info": {
   "codemirror_mode": {
    "name": "ipython",
    "version": 3
   },
   "file_extension": ".py",
   "mimetype": "text/x-python",
   "name": "python",
   "nbconvert_exporter": "python",
   "pygments_lexer": "ipython3",
   "version": "3.10.12"
  },
  "otter": {
   "OK_FORMAT": true,
   "tests": {}
  }
 },
 "nbformat": 4,
 "nbformat_minor": 5
}
