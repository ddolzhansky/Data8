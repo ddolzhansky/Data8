{
 "cells": [
  {
   "cell_type": "markdown",
   "id": "52d39f9a-f295-4707-a1af-c5f306bdef00",
   "metadata": {
    "editable": true,
    "slideshow": {
     "slide_type": "slide"
    },
    "tags": []
   },
   "source": [
    "<div style=\"width: 38.5%;\">\n",
    "    <p><strong>City College of San Francisco</strong><p>\n",
    "    <hr>\n",
    "    <p>MATH 108 - Foundations of Data Science</p>\n",
    "</div>"
   ]
  },
  {
   "cell_type": "markdown",
   "id": "de956178-2e76-4bc9-91a7-3e1a71790397",
   "metadata": {
    "editable": true,
    "slideshow": {
     "slide_type": "-"
    },
    "tags": []
   },
   "source": [
    "# Lecture 03: Expressions"
   ]
  },
  {
   "cell_type": "markdown",
   "id": "2ea8e5c4-2411-45ff-8029-2bf285f2a2bc",
   "metadata": {
    "editable": true,
    "slideshow": {
     "slide_type": "fragment"
    },
    "tags": []
   },
   "source": [
    "---"
   ]
  },
  {
   "cell_type": "markdown",
   "id": "02b75548-071f-4d16-9cb2-3186a3405735",
   "metadata": {
    "editable": true,
    "slideshow": {
     "slide_type": "slide"
    },
    "tags": []
   },
   "source": [
    "## Overview\n",
    "\n",
    "* [Python](#Python)\n",
    "* [Jupyter Notebooks](#Jupyter-Notebooks)\n",
    "* [Expressions](#Expressions)\n",
    "* [Names](#Names)\n",
    "* [Function Calls](#Function-Calls)\n",
    "* [Errors and Exceptions](#Errors-and-Exceptions)"
   ]
  },
  {
   "cell_type": "markdown",
   "id": "8adc83d0-79e8-4e14-bf48-c6bcb18e23b1",
   "metadata": {
    "editable": true,
    "slideshow": {
     "slide_type": "fragment"
    },
    "tags": []
   },
   "source": [
    "---"
   ]
  },
  {
   "cell_type": "markdown",
   "id": "a61e44e7-1384-4fcb-95b9-5b8b304a8c60",
   "metadata": {
    "editable": true,
    "slideshow": {
     "slide_type": "slide"
    },
    "tags": []
   },
   "source": [
    "## Python"
   ]
  },
  {
   "cell_type": "markdown",
   "id": "8fb03e06-a615-4eb0-92a8-1da255a31be0",
   "metadata": {
    "editable": true,
    "slideshow": {
     "slide_type": "fragment"
    },
    "tags": []
   },
   "source": [
    "---"
   ]
  },
  {
   "cell_type": "markdown",
   "id": "948f5d88-4c5c-436c-b472-cb08dfb54344",
   "metadata": {
    "editable": true,
    "slideshow": {
     "slide_type": "subslide"
    },
    "tags": []
   },
   "source": [
    "### Python 3.10"
   ]
  },
  {
   "cell_type": "markdown",
   "id": "11a2949b-ec58-4b53-a839-ef6d085ff20f",
   "metadata": {
    "editable": true,
    "slideshow": {
     "slide_type": ""
    },
    "tags": []
   },
   "source": [
    "* Python is popular both for data science & general software development\n",
    "* Mastering the language fundamentals is critical\n",
    "* Learn through practice, not by reading or listening\n",
    "* Follow along with the lecture notebook posted in the Canvas Lecture pages. \n",
    "    * The lecture templates notebooks show the code partial completed, and I'll complete those during the lecture. \n",
    "    * You can follow along with your own copy of notebook to help the lectures feel more interactive and to get more practice with the language."
   ]
  },
  {
   "cell_type": "markdown",
   "id": "18c04752-3fb8-4b34-9bb9-ac3c5ee3a0ff",
   "metadata": {
    "editable": true,
    "slideshow": {
     "slide_type": "fragment"
    },
    "tags": []
   },
   "source": [
    "---"
   ]
  },
  {
   "cell_type": "markdown",
   "id": "d13f8b95-e8f3-4d00-84f9-0ddaf2a43439",
   "metadata": {
    "editable": true,
    "slideshow": {
     "slide_type": "subslide"
    },
    "tags": []
   },
   "source": [
    "#### Check Version"
   ]
  },
  {
   "cell_type": "markdown",
   "id": "c9907c3b-95cd-47be-8b48-cd3aa79d62b4",
   "metadata": {
    "editable": true,
    "slideshow": {
     "slide_type": ""
    },
    "tags": []
   },
   "source": [
    "See the version of Python installed on this system."
   ]
  },
  {
   "cell_type": "code",
   "execution_count": null,
   "id": "d6033b3e-9739-442f-bf15-2b9c7f0c87ac",
   "metadata": {
    "editable": true,
    "slideshow": {
     "slide_type": "fragment"
    },
    "tags": []
   },
   "outputs": [],
   "source": [
    "!python --version"
   ]
  },
  {
   "cell_type": "markdown",
   "id": "06d6cf9a-055d-4ad3-9134-d3ffa50a7739",
   "metadata": {
    "editable": true,
    "slideshow": {
     "slide_type": "fragment"
    },
    "tags": []
   },
   "source": [
    "---"
   ]
  },
  {
   "cell_type": "markdown",
   "id": "3fff7754-34d5-4c53-8063-85b74e35d375",
   "metadata": {
    "editable": true,
    "slideshow": {
     "slide_type": "slide"
    },
    "tags": []
   },
   "source": [
    "## Jupyter Notebooks"
   ]
  },
  {
   "cell_type": "markdown",
   "id": "448bd969-b680-43e2-a161-88d65d9b9395",
   "metadata": {
    "editable": true,
    "slideshow": {
     "slide_type": "fragment"
    },
    "tags": []
   },
   "source": [
    "---"
   ]
  },
  {
   "cell_type": "markdown",
   "id": "3d723fa0-54b4-4753-8539-f9ebea838a92",
   "metadata": {
    "editable": true,
    "slideshow": {
     "slide_type": "subslide"
    },
    "tags": []
   },
   "source": [
    "### What are Notebooks?"
   ]
  },
  {
   "cell_type": "markdown",
   "id": "03cf0929-1dc1-427c-9680-0fbd721db6f0",
   "metadata": {
    "editable": true,
    "slideshow": {
     "slide_type": ""
    },
    "tags": []
   },
   "source": [
    "* Jupyter notebooks are web applications\n",
    "* Some things you can do with notebooks:\n",
    "    * develop and run computer-interpreted code\n",
    "    * engage with and produce human-focused documentation\n",
    "    * support reproducible science\n",
    "    * and more!\n",
    "* In this class:\n",
    "    * Open notebooks from links provided in Canvas (default)\n",
    "    * The links are important because they update the notebooks if we make changes"
   ]
  },
  {
   "cell_type": "markdown",
   "id": "4fb36e1a-f582-4d48-8c9f-2cc99fa73a9b",
   "metadata": {
    "slideshow": {
     "slide_type": "fragment"
    }
   },
   "source": [
    "---"
   ]
  },
  {
   "cell_type": "markdown",
   "id": "96178451-39f8-45b8-a2f3-8e7bca6438be",
   "metadata": {
    "editable": true,
    "slideshow": {
     "slide_type": "subslide"
    },
    "tags": []
   },
   "source": [
    "### Notebook Interface (Version 7)"
   ]
  },
  {
   "cell_type": "markdown",
   "id": "c8d29ee5-e184-47bf-a56f-64c8d1aeb75b",
   "metadata": {
    "editable": true,
    "slideshow": {
     "slide_type": ""
    },
    "tags": []
   },
   "source": [
    "<a href=\"https://jupyter-notebook.readthedocs.io/en/stable/notebook.html#notebook-user-interface\" title=\"Jupyter Notebook documentation\"><img src=\"./notebook_interface.png\" alt=\"A screenshot of the Notebook interface\" width = 70%></a>"
   ]
  },
  {
   "cell_type": "markdown",
   "id": "23bf1f8d-edef-4848-a3c7-fdc5d90a654c",
   "metadata": {
    "editable": true,
    "slideshow": {
     "slide_type": ""
    },
    "tags": []
   },
   "source": [
    "* Notebook Name:\n",
    "    * The name displayed at the top of the page, next to the Jupyter logo, reflects the name of the .ipynb file.\n",
    "    * Clicking on the notebook name brings up a dialog that allows you to rename it.\n",
    "* Menu Bar: The menu bar presents different options that may be used to manipulate the way the notebook functions.\n",
    "* Toolbar: The toolbar gives a quick way of performing the most-used operations within the notebook, by clicking on an icon."
   ]
  },
  {
   "cell_type": "markdown",
   "id": "a35fbb77-2fbf-4b02-b7ba-bfc52ddac879",
   "metadata": {
    "slideshow": {
     "slide_type": "fragment"
    }
   },
   "source": [
    "---"
   ]
  },
  {
   "cell_type": "markdown",
   "id": "8a78d02e-86b5-408b-a415-050804573f8c",
   "metadata": {
    "editable": true,
    "slideshow": {
     "slide_type": "subslide"
    },
    "tags": []
   },
   "source": [
    "### Notebook Cells"
   ]
  },
  {
   "cell_type": "markdown",
   "id": "24cc69b9-ff39-4a66-a311-ee98f1850f1f",
   "metadata": {
    "editable": true,
    "slideshow": {
     "slide_type": ""
    },
    "tags": []
   },
   "source": [
    "You'll learn a lot about notebooks throughout the semester, but the main building block of a notebook is called a cell."
   ]
  },
  {
   "cell_type": "markdown",
   "id": "36f369b4-119b-4e79-95ed-faac85e929ce",
   "metadata": {
    "editable": true,
    "slideshow": {
     "slide_type": "fragment"
    },
    "tags": []
   },
   "source": [
    "There are two basic types of cells:\n",
    "* Code cells\n",
    "* Markdown (text) cells"
   ]
  },
  {
   "cell_type": "markdown",
   "id": "37685aae-4387-4c65-834e-fd274e252516",
   "metadata": {
    "slideshow": {
     "slide_type": "fragment"
    }
   },
   "source": [
    "---"
   ]
  },
  {
   "cell_type": "markdown",
   "id": "ed717ec4-0752-4473-b686-d1831371ea2e",
   "metadata": {
    "editable": true,
    "slideshow": {
     "slide_type": "subslide"
    },
    "tags": []
   },
   "source": [
    "#### A Code Cell"
   ]
  },
  {
   "cell_type": "markdown",
   "id": "8d082759-a694-4e25-84a8-1772929eec9c",
   "metadata": {
    "editable": true,
    "slideshow": {
     "slide_type": ""
    },
    "tags": []
   },
   "source": [
    "* Code cells interpret computer code.\n",
    "* Our notebooks support the Python programming langauge."
   ]
  },
  {
   "cell_type": "code",
   "execution_count": null,
   "id": "287b9df1-5234-45f9-9719-e1505b4da6c4",
   "metadata": {
    "editable": true,
    "slideshow": {
     "slide_type": "fragment"
    },
    "tags": []
   },
   "outputs": [],
   "source": [
    "# This is a code cell that prints out the text Hello, MATH 108!\n",
    "\n",
    "print('Hello, MATH 108!')"
   ]
  },
  {
   "cell_type": "markdown",
   "id": "407c6e2a-5fde-425e-9863-2cdb4cebc347",
   "metadata": {
    "slideshow": {
     "slide_type": "fragment"
    }
   },
   "source": [
    "---"
   ]
  },
  {
   "cell_type": "markdown",
   "id": "b2572058-1606-4de1-b3ac-e2213ae36f24",
   "metadata": {
    "editable": true,
    "slideshow": {
     "slide_type": "subslide"
    },
    "tags": []
   },
   "source": [
    "#### A Markdown Cell"
   ]
  },
  {
   "cell_type": "markdown",
   "id": "27ba782b-d182-47d6-a5bc-4ffa74e221b3",
   "metadata": {
    "editable": true,
    "slideshow": {
     "slide_type": ""
    },
    "tags": []
   },
   "source": [
    "* All the formated text is contained in a Markdown cell. \n",
    "* You can double click these cells to edit them. \n",
    "* Markdown is a markup language that allows you to type as if you were using a basic text editor, but you have a few formatting features such as:\n",
    "    * **bold**, \n",
    "    * *italic*, \n",
    "    * etc.\n",
    "* There is a straightforward [Markdown guide](https://www.markdownguide.org/basic-syntax/) that shows you have to do all the basic formatting. "
   ]
  },
  {
   "cell_type": "markdown",
   "id": "a39d7a02-7d21-4c75-a14e-77429a5a74dd",
   "metadata": {
    "slideshow": {
     "slide_type": "fragment"
    }
   },
   "source": [
    "---"
   ]
  },
  {
   "cell_type": "markdown",
   "id": "59250ef5-1f7b-440d-a52b-f9dbc2e08e24",
   "metadata": {
    "editable": true,
    "slideshow": {
     "slide_type": "subslide"
    },
    "tags": []
   },
   "source": [
    "### Kernel"
   ]
  },
  {
   "cell_type": "markdown",
   "id": "6153ff15-6c38-4875-a665-69bdffd31d18",
   "metadata": {
    "editable": true,
    "slideshow": {
     "slide_type": ""
    },
    "tags": []
   },
   "source": [
    "* Computational process that runs the code in the notebook \n",
    "* The kernel status appears in the upper right of the notebook:\n",
    "    * Open circle: kernel is ready to run a cell\n",
    "    * Closed circle: kernel is not ready to run a cell\n",
    "    * Circle with a lightning bolt along with the phrase 'No Kernel': kernel has shut down for some reason\n",
    "* A number appears to the left of a code cell showing the order in which the code cells have been run\n",
    "* If your kernel has shut down:\n",
    "    * The \"memory\" of the notebook has been lost\n",
    "    * You will need to re-run the cells\n",
    "        * Select `Kernel` -> `Restart` in the Menu Bar\n",
    "        * Re-run all the cells you want to run\n",
    "    "
   ]
  },
  {
   "cell_type": "markdown",
   "id": "ac4d80d1-76f3-41ea-a97f-7fe7fe7c0ad1",
   "metadata": {
    "editable": true,
    "slideshow": {
     "slide_type": "fragment"
    },
    "tags": []
   },
   "source": [
    "---"
   ]
  },
  {
   "cell_type": "markdown",
   "id": "0fa3e4b4-1c77-4408-9310-9487c7a21af5",
   "metadata": {
    "editable": true,
    "slideshow": {
     "slide_type": "slide"
    },
    "tags": []
   },
   "source": [
    "## Expressions"
   ]
  },
  {
   "cell_type": "markdown",
   "id": "8fc80d3a-321d-429d-a9cd-81df689a2e2d",
   "metadata": {
    "editable": true,
    "slideshow": {
     "slide_type": "fragment"
    },
    "tags": []
   },
   "source": [
    "---"
   ]
  },
  {
   "cell_type": "markdown",
   "id": "aec7d10d-8c70-4544-8fb1-033221cafcba",
   "metadata": {
    "editable": true,
    "slideshow": {
     "slide_type": "subslide"
    },
    "tags": []
   },
   "source": [
    "### What are Expressions?"
   ]
  },
  {
   "cell_type": "markdown",
   "id": "3692c6f3-7bf7-4ab2-bbe7-1dea44fb25ed",
   "metadata": {
    "editable": true,
    "slideshow": {
     "slide_type": ""
    },
    "tags": []
   },
   "source": [
    "Expressions are cominations of symbols that are interpreted to produce some value."
   ]
  },
  {
   "cell_type": "markdown",
   "id": "f3c80b74-f3e4-40cf-ad41-75153ecfc376",
   "metadata": {
    "slideshow": {
     "slide_type": "fragment"
    }
   },
   "source": [
    "---"
   ]
  },
  {
   "cell_type": "markdown",
   "id": "08979194-52e2-4543-a498-a7b7dfdd80f9",
   "metadata": {
    "editable": true,
    "slideshow": {
     "slide_type": ""
    },
    "tags": []
   },
   "source": [
    "### Demo: Expressions"
   ]
  },
  {
   "cell_type": "markdown",
   "id": "a8bc527e-d8ff-41ea-9366-c66deee8d313",
   "metadata": {
    "deletable": false,
    "editable": false,
    "slideshow": {
     "slide_type": ""
    },
    "tags": []
   },
   "source": [
    "Try making a few expressions."
   ]
  },
  {
   "cell_type": "code",
   "execution_count": null,
   "id": "5d3d00c8-3f15-426e-a3c7-774b7dc695f2",
   "metadata": {
    "editable": true,
    "slideshow": {
     "slide_type": "fragment"
    },
    "tags": []
   },
   "outputs": [],
   "source": [
    "..."
   ]
  },
  {
   "cell_type": "code",
   "execution_count": null,
   "id": "8c6e081a-67eb-4b55-a2b3-80c488aa4fe0",
   "metadata": {
    "editable": true,
    "slideshow": {
     "slide_type": "fragment"
    },
    "tags": []
   },
   "outputs": [],
   "source": [
    "..."
   ]
  },
  {
   "cell_type": "code",
   "execution_count": null,
   "id": "2ddd5da9-d9b6-486c-9e3a-91bc6825ebb6",
   "metadata": {
    "editable": true,
    "slideshow": {
     "slide_type": "fragment"
    },
    "tags": []
   },
   "outputs": [],
   "source": [
    "..."
   ]
  },
  {
   "cell_type": "code",
   "execution_count": null,
   "id": "3a90a0de-61dc-46a9-8f24-ead2f1e978a1",
   "metadata": {
    "editable": true,
    "slideshow": {
     "slide_type": "fragment"
    },
    "tags": []
   },
   "outputs": [],
   "source": [
    "..."
   ]
  },
  {
   "cell_type": "code",
   "execution_count": null,
   "id": "b00d349d-0c62-4e07-88d7-50fbe01a4108",
   "metadata": {
    "editable": true,
    "slideshow": {
     "slide_type": "fragment"
    },
    "tags": []
   },
   "outputs": [],
   "source": [
    "..."
   ]
  },
  {
   "cell_type": "markdown",
   "id": "103b610b-7da1-4a32-a85d-9b5d6c891a1a",
   "metadata": {
    "slideshow": {
     "slide_type": "fragment"
    }
   },
   "source": [
    "---"
   ]
  },
  {
   "cell_type": "markdown",
   "id": "ad6f34a4-ecd6-4dd5-97ca-8e44ab7f5fe9",
   "metadata": {
    "editable": true,
    "slideshow": {
     "slide_type": "subslide"
    },
    "tags": []
   },
   "source": [
    "### Demo: Arithmetic in Python"
   ]
  },
  {
   "cell_type": "markdown",
   "id": "03a14d01-e877-4811-b258-1381ea28f49d",
   "metadata": {
    "deletable": false,
    "editable": false,
    "slideshow": {
     "slide_type": ""
    },
    "tags": []
   },
   "source": [
    "Try performing some basic arithmetic with Python"
   ]
  },
  {
   "cell_type": "code",
   "execution_count": null,
   "id": "a29c51c9-14c9-4ecb-81a4-31e1f27976ac",
   "metadata": {
    "editable": true,
    "slideshow": {
     "slide_type": "fragment"
    },
    "tags": []
   },
   "outputs": [],
   "source": [
    "# Addition\n",
    "..."
   ]
  },
  {
   "cell_type": "code",
   "execution_count": null,
   "id": "9357e862-0658-47f1-8145-981dec316c06",
   "metadata": {
    "editable": true,
    "slideshow": {
     "slide_type": "fragment"
    },
    "tags": []
   },
   "outputs": [],
   "source": [
    "# Multiplication\n",
    "..."
   ]
  },
  {
   "cell_type": "code",
   "execution_count": null,
   "id": "3fdeed55-ff77-4fe2-bd48-13c2678b68d7",
   "metadata": {
    "editable": true,
    "slideshow": {
     "slide_type": "fragment"
    },
    "tags": []
   },
   "outputs": [],
   "source": [
    "# Division\n",
    "..."
   ]
  },
  {
   "cell_type": "code",
   "execution_count": null,
   "id": "23dbc5b4-c5ae-4174-b6e0-6bba5b0a7974",
   "metadata": {
    "editable": true,
    "slideshow": {
     "slide_type": "fragment"
    },
    "tags": []
   },
   "outputs": [],
   "source": [
    "# Exponentiation\n",
    "..."
   ]
  },
  {
   "cell_type": "code",
   "execution_count": null,
   "id": "aa3cdf65-849a-41fc-97b5-df6a95013021",
   "metadata": {
    "editable": true,
    "slideshow": {
     "slide_type": "fragment"
    },
    "tags": []
   },
   "outputs": [],
   "source": [
    "# Modulo\n",
    "..."
   ]
  },
  {
   "cell_type": "markdown",
   "id": "57e2df26-5f40-427d-8f9d-43c2f5b2ad16",
   "metadata": {
    "slideshow": {
     "slide_type": "fragment"
    }
   },
   "source": [
    "---"
   ]
  },
  {
   "cell_type": "markdown",
   "id": "acc07b33-5adc-44a1-bf01-2b5eba5b0b59",
   "metadata": {
    "editable": true,
    "slideshow": {
     "slide_type": "subslide"
    },
    "tags": []
   },
   "source": [
    "### Order of Operation"
   ]
  },
  {
   "cell_type": "markdown",
   "id": "9c515582-acc0-4f41-8261-54a7673b7c2d",
   "metadata": {
    "editable": true,
    "slideshow": {
     "slide_type": ""
    },
    "tags": []
   },
   "source": [
    "* Python follows an order of operations when you combine operations in one expression\n",
    "* The order for arithmetic is similar to the order from Math class\n",
    "* Use parentheses to influence the order"
   ]
  },
  {
   "cell_type": "markdown",
   "id": "2228c7da-aace-4255-b07c-b261d1d74d96",
   "metadata": {
    "editable": true,
    "slideshow": {
     "slide_type": "fragment"
    },
    "tags": []
   },
   "source": [
    "---"
   ]
  },
  {
   "cell_type": "markdown",
   "id": "2f185497-93d7-42a6-8e85-a7612a6ea250",
   "metadata": {
    "editable": true,
    "slideshow": {
     "slide_type": "subslide"
    },
    "tags": []
   },
   "source": [
    "### Demo: Order of Operation"
   ]
  },
  {
   "cell_type": "markdown",
   "id": "7a634437-3427-4e71-bbe9-019c20fc0f8e",
   "metadata": {
    "deletable": false,
    "editable": false,
    "slideshow": {
     "slide_type": ""
    },
    "tags": []
   },
   "source": [
    "Use parentheses to influence the value for the following expression."
   ]
  },
  {
   "cell_type": "code",
   "execution_count": null,
   "id": "8b6c0aa0-bd9e-488f-9d06-f12737a37efa",
   "metadata": {
    "deletable": false,
    "editable": false,
    "slideshow": {
     "slide_type": ""
    },
    "tags": []
   },
   "outputs": [],
   "source": [
    "# The original expression evaluates to 29\n",
    "2 + 3 * 9 "
   ]
  },
  {
   "cell_type": "code",
   "execution_count": null,
   "id": "d57b0e83-15f1-459f-a953-471edb28ce26",
   "metadata": {
    "editable": true,
    "slideshow": {
     "slide_type": "fragment"
    },
    "tags": []
   },
   "outputs": [],
   "source": [
    "# Use parentheses to make the expression evaluate to 45\n",
    "..."
   ]
  },
  {
   "cell_type": "markdown",
   "id": "e65ff5cf-ad03-492b-8293-1eb2f53b0659",
   "metadata": {
    "editable": true,
    "slideshow": {
     "slide_type": "fragment"
    },
    "tags": []
   },
   "source": [
    "---"
   ]
  },
  {
   "cell_type": "markdown",
   "id": "1a92ab94-6945-40f7-a42e-d787839790f5",
   "metadata": {
    "editable": true,
    "slideshow": {
     "slide_type": "slide"
    },
    "tags": []
   },
   "source": [
    "## Names"
   ]
  },
  {
   "cell_type": "markdown",
   "id": "bc10adfd-01d7-4872-a58e-12a88e9929ec",
   "metadata": {
    "slideshow": {
     "slide_type": "fragment"
    }
   },
   "source": [
    "---"
   ]
  },
  {
   "cell_type": "markdown",
   "id": "ea74aad5-f6fe-4033-ab2a-a261c49a3c6e",
   "metadata": {
    "editable": true,
    "slideshow": {
     "slide_type": "subslide"
    },
    "tags": []
   },
   "source": [
    "### Assignment Statements"
   ]
  },
  {
   "cell_type": "markdown",
   "id": "efc1c05c-5ecf-454a-9d0e-9ecba5673144",
   "metadata": {
    "editable": true,
    "slideshow": {
     "slide_type": ""
    },
    "tags": []
   },
   "source": [
    "<img src=\"./assignment_statements.png\" width = 50%>\n",
    "\n",
    "* Statements perform an action\n",
    "* An assignment statement changes the meaning of the name to the left of the = symbol\n",
    "* The name is bound to a value (not an equation)"
   ]
  },
  {
   "cell_type": "markdown",
   "id": "fa0e10ee-4463-4d97-aaad-5b471e2dcaed",
   "metadata": {
    "slideshow": {
     "slide_type": "fragment"
    }
   },
   "source": [
    "---"
   ]
  },
  {
   "cell_type": "markdown",
   "id": "3fda5a4a-f929-4665-956e-9d8630d8b0d9",
   "metadata": {
    "editable": true,
    "slideshow": {
     "slide_type": "subslide"
    },
    "tags": []
   },
   "source": [
    "### Demo: Names"
   ]
  },
  {
   "cell_type": "markdown",
   "id": "faf2c05d-9f1e-4f18-af3f-277101322d29",
   "metadata": {
    "deletable": false,
    "editable": false,
    "slideshow": {
     "slide_type": ""
    },
    "tags": []
   },
   "source": [
    "Define a few names, apply them to create arithmetic operations, and differentiate between names and strings."
   ]
  },
  {
   "cell_type": "code",
   "execution_count": null,
   "id": "358007cd-4513-4d3a-b137-1716577e3f50",
   "metadata": {
    "editable": true,
    "slideshow": {
     "slide_type": "fragment"
    },
    "tags": []
   },
   "outputs": [],
   "source": [
    "a = ..."
   ]
  },
  {
   "cell_type": "code",
   "execution_count": null,
   "id": "c97c577c-b2f2-42ea-bd5f-997fe3ee6cc3",
   "metadata": {
    "editable": true,
    "slideshow": {
     "slide_type": "fragment"
    },
    "tags": []
   },
   "outputs": [],
   "source": [
    "a"
   ]
  },
  {
   "cell_type": "code",
   "execution_count": null,
   "id": "760e995f-5663-47ea-aa95-d490b1d47def",
   "metadata": {
    "editable": true,
    "slideshow": {
     "slide_type": "fragment"
    },
    "tags": []
   },
   "outputs": [],
   "source": [
    "..."
   ]
  },
  {
   "cell_type": "code",
   "execution_count": null,
   "id": "8141ca2a-47e2-45a2-809d-89282f804086",
   "metadata": {
    "editable": true,
    "slideshow": {
     "slide_type": "fragment"
    },
    "tags": []
   },
   "outputs": [],
   "source": [
    "b = ...\n",
    "b"
   ]
  },
  {
   "cell_type": "markdown",
   "id": "ddef13f0-e629-40a7-bfef-3f0f18f22340",
   "metadata": {
    "slideshow": {
     "slide_type": "fragment"
    }
   },
   "source": [
    "---"
   ]
  },
  {
   "cell_type": "markdown",
   "id": "949c42bc-09e2-499c-8559-a41d9fcb4d5a",
   "metadata": {
    "deletable": false,
    "editable": false,
    "slideshow": {
     "slide_type": "slide"
    },
    "tags": []
   },
   "source": [
    "Continue working with names."
   ]
  },
  {
   "cell_type": "code",
   "execution_count": null,
   "id": "f3aa29da-c342-461e-8efc-371dba6c6deb",
   "metadata": {
    "editable": true,
    "slideshow": {
     "slide_type": "fragment"
    },
    "tags": []
   },
   "outputs": [],
   "source": [
    "total = ...\n",
    "total"
   ]
  },
  {
   "cell_type": "code",
   "execution_count": null,
   "id": "333ca061-7ff0-4adf-a648-a63a83e63cdb",
   "metadata": {
    "editable": true,
    "slideshow": {
     "slide_type": "fragment"
    },
    "tags": []
   },
   "outputs": [],
   "source": [
    "a = ..."
   ]
  },
  {
   "cell_type": "code",
   "execution_count": null,
   "id": "3e0baf51-304b-4d01-9192-d09dec6230b0",
   "metadata": {
    "editable": true,
    "slideshow": {
     "slide_type": "fragment"
    },
    "tags": []
   },
   "outputs": [],
   "source": [
    "total"
   ]
  },
  {
   "cell_type": "code",
   "execution_count": null,
   "id": "4a05fb98-d042-4724-b97f-0ae5fa9db0ae",
   "metadata": {
    "editable": true,
    "slideshow": {
     "slide_type": "fragment"
    },
    "tags": []
   },
   "outputs": [],
   "source": [
    "total = ...\n",
    "total"
   ]
  },
  {
   "cell_type": "markdown",
   "id": "25b323d0-aedf-4a5d-9c17-e191102ffb99",
   "metadata": {
    "editable": true,
    "slideshow": {
     "slide_type": ""
    },
    "tags": []
   },
   "source": [
    "---"
   ]
  },
  {
   "cell_type": "markdown",
   "id": "ae22ccb3-e61b-490f-9dea-532324693e01",
   "metadata": {
    "editable": true,
    "slideshow": {
     "slide_type": "subslide"
    },
    "tags": []
   },
   "source": [
    "Notice that putting quotations around a name doesn't provide you the same information."
   ]
  },
  {
   "cell_type": "code",
   "execution_count": null,
   "id": "4b116d76-8337-4613-82ad-d463825d8dc8",
   "metadata": {
    "editable": true,
    "slideshow": {
     "slide_type": ""
    },
    "tags": []
   },
   "outputs": [],
   "source": [
    "\"total\""
   ]
  },
  {
   "cell_type": "markdown",
   "id": "2970febe-4b24-4463-b9d8-0affa1e92694",
   "metadata": {
    "editable": true,
    "slideshow": {
     "slide_type": "fragment"
    },
    "tags": []
   },
   "source": [
    "---"
   ]
  },
  {
   "cell_type": "markdown",
   "id": "d0d4cb38-65c7-4362-a197-4ae560c0bf33",
   "metadata": {
    "editable": true,
    "slideshow": {
     "slide_type": "subslide"
    },
    "tags": []
   },
   "source": [
    "### Demo: Why Names?"
   ]
  },
  {
   "cell_type": "markdown",
   "id": "7902fb4a-bd11-47db-8496-17b14d0f6d59",
   "metadata": {
    "deletable": false,
    "editable": false,
    "slideshow": {
     "slide_type": ""
    },
    "tags": []
   },
   "source": [
    "See how helpful choices of names can help you and others navigate your code."
   ]
  },
  {
   "cell_type": "code",
   "execution_count": null,
   "id": "18695e50-29d0-48cd-b4fd-8938b349c8a2",
   "metadata": {
    "editable": true,
    "slideshow": {
     "slide_type": "fragment"
    },
    "tags": []
   },
   "outputs": [],
   "source": [
    "hours_per_week = 40 \n",
    "weeks_per_year = 52"
   ]
  },
  {
   "cell_type": "code",
   "execution_count": null,
   "id": "7a787502-b2da-41e6-8036-73d6f5d917e6",
   "metadata": {
    "editable": true,
    "slideshow": {
     "slide_type": "fragment"
    },
    "tags": []
   },
   "outputs": [],
   "source": [
    "hours_per_year = ...\n",
    "hours_per_year"
   ]
  },
  {
   "cell_type": "markdown",
   "id": "03bdb1ec-3246-4240-876c-36d1e4e6c64e",
   "metadata": {
    "editable": true,
    "slideshow": {
     "slide_type": "fragment"
    },
    "tags": []
   },
   "source": [
    "---"
   ]
  },
  {
   "cell_type": "markdown",
   "id": "a04dd127-3b37-4843-ac3a-0190983407cd",
   "metadata": {
    "deletable": false,
    "editable": false,
    "slideshow": {
     "slide_type": ""
    },
    "tags": []
   },
   "source": [
    "Calculate wages."
   ]
  },
  {
   "cell_type": "code",
   "execution_count": null,
   "id": "78afe225-3814-4ec2-853b-6964e3561661",
   "metadata": {
    "editable": true,
    "slideshow": {
     "slide_type": "fragment"
    },
    "tags": []
   },
   "outputs": [],
   "source": [
    "# Minimum wage for businesses w/26 or more employees as of 2024\n",
    "ca_hourly_minimum_wage = 16.00"
   ]
  },
  {
   "cell_type": "code",
   "execution_count": null,
   "id": "0fe2da3a-f6a3-4be4-b4e1-b4c1d0845894",
   "metadata": {
    "editable": true,
    "slideshow": {
     "slide_type": "fragment"
    },
    "tags": []
   },
   "outputs": [],
   "source": [
    "weekly_wages = ...\n",
    "weekly_wages"
   ]
  },
  {
   "cell_type": "code",
   "execution_count": null,
   "id": "2b0a5730-2fa7-4b1c-9be0-8d15e290a6fc",
   "metadata": {
    "editable": true,
    "slideshow": {
     "slide_type": "fragment"
    },
    "tags": []
   },
   "outputs": [],
   "source": [
    "yearly_wages = ...\n",
    "yearly_wages"
   ]
  },
  {
   "cell_type": "markdown",
   "id": "aa533cf1-3f11-49fa-ba66-c61e6fc09211",
   "metadata": {
    "editable": true,
    "slideshow": {
     "slide_type": "fragment"
    },
    "tags": []
   },
   "source": [
    "---"
   ]
  },
  {
   "cell_type": "markdown",
   "id": "546f8a07-7406-4255-b0b6-5d37fe724e9c",
   "metadata": {
    "editable": true,
    "slideshow": {
     "slide_type": "subslide"
    },
    "tags": []
   },
   "source": [
    "Notice that you can get the same numbers from arithmetic, but it can be hard to tell what the code refers to."
   ]
  },
  {
   "cell_type": "code",
   "execution_count": null,
   "id": "065924d8-3d37-4af5-bfe3-216a0e1c9bbf",
   "metadata": {
    "editable": true,
    "slideshow": {
     "slide_type": ""
    },
    "tags": []
   },
   "outputs": [],
   "source": [
    "40 * 16.00"
   ]
  },
  {
   "cell_type": "code",
   "execution_count": null,
   "id": "7146d927-0c06-44b1-a0fb-07d7d2bd6b81",
   "metadata": {
    "editable": true,
    "slideshow": {
     "slide_type": ""
    },
    "tags": []
   },
   "outputs": [],
   "source": [
    "40 * 52 * 16.00"
   ]
  },
  {
   "cell_type": "markdown",
   "id": "ecf42f3b-7f8c-4542-b054-8d9aa677ecab",
   "metadata": {
    "editable": true,
    "slideshow": {
     "slide_type": "fragment"
    },
    "tags": []
   },
   "source": [
    "---"
   ]
  },
  {
   "cell_type": "markdown",
   "id": "c2c14745-4c52-4ab0-b289-360906f65cd6",
   "metadata": {
    "editable": true,
    "slideshow": {
     "slide_type": "slide"
    },
    "tags": []
   },
   "source": [
    "## Function Calls"
   ]
  },
  {
   "cell_type": "markdown",
   "id": "ed36bc3e-e94b-4fbc-bd70-72c24d56975f",
   "metadata": {
    "slideshow": {
     "slide_type": "fragment"
    }
   },
   "source": [
    "---"
   ]
  },
  {
   "cell_type": "markdown",
   "id": "a1dbe8b4-7779-4eac-96ea-aaac1f70e15e",
   "metadata": {
    "editable": true,
    "slideshow": {
     "slide_type": "subslide"
    },
    "tags": []
   },
   "source": [
    "### Anatomy of a Call Expression"
   ]
  },
  {
   "cell_type": "markdown",
   "id": "ab5c011f-a703-4d51-8c01-e6501154d507",
   "metadata": {
    "editable": true,
    "slideshow": {
     "slide_type": ""
    },
    "tags": []
   },
   "source": [
    "<img src=\"./anatomy_of_a_call_expression.png\" width = 40%>"
   ]
  },
  {
   "cell_type": "markdown",
   "id": "b74f8771-72f8-4bd5-849f-5befecd1b943",
   "metadata": {
    "slideshow": {
     "slide_type": "fragment"
    }
   },
   "source": [
    "Read: \"Call `f` on 27.\""
   ]
  },
  {
   "cell_type": "markdown",
   "id": "16ca349d-96b4-41ee-b594-04a9fe0d1862",
   "metadata": {
    "editable": true,
    "slideshow": {
     "slide_type": ""
    },
    "tags": []
   },
   "source": [
    "---"
   ]
  },
  {
   "cell_type": "markdown",
   "id": "e4dc675b-26ac-4ee2-9c45-c86243d0f40e",
   "metadata": {
    "editable": true,
    "slideshow": {
     "slide_type": "subslide"
    },
    "tags": []
   },
   "source": [
    "### Anatomy of a Call Expression - Multiple Arguments"
   ]
  },
  {
   "cell_type": "markdown",
   "id": "3b0cdcc5-ce33-4568-bb9c-6b1187053893",
   "metadata": {
    "editable": true,
    "slideshow": {
     "slide_type": ""
    },
    "tags": []
   },
   "source": [
    "<img src=\"./anatomy_of_a_call_expression_multiple_arguments.png\" width = 50%>"
   ]
  },
  {
   "cell_type": "markdown",
   "id": "a408b162-2452-4198-a9d8-9051186a6569",
   "metadata": {
    "editable": true,
    "slideshow": {
     "slide_type": "fragment"
    },
    "tags": []
   },
   "source": [
    "---"
   ]
  },
  {
   "cell_type": "markdown",
   "id": "8d7e1caa-4b13-438e-8c3b-4d1ac76dcf18",
   "metadata": {
    "editable": true,
    "slideshow": {
     "slide_type": "subslide"
    },
    "tags": []
   },
   "source": [
    "### Demo: Functions and Call Expressions"
   ]
  },
  {
   "cell_type": "markdown",
   "id": "3b14a82b-7be2-4fe5-8680-542a0a7f9a0f",
   "metadata": {
    "deletable": false,
    "editable": false,
    "slideshow": {
     "slide_type": ""
    },
    "tags": []
   },
   "source": [
    "Perform function calls with the built-in absolute value function."
   ]
  },
  {
   "cell_type": "code",
   "execution_count": null,
   "id": "8d3e2b52-50d4-44c1-a5ac-aefa8228ffc6",
   "metadata": {
    "editable": true,
    "slideshow": {
     "slide_type": "fragment"
    },
    "tags": []
   },
   "outputs": [],
   "source": [
    "..."
   ]
  },
  {
   "cell_type": "code",
   "execution_count": null,
   "id": "46d70ab5-78d5-462a-8a6c-a7947708bbc7",
   "metadata": {
    "editable": true,
    "slideshow": {
     "slide_type": "fragment"
    },
    "tags": []
   },
   "outputs": [],
   "source": [
    "..."
   ]
  },
  {
   "cell_type": "code",
   "execution_count": null,
   "id": "2e8f1c45-9c19-482d-b136-19c9c29efba4",
   "metadata": {
    "editable": true,
    "slideshow": {
     "slide_type": "subslide"
    },
    "tags": []
   },
   "outputs": [],
   "source": [
    "day_temp = 52\n",
    "night_temp = 47\n",
    "abs_diff_in_temps = ...\n",
    "abs_diff_in_temps"
   ]
  },
  {
   "cell_type": "markdown",
   "id": "47c611d0-3015-486e-8753-6b44aedb7f9f",
   "metadata": {
    "editable": true,
    "slideshow": {
     "slide_type": "fragment"
    },
    "tags": []
   },
   "source": [
    "---"
   ]
  },
  {
   "cell_type": "markdown",
   "id": "401f892e-f709-48d5-9c4a-279df9ed588a",
   "metadata": {
    "deletable": false,
    "editable": false,
    "slideshow": {
     "slide_type": "subslide"
    },
    "tags": []
   },
   "source": [
    "Try using built-in functions that accept more than 1 argument."
   ]
  },
  {
   "cell_type": "code",
   "execution_count": null,
   "id": "17533226-ba90-4e24-ae3f-a76e7372444c",
   "metadata": {
    "editable": true,
    "slideshow": {
     "slide_type": "fragment"
    },
    "tags": []
   },
   "outputs": [],
   "source": [
    "..."
   ]
  },
  {
   "cell_type": "code",
   "execution_count": null,
   "id": "80555fbd-3511-49c9-ae39-d7f81265e4a9",
   "metadata": {
    "editable": true,
    "slideshow": {
     "slide_type": "fragment"
    },
    "tags": []
   },
   "outputs": [],
   "source": [
    "..."
   ]
  },
  {
   "cell_type": "markdown",
   "id": "1d419243-1b93-4651-b024-d6eda4812aae",
   "metadata": {
    "editable": true,
    "slideshow": {
     "slide_type": "fragment"
    },
    "tags": []
   },
   "source": [
    "---"
   ]
  },
  {
   "cell_type": "markdown",
   "id": "ab7c9d57-c66f-4d4b-b739-68cb546b97c9",
   "metadata": {
    "editable": true,
    "slideshow": {
     "slide_type": "subslide"
    },
    "tags": []
   },
   "source": [
    "### Function Documentation"
   ]
  },
  {
   "cell_type": "markdown",
   "id": "a015b9fb-d0d4-4c70-a4f6-813ff0a2231b",
   "metadata": {
    "editable": true,
    "slideshow": {
     "slide_type": ""
    },
    "tags": []
   },
   "source": [
    "* Use the `help` function to see information about a function\n",
    "* Put the `?` in front of a function's name to pull up more detailed documentation in Jupyter."
   ]
  },
  {
   "cell_type": "code",
   "execution_count": null,
   "id": "81c22d60-cd67-4c6f-8972-ca4920c5eafd",
   "metadata": {
    "editable": true,
    "slideshow": {
     "slide_type": ""
    },
    "tags": []
   },
   "outputs": [],
   "source": [
    "?round"
   ]
  },
  {
   "cell_type": "markdown",
   "id": "ba6f2f2a-462c-4989-a20e-f51fbdc00897",
   "metadata": {
    "editable": true,
    "slideshow": {
     "slide_type": "fragment"
    },
    "tags": []
   },
   "source": [
    "---"
   ]
  },
  {
   "cell_type": "markdown",
   "id": "ba7e5595-27f2-4ad0-ba8c-7ad56e2aeb28",
   "metadata": {
    "editable": true,
    "slideshow": {
     "slide_type": "subslide"
    },
    "tags": []
   },
   "source": [
    "### Demo: Function Documentation"
   ]
  },
  {
   "cell_type": "markdown",
   "id": "5411025a-d361-460d-9952-d177040c237e",
   "metadata": {
    "deletable": false,
    "editable": false,
    "slideshow": {
     "slide_type": ""
    },
    "tags": []
   },
   "source": [
    "Explore the documentation for the `round` function."
   ]
  },
  {
   "cell_type": "code",
   "execution_count": null,
   "id": "a6553370-0f73-4399-854c-cd6f970fc879",
   "metadata": {
    "editable": true,
    "slideshow": {
     "slide_type": "fragment"
    },
    "tags": []
   },
   "outputs": [],
   "source": [
    "..."
   ]
  },
  {
   "cell_type": "code",
   "execution_count": null,
   "id": "d18fef4b-8026-4cf1-b5de-18ff34e63913",
   "metadata": {
    "editable": true,
    "slideshow": {
     "slide_type": "fragment"
    },
    "tags": []
   },
   "outputs": [],
   "source": [
    "..."
   ]
  },
  {
   "cell_type": "markdown",
   "id": "9b28877c-203b-4681-9f8c-2070218229aa",
   "metadata": {
    "editable": true,
    "slideshow": {
     "slide_type": "fragment"
    },
    "tags": []
   },
   "source": [
    "Notice that you can explicitly specify argument values, but Python can also know what to do based on the position of the values."
   ]
  },
  {
   "cell_type": "markdown",
   "id": "39c2fd25-8070-4a58-985b-a1e615d2f6fa",
   "metadata": {
    "editable": true,
    "slideshow": {
     "slide_type": "fragment"
    },
    "tags": []
   },
   "source": [
    "---"
   ]
  },
  {
   "cell_type": "markdown",
   "id": "b70ca5b4-c03b-48ae-ab2d-94f7c8abf5fb",
   "metadata": {
    "editable": true,
    "slideshow": {
     "slide_type": "slide"
    },
    "tags": []
   },
   "source": [
    "## Errors and Exceptions"
   ]
  },
  {
   "cell_type": "markdown",
   "id": "96e46f36-9b66-46b2-908d-51ce6b165973",
   "metadata": {
    "editable": true,
    "slideshow": {
     "slide_type": "fragment"
    },
    "tags": []
   },
   "source": [
    "---"
   ]
  },
  {
   "cell_type": "markdown",
   "id": "524015df-dd31-4e6d-a0a1-83e4748bd7c2",
   "metadata": {
    "editable": true,
    "slideshow": {
     "slide_type": "subslide"
    },
    "tags": []
   },
   "source": [
    "### Embracing Errors"
   ]
  },
  {
   "cell_type": "markdown",
   "id": "c8885cd2-6667-4296-979d-b8c09a8297b6",
   "metadata": {
    "editable": true,
    "slideshow": {
     "slide_type": "-"
    },
    "tags": []
   },
   "source": [
    "* Errors happen and that is okay!\n",
    "* Python provides error messages to help correct errors\n",
    "* The size of the printout of the error does not correlate to the size of the error\n",
    "* Try your best to learn the details of these messages to help you debug your errors\n",
    "* [Python's documentation](https://docs.python.org/3/library/exceptions.html#bltin-exceptions) contains a discription for all the built-in errors messages."
   ]
  },
  {
   "cell_type": "markdown",
   "id": "1c40a362-0ef3-4d3c-b747-8bb3d313d2d2",
   "metadata": {
    "slideshow": {
     "slide_type": "fragment"
    }
   },
   "source": [
    "---"
   ]
  },
  {
   "cell_type": "markdown",
   "id": "f6be9cc7-6636-4329-92d9-f6246aa4c458",
   "metadata": {
    "editable": true,
    "slideshow": {
     "slide_type": "subslide"
    },
    "tags": []
   },
   "source": [
    "### Syntax Error"
   ]
  },
  {
   "cell_type": "markdown",
   "id": "9c15b263-1477-43f8-be25-b93323e92d99",
   "metadata": {
    "editable": true,
    "slideshow": {
     "slide_type": ""
    },
    "tags": []
   },
   "source": [
    "* Syntax errors are very common\n",
    "* The indicate that something is wrong with the format of the code\n",
    "* The ^ symbol used to *try* and point out where the error might be"
   ]
  },
  {
   "cell_type": "code",
   "execution_count": null,
   "id": "1ed9ce2c-bd58-41b6-b8be-a7b9565f0c7b",
   "metadata": {
    "editable": true,
    "slideshow": {
     "slide_type": "fragment"
    },
    "tags": []
   },
   "outputs": [],
   "source": [
    "# A SyntaxError\n",
    "# display([1, 2, 3]"
   ]
  },
  {
   "cell_type": "markdown",
   "id": "43bf2f90-75d2-43dc-a271-1d07b2ee00e3",
   "metadata": {
    "slideshow": {
     "slide_type": "fragment"
    }
   },
   "source": [
    "---"
   ]
  },
  {
   "cell_type": "markdown",
   "id": "56738195-a1c3-4064-bd97-5dbc042ed4f2",
   "metadata": {
    "editable": true,
    "slideshow": {
     "slide_type": "subslide"
    },
    "tags": []
   },
   "source": [
    "### Name Error"
   ]
  },
  {
   "cell_type": "markdown",
   "id": "618fae09-40ef-493d-ba24-030c62d00329",
   "metadata": {
    "editable": true,
    "slideshow": {
     "slide_type": ""
    },
    "tags": []
   },
   "source": [
    "* This is another common error for this course\n",
    "* Name errors indicate the name used has not been defined\n",
    "* If the kernel shuts down and cells need to be re-run this error could show up"
   ]
  },
  {
   "cell_type": "code",
   "execution_count": null,
   "id": "b62ed763-9ffc-4e35-b9f8-ef6701c8e344",
   "metadata": {
    "editable": true,
    "scrolled": true,
    "slideshow": {
     "slide_type": "fragment"
    },
    "tags": []
   },
   "outputs": [],
   "source": [
    "# A NameError\n",
    "# print(a_name)"
   ]
  },
  {
   "cell_type": "markdown",
   "id": "da808bc8-b4d3-4197-bf19-971b380278bb",
   "metadata": {
    "editable": true,
    "slideshow": {
     "slide_type": "fragment"
    },
    "tags": []
   },
   "source": [
    "---"
   ]
  },
  {
   "cell_type": "markdown",
   "id": "1e14b066-f352-4162-a00a-47f2a80384ea",
   "metadata": {
    "editable": true,
    "slideshow": {
     "slide_type": "notes"
    },
    "tags": []
   },
   "source": [
    "<footer>\n",
    "    <p>Adopted from UC Berkeley DATA 8 course materials.</p>\n",
    "    <p>This content is offered under a <a href=\"https://creativecommons.org/licenses/by-nc-sa/4.0/\">CC Attribution Non-Commercial Share Alike</a> license.</p>\n",
    "</footer>"
   ]
  }
 ],
 "metadata": {
  "kernelspec": {
   "display_name": "Python 3 (ipykernel)",
   "language": "python",
   "name": "python3"
  },
  "language_info": {
   "codemirror_mode": {
    "name": "ipython",
    "version": 3
   },
   "file_extension": ".py",
   "mimetype": "text/x-python",
   "name": "python",
   "nbconvert_exporter": "python",
   "pygments_lexer": "ipython3",
   "version": "3.10.12"
  },
  "otter": {
   "OK_FORMAT": true,
   "tests": {}
  },
  "toc": {
   "base_numbering": 1
  }
 },
 "nbformat": 4,
 "nbformat_minor": 5
}
