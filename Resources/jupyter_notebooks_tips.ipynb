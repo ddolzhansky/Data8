{
 "cells": [
  {
   "cell_type": "markdown",
   "id": "6c9828c3-6aff-4627-b38f-4acad402d3e6",
   "metadata": {},
   "source": [
    "<div style=\"width: 38.5%;\">\n",
    "    <p><strong>City College of San Francisco</strong><p>\n",
    "    <hr>\n",
    "    <p>MATH 108 - Foundations of Data Science</p>\n",
    "</div>"
   ]
  },
  {
   "cell_type": "markdown",
   "id": "6730cfcc-fb47-4a1c-9669-f2c3c9440079",
   "metadata": {},
   "source": [
    "# Jupyter Notebooks Tips"
   ]
  },
  {
   "cell_type": "markdown",
   "id": "2ef25471-65b8-48bf-8f8e-76b297350a08",
   "metadata": {},
   "source": [
    "---"
   ]
  },
  {
   "cell_type": "markdown",
   "id": "951826e5-4ace-446d-a556-7627d8572b82",
   "metadata": {},
   "source": [
    "## Creating and Editing Cells"
   ]
  },
  {
   "cell_type": "markdown",
   "id": "f230f7fb-2e93-4945-9026-002d57d401b3",
   "metadata": {},
   "source": [
    "1. Create cells:\n",
    "    * Use the `+`  button and Markdown/Code drop down menu in the toolbar.\n",
    "    * Use the `b` keyboard shortcut along with the `m` and `y` keyboard shortcuts.\n",
    "1. Run cells\n",
    "    * Use the play button in the toolbar.\n",
    "    * Use the `shift`+`return/enter` and `cmd`+`return/enter` shortcuts.\n",
    "    * Create a few cells and use the `Run` menu items to run groups of cells."
   ]
  },
  {
   "cell_type": "code",
   "execution_count": null,
   "id": "0ee465bb-0a31-4d9b-b7bb-87c9ee134d05",
   "metadata": {},
   "outputs": [],
   "source": [
    "'MATH 108'"
   ]
  },
  {
   "cell_type": "code",
   "execution_count": null,
   "id": "73dd1547-2adf-4e29-87e4-14f0fe4766c7",
   "metadata": {},
   "outputs": [],
   "source": [
    "'CCSF'"
   ]
  },
  {
   "cell_type": "code",
   "execution_count": null,
   "id": "3c7aac4e-21d6-4ecf-b394-3e0b84c9b9c8",
   "metadata": {},
   "outputs": [],
   "source": [
    "# This intentionally contains error\n",
    "display('Foundations of Data Science'"
   ]
  },
  {
   "cell_type": "code",
   "execution_count": null,
   "id": "66084b8a-dc00-4f70-a3e0-98893ad75524",
   "metadata": {},
   "outputs": [],
   "source": [
    "1935"
   ]
  },
  {
   "cell_type": "markdown",
   "id": "bf5d5f83-8aa4-463a-9eaf-de8e60650128",
   "metadata": {},
   "source": [
    "---"
   ]
  },
  {
   "cell_type": "markdown",
   "id": "06263b15-ea7a-4390-84c1-525dec28ce0d",
   "metadata": {},
   "source": [
    "## Cell Execution Order"
   ]
  },
  {
   "cell_type": "markdown",
   "id": "dc4a44b8-0727-459a-adb0-fe859d3a7b84",
   "metadata": {},
   "source": [
    "1. Demonstrate how the order in which the code cells are executed impacts how things work and may be the source of some errors.\n",
    "1. Point out that the `[ ]:` box next to a code cell shows if it has been run and in what order."
   ]
  },
  {
   "cell_type": "markdown",
   "id": "32ed9927-3ff2-4783-9633-4a642fea1ece",
   "metadata": {},
   "source": [
    "---"
   ]
  },
  {
   "cell_type": "markdown",
   "id": "f8dd2c56-23ac-4f6b-bb0b-2e1ea85caeda",
   "metadata": {},
   "source": [
    "## Error Handling"
   ]
  },
  {
   "cell_type": "markdown",
   "id": "92b1146f-9027-4cf7-ab1c-98cee1551aa4",
   "metadata": {},
   "source": [
    "Errors will happen. Practice making a few, reading the error message, and trying to fix the error."
   ]
  },
  {
   "cell_type": "markdown",
   "id": "1dbd1e7f-4f08-4f56-9c29-92be3069d5c4",
   "metadata": {},
   "source": [
    "---"
   ]
  },
  {
   "cell_type": "markdown",
   "id": "b5b65872-f463-4f6f-95ce-bfa68e89113c",
   "metadata": {},
   "source": [
    "## Working with Otter"
   ]
  },
  {
   "cell_type": "markdown",
   "id": "48503e64-f533-4d7c-bb5f-03a9fc9aa50e",
   "metadata": {},
   "source": [
    "1. Open up [Lab 01](https://ccsf.cloudbank.2i2c.cloud/hub/user-redirect/git-pull?repo=https%3A%2F%2Fgithub.com%2Fccsf-math-108%2Fmaterials-fa23&urlpath=tree%2Fmaterials-sp24%2Flab%2Flab01%2Flab01.ipynb&branch=main) or [Homework 01](https://ccsf.cloudbank.2i2c.cloud/hub/user-redirect/git-pull?repo=https%3A%2F%2Fgithub.com%2Fccsf-math-108%2Fmaterials-fa23&urlpath=tree%2Fmaterials-sp24%2Fhw%2Fhw01%2Fhw01.ipynb&branch=main) and see what happens if you don't initialize the Otter grader and try running a `grader.check()` cell.\n",
    "1. Try to see how the feedback from a failed auto-grader test can help you debug a solution to a task."
   ]
  },
  {
   "cell_type": "markdown",
   "id": "985d4b73-7604-4b81-8e26-d9cf43d66bbd",
   "metadata": {},
   "source": [
    "---"
   ]
  },
  {
   "cell_type": "markdown",
   "id": "70cd160f-8d13-4ea1-9252-1cc8ddf011cf",
   "metadata": {},
   "source": [
    "## Interrupt Restarting the Kernel"
   ]
  },
  {
   "cell_type": "markdown",
   "id": "355130f1-7f80-47f1-b022-f9b0d80a2f5e",
   "metadata": {},
   "source": [
    "Sometimes your kernel will crash or your code will get stuck in a loop. You want to know how to interrupt a process and restart a kernel."
   ]
  },
  {
   "cell_type": "markdown",
   "id": "e64c1271-862a-4479-a88a-f3bbba5c516e",
   "metadata": {},
   "source": [
    "### Interrupting the Kernel"
   ]
  },
  {
   "cell_type": "markdown",
   "id": "c05a974f-12a9-4852-bcc1-916efc4f50d8",
   "metadata": {},
   "source": [
    "1. Run the following code cell.\n",
    "1. Using the `Kernel` menu, select `Interrupt`. This should stop the cell from running."
   ]
  },
  {
   "cell_type": "code",
   "execution_count": null,
   "id": "054daf6c-b1ae-4225-9247-384bad6751d6",
   "metadata": {},
   "outputs": [],
   "source": [
    "# This will loop indefinitely\n",
    "while True:\n",
    "    continue"
   ]
  },
  {
   "cell_type": "markdown",
   "id": "000d27c9-cf28-48a4-ad62-3b65c0d8e1de",
   "metadata": {},
   "source": [
    "### Restarting the Kernel"
   ]
  },
  {
   "cell_type": "markdown",
   "id": "0f00d4f5-489e-4262-946d-30693f3f863d",
   "metadata": {},
   "source": [
    "If your kernel shuts down, then the memory of all the cells that you run so far will be lost."
   ]
  },
  {
   "cell_type": "markdown",
   "id": "1ef69994-7ea4-4993-bc4a-fca29d218226",
   "metadata": {},
   "source": [
    "1. Using the `Kernel` menu, select `Shut Down Kernel`.\n",
    "1. Using the `Kernel` menu, select `Restart Kernel...`."
   ]
  },
  {
   "cell_type": "markdown",
   "id": "e9d95b9c-324e-41aa-bc75-52db2f8ad837",
   "metadata": {},
   "source": [
    "---"
   ]
  },
  {
   "cell_type": "markdown",
   "id": "f8c01274-d5fa-48d3-b797-37c532fa934f",
   "metadata": {},
   "source": [
    "## Debugging Code using `print()` and `#`"
   ]
  },
  {
   "cell_type": "markdown",
   "id": "83bed6d7-6506-4955-88f0-5bd52118b616",
   "metadata": {},
   "source": [
    "Sometimes you need to debug your code. Using `print()` and `#` can help you do that.\n",
    "\n",
    "1. Run the following code, and insert a `print` statement to print out the value of `one_variable` before the value of `another_variable` is displayed.\n",
    "1. Comment out certain parts of the code with a `#` or select the text you want to comment out and use `cmd`+`?` keyboard shortcut to comment out an entire block of code."
   ]
  },
  {
   "cell_type": "code",
   "execution_count": null,
   "id": "d9022d81-e9cb-4728-ad75-954c72287c0b",
   "metadata": {},
   "outputs": [],
   "source": [
    "one_variable = 2\n",
    "another_variable = 7\n",
    "another_variable"
   ]
  },
  {
   "cell_type": "markdown",
   "id": "b8a02db6-05a4-4774-9dc1-24e6a31ad17a",
   "metadata": {},
   "source": [
    "---"
   ]
  },
  {
   "cell_type": "markdown",
   "id": "db2b0c21-e1f5-4460-ad31-e2a64b081952",
   "metadata": {},
   "source": [
    "## Getting a Fresh Copy of Notebook"
   ]
  },
  {
   "cell_type": "markdown",
   "id": "74ca9ffb-2d2f-4453-819a-0003ba774330",
   "metadata": {},
   "source": [
    "Although it is rare, there are some situations where it is best to start over with a notebook.\n",
    "1. Delete the first Markdown cell at the top of this notebook.\n",
    "1. Rename the notebook.\n",
    "1. Re-open the link from Canvas.\n",
    " \n",
    "This brings a fresh copy of the notebook while preserving your work in another notebook."
   ]
  },
  {
   "cell_type": "markdown",
   "id": "26bb1d29-7559-4554-be1a-b2b0d81b863d",
   "metadata": {},
   "source": [
    "---"
   ]
  },
  {
   "cell_type": "markdown",
   "id": "674dcc18-4420-4e08-ab16-e4f413157200",
   "metadata": {},
   "source": [
    "## Submitting Assignments"
   ]
  },
  {
   "cell_type": "markdown",
   "id": "e7fe5308-2957-4438-8b22-fbee662707f8",
   "metadata": {},
   "source": [
    "### Lab and Project Checkpoints"
   ]
  },
  {
   "cell_type": "markdown",
   "id": "1b1d5011-26b4-4f32-a5d4-ef92f6e418c0",
   "metadata": {},
   "source": [
    "You will submit HTML files for the lab and project checkpoint assignments. In generally, we are checking for a reasonable attempt on the tasks mentioned."
   ]
  },
  {
   "cell_type": "markdown",
   "id": "28456f1d-6c15-4c89-a0da-eaf221d7eb61",
   "metadata": {},
   "source": [
    "#### Submit your Lab to Canvas\n",
    "\n",
    "Once you have finished working on the lab questions, prepare to submit your work in Canvas by completing the following steps.\n",
    "\n",
    "1. In the related Canvas Assignment page, check the requirements for a Complete score for this lab assignment.\n",
    "2. Double-check that you have run the code cell near the end of the notebook that contains the command `grader.check_all()`. This command will run all of the run tests on all your responses to the auto-graded tasks marked with 📍.\n",
    "3. Double-check your responses to the manually graded tasks marked with 📍🔎.\n",
    "4. Select the menu items `File`, `Save and Export Notebook As...`, and `Html_embed` in the notebook's Toolbar to download an HTML version of this notebook file.\n",
    "5. In the related Canvas Assignment page, click Start Assignment or New Attempt to upload the downloaded HTML file."
   ]
  },
  {
   "cell_type": "markdown",
   "id": "45142c63-3732-4094-b3dc-4725851e151c",
   "metadata": {},
   "source": [
    "### Homework"
   ]
  },
  {
   "cell_type": "markdown",
   "id": "b68b4cc8-5cd0-494b-bf5c-90742759c13d",
   "metadata": {},
   "source": [
    "You will submit an IPYNB file for homework assignments. A rubric in Canvas is meant to give you a guide on how your homework will be scored since we are scoring both Code and Markdown responses."
   ]
  },
  {
   "cell_type": "markdown",
   "id": "9aa30659-2f85-4e4f-9996-6bba3e14ad42",
   "metadata": {},
   "source": [
    "### Submit your Homework to Canvas\n",
    "\n",
    "Once you have finished working on the homework tasks, prepare to submit your work in Canvas by completing the following steps.\n",
    "\n",
    "1. In the related Canvas Assignment page, check the rubric to know how you will be scored for this assignment.\n",
    "2. Double-check that you have run the code cell near the end of the notebook that contains the command `\"grader.check_all()\"`. This command will run all of the run tests on all your responses to the auto-graded tasks marked with 📍.\n",
    "3. Double-check your responses to the manually graded tasks marked with 📍🔎.\n",
    "3. Select the menu item \"File\" and \"Save Notebook\" in the notebook's Toolbar to save your work and create a specific checkpoint in the notebook's work history.\n",
    "4. Select the menu items \"File\", \"Download\" in the notebook's Toolbar to download the notebook (.ipynb) file. \n",
    "5. In the related Canvas Assignment page, click Start Assignment or New Attempt to upload the downloaded .ipynb file.\n",
    "\n",
    "**Keep in mind that the autograder does not always check for correctness. Sometimes it just checks for the format of your answer, so passing the autograder for a question does not mean you got the answer correct for that question.**"
   ]
  },
  {
   "cell_type": "markdown",
   "id": "c5b04060-63fa-429c-945c-d6c82c75af5a",
   "metadata": {},
   "source": [
    "---"
   ]
  },
  {
   "cell_type": "markdown",
   "id": "9f2f3647-6d55-4f7c-a06f-29bc50f80c48",
   "metadata": {},
   "source": [
    "## Documentation and Help"
   ]
  },
  {
   "cell_type": "markdown",
   "id": "3bc59558-c134-4d0c-b6b3-0604724fc420",
   "metadata": {},
   "source": [
    "1. Check out the documentation linked through `Help` menu items.\n",
    "1. Look through the [official `datascience` documentation](https://datascience.readthedocs.io/)"
   ]
  },
  {
   "cell_type": "markdown",
   "id": "067015af-0622-41b2-8121-4efa87e50ad0",
   "metadata": {},
   "source": [
    "---"
   ]
  },
  {
   "cell_type": "markdown",
   "id": "2019a367-9e51-4875-9130-e273edb925bc",
   "metadata": {},
   "source": [
    "## General Tips and Q&A"
   ]
  },
  {
   "cell_type": "markdown",
   "id": "41a2505f-0a87-4ece-9f56-b064725f890a",
   "metadata": {},
   "source": [
    "..."
   ]
  }
 ],
 "metadata": {
  "kernelspec": {
   "display_name": "Python 3 (ipykernel)",
   "language": "python",
   "name": "python3"
  },
  "language_info": {
   "codemirror_mode": {
    "name": "ipython",
    "version": 3
   },
   "file_extension": ".py",
   "mimetype": "text/x-python",
   "name": "python",
   "nbconvert_exporter": "python",
   "pygments_lexer": "ipython3",
   "version": "3.10.12"
  }
 },
 "nbformat": 4,
 "nbformat_minor": 5
}
