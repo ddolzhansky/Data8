{
 "cells": [
  {
   "cell_type": "code",
   "execution_count": 1,
   "id": "455a0f90",
   "metadata": {
    "deletable": false,
    "editable": false
   },
   "outputs": [],
   "source": [
    "# Initialize Otter\n",
    "import otter\n",
    "grader = otter.Notebook(\"project3.ipynb\")"
   ]
  },
  {
   "cell_type": "markdown",
   "id": "c080e644-537b-42d7-8312-b6f77d12de8c",
   "metadata": {},
   "source": [
    "<img style=\"display: block; margin-left: auto; margin-right: auto\" src=\"./ccsf-logo.png\" width=\"250rem;\" alt=\"The CCSF black and white logo\">"
   ]
  },
  {
   "cell_type": "markdown",
   "id": "e4029292-6cec-4342-8fe5-644aa04ee3c2",
   "metadata": {},
   "source": [
    "# Project 3: Movie Classification"
   ]
  },
  {
   "cell_type": "markdown",
   "id": "f75451e8-46da-4aac-9e40-e782bd5da7e0",
   "metadata": {},
   "source": [
    "In this project, you will build a classification model that guesses whether a movie is a comedy or a thriller by using only the number of times chosen words appear in the movie's screenplay. By the end of the project, you should know how to:\n",
    "\n",
    "1. Build a k-nearest-neighbors classifier.\n",
    "2. Test a classifier on data."
   ]
  },
  {
   "cell_type": "markdown",
   "id": "54880521-0bfc-449b-8043-79a508ac942e",
   "metadata": {},
   "source": [
    "## 🎗️ Reminders"
   ]
  },
  {
   "cell_type": "markdown",
   "id": "72418c36-509e-431b-bdfd-513ac4695301",
   "metadata": {},
   "source": [
    "* **Canvas Assignment Details**. View the related <a href=\"https://ccsf.instructure.com\" target=\"_blank\">Canvas</a> Assignment page for additional details such as the assignment rubric and due dates.\n",
    "* **Auto-Grader.** Make sure to run the code cell at the top of this notebook that starts with `# Initialize Otter` to load the auto-grader.\n",
    "* **[Optional] Project Partner.** \n",
    "    * For this assignment, you are allowed to complete this project with a partner, but you are not required to work with a partner.\n",
    "    * If you want to work with someone, you and your partner should set up a Canvas group with your instructor for this assignment.\n",
    "    * Keep in mind that for group assignments, one submission will count for the entire group in Canvas.\n",
    "    * You and your partner will receive the same grade for this project.\n",
    "* **Code Sharing.** Don't share your code directly with anybody but your partner. You are welcome to discuss questions with other students, but don't share the answers. The experience of solving the problems in this project will prepare you for our exams and potentially for future work in this field. If someone asks you for the answer, resist! Instead, you can demonstrate how you would solve a similar problem or you can focus on a specific part of a task.\n",
    "* **Support.** You are not alone! Meet with your instructor or the tutors, post questions on Canvas or the student Discord channel, and talk to your classmates during our meetings. If you're ever feeling overwhelmed or don't know how to make progress, talk to your instructor or a tutor.\n",
    "* **Tests.** The tests that are given are **not comprehensive** and passing the tests for a question **does not** mean that you answered the question correctly. Tests usually only check that your table has the correct column labels. However, more tests will be applied to verify the correctness of your submission in order to assign your final score, so be careful and check your work! You might want to create your own checks along the way to see if your answers make sense. Additionally, before you submit, make sure that none of your cells take a very long time to run (several minutes).\n",
    "* **Open Response Tasks:** Make sure that you put the answers to the written questions in the indicated cell we provide and generate the graphs as requested. Usually, the point number for the open response tasks corresponds to the number of things you need to address in your response.\n",
    "* **Advice.** Develop your answers incrementally. To perform a complicated table manipulation, break it up into steps, perform each step on a different line, give a new name to each result, and check that each intermediate result is what you expect. You can add any additional names or functions you want to the provided cells. Make sure that you are using distinct and meaningful variable names throughout the notebook. Along that line, **DO NOT** reuse the variable names that we use when we grade your answers. For example, in the first task, we ask you to assign an answer to `latest`. Do not reassign the variable name `latest` to anything else in your notebook, otherwise there is the chance that our tests grade against what `latest` was reassigned to.\n",
    "* You are never expected to use just one line in this project or any others. Use intermediate variables and multiple lines as much as you would like! \n",
    "\n",
    "Run the following cell to get and import the relevant tools."
   ]
  },
  {
   "cell_type": "code",
   "execution_count": 2,
   "id": "2243fbfd-ebe8-4fec-9fe5-de8e785393e7",
   "metadata": {},
   "outputs": [],
   "source": [
    "import datascience\n",
    "import statsmodels\n",
    "import math\n",
    "from datascience import *\n",
    "import numpy as np\n",
    "%matplotlib inline\n",
    "import matplotlib.pyplot as plt\n",
    "plt.style.use('fivethirtyeight')\n",
    "import plotly.express as px\n",
    "import warnings\n",
    "warnings.simplefilter(\"ignore\")"
   ]
  },
  {
   "cell_type": "markdown",
   "id": "b92d0bc0-d2d7-4700-9ad6-736fc80b1591",
   "metadata": {},
   "source": [
    "## 💾 Part 1: The Dataset\n",
    "\n",
    "In this project, we are exploring movie screenplays. We'll be trying to predict each movie's genre from the text of its screenplay. In particular, we have compiled a list of 5,000 words that occur in conversations between movie characters. For each movie, our dataset tells us the frequency with which each of these words occurs in certain conversations in its screenplay. All words have been converted to lowercase.\n",
    "\n",
    "Run the cell below to read the `movies` table. **It may take up to a minute to load.**"
   ]
  },
  {
   "cell_type": "code",
   "execution_count": 3,
   "id": "7fd6f74e-930b-482a-9830-1654d3b0964e",
   "metadata": {},
   "outputs": [],
   "source": [
    "movies = Table.read_table('movies.csv')"
   ]
  },
  {
   "cell_type": "markdown",
   "id": "ea7a6bdb-821b-48a6-950d-fe41ef8150e7",
   "metadata": {},
   "source": [
    "Here is one row of the table and some of the frequencies of words that were said in the movie."
   ]
  },
  {
   "cell_type": "code",
   "execution_count": 4,
   "id": "57327119-bc13-4f25-87a3-e15de68a288f",
   "metadata": {},
   "outputs": [
    {
     "data": {
      "text/html": [
       "<table border=\"1\" class=\"dataframe\">\n",
       "    <thead>\n",
       "        <tr>\n",
       "            <th>Title</th> <th>Year</th> <th>Rating</th> <th>Genre</th> <th># Words</th> <th>breez</th> <th>england</th> <th>it</th> <th>bravo</th>\n",
       "        </tr>\n",
       "    </thead>\n",
       "    <tbody>\n",
       "        <tr>\n",
       "            <td>runaway bride</td> <td>1999</td> <td>5.2   </td> <td>comedy</td> <td>4895   </td> <td>0    </td> <td>0      </td> <td>0.0234092</td> <td>0    </td>\n",
       "        </tr>\n",
       "    </tbody>\n",
       "</table>"
      ],
      "text/plain": [
       "Title         | Year | Rating | Genre  | # Words | breez | england | it        | bravo\n",
       "runaway bride | 1999 | 5.2    | comedy | 4895    | 0     | 0       | 0.0234092 | 0"
      ]
     },
     "execution_count": 4,
     "metadata": {},
     "output_type": "execute_result"
    }
   ],
   "source": [
    "movies.where(\"Title\", \"runaway bride\").select(0, 1, 2, 3, 4, 14, 49, 1042, 4004)"
   ]
  },
  {
   "cell_type": "markdown",
   "id": "667c033e-2c0e-4d1a-b794-b1525abda187",
   "metadata": {},
   "source": [
    "The above cell prints a few columns of the row for the comedy movie *Runaway Bride*.  The movie contains 4895 words. The word \"it\" appears 115 times, as it makes up  $\\frac{115}{4895} \\approx 0.0234092$ of the words in the movie. The word \"england\" doesn't appear at all.\n",
    "\n",
    "Additional context: This numerical representation of a body of text, one that describes only the frequencies of individual words, is called a bag-of-words representation. This is a model that is often used in [NLP](https://en.wikipedia.org/wiki/Natural_language_processing). A lot of information is discarded in this representation: the order of the words, the context of each word, who said what, the cast of characters and actors, etc. However, a bag-of-words representation is often used for machine learning applications as a reasonable starting point, because a great deal of information is also retained and expressed in a convenient and compact format. \n",
    "\n",
    "In this project, we will investigate whether this representation is sufficient to build an accurate genre classifier."
   ]
  },
  {
   "cell_type": "markdown",
   "id": "8b776fb3-054c-41fd-92e6-05407fe38036",
   "metadata": {},
   "source": [
    "All movie titles are unique. The `row_for_title` function provides fast access to the one row for each title. \n",
    "\n",
    "*Note: All movies in our dataset have their titles lower-cased.* "
   ]
  },
  {
   "cell_type": "code",
   "execution_count": 5,
   "id": "71415053-87a6-4328-baa4-7eb6307e6db1",
   "metadata": {},
   "outputs": [],
   "source": [
    "title_index = movies.index_by('Title')\n",
    "def row_for_title(title):\n",
    "    \"\"\"Return the row for a title, similar to the following expression (but faster)\n",
    "    \n",
    "    movies.where('Title', title).row(0)\n",
    "    \"\"\"\n",
    "    return title_index.get(title)[0]\n",
    "\n",
    "row_for_title('toy story');"
   ]
  },
  {
   "cell_type": "markdown",
   "id": "3f5e9ae0-fbe4-43d5-be5d-76261a5af090",
   "metadata": {},
   "source": [
    "For example, the fastest way to find the frequency of \"fun\" in the movie *Toy Story* is to access the `'fun'` item from its row. Check the original table to see if this worked for you!"
   ]
  },
  {
   "cell_type": "code",
   "execution_count": 6,
   "id": "8e896e8a-8c2b-4cf3-95ab-526fc1fdaed8",
   "metadata": {},
   "outputs": [
    {
     "data": {
      "text/plain": [
       "0.00034855350296270001"
      ]
     },
     "execution_count": 6,
     "metadata": {},
     "output_type": "execute_result"
    }
   ],
   "source": [
    "row_for_title('toy story').item('fun') "
   ]
  },
  {
   "cell_type": "markdown",
   "id": "c3fb0eb6-9f82-47e6-9d48-8d89e8adb7c2",
   "metadata": {
    "tags": []
   },
   "source": [
    "#### Task 1.1 📍"
   ]
  },
  {
   "cell_type": "markdown",
   "id": "9a3dad8e-646c-4ade-87aa-36e53f59247a",
   "metadata": {
    "deletable": false,
    "editable": false
   },
   "source": [
    "Set `expected_row_sum` to the number that you __expect__ will result from summing all proportions in each row, excluding the first five columns. Think about what any one row adds up to.\n",
    "\n",
    "_Points:_ 2"
   ]
  },
  {
   "cell_type": "code",
   "execution_count": 7,
   "id": "d021f510-8705-44e6-b5ea-df7ffee9af8f",
   "metadata": {
    "tags": []
   },
   "outputs": [],
   "source": [
    "# Set row_sum to a number that's the (approximate) sum of each row of word proportions.\n",
    "expected_row_sum = 1"
   ]
  },
  {
   "cell_type": "code",
   "execution_count": 8,
   "id": "3d7e7fc0",
   "metadata": {
    "deletable": false,
    "editable": false
   },
   "outputs": [
    {
     "data": {
      "text/html": [
       "<p><strong><pre style='display: inline;'>task_1_1</pre></strong> passed! 🌟</p><p><strong><pre style='display: inline;'>task_1_1 - 1</pre> message:</strong> ✅ expected_row_sum is greater than 0.</p>"
      ],
      "text/plain": [
       "task_1_1 results: All test cases passed!\n",
       "task_1_1 - 1 message: ✅ expected_row_sum is greater than 0."
      ]
     },
     "execution_count": 8,
     "metadata": {},
     "output_type": "execute_result"
    }
   ],
   "source": [
    "grader.check(\"task_1_1\")"
   ]
  },
  {
   "cell_type": "markdown",
   "id": "2c6ba565-772e-4c67-beb8-aa80bcc46d40",
   "metadata": {},
   "source": [
    "This dataset was extracted from [a dataset from Cornell University](http://www.cs.cornell.edu/~cristian/Cornell_Movie-Dialogs_Corpus.html). After transforming the dataset (e.g., converting the words to lowercase, removing the naughty words, and converting the counts to frequencies), we created this new dataset containing the frequency of 5000 common words in each movie."
   ]
  },
  {
   "cell_type": "code",
   "execution_count": 9,
   "id": "f15c3768-135c-49ba-afbe-62c8685c8f63",
   "metadata": {},
   "outputs": [
    {
     "name": "stdout",
     "output_type": "stream",
     "text": [
      "Words with frequencies: 5000\n",
      "Movies with genres: 333\n"
     ]
    }
   ],
   "source": [
    "print('Words with frequencies:', movies.drop(np.arange(5)).num_columns) \n",
    "print('Movies with genres:', movies.num_rows)"
   ]
  },
  {
   "cell_type": "markdown",
   "id": "f659c51e-1f52-4dd4-ba21-264e6dacae72",
   "metadata": {},
   "source": [
    "### Section 1.1: Word Stemming"
   ]
  },
  {
   "cell_type": "markdown",
   "id": "cd85d7f5-3fb5-4fb9-bdeb-32881c7c35b4",
   "metadata": {},
   "source": [
    "The columns other than \"Title\", \"Year\", \"Rating\", \"Genre\", and \"# Words\" in the `movies` table are all words that appear in some of the movies in our dataset.  These words have been *stemmed*, or abbreviated heuristically, in an attempt to make different [inflected](https://en.wikipedia.org/wiki/Inflection) forms of the same base word into the same string.  For example, the column \"manag\" is the sum of proportions of the words \"manage\", \"manager\", \"managed\", and \"managerial\" (and perhaps others) in each movie. This is a common technique used in machine learning and natural language processing.\n",
    "\n",
    "Stemming makes it a little tricky to search for the words you want to use, so we have provided another table called `vocab_table` that will let you see examples of unstemmed versions of each stemmed word. Run the code below to load it.\n",
    "\n",
    "**Note:** You should use `vocab_table` for the rest of Section 1.1, not `vocab_mapping`. "
   ]
  },
  {
   "cell_type": "code",
   "execution_count": 10,
   "id": "72dce231-1b67-4670-9954-87fac52f2b2d",
   "metadata": {},
   "outputs": [
    {
     "data": {
      "text/html": [
       "<table border=\"1\" class=\"dataframe\">\n",
       "    <thead>\n",
       "        <tr>\n",
       "            <th>Stem</th> <th>Word</th>\n",
       "        </tr>\n",
       "    </thead>\n",
       "    <tbody>\n",
       "        <tr>\n",
       "            <td>bond</td> <td>bonding </td>\n",
       "        </tr>\n",
       "        <tr>\n",
       "            <td>bone</td> <td>bone    </td>\n",
       "        </tr>\n",
       "        <tr>\n",
       "            <td>bone</td> <td>boning  </td>\n",
       "        </tr>\n",
       "        <tr>\n",
       "            <td>bone</td> <td>bones   </td>\n",
       "        </tr>\n",
       "        <tr>\n",
       "            <td>bonu</td> <td>bonus   </td>\n",
       "        </tr>\n",
       "        <tr>\n",
       "            <td>book</td> <td>bookings</td>\n",
       "        </tr>\n",
       "        <tr>\n",
       "            <td>book</td> <td>books   </td>\n",
       "        </tr>\n",
       "        <tr>\n",
       "            <td>book</td> <td>booking </td>\n",
       "        </tr>\n",
       "        <tr>\n",
       "            <td>book</td> <td>booked  </td>\n",
       "        </tr>\n",
       "        <tr>\n",
       "            <td>book</td> <td>book    </td>\n",
       "        </tr>\n",
       "    </tbody>\n",
       "</table>"
      ],
      "text/plain": [
       "Stem | Word\n",
       "bond | bonding\n",
       "bone | bone\n",
       "bone | boning\n",
       "bone | bones\n",
       "bonu | bonus\n",
       "book | bookings\n",
       "book | books\n",
       "book | booking\n",
       "book | booked\n",
       "book | book"
      ]
     },
     "execution_count": 10,
     "metadata": {},
     "output_type": "execute_result"
    }
   ],
   "source": [
    "# Just run this cell.\n",
    "vocab_mapping = Table.read_table('stem.csv')\n",
    "stemmed = np.take(movies.labels, np.arange(3, len(movies.labels)))\n",
    "vocab_table = Table().with_column('Stem', stemmed).join('Stem', vocab_mapping)\n",
    "vocab_table.take(np.arange(1100, 1110))"
   ]
  },
  {
   "cell_type": "markdown",
   "id": "2333c6b6-3dd7-42ce-b60a-94c3d0f4960e",
   "metadata": {
    "tags": []
   },
   "source": [
    "#### Task 1.1.1 📍"
   ]
  },
  {
   "cell_type": "markdown",
   "id": "cdd30c7c-57ee-4427-8ccd-6591c73b84fa",
   "metadata": {
    "deletable": false,
    "editable": false
   },
   "source": [
    "Using `vocab_table`, find the stemmed version of the word \"elements\" and assign the value to `stemmed_message`.\n",
    "\n",
    "\n",
    "_Points:_ 3"
   ]
  },
  {
   "cell_type": "code",
   "execution_count": null,
   "id": "2da5ffc1-804b-48b7-a617-715f049e4ebd",
   "metadata": {
    "tags": []
   },
   "outputs": [],
   "source": [
    "stemmed_message = ...\n",
    "stemmed_message"
   ]
  },
  {
   "cell_type": "code",
   "execution_count": 11,
   "id": "dcb3aee4-3e2d-4160-a26d-09a073873626",
   "metadata": {},
   "outputs": [
    {
     "data": {
      "text/plain": [
       "'element'"
      ]
     },
     "execution_count": 11,
     "metadata": {},
     "output_type": "execute_result"
    }
   ],
   "source": [
    "stemmed_message = vocab_table.where('Word', 'elements').column('Stem').item(0)\n",
    "stemmed_message"
   ]
  },
  {
   "cell_type": "code",
   "execution_count": 12,
   "id": "fd3402a3",
   "metadata": {
    "deletable": false,
    "editable": false
   },
   "outputs": [
    {
     "data": {
      "text/html": [
       "<p><strong><pre style='display: inline;'>task_1_1_1</pre></strong> passed! 🙌</p><p><strong><pre style='display: inline;'>task_1_1_1 - 1</pre> message:</strong> ✅ stemmed_message is a string.</p><p><strong><pre style='display: inline;'>task_1_1_1 - 2</pre> message:</strong> ✅ The length of stemmed_message is less than the lenght of 'elements'.</p>"
      ],
      "text/plain": [
       "task_1_1_1 results: All test cases passed!\n",
       "task_1_1_1 - 1 message: ✅ stemmed_message is a string.\n",
       "task_1_1_1 - 2 message: ✅ The length of stemmed_message is less than the lenght of 'elements'."
      ]
     },
     "execution_count": 12,
     "metadata": {},
     "output_type": "execute_result"
    }
   ],
   "source": [
    "grader.check(\"task_1_1_1\")"
   ]
  },
  {
   "cell_type": "markdown",
   "id": "57bf8547-9d26-4f50-bc97-5e3b57872f4a",
   "metadata": {},
   "source": [
    "#### Task 1.1.2 📍"
   ]
  },
  {
   "cell_type": "markdown",
   "id": "4bd968f1-13a7-4e18-acc3-081a49e6afb5",
   "metadata": {
    "deletable": false,
    "editable": false
   },
   "source": [
    "What stem in the dataset has the most words that are associated to it? Assign `most_stem` to that stem. \n",
    "\n",
    "_Points:_ 2"
   ]
  },
  {
   "cell_type": "code",
   "execution_count": null,
   "id": "751ece2c-fd3a-4e48-ba3f-e5ebb118ad01",
   "metadata": {
    "tags": []
   },
   "outputs": [],
   "source": [
    "most_stem = ...\n",
    "most_stem"
   ]
  },
  {
   "cell_type": "code",
   "execution_count": 13,
   "id": "db61a5dc-df64-4b2a-b97f-2b725f5d3597",
   "metadata": {},
   "outputs": [
    {
     "data": {
      "text/plain": [
       "'gener'"
      ]
     },
     "execution_count": 13,
     "metadata": {},
     "output_type": "execute_result"
    }
   ],
   "source": [
    "stem_counts = vocab_table.group('Stem')\n",
    "most_stem = stem_counts.sort('count', descending=True).column('Stem').item(0)\n",
    "most_stem"
   ]
  },
  {
   "cell_type": "code",
   "execution_count": 14,
   "id": "af4a6e90",
   "metadata": {
    "deletable": false,
    "editable": false
   },
   "outputs": [
    {
     "data": {
      "text/html": [
       "<p><strong><pre style='display: inline;'>task_1_1_2</pre></strong> passed! 🎉</p><p><strong><pre style='display: inline;'>task_1_1_2 - 1</pre> message:</strong> ✅ most_stem is a string.</p>"
      ],
      "text/plain": [
       "task_1_1_2 results: All test cases passed!\n",
       "task_1_1_2 - 1 message: ✅ most_stem is a string."
      ]
     },
     "execution_count": 14,
     "metadata": {},
     "output_type": "execute_result"
    }
   ],
   "source": [
    "grader.check(\"task_1_1_2\")"
   ]
  },
  {
   "cell_type": "markdown",
   "id": "908bdd3d-97e1-437b-8dbb-f025476ee4ba",
   "metadata": {},
   "source": [
    "#### Task 1.1.3 📍"
   ]
  },
  {
   "cell_type": "markdown",
   "id": "46f45ddd-3283-4922-8d46-96f8fb69afb4",
   "metadata": {
    "deletable": false,
    "editable": false
   },
   "source": [
    "What is the longest word in the dataset that wasn't shortened to its stem? Assign that to `longest_uncut`. Break ties alphabetically from Z to A (so if your options are \"cat\" or \"bat\", you should pick \"cat\"). Note that when sorting letters, the letter `a` is smaller than the letter `z`.\n",
    "\n",
    "*Hint 1:* `vocab_table` has 2 columns: one for stems and one for the unstemmed (normal) word. Find the longest word that wasn't cut at all (same length as stem).\n",
    "\n",
    "*Hint 2:* There is a table function that allows you to compute a function on every element in a column. Check [Python Reference](http://data8.org/sp22/python-reference.html) if you aren't sure which one.\n",
    "\n",
    "*Hint 3:* Check the comments in the cell below if you are stuck.\n",
    "\n",
    "_Points:_ 2"
   ]
  },
  {
   "cell_type": "code",
   "execution_count": null,
   "id": "c2e13a9d-8da4-4818-bea6-c21d4feff88f",
   "metadata": {
    "for_assignment_type": "student",
    "tags": []
   },
   "outputs": [],
   "source": [
    "# In our solution, we found it useful to first add columns with\n",
    "# the length of the word and the length of the stem,\n",
    "# and then to add a column with the difference between those lengths.\n",
    "# What will the difference be if the word is not shortened?\n",
    "\n",
    "tbl_with_lens = ...\n",
    "tbl_with_diff = ...\n",
    "\n",
    "longest_uncut = ...\n",
    "longest_uncut"
   ]
  },
  {
   "cell_type": "code",
   "execution_count": 15,
   "id": "ff7fb8fa-df6a-4940-971c-4560a117aeac",
   "metadata": {},
   "outputs": [
    {
     "data": {
      "text/plain": [
       "'zoo'"
      ]
     },
     "execution_count": 15,
     "metadata": {},
     "output_type": "execute_result"
    }
   ],
   "source": [
    "tbl_with_lens = vocab_table.with_columns(\n",
    "    'Word Length', vocab_table.apply(len, 'Word'),\n",
    "    'Stem Length', vocab_table.apply(len, 'Stem')\n",
    ")\n",
    "\n",
    "tbl_with_diff = tbl_with_lens.with_column('Length Difference', tbl_with_lens.column('Word Length') - tbl_with_lens.column('Stem Length'))\n",
    "uncut_words = tbl_with_diff.where('Length Difference', are.equal_to(0))\n",
    "longest_uncut = uncut_words.sort('Word Length', descending=True).sort('Word', descending=True).column('Word').item(0)\n",
    "longest_uncut\n"
   ]
  },
  {
   "cell_type": "code",
   "execution_count": 16,
   "id": "3cc9cdfe",
   "metadata": {
    "deletable": false,
    "editable": false
   },
   "outputs": [
    {
     "data": {
      "text/html": [
       "<p><strong><pre style='display: inline;'>task_1_1_3</pre></strong> passed! 🎉</p><p><strong><pre style='display: inline;'>task_1_1_3 - 1</pre> message:</strong> ✅ longest_uncut is a string.</p>"
      ],
      "text/plain": [
       "task_1_1_3 results: All test cases passed!\n",
       "task_1_1_3 - 1 message: ✅ longest_uncut is a string."
      ]
     },
     "execution_count": 16,
     "metadata": {},
     "output_type": "execute_result"
    }
   ],
   "source": [
    "grader.check(\"task_1_1_3\")"
   ]
  },
  {
   "cell_type": "markdown",
   "id": "9ee38600-f08b-4d54-844c-a716e9ae4ba1",
   "metadata": {},
   "source": [
    "#### Task 1.1.4 📍"
   ]
  },
  {
   "cell_type": "markdown",
   "id": "d9616564-01f4-4078-8077-3343d95637d1",
   "metadata": {
    "deletable": false,
    "editable": false
   },
   "source": [
    "How many stems have only one word that is shortened to them? For example, if the stem \"book\" only maps to the word \"books\" and if the stem \"a\" only maps to the word \"a,\" both should be counted as stems that map only to a single word.\n",
    "\n",
    "Assign `count_single_stems` to the count of stems that map to one word only. \n",
    "\n",
    "_Points:_ 2"
   ]
  },
  {
   "cell_type": "code",
   "execution_count": null,
   "id": "88bad1a0-0f3f-4a3e-a6cf-3e59dda98f16",
   "metadata": {
    "tags": []
   },
   "outputs": [],
   "source": [
    "count_single_stems = ...\n",
    "count_single_stems"
   ]
  },
  {
   "cell_type": "code",
   "execution_count": 17,
   "id": "295087d7-f106-46bf-812c-4f658d0bdc38",
   "metadata": {},
   "outputs": [
    {
     "data": {
      "text/plain": [
       "1408"
      ]
     },
     "execution_count": 17,
     "metadata": {},
     "output_type": "execute_result"
    }
   ],
   "source": [
    "stem_counts = vocab_table.group('Stem')\n",
    "count_single_stems = np.count_nonzero(stem_counts.column('count') == 1)\n",
    "count_single_stems\n"
   ]
  },
  {
   "cell_type": "code",
   "execution_count": 18,
   "id": "6f95ae92",
   "metadata": {
    "deletable": false,
    "editable": false
   },
   "outputs": [
    {
     "data": {
      "text/html": [
       "<p><strong><pre style='display: inline;'>task_1_1_4</pre></strong> passed! 🍀</p><p><strong><pre style='display: inline;'>task_1_1_4 - 1</pre> message:</strong> ✅ count_single_stems is an integer.</p>"
      ],
      "text/plain": [
       "task_1_1_4 results: All test cases passed!\n",
       "task_1_1_4 - 1 message: ✅ count_single_stems is an integer."
      ]
     },
     "execution_count": 18,
     "metadata": {},
     "output_type": "execute_result"
    }
   ],
   "source": [
    "grader.check(\"task_1_1_4\")"
   ]
  },
  {
   "cell_type": "markdown",
   "id": "401cf0e8-395a-4cf7-9a84-9cddcf672e0f",
   "metadata": {},
   "source": [
    "### Section 1.2: Exploratory Data Analysis: Linear Regression"
   ]
  },
  {
   "cell_type": "markdown",
   "id": "af898156-77db-49b0-bc4a-010dff1fb496",
   "metadata": {},
   "source": [
    "Let's explore our dataset before trying to build a classifier. To start, we’ll use the associated proportions to investigate the relationship between different words.\n",
    "\n",
    "The first association we'll investigate is the association between the proportion of words that are \"outer\" and the proportion of words that are \"space\". \n",
    "\n",
    "As usual, we'll investigate our data visually before performing any numerical analysis.\n",
    "\n",
    "Run the cell below to plot a scatter diagram of \"space\" proportions vs \"outer\" proportions and to create the `outer_space` table. Each point on the scatter plot represents one movie."
   ]
  },
  {
   "cell_type": "code",
   "execution_count": 20,
   "id": "cc732b15-5981-4db5-9f33-7d5efe793521",
   "metadata": {},
   "outputs": [
    {
     "data": {
      "image/png": "[encoded data removed]",
      "text/plain": [
       "<Figure size 500x500 with 1 Axes>"
      ]
     },
     "metadata": {},
     "output_type": "display_data"
    }
   ],
   "source": [
    "# Just run this cell!\n",
    "outer_space = movies.select(\"outer\", \"space\")\n",
    "outer_space.scatter(\"outer\", \"space\")\n",
    "plt.axis([-0.0005, 0.001, -0.0005, 0.003]);\n",
    "plt.xticks(rotation=45);"
   ]
  },
  {
   "cell_type": "markdown",
   "id": "75191dab-99a4-4998-a0f5-0e27aa33ff9f",
   "metadata": {},
   "source": [
    "#### Task 1.2.1 📍"
   ]
  },
  {
   "cell_type": "markdown",
   "id": "67f71096-1ee8-407e-8367-53de2e2e2960",
   "metadata": {
    "deletable": false,
    "editable": false
   },
   "source": [
    "Looking at that chart it is difficult to see if there is an association. Calculate the correlation coefficient for the potential linear association between proportion of words that are \"outer\" and the proportion of words that are \"space\" for every movie in the dataset, and assign it to `outer_space_r`. \n",
    "\n",
    "*Hint:* If you need a refresher on how to calculate the correlation coefficient check out [Ch 15.1](https://inferentialthinking.com/chapters/15/1/Correlation.html#calculating-r).\n",
    "\n",
    "_Points:_ 2"
   ]
  },
  {
   "cell_type": "code",
   "execution_count": null,
   "id": "9c0421e9-4943-4ea9-9842-6e0f650f3730",
   "metadata": {
    "tags": []
   },
   "outputs": [],
   "source": [
    "# These two arrays should make your code cleaner!\n",
    "outer = movies.column(\"outer\")\n",
    "space = movies.column(\"space\")\n",
    "\n",
    "outer_su = ...\n",
    "space_su = ...\n",
    "\n",
    "outer_space_r = ...\n",
    "outer_space_r"
   ]
  },
  {
   "cell_type": "code",
   "execution_count": 21,
   "id": "89a44563-3ac6-467e-9e93-9a30d70822c4",
   "metadata": {},
   "outputs": [
    {
     "data": {
      "text/plain": [
       "0.31942607876895912"
      ]
     },
     "execution_count": 21,
     "metadata": {},
     "output_type": "execute_result"
    }
   ],
   "source": [
    "# These two arrays should make your code cleaner!\n",
    "outer = movies.column(\"outer\")\n",
    "space = movies.column(\"space\")\n",
    "\n",
    "outer_su = (outer - np.mean(outer)) / np.std(outer)\n",
    "space_su = (space - np.mean(space)) / np.std(space)\n",
    "\n",
    "outer_space_r = np.mean(outer_su * space_su)\n",
    "outer_space_r"
   ]
  },
  {
   "cell_type": "code",
   "execution_count": 22,
   "id": "1d971d0b",
   "metadata": {
    "deletable": false,
    "editable": false
   },
   "outputs": [
    {
     "data": {
      "text/html": [
       "<p><strong><pre style='display: inline;'>task_1_2_1</pre></strong> passed! 💯</p><p><strong><pre style='display: inline;'>task_1_2_1 - 1</pre> message:</strong> ✅ outer_space_r is between 0.2 and 0.4.</p>"
      ],
      "text/plain": [
       "task_1_2_1 results: All test cases passed!\n",
       "task_1_2_1 - 1 message: ✅ outer_space_r is between 0.2 and 0.4."
      ]
     },
     "execution_count": 22,
     "metadata": {},
     "output_type": "execute_result"
    }
   ],
   "source": [
    "grader.check(\"task_1_2_1\")"
   ]
  },
  {
   "cell_type": "markdown",
   "id": "428adad4-8602-4feb-b8a8-35f6fc12faa0",
   "metadata": {},
   "source": [
    "#### Task 1.2.2 📍🔎"
   ]
  },
  {
   "cell_type": "markdown",
   "id": "fb72b9b3-281b-4f04-b881-c745a0e3861c",
   "metadata": {
    "deletable": false,
    "editable": false
   },
   "source": [
    "<!-- BEGIN QUESTION -->\n",
    "\n",
    "Choose two *different* words in the dataset with a magnitude (absolute value) of correlation higher than 0.2 and plot a scatter plot with a line of best fit for them. Please do not pick \"outer\" and \"space\" or \"san\" and \"francisco\". The code to plot the scatter plot and line of best fit is given for you, you just need to calculate the correct values to `r`, `slope` and `intercept`. \n",
    "\n",
    "*Hint 1:* It's easier to think of words with a positive correlation, i.e. words that are often mentioned together*. Try to think of common phrases or idioms.\n",
    "\n",
    "*Hint 2:* Refer to [Section 15.2](https://inferentialthinking.com/chapters/15/2/Regression_Line.html#units-of-measurement-of-the-slope) of the textbook for the formulas. \n",
    "\n",
    "_Points:_ 2"
   ]
  },
  {
   "cell_type": "code",
   "execution_count": null,
   "id": "f467ea2d-f556-42cb-86c5-810b94613bff",
   "metadata": {
    "tags": []
   },
   "outputs": [],
   "source": [
    "word_x = ...\n",
    "word_y = ...\n",
    "\n",
    "# These arrays should make your code cleaner!\n",
    "arr_x = movies.column(word_x)\n",
    "arr_y = movies.column(word_y)\n",
    "\n",
    "x_su = ...\n",
    "y_su = ...\n",
    "\n",
    "r = ...\n",
    "\n",
    "slope = ...\n",
    "intercept = ...\n",
    "\n",
    "# DON'T CHANGE THESE LINES OF CODE\n",
    "movies.scatter(word_x, word_y)\n",
    "max_x = max(movies.column(word_x))\n",
    "plt.title(f\"Correlation: {r}, magnitude greater than .2: {abs(r) >= 0.2}\")\n",
    "plt.plot([0, max_x * 1.3], [intercept, intercept + slope * (max_x*1.3)], color='gold');"
   ]
  },
  {
   "cell_type": "code",
   "execution_count": 23,
   "id": "a2c95681-81e4-4709-8dd7-1cac249d43bb",
   "metadata": {},
   "outputs": [
    {
     "data": {
      "image/png": "[encoded data removed]",
      "text/plain": [
       "<Figure size 500x500 with 1 Axes>"
      ]
     },
     "metadata": {},
     "output_type": "display_data"
    }
   ],
   "source": [
    "word_x = \"fire\"\n",
    "word_y = \"hot\"\n",
    "\n",
    "arr_x = movies.column(word_x)\n",
    "arr_y = movies.column(word_y)\n",
    "\n",
    "x_su = (arr_x - np.mean(arr_x)) / np.std(arr_x)\n",
    "y_su = (arr_y - np.mean(arr_y)) / np.std(arr_y)\n",
    "\n",
    "r = np.mean(x_su * y_su)\n",
    "\n",
    "slope = r * (np.std(arr_y) / np.std(arr_x))\n",
    "intercept = np.mean(arr_y) - slope * np.mean(arr_x)\n",
    "\n",
    "# DON'T CHANGE THESE LINES OF CODE\n",
    "movies.scatter(word_x, word_y)\n",
    "max_x = max(movies.column(word_x))\n",
    "plt.title(f\"Correlation: {r}, magnitude greater than .2: {abs(r) >= 0.2}\")\n",
    "plt.plot([0, max_x * 1.3], [intercept, intercept + slope * (max_x*1.3)], color='gold');\n"
   ]
  },
  {
   "cell_type": "markdown",
   "id": "fb600a15-287e-415f-a64e-869299659253",
   "metadata": {
    "deletable": false,
    "editable": false
   },
   "source": [
    "<!-- END QUESTION -->\n",
    "\n",
    "#### Task 1.2.3 📍"
   ]
  },
  {
   "cell_type": "markdown",
   "id": "8e44b28c-52a9-4cf3-b76b-aafcacf766a6",
   "metadata": {
    "deletable": false,
    "editable": false
   },
   "source": [
    "Imagine that you picked the words \"san\" and \"francisco\" as the two words that you would expect to be correlated because they compose the city name San Francisco. Assign `san_francisco` to either the number 1 or the number 2 according to which statement is true regarding the correlation between \"san\" and \"francisco.\" \n",
    "\n",
    "1. \"san\" can also preceed other city names like San Diego and San Jose. This might lead to \"san\" appearing in movies without \"francisco,\" and would reduce the correlation between \"san\" and \"francisco.\"\n",
    "2. \"san\" can also preceed other city names like San Diego and San Jose. The fact that \"san\" could appear more often in front of different cities and without \"francisco\" would increase the correlation between \"san\" and \"francisco.\" \n",
    "\n",
    "_Points:_ 2"
   ]
  },
  {
   "cell_type": "code",
   "execution_count": 25,
   "id": "d0d92d2f-08d3-44a3-a527-a8207d1f6913",
   "metadata": {
    "tags": []
   },
   "outputs": [],
   "source": [
    "san_francisco = 2"
   ]
  },
  {
   "cell_type": "code",
   "execution_count": 26,
   "id": "82beeab3",
   "metadata": {
    "deletable": false,
    "editable": false
   },
   "outputs": [
    {
     "data": {
      "text/html": [
       "<p><strong><pre style='display: inline;'>task_1_2_3</pre></strong> passed! 🚀</p><p><strong><pre style='display: inline;'>task_1_2_3 - 1</pre> message:</strong> ✅ san_francisco is an integer.</p>"
      ],
      "text/plain": [
       "task_1_2_3 results: All test cases passed!\n",
       "task_1_2_3 - 1 message: ✅ san_francisco is an integer."
      ]
     },
     "execution_count": 26,
     "metadata": {},
     "output_type": "execute_result"
    }
   ],
   "source": [
    "grader.check(\"task_1_2_3\")"
   ]
  },
  {
   "cell_type": "markdown",
   "id": "712ff6de-5673-4550-878e-1bb6ee4f1aa8",
   "metadata": {},
   "source": [
    "### Section 1.3: Splitting the dataset"
   ]
  },
  {
   "cell_type": "markdown",
   "id": "6370442c-28c5-41d9-9be7-0613f8b0b081",
   "metadata": {},
   "source": [
    "Now, we're going to use our `movies` dataset for two purposes.\n",
    "\n",
    "1. First, we want to *train* movie genre classifiers.\n",
    "2. Second, we want to *test* the performance of our classifiers. \n",
    "\n",
    "Hence, we need two different datasets: *training* and *test*. \n",
    "\n",
    "The purpose of a classifier is to classify unseen data that is similar to the training data. The test dataset will help us determine the accuracy of our predictions by comparing the actual genres of the movies with the genres that our classifier predicts. Therefore, we must ensure that there are no movies that appear in both sets. We do so by splitting the dataset randomly. The dataset has already been permuted randomly, so it's easy to split.  We just take the first 85% of the dataset for training and the rest for test. \n",
    "\n",
    "Run the code below (without changing it) to separate the datasets into two tables."
   ]
  },
  {
   "cell_type": "code",
   "execution_count": 27,
   "id": "e562ae0f-711d-4b4f-8f08-af2997021070",
   "metadata": {},
   "outputs": [
    {
     "name": "stdout",
     "output_type": "stream",
     "text": [
      "Training:  283 ; Test:  50\n"
     ]
    }
   ],
   "source": [
    "# Here we have defined the proportion of our data\n",
    "# that we want to designate for training as 17/20ths\n",
    "# of our total dataset.  3/20ths of the data is\n",
    "# reserved for testing.\n",
    "\n",
    "training_proportion = 17/20\n",
    "\n",
    "num_movies = movies.num_rows\n",
    "num_train = int(num_movies * training_proportion)\n",
    "num_test = num_movies - num_train\n",
    "\n",
    "train_movies = movies.take(np.arange(num_train))\n",
    "test_movies = movies.take(np.arange(num_train, num_movies))\n",
    "\n",
    "print(\"Training: \",   train_movies.num_rows, \";\",\n",
    "      \"Test: \",       test_movies.num_rows)"
   ]
  },
  {
   "cell_type": "markdown",
   "id": "a24e24d8-7c5a-4a9e-a00b-a60ca80f6546",
   "metadata": {},
   "source": [
    "#### Task 1.3.1 📍🔎"
   ]
  },
  {
   "cell_type": "markdown",
   "id": "899add4f-8012-44db-88ee-57f089ba44dc",
   "metadata": {
    "deletable": false,
    "editable": false
   },
   "source": [
    "<!-- BEGIN QUESTION -->\n",
    "\n",
    "Draw a horizontal bar chart with two bars that show the proportion of Comedy movies in each dataset (`train_movies` and `test_movies`). The two bars should be labeled \"Training\" and \"Test\". Complete the function `comedy_proportion` first; it should help you create the bar chart. \n",
    "\n",
    "*Hint*: Refer to [Section 7.1](https://inferentialthinking.com/chapters/07/1/Visualizing_Categorical_Distributions.html#bar-chart) of the textbook if you need a refresher on bar charts.\n",
    "\n",
    "_Points:_ 2"
   ]
  },
  {
   "cell_type": "code",
   "execution_count": null,
   "id": "80891abd-aa05-46a9-b140-190b4e685768",
   "metadata": {
    "for_assignment_type": "solution",
    "tags": []
   },
   "outputs": [],
   "source": [
    "def comedy_proportion(table):\n",
    "    # Return the proportion of movies in a table that have the comedy genre.\n",
    "    ...\n",
    "    return ...\n",
    "\n",
    "# The staff solution took multiple lines.  Start by creating a table.\n",
    "# If you get stuck, think about what sort of table you need for barh to work\n",
    "..."
   ]
  },
  {
   "cell_type": "code",
   "execution_count": 28,
   "id": "f7e0f018-ec76-4673-b93c-a794bb823608",
   "metadata": {},
   "outputs": [
    {
     "data": {
      "image/png": "[encoded data removed]",
      "text/plain": [
       "<Figure size 600x400 with 1 Axes>"
      ]
     },
     "metadata": {},
     "output_type": "display_data"
    }
   ],
   "source": [
    "def comedy_proportion(table):\n",
    "    comedy_count = table.where('Genre', 'comedy').num_rows\n",
    "    total_movies = table.num_rows\n",
    "    return comedy_count / total_movies\n",
    "\n",
    "comedy_table = Table().with_columns(\n",
    "    'Dataset', make_array('Training', 'Test'),\n",
    "    'Proportion of Comedy', make_array(comedy_proportion(train_movies), comedy_proportion(test_movies))\n",
    ")\n",
    "\n",
    "# Plot a horizontal bar chart\n",
    "comedy_table.barh('Dataset', 'Proportion of Comedy')\n",
    "plt.title('Proportion of Comedy Movies in Training and Test Datasets')\n",
    "plt.xlabel('Proportion')\n",
    "plt.ylabel('Dataset')\n",
    "plt.show()"
   ]
  },
  {
   "cell_type": "markdown",
   "id": "481097bd-8566-4044-97e8-2003a74c6ad2",
   "metadata": {
    "deletable": false,
    "editable": false
   },
   "source": [
    "<!-- END QUESTION -->\n",
    "\n",
    "## 🏘️ Part 2: K-Nearest Neighbors - A Guided Example\n",
    "\n",
    "[K-Nearest Neighbors (k-NN)](https://inferentialthinking.com/chapters/17/1/Nearest_Neighbors.html) is a classification algorithm.  Given some numerical *attributes* (also called *features*) of an unseen example, it decides which category that example belongs to based on its similarity to previously seen examples. Predicting the category of an example is called *labeling*, and the predicted category is also called a *label*.\n",
    "\n",
    "An attribute (feature) we have about each movie is *the proportion of times a particular word appears in the movie*, and the labels are two movie genres: comedy and thriller.  The algorithm requires many previously seen examples for which both the attributes and labels are known: that's the `train_movies` table.\n",
    "\n",
    "To build understanding, we're going to visualize the algorithm instead of just describing it."
   ]
  },
  {
   "cell_type": "markdown",
   "id": "2f26d0e4-c1ca-40f3-bf95-efbfa78cae73",
   "metadata": {},
   "source": [
    "### Section 2.1: Classifying a movie"
   ]
  },
  {
   "cell_type": "markdown",
   "id": "3148d65b-f597-4c35-a9a7-c3a5c74d19ef",
   "metadata": {},
   "source": [
    "In k-NN, we classify a movie by finding the `k` movies in the *training set* that are most similar according to the features we choose. We call those movies with similar features the *nearest neighbors*.  The k-NN algorithm assigns the movie to the most common category among its `k` nearest neighbors.\n",
    "\n",
    "Let's limit ourselves to just 2 features for now, so we can plot each movie.  The features we will use are the proportions of the words \"water\" and \"feel\" in the movie.  Taking the movie *Monty Python and the Holy Grail* (in the test set), 0.000804074 of its words are \"water\" and 0.0010721 are \"feel\". This movie appears in the test set, so let's imagine that we don't yet know its genre.\n",
    "\n",
    "First, we need to make our notion of similarity more precise.  We will say that the *distance* between two movies is the straight-line distance between them when we plot their features on a scatter diagram. \n",
    "\n",
    "**This distance is called the Euclidean (\"yoo-KLID-ee-un\") distance, whose formula is $\\sqrt{(x_1 - x_2)^2 + (y_1 - y_2)^2}$.**\n",
    "\n",
    "For example, in the movie *Clerks.* (in the training set), 0.00016293 of all the words in the movie are \"water\" and 0.00154786 are \"feel\".  Its distance from *Monty Python and the Holy Grail* on this 2-word feature set is $\\sqrt{(0.000804074 - 0.000162933)^2 + (0.0010721 - 0.00154786)^2} \\approx 0.000798379$.  (If we included more or different features, the distance could be different.)\n",
    "\n",
    "A third movie, *The Godfather* (in the training set), has 0 \"water\" and 0.00015122 \"feel\". \n",
    "\n",
    "The function below creates a plot to display the \"water\" and \"feel\" features of a test movie and some training movies. As you can see in the result, *Monty Python and the Holy Grail* is more similar to *Clerks.* than to the *The Godfather* based on these features, which makes sense as both movies are comedy movies, while *The Godfather* is a thriller."
   ]
  },
  {
   "cell_type": "code",
   "execution_count": 29,
   "id": "37c9cc8e-a07a-40b9-be33-655888ec43b1",
   "metadata": {},
   "outputs": [
    {
     "data": {
      "image/png": "[encoded data removed]",
      "text/plain": [
       "<Figure size 500x500 with 1 Axes>"
      ]
     },
     "metadata": {},
     "output_type": "display_data"
    }
   ],
   "source": [
    "# Just run this cell.\n",
    "def plot_with_two_features(test_movie, training_movies, x_feature, y_feature):\n",
    "    \"\"\"Plot a test movie and training movies using two features.\"\"\"\n",
    "    test_row = row_for_title(test_movie)\n",
    "    distances = Table().with_columns(\n",
    "            x_feature, [test_row.item(x_feature)],\n",
    "            y_feature, [test_row.item(y_feature)],\n",
    "            'Color',   ['unknown'],\n",
    "            'Title',   [test_movie]\n",
    "        )\n",
    "    for movie in training_movies:\n",
    "        row = row_for_title(movie)\n",
    "        distances.append([row.item(x_feature), row.item(y_feature), row.item('Genre'), movie])\n",
    "    distances.scatter(x_feature, y_feature, group='Color', labels='Title', s=50)\n",
    "    \n",
    "training = [\"clerks.\", \"the godfather\"] \n",
    "plot_with_two_features(\"monty python and the holy grail\", training, \"water\", \"feel\")\n",
    "plt.axis([-0.0008, 0.001, -0.004, 0.007]);"
   ]
  },
  {
   "cell_type": "markdown",
   "id": "d080e9a8-e4bd-4169-8302-52567ca802a9",
   "metadata": {},
   "source": [
    "#### Task 2.1.1 📍"
   ]
  },
  {
   "cell_type": "markdown",
   "id": "940ec96c-075f-4bf9-b806-f5482c613cd5",
   "metadata": {
    "deletable": false,
    "editable": false
   },
   "source": [
    "Compute the Euclidean distance (defined in the section above) between the two movies, *Monty Python and the Holy Grail* and *The Godfather*, using the `water` and `feel` features only.  Assign it the name `one_distance`. \n",
    "\n",
    "*Hint 1:* If you have a row, you can use `item` to get a value from a column by its name.  For example, if `r` is a row, then `r.item(\"Genre\")` is the value in column `\"Genre\"` in row `r`.\n",
    "\n",
    "*Hint 2:* Refer to the beginning of Part 1 if you don't remember what `row_for_title` does.\n",
    "\n",
    "*Hint 3:* In the formula for Euclidean distance, think carefully about what `x` and `y` represent. Refer to the example in the text above if you are unsure.\n",
    "\n",
    "_Points:_ 2"
   ]
  },
  {
   "cell_type": "code",
   "execution_count": null,
   "id": "9083f3ad-9b7d-482e-a4ee-381f28cb9f2a",
   "metadata": {
    "tags": []
   },
   "outputs": [],
   "source": [
    "python = row_for_title(\"monty python and the holy grail\") \n",
    "godfather = row_for_title(\"the godfather\") \n",
    "\n",
    "one_distance = ...\n",
    "one_distance"
   ]
  },
  {
   "cell_type": "code",
   "execution_count": 30,
   "id": "970f58ad-fe21-480e-babe-171be4d20c00",
   "metadata": {},
   "outputs": [
    {
     "data": {
      "text/plain": [
       "0.0012225209151294461"
      ]
     },
     "execution_count": 30,
     "metadata": {},
     "output_type": "execute_result"
    }
   ],
   "source": [
    "python = row_for_title(\"monty python and the holy grail\")\n",
    "godfather = row_for_title(\"the godfather\")\n",
    "x1 = python.item(\"water\")\n",
    "y1 = python.item(\"feel\")\n",
    "x2 = godfather.item(\"water\")\n",
    "y2 = godfather.item(\"feel\")\n",
    "\n",
    "one_distance = ((x2 - x1) ** 2 + (y2 - y1) ** 2) ** 0.5\n",
    "one_distance\n"
   ]
  },
  {
   "cell_type": "code",
   "execution_count": 31,
   "id": "f1c2e51b",
   "metadata": {
    "deletable": false,
    "editable": false
   },
   "outputs": [
    {
     "data": {
      "text/html": [
       "<p><strong><pre style='display: inline;'>task_2_1_1</pre></strong> passed! ✨</p><p><strong><pre style='display: inline;'>task_2_1_1 - 1</pre> message:</strong> ✅ one_distance is between 0 and 0.01.</p>"
      ],
      "text/plain": [
       "task_2_1_1 results: All test cases passed!\n",
       "task_2_1_1 - 1 message: ✅ one_distance is between 0 and 0.01."
      ]
     },
     "execution_count": 31,
     "metadata": {},
     "output_type": "execute_result"
    }
   ],
   "source": [
    "grader.check(\"task_2_1_1\")"
   ]
  },
  {
   "cell_type": "markdown",
   "id": "f1df8ec4-e0af-47c6-9571-885568731cf9",
   "metadata": {},
   "source": [
    "Below, we've added a third training movie, *The Silence of the Lambs*. Before, the point closest to *Monty Python and the Holy Grail* was *Clerks.*, a comedy movie. However, now the closest point is *The Silence of the Lambs*, a thriller movie."
   ]
  },
  {
   "cell_type": "code",
   "execution_count": 32,
   "id": "30648b55-d5f6-4e82-b1ce-d9cae90245e7",
   "metadata": {},
   "outputs": [
    {
     "data": {
      "image/png": "[encoded data removed]",
      "text/plain": [
       "<Figure size 500x500 with 1 Axes>"
      ]
     },
     "metadata": {},
     "output_type": "display_data"
    }
   ],
   "source": [
    "training = [\"clerks.\", \"the godfather\", \"the silence of the lambs\"] \n",
    "plot_with_two_features(\"monty python and the holy grail\", training, \"water\", \"feel\") \n",
    "plt.axis([-0.0008, 0.001, -0.004, 0.007]);"
   ]
  },
  {
   "cell_type": "markdown",
   "id": "e2db77bc-feca-4407-ab75-351c2a259a12",
   "metadata": {},
   "source": [
    "#### Task 2.1.2 📍"
   ]
  },
  {
   "cell_type": "markdown",
   "id": "50602032-cb16-4148-b379-5daedbbb9c98",
   "metadata": {
    "deletable": false,
    "editable": false,
    "tags": []
   },
   "source": [
    "Complete the function `distance_two_features` that computes the Euclidean distance between any two movies, using two features. The last two lines call your function to show that *Monty Python and the Holy Grail* is closer to *The Silence of the Lambs* than it is to *Clerks*. \n",
    "\n",
    "_Points:_ 2"
   ]
  },
  {
   "cell_type": "code",
   "execution_count": null,
   "id": "d44349e8-307c-4717-9e2d-a4a95b3ba587",
   "metadata": {
    "tags": []
   },
   "outputs": [],
   "source": [
    "def distance_two_features(title0, title1, x_feature, y_feature):\n",
    "    \"\"\"Compute the distance between two movies with titles title0 and title1.\n",
    "    \n",
    "    Only the features named x_feature and y_feature are used when computing the distance.\n",
    "    \"\"\"\n",
    "    row0 = ...\n",
    "    row1 = ...\n",
    "    ...\n",
    "\n",
    "for movie in make_array(\"clerks.\", \"the silence of the lambs\"):\n",
    "    movie_distance = distance_two_features(movie, \"monty python and the holy grail\", \"water\", \"feel\")\n",
    "    print(movie, 'distance:\\t', movie_distance)"
   ]
  },
  {
   "cell_type": "code",
   "execution_count": 33,
   "id": "175239c1-2135-40c3-85fb-2d153a3fcb5a",
   "metadata": {},
   "outputs": [
    {
     "name": "stdout",
     "output_type": "stream",
     "text": [
      "clerks. distance:\t 0.000798381068723\n",
      "the silence of the lambs distance:\t 0.000222563148556\n"
     ]
    }
   ],
   "source": [
    "def distance_two_features(title0, title1, x_feature, y_feature):\n",
    "    \"\"\"Compute the distance between two movies with titles title0 and title1.\n",
    "    \n",
    "    Only the features named x_feature and y_feature are used when computing the distance.\n",
    "    \"\"\"\n",
    "    row0 = row_for_title(title0)\n",
    "    x0 = row0.item(x_feature)\n",
    "    y0 = row0.item(y_feature)\n",
    "    \n",
    "    row1 = row_for_title(title1)\n",
    "    x1 = row1.item(x_feature)\n",
    "    y1 = row1.item(y_feature)\n",
    "    \n",
    "    distance = ((x1 - x0) ** 2 + (y1 - y0) ** 2) ** 0.5\n",
    "    return distance\n",
    "\n",
    "for movie in make_array(\"clerks.\", \"the silence of the lambs\"):\n",
    "    movie_distance = distance_two_features(movie, \"monty python and the holy grail\", \"water\", \"feel\")\n",
    "    print(movie, 'distance:\\t', movie_distance)"
   ]
  },
  {
   "cell_type": "code",
   "execution_count": 34,
   "id": "455e4c0c",
   "metadata": {
    "deletable": false,
    "editable": false
   },
   "outputs": [
    {
     "data": {
      "text/html": [
       "<p><strong><pre style='display: inline;'>task_2_1_2</pre></strong> passed! ✨</p><p><strong><pre style='display: inline;'>task_2_1_2 - 1</pre> message:</strong> ✅ distance_two_features('clerks.', 'the godfather', 'water', 'feel') returned the correct distance.</p><p><strong><pre style='display: inline;'>task_2_1_2 - 2</pre> message:</strong> ✅ distance_two_features('clerks.', 'the godfather', 'your', 'that') returned the correct distance.</p>"
      ],
      "text/plain": [
       "task_2_1_2 results: All test cases passed!\n",
       "task_2_1_2 - 1 message: ✅ distance_two_features('clerks.', 'the godfather', 'water', 'feel') returned the correct distance.\n",
       "task_2_1_2 - 2 message: ✅ distance_two_features('clerks.', 'the godfather', 'your', 'that') returned the correct distance."
      ]
     },
     "execution_count": 34,
     "metadata": {},
     "output_type": "execute_result"
    }
   ],
   "source": [
    "grader.check(\"task_2_1_2\")"
   ]
  },
  {
   "cell_type": "markdown",
   "id": "d5a419b6-8fd1-4953-883a-1d602425b9c8",
   "metadata": {},
   "source": [
    "#### Task 2.1.3 📍"
   ]
  },
  {
   "cell_type": "markdown",
   "id": "4d7937a0-8b91-41d2-b3f2-39b0e795e8c7",
   "metadata": {
    "deletable": false,
    "editable": false
   },
   "source": [
    "Define the function `distance_from_python` so that it works as described in its documentation. \n",
    "\n",
    "**Note:** Your solution should not use arithmetic operations directly. Instead, it should make use of existing functionality above!\n",
    "\n",
    "_Points:_ 2"
   ]
  },
  {
   "cell_type": "code",
   "execution_count": null,
   "id": "3acfbfa3-42d1-4af9-a56d-918d38ee91a5",
   "metadata": {
    "tags": []
   },
   "outputs": [],
   "source": [
    "def distance_from_python(title):\n",
    "    \"\"\"The distance between the given movie and \"monty python and the holy grail\", \n",
    "    based on the features \"water\" and \"feel\".\n",
    "    \n",
    "    This function takes a single argument:\n",
    "      title: A string, the name of a movie.\n",
    "    \"\"\"\n",
    "    \n",
    "    ...\n",
    "\n",
    "# Calculate the distance between \"Clerks.\" and \"Monty Python and the Holy Grail\"\n",
    "distance_from_python('clerks.')"
   ]
  },
  {
   "cell_type": "code",
   "execution_count": 35,
   "id": "8390aa2e-4c55-4cfe-888a-b5d7b3b06a70",
   "metadata": {},
   "outputs": [
    {
     "data": {
      "text/plain": [
       "0.00079838106872277164"
      ]
     },
     "execution_count": 35,
     "metadata": {},
     "output_type": "execute_result"
    }
   ],
   "source": [
    "def distance_from_python(title):\n",
    "    \"\"\"The distance between the given movie and \"monty python and the holy grail\", \n",
    "    based on the features \"water\" and \"feel\".\n",
    "    \n",
    "    This function takes a single argument:\n",
    "      title: A string, the name of a movie.\n",
    "    \"\"\"\n",
    "    distance = distance_two_features(title, \"monty python and the holy grail\", \"water\", \"feel\")\n",
    "    return distance\n",
    "\n",
    "# Calculate the distance between \"Clerks.\" and \"Monty Python and the Holy Grail\"\n",
    "distance_from_python('clerks.')"
   ]
  },
  {
   "cell_type": "code",
   "execution_count": 36,
   "id": "5108bdfc",
   "metadata": {
    "deletable": false,
    "editable": false
   },
   "outputs": [
    {
     "data": {
      "text/html": [
       "<p><strong><pre style='display: inline;'>task_2_1_3</pre></strong> passed! 🌈</p><p><strong><pre style='display: inline;'>task_2_1_3 - 1</pre> message:</strong> ✅ distance_from_python('clerks.') returned a reasonably correct distance.</p>"
      ],
      "text/plain": [
       "task_2_1_3 results: All test cases passed!\n",
       "task_2_1_3 - 1 message: ✅ distance_from_python('clerks.') returned a reasonably correct distance."
      ]
     },
     "execution_count": 36,
     "metadata": {},
     "output_type": "execute_result"
    }
   ],
   "source": [
    "grader.check(\"task_2_1_3\")"
   ]
  },
  {
   "cell_type": "markdown",
   "id": "1b2e5378-0821-4a9e-a5f0-ee08bdab0a29",
   "metadata": {},
   "source": [
    "#### Task 2.1.4 📍"
   ]
  },
  {
   "cell_type": "markdown",
   "id": "0f166c64-afac-4f89-ae12-7ddc365e1d2b",
   "metadata": {
    "deletable": false,
    "editable": false,
    "tags": []
   },
   "source": [
    "Using the features `\"water\"` and `\"feel\"`, what are the names and genres of the 5 movies in the **training set** closest to *Monty Python and the Holy Grail*?  To address this task, make a **table** named `close_movies` containing those 5 movies with columns `\"Title\"`, `\"Genre\"`, `\"water\"`, and `\"feel\"`, as well as a column called `\"distance from python\"` that contains the distance from *Monty Python and the Holy Grail*.  The table should be **sorted in ascending order by `\"distance from python\"`**.\n",
    "\n",
    "*Note:* Why are smaller distances from *Monty Python and the Holy Grail* more helpful in helping us classify the movie?\n",
    "\n",
    "*Hint:* Your final table should only have 5 rows. How can you get the first five rows of a table?\n",
    "\n",
    "_Points:_ 4"
   ]
  },
  {
   "cell_type": "code",
   "execution_count": null,
   "id": "2507ad45-6ff9-41d5-9dbb-8120806b8bb2",
   "metadata": {
    "for_assignment_type": "solution",
    "tags": []
   },
   "outputs": [],
   "source": [
    "\n",
    "# The staff solution took multiple lines.\n",
    "...\n",
    "close_movies = ...\n",
    "close_movies"
   ]
  },
  {
   "cell_type": "code",
   "execution_count": 37,
   "id": "61c877c5-47f5-4449-80c5-e2367d78effb",
   "metadata": {},
   "outputs": [
    {
     "data": {
      "text/html": [
       "<table border=\"1\" class=\"dataframe\">\n",
       "    <thead>\n",
       "        <tr>\n",
       "            <th>Title</th> <th>Genre</th> <th>water</th> <th>feel</th> <th>distance from python</th>\n",
       "        </tr>\n",
       "    </thead>\n",
       "    <tbody>\n",
       "        <tr>\n",
       "            <td>alien                   </td> <td>thriller</td> <td>0.00070922 </td> <td>0.00124113 </td> <td>0.000193831         </td>\n",
       "        </tr>\n",
       "        <tr>\n",
       "            <td>tomorrow never dies     </td> <td>thriller</td> <td>0.000888889</td> <td>0.000888889</td> <td>0.00020189          </td>\n",
       "        </tr>\n",
       "        <tr>\n",
       "            <td>the silence of the lambs</td> <td>thriller</td> <td>0.000595948</td> <td>0.000993246</td> <td>0.000222563         </td>\n",
       "        </tr>\n",
       "        <tr>\n",
       "            <td>innerspace              </td> <td>comedy  </td> <td>0.000522193</td> <td>0.00104439 </td> <td>0.00028324          </td>\n",
       "        </tr>\n",
       "        <tr>\n",
       "            <td>some like it hot        </td> <td>comedy  </td> <td>0.000528541</td> <td>0.000951374</td> <td>0.00030082          </td>\n",
       "        </tr>\n",
       "    </tbody>\n",
       "</table>"
      ],
      "text/plain": [
       "Title                    | Genre    | water       | feel        | distance from python\n",
       "alien                    | thriller | 0.00070922  | 0.00124113  | 0.000193831\n",
       "tomorrow never dies      | thriller | 0.000888889 | 0.000888889 | 0.00020189\n",
       "the silence of the lambs | thriller | 0.000595948 | 0.000993246 | 0.000222563\n",
       "innerspace               | comedy   | 0.000522193 | 0.00104439  | 0.00028324\n",
       "some like it hot         | comedy   | 0.000528541 | 0.000951374 | 0.00030082"
      ]
     },
     "execution_count": 37,
     "metadata": {},
     "output_type": "execute_result"
    }
   ],
   "source": [
    "distances = Table().with_columns([\n",
    "    \"Title\", train_movies.column(\"Title\"),\n",
    "    \"Genre\", train_movies.column(\"Genre\"),\n",
    "    \"water\", train_movies.column(\"water\"),\n",
    "    \"feel\", train_movies.column(\"feel\"),\n",
    "    \"distance from python\", [distance_from_python(movie) for movie in train_movies.column(\"Title\")]\n",
    "])\n",
    "\n",
    "distances_sorted = distances.sort(\"distance from python\")\n",
    "\n",
    "close_movies = distances_sorted.take(np.arange(5))\n",
    "\n",
    "close_movies\n"
   ]
  },
  {
   "cell_type": "code",
   "execution_count": 38,
   "id": "25080be5",
   "metadata": {
    "deletable": false,
    "editable": false
   },
   "outputs": [
    {
     "data": {
      "text/html": [
       "<p><strong><pre style='display: inline;'>task_2_1_4</pre></strong> passed! 🎉</p><p><strong><pre style='display: inline;'>task_2_1_4 - 1</pre> message:</strong> ✅ close_movies has the correct labels.</p><p><strong><pre style='display: inline;'>task_2_1_4 - 2</pre> message:</strong> ✅ close_movies has the correct number of rows.</p><p><strong><pre style='display: inline;'>task_2_1_4 - 3</pre> message:</strong> ✅ It seems like you are using the training set.</p>"
      ],
      "text/plain": [
       "task_2_1_4 results: All test cases passed!\n",
       "task_2_1_4 - 1 message: ✅ close_movies has the correct labels.\n",
       "task_2_1_4 - 2 message: ✅ close_movies has the correct number of rows.\n",
       "task_2_1_4 - 3 message: ✅ It seems like you are using the training set."
      ]
     },
     "execution_count": 38,
     "metadata": {},
     "output_type": "execute_result"
    }
   ],
   "source": [
    "grader.check(\"task_2_1_4\")"
   ]
  },
  {
   "cell_type": "markdown",
   "id": "32343394-a8ab-4e8a-a155-f4a121836bd2",
   "metadata": {},
   "source": [
    "#### Task 2.1.5 📍"
   ]
  },
  {
   "cell_type": "markdown",
   "id": "3fbb0fcd-f0ae-445b-a4c2-86d11bdcb7f8",
   "metadata": {
    "deletable": false,
    "editable": false
   },
   "source": [
    "Next, we'll clasify *Monty Python and the Holy Grail* based on the genres of the closest movies. \n",
    "\n",
    "To do so, define the function `most_common` so that it works as described in its documentation below. \n",
    "\n",
    "_Points:_ 1"
   ]
  },
  {
   "cell_type": "code",
   "execution_count": null,
   "id": "23218cd4-4346-4490-bc08-6296f58cb2b2",
   "metadata": {
    "scrolled": true,
    "tags": []
   },
   "outputs": [],
   "source": [
    "def most_common(label, table):\n",
    "    \"\"\"The most common element in a column of a table.\n",
    "    \n",
    "    This function takes two arguments:\n",
    "      label: The label of a column, a string.\n",
    "      table: A table.\n",
    "     \n",
    "    It returns the most common value in the label column of the table.\n",
    "    In case of a tie, it returns any one of the most common values.    \n",
    "    \"\"\"\n",
    "    ...\n",
    "\n",
    "# Calling most_common on your table of 5 nearest neighbors classifies\n",
    "# \"monty python and the holy grail\" as a thriller movie, 3 votes to 2. \n",
    "most_common('Genre', close_movies)"
   ]
  },
  {
   "cell_type": "code",
   "execution_count": 39,
   "id": "870207c5-981e-4e62-9c55-d20c85578b0a",
   "metadata": {},
   "outputs": [
    {
     "data": {
      "text/plain": [
       "'thriller'"
      ]
     },
     "execution_count": 39,
     "metadata": {},
     "output_type": "execute_result"
    }
   ],
   "source": [
    "def most_common(label, table):\n",
    "    \"\"\"The most common element in a column of a table.\n",
    "    \n",
    "    This function takes two arguments:\n",
    "      label: The label of a column, a string.\n",
    "      table: A table.\n",
    "     \n",
    "    It returns the most common value in the label column of the table.\n",
    "    In case of a tie, it returns any one of the most common values.    \n",
    "    \"\"\"\n",
    "    counts = table.group(label)\n",
    "    \n",
    "    max_count = max(counts.column(\"count\"))\n",
    "    most_common_values = counts.where(\"count\", max_count).column(label)\n",
    "    \n",
    "    return most_common_values.item(0)\n",
    "\n",
    "# Calling most_common on your table of 5 nearest neighbors classifies\n",
    "# \"monty python and the holy grail\" as a thriller movie, 3 votes to 2. \n",
    "most_common('Genre', close_movies)\n"
   ]
  },
  {
   "cell_type": "code",
   "execution_count": 40,
   "id": "adeb4428",
   "metadata": {
    "deletable": false,
    "editable": false
   },
   "outputs": [
    {
     "data": {
      "text/html": [
       "<p><strong><pre style='display: inline;'>task_2_1_5</pre></strong> passed! 🚀</p><p><strong><pre style='display: inline;'>task_2_1_5 - 1</pre> message:</strong> ✅ most_common worked correctly for our test case.</p>"
      ],
      "text/plain": [
       "task_2_1_5 results: All test cases passed!\n",
       "task_2_1_5 - 1 message: ✅ most_common worked correctly for our test case."
      ]
     },
     "execution_count": 40,
     "metadata": {},
     "output_type": "execute_result"
    }
   ],
   "source": [
    "grader.check(\"task_2_1_5\")"
   ]
  },
  {
   "cell_type": "markdown",
   "id": "b266b125-25ce-43e5-a1fb-cec7503f180d",
   "metadata": {},
   "source": [
    "Congratulations are in order -- you've classified your first movie! However, we can see that the classifier doesn't work too well since it categorized *Monty Python and the Holy Grail* as a thriller movie (unless you count the thrilling holy hand grenade scene). Let's see if we can do better!"
   ]
  },
  {
   "cell_type": "markdown",
   "id": "0a21d1ce-641f-48c2-86d2-51521da0a94f",
   "metadata": {},
   "source": [
    "## 👋 Submit your Progress Check to Canvas"
   ]
  },
  {
   "cell_type": "markdown",
   "id": "af64f4e5-597f-4426-9671-3feffe7fa7bd",
   "metadata": {},
   "source": [
    "1. In the related Canvas Assignment page, check the requirements for a Complete score for this checkpoint.\n",
    "1. Run the following code cell that will run all of the auto-graders tests for the above tasks.\n",
    "2. Remember that Tasks 1.2.2 and 1.3.1 will need to be manually reviewed.\n",
    "4. Select the menu items \"File\", \"Save and Export Notebook As...\", and \"HTML (.html)\" in the notebook's Toolbar to download an HTML version of this notebook file.\n",
    "5. In the related Canvas Assignment page, click Start Assignment or New Attempt to upload the downloaded HTML file.\n",
    "\n",
    "**Keep in mind that the autograder does not always check for correctness. Sometimes it just checks for the format of your answer, so passing the autograder for a question does not mean you got the answer correct for that question.**"
   ]
  },
  {
   "cell_type": "markdown",
   "id": "88dc0ca9-ffcf-473f-8cc4-4b3ae93c39f3",
   "metadata": {},
   "source": [
    "--- \n",
    "The cell below will re-run all of the autograder tests for Part 1 and Part 2 to double check your work."
   ]
  },
  {
   "cell_type": "code",
   "execution_count": 41,
   "id": "cdd98a71-1444-486f-baec-decc638b9a0f",
   "metadata": {},
   "outputs": [
    {
     "data": {
      "text/html": [
       "<p><strong><pre style='display: inline;'>task_1_1</pre></strong> passed! 💯</p><p><strong><pre style='display: inline;'>task_1_1 - 1</pre> message:</strong> ✅ expected_row_sum is greater than 0.</p>"
      ],
      "text/plain": [
       "task_1_1 results: All test cases passed!\n",
       "task_1_1 - 1 message: ✅ expected_row_sum is greater than 0."
      ]
     },
     "metadata": {},
     "output_type": "display_data"
    },
    {
     "data": {
      "text/html": [
       "<p><strong><pre style='display: inline;'>task_1_1_2</pre></strong> passed! 🙌</p><p><strong><pre style='display: inline;'>task_1_1_2 - 1</pre> message:</strong> ✅ most_stem is a string.</p>"
      ],
      "text/plain": [
       "task_1_1_2 results: All test cases passed!\n",
       "task_1_1_2 - 1 message: ✅ most_stem is a string."
      ]
     },
     "metadata": {},
     "output_type": "display_data"
    },
    {
     "data": {
      "text/html": [
       "<p><strong><pre style='display: inline;'>task_1_1_3</pre></strong> passed! ✨</p><p><strong><pre style='display: inline;'>task_1_1_3 - 1</pre> message:</strong> ✅ longest_uncut is a string.</p>"
      ],
      "text/plain": [
       "task_1_1_3 results: All test cases passed!\n",
       "task_1_1_3 - 1 message: ✅ longest_uncut is a string."
      ]
     },
     "metadata": {},
     "output_type": "display_data"
    },
    {
     "data": {
      "text/html": [
       "<p><strong><pre style='display: inline;'>task_1_1_4</pre></strong> passed! 💯</p><p><strong><pre style='display: inline;'>task_1_1_4 - 1</pre> message:</strong> ✅ count_single_stems is an integer.</p>"
      ],
      "text/plain": [
       "task_1_1_4 results: All test cases passed!\n",
       "task_1_1_4 - 1 message: ✅ count_single_stems is an integer."
      ]
     },
     "metadata": {},
     "output_type": "display_data"
    },
    {
     "data": {
      "text/html": [
       "<p><strong><pre style='display: inline;'>task_1_2_1</pre></strong> passed! 💯</p><p><strong><pre style='display: inline;'>task_1_2_1 - 1</pre> message:</strong> ✅ outer_space_r is between 0.2 and 0.4.</p>"
      ],
      "text/plain": [
       "task_1_2_1 results: All test cases passed!\n",
       "task_1_2_1 - 1 message: ✅ outer_space_r is between 0.2 and 0.4."
      ]
     },
     "metadata": {},
     "output_type": "display_data"
    },
    {
     "data": {
      "text/html": [
       "<p><strong><pre style='display: inline;'>task_1_2_3</pre></strong> passed! 🌈</p><p><strong><pre style='display: inline;'>task_1_2_3 - 1</pre> message:</strong> ✅ san_francisco is an integer.</p>"
      ],
      "text/plain": [
       "task_1_2_3 results: All test cases passed!\n",
       "task_1_2_3 - 1 message: ✅ san_francisco is an integer."
      ]
     },
     "metadata": {},
     "output_type": "display_data"
    },
    {
     "data": {
      "text/html": [
       "<p><strong><pre style='display: inline;'>task_2_1_1</pre></strong> passed! 🙌</p><p><strong><pre style='display: inline;'>task_2_1_1 - 1</pre> message:</strong> ✅ one_distance is between 0 and 0.01.</p>"
      ],
      "text/plain": [
       "task_2_1_1 results: All test cases passed!\n",
       "task_2_1_1 - 1 message: ✅ one_distance is between 0 and 0.01."
      ]
     },
     "metadata": {},
     "output_type": "display_data"
    },
    {
     "data": {
      "text/html": [
       "<p><strong><pre style='display: inline;'>task_2_1_2</pre></strong> passed! 🎉</p><p><strong><pre style='display: inline;'>task_2_1_2 - 1</pre> message:</strong> ✅ distance_two_features('clerks.', 'the godfather', 'water', 'feel') returned the correct distance.</p><p><strong><pre style='display: inline;'>task_2_1_2 - 2</pre> message:</strong> ✅ distance_two_features('clerks.', 'the godfather', 'your', 'that') returned the correct distance.</p>"
      ],
      "text/plain": [
       "task_2_1_2 results: All test cases passed!\n",
       "task_2_1_2 - 1 message: ✅ distance_two_features('clerks.', 'the godfather', 'water', 'feel') returned the correct distance.\n",
       "task_2_1_2 - 2 message: ✅ distance_two_features('clerks.', 'the godfather', 'your', 'that') returned the correct distance."
      ]
     },
     "metadata": {},
     "output_type": "display_data"
    },
    {
     "data": {
      "text/html": [
       "<p><strong><pre style='display: inline;'>task_2_1_3</pre></strong> passed! 🎉</p><p><strong><pre style='display: inline;'>task_2_1_3 - 1</pre> message:</strong> ✅ distance_from_python('clerks.') returned a reasonably correct distance.</p>"
      ],
      "text/plain": [
       "task_2_1_3 results: All test cases passed!\n",
       "task_2_1_3 - 1 message: ✅ distance_from_python('clerks.') returned a reasonably correct distance."
      ]
     },
     "metadata": {},
     "output_type": "display_data"
    },
    {
     "data": {
      "text/html": [
       "<p><strong><pre style='display: inline;'>task_2_1_4</pre></strong> passed! 🙌</p><p><strong><pre style='display: inline;'>task_2_1_4 - 1</pre> message:</strong> ✅ close_movies has the correct labels.</p><p><strong><pre style='display: inline;'>task_2_1_4 - 2</pre> message:</strong> ✅ close_movies has the correct number of rows.</p><p><strong><pre style='display: inline;'>task_2_1_4 - 3</pre> message:</strong> ✅ It seems like you are using the training set.</p>"
      ],
      "text/plain": [
       "task_2_1_4 results: All test cases passed!\n",
       "task_2_1_4 - 1 message: ✅ close_movies has the correct labels.\n",
       "task_2_1_4 - 2 message: ✅ close_movies has the correct number of rows.\n",
       "task_2_1_4 - 3 message: ✅ It seems like you are using the training set."
      ]
     },
     "metadata": {},
     "output_type": "display_data"
    },
    {
     "data": {
      "text/html": [
       "<p><strong><pre style='display: inline;'>task_2_1_5</pre></strong> passed! 🚀</p><p><strong><pre style='display: inline;'>task_2_1_5 - 1</pre> message:</strong> ✅ most_common worked correctly for our test case.</p>"
      ],
      "text/plain": [
       "task_2_1_5 results: All test cases passed!\n",
       "task_2_1_5 - 1 message: ✅ most_common worked correctly for our test case."
      ]
     },
     "metadata": {},
     "output_type": "display_data"
    }
   ],
   "source": [
    "try:\n",
    "    checkpoint_tests = [\"task_1_1\", \"task_1_1_2\", \"task_1_1_3\", \"task_1_1_4\",\n",
    "                        \"task_1_2_1\", \"task_1_2_3\", \"task_2_1_1\", \"task_2_1_2\",\n",
    "                        \"task_2_1_3\", \"task_2_1_4\", \"task_2_1_5\"]\n",
    "    for test in checkpoint_tests:\n",
    "        display(grader.check(test))\n",
    "except NameError:\n",
    "    print('The auto-grader has not be initialized.')"
   ]
  },
  {
   "cell_type": "markdown",
   "id": "df184d8c-ce94-4185-85e8-5fdb6a097a9a",
   "metadata": {},
   "source": [
    "## ✨ Part 3: Features"
   ]
  },
  {
   "cell_type": "markdown",
   "id": "3e07a9c9-83f1-46ac-b82d-cd59161760ba",
   "metadata": {},
   "source": [
    "Now, we're going to extend our classifier to consider more than two features at a time.\n",
    "\n",
    "Euclidean distance still makes sense with more than two features. For `n` different features, we compute the difference between corresponding feature values for two movies, square each of the `n`  differences, sum up the resulting numbers, and take the square root of the sum."
   ]
  },
  {
   "cell_type": "markdown",
   "id": "0d0e6d6f-7e8a-4390-a431-56dc8da64bc0",
   "metadata": {},
   "source": [
    "### Task 3.1 📍"
   ]
  },
  {
   "cell_type": "markdown",
   "id": "df0f5831-e8d0-4b8b-a0a6-fb8a466908e0",
   "metadata": {
    "deletable": false,
    "editable": false
   },
   "source": [
    "Write a function called `distance` to compute the Euclidean distance between two **arrays** of **numerical** features (e.g. arrays of the proportions of times that different words appear). The function should be able to calculate the Euclidean distance between two arrays of arbitrary (but equal) length.\n",
    "\n",
    "Next, use the function you just defined to compute the distance **between the first and second movie** in the **training set** *using all of the features*.  (Remember that the first five columns of your tables are not features.)\n",
    "\n",
    "*Hint 1:* To convert rows to arrays, use `np.array`. For example, if `t` was a table, `np.array(t.row(0))` converts row 0 of `t` into an array.\n",
    "\n",
    "*Hint 2:* Make sure to drop the first five columns of the table before you compute `distance_first_to_second`, as these columns do not contain any features (the proportions of words). \n",
    "\n",
    "_Points:_ 7"
   ]
  },
  {
   "cell_type": "code",
   "execution_count": null,
   "id": "cdf0a5e4-2c91-4beb-ba54-b2bd1d5b09c5",
   "metadata": {
    "tags": []
   },
   "outputs": [],
   "source": [
    "def distance(features_array1, features_array2):\n",
    "    \"\"\"The Euclidean distance between two arrays of feature values.\"\"\"\n",
    "    ...\n",
    "\n",
    "distance_first_to_second = ...\n",
    "distance_first_to_second"
   ]
  },
  {
   "cell_type": "code",
   "execution_count": null,
   "id": "e35ab345",
   "metadata": {
    "deletable": false,
    "editable": false
   },
   "outputs": [],
   "source": [
    "grader.check(\"task_3_1\")"
   ]
  },
  {
   "cell_type": "markdown",
   "id": "a075ae31-258d-4451-a370-056b5c2a4473",
   "metadata": {},
   "source": [
    "### Section 3.1: Creating your own feature set"
   ]
  },
  {
   "cell_type": "markdown",
   "id": "03cb6a2a-52d2-45b4-9ff6-6805cfb6deb0",
   "metadata": {},
   "source": [
    "Unfortunately, using all of the features has some downsides.  One clear downside is the lack of *computational efficiency* -- computing Euclidean distances just takes a long time when we have lots of features.  You might have noticed that in the last task!\n",
    "\n",
    "So we're going to select just 20.  We'd like to choose features that are very *discriminative*. That is, features which lead us to correctly classify as much of the test set as possible.  This process of choosing features that will make a classifier work well is sometimes called *feature selection*, or, more broadly, *feature engineering*."
   ]
  },
  {
   "cell_type": "markdown",
   "id": "cdf2a364-54c0-4433-9269-126d9fd4e2c3",
   "metadata": {},
   "source": [
    "In this question, we will help you get started on selecting more effective features for distinguishing comedy from thriller movies. The plot below (generated for you) shows the average proportion each word occurs in a comedy movie on the horizontal axis and the average proportion it occurs in an thriller movie on the vertical axis. The line graphed is the linear regression line.\n",
    "\n",
    "The interactive graphing library Plotly Express was used to create the scatter plot. When you have over the graph, a menu bar will appear that allows you to zoom in/out on various parts of the graph using the navigation bar and hover over points to see the word each point represents.\n",
    "\n",
    "*Note: The line graphed is the line of best fit, NOT the line y=x.*"
   ]
  },
  {
   "cell_type": "code",
   "execution_count": null,
   "id": "1f650534-6c19-48c3-b991-355178cc88b4",
   "metadata": {},
   "outputs": [],
   "source": [
    "# Run this cell to generate the interactive image\n",
    "words_with_averages = Table().read_table('word_averages.csv')\n",
    "\n",
    "px.scatter(words_with_averages.to_df(), \n",
    "           x=\"Average Occurence (Comedy)\", \n",
    "           y=\"Average Occurence (Thriller)\", \n",
    "           hover_data=['Word'], \n",
    "           trendline=\"ols\",\n",
    "           trendline_color_override=\"pink\",\n",
    "           title=\"Average Occurence (Comedy) vs. Average Occurence (Thriller)\")"
   ]
  },
  {
   "cell_type": "markdown",
   "id": "1469fc47-9a93-4bc7-8a1a-0f9e49a303e1",
   "metadata": {},
   "source": [
    "Tasks 3.1.1 through 3.1.4 will ask you to interpret the plot above. For each task, select one of the following choices and assign its number to the provided name.\n",
    "1. The word is common in both comedy and thriller movies \n",
    "2. The word is uncommon in comedy movies and common in thriller movies\n",
    "3. The word is common in comedy movies and uncommon in thriller movies\n",
    "4. The word is uncommon in both comedy and thriller movies\n",
    "5. It is not possible to say from the plot "
   ]
  },
  {
   "cell_type": "markdown",
   "id": "9f58e37b-77f0-4d6e-8015-1b5350554866",
   "metadata": {},
   "source": [
    "#### Task 3.1.1 📍"
   ]
  },
  {
   "cell_type": "markdown",
   "id": "61239035-8b8c-43ab-b166-5630701a19c4",
   "metadata": {
    "deletable": false,
    "editable": false
   },
   "source": [
    "What properties do words in the bottom left corner of the plot have? Your answer should be a single integer from 1 to 5, corresponding to the correct statement from the choices above.\n",
    "\n",
    "_Points:_ 2"
   ]
  },
  {
   "cell_type": "code",
   "execution_count": null,
   "id": "bef68b30-3e49-43d8-aa66-1457f7093563",
   "metadata": {
    "tags": []
   },
   "outputs": [],
   "source": [
    "bottom_left ="
   ]
  },
  {
   "cell_type": "code",
   "execution_count": null,
   "id": "348d321c",
   "metadata": {
    "deletable": false,
    "editable": false
   },
   "outputs": [],
   "source": [
    "grader.check(\"task_3_1_1\")"
   ]
  },
  {
   "cell_type": "markdown",
   "id": "8aaf4436-2c2e-4253-95fc-64076d312505",
   "metadata": {},
   "source": [
    "#### Task 3.1.2 📍"
   ]
  },
  {
   "cell_type": "markdown",
   "id": "03a85bd3-e324-4597-9d8f-71c390cc2d5a",
   "metadata": {
    "deletable": false,
    "editable": false
   },
   "source": [
    "What properties do words in the bottom right corner have?\n",
    "\n",
    "_Points:_ 2"
   ]
  },
  {
   "cell_type": "code",
   "execution_count": null,
   "id": "7daddd95-dd40-4f71-8390-12a69aa7730d",
   "metadata": {
    "tags": []
   },
   "outputs": [],
   "source": [
    "bottom_right ="
   ]
  },
  {
   "cell_type": "code",
   "execution_count": null,
   "id": "933067b4",
   "metadata": {
    "deletable": false,
    "editable": false
   },
   "outputs": [],
   "source": [
    "grader.check(\"task_3_1_2\")"
   ]
  },
  {
   "cell_type": "markdown",
   "id": "d0842f4d-9920-4fd5-80ae-b84e71dc46f4",
   "metadata": {},
   "source": [
    "#### Task 3.1.3 📍"
   ]
  },
  {
   "cell_type": "markdown",
   "id": "0acd7267-a685-49be-b2c6-14baec8f3991",
   "metadata": {
    "deletable": false,
    "editable": false
   },
   "source": [
    "What properties do words in the top right corner have? \n",
    "\n",
    "_Points:_ 2"
   ]
  },
  {
   "cell_type": "code",
   "execution_count": null,
   "id": "24181264-e324-4bdc-b8c6-ba42863beea4",
   "metadata": {
    "tags": []
   },
   "outputs": [],
   "source": [
    "top_right ="
   ]
  },
  {
   "cell_type": "code",
   "execution_count": null,
   "id": "55d6072c",
   "metadata": {
    "deletable": false,
    "editable": false
   },
   "outputs": [],
   "source": [
    "grader.check(\"task_3_1_3\")"
   ]
  },
  {
   "cell_type": "markdown",
   "id": "6d9905b3-a03e-4ce5-86cb-bb355ee7231d",
   "metadata": {},
   "source": [
    "#### Task 3.1.4 📍"
   ]
  },
  {
   "cell_type": "markdown",
   "id": "6f8e77de-db3b-4b06-96aa-88346d505377",
   "metadata": {
    "deletable": false,
    "editable": false
   },
   "source": [
    "What properties do words in the top left corner have?\n",
    "\n",
    "_Points:_ 2"
   ]
  },
  {
   "cell_type": "code",
   "execution_count": null,
   "id": "0b075a8c-8239-4cbe-92d5-76254d2f07ef",
   "metadata": {
    "tags": []
   },
   "outputs": [],
   "source": [
    "top_left ="
   ]
  },
  {
   "cell_type": "code",
   "execution_count": null,
   "id": "9bcd98cc",
   "metadata": {
    "deletable": false,
    "editable": false
   },
   "outputs": [],
   "source": [
    "grader.check(\"task_3_1_4\")"
   ]
  },
  {
   "cell_type": "markdown",
   "id": "5ee0ec07-7be4-454b-b25e-184b43c13281",
   "metadata": {},
   "source": [
    "#### Task 3.1.5 📍"
   ]
  },
  {
   "cell_type": "markdown",
   "id": "c3abe64e-3f00-4345-aeac-9294841e2b94",
   "metadata": {
    "deletable": false,
    "editable": false,
    "tags": []
   },
   "source": [
    "If we see a movie with a lot of words that are common for comedy movies but uncommon for thriller movies, what would be a reasonable guess about the genre of the movie? Assign `movie_genre` to the integer corresponding to your answer:\n",
    "1. It is a thriller movie.\n",
    "2. It is a comedy movie.\n",
    "\n",
    "_Points:_ 2"
   ]
  },
  {
   "cell_type": "code",
   "execution_count": null,
   "id": "84fac4f6-93ba-4b00-9a6b-5436ae855c2f",
   "metadata": {
    "tags": []
   },
   "outputs": [],
   "source": [
    "movie_genre_guess ="
   ]
  },
  {
   "cell_type": "code",
   "execution_count": null,
   "id": "3e65ec99",
   "metadata": {
    "deletable": false,
    "editable": false
   },
   "outputs": [],
   "source": [
    "grader.check(\"task_3_1_5\")"
   ]
  },
  {
   "cell_type": "markdown",
   "id": "befc5468-4b0f-4058-83c9-afc1fdf61d21",
   "metadata": {},
   "source": [
    "#### Task 3.1.6 📍"
   ]
  },
  {
   "cell_type": "markdown",
   "id": "a9e98889-cffc-4b82-87b7-822e04ac7079",
   "metadata": {
    "deletable": false,
    "editable": false
   },
   "source": [
    "Using the plot above, make an array of at least 10 common words that you think might let you **distinguish** between comedy and thriller movies. Make sure to choose words that are **frequent enough** that every movie contains at least one of them. Don't just choose the most frequent words though--you can do much better.\n",
    "\n",
    "_Points:_ 5"
   ]
  },
  {
   "cell_type": "code",
   "execution_count": null,
   "id": "c17d91a0-56e0-4706-8c45-1a33d01cabf0",
   "metadata": {
    "tags": []
   },
   "outputs": [],
   "source": [
    "# Set my_features to an array of at least 10 features (strings that are column labels)\n",
    "\n",
    "my_features = ...\n",
    "\n",
    "# Select the 10 features of interest from both the train and test sets\n",
    "train_my_features = train_movies.select(my_features)\n",
    "test_my_features = test_movies.select(my_features)"
   ]
  },
  {
   "cell_type": "code",
   "execution_count": null,
   "id": "b361610e",
   "metadata": {
    "deletable": false,
    "editable": false
   },
   "outputs": [],
   "source": [
    "grader.check(\"task_3_1_6\")"
   ]
  },
  {
   "cell_type": "markdown",
   "id": "dbff6c65-a38e-413e-8ade-b5576d94f942",
   "metadata": {},
   "source": [
    "This test makes sure that you have chosen words such that at least one appears in each movie. If you can't find words that satisfy this test just through intuition, try writing code to print out the titles of movies that do not contain any words from your list, then look at the words they do contain."
   ]
  },
  {
   "cell_type": "markdown",
   "id": "d3e6e4a9-147f-46cf-9312-35d9e8832838",
   "metadata": {},
   "source": [
    "#### Task 3.1.7 📍🔎"
   ]
  },
  {
   "cell_type": "markdown",
   "id": "b0c5bf87-78ed-4ab2-ac2b-e6623b35d055",
   "metadata": {
    "deletable": false,
    "editable": false,
    "tags": []
   },
   "source": [
    "<!-- BEGIN QUESTION -->\n",
    "\n",
    "In two sentences or less, describe how you selected your features.\n",
    "\n",
    "_Points:_ 2"
   ]
  },
  {
   "cell_type": "markdown",
   "id": "ef0f984a",
   "metadata": {},
   "source": [
    "_Type your answer here, replacing this text._"
   ]
  },
  {
   "cell_type": "markdown",
   "id": "902f9c43-a069-4b00-99ef-8e29add7c926",
   "metadata": {
    "deletable": false,
    "editable": false
   },
   "source": [
    "<!-- END QUESTION -->\n",
    "\n",
    "Next, let's classify the first movie from our test set using these features.  You can examine the movie by running the cells below. Do you think it will be classified correctly?"
   ]
  },
  {
   "cell_type": "code",
   "execution_count": null,
   "id": "cd684240-51da-4929-a65a-b0db1ddc8796",
   "metadata": {},
   "outputs": [],
   "source": [
    "print(\"Movie:\")\n",
    "test_movies.take(0).select('Title', 'Genre').show()\n",
    "print(\"Features:\")\n",
    "test_my_features.take(0).show()"
   ]
  },
  {
   "cell_type": "markdown",
   "id": "38ee4cf8-23d9-4531-b32a-ba641d0f9a3e",
   "metadata": {},
   "source": [
    "As before, we want to look for the movies in the training set that are most like our test movie.  We will calculate the Euclidean distances from the test movie (using `my_features`) to all movies in the training set.  You could do this with a `for` loop, but to make it computationally faster, we have provided a function, `fast_distances`, to do this for you.  Read its documentation to make sure you understand what it does.  (You don't need to understand the code in its body unless you want to.)"
   ]
  },
  {
   "cell_type": "code",
   "execution_count": null,
   "id": "ce18de3d-9692-43e0-90fc-3a48f9c26d05",
   "metadata": {},
   "outputs": [],
   "source": [
    "# Just run this cell to define fast_distances.\n",
    "\n",
    "def fast_distances(test_row, train_table):\n",
    "    \"\"\"Return an array of the distances between test_row and each row in train_table.\n",
    "\n",
    "    Takes 2 arguments:\n",
    "      test_row: A row of a table containing features of one\n",
    "        test movie (e.g., test_my_features.row(0)).\n",
    "      train_table: A table of features (for example, the whole\n",
    "        table train_my_features).\"\"\"\n",
    "    assert train_table.num_columns < 50, \"Make sure you're not using all the features of the movies table.\"\n",
    "    assert type(test_row) != datascience.tables.Table, \"Make sure you are passing in a row object to fast_distances.\"\n",
    "    assert len(test_row) == len(train_table.row(0)), \"Make sure the length of test row is the same as the length of a row in train_table.\"\n",
    "    counts_matrix = np.asmatrix(train_table.columns).transpose()\n",
    "    diff = np.tile(np.array(list(test_row)), [counts_matrix.shape[0], 1]) - counts_matrix\n",
    "    np.random.seed(0) # For tie breaking purposes\n",
    "    distances = np.squeeze(np.asarray(np.sqrt(np.square(diff).sum(1))))\n",
    "    eps = np.random.uniform(size=distances.shape)*1e-10 #Noise for tie break\n",
    "    distances = distances + eps\n",
    "    return distances"
   ]
  },
  {
   "cell_type": "markdown",
   "id": "ae6f3e69-3d7d-4a44-98c1-74515a65f8bc",
   "metadata": {},
   "source": [
    "#### Task 3.1.8 📍"
   ]
  },
  {
   "cell_type": "markdown",
   "id": "50a24af6-691f-42dc-86f8-b0610f9ab951",
   "metadata": {
    "deletable": false,
    "editable": false
   },
   "source": [
    "Use the `fast_distances` function provided above to compute the distance from the first movie in your test set to all the movies in your training set, **using your set of features**. Make a new table called `genre_and_distances` with one row for each movie in the training set and two columns:\n",
    "* The `\"Genre\"` of the training movie\n",
    "* The `\"Distance\"` from the first movie in the test set \n",
    "\n",
    "Ensure that `genre_and_distances` is **sorted in ascending order by distance to the first test movie**.\n",
    "\n",
    "*Hint:* Think about how you can use the variables you defined in 3.1.6.\n",
    "\n",
    "_Points:_ 4"
   ]
  },
  {
   "cell_type": "code",
   "execution_count": null,
   "id": "20559676-f414-4307-8b98-74cf633f4368",
   "metadata": {
    "for_assignment_type": "solution",
    "tags": []
   },
   "outputs": [],
   "source": [
    "# The staff solution took multiple lines of code.\n",
    "genre_and_distances = ...\n",
    "genre_and_distances"
   ]
  },
  {
   "cell_type": "code",
   "execution_count": null,
   "id": "ba8af1ee",
   "metadata": {
    "deletable": false,
    "editable": false
   },
   "outputs": [],
   "source": [
    "grader.check(\"task_3_1_8\")"
   ]
  },
  {
   "cell_type": "markdown",
   "id": "9925d4f9-0da3-4b3b-97c5-2ed20a1ad7d4",
   "metadata": {},
   "source": [
    "#### Task 3.1.9 📍"
   ]
  },
  {
   "cell_type": "markdown",
   "id": "8860b6f2-58ed-4c59-bf88-1db5edcb34a5",
   "metadata": {
    "deletable": false,
    "editable": false
   },
   "source": [
    "Now compute the 7-nearest neighbors classification of the first movie in the test set.  That is, decide on its genre by finding the most common genre among its 7 nearest neighbors in the training set, according to the distances you've calculated.  Then check whether your classifier chose the right genre.  (Depending on the features you chose, your classifier might not get this movie right, and that's okay.)\n",
    "\n",
    "*Hint:* You should use the `most_common` function that was defined earlier.\n",
    "\n",
    "\n",
    "_Points:_ 2"
   ]
  },
  {
   "cell_type": "code",
   "execution_count": null,
   "id": "1a0afe30-ec49-4b7a-9a3a-32569f06146e",
   "metadata": {
    "tags": []
   },
   "outputs": [],
   "source": [
    "# Set my_assigned_genre to the most common genre among these.\n",
    "my_assigned_genre = ...\n",
    "\n",
    "# Set my_assigned_genre_was_correct to True if my_assigned_genre\n",
    "# matches the actual genre of the first movie in the test set, False otherwise.\n",
    "my_assigned_genre_was_correct = ...\n",
    "\n",
    "print(\"The assigned genre, {}, was{}correct.\".format(my_assigned_genre, \" \" if my_assigned_genre_was_correct else \" not \"))"
   ]
  },
  {
   "cell_type": "code",
   "execution_count": null,
   "id": "3e0cfce4",
   "metadata": {
    "deletable": false,
    "editable": false
   },
   "outputs": [],
   "source": [
    "grader.check(\"task_3_1_9\")"
   ]
  },
  {
   "cell_type": "markdown",
   "id": "26007156-3e61-411f-8aa4-9c3caf8beead",
   "metadata": {},
   "source": [
    "### Section 3.2: A classifier function\n"
   ]
  },
  {
   "cell_type": "markdown",
   "id": "9a2cbab8-acd9-4388-938d-a4649035d60e",
   "metadata": {},
   "source": [
    "Now we can write a single function that encapsulates the whole process of classification."
   ]
  },
  {
   "cell_type": "markdown",
   "id": "640a3e68-1862-4e4c-8e62-1aa37223cb3e",
   "metadata": {},
   "source": [
    "#### Task 3.2.1 📍"
   ]
  },
  {
   "cell_type": "markdown",
   "id": "334291bf-943e-4e84-88c1-c721a848f1b4",
   "metadata": {
    "deletable": false,
    "editable": false
   },
   "source": [
    "Write a function called `classify`.  It should take the following four arguments:\n",
    "* A row of features for a movie to classify (e.g., `test_my_features.row(0)`).\n",
    "* A table with a column for each feature (e.g., `train_my_features`).\n",
    "* An array of classes (e.g. the labels \"comedy\" or \"thriller\") that has as many items as the previous table has rows, and in the same order. *Hint:* What are the labels of each row in the training set? \n",
    "* `k`, the number of neighbors to use in classification.\n",
    "\n",
    "It should return the class a `k`-nearest neighbor classifier picks for the given row of features (the string `'comedy'` or the string `'thriller'`). \n",
    "\n",
    "_Points:_ 2"
   ]
  },
  {
   "cell_type": "code",
   "execution_count": null,
   "id": "0a9beac7-f8e8-46ef-8277-0413a714fef5",
   "metadata": {
    "tags": []
   },
   "outputs": [],
   "source": [
    "def classify(test_row, train_features, train_labels, k):\n",
    "    \"\"\"Return the most common class among k nearest neigbors to test_row.\"\"\"\n",
    "    distances = fast_distances(test_row, train_features)\n",
    "    genre_and_distances = ...\n",
    "    ..."
   ]
  },
  {
   "cell_type": "code",
   "execution_count": null,
   "id": "5165d36f",
   "metadata": {
    "deletable": false,
    "editable": false
   },
   "outputs": [],
   "source": [
    "grader.check(\"task_3_2_1\")"
   ]
  },
  {
   "cell_type": "markdown",
   "id": "c088c9ce-4c9a-4e32-b192-e5561b4bd688",
   "metadata": {},
   "source": [
    "#### Task 3.2.2 📍"
   ]
  },
  {
   "cell_type": "markdown",
   "id": "656c668b-731e-4962-b792-07f74945629f",
   "metadata": {
    "deletable": false,
    "editable": false
   },
   "source": [
    "Assign `godzilla_genre` to the genre predicted by your classifier for the movie \"godzilla\" in the test set, using **15 neighbors** and using your 10 features. \n",
    "\n",
    "*Hint:* The `row_for_title` function will not work here.\n",
    "\n",
    "_Points:_ 1"
   ]
  },
  {
   "cell_type": "code",
   "execution_count": null,
   "id": "90fdde07-4e32-4c66-bff6-fd2f9bdfda17",
   "metadata": {
    "tags": []
   },
   "outputs": [],
   "source": [
    "# The staff solution first defined a row called godzilla_features.\n",
    "godzilla_features = ...\n",
    "godzilla_genre = ...\n",
    "godzilla_genre"
   ]
  },
  {
   "cell_type": "code",
   "execution_count": null,
   "id": "746e5c2d",
   "metadata": {
    "deletable": false,
    "editable": false
   },
   "outputs": [],
   "source": [
    "grader.check(\"task_3_2_2\")"
   ]
  },
  {
   "cell_type": "markdown",
   "id": "9d04c81b-da43-4298-8744-2dd7ff8df18d",
   "metadata": {},
   "source": [
    "Finally, when we evaluate our classifier, it will be useful to have a classification function that is specialized to use a fixed training set and a fixed value of `k`."
   ]
  },
  {
   "cell_type": "markdown",
   "id": "fdcb9a56-4e00-4485-beb6-536a132633d8",
   "metadata": {},
   "source": [
    "#### Task 3.2.3 📍"
   ]
  },
  {
   "cell_type": "markdown",
   "id": "15ecbf70-bf4a-4b56-9f4a-18d4135f40c2",
   "metadata": {
    "deletable": false,
    "editable": false
   },
   "source": [
    "Create a classification function that takes as its argument a row containing your 10 features and classifies that row using the 15-nearest neighbors algorithm with `train_my_features` as its training set. \n",
    "\n",
    "_Points:_ 1"
   ]
  },
  {
   "cell_type": "code",
   "execution_count": null,
   "id": "1b78e15e-4e7d-4cbb-9eef-d460ba1471a0",
   "metadata": {
    "tags": []
   },
   "outputs": [],
   "source": [
    "def classify_feature_row(row):\n",
    "    ...\n",
    "\n",
    "# When you're done, this should produce 'thriller' or 'comedy'.\n",
    "classify_feature_row(test_my_features.row(0))"
   ]
  },
  {
   "cell_type": "code",
   "execution_count": null,
   "id": "bfc4f9ea",
   "metadata": {
    "deletable": false,
    "editable": false
   },
   "outputs": [],
   "source": [
    "grader.check(\"task_3_2_3\")"
   ]
  },
  {
   "cell_type": "markdown",
   "id": "c4289aea-3d35-4534-a6a3-b156b518860b",
   "metadata": {},
   "source": [
    "### Section 3.3: Evaluating your classifier"
   ]
  },
  {
   "cell_type": "markdown",
   "id": "c39bf7be-eebb-41e5-96aa-a0d36249bee1",
   "metadata": {},
   "source": [
    "Now that it's easy to use the classifier, let's see how accurate it is on the whole test set."
   ]
  },
  {
   "cell_type": "markdown",
   "id": "40b58b0f-58bb-43df-89aa-e53874cd110c",
   "metadata": {},
   "source": [
    "#### Task 3.3.1 📍"
   ]
  },
  {
   "cell_type": "markdown",
   "id": "09d66dea-70e3-46b8-9c3c-51783d800d2d",
   "metadata": {
    "deletable": false,
    "editable": false
   },
   "source": [
    "Use `classify_feature_row` and `apply` to classify every movie in the test set.  Assign these guesses as an array to `test_guesses`.  Then, compute the proportion of correct classifications.\n",
    "\n",
    "*Hint 1*: If you do not specify any columns in `tbl.apply(...)`, your function will be applied to every row object in `tbl`.\n",
    "\n",
    "*Hint 2*: Which dataset do you want to apply this function to?\n",
    "\n",
    "_Points:_ 2"
   ]
  },
  {
   "cell_type": "code",
   "execution_count": null,
   "id": "627c884a-8dbc-44aa-b044-d9b073e9913e",
   "metadata": {
    "tags": []
   },
   "outputs": [],
   "source": [
    "test_guesses = ...\n",
    "proportion_correct = ...\n",
    "proportion_correct"
   ]
  },
  {
   "cell_type": "code",
   "execution_count": null,
   "id": "565e3eb2",
   "metadata": {
    "deletable": false,
    "editable": false
   },
   "outputs": [],
   "source": [
    "grader.check(\"task_3_3_1\")"
   ]
  },
  {
   "cell_type": "markdown",
   "id": "874660af-32d5-43d4-9b97-fba08ed980e8",
   "metadata": {},
   "source": [
    "#### Task 3.3.2 📍"
   ]
  },
  {
   "cell_type": "markdown",
   "id": "cd874c84-ab53-4785-a61c-6e0c9afe6a30",
   "metadata": {
    "deletable": false,
    "editable": false
   },
   "source": [
    "An important part of evaluating your classifiers is figuring out where they make mistakes. Assign the name `test_movie_correctness` to a table with three columns, `'Title'`, `'Genre'`, and `'Was correct'`. \n",
    "\n",
    "- The `'Genre'` column should contain the original genres, not the ones you predicted. \n",
    "- The `'Was correct'` column should contain `True` or `False` depending on whether or not the movie was classified correctly.\n",
    "\n",
    "\n",
    "_Points:_ 3"
   ]
  },
  {
   "cell_type": "code",
   "execution_count": null,
   "id": "6a02f993-d8c9-4766-a4e5-c04a465a4882",
   "metadata": {
    "for_assignment_type": "student",
    "manual_problem_id": "test_movie_correctness",
    "tags": []
   },
   "outputs": [],
   "source": [
    "# Feel free to use multiple lines of code\n",
    "# but make sure to assign test_movie_correctness to the proper table!\n",
    "test_movie_correctness = ...\n",
    "test_movie_correctness.sort('Was correct', descending = True).show(5)"
   ]
  },
  {
   "cell_type": "code",
   "execution_count": null,
   "id": "68fb38c9",
   "metadata": {
    "deletable": false,
    "editable": false
   },
   "outputs": [],
   "source": [
    "grader.check(\"task_3_3_2\")"
   ]
  },
  {
   "cell_type": "markdown",
   "id": "fb432265-3123-47ed-b254-7fc77c52645b",
   "metadata": {},
   "source": [
    "#### Task 3.3.3 📍🔎"
   ]
  },
  {
   "cell_type": "markdown",
   "id": "bd2a86d5-4fbb-4c25-a2a0-f2f876a0b974",
   "metadata": {
    "deletable": false,
    "editable": false
   },
   "source": [
    "<!-- BEGIN QUESTION -->\n",
    "\n",
    "Do you see a pattern in the types of movies your classifier misclassifies? In two sentences or less, describe any patterns you see in the results or any other interesting findings from the table above. If you need some help, try looking up the movies that your classifier got wrong on Wikipedia. \n",
    "\n",
    "_Points:_ 2"
   ]
  },
  {
   "cell_type": "markdown",
   "id": "60a7222c",
   "metadata": {},
   "source": [
    "_Type your answer here, replacing this text._"
   ]
  },
  {
   "cell_type": "markdown",
   "id": "3fd85e13-679b-4604-bc6d-ed2de7a8de78",
   "metadata": {
    "deletable": false,
    "editable": false
   },
   "source": [
    "<!-- END QUESTION -->\n",
    "\n",
    "At this point, you've gone through one cycle of classifier design.  Let's summarize the steps:\n",
    "1. From available data, select test and training sets.\n",
    "2. Choose an algorithm you're going to use for k-NN classification.\n",
    "3. Identify some features.\n",
    "4. Define a classifier function using your features and the training set.\n",
    "5. Evaluate its performance (the proportion of correct classifications) on the test set."
   ]
  },
  {
   "cell_type": "markdown",
   "id": "e60ff282-bd8f-4a93-a5cf-0cc9e71857e0",
   "metadata": {},
   "source": [
    "## 🔭 Part 4: Explorations\n",
    "Now that you know how to evaluate a classifier, it's time to build another one.\n",
    "\n",
    "Your friends are big fans of comedy and thriller movies. They have created their own dataset of movies that they want to watch, but they need your help in determining the genre of each movie in their dataset (comedy or thriller). You have never seen any of the movies in your friends' dataset, so none of your friends' movies are present in your training or test set from earlier. In other words, this new dataset of movies can function as another test set that we are going to make predictions on based on our original training data. \n",
    "\n",
    "Run the following cell to load your friends' movie data."
   ]
  },
  {
   "cell_type": "code",
   "execution_count": null,
   "id": "60bfbce0-49bb-4d3a-a1d6-2ddcadeb569a",
   "metadata": {},
   "outputs": [],
   "source": [
    "friend_movies = Table.read_table('friend_movies.csv')\n",
    "friend_movies.show(5)"
   ]
  },
  {
   "cell_type": "markdown",
   "id": "a134f0a2-d570-4b80-abf9-2295c3873657",
   "metadata": {},
   "source": [
    "### Task 4.1 📍"
   ]
  },
  {
   "cell_type": "markdown",
   "id": "8b604575-cdfd-4aba-9c7c-2c52f27918a4",
   "metadata": {
    "deletable": false,
    "editable": false
   },
   "source": [
    "Your friend's computer is not as powerful as yours, so they tell you that the classifier you create for them can only have up to 5 words as features. Develop a new classifier with the constraint of **using no more than 5 features.** Assign `new_features` to an array of your features.\n",
    "\n",
    "Your new function should have the same arguments as `classify_feature_row` and return a classification. Name it `another_classifier`. Then, output your accuracy using code from earlier to compare the new classifier to your old one. \n",
    "\n",
    "Some ways you can change your classifier are by using different features or trying different values of `k`. (Of course, you still have to use `train_movies` as your training set!)\n",
    "\n",
    "**Make sure you don't reassign any previously used variables here**, such as `proportion_correct` from the previous task.\n",
    "\n",
    "*Note:* There's no one right way to do this! Just make sure that you can explain your reasoning behind the new choices.\n",
    "\n",
    "_Points:_ 2"
   ]
  },
  {
   "cell_type": "code",
   "execution_count": null,
   "id": "596fbf16-455a-498c-b461-542334400c0c",
   "metadata": {
    "tags": []
   },
   "outputs": [],
   "source": [
    "new_features = ...\n",
    "\n",
    "train_new = train_movies.select(new_features)\n",
    "test_new = friend_movies.select(new_features)\n",
    "\n",
    "def another_classifier(row):\n",
    "    ..."
   ]
  },
  {
   "cell_type": "code",
   "execution_count": null,
   "id": "ff76f758",
   "metadata": {
    "deletable": false,
    "editable": false
   },
   "outputs": [],
   "source": [
    "grader.check(\"task_4_1\")"
   ]
  },
  {
   "cell_type": "markdown",
   "id": "980497a5-0651-423c-b78a-6ce080ba0c49",
   "metadata": {},
   "source": [
    "### Task 4.2 📍🔎"
   ]
  },
  {
   "cell_type": "markdown",
   "id": "1bf05112-fa4e-4df8-89ca-62f36687d310",
   "metadata": {
    "deletable": false,
    "editable": false
   },
   "source": [
    "<!-- BEGIN QUESTION -->\n",
    "\n",
    "Do you see a pattern in the mistakes your new classifier makes? How good an accuracy were you able to get with your limited classifier? Did you notice an improvement from your first classifier to the second one? Describe in two sentences or less. \n",
    "\n",
    "*Hint:* You may not be able to see a pattern.\n",
    "\n",
    "_Points:_ 2"
   ]
  },
  {
   "cell_type": "markdown",
   "id": "369bf1e5",
   "metadata": {},
   "source": [
    "_Type your answer here, replacing this text._"
   ]
  },
  {
   "cell_type": "markdown",
   "id": "c6278fc3-bc33-4037-8ba4-b8d7178cd3ed",
   "metadata": {
    "deletable": false,
    "editable": false
   },
   "source": [
    "<!-- END QUESTION -->\n",
    "\n",
    "### Task 4.3 📍🔎"
   ]
  },
  {
   "cell_type": "markdown",
   "id": "a25ff580-22a9-4e82-b481-4ecfe92771ea",
   "metadata": {
    "deletable": false,
    "editable": false
   },
   "source": [
    "<!-- BEGIN QUESTION -->\n",
    "\n",
    "Given the constraint of five words, how did you select those five? Describe in two sentences or less.\n",
    "\n",
    "_Points:_ 2"
   ]
  },
  {
   "cell_type": "markdown",
   "id": "3705d71a",
   "metadata": {},
   "source": [
    "_Type your answer here, replacing this text._"
   ]
  },
  {
   "cell_type": "markdown",
   "id": "707606f1-e9e8-47c8-b72f-d33c299eb4ad",
   "metadata": {
    "deletable": false,
    "editable": false
   },
   "source": [
    "<!-- END QUESTION -->\n",
    "\n",
    "## 🏁 Submit your Project to Canvas"
   ]
  },
  {
   "cell_type": "markdown",
   "id": "ace0dba1-f8cd-4d0c-98eb-fa8a6aace1c3",
   "metadata": {
    "tags": []
   },
   "source": [
    "Once you have finished working on the projects tasks, prepare to submit your work in Canvas by completing the following steps.\n",
    "\n",
    "1. In the related Canvas Assignment page, check the rubric to know how you will be scored for this assignment.\n",
    "2. Double-check that you have run the code cell near the end of the notebook that contains the command `\"grader.check_all()\"`. This command will run all of the run tests on all your responses to the auto-graded tasks marked with 📍.\n",
    "3. Double-check your responses to the manually graded tasks marked with 📍🔎.\n",
    "3. Select the menu item \"File\" and \"Save Notebook\" in the notebook's Toolbar to save your work and create a specific checkpoint in the notebook's work history.\n",
    "4. Select the menu items \"File\", \"Download\" in the notebook's Toolbar to download the notebook (.ipynb) file. \n",
    "5. In the related Canvas Assignment page, click Start Assignment or New Attempt to upload the downloaded .ipynb file.\n",
    "    * _Keep in mind that if you are working in a group, then you only submit one file for your group._\n",
    "\n",
    "**Keep in mind that the auto-grader does not always check for correctness. Sometimes it just checks for the format of your answer, so passing the autograder for a question does not mean you got the answer correct for that question.**"
   ]
  },
  {
   "cell_type": "markdown",
   "id": "606cc039",
   "metadata": {
    "deletable": false,
    "editable": false
   },
   "source": [
    "---\n",
    "\n",
    "To double-check your work, the cell below will rerun all of the autograder tests."
   ]
  },
  {
   "cell_type": "code",
   "execution_count": null,
   "id": "cba5af63",
   "metadata": {
    "deletable": false,
    "editable": false
   },
   "outputs": [],
   "source": [
    "grader.check_all()"
   ]
  }
 ],
 "metadata": {
  "kernelspec": {
   "display_name": "Python 3 (ipykernel)",
   "language": "python",
   "name": "python3"
  },
  "language_info": {
   "codemirror_mode": {
    "name": "ipython",
    "version": 3
   },
   "file_extension": ".py",
   "mimetype": "text/x-python",
   "name": "python",
   "nbconvert_exporter": "python",
   "pygments_lexer": "ipython3",
   "version": "3.10.12"
  },
  "otter": {
   "OK_FORMAT": true,
   "assignment_name": "project3_sp24",
   "tests": {
    "task_1_1": {
     "name": "task_1_1",
     "points": 2,
     "suites": [
      {
       "cases": [
        {
         "code": ">>> 0 < expected_row_sum\nTrue",
         "failure_message": "❌ expected_row_sum should be greater than 0.",
         "hidden": false,
         "locked": false,
         "points": 1,
         "success_message": "✅ expected_row_sum is greater than 0."
        }
       ],
       "scored": true,
       "setup": "",
       "teardown": "",
       "type": "doctest"
      }
     ]
    },
    "task_1_1_1": {
     "name": "task_1_1_1",
     "points": 3,
     "suites": [
      {
       "cases": [
        {
         "code": ">>> type(stemmed_message) in set([np.str_, str])\nTrue",
         "failure_message": "❌ stemmed_message should be a string.",
         "hidden": false,
         "locked": false,
         "points": 1,
         "success_message": "✅ stemmed_message is a string."
        },
        {
         "code": ">>> len(stemmed_message) < len('elements')\nTrue",
         "failure_message": "❌ The length of stemmed_message should be less than the lenght of 'elements'.",
         "hidden": false,
         "locked": false,
         "points": 1,
         "success_message": "✅ The length of stemmed_message is less than the lenght of 'elements'."
        }
       ],
       "scored": true,
       "setup": "",
       "teardown": "",
       "type": "doctest"
      }
     ]
    },
    "task_1_1_2": {
     "name": "task_1_1_2",
     "points": 2,
     "suites": [
      {
       "cases": [
        {
         "code": ">>> type(most_stem) in set([str, np.str_])\nTrue",
         "failure_message": "❌ most_stem should be a string.",
         "hidden": false,
         "locked": false,
         "points": 1,
         "success_message": "✅ most_stem is a string."
        }
       ],
       "scored": true,
       "setup": "",
       "teardown": "",
       "type": "doctest"
      }
     ]
    },
    "task_1_1_3": {
     "name": "task_1_1_3",
     "points": 2,
     "suites": [
      {
       "cases": [
        {
         "code": ">>> type(longest_uncut) in set([str, np.str_])\nTrue",
         "failure_message": "❌ longest_uncut should be a string.",
         "hidden": false,
         "locked": false,
         "points": 1,
         "success_message": "✅ longest_uncut is a string."
        }
       ],
       "scored": true,
       "setup": "",
       "teardown": "",
       "type": "doctest"
      }
     ]
    },
    "task_1_1_4": {
     "name": "task_1_1_4",
     "points": 2,
     "suites": [
      {
       "cases": [
        {
         "code": ">>> type(count_single_stems) in set([int, np.int32, np.int64])\nTrue",
         "failure_message": "❌ count_single_stems should be an integer.",
         "hidden": false,
         "locked": false,
         "points": 1,
         "success_message": "✅ count_single_stems is an integer."
        }
       ],
       "scored": true,
       "setup": "",
       "teardown": "",
       "type": "doctest"
      }
     ]
    },
    "task_1_2_1": {
     "name": "task_1_2_1",
     "points": 2,
     "suites": [
      {
       "cases": [
        {
         "code": ">>> 0.2 < outer_space_r < 0.4\nTrue",
         "failure_message": "❌ outer_space_r should be between 0.2 and 0.4.",
         "hidden": false,
         "locked": false,
         "points": 1,
         "success_message": "✅ outer_space_r is between 0.2 and 0.4."
        }
       ],
       "scored": true,
       "setup": "",
       "teardown": "",
       "type": "doctest"
      }
     ]
    },
    "task_1_2_3": {
     "name": "task_1_2_3",
     "points": 2,
     "suites": [
      {
       "cases": [
        {
         "code": ">>> type(san_francisco) in set([int, np.int32, np.int64])\nTrue",
         "failure_message": "❌ san_francisco should be an integer.",
         "hidden": false,
         "locked": false,
         "points": 1,
         "success_message": "✅ san_francisco is an integer."
        }
       ],
       "scored": true,
       "setup": "",
       "teardown": "",
       "type": "doctest"
      }
     ]
    },
    "task_2_1_1": {
     "name": "task_2_1_1",
     "points": 2,
     "suites": [
      {
       "cases": [
        {
         "code": ">>> 0 < one_distance < 0.01\nTrue",
         "failure_message": "❌ one_distance should be between 0 and 0.01.",
         "hidden": false,
         "locked": false,
         "points": 1,
         "success_message": "✅ one_distance is between 0 and 0.01."
        }
       ],
       "scored": true,
       "setup": "",
       "teardown": "",
       "type": "doctest"
      }
     ]
    },
    "task_2_1_2": {
     "name": "task_2_1_2",
     "points": 2,
     "suites": [
      {
       "cases": [
        {
         "code": ">>> correct_dis = 0.001406116\n>>> dis = distance_two_features('clerks.', 'the godfather', 'water', 'feel')\n>>> np.isclose(np.round(dis, 9), correct_dis)\nTrue",
         "failure_message": "❌ distance_two_features('clerks.', 'the godfather', 'water', 'feel') didn't return the correct distance.",
         "hidden": false,
         "locked": false,
         "points": 1,
         "success_message": "✅ distance_two_features('clerks.', 'the godfather', 'water', 'feel') returned the correct distance."
        },
        {
         "code": ">>> correct_dis = 0.005647119\n>>> dis = distance_two_features('clerks.', 'the godfather', 'your', 'that')\n>>> np.isclose(np.round(dis, 9), correct_dis)\nTrue",
         "failure_message": "❌ distance_two_features('clerks.', 'the godfather', 'your', 'that') didn't return the correct distance.",
         "hidden": false,
         "locked": false,
         "points": 1,
         "success_message": "✅ distance_two_features('clerks.', 'the godfather', 'your', 'that') returned the correct distance."
        }
       ],
       "scored": true,
       "setup": "",
       "teardown": "",
       "type": "doctest"
      }
     ]
    },
    "task_2_1_3": {
     "name": "task_2_1_3",
     "points": 2,
     "suites": [
      {
       "cases": [
        {
         "code": ">>> np.isclose(distance_from_python('clerks.'), 0.00079838)\nTrue",
         "failure_message": "❌ distance_from_python('clerks.') didn't return a reasonably correct distance.",
         "hidden": false,
         "locked": false,
         "points": 1,
         "success_message": "✅ distance_from_python('clerks.') returned a reasonably correct distance."
        }
       ],
       "scored": true,
       "setup": "",
       "teardown": "",
       "type": "doctest"
      }
     ]
    },
    "task_2_1_4": {
     "name": "task_2_1_4",
     "points": 4,
     "suites": [
      {
       "cases": [
        {
         "code": ">>> set(close_movies.labels) >= {'Genre', 'Title', 'feel', 'water'}\nTrue",
         "failure_message": "❌ close_movies doesn't have the correct labels.",
         "hidden": false,
         "locked": false,
         "points": 1,
         "success_message": "✅ close_movies has the correct labels."
        },
        {
         "code": ">>> close_movies.num_rows == 5\nTrue",
         "failure_message": "❌ close_movies doesn't have the correct number of rows.",
         "hidden": false,
         "locked": false,
         "points": 1,
         "success_message": "✅ close_movies has the correct number of rows."
        },
        {
         "code": ">>> close_movies.column('Title').item(0) != 'monty python and the holy grail'\nTrue",
         "failure_message": "❌ It seems like you are not using the training set.",
         "hidden": false,
         "locked": false,
         "points": 1,
         "success_message": "✅ It seems like you are using the training set."
        }
       ],
       "scored": true,
       "setup": "",
       "teardown": "",
       "type": "doctest"
      }
     ]
    },
    "task_2_1_5": {
     "name": "task_2_1_5",
     "points": 1,
     "suites": [
      {
       "cases": [
        {
         "code": ">>> [most_common('Genre', close_movies.take(range(k))) for k in range(1, 6, 2)]\n['thriller', 'thriller', 'thriller']",
         "failure_message": "❌ most_common didn't work correctly for our test case.",
         "hidden": false,
         "locked": false,
         "points": 1,
         "success_message": "✅ most_common worked correctly for our test case."
        }
       ],
       "scored": true,
       "setup": "",
       "teardown": "",
       "type": "doctest"
      }
     ]
    },
    "task_3_1": {
     "name": "task_3_1",
     "points": 7,
     "suites": [
      {
       "cases": [
        {
         "code": ">>> 0.0 <= distance_first_to_second <= 0.1\nTrue",
         "failure_message": "❌ distance_first_to_second should be between 0.0 and 0.1, inclusive.",
         "hidden": false,
         "locked": false,
         "points": 1,
         "success_message": "✅ distance_first_to_second is betwen 0.0 and 0.1, inclusive."
        },
        {
         "code": ">>> np.isclose(distance(make_array(1, 2), make_array(1, 2)), 0)\nTrue",
         "failure_message": "❌ distance doesn't correctly work when the inputs are the same array.",
         "hidden": false,
         "locked": false,
         "points": 1,
         "success_message": "✅ distance correctly works when the inputs are the same array."
        },
        {
         "code": ">>> np.isclose(distance(make_array(1, 2, 3), make_array(2, 4, 5)), 3)\nTrue",
         "failure_message": "❌ distance doesn't correctly work for our test input arrays.",
         "hidden": false,
         "locked": false,
         "points": 1,
         "success_message": "✅ distance correctly works for our test input arrays."
        }
       ],
       "scored": true,
       "setup": "",
       "teardown": "",
       "type": "doctest"
      }
     ]
    },
    "task_3_1_1": {
     "name": "task_3_1_1",
     "points": 2,
     "suites": [
      {
       "cases": [
        {
         "code": ">>> bottom_left in set([1, 2, 3, 4, 5])\nTrue",
         "failure_message": "❌ bottom_left should be 1, 2, 3, 4, or 5.",
         "hidden": false,
         "locked": false,
         "points": 1,
         "success_message": "✅ bottom_left is 1, 2, 3, 4, or 5."
        }
       ],
       "scored": true,
       "setup": "",
       "teardown": "",
       "type": "doctest"
      }
     ]
    },
    "task_3_1_2": {
     "name": "task_3_1_2",
     "points": 2,
     "suites": [
      {
       "cases": [
        {
         "code": ">>> bottom_right in set([1, 2, 3, 4, 5])\nTrue",
         "failure_message": "❌ bottom_right should be 1, 2, 3, 4, or 5.",
         "hidden": false,
         "locked": false,
         "points": 1,
         "success_message": "✅ bottom_right is 1, 2, 3, 4, or 5."
        }
       ],
       "scored": true,
       "setup": "",
       "teardown": "",
       "type": "doctest"
      }
     ]
    },
    "task_3_1_3": {
     "name": "task_3_1_3",
     "points": 2,
     "suites": [
      {
       "cases": [
        {
         "code": ">>> top_right in set([1, 2, 3, 4, 5])\nTrue",
         "failure_message": "❌ top_right should be 1, 2, 3, 4, or 5.",
         "hidden": false,
         "locked": false,
         "points": 1,
         "success_message": "✅ top_right is 1, 2, 3, 4, or 5."
        }
       ],
       "scored": true,
       "setup": "",
       "teardown": "",
       "type": "doctest"
      }
     ]
    },
    "task_3_1_4": {
     "name": "task_3_1_4",
     "points": 2,
     "suites": [
      {
       "cases": [
        {
         "code": ">>> top_left in set([1, 2, 3, 4, 5])\nTrue",
         "failure_message": "❌ top_left should be 1, 2, 3, 4, or 5.",
         "hidden": false,
         "locked": false,
         "points": 1,
         "success_message": "✅ top_left is 1, 2, 3, 4, or 5."
        }
       ],
       "scored": true,
       "setup": "",
       "teardown": "",
       "type": "doctest"
      }
     ]
    },
    "task_3_1_5": {
     "name": "task_3_1_5",
     "points": 2,
     "suites": [
      {
       "cases": [
        {
         "code": ">>> movie_genre_guess in set([1, 2])\nTrue",
         "failure_message": "❌ movie_genre_guess should be 1 or 2.",
         "hidden": false,
         "locked": false,
         "points": 1,
         "success_message": "✅ movie_genre_guess is 1 or 2."
        }
       ],
       "scored": true,
       "setup": "",
       "teardown": "",
       "type": "doctest"
      }
     ]
    },
    "task_3_1_6": {
     "name": "task_3_1_6",
     "points": 5,
     "suites": [
      {
       "cases": [
        {
         "code": ">>> len(my_features) >= 10\nTrue",
         "failure_message": "❌ my_features should contain at least 10 items.",
         "hidden": false,
         "locked": false,
         "points": 1,
         "success_message": "✅ my_features contains at least 10 items."
        },
        {
         "code": ">>> np.all([f in test_movies.labels for f in my_features])\nTrue",
         "failure_message": "❌ my_features doesn't contain features from test_movies.",
         "hidden": false,
         "locked": false,
         "points": 1,
         "success_message": "✅ my_features contains features from test_movies."
        },
        {
         "code": ">>> len(set(my_features)) >= 10\nTrue",
         "failure_message": "❌ my_features shouldn't contain duplicate words. ",
         "hidden": false,
         "locked": false,
         "points": 1,
         "success_message": "✅ my_features doesn't contain duplicate words."
        },
        {
         "code": ">>> train_f = train_movies.select(my_features)\n>>> np.count_nonzero(train_f.apply(lambda r: np.sum(np.abs(np.array(list(r)))) == 0)) < len(my_features)\nTrue",
         "failure_message": "❌ It looks like there are many movies in the training set that don't have any of your chosen words.  That will make your classifier perform very poorly in some cases.  Try choosing at least 1 common word.",
         "hidden": false,
         "locked": false,
         "points": 1,
         "success_message": "✅ It seems like you have at least one common word from the training set."
        },
        {
         "code": ">>> test_f = test_movies.select(my_features)\n>>> np.count_nonzero(test_f.apply(lambda r: np.sum(np.abs(np.array(list(r)))) == 0)) < 5\nTrue",
         "failure_message": "❌ It looks like there are many movies in the test set that don't have any of your chosen words.  That will make your classifier perform very poorly in some cases.  Try choosing at least 1 common word.",
         "hidden": false,
         "locked": false,
         "points": 1,
         "success_message": "✅ It seems like you have at least one common word from the test set."
        }
       ],
       "scored": true,
       "setup": "",
       "teardown": "",
       "type": "doctest"
      }
     ]
    },
    "task_3_1_8": {
     "name": "task_3_1_8",
     "points": 4,
     "suites": [
      {
       "cases": [
        {
         "code": ">>> genre_and_distances.labels == ('Genre', 'Distance')\nTrue",
         "failure_message": "❌ enre_and_distances doesn't contain the correct column labels.",
         "hidden": false,
         "locked": false,
         "points": 1,
         "success_message": "✅ genre_and_distances contains the correct column labels."
        },
        {
         "code": ">>> genre_and_distances.num_rows == train_movies.num_rows\nTrue",
         "failure_message": "❌ genre_and_distances doesn't have the correct number of rows.",
         "hidden": false,
         "locked": false,
         "points": 1,
         "success_message": "✅ genre_and_distances has the correct number of rows."
        },
        {
         "code": ">>> print(genre_and_distances.group('Genre'))\nGenre    | count\ncomedy   | 102\nthriller | 181\n",
         "failure_message": "❌ genre_and_distances doesn't show the correct genres.",
         "hidden": false,
         "locked": false,
         "points": 1,
         "success_message": "✅ genre_and_distances shows the correct genres."
        },
        {
         "code": ">>> np.allclose(genre_and_distances.column('Distance'), sorted(fast_distances(test_my_features.row(0), train_my_features)))\nTrue",
         "failure_message": "❌ genre_and_distances doesn't seem to have the correct distances.",
         "hidden": false,
         "locked": false,
         "points": 1,
         "success_message": "✅ genre_and_distances seems to have the correct distances."
        }
       ],
       "scored": true,
       "setup": "",
       "teardown": "",
       "type": "doctest"
      }
     ]
    },
    "task_3_1_9": {
     "name": "task_3_1_9",
     "points": 2,
     "suites": [
      {
       "cases": [
        {
         "code": ">>> genre_and_distances.take(np.arange(7)).group('Genre').index_by('Genre')[my_assigned_genre][0].item('count') >= 4\nTrue",
         "failure_message": "❌ my_assigned_genre doesn't to reflect the most common genre.",
         "hidden": false,
         "locked": false,
         "points": 1,
         "success_message": "✅ my_assigned_genre seems to reflect the most common genre."
        },
        {
         "code": ">>> my_assigned_genre_was_correct == (my_assigned_genre == 'thriller')\nFalse",
         "failure_message": "❌ my_assigned_genre_was_correct doesn't reflect the correct value.",
         "hidden": false,
         "locked": false,
         "points": 1,
         "success_message": "✅ my_assigned_genre_was_correct reflects the correct value."
        }
       ],
       "scored": true,
       "setup": "",
       "teardown": "",
       "type": "doctest"
      }
     ]
    },
    "task_3_2_1": {
     "name": "task_3_2_1",
     "points": 2,
     "suites": [
      {
       "cases": [
        {
         "code": ">>> from collections import Counter\n>>> g = train_movies.column('Genre')\n>>> \n>>> def check(r, k):\n...     t = test_my_features.row(r)\n...     return classify(t, train_my_features, g, k) == Counter(np.take(g, np.argsort(fast_distances(t, train_my_features))[:k])).most_common(1)[0][0]\n>>> check_5_nn = [check(i, 5) for i in np.arange(11)]\n>>> all(check_5_nn)\nTrue",
         "failure_message": "❌ classify didn't work for our test case with k = 5.",
         "hidden": false,
         "locked": false,
         "points": 1,
         "success_message": "✅ classify worked for our test case with k = 5."
        },
        {
         "code": ">>> from collections import Counter\n>>> g = train_movies.column('Genre')\n>>> \n>>> def check(r, k):\n...     t = test_my_features.row(r)\n...     return classify(t, train_my_features, g, k) == Counter(np.take(g, np.argsort(fast_distances(t, train_my_features))[:k])).most_common(1)[0][0]\n>>> check_11_nn = [check(i, 11) for i in np.arange(11)]\n>>> all(check_11_nn)\nTrue",
         "failure_message": "❌ classify didn't work for our test case with k = 11.",
         "hidden": false,
         "locked": false,
         "points": 1,
         "success_message": "✅ classify worked for our test case with k = 11."
        }
       ],
       "scored": true,
       "setup": "",
       "teardown": "",
       "type": "doctest"
      }
     ]
    },
    "task_3_2_2": {
     "name": "task_3_2_2",
     "points": 1,
     "suites": [
      {
       "cases": [
        {
         "code": ">>> from collections import Counter\n>>> g = train_movies.column('Genre')\n>>> r = np.where(test_movies['Title'] == 'godzilla')[0][0]\n>>> t = test_my_features.row(r)\n>>> godzilla_expected_genre = Counter(np.take(g, np.argsort(fast_distances(t, train_my_features))[:15])).most_common(1)[0][0]\n>>> godzilla_genre == godzilla_expected_genre\nTrue",
         "failure_message": "❌ godzilla_genre doesn't seem to reflect the correct response.",
         "hidden": false,
         "locked": false,
         "points": 1,
         "success_message": "✅ godzilla_genre seems to reflect the correct response."
        }
       ],
       "scored": true,
       "setup": "",
       "teardown": "",
       "type": "doctest"
      }
     ]
    },
    "task_3_2_3": {
     "name": "task_3_2_3",
     "points": 1,
     "suites": [
      {
       "cases": [
        {
         "code": ">>> def check(r):\n...     t = test_my_features.row(r)\n...     return classify(t, train_my_features, train_movies.column('Genre'), 15) == classify_feature_row(t)\n>>> all([check(i) for i in np.arange(15)])\nTrue",
         "failure_message": "❌ classify_feature_row doesn't seem to work correctly with our test case.",
         "hidden": false,
         "locked": false,
         "points": 1,
         "success_message": "✅ classify_feature_row worked correctly with our test case."
        }
       ],
       "scored": true,
       "setup": "",
       "teardown": "",
       "type": "doctest"
      }
     ]
    },
    "task_3_3_1": {
     "name": "task_3_3_1",
     "points": 2,
     "suites": [
      {
       "cases": [
        {
         "code": ">>> 0 <= proportion_correct <= 1\nTrue",
         "failure_message": "❌ proportion_correct should be a value between 0 and 1, inclusive.",
         "hidden": false,
         "locked": false,
         "points": 1,
         "success_message": "✅ proportion_correct is a value between 0 and 1, inclusive."
        }
       ],
       "scored": true,
       "setup": "",
       "teardown": "",
       "type": "doctest"
      }
     ]
    },
    "task_3_3_2": {
     "name": "task_3_3_2",
     "points": 3,
     "suites": [
      {
       "cases": [
        {
         "code": ">>> test_movie_correctness.labels == ('Title', 'Genre', 'Was correct')\nTrue",
         "failure_message": "❌ test_movie_correctness doesn't have the correct column labels.",
         "hidden": false,
         "locked": false,
         "points": 1,
         "success_message": "✅ test_movie_correctness has the correct column labels."
        },
        {
         "code": ">>> test_movie_correctness.num_rows == test_movies.num_rows\nTrue",
         "failure_message": "❌ test_movie_correctness doesn't have the correct number of rows.",
         "hidden": false,
         "locked": false,
         "points": 1,
         "success_message": "✅ test_movie_correctness has the correct number of rows."
        },
        {
         "code": ">>> print(test_movie_correctness.group('Genre'))\nGenre    | count\ncomedy   | 17\nthriller | 33\n",
         "failure_message": "❌ test_movie_correctness shouldn't modify the original test_movies table.",
         "hidden": false,
         "locked": false,
         "points": 1,
         "success_message": "✅ test_movie_correctness doesn't seem to modify the original test_movies table."
        }
       ],
       "scored": true,
       "setup": "",
       "teardown": "",
       "type": "doctest"
      }
     ]
    },
    "task_4_1": {
     "name": "task_4_1",
     "points": 2,
     "suites": [
      {
       "cases": [
        {
         "code": ">>> len(new_features) <= 5\nTrue",
         "failure_message": "❌ new_features should contain at most 5 features.",
         "hidden": false,
         "locked": false,
         "points": 1,
         "success_message": "✅ new_features contains at most 5 features."
        },
        {
         "code": ">>> another_classifier(test_new.row(0)) in ['comedy', 'thriller']\nTrue",
         "failure_message": "❌ another_classifier should return 'comedy' or 'thriller'.",
         "hidden": false,
         "locked": false,
         "points": 1,
         "success_message": "✅ another_classifier returns 'comedy' or 'thriller'."
        }
       ],
       "scored": true,
       "setup": "",
       "teardown": "",
       "type": "doctest"
      }
     ]
    }
   }
  }
 },
 "nbformat": 4,
 "nbformat_minor": 5
}
