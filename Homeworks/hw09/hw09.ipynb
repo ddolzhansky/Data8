{
 "cells": [
  {
   "cell_type": "code",
   "execution_count": 26,
   "id": "a9772a7c",
   "metadata": {
    "deletable": false,
    "editable": false
   },
   "outputs": [],
   "source": [
    "# Initialize Otter\n",
    "import otter\n",
    "grader = otter.Notebook(\"hw09.ipynb\")"
   ]
  },
  {
   "cell_type": "markdown",
   "id": "9a8d4006-a92c-438a-867f-89fa022acde0",
   "metadata": {},
   "source": [
    "<img style=\"display: block; margin-left: auto; margin-right: auto\" src=\"./ccsf-logo.png\" width=\"250rem;\" alt=\"The CCSF black and white logo\">"
   ]
  },
  {
   "cell_type": "markdown",
   "id": "bffa7518-bca5-4360-93e6-74ca62793148",
   "metadata": {},
   "source": [
    "# Homework 09: Confidence Intervals"
   ]
  },
  {
   "cell_type": "markdown",
   "id": "33f208b9-bb84-48bb-9e25-4b6cce3bb7fb",
   "metadata": {},
   "source": [
    "## References\n",
    "\n",
    "* [Estimation](https://inferentialthinking.com/chapters/13/Estimation.html)\n",
    "* [`datascience` Documentation](https://datascience.readthedocs.io/)\n",
    "* [Python Quick Reference](https://ccsf-math-108.github.io/materials-fa23/resources/quick_reference.html)"
   ]
  },
  {
   "cell_type": "markdown",
   "id": "f0085158-5880-4b7d-b5f2-af2318b6a4f2",
   "metadata": {},
   "source": [
    "## Assignment Reminders"
   ]
  },
  {
   "cell_type": "markdown",
   "id": "aa6f5c18-bbd2-4860-806d-f0f06dd641ef",
   "metadata": {},
   "source": [
    "- Make sure to run the code cell at the top of this notebook that starts with `# Initialize Otter` to load the auto-grader.\n",
    "- For all tasks indicated with a 🔎 that you must write explanations and sentences for, provide your answer in the designated space.\n",
    "- Throughout this assignment and all future ones, please be sure to not re-assign variables throughout the notebook! _For example, if you use `max_temperature` in your answer to one question, do not reassign it later on. Otherwise, you will fail tests that you thought you were passing previously!_\n",
    "- We encourage you to discuss this assignment with others but make sure to write and submit your own code. Refer to the syllabus to learn more about how to learn cooperatively.\n",
    "- Unless you are asked otherwise, use the non-interactive visualizations when asked to produce a visualization for a task.\n",
    "- View the related <a href=\"https://ccsf.instructure.com\" target=\"_blank\">Canvas</a> Assignment page for additional details.\n",
    "\n",
    "Run the following code cell to import the tools for this assignment."
   ]
  },
  {
   "cell_type": "code",
   "execution_count": 27,
   "id": "cc005111-9401-4908-ae21-9d81bfc43738",
   "metadata": {
    "tags": []
   },
   "outputs": [],
   "source": [
    "from datascience import *\n",
    "import numpy as np\n",
    "%matplotlib inline\n",
    "import matplotlib.pyplot as plt\n",
    "plt.style.use('fivethirtyeight')"
   ]
  },
  {
   "cell_type": "markdown",
   "id": "11a67650-4edb-480c-aeab-5f6a68b72cab",
   "metadata": {},
   "source": [
    "## Thai Restaurants\n"
   ]
  },
  {
   "cell_type": "markdown",
   "id": "956d1e8f-7d16-416f-86af-ca1aacb076a0",
   "metadata": {},
   "source": [
    "Oswaldo and Varun are trying to see what the best Thai restaurant in Berkeley is. They survey 1,500 UC Berkeley students selected uniformly at random and ask each student what Thai restaurant is the best. (*Note: This data is fabricated for the purposes of this homework.*) The choices of Thai restaurants are [Lucky House](https://www.google.com/maps/place/Lucky+House+Thai+Cuisine/@37.8707428,-122.270045,15.32z/data=!4m5!3m4!1s0x80857e9e69a8c921:0x7b6d80f58406fb26!8m2!3d37.8721393!4d-122.2672699), [Imm Thai](https://www.google.com/maps/place/Imm+Thai+Street+Food/@37.8704926,-122.2687372,15.51z/data=!4m5!3m4!1s0x80857e9eec4f1e63:0x5f54d96f0dccdb72!8m2!3d37.8719079!4d-122.2691186), [Thai Temple](https://www.google.com/maps/place/Wat+Mongkolratanaram/@37.8689514,-122.2698649,14.75z/data=!4m5!3m4!1s0x80857e886e39daf1:0xe309caa1b5710fc0!8m2!3d37.8563633!4d-122.2707584), and [Thai Basil](https://www.google.com/maps/place/Thai+Basil/@37.8691911,-122.266539,15.37z/data=!4m5!3m4!1s0x80857c2f6ae0e2f1:0x6978b6e8a72d58d4!8m2!3d37.868327!4d-122.258081). After compiling the results, Oswaldo and Varun release the following percentages, percentages of votes that each restaurant received, from their sample:\n",
    "\n",
    "|Thai Restaurant  | Percentage|\n",
    "|:------------:|:------------:|\n",
    "|Lucky House | 8% |\n",
    "|Imm Thai | 52% |\n",
    "|Thai Temple | 25% |\n",
    "|Thai Basil | 15% |\n",
    "\n",
    "These percentages represent a uniform random sample of the population of UC Berkeley students. We will attempt to estimate the corresponding *parameters*, or the percentage of the votes that each restaurant will receive from the entire population (the entire population is all UC Berkeley students). We will use confidence intervals to compute a range of values that reflects the uncertainty of our estimates.\n",
    "\n",
    "The table `votes` contains the results of the survey."
   ]
  },
  {
   "cell_type": "code",
   "execution_count": 28,
   "id": "36f54bc7-30dd-4170-a629-b7463b35a00f",
   "metadata": {},
   "outputs": [
    {
     "data": {
      "text/html": [
       "<table border=\"1\" class=\"dataframe\">\n",
       "    <thead>\n",
       "        <tr>\n",
       "            <th>Vote</th>\n",
       "        </tr>\n",
       "    </thead>\n",
       "    <tbody>\n",
       "        <tr>\n",
       "            <td>Thai Temple</td>\n",
       "        </tr>\n",
       "        <tr>\n",
       "            <td>Thai Basil </td>\n",
       "        </tr>\n",
       "        <tr>\n",
       "            <td>Thai Temple</td>\n",
       "        </tr>\n",
       "        <tr>\n",
       "            <td>Thai Temple</td>\n",
       "        </tr>\n",
       "        <tr>\n",
       "            <td>Imm Thai   </td>\n",
       "        </tr>\n",
       "        <tr>\n",
       "            <td>Thai Temple</td>\n",
       "        </tr>\n",
       "        <tr>\n",
       "            <td>Thai Temple</td>\n",
       "        </tr>\n",
       "        <tr>\n",
       "            <td>Imm Thai   </td>\n",
       "        </tr>\n",
       "        <tr>\n",
       "            <td>Thai Temple</td>\n",
       "        </tr>\n",
       "        <tr>\n",
       "            <td>Thai Temple</td>\n",
       "        </tr>\n",
       "    </tbody>\n",
       "</table>\n",
       "<p>... (1490 rows omitted)</p>"
      ],
      "text/plain": [
       "Vote\n",
       "Thai Temple\n",
       "Thai Basil\n",
       "Thai Temple\n",
       "Thai Temple\n",
       "Imm Thai\n",
       "Thai Temple\n",
       "Thai Temple\n",
       "Imm Thai\n",
       "Thai Temple\n",
       "Thai Temple\n",
       "... (1490 rows omitted)"
      ]
     },
     "execution_count": 28,
     "metadata": {},
     "output_type": "execute_result"
    }
   ],
   "source": [
    "# Just run this cell\n",
    "votes = Table.read_table('votes.csv').sample(with_replacement = False)\n",
    "votes"
   ]
  },
  {
   "cell_type": "markdown",
   "id": "bb85ddd5-c464-4d99-a441-a71d08f7ca02",
   "metadata": {},
   "source": [
    "### Task 01 📍"
   ]
  },
  {
   "cell_type": "markdown",
   "id": "e419485d-2b3f-426c-9999-17b42d996f46",
   "metadata": {
    "deletable": false,
    "editable": false
   },
   "source": [
    "Complete the function `one_resampled_percentage` below. It should return Imm Thai's **percentage** of votes after simulating one bootstrap sample of `tbl`.\n",
    "\n",
    "* You can assume that `tbl` contains the original sample data. Your function should create a resample from this data.\n",
    "* `tbl` will always be in the same format as `votes`.\n",
    "* This function should be completed **without** `.group` or `.pivot`. Using these functions will cause your code to timeout.\n",
    "* Given a table of votes, how can you figure out what percentage of the votes are for a certain restaurant? **Be sure to use percentages, not proportions, for this question!**\n",
    "\n",
    "_Points:_ 3"
   ]
  },
  {
   "cell_type": "code",
   "execution_count": 29,
   "id": "292d965d-4c3c-4db4-bea3-e1f53bde7213",
   "metadata": {
    "tags": []
   },
   "outputs": [
    {
     "data": {
      "text/plain": [
       "51.26666666666667"
      ]
     },
     "execution_count": 29,
     "metadata": {},
     "output_type": "execute_result"
    }
   ],
   "source": [
    "def one_resampled_percentage(tbl):\n",
    "    \n",
    "    resample = tbl.sample()\n",
    "    all_rows = resample.num_rows\n",
    "    number = np.count_nonzero(resample.where(0, \"Imm Thai\").column(0))\n",
    "    return (number / all_rows) * 100\n",
    "    \n",
    "one_resampled_percentage(votes)"
   ]
  },
  {
   "cell_type": "code",
   "execution_count": 30,
   "id": "d3d0dc08",
   "metadata": {
    "deletable": false,
    "editable": false
   },
   "outputs": [
    {
     "data": {
      "text/html": [
       "<p><strong><pre style='display: inline;'>task_01</pre></strong> passed! ✨</p><p><strong><pre style='display: inline;'>task_01 - 1</pre> message:</strong> ✅ Your function returns a float.</p><p><strong><pre style='display: inline;'>task_01 - 2</pre> message:</strong> ✅ Your function returns a value within a range of possible answers.</p>"
      ],
      "text/plain": [
       "task_01 results: All test cases passed!\n",
       "task_01 - 1 message: ✅ Your function returns a float.\n",
       "task_01 - 2 message: ✅ Your function returns a value within a range of possible answers."
      ]
     },
     "execution_count": 30,
     "metadata": {},
     "output_type": "execute_result"
    }
   ],
   "source": [
    "grader.check(\"task_01\")"
   ]
  },
  {
   "cell_type": "markdown",
   "id": "ab8f9edc-7797-4d7c-be56-112de39e3dea",
   "metadata": {},
   "source": [
    "### Task 02 📍"
   ]
  },
  {
   "cell_type": "markdown",
   "id": "d5c513ef-65d1-40da-96b6-bb6b7a277f1b",
   "metadata": {
    "deletable": false,
    "editable": false
   },
   "source": [
    "Complete the `percentages_in_resamples` function such that it simulates and returns an array of **2023 elements**, where each element represents a bootstrapped estimate of the percentage of voters who will vote for Imm Thai. You should use the `one_resampled_percentage` function you wrote above.\n",
    "\n",
    "* We perform our simulation with **only 2023 trials** in this problem to reduce the runtime, but we should generally use more repetitions.\n",
    "\n",
    "_Points:_ 3"
   ]
  },
  {
   "cell_type": "code",
   "execution_count": 31,
   "id": "f95b28ca-a52f-4a81-9871-79289db4e036",
   "metadata": {},
   "outputs": [],
   "source": [
    "def percentages_in_resamples():\n",
    "    percentage_imm = make_array()\n",
    "    repetitions = 2023\n",
    "    for i in np.arange(repetitions):\n",
    "        simulated = one_resampled_percentage(votes)\n",
    "        percentage_imm = np.append(percentage_imm, simulated)\n",
    "    return percentage_imm"
   ]
  },
  {
   "cell_type": "markdown",
   "id": "3b74874c-ad78-4f78-986a-4199cb0b3b87",
   "metadata": {},
   "source": [
    "In the following cell, we run the function you just defined, `percentages_in_resamples`, and create a histogram of the calculated statistic for the 2023 bootstrap estimates of the percentage of voters who voted for Imm Thai. \n",
    "\n",
    "*Note:* This might take a few seconds to run."
   ]
  },
  {
   "cell_type": "code",
   "execution_count": 32,
   "id": "2087b001-0641-48ce-b7a0-435530748075",
   "metadata": {},
   "outputs": [
    {
     "data": {
      "image/png": "[encoded data removed]",
      "text/plain": [
       "<Figure size 600x400 with 1 Axes>"
      ]
     },
     "metadata": {},
     "output_type": "display_data"
    }
   ],
   "source": [
    "resampled_percentages = percentages_in_resamples()\n",
    "Table().with_column('Estimated Percentage', resampled_percentages).hist(\"Estimated Percentage\")"
   ]
  },
  {
   "cell_type": "markdown",
   "id": "8cf6ab7f-3769-43b8-a387-404f871f68a0",
   "metadata": {},
   "source": [
    "### Task 03 📍"
   ]
  },
  {
   "cell_type": "markdown",
   "id": "22c9014b-c3a8-492a-8441-6fb30bd4c7bc",
   "metadata": {
    "deletable": false,
    "editable": false
   },
   "source": [
    "Using the array `resampled_percentages`, find the values at the two edges of the middle 95% of the bootstrapped percentage estimates. (Compute the lower and upper ends of the interval, named `imm_lower_bound` and `imm_upper_bound`, respectively.)\n",
    "\n",
    "\n",
    "_Points:_ 2"
   ]
  },
  {
   "cell_type": "code",
   "execution_count": 33,
   "id": "660e0443-0a38-45b2-a6a5-5e0f86ec77a7",
   "metadata": {
    "tags": []
   },
   "outputs": [
    {
     "name": "stdout",
     "output_type": "stream",
     "text": [
      "Bootstrapped 95% confidence interval for the percentage of Imm Thai voters in the population:[49.47, 54.40]\n"
     ]
    }
   ],
   "source": [
    "imm_lower_bound = percentile(2.5, resampled_percentages)\n",
    "imm_upper_bound = percentile(97.5, resampled_percentages)\n",
    "print(f\"Bootstrapped 95% confidence interval for the percentage of Imm Thai voters in the population:[{imm_lower_bound:.2f}, {imm_upper_bound:.2f}]\")"
   ]
  },
  {
   "cell_type": "code",
   "execution_count": 34,
   "id": "4a371b61",
   "metadata": {
    "deletable": false,
    "editable": false
   },
   "outputs": [
    {
     "data": {
      "text/html": [
       "<p><strong><pre style='display: inline;'>task_03</pre></strong> passed! 💯</p><p><strong><pre style='display: inline;'>task_03 - 1</pre> message:</strong> ✅ Your values for imm_lower_bound and imm_upper_bound are within an appropriate interval.</p>"
      ],
      "text/plain": [
       "task_03 results: All test cases passed!\n",
       "task_03 - 1 message: ✅ Your values for imm_lower_bound and imm_upper_bound are within an appropriate interval."
      ]
     },
     "execution_count": 34,
     "metadata": {},
     "output_type": "execute_result"
    }
   ],
   "source": [
    "grader.check(\"task_03\")"
   ]
  },
  {
   "cell_type": "markdown",
   "id": "92ef0bd0-cb42-4ad8-8537-3bb5cd3f912d",
   "metadata": {},
   "source": [
    "### Task 04 📍"
   ]
  },
  {
   "cell_type": "markdown",
   "id": "49a24241-49df-4c42-9dbc-a3f6ec3882b5",
   "metadata": {
    "deletable": false,
    "editable": false
   },
   "source": [
    "The survey results seem to indicate that Imm Thai is beating all the other Thai restaurants among the voters. We would like to use confidence intervals to determine a range of likely values for Imm Thai's true lead over all the other restaurants combined. The calculation for Imm Thai's lead over Lucky House, Thai Temple, and Thai Basil combined is:\n",
    "\n",
    "$$\\text{Imm Thai's percent of the vote} - (\\text{100 percent} - \\text{Imm Thai's percent of the vote})$$\n",
    "\n",
    "Define the function `one_resampled_difference` that returns **exactly one value** of Imm Thai's percentage lead over Lucky House, Thai Temple, and Thai Basil combined from one bootstrap sample of `tbl`.\n",
    "\n",
    "* Imm Thai's lead can be negative.\n",
    "* Given a table of votes, how can you figure out what percentage of the votes are for a certain restaurant? **Be sure to use percentages, not proportions, for this question!**\n",
    "* If the skeleton code provided within the function is not helpful for you, feel free to approach the question using your own variables.\n",
    "\n",
    "\n",
    "_Points:_ 2"
   ]
  },
  {
   "cell_type": "code",
   "execution_count": 35,
   "id": "6e28840a-2eba-45d5-851a-b5816a8a0974",
   "metadata": {
    "tags": []
   },
   "outputs": [],
   "source": [
    "def one_resampled_difference(tbl):\n",
    "    bootstrap = tbl.sample()\n",
    "    imm_percentage = (np.count_nonzero(bootstrap.where(0, \"Imm Thai\").column(0)) / bootstrap.num_rows) * 100\n",
    "    return imm_percentage - (100 - imm_percentage)"
   ]
  },
  {
   "cell_type": "code",
   "execution_count": 36,
   "id": "3ce5054b",
   "metadata": {
    "deletable": false,
    "editable": false
   },
   "outputs": [
    {
     "data": {
      "text/html": [
       "<p><strong><pre style='display: inline;'>task_04</pre></strong> passed! 🙌</p><p><strong><pre style='display: inline;'>task_04 - 1</pre> message:</strong> ✅ Your function returns a float.</p>"
      ],
      "text/plain": [
       "task_04 results: All test cases passed!\n",
       "task_04 - 1 message: ✅ Your function returns a float."
      ]
     },
     "execution_count": 36,
     "metadata": {},
     "output_type": "execute_result"
    }
   ],
   "source": [
    "grader.check(\"task_04\")"
   ]
  },
  {
   "cell_type": "markdown",
   "id": "ef09e97e-de59-4b9e-85ac-05c8124859ff",
   "metadata": {},
   "source": [
    "### Task 05 📍🔎"
   ]
  },
  {
   "cell_type": "markdown",
   "id": "08ff5256-76a6-48bc-b578-226f8f0457e9",
   "metadata": {
    "deletable": false,
    "editable": false
   },
   "source": [
    "<!-- BEGIN QUESTION -->\n",
    "\n",
    "Write a function called `leads_in_resamples` that returns an array of 2023 elements representing the bootstrapped estimates (the result of calling `one_resampled_difference`) of Imm Thai's lead over Lucky House, Thai Temple, and Thai Basil combined. Afterwards, run the cell to plot a histogram of the resulting samples. \n",
    "\n",
    "* If you see an error involving `NoneType`, consider what components a function needs to have!\n",
    "\n",
    "_Points:_ 2"
   ]
  },
  {
   "cell_type": "code",
   "execution_count": 37,
   "id": "661b077a-5e47-4099-b8d8-87d910db85f2",
   "metadata": {},
   "outputs": [
    {
     "data": {
      "image/png": "[encoded data removed]",
      "text/plain": [
       "<Figure size 600x400 with 1 Axes>"
      ]
     },
     "metadata": {},
     "output_type": "display_data"
    }
   ],
   "source": [
    "def leads_in_resamples():\n",
    "    leads_imm = make_array()\n",
    "    repeat = 2023\n",
    "    for i in np.arange(repeat):\n",
    "        simulate = one_resampled_difference(votes)\n",
    "        leads_imm = np.append(leads_imm, simulate)\n",
    "    return leads_imm\n",
    "\n",
    "sampled_leads = leads_in_resamples()\n",
    "Table().with_column('Estimated Lead', sampled_leads).hist(\"Estimated Lead\")"
   ]
  },
  {
   "cell_type": "markdown",
   "id": "567c0722-2cff-4e37-9b99-b5f6532e8ed3",
   "metadata": {
    "deletable": false,
    "editable": false
   },
   "source": [
    "<!-- END QUESTION -->\n",
    "\n",
    "### Task 06 📍"
   ]
  },
  {
   "cell_type": "markdown",
   "id": "d9affcd0-8b5f-41ed-be0f-68a464b6b44d",
   "metadata": {
    "deletable": false,
    "editable": false
   },
   "source": [
    "Use the simulated data in `sampled_leads` from Task 05 to compute an approximate 95% confidence interval for Imm Thai's true lead over Lucky House, Thai Temple, and Thai Basil combined.\n",
    "\n",
    "\n",
    "_Points:_ 3"
   ]
  },
  {
   "cell_type": "code",
   "execution_count": 38,
   "id": "ae97301b-2901-4db0-93e3-e065f48026b7",
   "metadata": {
    "tags": []
   },
   "outputs": [
    {
     "name": "stdout",
     "output_type": "stream",
     "text": [
      "Bootstrapped 95% confidence interval for Imm Thai's true lead over Lucky House, Thai Temple, and Thai Basil combined: [-0.933333, 9.200000]\n"
     ]
    }
   ],
   "source": [
    "diff_lower_bound = percentile(2.5, sampled_leads)\n",
    "diff_upper_bound = percentile(97.5, sampled_leads)\n",
    "print(\"Bootstrapped 95% confidence interval for Imm Thai's true lead over Lucky House, Thai Temple, and Thai Basil combined: [{:f}, {:f}]\".format(diff_lower_bound, diff_upper_bound))"
   ]
  },
  {
   "cell_type": "code",
   "execution_count": 39,
   "id": "5a2f37b7",
   "metadata": {
    "deletable": false,
    "editable": false
   },
   "outputs": [
    {
     "data": {
      "text/html": [
       "<p><strong><pre style='display: inline;'>task_06</pre></strong> passed! 🌟</p><p><strong><pre style='display: inline;'>task_06 - 1</pre> message:</strong> ✅ The values of diff_lower_bound and diff_upper_bound are within a reasonable interval.</p>"
      ],
      "text/plain": [
       "task_06 results: All test cases passed!\n",
       "task_06 - 1 message: ✅ The values of diff_lower_bound and diff_upper_bound are within a reasonable interval."
      ]
     },
     "execution_count": 39,
     "metadata": {},
     "output_type": "execute_result"
    }
   ],
   "source": [
    "grader.check(\"task_06\")"
   ]
  },
  {
   "cell_type": "markdown",
   "id": "9ecd19d3-77ab-446f-bad7-c20b53c2a21e",
   "metadata": {},
   "source": [
    "## Interpreting Confidence Intervals"
   ]
  },
  {
   "cell_type": "markdown",
   "id": "284776e9-a342-4dae-9b4b-1460e0889459",
   "metadata": {},
   "source": [
    "We computed the following 95% confidence interval for the percentage of Imm Thai voters: \n",
    "\n",
    "$$[49.40, 54.47]$$\n",
    "\n",
    "(Your answer may have been a bit different; that doesn't mean it was wrong!)"
   ]
  },
  {
   "cell_type": "markdown",
   "id": "3c5e2487-4612-45d4-a1fa-0021f24a7445",
   "metadata": {},
   "source": [
    "### Task 07 📍🔎"
   ]
  },
  {
   "cell_type": "markdown",
   "id": "3657de3c-68ce-49a9-99db-ff305e1cfdac",
   "metadata": {
    "deletable": false,
    "editable": false
   },
   "source": [
    "<!-- BEGIN QUESTION -->\n",
    "\n",
    "Can we say there is a 95% probability that the interval [49.40, 54.47] contains the true percentage of the population that votes for Imm Thai as the best Berkeley Thai restaurant? Answer \"yes\" or \"no\" and explain your reasoning. \n",
    "\n",
    "*Note:* ambiguous answers using language like \"sometimes\" or \"maybe\" will not receive credit.\n",
    "\n",
    "\n",
    "_Points:_ 2"
   ]
  },
  {
   "cell_type": "markdown",
   "id": "4ed09d4a",
   "metadata": {},
   "source": [
    "No, a 95% confidence interval does not mean there is a 95% probability the interval [49.40, 54.47] contains the true percentage. Instead, it means that if many samples were taken and confidence intervals computed, 95% of those intervals would contain the true percentage."
   ]
  },
  {
   "cell_type": "markdown",
   "id": "b9e0e8f8-b86d-40f6-96bb-cfe8aac08b00",
   "metadata": {
    "deletable": false,
    "editable": false
   },
   "source": [
    "<!-- END QUESTION -->\n",
    "\n",
    "### Task 08 📍🔎"
   ]
  },
  {
   "cell_type": "markdown",
   "id": "f17eac24-59f7-4411-b81b-c727420dcc76",
   "metadata": {
    "deletable": false,
    "editable": false
   },
   "source": [
    "<!-- BEGIN QUESTION -->\n",
    "\n",
    "We also created 70%, 90%, and 99% confidence intervals from the same sample, but we forgot to label which confidence interval represented which percentages! Match each confidence level (70%, 90%, 99%) with its corresponding interval in the cell below (e.g. __ % CI: [49.87, 54.0] $\\rightarrow$ replace the blank with one of the three confidence levels). **Then**, explain your thought process and how you came up with your answers.\n",
    "\n",
    "The intervals are below:\n",
    "\n",
    "* [49.87, 54.00]\n",
    "* [50.67, 53.27]\n",
    "* [48.80, 55.40]\n",
    "\n",
    "\n",
    "_Points:_ 2"
   ]
  },
  {
   "cell_type": "markdown",
   "id": "ab1e2fa5",
   "metadata": {},
   "source": [
    "* 70% CI: [50.67, 53.27] - Narrowest interval, corresponding to the lowest confidence level.\n",
    "* 90% CI: [49.87, 54.00] - Medium width interval, representing a moderate confidence level.\n",
    "* 99% CI: [48.80, 55.40] - Widest interval, consistent with the highest confidence level.\n",
    "\n",
    "The higher the confidence level, the wider the interval needs to be to capture the true parameter."
   ]
  },
  {
   "cell_type": "markdown",
   "id": "5e2bc943-d86f-47a4-bee5-0cbad07b57e4",
   "metadata": {
    "deletable": false,
    "editable": false
   },
   "source": [
    "<!-- END QUESTION -->\n",
    "\n",
    "### Task 09 📍"
   ]
  },
  {
   "cell_type": "markdown",
   "id": "2dd34904-2ccb-4cc3-9ce3-208dfbeadbb8",
   "metadata": {
    "deletable": false,
    "editable": false
   },
   "source": [
    "Suppose we produced 5,000 new samples (each one a uniform random sample of 1,500 voters/students) from the population and created a 95% confidence interval from each one. Roughly how many of those 5,000 intervals do you expect will actually contain the true percentage of the population?\n",
    "\n",
    "Assign your answer to `true_percentage_intervals`.\n",
    "\n",
    "\n",
    "_Points:_ 2"
   ]
  },
  {
   "cell_type": "code",
   "execution_count": 42,
   "id": "6322b480-67e3-48d5-941a-3911d4a74826",
   "metadata": {
    "tags": []
   },
   "outputs": [
    {
     "data": {
      "text/plain": [
       "4750.0"
      ]
     },
     "execution_count": 42,
     "metadata": {},
     "output_type": "execute_result"
    }
   ],
   "source": [
    "true_percentage_intervals = .95 * 5000\n",
    "true_percentage_intervals"
   ]
  },
  {
   "cell_type": "code",
   "execution_count": 43,
   "id": "dd3eb550",
   "metadata": {
    "deletable": false,
    "editable": false
   },
   "outputs": [
    {
     "data": {
      "text/html": [
       "<p><strong><pre style='display: inline;'>task_09</pre></strong> passed! 🎉</p><p><strong><pre style='display: inline;'>task_09 - 1</pre> message:</strong> ✅ The value of true_percentage_intervals is within a possible interval.</p>"
      ],
      "text/plain": [
       "task_09 results: All test cases passed!\n",
       "task_09 - 1 message: ✅ The value of true_percentage_intervals is within a possible interval."
      ]
     },
     "execution_count": 43,
     "metadata": {},
     "output_type": "execute_result"
    }
   ],
   "source": [
    "grader.check(\"task_09\")"
   ]
  },
  {
   "cell_type": "markdown",
   "id": "814da83b-bdf5-4991-a2ed-de31fa69801c",
   "metadata": {},
   "source": [
    "Recall the second bootstrap confidence interval you created, which estimated Imm Thai's lead over Lucky House, Thai Temple, and Thai Basil combined. Among\n",
    "voters in the sample, Imm Thai's lead was 4%. \n",
    "\n",
    "Our 95% confidence interval for the true lead (in the population of all voters) was\n",
    "\n",
    "$$[-0.80, 8.80]$$\n",
    "\n",
    "Suppose we are interested in testing a simple yes-or-no question:\n",
    "\n",
    "> \"Is the percentage of votes for Imm Thai tied with the percentage of votes for Lucky House, Thai Temple, and Thai Basil combined?\"\n",
    "\n",
    "Our null hypothesis is that the percentages are equal, or equivalently, that Imm Thai's lead is exactly 0. Our alternative hypothesis is that Imm Thai's lead is not equal to 0.  In the questions below, don't compute any confidence interval yourself - use only the 95% confidence interval we created and shared with you."
   ]
  },
  {
   "cell_type": "markdown",
   "id": "375ca46a-f945-4374-9d10-6899979af4a7",
   "metadata": {},
   "source": [
    "### Task 10 📍"
   ]
  },
  {
   "cell_type": "markdown",
   "id": "cfeab193-1628-410a-b31a-672f72da8427",
   "metadata": {
    "deletable": false,
    "editable": false
   },
   "source": [
    "Say we use a 5% P-value cutoff.  Do we reject the null, fail to reject the null, or are we unable to tell using our confidence interval?\n",
    "\n",
    "Assign `restaurants_tied` to the number corresponding to the correct answer.\n",
    "\n",
    "1. Reject the null / Data is consistent with the alternative hypothesis\n",
    "2. Fail to reject the null / Data is consistent with the null hypothesis\n",
    "3. Unable to tell using the provided confidence interval\n",
    "\n",
    "_Consider the relationship between the p-value cutoff and confidence. If you're confused, take a look at [this chapter](https://inferentialthinking.com/chapters/13/4/Using_Confidence_Intervals.html) of the textbook._\n",
    "\n",
    "\n",
    "_Points:_ 2"
   ]
  },
  {
   "cell_type": "code",
   "execution_count": 44,
   "id": "0c317fd0-3e8d-4735-874a-78b75040ca19",
   "metadata": {
    "tags": []
   },
   "outputs": [],
   "source": [
    "restaurants_tied = 1"
   ]
  },
  {
   "cell_type": "code",
   "execution_count": 45,
   "id": "9c21ae5a",
   "metadata": {
    "deletable": false,
    "editable": false
   },
   "outputs": [
    {
     "data": {
      "text/html": [
       "<p><strong><pre style='display: inline;'>task_10</pre></strong> passed! 💯</p><p><strong><pre style='display: inline;'>task_10 - 1</pre> message:</strong> ✅ restaurants_tied represents a possible answer.</p>"
      ],
      "text/plain": [
       "task_10 results: All test cases passed!\n",
       "task_10 - 1 message: ✅ restaurants_tied represents a possible answer."
      ]
     },
     "execution_count": 45,
     "metadata": {},
     "output_type": "execute_result"
    }
   ],
   "source": [
    "grader.check(\"task_10\")"
   ]
  },
  {
   "cell_type": "markdown",
   "id": "faf62daf-2b8b-4ba0-987d-fc78ced94af5",
   "metadata": {},
   "source": [
    "### Task 11 📍"
   ]
  },
  {
   "cell_type": "markdown",
   "id": "1dd30a42-d628-42f0-b26b-80781e167ae8",
   "metadata": {
    "deletable": false,
    "editable": false
   },
   "source": [
    "What if, instead, we use a P-value cutoff of 1%? Do we reject the null, fail to reject the null, or are we unable to tell using our confidence interval?\n",
    "\n",
    "Assign `cutoff_one_percent` to the number corresponding to the correct answer.\n",
    "\n",
    "1. Reject the null / Data is consistent with the alternative hypothesis\n",
    "2. Fail to reject the null / Data is consistent with the null hypothesis\n",
    "3. Unable to tell using the provided confidence interval\n",
    "\n",
    "\n",
    "_Points:_ 2"
   ]
  },
  {
   "cell_type": "code",
   "execution_count": 48,
   "id": "12e683f7-f772-441d-8a5d-75936973af30",
   "metadata": {
    "tags": []
   },
   "outputs": [],
   "source": [
    "cutoff_one_percent = 3"
   ]
  },
  {
   "cell_type": "code",
   "execution_count": 49,
   "id": "454466f8",
   "metadata": {
    "deletable": false,
    "editable": false
   },
   "outputs": [
    {
     "data": {
      "text/html": [
       "<p><strong><pre style='display: inline;'>task_11</pre></strong> passed! 🙌</p><p><strong><pre style='display: inline;'>task_11 - 1</pre> message:</strong> ✅ cutoff_one_percent represents a possible answer.</p>"
      ],
      "text/plain": [
       "task_11 results: All test cases passed!\n",
       "task_11 - 1 message: ✅ cutoff_one_percent represents a possible answer."
      ]
     },
     "execution_count": 49,
     "metadata": {},
     "output_type": "execute_result"
    }
   ],
   "source": [
    "grader.check(\"task_11\")"
   ]
  },
  {
   "cell_type": "markdown",
   "id": "3293bda7-3624-4c0a-869c-a130dcd10534",
   "metadata": {},
   "source": [
    "### Task 12 📍"
   ]
  },
  {
   "cell_type": "markdown",
   "id": "ccfe994e-0951-4e85-beb8-7a05bd54c4b1",
   "metadata": {
    "deletable": false,
    "editable": false
   },
   "source": [
    "What if we use a P-value cutoff of 10%? Do we reject, fail to reject, or are we unable to tell using our confidence interval?\n",
    "\n",
    "Assign `cutoff_ten_percent` to the number corresponding to the correct answer.\n",
    "\n",
    "1. Reject the null / Data is consistent with the alternative hypothesis\n",
    "2. Fail to reject the null / Data is consistent with the null hypothesis\n",
    "3. Unable to tell using our staff confidence interval\n",
    "\n",
    "\n",
    "_Points:_ 2"
   ]
  },
  {
   "cell_type": "code",
   "execution_count": 50,
   "id": "65064fb5-6d83-463f-b3b7-216c91f486cc",
   "metadata": {
    "tags": []
   },
   "outputs": [],
   "source": [
    "cutoff_ten_percent = 1"
   ]
  },
  {
   "cell_type": "code",
   "execution_count": 51,
   "id": "f732b759",
   "metadata": {
    "deletable": false,
    "editable": false
   },
   "outputs": [
    {
     "data": {
      "text/html": [
       "<p><strong><pre style='display: inline;'>task_12</pre></strong> passed! 🙌</p><p><strong><pre style='display: inline;'>task_12 - 1</pre> message:</strong> ✅ cutoff_ten_percent represents a possible answer.</p>"
      ],
      "text/plain": [
       "task_12 results: All test cases passed!\n",
       "task_12 - 1 message: ✅ cutoff_ten_percent represents a possible answer."
      ]
     },
     "execution_count": 51,
     "metadata": {},
     "output_type": "execute_result"
    }
   ],
   "source": [
    "grader.check(\"task_12\")"
   ]
  },
  {
   "cell_type": "markdown",
   "id": "7a9cb707-fde1-48f0-adf2-7cde635a6d02",
   "metadata": {},
   "source": [
    "## Submit your Homework to Canvas\n",
    "\n",
    "Once you have finished working on the homework tasks, prepare to submit your work in Canvas by completing the following steps.\n",
    "\n",
    "1. In the related Canvas Assignment page, check the rubric to know how you will be scored for this assignment.\n",
    "2. Double-check that you have run the code cell near the end of the notebook that contains the command `\"grader.check_all()\"`. This command will run all of the run tests on all your responses to the auto-graded tasks marked with 📍.\n",
    "3. Double-check your responses to the manually graded tasks marked with 📍🔎.\n",
    "3. Select the menu item \"File\" and \"Save Notebook\" in the notebook's Toolbar to save your work and create a specific checkpoint in the notebook's work history.\n",
    "4. Select the menu items \"File\", \"Download\" in the notebook's Toolbar to download the notebook (.ipynb) file. \n",
    "5. In the related Canvas Assignment page, click Start Assignment or New Attempt to upload the downloaded .ipynb file.\n",
    "\n",
    "**Keep in mind that the autograder does not always check for correctness. Sometimes it just checks for the format of your answer, so passing the autograder for a question does not mean you got the answer correct for that question.**"
   ]
  },
  {
   "cell_type": "markdown",
   "id": "e9b062b8",
   "metadata": {
    "deletable": false,
    "editable": false
   },
   "source": [
    "---\n",
    "\n",
    "To double-check your work, the cell below will rerun all of the autograder tests."
   ]
  },
  {
   "cell_type": "code",
   "execution_count": 53,
   "id": "b3a0214c",
   "metadata": {
    "deletable": false,
    "editable": false
   },
   "outputs": [
    {
     "data": {
      "text/plain": [
       "task_01 results: All test cases passed!\n",
       "task_01 - 1 message: ✅ Your function returns a float.\n",
       "task_01 - 2 message: ✅ Your function returns a value within a range of possible answers.\n",
       "\n",
       "task_02 results: All test cases passed!\n",
       "\n",
       "task_03 results: All test cases passed!\n",
       "task_03 - 1 message: ✅ Your values for imm_lower_bound and imm_upper_bound are within an appropriate interval.\n",
       "\n",
       "task_04 results: All test cases passed!\n",
       "task_04 - 1 message: ✅ Your function returns a float.\n",
       "\n",
       "task_06 results: All test cases passed!\n",
       "task_06 - 1 message: ✅ The values of diff_lower_bound and diff_upper_bound are within a reasonable interval.\n",
       "\n",
       "task_09 results: All test cases passed!\n",
       "task_09 - 1 message: ✅ The value of true_percentage_intervals is within a possible interval.\n",
       "\n",
       "task_10 results: All test cases passed!\n",
       "task_10 - 1 message: ✅ restaurants_tied represents a possible answer.\n",
       "\n",
       "task_11 results: All test cases passed!\n",
       "task_11 - 1 message: ✅ cutoff_one_percent represents a possible answer.\n",
       "\n",
       "task_12 results: All test cases passed!\n",
       "task_12 - 1 message: ✅ cutoff_ten_percent represents a possible answer."
      ]
     },
     "execution_count": 53,
     "metadata": {},
     "output_type": "execute_result"
    }
   ],
   "source": [
    "grader.check_all()"
   ]
  },
  {
   "cell_type": "code",
   "execution_count": null,
   "id": "11cca179-2186-4718-87a7-acdbb271c615",
   "metadata": {},
   "outputs": [],
   "source": []
  }
 ],
 "metadata": {
  "kernelspec": {
   "display_name": "Python 3 (ipykernel)",
   "language": "python",
   "name": "python3"
  },
  "language_info": {
   "codemirror_mode": {
    "name": "ipython",
    "version": 3
   },
   "file_extension": ".py",
   "mimetype": "text/x-python",
   "name": "python",
   "nbconvert_exporter": "python",
   "pygments_lexer": "ipython3",
   "version": "3.10.12"
  },
  "otter": {
   "OK_FORMAT": true,
   "assignment_name": "hw09_sp24",
   "tests": {
    "task_01": {
     "name": "task_01",
     "points": 3,
     "suites": [
      {
       "cases": [
        {
         "code": ">>> isinstance(one_resampled_percentage(votes), (float, np.float_))\nTrue",
         "failure_message": "❌ Your function should return a float.",
         "hidden": false,
         "locked": false,
         "points": 1,
         "success_message": "✅ Your function returns a float."
        },
        {
         "code": ">>> 35 <= one_resampled_percentage(votes) <= 65\nTrue",
         "failure_message": "❌ Your function does not return a value within a range of possible answers.",
         "hidden": false,
         "locked": false,
         "points": 1,
         "success_message": "✅ Your function returns a value within a range of possible answers."
        }
       ],
       "scored": true,
       "setup": "",
       "teardown": "",
       "type": "doctest"
      }
     ]
    },
    "task_02": {
     "name": "task_02",
     "points": 3,
     "suites": [
      {
       "cases": [],
       "scored": true,
       "setup": "",
       "teardown": "",
       "type": "doctest"
      }
     ]
    },
    "task_03": {
     "name": "task_03",
     "points": 2,
     "suites": [
      {
       "cases": [
        {
         "code": ">>> 40 <= imm_lower_bound <= imm_upper_bound <= 60\nTrue",
         "failure_message": "❌ Your values for imm_lower_bound and imm_upper_bound are not within an appropriate interval.",
         "hidden": false,
         "locked": false,
         "points": 1,
         "success_message": "✅ Your values for imm_lower_bound and imm_upper_bound are within an appropriate interval."
        }
       ],
       "scored": true,
       "setup": "",
       "teardown": "",
       "type": "doctest"
      }
     ]
    },
    "task_04": {
     "name": "task_04",
     "points": 2,
     "suites": [
      {
       "cases": [
        {
         "code": ">>> isinstance(one_resampled_difference(votes), (float, np.float_))\nTrue",
         "failure_message": "❌ Your function should return a float.",
         "hidden": false,
         "locked": false,
         "points": 1,
         "success_message": "✅ Your function returns a float."
        }
       ],
       "scored": true,
       "setup": "",
       "teardown": "",
       "type": "doctest"
      }
     ]
    },
    "task_06": {
     "name": "task_06",
     "points": 3,
     "suites": [
      {
       "cases": [
        {
         "code": ">>> -5 <= diff_lower_bound <= diff_upper_bound <= 12\nTrue",
         "failure_message": "❌ The values of diff_lower_bound and diff_upper_bound are not within a reasonable interval.",
         "hidden": false,
         "locked": false,
         "points": 1,
         "success_message": "✅ The values of diff_lower_bound and diff_upper_bound are within a reasonable interval."
        }
       ],
       "scored": true,
       "setup": "",
       "teardown": "",
       "type": "doctest"
      }
     ]
    },
    "task_09": {
     "name": "task_09",
     "points": 2,
     "suites": [
      {
       "cases": [
        {
         "code": ">>> 1000 <= true_percentage_intervals <= 10000\nTrue",
         "failure_message": "❌ The value of true_percentage_intervals is not within a possible interval. ",
         "hidden": false,
         "locked": false,
         "points": 1,
         "success_message": "✅ The value of true_percentage_intervals is within a possible interval."
        }
       ],
       "scored": true,
       "setup": "",
       "teardown": "",
       "type": "doctest"
      }
     ]
    },
    "task_10": {
     "name": "task_10",
     "points": 2,
     "suites": [
      {
       "cases": [
        {
         "code": ">>> 1 <= restaurants_tied <= 3\nTrue",
         "failure_message": "❌ restaurants_tied should name 1, 2, or 3.",
         "hidden": false,
         "locked": false,
         "points": 1,
         "success_message": "✅ restaurants_tied represents a possible answer."
        }
       ],
       "scored": true,
       "setup": "",
       "teardown": "",
       "type": "doctest"
      }
     ]
    },
    "task_11": {
     "name": "task_11",
     "points": 2,
     "suites": [
      {
       "cases": [
        {
         "code": ">>> 1 <= cutoff_one_percent <= 3\nTrue",
         "failure_message": "❌ cutoff_one_person should name 1, 2, or 3.",
         "hidden": false,
         "locked": false,
         "points": 1,
         "success_message": "✅ cutoff_one_percent represents a possible answer."
        }
       ],
       "scored": true,
       "setup": "",
       "teardown": "",
       "type": "doctest"
      }
     ]
    },
    "task_12": {
     "name": "task_12",
     "points": 2,
     "suites": [
      {
       "cases": [
        {
         "code": ">>> 1 <= cutoff_ten_percent <= 3\nTrue",
         "failure_message": "❌ cutoff_ten_percent should name 1, 2, or 3.",
         "hidden": false,
         "locked": false,
         "points": 1,
         "success_message": "✅ cutoff_ten_percent represents a possible answer."
        }
       ],
       "scored": true,
       "setup": "",
       "teardown": "",
       "type": "doctest"
      }
     ]
    }
   }
  }
 },
 "nbformat": 4,
 "nbformat_minor": 5
}
