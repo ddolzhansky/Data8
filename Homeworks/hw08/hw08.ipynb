{
 "cells": [
  {
   "cell_type": "code",
   "execution_count": 1,
   "id": "fa2b4c5c",
   "metadata": {
    "deletable": false,
    "editable": false
   },
   "outputs": [],
   "source": [
    "# Initialize Otter\n",
    "import otter\n",
    "grader = otter.Notebook(\"hw08.ipynb\")"
   ]
  },
  {
   "cell_type": "markdown",
   "id": "be904b9b-9491-4b3d-9da1-837dc654fabf",
   "metadata": {},
   "source": [
    "<img style=\"display: block; margin-left: auto; margin-right: auto\" src=\"./ccsf-logo.png\" width=\"250rem;\" alt=\"The CCSF black and white logo\">"
   ]
  },
  {
   "cell_type": "markdown",
   "id": "24a853bd-5fbd-45ee-ad8d-29453bc0158b",
   "metadata": {},
   "source": [
    "# Homework 8: A/B Testing"
   ]
  },
  {
   "cell_type": "markdown",
   "id": "c34e94c4-52fb-403a-9942-f29808c661b6",
   "metadata": {},
   "source": [
    "## References\n",
    "\n",
    "* [Comparing Two Samples](https://inferentialthinking.com/chapters/12/Comparing_Two_Samples.html)\n",
    "* [`datascience` Documentation](https://datascience.readthedocs.io/)\n",
    "* [Python Quick Reference](https://ccsf-math-108.github.io/materials-fa23/resources/quick_reference.html)"
   ]
  },
  {
   "cell_type": "markdown",
   "id": "6b8a40b1-34d0-4cbb-a52a-d5f0fc30433a",
   "metadata": {},
   "source": [
    "## Assignment Reminders"
   ]
  },
  {
   "cell_type": "markdown",
   "id": "2b5d3a02-158d-476d-b5fd-6e0a57ea6946",
   "metadata": {},
   "source": [
    "- Make sure to run the code cell at the top of this notebook that starts with `# Initialize Otter` to load the auto-grader.\n",
    "- For all tasks indicated with a 🔎 that you must write explanations and sentences for, provide your answer in the designated space.\n",
    "- Throughout this assignment and all future ones, please be sure to not re-assign variables throughout the notebook! _For example, if you use `max_temperature` in your answer to one question, do not reassign it later on. Otherwise, you will fail tests that you thought you were passing previously!_\n",
    "- We encourage you to discuss this assignment with others but make sure to write and submit your own code. Refer to the syllabus to learn more about how to learn cooperatively.\n",
    "- Unless you are asked otherwise, use the non-interactive visualizations when asked to produce a visualization for a task.\n",
    "- View the related <a href=\"https://ccsf.instructure.com\" target=\"_blank\">Canvas</a> Assignment page for additional details.\n",
    "\n",
    "Run the following code cell to import the tools for this assignment."
   ]
  },
  {
   "cell_type": "code",
   "execution_count": 2,
   "id": "da6c5e96-4f58-4d51-88ae-0e4ed73fbe04",
   "metadata": {
    "tags": []
   },
   "outputs": [],
   "source": [
    "from datascience import *\n",
    "import numpy as np\n",
    "%matplotlib inline\n",
    "import matplotlib.pyplot as plt\n",
    "plt.style.use('fivethirtyeight')"
   ]
  },
  {
   "cell_type": "markdown",
   "id": "1e9fb74e-e15e-4b6f-a22e-abcd27d00a10",
   "metadata": {},
   "source": [
    "## Who is Older?"
   ]
  },
  {
   "cell_type": "markdown",
   "id": "7b7c8f1d-0ced-4b8b-97d1-30fa7e6621b9",
   "metadata": {},
   "source": [
    "Data scientists have drawn a simple random sample of size 500 from a large population of adults. Each member of the population happened to identify as either \"male\" or \"female\". Data was collected on several attributes of the sampled people, including age. The table `sampled_ages` contains one row for each person in the sample, with columns containing the individual's gender identity."
   ]
  },
  {
   "cell_type": "code",
   "execution_count": 3,
   "id": "7b7bd494-8333-4458-9106-e61b672ef7f0",
   "metadata": {},
   "outputs": [
    {
     "data": {
      "text/html": [
       "<table border=\"1\" class=\"dataframe\">\n",
       "    <thead>\n",
       "        <tr>\n",
       "            <th>Gender</th> <th>Age</th>\n",
       "        </tr>\n",
       "    </thead>\n",
       "    <tbody>\n",
       "        <tr>\n",
       "            <td>male  </td> <td>23  </td>\n",
       "        </tr>\n",
       "        <tr>\n",
       "            <td>male  </td> <td>29  </td>\n",
       "        </tr>\n",
       "        <tr>\n",
       "            <td>male  </td> <td>29  </td>\n",
       "        </tr>\n",
       "        <tr>\n",
       "            <td>female</td> <td>49  </td>\n",
       "        </tr>\n",
       "        <tr>\n",
       "            <td>female</td> <td>33  </td>\n",
       "        </tr>\n",
       "    </tbody>\n",
       "</table>\n",
       "<p>... (495 rows omitted)</p>"
      ],
      "text/plain": [
       "<IPython.core.display.HTML object>"
      ]
     },
     "metadata": {},
     "output_type": "display_data"
    }
   ],
   "source": [
    "sampled_ages = Table.read_table('age.csv')\n",
    "sampled_ages.show(5)"
   ]
  },
  {
   "cell_type": "markdown",
   "id": "58e3798e-2226-4904-847a-368ea741ec02",
   "metadata": {
    "tags": []
   },
   "source": [
    "### Task 01 📍"
   ]
  },
  {
   "cell_type": "markdown",
   "id": "a0933f85-5dec-4eee-9501-29ff9f0f7edc",
   "metadata": {
    "deletable": false,
    "editable": false
   },
   "source": [
    "How many females were there in our sample? Please use the provided skeleton code.\n",
    "\n",
    "*Hint:* Keep in mind that `.group` sorts categories in alphabetical order!\n",
    "\n",
    "_Points:_ 3"
   ]
  },
  {
   "cell_type": "code",
   "execution_count": 4,
   "id": "e18b7a21-3af0-413b-b2b0-6fcbba33968f",
   "metadata": {},
   "outputs": [
    {
     "data": {
      "text/plain": [
       "260"
      ]
     },
     "execution_count": 4,
     "metadata": {},
     "output_type": "execute_result"
    }
   ],
   "source": [
    "num_females = sampled_ages.group(\"Gender\").column(\"count\").item(0)\n",
    "num_females"
   ]
  },
  {
   "cell_type": "code",
   "execution_count": 5,
   "id": "9f16fcef",
   "metadata": {
    "deletable": false,
    "editable": false
   },
   "outputs": [
    {
     "data": {
      "text/html": [
       "<p><strong><pre style='display: inline;'>task_01</pre></strong> passed! 🎉</p><p><strong><pre style='display: inline;'>task_01 - 1</pre> message:</strong> ✅ num_females is a value betwen 0 and 500.</p>"
      ],
      "text/plain": [
       "task_01 results: All test cases passed!\n",
       "task_01 - 1 message: ✅ num_females is a value betwen 0 and 500."
      ]
     },
     "execution_count": 5,
     "metadata": {},
     "output_type": "execute_result"
    }
   ],
   "source": [
    "grader.check(\"task_01\")"
   ]
  },
  {
   "cell_type": "markdown",
   "id": "a37deab1-2883-4b96-a0f5-02d1f40c2180",
   "metadata": {
    "tags": []
   },
   "source": [
    "### Task 02 📍"
   ]
  },
  {
   "cell_type": "markdown",
   "id": "fbe2c7ac-4c52-4571-b5dd-75c4889431e4",
   "metadata": {
    "deletable": false,
    "editable": false
   },
   "source": [
    "Complete the cell below so that `avg_male_vs_female` evaluates to `True` if the sampled males are older than the sampled females on average, and `False` otherwise. Use Python code to achieve this.\n",
    "\n",
    "_Points:_ 3"
   ]
  },
  {
   "cell_type": "code",
   "execution_count": 6,
   "id": "c672a0b0-2caf-4a3e-b298-09614ba31ac9",
   "metadata": {},
   "outputs": [
    {
     "data": {
      "text/plain": [
       "True"
      ]
     },
     "execution_count": 6,
     "metadata": {},
     "output_type": "execute_result"
    }
   ],
   "source": [
    "group_mean_tbl = sampled_ages.group(\"Gender\", np.average)\n",
    "group_means = group_mean_tbl.column(\"Age average\")       # array of mean ages\n",
    "avg_male_vs_female = group_means.item(1) > group_means.item(0)\n",
    "avg_male_vs_female"
   ]
  },
  {
   "cell_type": "code",
   "execution_count": 7,
   "id": "310b79c9",
   "metadata": {
    "deletable": false,
    "editable": false
   },
   "outputs": [
    {
     "data": {
      "text/html": [
       "<p><strong><pre style='display: inline;'>task_02</pre></strong> passed! 🌟</p><p><strong><pre style='display: inline;'>task_02 - 1</pre> message:</strong> ✅ avg_male_vs_female is a bool.</p>"
      ],
      "text/plain": [
       "task_02 results: All test cases passed!\n",
       "task_02 - 1 message: ✅ avg_male_vs_female is a bool."
      ]
     },
     "execution_count": 7,
     "metadata": {},
     "output_type": "execute_result"
    }
   ],
   "source": [
    "grader.check(\"task_02\")"
   ]
  },
  {
   "cell_type": "markdown",
   "id": "7e4573db-acaa-4ce4-b316-ffb077a6922d",
   "metadata": {
    "tags": []
   },
   "source": [
    "### Task 03 📍"
   ]
  },
  {
   "cell_type": "markdown",
   "id": "e32a2c4d-ddbd-406a-8ec7-67e2db135bfd",
   "metadata": {
    "deletable": false,
    "editable": false
   },
   "source": [
    "The data scientists want to use the data to test whether males are older than females—or, in other words, whether the ages of the two groups have the same distribution. One of the following statements is their null hypothesis and another is their alternative hypothesis. Assign `null_statement_number` and `alternative_statement_number` to the numbers of the correct statements in the code cell below.\n",
    "\n",
    "1. In the sample, the males and females have the same distribution of ages; the sample averages of the two groups are different due to chance.\n",
    "2. In the population, the males and females have the same distribution of ages; the sample averages of the two groups are different due to chance.\n",
    "3. The age distributions of males and females in the population are different due to chance.\n",
    "4. The males in the sample are older than the females, on average.\n",
    "5. The males in the population are older than the females, on average.\n",
    "6. The average ages of the males and females in the population are different.\n",
    "\n",
    "_Points:_ 3"
   ]
  },
  {
   "cell_type": "code",
   "execution_count": 8,
   "id": "fbcf9b01-a113-43ae-a180-a2ec28ff8a6d",
   "metadata": {
    "tags": []
   },
   "outputs": [],
   "source": [
    "null_statement_number = 2\n",
    "alternative_statement_number = 5"
   ]
  },
  {
   "cell_type": "code",
   "execution_count": 9,
   "id": "43cca9e7",
   "metadata": {
    "deletable": false,
    "editable": false
   },
   "outputs": [
    {
     "data": {
      "text/html": [
       "<p><strong><pre style='display: inline;'>task_03</pre></strong> passed! 🎉</p><p><strong><pre style='display: inline;'>task_03 - 1</pre> message:</strong> ✅ null_statement_number is an int.</p><p><strong><pre style='display: inline;'>task_03 - 2</pre> message:</strong> ✅ alternative_statement_number is an int.</p><p><strong><pre style='display: inline;'>task_03 - 3</pre> message:</strong> ✅ null_statement_number is a number between 1 and 6.</p><p><strong><pre style='display: inline;'>task_03 - 4</pre> message:</strong> ✅ alternative_statement_number is a number between 1 and 6.</p><p><strong><pre style='display: inline;'>task_03 - 5</pre> message:</strong> ✅ null_statement_number is not the same as alternative_statement_number.</p>"
      ],
      "text/plain": [
       "task_03 results: All test cases passed!\n",
       "task_03 - 1 message: ✅ null_statement_number is an int.\n",
       "task_03 - 2 message: ✅ alternative_statement_number is an int.\n",
       "task_03 - 3 message: ✅ null_statement_number is a number between 1 and 6.\n",
       "task_03 - 4 message: ✅ alternative_statement_number is a number between 1 and 6.\n",
       "task_03 - 5 message: ✅ null_statement_number is not the same as alternative_statement_number."
      ]
     },
     "execution_count": 9,
     "metadata": {},
     "output_type": "execute_result"
    }
   ],
   "source": [
    "grader.check(\"task_03\")"
   ]
  },
  {
   "cell_type": "markdown",
   "id": "6a3fa115-957d-4809-b616-9655b7b5599d",
   "metadata": {
    "tags": []
   },
   "source": [
    "### Task 04 📍"
   ]
  },
  {
   "cell_type": "markdown",
   "id": "cf8a2bb1-f167-46ea-bb74-044cd7140894",
   "metadata": {
    "deletable": false,
    "editable": false
   },
   "source": [
    "The data scientists have decided to use a permutation test. Assign `permutation_test_reason` to the number corresponding to the reason they made this choice.\n",
    "\n",
    "1. Since a person's age shouldn't be related to their gender, it doesn't matter who is labeled \"male\" and who is labeled \"female\", so you can use permutations.\n",
    "2. Under the null hypothesis, permuting the labels in the `sampled_ages` table is equivalent to drawing a new random sample with the same number of males and females as in the original sample.\n",
    "3. Under the null hypothesis, permuting the rows of `sampled_ages` table is equivalent to drawing a new random sample with the same number of males and females as in the original sample.\n",
    "\n",
    "_Points:_ 3"
   ]
  },
  {
   "cell_type": "code",
   "execution_count": 10,
   "id": "f7b6c918-8970-4989-a46e-5d50caf35354",
   "metadata": {
    "tags": []
   },
   "outputs": [
    {
     "data": {
      "text/plain": [
       "1"
      ]
     },
     "execution_count": 10,
     "metadata": {},
     "output_type": "execute_result"
    }
   ],
   "source": [
    "permutation_test_reason = 1\n",
    "permutation_test_reason"
   ]
  },
  {
   "cell_type": "code",
   "execution_count": 11,
   "id": "de4258f4",
   "metadata": {
    "deletable": false,
    "editable": false
   },
   "outputs": [
    {
     "data": {
      "text/html": [
       "<p><strong><pre style='display: inline;'>task_04</pre></strong> passed! 🎉</p><p><strong><pre style='display: inline;'>task_04 - 1</pre> message:</strong> ✅ permutation_test_reason is an int.</p><p><strong><pre style='display: inline;'>task_04 - 2</pre> message:</strong> ✅ permutation_test_reason is a value between 1 and 3.</p>"
      ],
      "text/plain": [
       "task_04 results: All test cases passed!\n",
       "task_04 - 1 message: ✅ permutation_test_reason is an int.\n",
       "task_04 - 2 message: ✅ permutation_test_reason is a value between 1 and 3."
      ]
     },
     "execution_count": 11,
     "metadata": {},
     "output_type": "execute_result"
    }
   ],
   "source": [
    "grader.check(\"task_04\")"
   ]
  },
  {
   "cell_type": "markdown",
   "id": "81a9e40d-a99c-4ac7-b774-93737a2217dc",
   "metadata": {
    "tags": []
   },
   "source": [
    "### Task 05 📍"
   ]
  },
  {
   "cell_type": "markdown",
   "id": "fb050384-59e4-4aca-8ce2-dca797f56a7d",
   "metadata": {
    "deletable": false,
    "editable": false
   },
   "source": [
    "To test their hypotheses, the data scientists have followed our textbook's advice and chosen a test statistic where the following statement is true: Large values of the test statistic favor the alternative hypothesis.\n",
    "\n",
    "The data scientists' test statistic is one of the two options below. Which one is it? Assign the appropriate number to the variable `correct_test_stat`.\n",
    "\n",
    "1. \"male age average - female age average\" in a sample created by randomly shuffling the male/female labels\n",
    "2. \"|male age average - female age average|\" in a sample created by randomly shuffling the male/female labels\n",
    "\n",
    "_Points:_ 3"
   ]
  },
  {
   "cell_type": "code",
   "execution_count": 17,
   "id": "377dc55b-c9f6-4fe9-8464-8e185a44706f",
   "metadata": {
    "tags": []
   },
   "outputs": [
    {
     "data": {
      "text/plain": [
       "1"
      ]
     },
     "execution_count": 17,
     "metadata": {},
     "output_type": "execute_result"
    }
   ],
   "source": [
    "correct_test_stat = 1\n",
    "correct_test_stat"
   ]
  },
  {
   "cell_type": "code",
   "execution_count": 18,
   "id": "cf08191c",
   "metadata": {
    "deletable": false,
    "editable": false
   },
   "outputs": [
    {
     "data": {
      "text/html": [
       "<p><strong><pre style='display: inline;'>task_05</pre></strong> passed! 🍀</p><p><strong><pre style='display: inline;'>task_05 - 1</pre> message:</strong> ✅ correct_test_stat is an int.</p><p><strong><pre style='display: inline;'>task_05 - 2</pre> message:</strong> ✅ correct_test_stat is either 1 or 2.</p>"
      ],
      "text/plain": [
       "task_05 results: All test cases passed!\n",
       "task_05 - 1 message: ✅ correct_test_stat is an int.\n",
       "task_05 - 2 message: ✅ correct_test_stat is either 1 or 2."
      ]
     },
     "execution_count": 18,
     "metadata": {},
     "output_type": "execute_result"
    }
   ],
   "source": [
    "grader.check(\"task_05\")"
   ]
  },
  {
   "cell_type": "markdown",
   "id": "1febbc9f-26f2-461d-991d-e0c14e5ba6fd",
   "metadata": {
    "tags": []
   },
   "source": [
    "### Task 06 📍"
   ]
  },
  {
   "cell_type": "markdown",
   "id": "c7e8a740-e562-445d-bb03-031b8183054b",
   "metadata": {
    "deletable": false,
    "editable": false
   },
   "source": [
    "Complete the cell below so that `observed_statistic_ab` evaluates to the observed value of the data scientists' test statistic. Use as many lines of code as you need, and remember that you can use any quantity, table, or array that you created earlier.\n",
    "\n",
    "_Points:_ 3"
   ]
  },
  {
   "cell_type": "code",
   "execution_count": 23,
   "id": "9b1004e1-88d4-40b7-8aba-75453f1a6920",
   "metadata": {},
   "outputs": [
    {
     "data": {
      "text/plain": [
       "1.314102564102562"
      ]
     },
     "execution_count": 23,
     "metadata": {},
     "output_type": "execute_result"
    }
   ],
   "source": [
    "average_table = sampled_ages.group(\"Gender\", np.average)\n",
    "average = average_table.column(1)\n",
    "observed_statistic_ab = average.item(1) - average.item(0)\n",
    "observed_statistic_ab"
   ]
  },
  {
   "cell_type": "code",
   "execution_count": 24,
   "id": "211fd6d4",
   "metadata": {
    "deletable": false,
    "editable": false
   },
   "outputs": [
    {
     "data": {
      "text/html": [
       "<p><strong><pre style='display: inline;'>task_06</pre></strong> passed! 🚀</p><p><strong><pre style='display: inline;'>task_06 - 1</pre> message:</strong> ✅ observed_statistic_ab is a float.</p><p><strong><pre style='display: inline;'>task_06 - 2</pre> message:</strong> ✅ observed_statistic_ab is 0 or larger.</p>"
      ],
      "text/plain": [
       "task_06 results: All test cases passed!\n",
       "task_06 - 1 message: ✅ observed_statistic_ab is a float.\n",
       "task_06 - 2 message: ✅ observed_statistic_ab is 0 or larger."
      ]
     },
     "execution_count": 24,
     "metadata": {},
     "output_type": "execute_result"
    }
   ],
   "source": [
    "grader.check(\"task_06\")"
   ]
  },
  {
   "cell_type": "markdown",
   "id": "bc80635a-89ca-4726-bf2e-9818868b1088",
   "metadata": {
    "tags": []
   },
   "source": [
    "### Task 07 📍"
   ]
  },
  {
   "cell_type": "markdown",
   "id": "8867f844-883e-4d3b-ba0f-6f7160c9bf15",
   "metadata": {
    "deletable": false,
    "editable": false
   },
   "source": [
    "Assign `shuffled_labels` to an array of shuffled male/female labels. The rest of the code puts the array in a table along with the data in `sampled_ages`.\n",
    "\n",
    "*Note:* Check out [12.1](https://inferentialthinking.com/chapters/12/1/AB_Testing.html#predicting-the-statistic-under-the-null-hypothesis) for a refresher on random permutations.\n",
    "\n",
    "_Points:_ 3"
   ]
  },
  {
   "cell_type": "code",
   "execution_count": 28,
   "id": "a066c9ec-5960-4e6a-8840-449d9dc094ef",
   "metadata": {},
   "outputs": [
    {
     "data": {
      "text/html": [
       "<table border=\"1\" class=\"dataframe\">\n",
       "    <thead>\n",
       "        <tr>\n",
       "            <th>Gender</th> <th>Age</th> <th>Shuffled Label</th>\n",
       "        </tr>\n",
       "    </thead>\n",
       "    <tbody>\n",
       "        <tr>\n",
       "            <td>male  </td> <td>23  </td> <td>male          </td>\n",
       "        </tr>\n",
       "        <tr>\n",
       "            <td>male  </td> <td>29  </td> <td>male          </td>\n",
       "        </tr>\n",
       "        <tr>\n",
       "            <td>male  </td> <td>29  </td> <td>male          </td>\n",
       "        </tr>\n",
       "        <tr>\n",
       "            <td>female</td> <td>49  </td> <td>male          </td>\n",
       "        </tr>\n",
       "        <tr>\n",
       "            <td>female</td> <td>33  </td> <td>male          </td>\n",
       "        </tr>\n",
       "        <tr>\n",
       "            <td>male  </td> <td>31  </td> <td>male          </td>\n",
       "        </tr>\n",
       "        <tr>\n",
       "            <td>male  </td> <td>60  </td> <td>male          </td>\n",
       "        </tr>\n",
       "        <tr>\n",
       "            <td>male  </td> <td>38  </td> <td>male          </td>\n",
       "        </tr>\n",
       "        <tr>\n",
       "            <td>female</td> <td>60  </td> <td>male          </td>\n",
       "        </tr>\n",
       "        <tr>\n",
       "            <td>female</td> <td>27  </td> <td>female        </td>\n",
       "        </tr>\n",
       "    </tbody>\n",
       "</table>\n",
       "<p>... (490 rows omitted)</p>"
      ],
      "text/plain": [
       "Gender | Age  | Shuffled Label\n",
       "male   | 23   | male\n",
       "male   | 29   | male\n",
       "male   | 29   | male\n",
       "female | 49   | male\n",
       "female | 33   | male\n",
       "male   | 31   | male\n",
       "male   | 60   | male\n",
       "male   | 38   | male\n",
       "female | 60   | male\n",
       "female | 27   | female\n",
       "... (490 rows omitted)"
      ]
     },
     "execution_count": 28,
     "metadata": {},
     "output_type": "execute_result"
    }
   ],
   "source": [
    "shuffled_labels = sampled_ages.sample(with_replacement = False).column(0)\n",
    "original_with_shuffled_labels = sampled_ages.with_columns('Shuffled Label', shuffled_labels)\n",
    "original_with_shuffled_labels"
   ]
  },
  {
   "cell_type": "code",
   "execution_count": 29,
   "id": "40916f2b",
   "metadata": {
    "deletable": false,
    "editable": false
   },
   "outputs": [
    {
     "data": {
      "text/html": [
       "<p><strong><pre style='display: inline;'>task_07</pre></strong> passed! 💯</p><p><strong><pre style='display: inline;'>task_07 - 1</pre> message:</strong> ✅ original_with_shuffled_labels is a Table.</p><p><strong><pre style='display: inline;'>task_07 - 2</pre> message:</strong> ✅ The labels for original_with_shuffled_labels are correct.</p><p><strong><pre style='display: inline;'>task_07 - 3</pre> message:</strong> ✅ original_with_shuffled_labels has the correct number of rows.</p>"
      ],
      "text/plain": [
       "task_07 results: All test cases passed!\n",
       "task_07 - 1 message: ✅ original_with_shuffled_labels is a Table.\n",
       "task_07 - 2 message: ✅ The labels for original_with_shuffled_labels are correct.\n",
       "task_07 - 3 message: ✅ original_with_shuffled_labels has the correct number of rows."
      ]
     },
     "execution_count": 29,
     "metadata": {},
     "output_type": "execute_result"
    }
   ],
   "source": [
    "grader.check(\"task_07\")"
   ]
  },
  {
   "cell_type": "markdown",
   "id": "46c70596-a8ba-4346-bc47-d07b15a3c7d8",
   "metadata": {
    "tags": []
   },
   "source": [
    "### Task 08 📍"
   ]
  },
  {
   "cell_type": "markdown",
   "id": "932cbc4c-59b9-4bcd-ae17-a9a23cc48372",
   "metadata": {
    "deletable": false,
    "editable": false,
    "slideshow": {
     "slide_type": ""
    },
    "tags": []
   },
   "source": [
    "The comparison below uses the array `shuffled_labels` from Task 07 and the count `num_females` from Task 01.\n",
    "\n",
    "For this comparison, assign the correct number from one of the following options to the variable `correct_q8`. **Pretend this is a midterm problem and solve it without doing the calculation in a code cell.**\n",
    "\n",
    "`comp = np.count_nonzero(shuffled_labels == 'female') == num_females`\n",
    "\n",
    "1. `comp` is set to `True`.\n",
    "2. `comp` is set to `False`.\n",
    "3. `comp` is set to `True` or `False`, depending on how the shuffle came out.\n",
    "\n",
    "_Points:_ 3"
   ]
  },
  {
   "cell_type": "code",
   "execution_count": 32,
   "id": "23662818-7bc5-4a12-9915-61428f08f103",
   "metadata": {
    "tags": []
   },
   "outputs": [
    {
     "data": {
      "text/plain": [
       "1"
      ]
     },
     "execution_count": 32,
     "metadata": {},
     "output_type": "execute_result"
    }
   ],
   "source": [
    "correct_q8 = 1\n",
    "correct_q8"
   ]
  },
  {
   "cell_type": "code",
   "execution_count": 33,
   "id": "c4f108d9",
   "metadata": {
    "deletable": false,
    "editable": false
   },
   "outputs": [
    {
     "data": {
      "text/html": [
       "<p><strong><pre style='display: inline;'>task_08</pre></strong> passed! 🌈</p><p><strong><pre style='display: inline;'>task_08 - 1</pre> message:</strong> ✅ correct_q8 is an int.</p><p><strong><pre style='display: inline;'>task_08 - 2</pre> message:</strong> ✅ correct_q8 is a number between 1 and 3.</p>"
      ],
      "text/plain": [
       "task_08 results: All test cases passed!\n",
       "task_08 - 1 message: ✅ correct_q8 is an int.\n",
       "task_08 - 2 message: ✅ correct_q8 is a number between 1 and 3."
      ]
     },
     "execution_count": 33,
     "metadata": {},
     "output_type": "execute_result"
    }
   ],
   "source": [
    "grader.check(\"task_08\")"
   ]
  },
  {
   "cell_type": "markdown",
   "id": "40451f07-1a77-49d5-af71-ff73d0962ed7",
   "metadata": {
    "tags": []
   },
   "source": [
    "### Task 09 📍"
   ]
  },
  {
   "cell_type": "markdown",
   "id": "3e48cc6c-b533-4edc-adc0-f282186b881d",
   "metadata": {
    "deletable": false,
    "editable": false
   },
   "source": [
    "Define a function `simulate_one_statistic` that takes no arguments and returns one simulated value of the test statistic. We've given you a skeleton, but feel free to approach this question in a way that makes sense to you. Use as many lines of code as you need. Refer to the code you have previously written in this problem, as you might be able to re-use some of it."
   ]
  },
  {
   "cell_type": "code",
   "execution_count": 35,
   "id": "b18e5400-561c-49b8-acb6-e411a5098d72",
   "metadata": {},
   "outputs": [],
   "source": [
    "def simulate_one_statistic():\n",
    "    \"Returns one value of our simulated test statistic\"\n",
    "    shuffled_labels = sampled_ages.sample(with_replacement = False).column(\"Gender\")\n",
    "    shuffled_tbl = sampled_ages.select(\"Age\").with_column(\"Shuffled Label\", shuffled_labels)\n",
    "    group_means = shuffled_tbl.group(\"Shuffled Label\", np.average) \n",
    "    groups = group_means.column(1)\n",
    "    return groups.item(1) - groups.item(0)"
   ]
  },
  {
   "cell_type": "markdown",
   "id": "aea71b44-dd36-4614-8809-3d2a8cfffa7a",
   "metadata": {
    "deletable": false,
    "editable": false
   },
   "source": [
    "After you have defined your function, run the following cell a few times to see how the statistic varies.\n",
    "\n",
    "_Points:_ 3"
   ]
  },
  {
   "cell_type": "code",
   "execution_count": 38,
   "id": "e7020b25-48a1-46f3-9ab7-ae3e52046e9e",
   "metadata": {
    "deletable": false,
    "editable": false
   },
   "outputs": [
    {
     "data": {
      "text/plain": [
       "0.8012820512820511"
      ]
     },
     "execution_count": 38,
     "metadata": {},
     "output_type": "execute_result"
    }
   ],
   "source": [
    "simulate_one_statistic()"
   ]
  },
  {
   "cell_type": "code",
   "execution_count": null,
   "id": "44cb6f0b",
   "metadata": {
    "deletable": false,
    "editable": false
   },
   "outputs": [],
   "source": [
    "grader.check(\"task_09\")"
   ]
  },
  {
   "cell_type": "markdown",
   "id": "3604e967-d772-4613-9746-6d1f2d18b60f",
   "metadata": {
    "tags": []
   },
   "source": [
    "### Task 10 📍"
   ]
  },
  {
   "cell_type": "markdown",
   "id": "76f8d9ec-97f9-4d6c-9a13-246ac06fabe2",
   "metadata": {
    "deletable": false,
    "editable": false
   },
   "source": [
    "Complete the cell to simulate 4,000 values of the statistic. We have included the code that draws the empirical distribution of the statistic and shows the value of `observed_statistic_ab` from Task 06. Feel free to use as many lines of code as you need.\n",
    "\n",
    "*Note:* This cell will take around one minute to run.\n",
    "\n",
    "_Points:_ 3"
   ]
  },
  {
   "cell_type": "code",
   "execution_count": 48,
   "id": "8cf77450-3ddd-497b-b49e-519b3f413c10",
   "metadata": {},
   "outputs": [
    {
     "data": {
      "image/png": "[encoded data removed]",
      "text/plain": [
       "<Figure size 600x400 with 1 Axes>"
      ]
     },
     "metadata": {},
     "output_type": "display_data"
    }
   ],
   "source": [
    "repetitions = 4000\n",
    "\n",
    "simulated_statistics_ab = make_array()\n",
    "\n",
    "for _ in range(repetitions):\n",
    "    # Simulate one value of the statistic and append it to the array\n",
    "    simulated_statistic = simulate_one_statistic()\n",
    "    simulated_statistics_ab = np.append(simulated_statistics_ab, simulated_statistic)\n",
    "\n",
    "# Do not change these lines\n",
    "Table().with_columns('Simulated Statistic', simulated_statistics_ab).hist()\n",
    "plt.scatter(observed_statistic_ab, -0.002, color='red', s=70);\n"
   ]
  },
  {
   "cell_type": "code",
   "execution_count": 49,
   "id": "fafb6183",
   "metadata": {
    "deletable": false,
    "editable": false
   },
   "outputs": [
    {
     "data": {
      "text/html": [
       "<p><strong><pre style='display: inline;'>task_10</pre></strong> passed! 🌈</p><p><strong><pre style='display: inline;'>task_10 - 1</pre> message:</strong> ✅ simulated_statistics_ab has 4,000 elements.</p>"
      ],
      "text/plain": [
       "task_10 results: All test cases passed!\n",
       "task_10 - 1 message: ✅ simulated_statistics_ab has 4,000 elements."
      ]
     },
     "execution_count": 49,
     "metadata": {},
     "output_type": "execute_result"
    }
   ],
   "source": [
    "grader.check(\"task_10\")"
   ]
  },
  {
   "cell_type": "markdown",
   "id": "770cc379-0348-41fa-ac37-70131a621b92",
   "metadata": {
    "tags": []
   },
   "source": [
    "### Task 11 📍"
   ]
  },
  {
   "cell_type": "markdown",
   "id": "b6a50d0a-10ba-40f2-8d94-835e9e52a4f5",
   "metadata": {
    "deletable": false,
    "editable": false
   },
   "source": [
    "Use the simulation to find an empirical approximation to the p-value. Assign `p_val` to the appropriate p-value from this simulation. Then, assign `conclusion` to either the name `null_hyp` or the name `alt_hyp`.\n",
    "\n",
    "*Note:* Assume that we use the 5% cutoff for the p-value.\n",
    "\n",
    "_Points:_ 3"
   ]
  },
  {
   "cell_type": "code",
   "execution_count": 50,
   "id": "edb3a96b-8771-48c4-bb3b-baeab320b94d",
   "metadata": {
    "tags": []
   },
   "outputs": [
    {
     "data": {
      "text/plain": [
       "(0.10625, 'The data are consistent with the null hypothesis.')"
      ]
     },
     "execution_count": 50,
     "metadata": {},
     "output_type": "execute_result"
    }
   ],
   "source": [
    "# These are variables provided for you to use.\n",
    "null_hyp = 'The data are consistent with the null hypothesis.'\n",
    "alt_hyp = 'The data support the alternative more than the null.'\n",
    "\n",
    "p_val = np.count_nonzero(simulated_statistics_ab >= observed_statistic_ab) / repetitions \n",
    "conclusion = null_hyp\n",
    "\n",
    "p_val, conclusion # Do not change this line"
   ]
  },
  {
   "cell_type": "code",
   "execution_count": 51,
   "id": "66ee0209",
   "metadata": {
    "deletable": false,
    "editable": false
   },
   "outputs": [
    {
     "data": {
      "text/html": [
       "<p><strong><pre style='display: inline;'>task_11</pre></strong> passed! 🌟</p><p><strong><pre style='display: inline;'>task_11 - 1</pre> message:</strong> ✅ p_val is a float.</p><p><strong><pre style='display: inline;'>task_11 - 2</pre> message:</strong> ✅ p_val is a number between 0 and 1.</p><p><strong><pre style='display: inline;'>task_11 - 3</pre> message:</strong> ✅ conclusion is a string.</p><p><strong><pre style='display: inline;'>task_11 - 4</pre> message:</strong> ✅ conclusion represents null_hyp or alt_hyp.</p>"
      ],
      "text/plain": [
       "task_11 results: All test cases passed!\n",
       "task_11 - 1 message: ✅ p_val is a float.\n",
       "task_11 - 2 message: ✅ p_val is a number between 0 and 1.\n",
       "task_11 - 3 message: ✅ conclusion is a string.\n",
       "task_11 - 4 message: ✅ conclusion represents null_hyp or alt_hyp."
      ]
     },
     "execution_count": 51,
     "metadata": {},
     "output_type": "execute_result"
    }
   ],
   "source": [
    "grader.check(\"task_11\")"
   ]
  },
  {
   "cell_type": "markdown",
   "id": "52136e73-6a8d-43fb-b64e-68610249127a",
   "metadata": {},
   "source": [
    "## Submit your Homework to Canvas\n",
    "\n",
    "Once you have finished working on the homework tasks, prepare to submit your work in Canvas by completing the following steps.\n",
    "\n",
    "1. In the related Canvas Assignment page, check the rubric to know how you will be scored for this assignment.\n",
    "2. Double-check that you have run the code cell near the end of the notebook that contains the command `\"grader.check_all()\"`. This command will run all of the run tests on all your responses to the auto-graded tasks marked with 📍.\n",
    "3. Double-check your responses to the manually graded tasks marked with 📍🔎.\n",
    "3. Select the menu item \"File\" and \"Save Notebook\" in the notebook's Toolbar to save your work and create a specific checkpoint in the notebook's work history.\n",
    "4. Select the menu items \"File\", \"Download\" in the notebook's Toolbar to download the notebook (.ipynb) file. \n",
    "5. In the related Canvas Assignment page, click Start Assignment or New Attempt to upload the downloaded .ipynb file.\n",
    "\n",
    "**Keep in mind that the autograder does not always check for correctness. Sometimes it just checks for the format of your answer, so passing the autograder for a question does not mean you got the answer correct for that question.**"
   ]
  },
  {
   "cell_type": "markdown",
   "id": "c0a749ec",
   "metadata": {
    "deletable": false,
    "editable": false
   },
   "source": [
    "---\n",
    "\n",
    "To double-check your work, the cell below will rerun all of the autograder tests."
   ]
  },
  {
   "cell_type": "code",
   "execution_count": 52,
   "id": "e1774af0",
   "metadata": {
    "deletable": false,
    "editable": false
   },
   "outputs": [
    {
     "data": {
      "text/plain": [
       "task_01 results: All test cases passed!\n",
       "task_01 - 1 message: ✅ num_females is a value betwen 0 and 500.\n",
       "\n",
       "task_02 results: All test cases passed!\n",
       "task_02 - 1 message: ✅ avg_male_vs_female is a bool.\n",
       "\n",
       "task_03 results: All test cases passed!\n",
       "task_03 - 1 message: ✅ null_statement_number is an int.\n",
       "task_03 - 2 message: ✅ alternative_statement_number is an int.\n",
       "task_03 - 3 message: ✅ null_statement_number is a number between 1 and 6.\n",
       "task_03 - 4 message: ✅ alternative_statement_number is a number between 1 and 6.\n",
       "task_03 - 5 message: ✅ null_statement_number is not the same as alternative_statement_number.\n",
       "\n",
       "task_04 results: All test cases passed!\n",
       "task_04 - 1 message: ✅ permutation_test_reason is an int.\n",
       "task_04 - 2 message: ✅ permutation_test_reason is a value between 1 and 3.\n",
       "\n",
       "task_05 results: All test cases passed!\n",
       "task_05 - 1 message: ✅ correct_test_stat is an int.\n",
       "task_05 - 2 message: ✅ correct_test_stat is either 1 or 2.\n",
       "\n",
       "task_06 results: All test cases passed!\n",
       "task_06 - 1 message: ✅ observed_statistic_ab is a float.\n",
       "task_06 - 2 message: ✅ observed_statistic_ab is 0 or larger.\n",
       "\n",
       "task_07 results: All test cases passed!\n",
       "task_07 - 1 message: ✅ original_with_shuffled_labels is a Table.\n",
       "task_07 - 2 message: ✅ The labels for original_with_shuffled_labels are correct.\n",
       "task_07 - 3 message: ✅ original_with_shuffled_labels has the correct number of rows.\n",
       "\n",
       "task_08 results: All test cases passed!\n",
       "task_08 - 1 message: ✅ correct_q8 is an int.\n",
       "task_08 - 2 message: ✅ correct_q8 is a number between 1 and 3.\n",
       "\n",
       "task_09 results: All test cases passed!\n",
       "task_09 - 1 message: ✅ simulate_one_statistic() returns values between -5 and 5.\n",
       "task_09 - 2 message: ✅ simulate_one_statistic seems to be working correctly\n",
       "\n",
       "task_10 results: All test cases passed!\n",
       "task_10 - 1 message: ✅ simulated_statistics_ab has 4,000 elements.\n",
       "\n",
       "task_11 results: All test cases passed!\n",
       "task_11 - 1 message: ✅ p_val is a float.\n",
       "task_11 - 2 message: ✅ p_val is a number between 0 and 1.\n",
       "task_11 - 3 message: ✅ conclusion is a string.\n",
       "task_11 - 4 message: ✅ conclusion represents null_hyp or alt_hyp."
      ]
     },
     "execution_count": 52,
     "metadata": {},
     "output_type": "execute_result"
    }
   ],
   "source": [
    "grader.check_all()"
   ]
  },
  {
   "cell_type": "code",
   "execution_count": null,
   "id": "3f1362f8-77f9-46a9-9ec7-f20493fc5898",
   "metadata": {},
   "outputs": [],
   "source": []
  }
 ],
 "metadata": {
  "kernelspec": {
   "display_name": "Python 3 (ipykernel)",
   "language": "python",
   "name": "python3"
  },
  "language_info": {
   "codemirror_mode": {
    "name": "ipython",
    "version": 3
   },
   "file_extension": ".py",
   "mimetype": "text/x-python",
   "name": "python",
   "nbconvert_exporter": "python",
   "pygments_lexer": "ipython3",
   "version": "3.10.12"
  },
  "otter": {
   "OK_FORMAT": true,
   "assignment_name": "hw08_sp24",
   "tests": {
    "task_01": {
     "name": "task_01",
     "points": 3,
     "suites": [
      {
       "cases": [
        {
         "code": ">>> 0 <= num_females <= 500\nTrue",
         "failure_message": "❌ num_females should be a value betwen 0 and 500.",
         "hidden": false,
         "locked": false,
         "points": 1,
         "success_message": "✅ num_females is a value betwen 0 and 500."
        }
       ],
       "scored": true,
       "setup": "",
       "teardown": "",
       "type": "doctest"
      }
     ]
    },
    "task_02": {
     "name": "task_02",
     "points": 3,
     "suites": [
      {
       "cases": [
        {
         "code": ">>> import numpy as np\n>>> type(avg_male_vs_female) in set([bool, np.bool_])\nTrue",
         "failure_message": "❌ avg_male_vs_female should be a bool.",
         "hidden": false,
         "locked": false,
         "points": 1,
         "success_message": "✅ avg_male_vs_female is a bool."
        }
       ],
       "scored": true,
       "setup": "",
       "teardown": "",
       "type": "doctest"
      }
     ]
    },
    "task_03": {
     "name": "task_03",
     "points": 3,
     "suites": [
      {
       "cases": [
        {
         "code": ">>> type(null_statement_number) == int\nTrue",
         "failure_message": "❌ null_statement_number should be an int.",
         "hidden": false,
         "locked": false,
         "points": 0.2,
         "success_message": "✅ null_statement_number is an int."
        },
        {
         "code": ">>> type(alternative_statement_number) == int\nTrue",
         "failure_message": "❌ alternative_statement_number should be an int.",
         "hidden": false,
         "locked": false,
         "points": 0.2,
         "success_message": "✅ alternative_statement_number is an int."
        },
        {
         "code": ">>> any((null_statement_number == x for x in np.arange(1, 7)))\nTrue",
         "failure_message": "❌ null_statement_number should be a number between 1 and 6.",
         "hidden": false,
         "locked": false,
         "points": 0.2,
         "success_message": "✅ null_statement_number is a number between 1 and 6."
        },
        {
         "code": ">>> any((alternative_statement_number == x for x in np.arange(1, 7)))\nTrue",
         "failure_message": "❌ alternative_statement_number should be a number between 1 and 6.",
         "hidden": false,
         "locked": false,
         "points": 0.2,
         "success_message": "✅ alternative_statement_number is a number between 1 and 6."
        },
        {
         "code": ">>> null_statement_number != alternative_statement_number\nTrue",
         "failure_message": "❌ null_statement_number should not the same as alternative_statement_number.",
         "hidden": false,
         "locked": false,
         "points": 0.2,
         "success_message": "✅ null_statement_number is not the same as alternative_statement_number."
        }
       ],
       "scored": true,
       "setup": "",
       "teardown": "",
       "type": "doctest"
      }
     ]
    },
    "task_04": {
     "name": "task_04",
     "points": 3,
     "suites": [
      {
       "cases": [
        {
         "code": ">>> type(permutation_test_reason) == int\nTrue",
         "failure_message": "❌ permutation_test_reason should be an int.",
         "hidden": false,
         "locked": false,
         "points": 0.5,
         "success_message": "✅ permutation_test_reason is an int."
        },
        {
         "code": ">>> any((permutation_test_reason == x for x in np.arange(1, 4)))\nTrue",
         "failure_message": "❌ permutation_test_reason should be a value between 1 and 3.",
         "hidden": false,
         "locked": false,
         "points": 0.5,
         "success_message": "✅ permutation_test_reason is a value between 1 and 3."
        }
       ],
       "scored": true,
       "setup": "",
       "teardown": "",
       "type": "doctest"
      }
     ]
    },
    "task_05": {
     "name": "task_05",
     "points": 3,
     "suites": [
      {
       "cases": [
        {
         "code": ">>> type(correct_test_stat) == int\nTrue",
         "failure_message": "❌ correct_test_stat should be an int.",
         "hidden": false,
         "locked": false,
         "points": 0.5,
         "success_message": "✅ correct_test_stat is an int."
        },
        {
         "code": ">>> any((correct_test_stat == x for x in np.arange(1, 3)))\nTrue",
         "failure_message": "❌ correct_test_stat should be either 1 or 2.",
         "hidden": false,
         "locked": false,
         "points": 0.5,
         "success_message": "✅ correct_test_stat is either 1 or 2."
        }
       ],
       "scored": true,
       "setup": "",
       "teardown": "",
       "type": "doctest"
      }
     ]
    },
    "task_06": {
     "name": "task_06",
     "points": 3,
     "suites": [
      {
       "cases": [
        {
         "code": ">>> type(observed_statistic_ab) == float\nTrue",
         "failure_message": "❌ observed_statistic_ab should be a float.",
         "hidden": false,
         "locked": false,
         "points": 0.5,
         "success_message": "✅ observed_statistic_ab is a float."
        },
        {
         "code": ">>> observed_statistic_ab >= 0\nTrue",
         "failure_message": "❌ observed_statistic_ab should be 0 or larger.",
         "hidden": false,
         "locked": false,
         "points": 0.5,
         "success_message": "✅ observed_statistic_ab is 0 or larger."
        }
       ],
       "scored": true,
       "setup": "",
       "teardown": "",
       "type": "doctest"
      }
     ]
    },
    "task_07": {
     "name": "task_07",
     "points": 3,
     "suites": [
      {
       "cases": [
        {
         "code": ">>> type(original_with_shuffled_labels) == Table\nTrue",
         "failure_message": "❌ original_with_shuffled_labels should be a Table.",
         "hidden": false,
         "locked": false,
         "points": 0.25,
         "success_message": "✅ original_with_shuffled_labels is a Table."
        },
        {
         "code": ">>> set(original_with_shuffled_labels.labels) == {'Gender', 'Age', 'Shuffled Label'}\nTrue",
         "failure_message": "❌ The labels for original_with_shuffled_labels are not correct.",
         "hidden": false,
         "locked": false,
         "points": 0.25,
         "success_message": "✅ The labels for original_with_shuffled_labels are correct."
        },
        {
         "code": ">>> original_with_shuffled_labels.num_rows == 500\nTrue",
         "failure_message": "❌ original_with_shuffled_labels doesn't have the correct number of rows.",
         "hidden": false,
         "locked": false,
         "points": 0.5,
         "success_message": "✅ original_with_shuffled_labels has the correct number of rows."
        }
       ],
       "scored": true,
       "setup": "",
       "teardown": "",
       "type": "doctest"
      }
     ]
    },
    "task_08": {
     "name": "task_08",
     "points": 3,
     "suites": [
      {
       "cases": [
        {
         "code": ">>> type(correct_q8) == int\nTrue",
         "failure_message": "❌ correct_q8 should be an int.",
         "hidden": false,
         "locked": false,
         "points": 0.5,
         "success_message": "✅ correct_q8 is an int."
        },
        {
         "code": ">>> any((correct_q8 == x for x in np.arange(1, 4)))\nTrue",
         "failure_message": "❌ correct_q8 should be a number between 1 and 3.",
         "hidden": false,
         "locked": false,
         "points": 0.5,
         "success_message": "✅ correct_q8 is a number between 1 and 3."
        }
       ],
       "scored": true,
       "setup": "",
       "teardown": "",
       "type": "doctest"
      }
     ]
    },
    "task_09": {
     "name": "task_09",
     "points": 3,
     "suites": [
      {
       "cases": [
        {
         "code": ">>> reps = 100\n>>> num_within_5 = sum((-5 < simulate_one_statistic() < 5 for _ in range(reps)))\n>>> num_within_5 / reps >= 0.95\nTrue",
         "failure_message": "❌ simulate_one_statistic() should return values between -5 and 5.",
         "hidden": false,
         "locked": false,
         "points": 1,
         "success_message": "✅ simulate_one_statistic() returns values between -5 and 5."
        },
        {
         "code": ">>> np.random.seed(2024)\n>>> np.isclose(simulate_one_statistic(), 0.5769230769230802)\nTrue",
         "failure_message": "❌ simulate_one_statistic doesn't seem to be working correctly.",
         "hidden": false,
         "locked": false,
         "points": 2,
         "success_message": "✅ simulate_one_statistic seems to be working correctly"
        }
       ],
       "scored": true,
       "setup": "",
       "teardown": "",
       "type": "doctest"
      }
     ]
    },
    "task_10": {
     "name": "task_10",
     "points": 3,
     "suites": [
      {
       "cases": [
        {
         "code": ">>> len(simulated_statistics_ab) == 4000\nTrue",
         "failure_message": "❌ simulated_statistics_ab should have 4,000 elements.",
         "hidden": false,
         "locked": false,
         "points": 1,
         "success_message": "✅ simulated_statistics_ab has 4,000 elements."
        }
       ],
       "scored": true,
       "setup": "",
       "teardown": "",
       "type": "doctest"
      }
     ]
    },
    "task_11": {
     "name": "task_11",
     "points": 3,
     "suites": [
      {
       "cases": [
        {
         "code": ">>> import numpy as np\n>>> type(p_val) in set([float, np.float32, np.float64])\nTrue",
         "failure_message": "❌ p_val should be a float.",
         "hidden": false,
         "locked": false,
         "points": 0.25,
         "success_message": "✅ p_val is a float."
        },
        {
         "code": ">>> 0 <= p_val <= 1\nTrue",
         "failure_message": "❌ p_val should be a number between 0 and 1.",
         "hidden": false,
         "locked": false,
         "points": 0.25,
         "success_message": "✅ p_val is a number between 0 and 1."
        },
        {
         "code": ">>> type(conclusion) == str\nTrue",
         "failure_message": "❌ conclusion should be a string.",
         "hidden": false,
         "locked": false,
         "points": 0.25,
         "success_message": "✅ conclusion is a string."
        },
        {
         "code": ">>> conclusion in [null_hyp, alt_hyp]\nTrue",
         "failure_message": "❌ conclusion should represent null_hyp or alt_hyp.",
         "hidden": false,
         "locked": false,
         "points": 0.25,
         "success_message": "✅ conclusion represents null_hyp or alt_hyp."
        }
       ],
       "scored": true,
       "setup": "",
       "teardown": "",
       "type": "doctest"
      }
     ]
    }
   }
  }
 },
 "nbformat": 4,
 "nbformat_minor": 5
}
