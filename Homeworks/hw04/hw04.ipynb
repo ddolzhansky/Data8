{
 "cells": [
  {
   "cell_type": "code",
   "execution_count": 30,
   "metadata": {
    "deletable": false,
    "editable": false
   },
   "outputs": [],
   "source": [
    "# Initialize Otter\n",
    "import otter\n",
    "grader = otter.Notebook(\"hw04.ipynb\")"
   ]
  },
  {
   "cell_type": "markdown",
   "metadata": {},
   "source": [
    "<img style=\"display: block; margin-left: auto; margin-right: auto\" src=\"./ccsf-logo.png\" width=\"250rem;\" alt=\"The CCSF black and white logo\">"
   ]
  },
  {
   "cell_type": "markdown",
   "metadata": {},
   "source": [
    "# Homework 4: Data Analysis"
   ]
  },
  {
   "cell_type": "markdown",
   "metadata": {},
   "source": [
    "## References\n",
    "\n",
    "* [Chapter 8 - Functions and Tables](https://inferentialthinking.com/chapters/08/Functions_and_Tables.html#) \n",
    "* [`datascience` Documentation](https://datascience.readthedocs.io/)\n",
    "* [Python Quick Reference](https://ccsf-math-108.github.io/materials-fa23/resources/quick_reference.html)"
   ]
  },
  {
   "cell_type": "markdown",
   "metadata": {},
   "source": [
    "## Assignment Reminders"
   ]
  },
  {
   "cell_type": "markdown",
   "metadata": {},
   "source": [
    "- Make sure to run the code cell at the top of this notebook that starts with `# Initialize Otter` to load the auto-grader.\n",
    "- For all tasks indicated with a 🔎 that you must write explanations and sentences for, provide your answer in the designated space.\n",
    "- Throughout this assignment and all future ones, please be sure to not re-assign variables throughout the notebook! _For example, if you use `max_temperature` in your answer to one question, do not reassign it later on. Otherwise, you will fail tests that you thought you were passing previously!_\n",
    "- We encourage you to discuss this assignment with others but make sure to write and submit your own code. Refer to the syllabus to learn more about how to learn cooperatively.\n",
    "- Unless you are asked otherwise, use the non-interactive visualizations when asked to produce a visualization for a task.\n",
    "- View the related <a href=\"https://ccsf.instructure.com\" target=\"_blank\">Canvas</a> Assignment page for additional details.\n",
    "\n",
    "Run the following code cell to import the tools for this assignment."
   ]
  },
  {
   "cell_type": "code",
   "execution_count": 31,
   "metadata": {
    "tags": []
   },
   "outputs": [],
   "source": [
    "from datascience import *\n",
    "import numpy as np\n",
    "%matplotlib inline\n",
    "import matplotlib.pyplot as plt\n",
    "plt.style.use('fivethirtyeight')"
   ]
  },
  {
   "cell_type": "markdown",
   "metadata": {},
   "source": [
    "## 🌉 San Francisco City and County Employee Salaries"
   ]
  },
  {
   "cell_type": "markdown",
   "metadata": {},
   "source": [
    "In this homework assignment, you will combine several of the skills and concepts you've learned so far to analyze [Employee Compensation](https://data.sfgov.org/City-Management-and-Ethics/Employee-Compensation/88g8-5mnd) data provided by the SF Controller's Office. We have filtered it to retain just the relevant columns and restricted the data to the fiscal year 2022-2023 (July 1, 2022 - June 30, 2023). \n",
    "\n",
    "The data stored on your account was pulled from [Employee Compensation page](https://data.sfgov.org/City-Management-and-Ethics/Employee-Compensation/88g8-5mnd) at `DataSF.gov` using the API endpoint: \n",
    "\n",
    "`'https://data.sfgov.org/resource/88g8-5mnd.csv?$limit=1000000&year_type=Fiscal&year=2023'`\n",
    "\n",
    "Run the following cell to load that data into a table called `sf`."
   ]
  },
  {
   "cell_type": "code",
   "execution_count": 39,
   "metadata": {},
   "outputs": [
    {
     "data": {
      "text/html": [
       "<table border=\"1\" class=\"dataframe\">\n",
       "    <thead>\n",
       "        <tr>\n",
       "            <th>organization_group_code</th> <th>job_family_code</th> <th>job_code</th> <th>year_type</th> <th>year</th> <th>organization_group</th> <th>department_code</th> <th>department</th> <th>union_code</th> <th>union</th> <th>job_family</th> <th>job</th> <th>employee_identifier</th> <th>salaries</th> <th>overtime</th> <th>other_salaries</th> <th>total_salary</th> <th>retirement</th> <th>health_and_dental</th> <th>other_benefits</th> <th>total_benefits</th> <th>total_compensation</th>\n",
       "        </tr>\n",
       "    </thead>\n",
       "    <tbody>\n",
       "        <tr>\n",
       "            <td>4                      </td> <td>2800           </td> <td>2846    </td> <td>Fiscal   </td> <td>2023</td> <td>Community Health                       </td> <td>DPH            </td> <td>Public Health               </td> <td>21        </td> <td>Prof & Tech Eng, Local 21   </td> <td>Public Health            </td> <td>Nutritionist                </td> <td>52846918           </td> <td>68586.6 </td> <td>0       </td> <td>18226.5       </td> <td>86813.1     </td> <td>12782.7   </td> <td>9007.39          </td> <td>6819.16       </td> <td>28609.2       </td> <td>115422            </td>\n",
       "        </tr>\n",
       "        <tr>\n",
       "            <td>4                      </td> <td>2300           </td> <td>2320    </td> <td>Fiscal   </td> <td>2023</td> <td>Community Health                       </td> <td>DPH            </td> <td>Public Health               </td> <td>791       </td> <td>SEIU, Local 1021, RN        </td> <td>Nursing                  </td> <td>Registered Nurse            </td> <td>50859893           </td> <td>147886  </td> <td>2584.28 </td> <td>12881.8       </td> <td>163352      </td> <td>23099.1   </td> <td>16134.5          </td> <td>10227.7       </td> <td>49461.3       </td> <td>212813            </td>\n",
       "        </tr>\n",
       "        <tr>\n",
       "            <td>4                      </td> <td>2300           </td> <td>2320    </td> <td>Fiscal   </td> <td>2023</td> <td>Community Health                       </td> <td>DPH            </td> <td>Public Health               </td> <td>791       </td> <td>SEIU, Local 1021, RN        </td> <td>Nursing                  </td> <td>Registered Nurse            </td> <td>47356818           </td> <td>0       </td> <td>142.79  </td> <td>0             </td> <td>142.79      </td> <td>0         </td> <td>0                </td> <td>10.95         </td> <td>10.95         </td> <td>153.74            </td>\n",
       "        </tr>\n",
       "        <tr>\n",
       "            <td>4                      </td> <td>2600           </td> <td>2654    </td> <td>Fiscal   </td> <td>2023</td> <td>Community Health                       </td> <td>DPH            </td> <td>Public Health               </td> <td>250       </td> <td>SEIU, Local 1021, Misc      </td> <td>Dietary & Food           </td> <td>Cook                        </td> <td>50850238           </td> <td>86243.6 </td> <td>33036.1 </td> <td>3166.81       </td> <td>122446      </td> <td>16188.5   </td> <td>16796.1          </td> <td>9672.34       </td> <td>42657         </td> <td>165103            </td>\n",
       "        </tr>\n",
       "        <tr>\n",
       "            <td>4                      </td> <td>2300           </td> <td>2322    </td> <td>Fiscal   </td> <td>2023</td> <td>Community Health                       </td> <td>DPH            </td> <td>Public Health               </td> <td>858       </td> <td>Teamsters, Local 856, Spv RN</td> <td>Nursing                  </td> <td>Nurse Manager               </td> <td>50877316           </td> <td>247150  </td> <td>1140.71 </td> <td>2560          </td> <td>250850      </td> <td>44327.7   </td> <td>20737.9          </td> <td>13821         </td> <td>78886.6       </td> <td>329737            </td>\n",
       "        </tr>\n",
       "        <tr>\n",
       "            <td>4                      </td> <td>2300           </td> <td>2320    </td> <td>Fiscal   </td> <td>2023</td> <td>Community Health                       </td> <td>DPH            </td> <td>Public Health               </td> <td>791       </td> <td>SEIU, Local 1021, RN        </td> <td>Nursing                  </td> <td>Registered Nurse            </td> <td>52066865           </td> <td>74860.1 </td> <td>16860.9 </td> <td>13643.7       </td> <td>105365      </td> <td>9115.42   </td> <td>8218.37          </td> <td>1798.2        </td> <td>19132         </td> <td>124497            </td>\n",
       "        </tr>\n",
       "        <tr>\n",
       "            <td>4                      </td> <td>2300           </td> <td>2320    </td> <td>Fiscal   </td> <td>2023</td> <td>Community Health                       </td> <td>DPH            </td> <td>Public Health               </td> <td>791       </td> <td>SEIU, Local 1021, RN        </td> <td>Nursing                  </td> <td>Registered Nurse            </td> <td>50850113           </td> <td>192213  </td> <td>19817.7 </td> <td>26600.3       </td> <td>238631      </td> <td>27330.6   </td> <td>21596            </td> <td>10953.1       </td> <td>59879.8       </td> <td>298511            </td>\n",
       "        </tr>\n",
       "        <tr>\n",
       "            <td>2                      </td> <td>1200           </td> <td>1246    </td> <td>Fiscal   </td> <td>2023</td> <td>Public Works, Transportation & Commerce</td> <td>DBI            </td> <td>Building Inspection         </td> <td>22        </td> <td>Prof & Tech Eng, Local 21   </td> <td>Personnel                </td> <td>Prin Human Resources Analyst</td> <td>54256822           </td> <td>151894  </td> <td>0       </td> <td>0             </td> <td>151894      </td> <td>27058.7   </td> <td>0                </td> <td>12029.7       </td> <td>39088.4       </td> <td>190983            </td>\n",
       "        </tr>\n",
       "        <tr>\n",
       "            <td>1                      </td> <td>8200           </td> <td>8239    </td> <td>Fiscal   </td> <td>2023</td> <td>Public Protection                      </td> <td>DEM            </td> <td>Dept of Emergency Management</td> <td>790       </td> <td>SEIU, Local 1021, Misc      </td> <td>Protection & Apprehension</td> <td>Public SafetyComm Supv      </td> <td>50847867           </td> <td>137352  </td> <td>40134.6 </td> <td>5846.1        </td> <td>183332      </td> <td>26232     </td> <td>16683.1          </td> <td>13126.7       </td> <td>56041.8       </td> <td>239374            </td>\n",
       "        </tr>\n",
       "        <tr>\n",
       "            <td>1                      </td> <td>8200           </td> <td>8239    </td> <td>Fiscal   </td> <td>2023</td> <td>Public Protection                      </td> <td>DEM            </td> <td>Dept of Emergency Management</td> <td>790       </td> <td>SEIU, Local 1021, Misc      </td> <td>Protection & Apprehension</td> <td>Public SafetyComm Supv      </td> <td>50870881           </td> <td>72843.4 </td> <td>2037.07 </td> <td>2311.37       </td> <td>77191.9     </td> <td>13826.2   </td> <td>9196.86          </td> <td>6065.27       </td> <td>29088.3       </td> <td>106280            </td>\n",
       "        </tr>\n",
       "    </tbody>\n",
       "</table>\n",
       "<p>... (41285 rows omitted)</p>"
      ],
      "text/plain": [
       "organization_group_code | job_family_code | job_code | year_type | year | organization_group                      | department_code | department                   | union_code | union                        | job_family                | job                          | employee_identifier | salaries | overtime | other_salaries | total_salary | retirement | health_and_dental | other_benefits | total_benefits | total_compensation\n",
       "4                       | 2800            | 2846     | Fiscal    | 2023 | Community Health                        | DPH             | Public Health                | 21         | Prof & Tech Eng, Local 21    | Public Health             | Nutritionist                 | 52846918            | 68586.6  | 0        | 18226.5        | 86813.1      | 12782.7    | 9007.39           | 6819.16        | 28609.2        | 115422\n",
       "4                       | 2300            | 2320     | Fiscal    | 2023 | Community Health                        | DPH             | Public Health                | 791        | SEIU, Local 1021, RN         | Nursing                   | Registered Nurse             | 50859893            | 147886   | 2584.28  | 12881.8        | 163352       | 23099.1    | 16134.5           | 10227.7        | 49461.3        | 212813\n",
       "4                       | 2300            | 2320     | Fiscal    | 2023 | Community Health                        | DPH             | Public Health                | 791        | SEIU, Local 1021, RN         | Nursing                   | Registered Nurse             | 47356818            | 0        | 142.79   | 0              | 142.79       | 0          | 0                 | 10.95          | 10.95          | 153.74\n",
       "4                       | 2600            | 2654     | Fiscal    | 2023 | Community Health                        | DPH             | Public Health                | 250        | SEIU, Local 1021, Misc       | Dietary & Food            | Cook                         | 50850238            | 86243.6  | 33036.1  | 3166.81        | 122446       | 16188.5    | 16796.1           | 9672.34        | 42657          | 165103\n",
       "4                       | 2300            | 2322     | Fiscal    | 2023 | Community Health                        | DPH             | Public Health                | 858        | Teamsters, Local 856, Spv RN | Nursing                   | Nurse Manager                | 50877316            | 247150   | 1140.71  | 2560           | 250850       | 44327.7    | 20737.9           | 13821          | 78886.6        | 329737\n",
       "4                       | 2300            | 2320     | Fiscal    | 2023 | Community Health                        | DPH             | Public Health                | 791        | SEIU, Local 1021, RN         | Nursing                   | Registered Nurse             | 52066865            | 74860.1  | 16860.9  | 13643.7        | 105365       | 9115.42    | 8218.37           | 1798.2         | 19132          | 124497\n",
       "4                       | 2300            | 2320     | Fiscal    | 2023 | Community Health                        | DPH             | Public Health                | 791        | SEIU, Local 1021, RN         | Nursing                   | Registered Nurse             | 50850113            | 192213   | 19817.7  | 26600.3        | 238631       | 27330.6    | 21596             | 10953.1        | 59879.8        | 298511\n",
       "2                       | 1200            | 1246     | Fiscal    | 2023 | Public Works, Transportation & Commerce | DBI             | Building Inspection          | 22         | Prof & Tech Eng, Local 21    | Personnel                 | Prin Human Resources Analyst | 54256822            | 151894   | 0        | 0              | 151894       | 27058.7    | 0                 | 12029.7        | 39088.4        | 190983\n",
       "1                       | 8200            | 8239     | Fiscal    | 2023 | Public Protection                       | DEM             | Dept of Emergency Management | 790        | SEIU, Local 1021, Misc       | Protection & Apprehension | Public SafetyComm Supv       | 50847867            | 137352   | 40134.6  | 5846.1         | 183332       | 26232      | 16683.1           | 13126.7        | 56041.8        | 239374\n",
       "1                       | 8200            | 8239     | Fiscal    | 2023 | Public Protection                       | DEM             | Dept of Emergency Management | 790        | SEIU, Local 1021, Misc       | Protection & Apprehension | Public SafetyComm Supv       | 50870881            | 72843.4  | 2037.07  | 2311.37        | 77191.9      | 13826.2    | 9196.86           | 6065.27        | 29088.3        | 106280\n",
       "... (41285 rows omitted)"
      ]
     },
     "execution_count": 39,
     "metadata": {},
     "output_type": "execute_result"
    }
   ],
   "source": [
    "# API endpoint: https://data.sfgov.org/resource/88g8-5mnd.csv?$limit=1000000&year_type=Fiscal&year=2023\n",
    "sf = Table.read_table('sf_fy22_23.csv')\n",
    "sf"
   ]
  },
  {
   "cell_type": "markdown",
   "metadata": {},
   "source": [
    "### 📝 Data Notes"
   ]
  },
  {
   "cell_type": "markdown",
   "metadata": {},
   "source": [
    "* Each line represents an employee's job information such as job family, salary, and benefits.\n",
    "* The San Francisco Controller's Office  provides [a PDF explaining what each variable means](https://data.sfgov.org/api/views/88g8-5mnd/files/OMBVvreoXRjXG6oP4Ts4497dNxt14XlBqB6uIL6cq-o?download=True&filename=N:\\EIS\\DataCoordination\\Metadata%20Spring%20Cleaning\\CON_DataDictionary_Employee-Compensation.pdf).\n",
    "There are a few interesting details in the data set that are explained in the [Employee Compensation FAQ](https://support.datasf.org/help/employee-compensation-faq)\n",
    "    * Employees have been given an employee identifier for this data and is not connected to their actual employee identification.\n",
    "    * An employee can appear on multiple lines\n",
    "    * Rows may have zero dollar amounts\n",
    "    * Adjustments to employee's pay can result in negative dollar amounts"
   ]
  },
  {
   "cell_type": "markdown",
   "metadata": {},
   "source": [
    "### 🔔 Table Size Warning"
   ]
  },
  {
   "cell_type": "markdown",
   "metadata": {},
   "source": [
    "This table has over 40 thousand rows in it. Just loading the data takes up more memory than most of our data sets so far. This means that you want to be careful with creating too many copies of the table since you have a limited amount of memory. We've set up the assignment, so you can complete the tasks with the provided amount of memory, but you may accidentally crash the kernel by running out of memory.\n",
    "\n",
    "**If your kernel keeps crashing because of running out of memory:**\n",
    "* Make sure you are only running this notebook and all your other kernels are shut down.\n",
    "* Talk with a staff member about things you might be doing that utilize a lot of resources."
   ]
  },
  {
   "cell_type": "markdown",
   "metadata": {
    "tags": []
   },
   "source": [
    "### Task 01 📍"
   ]
  },
  {
   "cell_type": "markdown",
   "metadata": {
    "deletable": false,
    "editable": false
   },
   "source": [
    "The [Employee Compensation FAQ](https://support.datasf.org/help/employee-compensation-faq) states:\n",
    "> One employee can appear on multiple lines per year if they changed positions and/or departments mid-year, which happens with some frequency.\n",
    "\n",
    "This may or may not be true for this particular fiscal year. There are 41,295 rows in the `sf` table. Determine how many unique employee identifiers there are in the `sf` table to see if there are any employees listed more than once. Assign `num_employee_ids` to the number (`int`) of unique employee identifiers in the `sf` table.\n",
    "\n",
    "*Hint: Consider using the `group` table method.*\n",
    "\n",
    "_Points:_ 2"
   ]
  },
  {
   "cell_type": "code",
   "execution_count": 4,
   "metadata": {
    "tags": []
   },
   "outputs": [
    {
     "data": {
      "text/plain": [
       "41295"
      ]
     },
     "execution_count": 4,
     "metadata": {},
     "output_type": "execute_result"
    }
   ],
   "source": [
    "num_employee_ids = sf.group('employee_identifier').num_rows\n",
    "num_employee_ids"
   ]
  },
  {
   "cell_type": "code",
   "execution_count": 5,
   "metadata": {
    "deletable": false,
    "editable": false
   },
   "outputs": [
    {
     "data": {
      "text/html": [
       "<p><strong><pre style='display: inline;'>task_01</pre></strong> passed! ✨</p><p><strong><pre style='display: inline;'>task_01 - 1</pre> message:</strong> ✅ num_employee_ids represents an integer.</p>"
      ],
      "text/plain": [
       "task_01 results: All test cases passed!\n",
       "task_01 - 1 message: ✅ num_employee_ids represents an integer."
      ]
     },
     "execution_count": 5,
     "metadata": {},
     "output_type": "execute_result"
    }
   ],
   "source": [
    "grader.check(\"task_01\")"
   ]
  },
  {
   "cell_type": "markdown",
   "metadata": {},
   "source": [
    "### Task 02 📍🔎"
   ]
  },
  {
   "cell_type": "markdown",
   "metadata": {
    "deletable": false,
    "editable": false
   },
   "source": [
    "<!-- BEGIN QUESTION -->\n",
    "\n",
    "There are a few departments that have a large number of employees. For this task, produce a bar chart that shows the five largest departments in the `sf` table ranked by employee count.\n",
    "\n",
    "_Points:_ 2"
   ]
  },
  {
   "cell_type": "code",
   "execution_count": 6,
   "metadata": {
    "tags": []
   },
   "outputs": [
    {
     "data": {
      "image/png": "[encoded data removed]",
      "text/plain": [
       "<Figure size 600x400 with 1 Axes>"
      ]
     },
     "metadata": {},
     "output_type": "display_data"
    }
   ],
   "source": [
    "department_counts = sf.group('department').sort('count', descending=True)\n",
    "top_5_departments = department_counts.take(np.arange(5))\n",
    "top_5_departments.barh('department', 'count')\n",
    "\n",
    "# Leave this to provide a title for your visualization\n",
    "plt.title('Top 5 Departments By Employee Count')\n",
    "plt.show()"
   ]
  },
  {
   "cell_type": "markdown",
   "metadata": {
    "deletable": false,
    "editable": false
   },
   "source": [
    "<!-- END QUESTION -->\n",
    "\n",
    "### Task 03 📍"
   ]
  },
  {
   "cell_type": "markdown",
   "metadata": {
    "deletable": false,
    "editable": false
   },
   "source": [
    "Some employees for the city and county make a lot of money. Identify the job title that makes the most in terms of total compensation (the sum of salary and benefits).\n",
    "1. Assign the largest total compensation (a `float` value) to `max_compensation`.\n",
    "2. Assign the job title (a `str` value) associated with the highest total compensation to the name `max_compensation_position`.\n",
    "\n",
    "_Points:_ 4"
   ]
  },
  {
   "cell_type": "code",
   "execution_count": 7,
   "metadata": {
    "tags": []
   },
   "outputs": [
    {
     "name": "stdout",
     "output_type": "stream",
     "text": [
      "The largest total compensation is $807,199.97\n",
      "The position associated with this compensation is: Chf Executive & Investment Ofc\n"
     ]
    }
   ],
   "source": [
    "# Find the row with the highest total compensation\n",
    "max_compensation_row = sf.sort('total_compensation', descending=True).row(0)\n",
    "\n",
    "max_compensation = max_compensation_row.item('total_compensation')\n",
    "max_compensation_position = max_compensation_row.item('job')\n",
    "\n",
    "\n",
    "print(f\"The largest total compensation is ${max_compensation:,}\")\n",
    "print(f\"The position associated with this compensation is: {max_compensation_position}\")"
   ]
  },
  {
   "cell_type": "code",
   "execution_count": 8,
   "metadata": {
    "deletable": false,
    "editable": false
   },
   "outputs": [
    {
     "data": {
      "text/html": [
       "<p><strong><pre style='display: inline;'>task_03</pre></strong> passed! 🍀</p><p><strong><pre style='display: inline;'>task_03 - 1</pre> message:</strong> ✅ max_compensation represents a float.</p><p><strong><pre style='display: inline;'>task_03 - 2</pre> message:</strong> ✅ max_compensation_position represents a string.</p>"
      ],
      "text/plain": [
       "task_03 results: All test cases passed!\n",
       "task_03 - 1 message: ✅ max_compensation represents a float.\n",
       "task_03 - 2 message: ✅ max_compensation_position represents a string."
      ]
     },
     "execution_count": 8,
     "metadata": {},
     "output_type": "execute_result"
    }
   ],
   "source": [
    "grader.check(\"task_03\")"
   ]
  },
  {
   "cell_type": "markdown",
   "metadata": {},
   "source": [
    "### Task 04 📍🔎"
   ]
  },
  {
   "cell_type": "markdown",
   "metadata": {
    "deletable": false,
    "editable": false
   },
   "source": [
    "<!-- BEGIN QUESTION -->\n",
    "\n",
    "Next, summarize the distribution of total compensation values so you can compare that large salary with the salaries of the rest of the employees. Specifically, create a histogram showing the distribution of total compensation.\n",
    "* Use the `unit = '$'` argument\n",
    "* Use the default bins.\n",
    "\n",
    "_Points:_ 2"
   ]
  },
  {
   "cell_type": "code",
   "execution_count": 9,
   "metadata": {
    "tags": []
   },
   "outputs": [
    {
     "data": {
      "image/png": "[encoded data removed]",
      "text/plain": [
       "<Figure size 600x400 with 1 Axes>"
      ]
     },
     "metadata": {},
     "output_type": "display_data"
    }
   ],
   "source": [
    "sf.hist('total_compensation', unit='$', bins='auto')\n",
    "\n",
    "# Leave this to provide a title for your visualization\n",
    "plt.title('Total Compensation')\n",
    "plt.show()"
   ]
  },
  {
   "cell_type": "markdown",
   "metadata": {
    "deletable": false,
    "editable": false,
    "tags": []
   },
   "source": [
    "<!-- END QUESTION -->\n",
    "\n",
    "### Task 05 📍🔎"
   ]
  },
  {
   "cell_type": "markdown",
   "metadata": {
    "deletable": false,
    "editable": false
   },
   "source": [
    "<!-- BEGIN QUESTION -->\n",
    "\n",
    "In the provided Markdown cell, explain why there seems to be no information visualized on the right side of the histogram created in Task 04. Make sure you connect your response to the `max_compensation` value you calculated.\n",
    "\n",
    "_Points:_ 2"
   ]
  },
  {
   "cell_type": "markdown",
   "metadata": {},
   "source": [
    "The lack of information on the right side of the histogram is likely due to a single data point with an extremely high total compensation value of $807,199.97. This outlier can overshadow the majority of data, making it challenging to visualize the distribution of the remaining values in the histogram."
   ]
  },
  {
   "cell_type": "markdown",
   "metadata": {
    "deletable": false,
    "editable": false
   },
   "source": [
    "<!-- END QUESTION -->\n",
    "\n",
    "### Task 06 📍🔎"
   ]
  },
  {
   "cell_type": "markdown",
   "metadata": {
    "deletable": false,
    "editable": false
   },
   "source": [
    "<!-- BEGIN QUESTION -->\n",
    "\n",
    "The area of a bar in a histogram reflects the percentage of the data represented in that particular bin. To have you think more deeply about this, we want you to create a strange version of the histogram you just made.\n",
    "\n",
    "1. Create an array called `equal_split_bins` that can be used to form the bins for a histogram of total compensation that splits the data into two equal bins.\n",
    "    * _Hint: The median (`np.median`) of a collection of numbers can be used to split the numbers into two equal halves._\n",
    "    * _Hint: Don't forget that you named the largest total compensation as `max_compensation` in a previous task._\n",
    "2. Create a histogram for the total compensation values by using `equal_split_bins` such that your histogram only shows 2 bins (bars).\n",
    "    * _Hint: Use the `bins` argument for `hist` to incorporate the `equal_split_bins` array._\n",
    "\n",
    "As with Task 02, we are just scoring your visualization, so you are welcome to alter the template/steps.\n",
    "\n",
    "_Points:_ 2"
   ]
  },
  {
   "cell_type": "code",
   "execution_count": 10,
   "metadata": {
    "tags": []
   },
   "outputs": [
    {
     "data": {
      "image/png": "[encoded data removed]",
      "text/plain": [
       "<Figure size 600x400 with 1 Axes>"
      ]
     },
     "metadata": {},
     "output_type": "display_data"
    }
   ],
   "source": [
    "# Step 1\n",
    "min_compensation = sf.column('total_compensation').min()\n",
    "median_compensation = np.median(sf.column('total_compensation'))\n",
    "equal_split_bins = [min_compensation, median_compensation, max_compensation]\n",
    "\n",
    "# Step 2\n",
    "sf.hist('total_compensation', bins=equal_split_bins)\n",
    "\n",
    "# Leave this to provide a title for your visualization\n",
    "plt.title('Total Compensation')\n",
    "plt.show()"
   ]
  },
  {
   "cell_type": "markdown",
   "metadata": {
    "deletable": false,
    "editable": false
   },
   "source": [
    "<!-- END QUESTION -->\n",
    "\n",
    "Now, that you have a basic feel for the distribution of total compensation values. Summarize the total compensations based on department. Salaries may vary within a department depending on several factors such as job, experience, etc. There might be extremely high or low salaries within a department, so it is best to use a summary value like the median which is less influenced by extreme values. "
   ]
  },
  {
   "cell_type": "markdown",
   "metadata": {
    "tags": []
   },
   "source": [
    "### Task 07 📍"
   ]
  },
  {
   "cell_type": "markdown",
   "metadata": {
    "deletable": false,
    "editable": false
   },
   "source": [
    "Your goal for this task is to create a table titled `top_5_departments` featuring two columns: `department` listing department names and `total_compensation median` displaying the median total compensation for each department. Once done, the final table should showcase the 5 departments in the data set with the highest median total compensation values.\n",
    "\n",
    "_Points:_ 5"
   ]
  },
  {
   "cell_type": "code",
   "execution_count": 11,
   "metadata": {
    "tags": []
   },
   "outputs": [
    {
     "data": {
      "text/html": [
       "<table border=\"1\" class=\"dataframe\">\n",
       "    <thead>\n",
       "        <tr>\n",
       "            <th>department</th> <th>total_compensation median</th>\n",
       "        </tr>\n",
       "    </thead>\n",
       "    <tbody>\n",
       "        <tr>\n",
       "            <td>Law Library    </td> <td>258800                   </td>\n",
       "        </tr>\n",
       "        <tr>\n",
       "            <td>Fire Department</td> <td>235598                   </td>\n",
       "        </tr>\n",
       "        <tr>\n",
       "            <td>Sheriff        </td> <td>230050                   </td>\n",
       "        </tr>\n",
       "        <tr>\n",
       "            <td>City Attorney  </td> <td>227537                   </td>\n",
       "        </tr>\n",
       "        <tr>\n",
       "            <td>Police         </td> <td>225890                   </td>\n",
       "        </tr>\n",
       "    </tbody>\n",
       "</table>"
      ],
      "text/plain": [
       "department      | total_compensation median\n",
       "Law Library     | 258800\n",
       "Fire Department | 235598\n",
       "Sheriff         | 230050\n",
       "City Attorney   | 227537\n",
       "Police          | 225890"
      ]
     },
     "execution_count": 11,
     "metadata": {},
     "output_type": "execute_result"
    }
   ],
   "source": [
    "median = sf.group('department', np.median)\n",
    "top_5 = median.sort('total_compensation median', descending=True).take(np.arange(5))\n",
    "top_5_departments = top_5.select(['department', 'total_compensation median'])\n",
    "\n",
    "top_5_departments"
   ]
  },
  {
   "cell_type": "code",
   "execution_count": 12,
   "metadata": {
    "deletable": false,
    "editable": false
   },
   "outputs": [
    {
     "data": {
      "text/html": [
       "<p><strong><pre style='display: inline;'>task_07</pre></strong> passed! 🎉</p><p><strong><pre style='display: inline;'>task_07 - 1</pre> message:</strong> ✅ top_5_departments is a Table.</p><p><strong><pre style='display: inline;'>task_07 - 2</pre> message:</strong> ✅ top_5_departments has the correct number of rows and columns</p>"
      ],
      "text/plain": [
       "task_07 results: All test cases passed!\n",
       "task_07 - 1 message: ✅ top_5_departments is a Table.\n",
       "task_07 - 2 message: ✅ top_5_departments has the correct number of rows and columns"
      ]
     },
     "execution_count": 12,
     "metadata": {},
     "output_type": "execute_result"
    }
   ],
   "source": [
    "grader.check(\"task_07\")"
   ]
  },
  {
   "cell_type": "markdown",
   "metadata": {},
   "source": [
    "### Task 08 📍"
   ]
  },
  {
   "cell_type": "markdown",
   "metadata": {
    "deletable": false,
    "editable": false
   },
   "source": [
    "Set `department_ranges` to a table containing departments as the rows, and the organization groups as the columns. The values in the rows should correspond to a total compensation range, where the range is defined as the **difference between the highest total compensation and the lowest total compensation in the department for that organization group**.\n",
    "\n",
    "Keep in mind the following while working on this:\n",
    "\n",
    "* First you'll need to define a new function `compensation_range` which takes in an array of compensations and returns the range of compensations in that array.\n",
    "* What table function allows you to specify the rows and columns of a new table?\n",
    "\n",
    "\n",
    "_Points:_ 4"
   ]
  },
  {
   "cell_type": "code",
   "execution_count": 13,
   "metadata": {
    "tags": []
   },
   "outputs": [
    {
     "data": {
      "text/html": [
       "<table border=\"1\" class=\"dataframe\">\n",
       "    <thead>\n",
       "        <tr>\n",
       "            <th>department</th> <th>Community Health</th> <th>Culture & Recreation</th> <th>General Administration & Finance</th> <th>Human Welfare & Neighborhood Development</th> <th>Public Protection</th> <th>Public Works, Transportation & Commerce</th>\n",
       "        </tr>\n",
       "    </thead>\n",
       "    <tbody>\n",
       "        <tr>\n",
       "            <td>Academy Of Sciences    </td> <td>0               </td> <td>177132              </td> <td>0                               </td> <td>0                                       </td> <td>0                </td> <td>0                                      </td>\n",
       "        </tr>\n",
       "        <tr>\n",
       "            <td>Administrative Services</td> <td>0               </td> <td>0                   </td> <td>513149                          </td> <td>0                                       </td> <td>0                </td> <td>0                                      </td>\n",
       "        </tr>\n",
       "        <tr>\n",
       "            <td>Adult Probation        </td> <td>0               </td> <td>0                   </td> <td>0                               </td> <td>0                                       </td> <td>445079           </td> <td>0                                      </td>\n",
       "        </tr>\n",
       "        <tr>\n",
       "            <td>Airport Commission     </td> <td>0               </td> <td>0                   </td> <td>0                               </td> <td>0                                       </td> <td>0                </td> <td>506447                                 </td>\n",
       "        </tr>\n",
       "        <tr>\n",
       "            <td>Art Commission         </td> <td>0               </td> <td>291648              </td> <td>0                               </td> <td>0                                       </td> <td>0                </td> <td>0                                      </td>\n",
       "        </tr>\n",
       "        <tr>\n",
       "            <td>Asian Art Museum       </td> <td>0               </td> <td>338984              </td> <td>0                               </td> <td>0                                       </td> <td>0                </td> <td>0                                      </td>\n",
       "        </tr>\n",
       "        <tr>\n",
       "            <td>Assessor               </td> <td>0               </td> <td>0                   </td> <td>320890                          </td> <td>0                                       </td> <td>0                </td> <td>0                                      </td>\n",
       "        </tr>\n",
       "        <tr>\n",
       "            <td>Board Of Appeals       </td> <td>0               </td> <td>0                   </td> <td>0                               </td> <td>0                                       </td> <td>0                </td> <td>278601                                 </td>\n",
       "        </tr>\n",
       "        <tr>\n",
       "            <td>Board Of Supervisors   </td> <td>0               </td> <td>0                   </td> <td>334616                          </td> <td>0                                       </td> <td>0                </td> <td>0                                      </td>\n",
       "        </tr>\n",
       "        <tr>\n",
       "            <td>Building Inspection    </td> <td>0               </td> <td>0                   </td> <td>0                               </td> <td>0                                       </td> <td>0                </td> <td>368399                                 </td>\n",
       "        </tr>\n",
       "    </tbody>\n",
       "</table>\n",
       "<p>... (42 rows omitted)</p>"
      ],
      "text/plain": [
       "department              | Community Health | Culture & Recreation | General Administration & Finance | Human Welfare & Neighborhood Development | Public Protection | Public Works, Transportation & Commerce\n",
       "Academy Of Sciences     | 0                | 177132               | 0                                | 0                                        | 0                 | 0\n",
       "Administrative Services | 0                | 0                    | 513149                           | 0                                        | 0                 | 0\n",
       "Adult Probation         | 0                | 0                    | 0                                | 0                                        | 445079            | 0\n",
       "Airport Commission      | 0                | 0                    | 0                                | 0                                        | 0                 | 506447\n",
       "Art Commission          | 0                | 291648               | 0                                | 0                                        | 0                 | 0\n",
       "Asian Art Museum        | 0                | 338984               | 0                                | 0                                        | 0                 | 0\n",
       "Assessor                | 0                | 0                    | 320890                           | 0                                        | 0                 | 0\n",
       "Board Of Appeals        | 0                | 0                    | 0                                | 0                                        | 0                 | 278601\n",
       "Board Of Supervisors    | 0                | 0                    | 334616                           | 0                                        | 0                 | 0\n",
       "Building Inspection     | 0                | 0                    | 0                                | 0                                        | 0                 | 368399\n",
       "... (42 rows omitted)"
      ]
     },
     "execution_count": 13,
     "metadata": {},
     "output_type": "execute_result"
    }
   ],
   "source": [
    "# Define compensation_range first\n",
    "def compensation_range(compensations):\n",
    "    return max(compensations) - min(compensations)\n",
    "\n",
    "department_ranges = sf.pivot('organization_group', 'department', 'total_compensation', compensation_range)\n",
    "department_ranges"
   ]
  },
  {
   "cell_type": "code",
   "execution_count": 15,
   "metadata": {
    "deletable": false,
    "editable": false
   },
   "outputs": [
    {
     "data": {
      "text/html": [
       "<p><strong><pre style='display: inline;'>task_08</pre></strong> passed! 🙌</p><p><strong><pre style='display: inline;'>task_08 - 1</pre> message:</strong> ✅ Your function compensation_range seems to be working correctly.</p><p><strong><pre style='display: inline;'>task_08 - 2</pre> message:</strong> ✅ You have the correct column labels in department_ranges.</p><p><strong><pre style='display: inline;'>task_08 - 3</pre> message:</strong> ✅ The values in one of the columns of department_ranges seem correct.</p>"
      ],
      "text/plain": [
       "task_08 results: All test cases passed!\n",
       "task_08 - 1 message: ✅ Your function compensation_range seems to be working correctly.\n",
       "task_08 - 2 message: ✅ You have the correct column labels in department_ranges.\n",
       "task_08 - 3 message: ✅ The values in one of the columns of department_ranges seem correct."
      ]
     },
     "execution_count": 15,
     "metadata": {},
     "output_type": "execute_result"
    }
   ],
   "source": [
    "grader.check(\"task_08\")"
   ]
  },
  {
   "cell_type": "markdown",
   "metadata": {},
   "source": [
    "### Task 09 📍🔎"
   ]
  },
  {
   "cell_type": "markdown",
   "metadata": {
    "deletable": false,
    "editable": false
   },
   "source": [
    "<!-- BEGIN QUESTION -->\n",
    "\n",
    "Provide at least **two** different explanations as to why some of the row values are `0` in the `department_ranges` table from the previous question.\n",
    "\n",
    "\n",
    "_Points:_ 2"
   ]
  },
  {
   "cell_type": "markdown",
   "metadata": {},
   "source": [
    "1. Data Gaps or Incompleteness: If there are missing or incomplete total compensation values, the range might be 0 due to insufficient data.\n",
    "2. Fixed Compensation Structure: Departments with a uniform compensation structure will result in a range of 0."
   ]
  },
  {
   "cell_type": "markdown",
   "metadata": {
    "deletable": false,
    "editable": false
   },
   "source": [
    "<!-- END QUESTION -->\n",
    "\n",
    "Which department has the longest job title? There are a few ways you might answer this, but we are going to guide you in one way that gives you practice making and using functions with the `group` method. \n",
    "\n",
    "Before you go on to the next task, run the following code cell to define a function that takes a list or array of strings and returns an array of the lengths of those strings. You don't have to understand how the code works, but this might give you an idea of where error messages come from. You should try it out with a few lists/arrays of strings to see what it is doing."
   ]
  },
  {
   "cell_type": "code",
   "execution_count": 28,
   "metadata": {},
   "outputs": [],
   "source": [
    "def string_lengths(strings):\n",
    "    '''\n",
    "    Returns an array that contains the length of each string in the array or list called strings.\n",
    "\n",
    "    Example\n",
    "    --------\n",
    "    >>> string_lengths(['a', 'an', 'the'])\n",
    "    array([1, 2, 3])\n",
    "    '''\n",
    "    \n",
    "    if not isinstance(strings, (list, np.ndarray)):\n",
    "        raise ValueError(\"Input must be a list or array\")\n",
    "\n",
    "    if len(strings) == 0:\n",
    "        return np.array([0])\n",
    "    \n",
    "    for s in strings:\n",
    "        if not isinstance(s, str):\n",
    "            raise ValueError(\"Input must contain only strings\")\n",
    "        \n",
    "    return np.array([len(s) for s in strings])"
   ]
  },
  {
   "cell_type": "code",
   "execution_count": 27,
   "metadata": {},
   "outputs": [
    {
     "data": {
      "text/plain": [
       "array([ 4,  8,  2, 13])"
      ]
     },
     "execution_count": 27,
     "metadata": {},
     "output_type": "execute_result"
    }
   ],
   "source": [
    "# Try calling the function\n",
    "an_array_of_strings = make_array('City', 'College', 'of', 'San Francisco')\n",
    "string_lengths(an_array_of_strings)"
   ]
  },
  {
   "cell_type": "markdown",
   "metadata": {},
   "source": [
    "Notice that it provides the length of the 4 strings that were provided in the input array. Remember that `len` does count the blank space in `'San Francisco'`."
   ]
  },
  {
   "cell_type": "markdown",
   "metadata": {
    "tags": []
   },
   "source": [
    "### Task 10 📍"
   ]
  },
  {
   "cell_type": "markdown",
   "metadata": {
    "deletable": false,
    "editable": false
   },
   "source": [
    "Define a function called `max_job_name` that returns the length of the longest job name from an array or list of job names (strings).\n",
    "\n",
    "* **Hint:** Use the `string_lengths` function above. \n",
    "* **Hint:** `max_job_name(['Electrician', 'Analyst', 'Social Worker'])` should return `13` because `'Social Worker'` is the longest string with 13 characters (including the space).\n",
    "* **Hint:** You can assume the list of jobs is not empty because every department in the `sf` table has at least 1 job. \n",
    "\n",
    "_Points:_ 3"
   ]
  },
  {
   "cell_type": "code",
   "execution_count": 19,
   "metadata": {
    "tags": []
   },
   "outputs": [
    {
     "data": {
      "text/plain": [
       "13"
      ]
     },
     "execution_count": 19,
     "metadata": {},
     "output_type": "execute_result"
    }
   ],
   "source": [
    "def max_job_name(job_names):\n",
    "    lengths = string_lengths(job_names)\n",
    "    return max(lengths)\n",
    "...\n",
    "\n",
    "# Try out the function\n",
    "max_job_name(['Electrician', 'Analyst', 'Social Worker'])"
   ]
  },
  {
   "cell_type": "code",
   "execution_count": 20,
   "metadata": {
    "deletable": false,
    "editable": false
   },
   "outputs": [
    {
     "data": {
      "text/html": [
       "<p><strong><pre style='display: inline;'>task_10</pre></strong> passed! ✨</p><p><strong><pre style='display: inline;'>task_10 - 1</pre> message:</strong> ✅ max_job_name is callable.</p><p><strong><pre style='display: inline;'>task_10 - 2</pre> message:</strong> ✅ max_job_name seems to be working.</p>"
      ],
      "text/plain": [
       "task_10 results: All test cases passed!\n",
       "task_10 - 1 message: ✅ max_job_name is callable.\n",
       "task_10 - 2 message: ✅ max_job_name seems to be working."
      ]
     },
     "execution_count": 20,
     "metadata": {},
     "output_type": "execute_result"
    }
   ],
   "source": [
    "grader.check(\"task_10\")"
   ]
  },
  {
   "cell_type": "markdown",
   "metadata": {
    "tags": []
   },
   "source": [
    "### Task 11 📍"
   ]
  },
  {
   "cell_type": "markdown",
   "metadata": {
    "deletable": false,
    "editable": false
   },
   "source": [
    "What are the lengths of the longest job names for each department?\n",
    "\n",
    "Create a table called `departments` that shows a row for each unique department name in the `sf` table and the length of the longest job name within that department. A few things to consider when making your final table:\n",
    "\n",
    "* Sort the table so that the department(s) with the longest job name are at the top of the table.\n",
    "* The columns should be `'department'` and `'max_job_name_length'`.\n",
    "\n",
    "**Hint:** Try out the `max_job_name` function you just made!\n",
    "\n",
    "_Points:_ 2"
   ]
  },
  {
   "cell_type": "code",
   "execution_count": 25,
   "metadata": {
    "tags": []
   },
   "outputs": [
    {
     "ename": "ValueError",
     "evalue": "Input must contain only strings",
     "output_type": "error",
     "traceback": [
      "\u001b[0;31m---------------------------------------------------------------------------\u001b[0m",
      "\u001b[0;31mValueError\u001b[0m                                Traceback (most recent call last)",
      "Cell \u001b[0;32mIn[25], line 1\u001b[0m\n\u001b[0;32m----> 1\u001b[0m grouping \u001b[38;5;241m=\u001b[39m \u001b[43msf\u001b[49m\u001b[38;5;241;43m.\u001b[39;49m\u001b[43mgroup\u001b[49m\u001b[43m(\u001b[49m\u001b[38;5;124;43m'\u001b[39;49m\u001b[38;5;124;43mdepartment\u001b[39;49m\u001b[38;5;124;43m'\u001b[39;49m\u001b[43m,\u001b[49m\u001b[43m \u001b[49m\u001b[43mmax_job_name\u001b[49m\u001b[43m)\u001b[49m\n\u001b[1;32m      2\u001b[0m departments \u001b[38;5;241m=\u001b[39m grouping\u001b[38;5;241m.\u001b[39msort(\u001b[38;5;124m'\u001b[39m\u001b[38;5;124mmax_job_name_length\u001b[39m\u001b[38;5;124m'\u001b[39m, descending\u001b[38;5;241m=\u001b[39m\u001b[38;5;28;01mTrue\u001b[39;00m)\n\u001b[1;32m      4\u001b[0m departments\n",
      "File \u001b[0;32m/srv/conda/envs/notebook/lib/python3.10/site-packages/datascience/tables.py:1578\u001b[0m, in \u001b[0;36mTable.group\u001b[0;34m(self, column_or_label, collect)\u001b[0m\n\u001b[1;32m   1576\u001b[0m     \u001b[38;5;28;01mfor\u001b[39;00m i, label \u001b[38;5;129;01min\u001b[39;00m \u001b[38;5;28menumerate\u001b[39m(\u001b[38;5;28mself\u001b[39m\u001b[38;5;241m.\u001b[39mlabels):\n\u001b[1;32m   1577\u001b[0m         labels\u001b[38;5;241m.\u001b[39mappend(_collected_label(collect, label))\n\u001b[0;32m-> 1578\u001b[0m         c \u001b[38;5;241m=\u001b[39m [collect(np\u001b[38;5;241m.\u001b[39marray([row[i] \u001b[38;5;28;01mfor\u001b[39;00m row \u001b[38;5;129;01min\u001b[39;00m groups[k]])) \u001b[38;5;28;01mfor\u001b[39;00m k \u001b[38;5;129;01min\u001b[39;00m keys]\n\u001b[1;32m   1579\u001b[0m         columns\u001b[38;5;241m.\u001b[39mappend(c)\n\u001b[1;32m   1581\u001b[0m grouped \u001b[38;5;241m=\u001b[39m \u001b[38;5;28mtype\u001b[39m(\u001b[38;5;28mself\u001b[39m)()\u001b[38;5;241m.\u001b[39mwith_columns(\u001b[38;5;28mzip\u001b[39m(labels, columns))\n",
      "File \u001b[0;32m/srv/conda/envs/notebook/lib/python3.10/site-packages/datascience/tables.py:1578\u001b[0m, in \u001b[0;36m<listcomp>\u001b[0;34m(.0)\u001b[0m\n\u001b[1;32m   1576\u001b[0m     \u001b[38;5;28;01mfor\u001b[39;00m i, label \u001b[38;5;129;01min\u001b[39;00m \u001b[38;5;28menumerate\u001b[39m(\u001b[38;5;28mself\u001b[39m\u001b[38;5;241m.\u001b[39mlabels):\n\u001b[1;32m   1577\u001b[0m         labels\u001b[38;5;241m.\u001b[39mappend(_collected_label(collect, label))\n\u001b[0;32m-> 1578\u001b[0m         c \u001b[38;5;241m=\u001b[39m [\u001b[43mcollect\u001b[49m\u001b[43m(\u001b[49m\u001b[43mnp\u001b[49m\u001b[38;5;241;43m.\u001b[39;49m\u001b[43marray\u001b[49m\u001b[43m(\u001b[49m\u001b[43m[\u001b[49m\u001b[43mrow\u001b[49m\u001b[43m[\u001b[49m\u001b[43mi\u001b[49m\u001b[43m]\u001b[49m\u001b[43m \u001b[49m\u001b[38;5;28;43;01mfor\u001b[39;49;00m\u001b[43m \u001b[49m\u001b[43mrow\u001b[49m\u001b[43m \u001b[49m\u001b[38;5;129;43;01min\u001b[39;49;00m\u001b[43m \u001b[49m\u001b[43mgroups\u001b[49m\u001b[43m[\u001b[49m\u001b[43mk\u001b[49m\u001b[43m]\u001b[49m\u001b[43m]\u001b[49m\u001b[43m)\u001b[49m\u001b[43m)\u001b[49m \u001b[38;5;28;01mfor\u001b[39;00m k \u001b[38;5;129;01min\u001b[39;00m keys]\n\u001b[1;32m   1579\u001b[0m         columns\u001b[38;5;241m.\u001b[39mappend(c)\n\u001b[1;32m   1581\u001b[0m grouped \u001b[38;5;241m=\u001b[39m \u001b[38;5;28mtype\u001b[39m(\u001b[38;5;28mself\u001b[39m)()\u001b[38;5;241m.\u001b[39mwith_columns(\u001b[38;5;28mzip\u001b[39m(labels, columns))\n",
      "File \u001b[0;32m/srv/conda/envs/notebook/lib/python3.10/site-packages/datascience/tables.py:5832\u001b[0m, in \u001b[0;36m_zero_on_type_error.<locals>.wrapped\u001b[0;34m(column)\u001b[0m\n\u001b[1;32m   5829\u001b[0m \u001b[38;5;129m@functools\u001b[39m\u001b[38;5;241m.\u001b[39mwraps(column_fn)\n\u001b[1;32m   5830\u001b[0m \u001b[38;5;28;01mdef\u001b[39;00m \u001b[38;5;21mwrapped\u001b[39m(column):\n\u001b[1;32m   5831\u001b[0m     \u001b[38;5;28;01mtry\u001b[39;00m:\n\u001b[0;32m-> 5832\u001b[0m         \u001b[38;5;28;01mreturn\u001b[39;00m \u001b[43mcolumn_fn\u001b[49m\u001b[43m(\u001b[49m\u001b[43mcolumn\u001b[49m\u001b[43m)\u001b[49m\n\u001b[1;32m   5833\u001b[0m     \u001b[38;5;28;01mexcept\u001b[39;00m \u001b[38;5;167;01mTypeError\u001b[39;00m:\n\u001b[1;32m   5834\u001b[0m         \u001b[38;5;28;01mif\u001b[39;00m \u001b[38;5;28misinstance\u001b[39m(column, np\u001b[38;5;241m.\u001b[39mndarray):\n",
      "Cell \u001b[0;32mIn[19], line 2\u001b[0m, in \u001b[0;36mmax_job_name\u001b[0;34m(job_names)\u001b[0m\n\u001b[1;32m      1\u001b[0m \u001b[38;5;28;01mdef\u001b[39;00m \u001b[38;5;21mmax_job_name\u001b[39m(job_names):\n\u001b[0;32m----> 2\u001b[0m     lengths \u001b[38;5;241m=\u001b[39m \u001b[43mstring_lengths\u001b[49m\u001b[43m(\u001b[49m\u001b[43mjob_names\u001b[49m\u001b[43m)\u001b[49m\n\u001b[1;32m      3\u001b[0m     \u001b[38;5;28;01mreturn\u001b[39;00m \u001b[38;5;28mmax\u001b[39m(lengths)\n",
      "Cell \u001b[0;32mIn[16], line 19\u001b[0m, in \u001b[0;36mstring_lengths\u001b[0;34m(strings)\u001b[0m\n\u001b[1;32m     17\u001b[0m \u001b[38;5;28;01mfor\u001b[39;00m s \u001b[38;5;129;01min\u001b[39;00m strings:\n\u001b[1;32m     18\u001b[0m     \u001b[38;5;28;01mif\u001b[39;00m \u001b[38;5;129;01mnot\u001b[39;00m \u001b[38;5;28misinstance\u001b[39m(s, \u001b[38;5;28mstr\u001b[39m):\n\u001b[0;32m---> 19\u001b[0m         \u001b[38;5;28;01mraise\u001b[39;00m \u001b[38;5;167;01mValueError\u001b[39;00m(\u001b[38;5;124m\"\u001b[39m\u001b[38;5;124mInput must contain only strings\u001b[39m\u001b[38;5;124m\"\u001b[39m)\n\u001b[1;32m     21\u001b[0m \u001b[38;5;28;01mreturn\u001b[39;00m np\u001b[38;5;241m.\u001b[39marray([\u001b[38;5;28mlen\u001b[39m(s) \u001b[38;5;28;01mfor\u001b[39;00m s \u001b[38;5;129;01min\u001b[39;00m strings])\n",
      "\u001b[0;31mValueError\u001b[0m: Input must contain only strings"
     ]
    }
   ],
   "source": [
    "grouping = sf.group('department', max_job_name)\n",
    "departments = grouping.sort('max_job_name_length', descending=True)\n",
    "\n",
    "departments"
   ]
  },
  {
   "cell_type": "code",
   "execution_count": 26,
   "metadata": {
    "deletable": false,
    "editable": false
   },
   "outputs": [
    {
     "data": {
      "text/html": [
       "<p><strong style='color: red;'><pre style='display: inline;'>task_11</pre> results:</strong></p><p><strong><pre style='display: inline;'>task_11 - 1</pre> message:</strong> ❌ departments should a table.</p><p><strong><pre style='display: inline;'>task_11 - 1</pre> result:</strong></p><pre>    ❌ Test case failed\n",
       "    Trying:\n",
       "        def check_old_new():\n",
       "            try:\n",
       "                return isinstance(departments, Table) or isinstance(department, str)\n",
       "            except NameError:\n",
       "                if 'departments' not in globals() and ('department' in globals() and isinstance(department, str)):\n",
       "                    return True\n",
       "                else:\n",
       "                    return False\n",
       "            else:\n",
       "                return False\n",
       "    Expecting nothing\n",
       "    ok\n",
       "    Trying:\n",
       "        check_old_new()\n",
       "    Expecting:\n",
       "        True\n",
       "    **********************************************************************\n",
       "    Line 11, in task_11 0\n",
       "    Failed example:\n",
       "        check_old_new()\n",
       "    Expected:\n",
       "        True\n",
       "    Got:\n",
       "        False\n",
       "</pre>"
      ],
      "text/plain": [
       "task_11 results:\n",
       "    task_11 - 1 message: ❌ departments should a table.\n",
       "\n",
       "    task_11 - 1 result:\n",
       "        ❌ Test case failed\n",
       "        Trying:\n",
       "            def check_old_new():\n",
       "                try:\n",
       "                    return isinstance(departments, Table) or isinstance(department, str)\n",
       "                except NameError:\n",
       "                    if 'departments' not in globals() and ('department' in globals() and isinstance(department, str)):\n",
       "                        return True\n",
       "                    else:\n",
       "                        return False\n",
       "                else:\n",
       "                    return False\n",
       "        Expecting nothing\n",
       "        ok\n",
       "        Trying:\n",
       "            check_old_new()\n",
       "        Expecting:\n",
       "            True\n",
       "        **********************************************************************\n",
       "        Line 11, in task_11 0\n",
       "        Failed example:\n",
       "            check_old_new()\n",
       "        Expected:\n",
       "            True\n",
       "        Got:\n",
       "            False"
      ]
     },
     "execution_count": 26,
     "metadata": {},
     "output_type": "execute_result"
    }
   ],
   "source": [
    "grader.check(\"task_11\")"
   ]
  },
  {
   "cell_type": "markdown",
   "metadata": {},
   "source": [
    "---"
   ]
  },
  {
   "cell_type": "markdown",
   "metadata": {},
   "source": [
    "California has laws in place to help govern how much an employee should be paid for overtime work. Visit the [Labor Commissioner's Office FAQ about Overtime](https://www.dir.ca.gov/dlse/faq_overtime.htm) if you are curious about these laws. There could be several reasons for why an employee works overtime. Some are healthy reasons and some are not. The ratio of overtime compensation to total compensation can provide a signal for health of departments and their employees. According to [Indeed.com](https://www.indeed.com/career-advice/career-development/working-overtime), here are some potential disadvantages of working extra hours:\n",
    "\n",
    "> **Focus loss**: You will likely want to take breaks while working overtime, and you may lose focus and productivity naturally as your working hours increase. \n",
    "> \n",
    "> **Safety and health risk**: Working longer hours also can be dangerous, depending on the job. Working overtime regularly can also disrupt your work-life balance, lead to burnout or create health risks, such as sitting at a computer for long periods. Due to these risks, more companies are limiting the number of hours worked in certain positions, such as truck drivers. \n",
    "> \n",
    "> **Less work-life balance**: There are only 24 hours in the day, and working overtime reduces the time for a good work-life balance. More work hours mean fewer hours for family, relaxation and sleep.\n",
    "\n",
    "On the other hand, here are some potential advantages for working extra hours:\n",
    "\n",
    "> **Extra money**: Working overtime means you earn extra money for extra hours, usually 1.5 to two times your hourly rate. Overtime pay could allow you to bulk up your salary and have more money for living expenses, vacations or savings. \n",
    ">\n",
    ">**Career boost**: Working overtime may also help advance your career—and potential earnings—by proving you’re reliable and motivated in your role. Volunteering to work extra hours shows your current employer that you’re dedicated to doing a good job. \n",
    ">\n",
    ">**Gain experience**: Overtime is an opportunity to gain job experience and polish your skills. Typically, the more you work at something, the better you become."
   ]
  },
  {
   "cell_type": "markdown",
   "metadata": {},
   "source": [
    "One way to analyze overtime work for San Francisco employees is to consider the overtime pay values in the data set, but these values are relative to the amount of money the employee makes. To account for this you could consider overtime pay for an employee as a quantity relative to that employee's salary. This would allow you to compare these ratios for all the employees. Specifically, use the measurement called the overtime ratio defined as:\n",
    "\n",
    "$$\\text{Overtime Ratio} = \\frac{\\text{Overtime Pay}}{\\text{Salary}}$$\n",
    "\n",
    "There are many special cases when it comes to overtime pay that might analyzing this ratio in general challenging. So, to keep things more simple, narrow your focus to employees to at least a certain salary. Let that base salary reflect working 40 hrs per week for 52 weeks at the minimum wage of the time, 16.99 dollars per hour."
   ]
  },
  {
   "cell_type": "markdown",
   "metadata": {
    "tags": []
   },
   "source": [
    "### Task 12 📍"
   ]
  },
  {
   "cell_type": "markdown",
   "metadata": {
    "deletable": false,
    "editable": false
   },
   "source": [
    "For this task, create a table called `sf_above_35k` that contains the same information in the `sf` table and overtime ratios for employees making above $35,000. Make sure that `sf_above_35k` has:\n",
    " * Only employees from the `sf` table that have salaries above 35,000 dollars AND\n",
    " * The same columns as the `sf` table with an additional column `overtime_ratio` containing the overtime ratios from the above formula.\n",
    "\n",
    "_Points:_ 5"
   ]
  },
  {
   "cell_type": "code",
   "execution_count": 50,
   "metadata": {
    "tags": []
   },
   "outputs": [
    {
     "ename": "TypeError",
     "evalue": "can only concatenate tuple (not \"list\") to tuple",
     "output_type": "error",
     "traceback": [
      "\u001b[0;31m---------------------------------------------------------------------------\u001b[0m",
      "\u001b[0;31mTypeError\u001b[0m                                 Traceback (most recent call last)",
      "Cell \u001b[0;32mIn[50], line 5\u001b[0m\n\u001b[1;32m      2\u001b[0m overtime_ratios \u001b[38;5;241m=\u001b[39m sf\u001b[38;5;241m.\u001b[39mwhere(\u001b[38;5;124m'\u001b[39m\u001b[38;5;124msalaries\u001b[39m\u001b[38;5;124m'\u001b[39m, are\u001b[38;5;241m.\u001b[39mabove(\u001b[38;5;241m35000\u001b[39m))\u001b[38;5;241m.\u001b[39mwith_column(\u001b[38;5;124m'\u001b[39m\u001b[38;5;124movertime_ratio\u001b[39m\u001b[38;5;124m'\u001b[39m, sf[\u001b[38;5;124m'\u001b[39m\u001b[38;5;124movertime\u001b[39m\u001b[38;5;124m'\u001b[39m] \u001b[38;5;241m/\u001b[39m sf[\u001b[38;5;124m'\u001b[39m\u001b[38;5;124msalaries\u001b[39m\u001b[38;5;124m'\u001b[39m])\n\u001b[1;32m      4\u001b[0m \u001b[38;5;66;03m# Display the result\u001b[39;00m\n\u001b[0;32m----> 5\u001b[0m sf_above_35k \u001b[38;5;241m=\u001b[39m overtime_ratios\u001b[38;5;241m.\u001b[39mselect(\u001b[43msf\u001b[49m\u001b[38;5;241;43m.\u001b[39;49m\u001b[43mlabels\u001b[49m\u001b[43m \u001b[49m\u001b[38;5;241;43m+\u001b[39;49m\u001b[43m \u001b[49m\u001b[43m[\u001b[49m\u001b[38;5;124;43m'\u001b[39;49m\u001b[38;5;124;43movertime_ratio\u001b[39;49m\u001b[38;5;124;43m'\u001b[39;49m\u001b[43m]\u001b[49m)\n\u001b[1;32m      6\u001b[0m sf_above_35k\n",
      "\u001b[0;31mTypeError\u001b[0m: can only concatenate tuple (not \"list\") to tuple"
     ]
    }
   ],
   "source": [
    "# Calculate overtime ratios for employees making above $35,000\n",
    "overtime_ratios = sf.where('salaries', are.above(35000)).with_column('overtime_ratio', sf['overtime'] / sf['salaries'])\n",
    "\n",
    "# Display the result\n",
    "sf_above_35k = overtime_ratios.select(sf.labels + ['overtime_ratio'])\n",
    "sf_above_35k\n"
   ]
  },
  {
   "cell_type": "code",
   "execution_count": 49,
   "metadata": {
    "deletable": false,
    "editable": false
   },
   "outputs": [
    {
     "data": {
      "text/html": [
       "<p><strong style='color: red;'><pre style='display: inline;'>task_12</pre> results:</strong></p><p><strong><pre style='display: inline;'>task_12 - 1</pre> message:</strong> ❌ sf_above_35k should be a Table.</p><p><strong><pre style='display: inline;'>task_12 - 1</pre> result:</strong></p><pre>    ❌ Test case failed\n",
       "    Trying:\n",
       "        isinstance(sf_above_35k, Table)\n",
       "    Expecting:\n",
       "        True\n",
       "    **********************************************************************\n",
       "    Line 1, in task_12 0\n",
       "    Failed example:\n",
       "        isinstance(sf_above_35k, Table)\n",
       "    Exception raised:\n",
       "        Traceback (most recent call last):\n",
       "          File \"/srv/conda/envs/notebook/lib/python3.10/doctest.py\", line 1350, in __run\n",
       "            exec(compile(example.source, filename, \"single\",\n",
       "          File \"<doctest task_12 0[0]>\", line 1, in <module>\n",
       "            isinstance(sf_above_35k, Table)\n",
       "        NameError: name 'sf_above_35k' is not defined\n",
       "</pre><p><strong><pre style='display: inline;'>task_12 - 2</pre> message:</strong> ❌ sf_above_35k doesn't have the correct number of columns.</p><p><strong><pre style='display: inline;'>task_12 - 2</pre> result:</strong></p><pre>    ❌ Test case failed\n",
       "    Trying:\n",
       "        sf_above_35k.num_columns == sf.num_columns + 1\n",
       "    Expecting:\n",
       "        True\n",
       "    **********************************************************************\n",
       "    Line 1, in task_12 1\n",
       "    Failed example:\n",
       "        sf_above_35k.num_columns == sf.num_columns + 1\n",
       "    Exception raised:\n",
       "        Traceback (most recent call last):\n",
       "          File \"/srv/conda/envs/notebook/lib/python3.10/doctest.py\", line 1350, in __run\n",
       "            exec(compile(example.source, filename, \"single\",\n",
       "          File \"<doctest task_12 1[0]>\", line 1, in <module>\n",
       "            sf_above_35k.num_columns == sf.num_columns + 1\n",
       "        NameError: name 'sf_above_35k' is not defined\n",
       "</pre>"
      ],
      "text/plain": [
       "task_12 results:\n",
       "    task_12 - 1 message: ❌ sf_above_35k should be a Table.\n",
       "\n",
       "    task_12 - 1 result:\n",
       "        ❌ Test case failed\n",
       "        Trying:\n",
       "            isinstance(sf_above_35k, Table)\n",
       "        Expecting:\n",
       "            True\n",
       "        **********************************************************************\n",
       "        Line 1, in task_12 0\n",
       "        Failed example:\n",
       "            isinstance(sf_above_35k, Table)\n",
       "        Exception raised:\n",
       "            Traceback (most recent call last):\n",
       "              File \"/srv/conda/envs/notebook/lib/python3.10/doctest.py\", line 1350, in __run\n",
       "                exec(compile(example.source, filename, \"single\",\n",
       "              File \"<doctest task_12 0[0]>\", line 1, in <module>\n",
       "                isinstance(sf_above_35k, Table)\n",
       "            NameError: name 'sf_above_35k' is not defined\n",
       "\n",
       "    task_12 - 2 message: ❌ sf_above_35k doesn't have the correct number of columns.\n",
       "\n",
       "    task_12 - 2 result:\n",
       "        ❌ Test case failed\n",
       "        Trying:\n",
       "            sf_above_35k.num_columns == sf.num_columns + 1\n",
       "        Expecting:\n",
       "            True\n",
       "        **********************************************************************\n",
       "        Line 1, in task_12 1\n",
       "        Failed example:\n",
       "            sf_above_35k.num_columns == sf.num_columns + 1\n",
       "        Exception raised:\n",
       "            Traceback (most recent call last):\n",
       "              File \"/srv/conda/envs/notebook/lib/python3.10/doctest.py\", line 1350, in __run\n",
       "                exec(compile(example.source, filename, \"single\",\n",
       "              File \"<doctest task_12 1[0]>\", line 1, in <module>\n",
       "                sf_above_35k.num_columns == sf.num_columns + 1\n",
       "            NameError: name 'sf_above_35k' is not defined"
      ]
     },
     "execution_count": 49,
     "metadata": {},
     "output_type": "execute_result"
    }
   ],
   "source": [
    "grader.check(\"task_12\")"
   ]
  },
  {
   "cell_type": "markdown",
   "metadata": {
    "tags": []
   },
   "source": [
    "### Task 13 📍🔎"
   ]
  },
  {
   "cell_type": "markdown",
   "metadata": {
    "deletable": false,
    "editable": false
   },
   "source": [
    "<!-- BEGIN QUESTION -->\n",
    "\n",
    "Is overtime collected similarly over the various salaries in the `sf_above_35k` table? See if there is any relationship between salary and the overtime ratios. For this task, create a visualization showing the relationship between salary and overtime ratio values for employees who make above $35,000.\n",
    "\n",
    "_Points:_ 2"
   ]
  },
  {
   "cell_type": "code",
   "execution_count": 52,
   "metadata": {
    "tags": []
   },
   "outputs": [
    {
     "ename": "NameError",
     "evalue": "name 'sf_above_35k' is not defined",
     "output_type": "error",
     "traceback": [
      "\u001b[0;31m---------------------------------------------------------------------------\u001b[0m",
      "\u001b[0;31mNameError\u001b[0m                                 Traceback (most recent call last)",
      "Cell \u001b[0;32mIn[52], line 2\u001b[0m\n\u001b[1;32m      1\u001b[0m \u001b[38;5;66;03m# Scatter plot of overtime ratio vs. salary\u001b[39;00m\n\u001b[0;32m----> 2\u001b[0m plt\u001b[38;5;241m.\u001b[39mscatter(\u001b[43msf_above_35k\u001b[49m[\u001b[38;5;124m'\u001b[39m\u001b[38;5;124msalaries\u001b[39m\u001b[38;5;124m'\u001b[39m], sf_above_35k[\u001b[38;5;124m'\u001b[39m\u001b[38;5;124movertime_ratio\u001b[39m\u001b[38;5;124m'\u001b[39m])\n\u001b[1;32m      4\u001b[0m \u001b[38;5;66;03m# Leave this to provide a title for your visualization\u001b[39;00m\n\u001b[1;32m      5\u001b[0m plt\u001b[38;5;241m.\u001b[39mtitle(\u001b[38;5;124m'\u001b[39m\u001b[38;5;124mOvertime Ratio vs. Salary\u001b[39m\u001b[38;5;124m'\u001b[39m)\n",
      "\u001b[0;31mNameError\u001b[0m: name 'sf_above_35k' is not defined"
     ]
    }
   ],
   "source": [
    "# Scatter plot of overtime ratio vs. salary\n",
    "plt.scatter(sf_above_35k['salaries'], sf_above_35k['overtime_ratio'])\n",
    "\n",
    "# Leave this to provide a title for your visualization\n",
    "plt.title('Overtime Ratio vs. Salary')\n",
    "plt.show()"
   ]
  },
  {
   "cell_type": "markdown",
   "metadata": {
    "deletable": false,
    "editable": false,
    "tags": []
   },
   "source": [
    "<!-- END QUESTION -->\n",
    "\n",
    "### Task 14 📍🔎"
   ]
  },
  {
   "cell_type": "markdown",
   "metadata": {
    "deletable": false,
    "editable": false
   },
   "source": [
    "<!-- BEGIN QUESTION -->\n",
    "\n",
    "In the provided Markdown cell, summarize the relationship you see based on the visualization and provide at least one idea for why you are seeing the pattern you are seeing.\n",
    "\n",
    "_Points:_ 2"
   ]
  },
  {
   "cell_type": "markdown",
   "metadata": {},
   "source": [
    "_Type your answer here, replacing this text._"
   ]
  },
  {
   "cell_type": "markdown",
   "metadata": {
    "deletable": false,
    "editable": false
   },
   "source": [
    "<!-- END QUESTION -->\n",
    "\n",
    "There are many things you can explore in this data set, but that is enough for now!"
   ]
  },
  {
   "cell_type": "markdown",
   "metadata": {},
   "source": [
    "## Submit your Homework to Canvas\n",
    "\n",
    "Once you have finished working on the homework tasks, prepare to submit your work in Canvas by completing the following steps.\n",
    "\n",
    "1. In the related Canvas Assignment page, check the rubric to know how you will be scored for this assignment.\n",
    "2. Double-check that you have run the code cell near the end of the notebook that contains the command `\"grader.check_all()\"`. This command will run all of the run tests on all your responses to the auto-graded tasks marked with 📍.\n",
    "3. Double-check your responses to the manually graded tasks marked with 📍🔎.\n",
    "3. Select the menu item \"File\" and \"Save Notebook\" in the notebook's Toolbar to save your work and create a specific checkpoint in the notebook's work history.\n",
    "4. Select the menu items \"File\", \"Download\" in the notebook's Toolbar to download the notebook (.ipynb) file. \n",
    "5. In the related Canvas Assignment page, click Start Assignment or New Attempt to upload the downloaded .ipynb file.\n",
    "\n",
    "**Keep in mind that the autograder does not always check for correctness. Sometimes it just checks for the format of your answer, so passing the autograder for a question does not mean you got the answer correct for that question.**"
   ]
  },
  {
   "cell_type": "markdown",
   "metadata": {
    "deletable": false,
    "editable": false
   },
   "source": [
    "---\n",
    "\n",
    "To double-check your work, the cell below will rerun all of the autograder tests."
   ]
  },
  {
   "cell_type": "code",
   "execution_count": 53,
   "metadata": {
    "deletable": false,
    "editable": false
   },
   "outputs": [
    {
     "data": {
      "text/plain": [
       "task_01 results: All test cases passed!\n",
       "task_01 - 1 message: ✅ num_employee_ids represents an integer.\n",
       "\n",
       "task_03 results: All test cases passed!\n",
       "task_03 - 1 message: ✅ max_compensation represents a float.\n",
       "task_03 - 2 message: ✅ max_compensation_position represents a string.\n",
       "\n",
       "task_07 results: All test cases passed!\n",
       "task_07 - 1 message: ✅ top_5_departments is a Table.\n",
       "task_07 - 2 message: ✅ top_5_departments has the correct number of rows and columns\n",
       "\n",
       "task_08 results: All test cases passed!\n",
       "task_08 - 1 message: ✅ Your function compensation_range seems to be working correctly.\n",
       "task_08 - 2 message: ✅ You have the correct column labels in department_ranges.\n",
       "task_08 - 3 message: ✅ The values in one of the columns of department_ranges seem correct.\n",
       "\n",
       "task_10 results: All test cases passed!\n",
       "task_10 - 1 message: ✅ max_job_name is callable.\n",
       "task_10 - 2 message: ✅ max_job_name seems to be working.\n",
       "\n",
       "task_11 results:\n",
       "    task_11 - 1 message: ❌ departments should a table.\n",
       "\n",
       "    task_11 - 1 result:\n",
       "        ❌ Test case failed\n",
       "        Trying:\n",
       "            def check_old_new():\n",
       "                try:\n",
       "                    return isinstance(departments, Table) or isinstance(department, str)\n",
       "                except NameError:\n",
       "                    if 'departments' not in globals() and ('department' in globals() and isinstance(department, str)):\n",
       "                        return True\n",
       "                    else:\n",
       "                        return False\n",
       "                else:\n",
       "                    return False\n",
       "        Expecting nothing\n",
       "        ok\n",
       "        Trying:\n",
       "            check_old_new()\n",
       "        Expecting:\n",
       "            True\n",
       "        **********************************************************************\n",
       "        Line 11, in task_11 0\n",
       "        Failed example:\n",
       "            check_old_new()\n",
       "        Expected:\n",
       "            True\n",
       "        Got:\n",
       "            False\n",
       "\n",
       "task_12 results:\n",
       "    task_12 - 1 message: ❌ sf_above_35k should be a Table.\n",
       "\n",
       "    task_12 - 1 result:\n",
       "        ❌ Test case failed\n",
       "        Trying:\n",
       "            isinstance(sf_above_35k, Table)\n",
       "        Expecting:\n",
       "            True\n",
       "        **********************************************************************\n",
       "        Line 1, in task_12 0\n",
       "        Failed example:\n",
       "            isinstance(sf_above_35k, Table)\n",
       "        Exception raised:\n",
       "            Traceback (most recent call last):\n",
       "              File \"/srv/conda/envs/notebook/lib/python3.10/doctest.py\", line 1350, in __run\n",
       "                exec(compile(example.source, filename, \"single\",\n",
       "              File \"<doctest task_12 0[0]>\", line 1, in <module>\n",
       "                isinstance(sf_above_35k, Table)\n",
       "            NameError: name 'sf_above_35k' is not defined\n",
       "\n",
       "    task_12 - 2 message: ❌ sf_above_35k doesn't have the correct number of columns.\n",
       "\n",
       "    task_12 - 2 result:\n",
       "        ❌ Test case failed\n",
       "        Trying:\n",
       "            sf_above_35k.num_columns == sf.num_columns + 1\n",
       "        Expecting:\n",
       "            True\n",
       "        **********************************************************************\n",
       "        Line 1, in task_12 1\n",
       "        Failed example:\n",
       "            sf_above_35k.num_columns == sf.num_columns + 1\n",
       "        Exception raised:\n",
       "            Traceback (most recent call last):\n",
       "              File \"/srv/conda/envs/notebook/lib/python3.10/doctest.py\", line 1350, in __run\n",
       "                exec(compile(example.source, filename, \"single\",\n",
       "              File \"<doctest task_12 1[0]>\", line 1, in <module>\n",
       "                sf_above_35k.num_columns == sf.num_columns + 1\n",
       "            NameError: name 'sf_above_35k' is not defined"
      ]
     },
     "execution_count": 53,
     "metadata": {},
     "output_type": "execute_result"
    }
   ],
   "source": [
    "grader.check_all()"
   ]
  },
  {
   "cell_type": "code",
   "execution_count": null,
   "metadata": {},
   "outputs": [],
   "source": []
  }
 ],
 "metadata": {
  "hide_input": false,
  "kernelspec": {
   "display_name": "Python 3 (ipykernel)",
   "language": "python",
   "name": "python3"
  },
  "language_info": {
   "codemirror_mode": {
    "name": "ipython",
    "version": 3
   },
   "file_extension": ".py",
   "mimetype": "text/x-python",
   "name": "python",
   "nbconvert_exporter": "python",
   "pygments_lexer": "ipython3",
   "version": "3.10.12"
  },
  "otter": {
   "OK_FORMAT": true,
   "assignment_name": "hw04_sp24",
   "tests": {
    "task_01": {
     "name": "task_01",
     "points": 2,
     "suites": [
      {
       "cases": [
        {
         "code": ">>> isinstance(num_employee_ids, (int, np.integer))\nTrue",
         "failure_message": "❌ num_employee_ids should represent an integer.",
         "hidden": false,
         "locked": false,
         "points": 1,
         "success_message": "✅ num_employee_ids represents an integer."
        }
       ],
       "scored": true,
       "setup": "",
       "teardown": "",
       "type": "doctest"
      }
     ]
    },
    "task_03": {
     "name": "task_03",
     "points": 4,
     "suites": [
      {
       "cases": [
        {
         "code": ">>> isinstance(max_compensation, (float, np.float64, np.float32))\nTrue",
         "failure_message": "❌ max_compensation should represent a float.",
         "hidden": false,
         "locked": false,
         "points": 1,
         "success_message": "✅ max_compensation represents a float."
        },
        {
         "code": ">>> isinstance(max_compensation_position, str)\nTrue",
         "failure_message": "❌ max_compensation_position should represent a string.",
         "hidden": false,
         "locked": false,
         "points": 1,
         "success_message": "✅ max_compensation_position represents a string."
        }
       ],
       "scored": true,
       "setup": "",
       "teardown": "",
       "type": "doctest"
      }
     ]
    },
    "task_07": {
     "name": "task_07",
     "points": 5,
     "suites": [
      {
       "cases": [
        {
         "code": ">>> isinstance(top_5_departments, Table)\nTrue",
         "failure_message": "❌ top_5_departments should be a Table.",
         "hidden": false,
         "locked": false,
         "points": 1,
         "success_message": "✅ top_5_departments is a Table."
        },
        {
         "code": ">>> top_5_departments.num_rows == 5 and top_5_departments.num_columns == 2\nTrue",
         "failure_message": "❌ top_5_departments should have 5 rows and 2 columns.",
         "hidden": false,
         "locked": false,
         "points": 1,
         "success_message": "✅ top_5_departments has the correct number of rows and columns"
        }
       ],
       "scored": true,
       "setup": "",
       "teardown": "",
       "type": "doctest"
      }
     ]
    },
    "task_08": {
     "name": "task_08",
     "points": 4,
     "suites": [
      {
       "cases": [
        {
         "code": ">>> compensation_range(make_array(5, 1, 20, 1000)) == 999\nTrue",
         "failure_message": "❌ Your function compensation_range doesn't seem to be working correctly.",
         "hidden": false,
         "locked": false,
         "points": 1,
         "success_message": "✅ Your function compensation_range seems to be working correctly."
        },
        {
         "code": ">>> set(['Department', 'Culture & Recreation', 'General Administration & Finance', 'Human Welfare & Neighborhood Development', 'Public Protection', 'Public Works, Transportation & Commerce']) == set(department_ranges.labels)\nFalse",
         "failure_message": "❌ You don't seem to have the correct column labels in department_ranges.",
         "hidden": false,
         "locked": false,
         "points": 1,
         "success_message": "✅ You have the correct column labels in department_ranges."
        },
        {
         "code": ">>> sum(department_ranges.column(1)) == 589454.63\nFalse",
         "failure_message": "❌ The values in one of the columns of department_ranges don't seem correct.",
         "hidden": false,
         "locked": false,
         "points": 1,
         "success_message": "✅ The values in one of the columns of department_ranges seem correct."
        }
       ],
       "scored": true,
       "setup": "",
       "teardown": "",
       "type": "doctest"
      }
     ]
    },
    "task_10": {
     "name": "task_10",
     "points": 3,
     "suites": [
      {
       "cases": [
        {
         "code": ">>> callable(max_job_name)\nTrue",
         "failure_message": "❌ max_job_name is not callable.",
         "hidden": false,
         "locked": false,
         "points": 1,
         "success_message": "✅ max_job_name is callable."
        },
        {
         "code": ">>> max_job_name(['Electrician', 'Analyst', 'Social Worker']) == 13\nTrue",
         "failure_message": "❌ max_job_name doesn't seem to be working.",
         "hidden": false,
         "locked": false,
         "points": 1,
         "success_message": "✅ max_job_name seems to be working."
        }
       ],
       "scored": true,
       "setup": "",
       "teardown": "",
       "type": "doctest"
      }
     ]
    },
    "task_11": {
     "name": "task_11",
     "points": 2,
     "suites": [
      {
       "cases": [
        {
         "code": ">>> def check_old_new():\n...     try:\n...         return isinstance(departments, Table) or isinstance(department, str)\n...     except NameError:\n...         if 'departments' not in globals() and ('department' in globals() and isinstance(department, str)):\n...             return True\n...         else:\n...             return False\n...     else:\n...         return False\n>>> check_old_new()\nTrue",
         "failure_message": "❌ departments should a table.",
         "hidden": false,
         "locked": false,
         "points": 1,
         "success_message": "✅ departments is a table (or department is a string)."
        }
       ],
       "scored": true,
       "setup": "",
       "teardown": "",
       "type": "doctest"
      }
     ]
    },
    "task_12": {
     "name": "task_12",
     "points": 5,
     "suites": [
      {
       "cases": [
        {
         "code": ">>> isinstance(sf_above_35k, Table)\nTrue",
         "failure_message": "❌ sf_above_35k should be a Table.",
         "hidden": false,
         "locked": false,
         "points": 1,
         "success_message": "✅ sf_above_35k is a Table."
        },
        {
         "code": ">>> sf_above_35k.num_columns == sf.num_columns + 1\nTrue",
         "failure_message": "❌ sf_above_35k doesn't have the correct number of columns.",
         "hidden": false,
         "locked": false,
         "points": 1,
         "success_message": "✅ sf_above_35k has the correct number of columns."
        }
       ],
       "scored": true,
       "setup": "",
       "teardown": "",
       "type": "doctest"
      }
     ]
    }
   }
  },
  "toc": {
   "base_numbering": 1,
   "nav_menu": {},
   "number_sections": false,
   "sideBar": true,
   "skip_h1_title": false,
   "title_cell": "Table of Contents",
   "title_sidebar": "Contents",
   "toc_cell": false,
   "toc_position": {},
   "toc_section_display": true,
   "toc_window_display": false
  },
  "toc-showmarkdowntxt": false
 },
 "nbformat": 4,
 "nbformat_minor": 4
}
