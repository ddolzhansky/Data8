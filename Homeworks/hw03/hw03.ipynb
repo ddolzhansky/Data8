{
 "cells": [
  {
   "cell_type": "code",
   "execution_count": 2,
   "metadata": {
    "deletable": false,
    "editable": false
   },
   "outputs": [],
   "source": [
    "# Initialize Otter\n",
    "import otter\n",
    "grader = otter.Notebook(\"hw03.ipynb\")"
   ]
  },
  {
   "cell_type": "markdown",
   "metadata": {},
   "source": [
    "<img style=\"display: block; margin-left: auto; margin-right: auto\" src=\"./ccsf-logo.png\" width=\"250rem;\" alt=\"The CCSF black and white logo\">"
   ]
  },
  {
   "cell_type": "markdown",
   "metadata": {},
   "source": [
    "# Homework 03: Visualizations"
   ]
  },
  {
   "cell_type": "markdown",
   "metadata": {},
   "source": [
    "**Recommended Reading**: \n",
    "* [Tables](https://inferentialthinking.com/chapters/06/Tables.html)\n",
    "* [Visualization](https://inferentialthinking.com/chapters/07/Visualization.html)"
   ]
  },
  {
   "cell_type": "markdown",
   "metadata": {},
   "source": [
    "## Assignment Reminders"
   ]
  },
  {
   "cell_type": "markdown",
   "metadata": {},
   "source": [
    "- Make sure to run the code cell at the top of this notebook that starts with `# Initialize Otter` to load the auto-grader.\n",
    "- For all tasks indicated with a 🔎 that you must write explanations and sentences for, provide your answer in the designated space.\n",
    "- Throughout this assignment and all future ones, please be sure to not re-assign variables throughout the notebook! _For example, if you use `max_temperature` in your answer to one question, do not reassign it later on. Otherwise, you will fail tests that you thought you were passing previously!_\n",
    "- We encourage you to discuss this assignment with others, but make sure to write and submit your own code. Refer to the syllabus to learn more about how to learn cooperatively.\n",
    "\n",
    "*View the related <a href=\"https://ccsf.instructure.com\" target=\"_blank\">Canvas</a> Assignment page for additional details.*\n",
    "\n",
    "Run the following code cell to import the tools for this assignment."
   ]
  },
  {
   "cell_type": "code",
   "execution_count": 3,
   "metadata": {},
   "outputs": [],
   "source": [
    "import numpy as np\n",
    "from datascience import *\n",
    "import matplotlib\n",
    "%matplotlib inline\n",
    "import matplotlib.pyplot as plt\n",
    "plt.style.use('fivethirtyeight')"
   ]
  },
  {
   "cell_type": "markdown",
   "metadata": {},
   "source": [
    "## Unemployment\n"
   ]
  },
  {
   "cell_type": "markdown",
   "metadata": {},
   "source": [
    "The [Federal Reserve Bank of St. Louis](https://fred.stlouisfed.org/categories/33509) publishes data about jobs in the US.  Below, we've loaded data on unemployment in the United States. There are many ways of defining unemployment, and our dataset includes two notions of the unemployment rate:\n",
    "\n",
    "1. Among people who are able to work and are looking for a full-time job, the percentage who can't find a job.  This is called the Non-Employment Index, or NEI.\n",
    "2. Among people who are able to work and are looking for a full-time job, the percentage who can't find any job *or* are only working at a part-time job.  The latter group is called \"Part-Time for Economic Reasons\", so the acronym for this index is NEI+PTER.  (Economists are great at marketing.)\n",
    "\n",
    "The data that you will use in this assignment contains [quarterly average NEI percentages from 1994 until 2024](https://fred.stlouisfed.org/series/NEIM156SFRBRIC) and [quarterly average NEI+PTER percentages from 1994 until 2024](https://fred.stlouisfed.org/series/NEIPTERM156SFRBRIC)\n",
    "\n",
    "*In this assignment, you will do some preliminary analysis of these unemployment metrics. In a future assignment, you will work on creating visualizations and summarizing your analysis.*\n"
   ]
  },
  {
   "cell_type": "markdown",
   "metadata": {},
   "source": [
    "### Task 01 📍"
   ]
  },
  {
   "cell_type": "markdown",
   "metadata": {
    "deletable": false,
    "editable": false
   },
   "source": [
    "The data are in a CSV file called `unemployment.csv`.  Load the data in that file into a `Table` and assign the table to the name `unemployment`.\n",
    "\n",
    "\n",
    "_Points:_ 1"
   ]
  },
  {
   "cell_type": "code",
   "execution_count": 4,
   "metadata": {
    "tags": []
   },
   "outputs": [
    {
     "data": {
      "text/html": [
       "<table border=\"1\" class=\"dataframe\">\n",
       "    <thead>\n",
       "        <tr>\n",
       "            <th>DATE</th> <th>NEI</th> <th>NEI+PTER</th>\n",
       "        </tr>\n",
       "    </thead>\n",
       "    <tbody>\n",
       "        <tr>\n",
       "            <td>1994-01-01</td> <td>9.82912</td> <td>10.9749 </td>\n",
       "        </tr>\n",
       "        <tr>\n",
       "            <td>1994-04-01</td> <td>9.42543</td> <td>10.6306 </td>\n",
       "        </tr>\n",
       "        <tr>\n",
       "            <td>1994-07-01</td> <td>9.22842</td> <td>10.359  </td>\n",
       "        </tr>\n",
       "        <tr>\n",
       "            <td>1994-10-01</td> <td>8.98376</td> <td>10.1199 </td>\n",
       "        </tr>\n",
       "        <tr>\n",
       "            <td>1995-01-01</td> <td>8.88245</td> <td>10.0086 </td>\n",
       "        </tr>\n",
       "        <tr>\n",
       "            <td>1995-04-01</td> <td>8.97931</td> <td>10.0942 </td>\n",
       "        </tr>\n",
       "        <tr>\n",
       "            <td>1995-07-01</td> <td>8.96056</td> <td>10.1052 </td>\n",
       "        </tr>\n",
       "        <tr>\n",
       "            <td>1995-10-01</td> <td>8.95893</td> <td>10.0813 </td>\n",
       "        </tr>\n",
       "        <tr>\n",
       "            <td>1996-01-01</td> <td>8.90291</td> <td>9.97698 </td>\n",
       "        </tr>\n",
       "        <tr>\n",
       "            <td>1996-04-01</td> <td>8.80475</td> <td>9.88223 </td>\n",
       "        </tr>\n",
       "    </tbody>\n",
       "</table>\n",
       "<p>... (110 rows omitted)</p>"
      ],
      "text/plain": [
       "DATE       | NEI     | NEI+PTER\n",
       "1994-01-01 | 9.82912 | 10.9749\n",
       "1994-04-01 | 9.42543 | 10.6306\n",
       "1994-07-01 | 9.22842 | 10.359\n",
       "1994-10-01 | 8.98376 | 10.1199\n",
       "1995-01-01 | 8.88245 | 10.0086\n",
       "1995-04-01 | 8.97931 | 10.0942\n",
       "1995-07-01 | 8.96056 | 10.1052\n",
       "1995-10-01 | 8.95893 | 10.0813\n",
       "1996-01-01 | 8.90291 | 9.97698\n",
       "1996-04-01 | 8.80475 | 9.88223\n",
       "... (110 rows omitted)"
      ]
     },
     "execution_count": 4,
     "metadata": {},
     "output_type": "execute_result"
    }
   ],
   "source": [
    "unemployment = Table.read_table('unemployment.csv')\n",
    "unemployment"
   ]
  },
  {
   "cell_type": "code",
   "execution_count": 5,
   "metadata": {
    "deletable": false,
    "editable": false
   },
   "outputs": [
    {
     "data": {
      "text/html": [
       "<p><strong><pre style='display: inline;'>task_01</pre></strong> passed! 🎉</p><p><strong><pre style='display: inline;'>task_01 - 1</pre> message:</strong> ✅ It seems that you have assigned the name unemployment to a table.</p><p><strong><pre style='display: inline;'>task_01 - 2</pre> message:</strong> ✅ The contents in unemployment seem correct.</p>"
      ],
      "text/plain": [
       "task_01 results: All test cases passed!\n",
       "task_01 - 1 message: ✅ It seems that you have assigned the name unemployment to a table.\n",
       "task_01 - 2 message: ✅ The contents in unemployment seem correct."
      ]
     },
     "execution_count": 5,
     "metadata": {},
     "output_type": "execute_result"
    }
   ],
   "source": [
    "grader.check(\"task_01\")"
   ]
  },
  {
   "cell_type": "markdown",
   "metadata": {},
   "source": [
    "### Task 02 📍"
   ]
  },
  {
   "cell_type": "markdown",
   "metadata": {
    "deletable": false,
    "editable": false
   },
   "source": [
    "Dates can be tricky to work with. When you loaded the data into the table `unemployment`, the dates were read as strings. Run the following cell to see this is true."
   ]
  },
  {
   "cell_type": "code",
   "execution_count": 6,
   "metadata": {
    "deletable": false,
    "editable": false
   },
   "outputs": [
    {
     "data": {
      "text/plain": [
       "str"
      ]
     },
     "execution_count": 6,
     "metadata": {},
     "output_type": "execute_result"
    }
   ],
   "source": [
    "type(unemployment.column('DATE').item(0))"
   ]
  },
  {
   "cell_type": "markdown",
   "metadata": {
    "deletable": false,
    "editable": false
   },
   "source": [
    "Strings do not always make the best sense to use for dates since we organize dates by months, years, etc. and this is different than the alphabetical order we typically use for strings. A common date type for dates is [`datetime`](https://docs.python.org/3/library/datetime.html). In this class, you are not responsible for knowing how to work directly with the `datetime` format. Instead, we will set up the code to help you with that date type.\n",
    "\n",
    "**Run the following code cell to convert all the dates in the `'DATE'` column to `datetime` format.**\n",
    "\n",
    "_Points:_ 0"
   ]
  },
  {
   "cell_type": "code",
   "execution_count": 7,
   "metadata": {
    "tags": []
   },
   "outputs": [
    {
     "name": "stdout",
     "output_type": "stream",
     "text": [
      "The date type for the values in the 'DATE' column have been updated.\n",
      "\n"
     ]
    },
    {
     "data": {
      "text/html": [
       "<table border=\"1\" class=\"dataframe\">\n",
       "    <thead>\n",
       "        <tr>\n",
       "            <th>DATE</th> <th>NEI</th> <th>NEI+PTER</th>\n",
       "        </tr>\n",
       "    </thead>\n",
       "    <tbody>\n",
       "        <tr>\n",
       "            <td>1994-01-01</td> <td>9.82912</td> <td>10.9749 </td>\n",
       "        </tr>\n",
       "        <tr>\n",
       "            <td>1994-04-01</td> <td>9.42543</td> <td>10.6306 </td>\n",
       "        </tr>\n",
       "        <tr>\n",
       "            <td>1994-07-01</td> <td>9.22842</td> <td>10.359  </td>\n",
       "        </tr>\n",
       "        <tr>\n",
       "            <td>1994-10-01</td> <td>8.98376</td> <td>10.1199 </td>\n",
       "        </tr>\n",
       "        <tr>\n",
       "            <td>1995-01-01</td> <td>8.88245</td> <td>10.0086 </td>\n",
       "        </tr>\n",
       "        <tr>\n",
       "            <td>1995-04-01</td> <td>8.97931</td> <td>10.0942 </td>\n",
       "        </tr>\n",
       "        <tr>\n",
       "            <td>1995-07-01</td> <td>8.96056</td> <td>10.1052 </td>\n",
       "        </tr>\n",
       "        <tr>\n",
       "            <td>1995-10-01</td> <td>8.95893</td> <td>10.0813 </td>\n",
       "        </tr>\n",
       "        <tr>\n",
       "            <td>1996-01-01</td> <td>8.90291</td> <td>9.97698 </td>\n",
       "        </tr>\n",
       "        <tr>\n",
       "            <td>1996-04-01</td> <td>8.80475</td> <td>9.88223 </td>\n",
       "        </tr>\n",
       "    </tbody>\n",
       "</table>\n",
       "<p>... (110 rows omitted)</p>"
      ],
      "text/plain": [
       "DATE       | NEI     | NEI+PTER\n",
       "1994-01-01 | 9.82912 | 10.9749\n",
       "1994-04-01 | 9.42543 | 10.6306\n",
       "1994-07-01 | 9.22842 | 10.359\n",
       "1994-10-01 | 8.98376 | 10.1199\n",
       "1995-01-01 | 8.88245 | 10.0086\n",
       "1995-04-01 | 8.97931 | 10.0942\n",
       "1995-07-01 | 8.96056 | 10.1052\n",
       "1995-10-01 | 8.95893 | 10.0813\n",
       "1996-01-01 | 8.90291 | 9.97698\n",
       "1996-04-01 | 8.80475 | 9.88223\n",
       "... (110 rows omitted)"
      ]
     },
     "metadata": {},
     "output_type": "display_data"
    }
   ],
   "source": [
    "# Just run this cell\n",
    "import datetime\n",
    "from datetime import datetime, date\n",
    "\n",
    "def update_date_format(date_string):\n",
    "    date_object = datetime.strptime(date_string, '%Y-%m-%d').date()\n",
    "    return date_object\n",
    "\n",
    "if not isinstance(unemployment.column('DATE').item(0),  date):\n",
    "    unemployment = unemployment.with_column(\n",
    "        'DATE', unemployment.apply(update_date_format, 'DATE'))\n",
    "    print(\"The date type for the values in the 'DATE' column have been updated.\\n\")\n",
    "else:\n",
    "    print(\"The date type is correct for the values in the 'DATE' column.\\n\")\n",
    "    \n",
    "display(unemployment)"
   ]
  },
  {
   "cell_type": "code",
   "execution_count": 8,
   "metadata": {
    "deletable": false,
    "editable": false
   },
   "outputs": [
    {
     "data": {
      "text/html": [
       "<p><strong><pre style='display: inline;'>task_02</pre></strong> passed! 🍀</p><p><strong><pre style='display: inline;'>task_02 - 1</pre> message:</strong> ✅ Great work converting all the dates.</p>"
      ],
      "text/plain": [
       "task_02 results: All test cases passed!\n",
       "task_02 - 1 message: ✅ Great work converting all the dates."
      ]
     },
     "execution_count": 8,
     "metadata": {},
     "output_type": "execute_result"
    }
   ],
   "source": [
    "grader.check(\"task_02\")"
   ]
  },
  {
   "cell_type": "markdown",
   "metadata": {},
   "source": [
    "### Task 03 📍"
   ]
  },
  {
   "cell_type": "markdown",
   "metadata": {
    "deletable": false,
    "editable": false
   },
   "source": [
    "For this task:\n",
    "1. Sort the data in descending order by NEI, naming the sorted table `by_nei`.\n",
    "2. Create another table called `by_nei_pter` that's sorted in descending order by NEI+PTER instead.\n",
    "\n",
    "\n",
    "_Points:_ 2"
   ]
  },
  {
   "cell_type": "code",
   "execution_count": 9,
   "metadata": {
    "tags": []
   },
   "outputs": [],
   "source": [
    "by_nei = unemployment.sort('NEI', descending=True)\n",
    "by_nei_pter = unemployment.sort('NEI+PTER', descending=True)"
   ]
  },
  {
   "cell_type": "code",
   "execution_count": 10,
   "metadata": {
    "deletable": false,
    "editable": false
   },
   "outputs": [
    {
     "data": {
      "text/html": [
       "<p><strong><pre style='display: inline;'>task_03</pre></strong> passed! 🚀</p><p><strong><pre style='display: inline;'>task_03 - 1</pre> message:</strong> ✅ It seems like you have the correct values in by_nei.</p><p><strong><pre style='display: inline;'>task_03 - 2</pre> message:</strong> ✅ It seems like you have the correct values in by_nei_pter.</p>"
      ],
      "text/plain": [
       "task_03 results: All test cases passed!\n",
       "task_03 - 1 message: ✅ It seems like you have the correct values in by_nei.\n",
       "task_03 - 2 message: ✅ It seems like you have the correct values in by_nei_pter."
      ]
     },
     "execution_count": 10,
     "metadata": {},
     "output_type": "execute_result"
    }
   ],
   "source": [
    "grader.check(\"task_03\")"
   ]
  },
  {
   "cell_type": "markdown",
   "metadata": {},
   "source": [
    "### Task 04 📍"
   ]
  },
  {
   "cell_type": "markdown",
   "metadata": {
    "deletable": false,
    "editable": false
   },
   "source": [
    "For this task:\n",
    "1. Use `take` to make a table containing the data for the 10 quarters when NEI was greatest.\n",
    "2. Assign that table to the name `greatest_nei`. Keep in mind that `greatest_nei` should be sorted in descending order of `NEI`.\n",
    "\n",
    "**Note**: Each row of `unemployment` represents a quarter.\n",
    "\n",
    "\n",
    "_Points:_ 2"
   ]
  },
  {
   "cell_type": "code",
   "execution_count": 11,
   "metadata": {
    "tags": []
   },
   "outputs": [
    {
     "data": {
      "text/html": [
       "<table border=\"1\" class=\"dataframe\">\n",
       "    <thead>\n",
       "        <tr>\n",
       "            <th>DATE</th> <th>NEI</th> <th>NEI+PTER</th>\n",
       "        </tr>\n",
       "    </thead>\n",
       "    <tbody>\n",
       "        <tr>\n",
       "            <td>2020-04-01</td> <td>14.1134</td> <td>16.1138 </td>\n",
       "        </tr>\n",
       "        <tr>\n",
       "            <td>2020-07-01</td> <td>10.9665</td> <td>12.3344 </td>\n",
       "        </tr>\n",
       "        <tr>\n",
       "            <td>2009-10-01</td> <td>10.8655</td> <td>12.7686 </td>\n",
       "        </tr>\n",
       "        <tr>\n",
       "            <td>2009-04-01</td> <td>10.8124</td> <td>12.7176 </td>\n",
       "        </tr>\n",
       "        <tr>\n",
       "            <td>2009-07-01</td> <td>10.776 </td> <td>12.6798 </td>\n",
       "        </tr>\n",
       "        <tr>\n",
       "            <td>2010-01-01</td> <td>10.7674</td> <td>12.6424 </td>\n",
       "        </tr>\n",
       "        <tr>\n",
       "            <td>2010-10-01</td> <td>10.5641</td> <td>12.4171 </td>\n",
       "        </tr>\n",
       "        <tr>\n",
       "            <td>2010-07-01</td> <td>10.5354</td> <td>12.3957 </td>\n",
       "        </tr>\n",
       "        <tr>\n",
       "            <td>2010-04-01</td> <td>10.5033</td> <td>12.3703 </td>\n",
       "        </tr>\n",
       "        <tr>\n",
       "            <td>2011-04-01</td> <td>10.3725</td> <td>12.1686 </td>\n",
       "        </tr>\n",
       "    </tbody>\n",
       "</table>"
      ],
      "text/plain": [
       "DATE       | NEI     | NEI+PTER\n",
       "2020-04-01 | 14.1134 | 16.1138\n",
       "2020-07-01 | 10.9665 | 12.3344\n",
       "2009-10-01 | 10.8655 | 12.7686\n",
       "2009-04-01 | 10.8124 | 12.7176\n",
       "2009-07-01 | 10.776  | 12.6798\n",
       "2010-01-01 | 10.7674 | 12.6424\n",
       "2010-10-01 | 10.5641 | 12.4171\n",
       "2010-07-01 | 10.5354 | 12.3957\n",
       "2010-04-01 | 10.5033 | 12.3703\n",
       "2011-04-01 | 10.3725 | 12.1686"
      ]
     },
     "execution_count": 11,
     "metadata": {},
     "output_type": "execute_result"
    }
   ],
   "source": [
    "greatest_nei = by_nei.take(np.arange(10))\n",
    "greatest_nei"
   ]
  },
  {
   "cell_type": "code",
   "execution_count": 12,
   "metadata": {
    "deletable": false,
    "editable": false
   },
   "outputs": [
    {
     "data": {
      "text/html": [
       "<p><strong><pre style='display: inline;'>task_04</pre></strong> passed! 🎉</p><p><strong><pre style='display: inline;'>task_04 - 1</pre> message:</strong> ✅ There are 10 rows (quarters) in your table.</p>"
      ],
      "text/plain": [
       "task_04 results: All test cases passed!\n",
       "task_04 - 1 message: ✅ There are 10 rows (quarters) in your table."
      ]
     },
     "execution_count": 12,
     "metadata": {},
     "output_type": "execute_result"
    }
   ],
   "source": [
    "grader.check(\"task_04\")"
   ]
  },
  {
   "cell_type": "markdown",
   "metadata": {},
   "source": [
    "### Task 05 📍"
   ]
  },
  {
   "cell_type": "markdown",
   "metadata": {
    "deletable": false,
    "editable": false
   },
   "source": [
    "It's believed that many people became PTER (recall: \"Part-Time for Economic Reasons\") in the \"Great Recession\" of 2008-2009.  NEI+PTER is the percentage of people who are unemployed (and counted in the NEI) plus the percentage of people who are PTER.  \n",
    "\n",
    "Using the original `unemployment` table, create an array containing the percentage of people who were PTER in each quarter.  (The first element of the array should correspond to the first row of `unemployment`, and so on.)\n",
    "\n",
    "_Points:_ 2"
   ]
  },
  {
   "cell_type": "code",
   "execution_count": 13,
   "metadata": {
    "tags": []
   },
   "outputs": [
    {
     "data": {
      "text/plain": [
       "array([ 1.14582419,  1.20511897,  1.13058532,  1.13616951,  1.12610939,\n",
       "        1.1148955 ,  1.14462971,  1.12240995,  1.07407416,  1.07748384,\n",
       "        1.09771919,  1.05719024,  1.03633791,  1.0075395 ,  0.99770422,\n",
       "        0.96473865,  0.95247726,  0.90691866,  0.88593835,  0.82358655,\n",
       "        0.84097464,  0.81405539,  0.80697959,  0.76776358,  0.75439202,\n",
       "        0.75420098,  0.76309996,  0.76412992,  0.76689244,  0.81520797,\n",
       "        0.87810426,  1.00087012,  0.95177206,  0.94796623,  0.99511177,\n",
       "        0.97705493,  1.0604883 ,  1.0559854 ,  1.06756208,  1.06831506,\n",
       "        1.04661712,  1.01607443,  1.01156512,  1.01508214,  0.96581501,\n",
       "        0.95883018,  1.00737189,  0.91698606,  0.89789276,  0.89124408,\n",
       "        0.93096016,  0.91680409,  0.91677838,  0.93498812,  0.9857133 ,\n",
       "        0.95811538,  1.04512065,  1.13518626,  1.29427174,  1.55653413,\n",
       "        1.84337533,  1.90518743,  1.90376612,  1.90309877,  1.87502276,\n",
       "        1.867032  ,  1.86025794,  1.85306542,  1.78814381,  1.79613681,\n",
       "        1.80793146,  1.74920399,  1.67534235,  1.66409663,  1.67303672,\n",
       "        1.66339777,  1.62623812,  1.6312762 ,  1.6020797 ,  1.60307542,\n",
       "        1.47724425,  1.49039828,  1.44964813,  1.4057066 ,  1.33297294,\n",
       "        1.29810227,  1.24438005,  1.20536542,  1.1853275 ,  1.19171471,\n",
       "        1.17270457,  1.1377478 ,  1.11034157,  1.02685505,  1.016798  ,\n",
       "        0.95120141,  1.0032235 ,  0.94713147,  0.85883674,  0.88547246,\n",
       "        0.9420915 ,  0.86794273,  0.77956268,  0.79731497,  0.9775642 ,\n",
       "        2.00031934,  1.36794441,  1.21379939,  1.1971796 ,  0.98127085,\n",
       "        0.80387323,  0.7702002 ,  0.82598189,  0.76987741,  0.70719446,\n",
       "        0.67216968,  0.8287017 ,  0.75024368,  0.72367293,  0.7416501 ])"
      ]
     },
     "execution_count": 13,
     "metadata": {},
     "output_type": "execute_result"
    }
   ],
   "source": [
    "pter = unemployment.column('NEI+PTER') - unemployment.column('NEI')\n",
    "pter"
   ]
  },
  {
   "cell_type": "code",
   "execution_count": 14,
   "metadata": {
    "deletable": false,
    "editable": false
   },
   "outputs": [
    {
     "data": {
      "text/html": [
       "<p><strong><pre style='display: inline;'>task_05</pre></strong> passed! 🚀</p><p><strong><pre style='display: inline;'>task_05 - 1</pre> message:</strong> ✅ pter is an array.</p><p><strong><pre style='display: inline;'>task_05 - 2</pre> message:</strong> ✅ You didn't seem to subtract the correct arrays in the wrong order.</p>"
      ],
      "text/plain": [
       "task_05 results: All test cases passed!\n",
       "task_05 - 1 message: ✅ pter is an array.\n",
       "task_05 - 2 message: ✅ You didn't seem to subtract the correct arrays in the wrong order."
      ]
     },
     "execution_count": 14,
     "metadata": {},
     "output_type": "execute_result"
    }
   ],
   "source": [
    "grader.check(\"task_05\")"
   ]
  },
  {
   "cell_type": "markdown",
   "metadata": {},
   "source": [
    "### Task 06 📍"
   ]
  },
  {
   "cell_type": "markdown",
   "metadata": {
    "deletable": false,
    "editable": false
   },
   "source": [
    "Add `pter` as a column to `unemployment` (named `\"PTER\"`) and sort the resulting table by that column in descending order.  Assign this table to the name `unemployment` to update the original table.\n",
    "\n",
    "**Notes**:\n",
    "* You do not need to do this in one line of code.\n",
    "* You are welcome to add and use extra variable names.\n",
    "    * Make sure that you don't use a name that conflicts with the rest of the notebook.\n",
    "    * Make sure that you use the name `unemployment` for the table since we will be checking that name with the auto-grader.\n",
    "\n",
    "_Points:_ 2"
   ]
  },
  {
   "cell_type": "code",
   "execution_count": 15,
   "metadata": {
    "tags": []
   },
   "outputs": [
    {
     "data": {
      "text/html": [
       "<table border=\"1\" class=\"dataframe\">\n",
       "    <thead>\n",
       "        <tr>\n",
       "            <th>DATE</th> <th>NEI</th> <th>NEI+PTER</th> <th>PTER</th>\n",
       "        </tr>\n",
       "    </thead>\n",
       "    <tbody>\n",
       "        <tr>\n",
       "            <td>2020-04-01</td> <td>14.1134</td> <td>16.1138 </td> <td>2.00032</td>\n",
       "        </tr>\n",
       "        <tr>\n",
       "            <td>2009-04-01</td> <td>10.8124</td> <td>12.7176 </td> <td>1.90519</td>\n",
       "        </tr>\n",
       "        <tr>\n",
       "            <td>2009-07-01</td> <td>10.776 </td> <td>12.6798 </td> <td>1.90377</td>\n",
       "        </tr>\n",
       "        <tr>\n",
       "            <td>2009-10-01</td> <td>10.8655</td> <td>12.7686 </td> <td>1.9031 </td>\n",
       "        </tr>\n",
       "        <tr>\n",
       "            <td>2010-01-01</td> <td>10.7674</td> <td>12.6424 </td> <td>1.87502</td>\n",
       "        </tr>\n",
       "        <tr>\n",
       "            <td>2010-04-01</td> <td>10.5033</td> <td>12.3703 </td> <td>1.86703</td>\n",
       "        </tr>\n",
       "        <tr>\n",
       "            <td>2010-07-01</td> <td>10.5354</td> <td>12.3957 </td> <td>1.86026</td>\n",
       "        </tr>\n",
       "        <tr>\n",
       "            <td>2010-10-01</td> <td>10.5641</td> <td>12.4171 </td> <td>1.85307</td>\n",
       "        </tr>\n",
       "        <tr>\n",
       "            <td>2009-01-01</td> <td>10.3657</td> <td>12.2091 </td> <td>1.84338</td>\n",
       "        </tr>\n",
       "        <tr>\n",
       "            <td>2011-07-01</td> <td>10.3514</td> <td>12.1593 </td> <td>1.80793</td>\n",
       "        </tr>\n",
       "    </tbody>\n",
       "</table>\n",
       "<p>... (110 rows omitted)</p>"
      ],
      "text/plain": [
       "DATE       | NEI     | NEI+PTER | PTER\n",
       "2020-04-01 | 14.1134 | 16.1138  | 2.00032\n",
       "2009-04-01 | 10.8124 | 12.7176  | 1.90519\n",
       "2009-07-01 | 10.776  | 12.6798  | 1.90377\n",
       "2009-10-01 | 10.8655 | 12.7686  | 1.9031\n",
       "2010-01-01 | 10.7674 | 12.6424  | 1.87502\n",
       "2010-04-01 | 10.5033 | 12.3703  | 1.86703\n",
       "2010-07-01 | 10.5354 | 12.3957  | 1.86026\n",
       "2010-10-01 | 10.5641 | 12.4171  | 1.85307\n",
       "2009-01-01 | 10.3657 | 12.2091  | 1.84338\n",
       "2011-07-01 | 10.3514 | 12.1593  | 1.80793\n",
       "... (110 rows omitted)"
      ]
     },
     "execution_count": 15,
     "metadata": {},
     "output_type": "execute_result"
    }
   ],
   "source": [
    "# Add pter as a new column to the unemployment table\n",
    "unemployment = unemployment.with_column('PTER', pter)\n",
    "\n",
    "# Sort the table by the \"PTER\" column in descending order\n",
    "unemployment = unemployment.sort('PTER', descending=True)\n",
    "\n",
    "unemployment"
   ]
  },
  {
   "cell_type": "code",
   "execution_count": 16,
   "metadata": {
    "deletable": false,
    "editable": false
   },
   "outputs": [
    {
     "data": {
      "text/html": [
       "<p><strong><pre style='display: inline;'>task_06</pre></strong> passed! 🌈</p><p><strong><pre style='display: inline;'>task_06 - 1</pre> message:</strong> ✅ Your table has the correct number of columns.</p>"
      ],
      "text/plain": [
       "task_06 results: All test cases passed!\n",
       "task_06 - 1 message: ✅ Your table has the correct number of columns."
      ]
     },
     "execution_count": 16,
     "metadata": {},
     "output_type": "execute_result"
    }
   ],
   "source": [
    "grader.check(\"task_06\")"
   ]
  },
  {
   "cell_type": "markdown",
   "metadata": {},
   "source": [
    "### Task 07 📍🔎"
   ]
  },
  {
   "cell_type": "markdown",
   "metadata": {
    "deletable": false,
    "editable": false
   },
   "source": [
    "<!-- BEGIN QUESTION -->\n",
    "\n",
    "Using the `unemployment` table, create an overlaid line plot showing two lines for NEI and PTER unemployment percentages over the dates. The dates should be on the horizontal axes and the percentages should be on the vertical axes.\n",
    "\n",
    "**Note:** Our code below will format the graph for you so that the x-axis shows the year portion of the date for every 3 years starting from 1994.\n",
    "\n",
    "_Points:_ 2"
   ]
  },
  {
   "cell_type": "code",
   "execution_count": 17,
   "metadata": {
    "tags": []
   },
   "outputs": [
    {
     "data": {
      "image/png": "[encoded data removed]",
      "text/plain": [
       "<Figure size 640x480 with 1 Axes>"
      ]
     },
     "metadata": {},
     "output_type": "display_data"
    }
   ],
   "source": [
    "unemployment = unemployment.sort('DATE')\n",
    "\n",
    "plt.plot(unemployment.column('DATE'), unemployment.column('NEI'), label='NEI')\n",
    "plt.plot(unemployment.column('DATE'), unemployment.column('PTER'), label='PTER')\n",
    "\n",
    "# Leave the following code to improve the readability of the horizontal axis tick marks\n",
    "start_date = min(unemployment.column(\"DATE\"))\n",
    "end_date = max(unemployment.column(\"DATE\"))\n",
    "years = [datetime(year, 1, 1) for year in range(start_date.year, end_date.year + 3, 3)]\n",
    "plt.gca().set_xticks(years)\n",
    "plt.gca().set_xticklabels([year.strftime('%Y') for year in years])\n",
    "plt.xticks(rotation=45)\n",
    "plt.title(\"Unemployment Percentages (1994 - 2024)\")\n",
    "plt.show()"
   ]
  },
  {
   "cell_type": "markdown",
   "metadata": {
    "deletable": false,
    "editable": false
   },
   "source": [
    "<!-- END QUESTION -->\n",
    "\n",
    "### Task 08 📍🔎"
   ]
  },
  {
   "cell_type": "markdown",
   "metadata": {
    "deletable": false,
    "editable": false
   },
   "source": [
    "<!-- BEGIN QUESTION -->\n",
    "\n",
    "As you saw early on in the course, sometimes the lines produced from data reveal a story in the data. For this task, we want you to review the graph for patterns, identify 3 major events in US history based on the graph, and hypothesize how the events and the patterns in the unemployment data are related.\n",
    "\n",
    "In your response:\n",
    "1. Mention 3 events that occurred between 1994 and 2024.\n",
    "2. Express how those 3 events show up in the patterns you are observing.\n",
    "3. Hypothesize how those events are associated with unemployment data.\n",
    "\n",
    "_Points:_ 2"
   ]
  },
  {
   "cell_type": "markdown",
   "metadata": {},
   "source": [
    "1. Dot-Com Bubble Burst\n",
    "\n",
    "Event: Burst of the Dot-Com bubble.\n",
    "Observation: NEI increase between 2001-2003.\n",
    "Hypothesis: Economic downturn led to job losses.\n",
    "\n",
    "2. Great Recession\n",
    "\n",
    "Event: Global financial crisis.\n",
    "Observation: NEI rise during 2007-2009.\n",
    "Hypothesis: Financial turmoil caused layoffs and unemployment.\n",
    "\n",
    "3. COVID-19 Pandemic\n",
    "\n",
    "Event: COVID-19 outbreak.\n",
    "Observation: Sharp NEI increase in 2020.\n",
    "Hypothesis: Pandemic-induced lockdowns led to job losses and economic disruption.\n"
   ]
  },
  {
   "cell_type": "markdown",
   "metadata": {
    "deletable": false,
    "editable": false
   },
   "source": [
    "<!-- END QUESTION -->\n",
    "\n",
    "## Birth Rates\n"
   ]
  },
  {
   "cell_type": "markdown",
   "metadata": {},
   "source": [
    "The CSV file `census.csv` contains census-based population estimates for each state on both July 1, 2022 and July 1, 2023. The data was taken from [the US Census 2020-2023 national totals data set](https://www2.census.gov/programs-surveys/popest/datasets/2020-2023/state/totals/NST-EST2023-ALLDATA.csv). \n",
    "\n",
    "Run the following code cell to load that data into a table called `pop`."
   ]
  },
  {
   "cell_type": "code",
   "execution_count": 18,
   "metadata": {},
   "outputs": [
    {
     "data": {
      "text/html": [
       "<table border=\"1\" class=\"dataframe\">\n",
       "    <thead>\n",
       "        <tr>\n",
       "            <th>REGION</th> <th>NAME</th> <th>2022</th> <th>2023</th> <th>BIRTHS</th> <th>DEATHS</th> <th>MIGRATION</th> <th>OTHER</th>\n",
       "        </tr>\n",
       "    </thead>\n",
       "    <tbody>\n",
       "        <tr>\n",
       "            <td>3     </td> <td>Alabama             </td> <td>5073903 </td> <td>5108468 </td> <td>58251 </td> <td>59813 </td> <td>36128    </td> <td>-1   </td>\n",
       "        </tr>\n",
       "        <tr>\n",
       "            <td>4     </td> <td>Alaska              </td> <td>733276  </td> <td>733406  </td> <td>9266  </td> <td>5581  </td> <td>-3539    </td> <td>-16  </td>\n",
       "        </tr>\n",
       "        <tr>\n",
       "            <td>4     </td> <td>Arizona             </td> <td>7365684 </td> <td>7431344 </td> <td>78494 </td> <td>70792 </td> <td>57814    </td> <td>144  </td>\n",
       "        </tr>\n",
       "        <tr>\n",
       "            <td>3     </td> <td>Arkansas            </td> <td>3046404 </td> <td>3067732 </td> <td>35566 </td> <td>36473 </td> <td>22202    </td> <td>33   </td>\n",
       "        </tr>\n",
       "        <tr>\n",
       "            <td>4     </td> <td>California          </td> <td>39040616</td> <td>38965193</td> <td>414120</td> <td>302704</td> <td>-187389  </td> <td>550  </td>\n",
       "        </tr>\n",
       "        <tr>\n",
       "            <td>4     </td> <td>Colorado            </td> <td>5841039 </td> <td>5877610 </td> <td>62498 </td> <td>45099 </td> <td>19167    </td> <td>5    </td>\n",
       "        </tr>\n",
       "        <tr>\n",
       "            <td>1     </td> <td>Connecticut         </td> <td>3608706 </td> <td>3617176 </td> <td>34957 </td> <td>32842 </td> <td>6248     </td> <td>107  </td>\n",
       "        </tr>\n",
       "        <tr>\n",
       "            <td>3     </td> <td>Delaware            </td> <td>1019459 </td> <td>1031890 </td> <td>10725 </td> <td>10897 </td> <td>12597    </td> <td>6    </td>\n",
       "        </tr>\n",
       "        <tr>\n",
       "            <td>3     </td> <td>District of Columbia</td> <td>670949  </td> <td>678972  </td> <td>7627  </td> <td>5020  </td> <td>5460     </td> <td>-44  </td>\n",
       "        </tr>\n",
       "        <tr>\n",
       "            <td>3     </td> <td>Florida             </td> <td>22245521</td> <td>22610726</td> <td>223578</td> <td>231181</td> <td>372870   </td> <td>-62  </td>\n",
       "        </tr>\n",
       "    </tbody>\n",
       "</table>\n",
       "<p>... (42 rows omitted)</p>"
      ],
      "text/plain": [
       "REGION | NAME                 | 2022     | 2023     | BIRTHS | DEATHS | MIGRATION | OTHER\n",
       "3      | Alabama              | 5073903  | 5108468  | 58251  | 59813  | 36128     | -1\n",
       "4      | Alaska               | 733276   | 733406   | 9266   | 5581   | -3539     | -16\n",
       "4      | Arizona              | 7365684  | 7431344  | 78494  | 70792  | 57814     | 144\n",
       "3      | Arkansas             | 3046404  | 3067732  | 35566  | 36473  | 22202     | 33\n",
       "4      | California           | 39040616 | 38965193 | 414120 | 302704 | -187389   | 550\n",
       "4      | Colorado             | 5841039  | 5877610  | 62498  | 45099  | 19167     | 5\n",
       "1      | Connecticut          | 3608706  | 3617176  | 34957  | 32842  | 6248      | 107\n",
       "3      | Delaware             | 1019459  | 1031890  | 10725  | 10897  | 12597     | 6\n",
       "3      | District of Columbia | 670949   | 678972   | 7627   | 5020   | 5460      | -44\n",
       "3      | Florida              | 22245521 | 22610726 | 223578 | 231181 | 372870    | -62\n",
       "... (42 rows omitted)"
      ]
     },
     "execution_count": 18,
     "metadata": {},
     "output_type": "execute_result"
    }
   ],
   "source": [
    "pop = Table.read_table('census.csv')\n",
    "pop"
   ]
  },
  {
   "cell_type": "markdown",
   "metadata": {},
   "source": [
    "Here is a brief explanation of the column labels:\n",
    "\n",
    "* `REGION`: Census Region code\n",
    "* `NAME`: State name\n",
    "* `'2022'`: 7/1/2022 resident total population estimate\n",
    "* `'2023'`\" 7/1/2023 resident total population estimate\n",
    "* `'BIRTHS'`: Births in period 7/1/2022 to 6/30/2023\t\t\t\n",
    "* `'DEATHS'`: Deaths in period 7/1/2022 to 6/30/2023\n",
    "* `'MIGRATION'`: Net migration in period 7/1/2022 to 6/30/2023\n",
    "* `'OTHER'`: Residual for period 7/1/2022 to 6/30/2023\n",
    "\n",
    "The last four columns describe the components of the estimated change in population during this time interval. \n",
    "\n",
    "**Note:** For all questions below, assume that the word \"states\" refers to all 52 rows including Puerto Rico & the District of Columbia."
   ]
  },
  {
   "cell_type": "markdown",
   "metadata": {},
   "source": [
    "### Task 09 📍"
   ]
  },
  {
   "cell_type": "markdown",
   "metadata": {
    "deletable": false,
    "editable": false
   },
   "source": [
    "Assign `us_birth_rate` to the total US annual birth rate during this time interval. The annual birth rate for a year-long period is the total number of births in that period as a proportion of the population size at the start of the time period.\n",
    "\n",
    "**Hint:** Which year corresponds to the start of the time period?\n",
    "\n",
    "\n",
    "_Points:_ 2"
   ]
  },
  {
   "cell_type": "code",
   "execution_count": 19,
   "metadata": {
    "tags": []
   },
   "outputs": [
    {
     "data": {
      "text/plain": [
       "0.010913086179252468"
      ]
     },
     "execution_count": 19,
     "metadata": {},
     "output_type": "execute_result"
    }
   ],
   "source": [
    "us_birth_rate = sum(pop.column('BIRTHS')) / sum(pop.column('2022'))\n",
    "us_birth_rate"
   ]
  },
  {
   "cell_type": "code",
   "execution_count": 20,
   "metadata": {
    "deletable": false,
    "editable": false
   },
   "outputs": [
    {
     "data": {
      "text/html": [
       "<p><strong><pre style='display: inline;'>task_09</pre></strong> passed! 🌈</p><p><strong><pre style='display: inline;'>task_09 - 1</pre> message:</strong> ✅ You have provided a possible value.</p>"
      ],
      "text/plain": [
       "task_09 results: All test cases passed!\n",
       "task_09 - 1 message: ✅ You have provided a possible value."
      ]
     },
     "execution_count": 20,
     "metadata": {},
     "output_type": "execute_result"
    }
   ],
   "source": [
    "grader.check(\"task_09\")"
   ]
  },
  {
   "cell_type": "markdown",
   "metadata": {},
   "source": [
    "### Task 10 📍"
   ]
  },
  {
   "cell_type": "markdown",
   "metadata": {
    "deletable": false,
    "editable": false
   },
   "source": [
    "Assign `movers` to the number of states for which the **absolute value** of the **annual rate of migration** was higher than 1%. The annual rate of migration for a year-long period is the net number of migrations (in and out) as a proportion of the population size at the start of the period. The `MIGRATION` column contains estimated annual net migration counts by state.\n",
    "\n",
    "\n",
    "_Points:_ 2"
   ]
  },
  {
   "cell_type": "code",
   "execution_count": 21,
   "metadata": {
    "tags": []
   },
   "outputs": [
    {
     "data": {
      "text/plain": [
       "7"
      ]
     },
     "execution_count": 21,
     "metadata": {},
     "output_type": "execute_result"
    }
   ],
   "source": [
    "migration_rates = np.abs(pop.column('MIGRATION') / pop.column('2022'))\n",
    "movers = sum(migration_rates > 0.01)\n",
    "movers"
   ]
  },
  {
   "cell_type": "code",
   "execution_count": 22,
   "metadata": {
    "deletable": false,
    "editable": false
   },
   "outputs": [
    {
     "data": {
      "text/html": [
       "<p><strong><pre style='display: inline;'>task_10</pre></strong> passed! 🌈</p><p><strong><pre style='display: inline;'>task_10 - 1</pre> message:</strong> ✅ You have provided a possible value.</p>"
      ],
      "text/plain": [
       "task_10 results: All test cases passed!\n",
       "task_10 - 1 message: ✅ You have provided a possible value."
      ]
     },
     "execution_count": 22,
     "metadata": {},
     "output_type": "execute_result"
    }
   ],
   "source": [
    "grader.check(\"task_10\")"
   ]
  },
  {
   "cell_type": "markdown",
   "metadata": {},
   "source": [
    "### Task 11 📍"
   ]
  },
  {
   "cell_type": "markdown",
   "metadata": {
    "deletable": false,
    "editable": false
   },
   "source": [
    "Assign `west_births` to the total number of births that occurred in region 4 (the Western US). \n",
    "\n",
    "**Hint:** Make sure you double check the type of the values in the region column, and appropriately filter (i.e. the types must match!).\n",
    "\n",
    "\n",
    "_Points:_ 2"
   ]
  },
  {
   "cell_type": "code",
   "execution_count": 25,
   "metadata": {
    "tags": []
   },
   "outputs": [
    {
     "data": {
      "text/plain": [
       "840406"
      ]
     },
     "execution_count": 25,
     "metadata": {},
     "output_type": "execute_result"
    }
   ],
   "source": [
    "pop = pop.with_column('REGION', pop.column('REGION').astype(int))\n",
    "west_births = sum(pop.where('REGION', are.equal_to(4)).column('BIRTHS'))\n",
    "\n",
    "west_births"
   ]
  },
  {
   "cell_type": "code",
   "execution_count": 26,
   "metadata": {
    "deletable": false,
    "editable": false
   },
   "outputs": [
    {
     "data": {
      "text/html": [
       "<p><strong><pre style='display: inline;'>task_11</pre></strong> passed! 🚀</p><p><strong><pre style='display: inline;'>task_11 - 1</pre> message:</strong> ✅ You have provided a possible value.</p>"
      ],
      "text/plain": [
       "task_11 results: All test cases passed!\n",
       "task_11 - 1 message: ✅ You have provided a possible value."
      ]
     },
     "execution_count": 26,
     "metadata": {},
     "output_type": "execute_result"
    }
   ],
   "source": [
    "grader.check(\"task_11\")"
   ]
  },
  {
   "cell_type": "markdown",
   "metadata": {},
   "source": [
    "### Task 12 📍"
   ]
  },
  {
   "cell_type": "markdown",
   "metadata": {
    "deletable": false,
    "editable": false
   },
   "source": [
    "Assign `less_than_west_births` to the number of states that had a total population in 2023 that was smaller than the *total number of births in region 4 (the Western US)* during this time interval.\n",
    "\n",
    "\n",
    "_Points:_ 2"
   ]
  },
  {
   "cell_type": "code",
   "execution_count": 27,
   "metadata": {
    "tags": []
   },
   "outputs": [
    {
     "data": {
      "text/plain": [
       "5"
      ]
     },
     "execution_count": 27,
     "metadata": {},
     "output_type": "execute_result"
    }
   ],
   "source": [
    "total_west_births = sum(pop.where('REGION', are.equal_to(4)).column('BIRTHS'))\n",
    "less_than_west_births = sum(pop.column('2023') < total_west_births)\n",
    "\n",
    "less_than_west_births"
   ]
  },
  {
   "cell_type": "code",
   "execution_count": 28,
   "metadata": {
    "deletable": false,
    "editable": false
   },
   "outputs": [
    {
     "data": {
      "text/html": [
       "<p><strong><pre style='display: inline;'>task_12</pre></strong> passed! 🚀</p><p><strong><pre style='display: inline;'>task_12 - 1</pre> message:</strong> ✅ You have provided a possible value.</p>"
      ],
      "text/plain": [
       "task_12 results: All test cases passed!\n",
       "task_12 - 1 message: ✅ You have provided a possible value."
      ]
     },
     "execution_count": 28,
     "metadata": {},
     "output_type": "execute_result"
    }
   ],
   "source": [
    "grader.check(\"task_12\")"
   ]
  },
  {
   "cell_type": "markdown",
   "metadata": {},
   "source": [
    "### Task 13 📍"
   ]
  },
  {
   "cell_type": "markdown",
   "metadata": {
    "deletable": false,
    "editable": false
   },
   "source": [
    "In the next question, you will be creating a visualization to understand the relationship between birth and death rates for the states. The annual death rate for a year-long period in a state is the total number of deaths in that period for that state as a proportion of the population size at the start of the time period for that state.\n",
    "\n",
    "What visualization is most appropriate to see if there is an association between birth and death rates during a given time interval among the states?\n",
    "\n",
    "1. Line Graph\n",
    "<br>\n",
    "2. Scatter Plot\n",
    "<br>\n",
    "3. Bar Chart\n",
    "\n",
    "Assign `visualization` below to the number corresponding to the correct visualization.\n",
    "\n",
    "\n",
    "_Points:_ 2"
   ]
  },
  {
   "cell_type": "code",
   "execution_count": 29,
   "metadata": {
    "tags": []
   },
   "outputs": [],
   "source": [
    "visualization = 2"
   ]
  },
  {
   "cell_type": "code",
   "execution_count": 30,
   "metadata": {
    "deletable": false,
    "editable": false
   },
   "outputs": [
    {
     "data": {
      "text/html": [
       "<p><strong><pre style='display: inline;'>task_13</pre></strong> passed! 🌟</p><p><strong><pre style='display: inline;'>task_13 - 1</pre> message:</strong> ✅ You have provided a possible value.</p>"
      ],
      "text/plain": [
       "task_13 results: All test cases passed!\n",
       "task_13 - 1 message: ✅ You have provided a possible value."
      ]
     },
     "execution_count": 30,
     "metadata": {},
     "output_type": "execute_result"
    }
   ],
   "source": [
    "grader.check(\"task_13\")"
   ]
  },
  {
   "cell_type": "markdown",
   "metadata": {},
   "source": [
    "### Task 14 📍🔎"
   ]
  },
  {
   "cell_type": "markdown",
   "metadata": {
    "deletable": false,
    "editable": false
   },
   "source": [
    "<!-- BEGIN QUESTION -->\n",
    "\n",
    "In the code cell below, create a visualization that will help us determine if there is an association between birth rate and death rate during this time interval among the states. \n",
    "\n",
    "It may be helpful to create intermediate variables. In our template, we've introduced the names `birth_rates_2022` and `death_rates_2022` as suggestions. We will not test those names, so you do not need to use them. We will only score the visualization you produce.\n",
    "\n",
    "\n",
    "_Points:_ 2"
   ]
  },
  {
   "cell_type": "code",
   "execution_count": 33,
   "metadata": {
    "export_pdf": true,
    "manual_problem_id": "birth_death_rates_graph",
    "tags": []
   },
   "outputs": [
    {
     "data": {
      "image/png": "[encoded data removed]",
      "text/plain": [
       "<Figure size 640x480 with 1 Axes>"
      ]
     },
     "metadata": {},
     "output_type": "display_data"
    }
   ],
   "source": [
    "birth_rates_2022 = (pop.column('BIRTHS') / pop.column('2022')) * 100\n",
    "death_rates_2022 = (pop.column('DEATHS') / pop.column('2022')) * 100\n",
    "\n",
    "plt.scatter(birth_rates_2022, death_rates_2022)\n",
    "plt.xlabel('Birth Rate')\n",
    "plt.ylabel('Death Rate')\n",
    "\n",
    "# Leave the following code to add a title to your graph\n",
    "plt.title('2022 Death Rate vs. Birth Rate')\n",
    "plt.show()"
   ]
  },
  {
   "cell_type": "markdown",
   "metadata": {
    "deletable": false,
    "editable": false
   },
   "source": [
    "<!-- END QUESTION -->\n",
    "\n",
    "### Task 15 📍"
   ]
  },
  {
   "cell_type": "markdown",
   "metadata": {
    "deletable": false,
    "editable": false
   },
   "source": [
    "`True` or `False`: There is an association between birth rate and death rate during this time interval among the states. \n",
    "\n",
    "Assign `assoc` to `True` or `False` in the cell below. \n",
    "\n",
    "\n",
    "_Points:_ 2"
   ]
  },
  {
   "cell_type": "code",
   "execution_count": 31,
   "metadata": {
    "tags": []
   },
   "outputs": [],
   "source": [
    "assoc = True"
   ]
  },
  {
   "cell_type": "code",
   "execution_count": 34,
   "metadata": {
    "deletable": false,
    "editable": false
   },
   "outputs": [
    {
     "data": {
      "text/html": [
       "<p><strong><pre style='display: inline;'>task_15</pre></strong> passed! 🚀</p><p><strong><pre style='display: inline;'>task_15 - 1</pre> message:</strong> ✅ You provided a possible answer.</p>"
      ],
      "text/plain": [
       "task_15 results: All test cases passed!\n",
       "task_15 - 1 message: ✅ You provided a possible answer."
      ]
     },
     "execution_count": 34,
     "metadata": {},
     "output_type": "execute_result"
    }
   ],
   "source": [
    "grader.check(\"task_15\")"
   ]
  },
  {
   "cell_type": "markdown",
   "metadata": {},
   "source": [
    "## Marginal Histograms\n"
   ]
  },
  {
   "cell_type": "markdown",
   "metadata": {},
   "source": [
    "Consider the following scatter plot: \n",
    "\n",
    "<img src=\"scatter.png\" alt=\"The Scatter plot\" width=40%>\n",
    "\n",
    "The axes of the plot represent values of two variables: $x$ and $y$. "
   ]
  },
  {
   "cell_type": "markdown",
   "metadata": {},
   "source": [
    "Suppose we have a table called `t` that has two columns in it:\n",
    "\n",
    "- `x`: a column containing the x-values of the points in the scatter plot\n",
    "- `y`: a column containing the y-values of the points in the scatter plot"
   ]
  },
  {
   "cell_type": "markdown",
   "metadata": {},
   "source": [
    "Below, you are given two histograms, each of which corresponds to either column `x` or column `y`. "
   ]
  },
  {
   "cell_type": "markdown",
   "metadata": {},
   "source": [
    "### Histogram A"
   ]
  },
  {
   "cell_type": "markdown",
   "metadata": {},
   "source": [
    "<img src=\"histogram_A.png\" alt=\"Histogram A\" width=40%>"
   ]
  },
  {
   "cell_type": "markdown",
   "metadata": {},
   "source": [
    "### Histogram B"
   ]
  },
  {
   "cell_type": "markdown",
   "metadata": {},
   "source": [
    "<img src=\"histogram_B.png\" alt=\"Histogram B\" width=40%>"
   ]
  },
  {
   "cell_type": "markdown",
   "metadata": {},
   "source": [
    "### Task 16 📍"
   ]
  },
  {
   "cell_type": "markdown",
   "metadata": {
    "deletable": false,
    "editable": false
   },
   "source": [
    "Suppose we run `t.hist('x')`. Which histogram does this code produce? Assign `histogram_column_x` to one of the following strings: `'A'`, `'B'`, or `'Neither'`.\n",
    "\n",
    "_Points:_ 2"
   ]
  },
  {
   "cell_type": "code",
   "execution_count": 35,
   "metadata": {
    "tags": []
   },
   "outputs": [],
   "source": [
    "histogram_column_x = 'Neither'"
   ]
  },
  {
   "cell_type": "code",
   "execution_count": 36,
   "metadata": {
    "deletable": false,
    "editable": false
   },
   "outputs": [
    {
     "data": {
      "text/html": [
       "<p><strong><pre style='display: inline;'>task_16</pre></strong> passed! ✨</p><p><strong><pre style='display: inline;'>task_16 - 1</pre> message:</strong> ✅ You provided a possible answer.</p>"
      ],
      "text/plain": [
       "task_16 results: All test cases passed!\n",
       "task_16 - 1 message: ✅ You provided a possible answer."
      ]
     },
     "execution_count": 36,
     "metadata": {},
     "output_type": "execute_result"
    }
   ],
   "source": [
    "grader.check(\"task_16\")"
   ]
  },
  {
   "cell_type": "markdown",
   "metadata": {},
   "source": [
    "### Task 17 📍"
   ]
  },
  {
   "cell_type": "markdown",
   "metadata": {
    "deletable": false,
    "editable": false
   },
   "source": [
    "Suppose we run `t.hist('y')`. Which histogram does this code produce? `Assign histogram_column_y` to one of the following strings: `'A'`, `'B'`, or `'Neither'`.\n",
    "\n",
    "_Points:_ 2"
   ]
  },
  {
   "cell_type": "code",
   "execution_count": 37,
   "metadata": {
    "tags": []
   },
   "outputs": [],
   "source": [
    "histogram_column_y = 'B'"
   ]
  },
  {
   "cell_type": "code",
   "execution_count": 38,
   "metadata": {
    "deletable": false,
    "editable": false
   },
   "outputs": [
    {
     "data": {
      "text/html": [
       "<p><strong><pre style='display: inline;'>task_17</pre></strong> passed! 🎉</p><p><strong><pre style='display: inline;'>task_17 - 1</pre> message:</strong> ✅ You provided a possible answer.</p>"
      ],
      "text/plain": [
       "task_17 results: All test cases passed!\n",
       "task_17 - 1 message: ✅ You provided a possible answer."
      ]
     },
     "execution_count": 38,
     "metadata": {},
     "output_type": "execute_result"
    }
   ],
   "source": [
    "grader.check(\"task_17\")"
   ]
  },
  {
   "cell_type": "markdown",
   "metadata": {},
   "source": [
    "## Uber Movement"
   ]
  },
  {
   "cell_type": "markdown",
   "metadata": {},
   "source": [
    "According to the [Uber Movement page](https://www.uber.com/us/en/community/supporting-cities/data/):\n",
    "> Planning great cities requires great data. Uber gathers trip data in more than 10,000 cities across the world. So why not share it? Enter Uber Movement, which gives urban planners access to Uber’s aggregated data to help make informed decisions about our cities.\n",
    "\n",
    "The Uber Movement project and data access have ended, but we still have data from Boston and Manila during. Below we load tables containing 200,000 weekday Uber rides in the Manila, Philippines, and Boston, Massachusetts metropolitan areas from the Uber Movement project. The `'sourceid'` and `'dstid'` columns contain codes corresponding to start and end locations of each ride. The `'hod'` column contains codes corresponding to the hour of the day the ride took place. The ride time column contains the length of the ride in minutes.\n",
    "\n",
    "Run the following code cell to create the table `uber` which contains the available Uber ride data for Boston and Manila."
   ]
  },
  {
   "cell_type": "code",
   "execution_count": 39,
   "metadata": {},
   "outputs": [
    {
     "data": {
      "text/html": [
       "<table border=\"1\" class=\"dataframe\">\n",
       "    <thead>\n",
       "        <tr>\n",
       "            <th>sourceid</th> <th>dstid</th> <th>hod</th> <th>ride time</th> <th>city</th>\n",
       "        </tr>\n",
       "    </thead>\n",
       "    <tbody>\n",
       "        <tr>\n",
       "            <td>584     </td> <td>33   </td> <td>7   </td> <td>11.866   </td> <td>Boston</td>\n",
       "        </tr>\n",
       "        <tr>\n",
       "            <td>1013    </td> <td>1116 </td> <td>13  </td> <td>17.7993  </td> <td>Boston</td>\n",
       "        </tr>\n",
       "        <tr>\n",
       "            <td>884     </td> <td>1190 </td> <td>22  </td> <td>19.3488  </td> <td>Boston</td>\n",
       "        </tr>\n",
       "        <tr>\n",
       "            <td>211     </td> <td>364  </td> <td>1   </td> <td>1.7235   </td> <td>Boston</td>\n",
       "        </tr>\n",
       "        <tr>\n",
       "            <td>218     </td> <td>1189 </td> <td>7   </td> <td>42.5588  </td> <td>Boston</td>\n",
       "        </tr>\n",
       "        <tr>\n",
       "            <td>1048    </td> <td>461  </td> <td>7   </td> <td>26.4212  </td> <td>Boston</td>\n",
       "        </tr>\n",
       "        <tr>\n",
       "            <td>879     </td> <td>461  </td> <td>11  </td> <td>23.7743  </td> <td>Boston</td>\n",
       "        </tr>\n",
       "        <tr>\n",
       "            <td>1047    </td> <td>1002 </td> <td>17  </td> <td>36.3583  </td> <td>Boston</td>\n",
       "        </tr>\n",
       "        <tr>\n",
       "            <td>930     </td> <td>856  </td> <td>6   </td> <td>16.6407  </td> <td>Boston</td>\n",
       "        </tr>\n",
       "        <tr>\n",
       "            <td>1110    </td> <td>875  </td> <td>22  </td> <td>17.3533  </td> <td>Boston</td>\n",
       "        </tr>\n",
       "    </tbody>\n",
       "</table>\n",
       "<p>... (399990 rows omitted)</p>"
      ],
      "text/plain": [
       "sourceid | dstid | hod  | ride time | city\n",
       "584      | 33    | 7    | 11.866    | Boston\n",
       "1013     | 1116  | 13   | 17.7993   | Boston\n",
       "884      | 1190  | 22   | 19.3488   | Boston\n",
       "211      | 364   | 1    | 1.7235    | Boston\n",
       "218      | 1189  | 7    | 42.5588   | Boston\n",
       "1048     | 461   | 7    | 26.4212   | Boston\n",
       "879      | 461   | 11   | 23.7743   | Boston\n",
       "1047     | 1002  | 17   | 36.3583   | Boston\n",
       "930      | 856   | 6    | 16.6407   | Boston\n",
       "1110     | 875   | 22   | 17.3533   | Boston\n",
       "... (399990 rows omitted)"
      ]
     },
     "execution_count": 39,
     "metadata": {},
     "output_type": "execute_result"
    }
   ],
   "source": [
    "boston = Table.read_table(\"boston.csv\").with_column('city', ['Boston']*200_000)\n",
    "manila = Table.read_table(\"manila.csv\").with_column('city', ['Manila']*200_000)\n",
    "uber = boston.append(manila)\n",
    "uber"
   ]
  },
  {
   "cell_type": "markdown",
   "metadata": {
    "tags": []
   },
   "source": [
    "### Task 18 📍🔎"
   ]
  },
  {
   "cell_type": "markdown",
   "metadata": {
    "deletable": false,
    "editable": false
   },
   "source": [
    "<!-- BEGIN QUESTION -->\n",
    "\n",
    "Using the `uber` table, produce an overlaid histogram that visualizes the distributions of all ride times in Boston and Manila. Use the `group='city'` argument with the [`hist` table method](https://datascience.readthedocs.io/en/master/_autosummary/datascience.tables.Table.hist.html#datascience.tables.Table.hist) to accomplish this. Additionally, use the given bins in `equal_bins` by utilizing the `bins` argument for the `hist` table method.\n",
    "\n",
    "_Points:_ 2"
   ]
  },
  {
   "cell_type": "code",
   "execution_count": 40,
   "metadata": {
    "tags": []
   },
   "outputs": [
    {
     "data": {
      "image/png": "[encoded data removed]",
      "text/plain": [
       "<Figure size 600x400 with 1 Axes>"
      ]
     },
     "metadata": {},
     "output_type": "display_data"
    }
   ],
   "source": [
    "equal_bins = np.arange(0, 120, 5)\n",
    "\n",
    "uber.hist('ride time', group='city', bins=equal_bins, unit='minutes')\n",
    "\n",
    "# Leave the following code to add a title to your histogram\n",
    "plt.title('Distribution of Boston and Manila Ride Times')\n",
    "plt.show()"
   ]
  },
  {
   "cell_type": "markdown",
   "metadata": {
    "deletable": false,
    "editable": false,
    "tags": []
   },
   "source": [
    "<!-- END QUESTION -->\n",
    "\n",
    "### Task 19 📍🔎"
   ]
  },
  {
   "cell_type": "markdown",
   "metadata": {
    "deletable": false,
    "editable": false
   },
   "source": [
    "<!-- BEGIN QUESTION -->\n",
    "\n",
    "Why do you think the distributions for Boston and Manila are different? \n",
    "\n",
    "For this task:\n",
    "* Form a hypothesis that identifies external factors of the two cities that may be causing the difference!\n",
    "* Provide at least one reference (link) to support your claim.\n",
    "\n",
    "_Points:_ 2"
   ]
  },
  {
   "cell_type": "markdown",
   "metadata": {},
   "source": [
    "Hypothesis: Traffic Congestion\n",
    "The difference in Uber ride time distributions between Boston and Manila may be attributed to higher levels of traffic congestion in Manila due to limited road infrastructure and rapid urban growth.\n",
    "\n",
    "Reference: https://www.tomtom.com/traffic-index/ranking\n",
    "According to the TomTom Traffic Index, Manila ranks among the cities with the worst traffic congestion globally. "
   ]
  },
  {
   "cell_type": "markdown",
   "metadata": {
    "deletable": false,
    "editable": false,
    "tags": []
   },
   "source": [
    "<!-- END QUESTION -->\n",
    "\n",
    "### Task 20 📍🔎"
   ]
  },
  {
   "cell_type": "markdown",
   "metadata": {
    "deletable": false,
    "editable": false
   },
   "source": [
    "<!-- BEGIN QUESTION -->\n",
    "\n",
    "From the histograms, it looks like there are more 20 to 40-minute Uber rides in Manila compared to Boston. Histograms reflect density, so be careful of interpreting the heights of the bars as counts. It is okay to compare the histograms directly because they both represent 200,000 data points. For this task, produce a bar chart showing that Manila does have more 20 to 40-minute Uber rides than Boston. \n",
    "\n",
    "**Note:** For this task, it doesn't matter if you include 40-minute rides in your count or not.\n",
    "\n",
    "**Hint:** Consider using the [`group` table method](https://datascience.readthedocs.io/en/master/_autosummary/datascience.tables.Table.group.html).\n",
    "\n",
    "_Points:_ 2"
   ]
  },
  {
   "cell_type": "code",
   "execution_count": 41,
   "metadata": {
    "tags": []
   },
   "outputs": [
    {
     "data": {
      "image/png": "[encoded data removed]",
      "text/plain": [
       "<Figure size 600x400 with 1 Axes>"
      ]
     },
     "metadata": {},
     "output_type": "display_data"
    }
   ],
   "source": [
    "filtered_data = uber.where('ride time', are.between_or_equal_to(20, 40))\n",
    "grouped_data = filtered_data.group('city')\n",
    "grouped_data.barh('city', 'count')\n",
    "\n",
    "...\n",
    "\n",
    "# Leave the following code to add a title to your histogram\n",
    "plt.title('Number of Uber Rides between 20 and 40 Minutes')\n",
    "plt.show()"
   ]
  },
  {
   "cell_type": "markdown",
   "metadata": {
    "deletable": false,
    "editable": false,
    "tags": []
   },
   "source": [
    "<!-- END QUESTION -->\n",
    "\n",
    "## Submit your Homework to Canvas\n",
    "\n",
    "Once you have finished working on the homework tasks, prepare to submit your work in Canvas by completing the following steps.\n",
    "\n",
    "1. In the related Canvas Assignment page, check the rubric to know how you will be scored for this assignment.\n",
    "2. Double-check that you have run the code cell near the end of the notebook that contains the command `\"grader.check_all()\"`. This command will run all of the run tests on all your responses to the auto-graded tasks marked with 📍.\n",
    "3. Double-check your responses to the manually graded tasks marked with 📍🔎.\n",
    "3. Select the menu item \"File\" and \"Save Notebook\" in the notebook's Toolbar to save your work and create a specific checkpoint in the notebook's work history.\n",
    "4. Select the menu items \"File\", \"Download\" in the notebook's Toolbar to download the notebook (.ipynb) file. \n",
    "5. In the related Canvas Assignment page, click Start Assignment or New Attempt to upload the downloaded .ipynb file.\n",
    "\n",
    "**Keep in mind that the autograder does not always check for correctness. Sometimes it just checks for the format of your answer, so passing the autograder for a question does not mean you got the answer correct for that question.**"
   ]
  },
  {
   "cell_type": "markdown",
   "metadata": {
    "deletable": false,
    "editable": false
   },
   "source": [
    "---\n",
    "\n",
    "To double-check your work, the cell below will rerun all of the autograder tests."
   ]
  },
  {
   "cell_type": "code",
   "execution_count": 42,
   "metadata": {
    "deletable": false,
    "editable": false
   },
   "outputs": [
    {
     "data": {
      "text/plain": [
       "task_01 results: All test cases passed!\n",
       "task_01 - 1 message: ✅ It seems that you have assigned the name unemployment to a table.\n",
       "task_01 - 2 message: ✅ The contents in unemployment seem correct.\n",
       "\n",
       "task_02 results: All test cases passed!\n",
       "task_02 - 1 message: ✅ Great work converting all the dates.\n",
       "\n",
       "task_03 results: All test cases passed!\n",
       "task_03 - 1 message: ✅ It seems like you have the correct values in by_nei.\n",
       "task_03 - 2 message: ✅ It seems like you have the correct values in by_nei_pter.\n",
       "\n",
       "task_04 results: All test cases passed!\n",
       "task_04 - 1 message: ✅ There are 10 rows (quarters) in your table.\n",
       "\n",
       "task_05 results: All test cases passed!\n",
       "task_05 - 1 message: ✅ pter is an array.\n",
       "task_05 - 2 message: ✅ You didn't seem to subtract the correct arrays in the wrong order.\n",
       "\n",
       "task_06 results: All test cases passed!\n",
       "task_06 - 1 message: ✅ Your table has the correct number of columns.\n",
       "\n",
       "task_09 results: All test cases passed!\n",
       "task_09 - 1 message: ✅ You have provided a possible value.\n",
       "\n",
       "task_10 results: All test cases passed!\n",
       "task_10 - 1 message: ✅ You have provided a possible value.\n",
       "\n",
       "task_11 results: All test cases passed!\n",
       "task_11 - 1 message: ✅ You have provided a possible value.\n",
       "\n",
       "task_12 results: All test cases passed!\n",
       "task_12 - 1 message: ✅ You have provided a possible value.\n",
       "\n",
       "task_13 results: All test cases passed!\n",
       "task_13 - 1 message: ✅ You have provided a possible value.\n",
       "\n",
       "task_15 results: All test cases passed!\n",
       "task_15 - 1 message: ✅ You provided a possible answer.\n",
       "\n",
       "task_16 results: All test cases passed!\n",
       "task_16 - 1 message: ✅ You provided a possible answer.\n",
       "\n",
       "task_17 results: All test cases passed!\n",
       "task_17 - 1 message: ✅ You provided a possible answer."
      ]
     },
     "execution_count": 42,
     "metadata": {},
     "output_type": "execute_result"
    }
   ],
   "source": [
    "grader.check_all()"
   ]
  },
  {
   "cell_type": "code",
   "execution_count": null,
   "metadata": {},
   "outputs": [],
   "source": []
  }
 ],
 "metadata": {
  "hide_input": false,
  "kernelspec": {
   "display_name": "Python 3 (ipykernel)",
   "language": "python",
   "name": "python3"
  },
  "language_info": {
   "codemirror_mode": {
    "name": "ipython",
    "version": 3
   },
   "file_extension": ".py",
   "mimetype": "text/x-python",
   "name": "python",
   "nbconvert_exporter": "python",
   "pygments_lexer": "ipython3",
   "version": "3.10.12"
  },
  "otter": {
   "OK_FORMAT": true,
   "assignment_name": "hw03_sp24",
   "tests": {
    "task_01": {
     "name": "task_01",
     "points": 1,
     "suites": [
      {
       "cases": [
        {
         "code": ">>> isinstance(unemployment, Table)\nTrue",
         "failure_message": "❌ It doesn't seem that you have assigned the name unemployment to a table. Try using the command Table().read_table(...)",
         "hidden": false,
         "locked": false,
         "points": 0.5,
         "success_message": "✅ It seems that you have assigned the name unemployment to a table."
        },
        {
         "code": ">>> np.isclose(np.sum(unemployment.column('NEI')), 1044.46519909577)\nTrue",
         "failure_message": "❌ The contents in unemployment don't seem correct. Double-check that you are using the unemployment.csv",
         "hidden": false,
         "locked": false,
         "points": 0.5,
         "success_message": "✅ The contents in unemployment seem correct."
        }
       ],
       "scored": true,
       "setup": "",
       "teardown": "",
       "type": "doctest"
      }
     ]
    },
    "task_02": {
     "name": "task_02",
     "points": 0,
     "suites": [
      {
       "cases": [
        {
         "code": ">>> isinstance(unemployment.column('DATE').item(0), date)\nTrue",
         "failure_message": "❌ It doesn't seem like you've run the cell to convert the date data types. Make sure to run the above code cell.)",
         "hidden": false,
         "locked": false,
         "points": 0,
         "success_message": "✅ Great work converting all the dates."
        }
       ],
       "scored": true,
       "setup": "",
       "teardown": "",
       "type": "doctest"
      }
     ]
    },
    "task_03": {
     "name": "task_03",
     "points": 2,
     "suites": [
      {
       "cases": [
        {
         "code": ">>> by_nei.take(0).column(0).item(0) == date(2020, 4, 1)\nTrue",
         "failure_message": "❌ It doesn't look like you have the correct values in by_nei.",
         "hidden": false,
         "locked": false,
         "points": 1,
         "success_message": "✅ It seems like you have the correct values in by_nei."
        },
        {
         "code": ">>> by_nei_pter.take(0).column(0).item(0) == date(2020, 4, 1)\nTrue",
         "failure_message": "❌ It doesn't look like you have the correct values in by_nei_pter.",
         "hidden": false,
         "locked": false,
         "points": 1,
         "success_message": "✅ It seems like you have the correct values in by_nei_pter."
        }
       ],
       "scored": true,
       "setup": "",
       "teardown": "",
       "type": "doctest"
      }
     ]
    },
    "task_04": {
     "name": "task_04",
     "points": 2,
     "suites": [
      {
       "cases": [
        {
         "code": ">>> greatest_nei.num_rows == 10\nTrue",
         "failure_message": "❌ There are not 10 rows (quarters) in your table.",
         "hidden": false,
         "locked": false,
         "points": 1,
         "success_message": "✅ There are 10 rows (quarters) in your table."
        }
       ],
       "scored": true,
       "setup": "",
       "teardown": "",
       "type": "doctest"
      }
     ]
    },
    "task_05": {
     "name": "task_05",
     "points": 2,
     "suites": [
      {
       "cases": [
        {
         "code": ">>> isinstance(pter, np.ndarray)\nTrue",
         "failure_message": "❌ pter doesn't seem to be an array.",
         "hidden": false,
         "locked": false,
         "points": 0.5,
         "success_message": "✅ pter is an array."
        },
        {
         "code": ">>> round(pter.item(6), 4) != -1.1446\nTrue",
         "failure_message": "❌ Be careful of subtracting the arrays in the wrong order.",
         "hidden": false,
         "locked": false,
         "points": 0.5,
         "success_message": "✅ You didn't seem to subtract the correct arrays in the wrong order."
        }
       ],
       "scored": true,
       "setup": "",
       "teardown": "",
       "type": "doctest"
      }
     ]
    },
    "task_06": {
     "name": "task_06",
     "points": 2,
     "suites": [
      {
       "cases": [
        {
         "code": ">>> unemployment.num_columns == 4\nTrue",
         "failure_message": "❌ Your table doesn't have the correct number of columns.",
         "hidden": false,
         "locked": false,
         "points": 1,
         "success_message": "✅ Your table has the correct number of columns."
        }
       ],
       "scored": true,
       "setup": "",
       "teardown": "",
       "type": "doctest"
      }
     ]
    },
    "task_09": {
     "name": "task_09",
     "points": 2,
     "suites": [
      {
       "cases": [
        {
         "code": ">>> 0 < us_birth_rate < 1\nTrue",
         "failure_message": "❌ Make sure you provide a value betwen 0 and 1.",
         "hidden": false,
         "locked": false,
         "points": 1,
         "success_message": "✅ You have provided a possible value."
        }
       ],
       "scored": true,
       "setup": "",
       "teardown": "",
       "type": "doctest"
      }
     ]
    },
    "task_10": {
     "name": "task_10",
     "points": 2,
     "suites": [
      {
       "cases": [
        {
         "code": ">>> 0 < movers <= 52\nTrue",
         "failure_message": "❌ Make sure you provide a value betwen 0 and 52 (inclusive).",
         "hidden": false,
         "locked": false,
         "points": 1,
         "success_message": "✅ You have provided a possible value."
        }
       ],
       "scored": true,
       "setup": "",
       "teardown": "",
       "type": "doctest"
      }
     ]
    },
    "task_11": {
     "name": "task_11",
     "points": 2,
     "suites": [
      {
       "cases": [
        {
         "code": ">>> 500000.0 < west_births < 1000000.0\nTrue",
         "failure_message": "❌ We are looking for a number between 500000 and 1000000.",
         "hidden": false,
         "locked": false,
         "points": 1,
         "success_message": "✅ You have provided a possible value."
        }
       ],
       "scored": true,
       "setup": "",
       "teardown": "",
       "type": "doctest"
      }
     ]
    },
    "task_12": {
     "name": "task_12",
     "points": 2,
     "suites": [
      {
       "cases": [
        {
         "code": ">>> 0 <= less_than_west_births <= 52\nTrue",
         "failure_message": "❌ Make sure you provide a value betwen 0 and 52 (inclusive).",
         "hidden": false,
         "locked": false,
         "points": 1,
         "success_message": "✅ You have provided a possible value."
        }
       ],
       "scored": true,
       "setup": "",
       "teardown": "",
       "type": "doctest"
      }
     ]
    },
    "task_13": {
     "name": "task_13",
     "points": 2,
     "suites": [
      {
       "cases": [
        {
         "code": ">>> visualization in {1, 2, 3}\nTrue",
         "failure_message": "❌ Make sure you provide 1, 2, or 3 as a value.",
         "hidden": false,
         "locked": false,
         "points": 1,
         "success_message": "✅ You have provided a possible value."
        }
       ],
       "scored": true,
       "setup": "",
       "teardown": "",
       "type": "doctest"
      }
     ]
    },
    "task_15": {
     "name": "task_15",
     "points": 2,
     "suites": [
      {
       "cases": [
        {
         "code": ">>> type(assoc) is bool\nTrue",
         "failure_message": "❌ You didn't provide a possible answer. Use True or False.",
         "hidden": false,
         "locked": false,
         "points": 1,
         "success_message": "✅ You provided a possible answer."
        }
       ],
       "scored": true,
       "setup": "",
       "teardown": "",
       "type": "doctest"
      }
     ]
    },
    "task_16": {
     "name": "task_16",
     "points": 2,
     "suites": [
      {
       "cases": [
        {
         "code": ">>> histogram_column_x in {'A', 'B', 'Neither'}\nTrue",
         "failure_message": "❌ Make sure you assign histogram_column_x to either 'A', 'B', or 'Neither'.",
         "hidden": false,
         "locked": false,
         "points": 1,
         "success_message": "✅ You provided a possible answer."
        }
       ],
       "scored": true,
       "setup": "",
       "teardown": "",
       "type": "doctest"
      }
     ]
    },
    "task_17": {
     "name": "task_17",
     "points": 2,
     "suites": [
      {
       "cases": [
        {
         "code": ">>> histogram_column_y in {'A', 'B', 'Neither'}\nTrue",
         "failure_message": "❌ Make sure you assign histogram_column_y to either 'A', 'B', or 'Neither'.",
         "hidden": false,
         "locked": false,
         "points": 1,
         "success_message": "✅ You provided a possible answer."
        }
       ],
       "scored": true,
       "setup": "",
       "teardown": "",
       "type": "doctest"
      }
     ]
    }
   }
  }
 },
 "nbformat": 4,
 "nbformat_minor": 4
}
