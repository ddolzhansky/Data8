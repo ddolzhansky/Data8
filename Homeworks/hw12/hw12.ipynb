{
 "cells": [
  {
   "cell_type": "code",
   "execution_count": 1,
   "id": "983b09ff",
   "metadata": {
    "deletable": false,
    "editable": false
   },
   "outputs": [],
   "source": [
    "# Initialize Otter\n",
    "import otter\n",
    "grader = otter.Notebook(\"hw12.ipynb\")"
   ]
  },
  {
   "cell_type": "markdown",
   "id": "321ad7a4-b298-43d8-9990-1507b83ff49c",
   "metadata": {},
   "source": [
    "<img style=\"display: block; margin-left: auto; margin-right: auto\" src=\"./ccsf-logo.png\" width=\"250rem;\" alt=\"The CCSF black and white logo\">"
   ]
  },
  {
   "cell_type": "markdown",
   "id": "59399e27-631a-4f25-8495-1aec2eed18a7",
   "metadata": {},
   "source": [
    "# Homework 12: Error Analysis"
   ]
  },
  {
   "cell_type": "markdown",
   "id": "18615ea0-5a84-42f2-8599-cf5c80a8b577",
   "metadata": {},
   "source": [
    "## References\n",
    "\n",
    "* [Inference for Regression](https://inferentialthinking.com/chapters/16/Inference_for_Regression.html)\n",
    "* [`datascience` Documentation](https://datascience.readthedocs.io/)\n",
    "* [Python Quick Reference](https://ccsf-math-108.github.io/materials-sp24/resources/quick-reference.html)"
   ]
  },
  {
   "cell_type": "markdown",
   "id": "1f766600-66bc-44b8-9546-a5d448683d47",
   "metadata": {},
   "source": [
    "## Assignment Reminders"
   ]
  },
  {
   "cell_type": "markdown",
   "id": "1de80bc8-f04c-42b5-8778-ff48cde90da3",
   "metadata": {},
   "source": [
    "- Make sure to run the code cell at the top of this notebook that starts with `# Initialize Otter` to load the auto-grader.\n",
    "- For all tasks indicated with a 🔎 that you must write explanations and sentences for, provide your answer in the designated space.\n",
    "- Throughout this assignment and all future ones, please be sure to not re-assign variables throughout the notebook! _For example, if you use `max_temperature` in your answer to one question, do not reassign it later on. Otherwise, you will fail tests that you thought you were passing previously!_\n",
    "- We encourage you to discuss this assignment with others but make sure to write and submit your own code. Refer to the syllabus to learn more about how to learn cooperatively.\n",
    "- Unless you are asked otherwise, use the non-interactive visualizations when asked to produce a visualization for a task.\n",
    "- View the related <a href=\"https://ccsf.instructure.com\" target=\"_blank\">Canvas</a> Assignment page for additional details.\n",
    "\n",
    "Run the following code cell to import the tools for this assignment."
   ]
  },
  {
   "cell_type": "code",
   "execution_count": 2,
   "id": "c8e737dc-afd9-44a7-9aad-fc84f7a1a502",
   "metadata": {
    "tags": []
   },
   "outputs": [],
   "source": [
    "from datascience import *\n",
    "import numpy as np\n",
    "%matplotlib inline\n",
    "import matplotlib.pyplot as plt\n",
    "plt.style.use('fivethirtyeight')\n",
    "\n",
    "import warnings\n",
    "warnings.simplefilter('ignore')"
   ]
  },
  {
   "cell_type": "markdown",
   "id": "fa519fb7-b445-4f8e-8ddb-4ced4534c0c2",
   "metadata": {},
   "source": [
    "## Regression Inference"
   ]
  },
  {
   "cell_type": "markdown",
   "id": "8eaeff98-c30c-4113-9b59-e65af62ad0e7",
   "metadata": {},
   "source": [
    "Previously, you've used confidence intervals to quantify uncertainty about estimates. You can also run hypothesis tests using a confidence interval under the following procedure:\n",
    "\n",
    "1. Define a null and alternative hypothesis (they must be of the form \"The parameter is X\" and \"The parameter is not X\").\n",
    "2. Choose a p-value cutoff, and call it $q$.\n",
    "3. Construct a $(100-q)\\%$ interval using bootstrap sampling (for example, if your p-value cutoff is 0.01, or 1%, then construct a 99% confidence interval).\n",
    "4. Using the confidence interval, determine if your data are more consistent with your null or alternative hypothesis:\n",
    "   * If the null hypothesis parameter X is in your confidence interval, the data are more consistent with the null hypothesis.\n",
    "   * If the null hypothesis parameter X is *not* in your confidence interval, the data are more consistent with the alternative hypothesis.\n",
    "\n",
    "More recently, we've discussed the use of linear regression to make predictions based on correlated variables. For example, we can predict the height of children based on the heights of their parents.\n",
    "\n",
    "We can combine these two topics to make powerful statements about our population by using the following techniques:\n",
    "\n",
    "- Bootstrapped interval for the true slope\n",
    "- Bootstrapped prediction interval for y (given a particular value of x)\n",
    "\n",
    "This homework explores these two methods."
   ]
  },
  {
   "cell_type": "markdown",
   "id": "f9156280-6094-40e3-b3ff-5ee82daa7dfa",
   "metadata": {},
   "source": [
    "## The Data"
   ]
  },
  {
   "cell_type": "markdown",
   "id": "fcf9acf2-8b8a-4e55-bbf7-1ca6767b6c2b",
   "metadata": {},
   "source": [
    "The [Snowy Plover](https://www.audubon.org/field-guide/bird/snowy-plover) is a tiny bird that lives on the coast in parts of California and elsewhere. It is so small that it is vulnerable to many predators, including people and dogs that don't look where they are stepping when they go to the beach. It is considered endangered in many parts of the U.S.\n",
    "\n",
    "The data are about the eggs and newly-hatched chicks of the Snowy Plover. Here's a picture of [a parent bird incubating its eggs](http://cescos.fau.edu/jay/eps/articles/snowyplover.html).\n",
    "\n",
    "<img src=\"plover_and_eggs.jpeg\" alt=\"Plover and Eggs\">\n",
    "\n",
    "The data were collected at the Point Reyes National Seashore by a former [student at Berkeley](https://openlibrary.org/books/OL2038693M/BLSS_the_Berkeley_interactive_statistical_system). The goal was to see how the size of an egg could be used to predict the weight of the resulting chick. The bigger the newly-hatched chick, the more likely it is to survive.\n",
    "\n",
    "<img src=\"plover_and_chick.jpeg\" alt=\"Plover and Chick\">\n",
    "\n",
    "Each row of the table below corresponds to one Snowy Plover egg and the resulting chick. Note how tiny the bird is:\n",
    "\n",
    "- `Egg Length` and `Egg Breadth` (widest diameter) are measured in millimeters\n",
    "- `Egg Weight` and `Bird Weight` are measured in grams; for comparison, a standard paper clip weighs about one gram"
   ]
  },
  {
   "cell_type": "code",
   "execution_count": 3,
   "id": "83132ff3-a195-41ba-81db-4a0357f54005",
   "metadata": {},
   "outputs": [
    {
     "data": {
      "text/html": [
       "<table border=\"1\" class=\"dataframe\">\n",
       "    <thead>\n",
       "        <tr>\n",
       "            <th>Egg Length</th> <th>Egg Breadth</th> <th>Egg Weight</th> <th>Bird Weight</th>\n",
       "        </tr>\n",
       "    </thead>\n",
       "    <tbody>\n",
       "        <tr>\n",
       "            <td>28.8      </td> <td>21.84      </td> <td>7.4       </td> <td>5.2        </td>\n",
       "        </tr>\n",
       "        <tr>\n",
       "            <td>29.04     </td> <td>22.45      </td> <td>7.7       </td> <td>5.4        </td>\n",
       "        </tr>\n",
       "        <tr>\n",
       "            <td>29.36     </td> <td>22.48      </td> <td>7.9       </td> <td>5.6        </td>\n",
       "        </tr>\n",
       "        <tr>\n",
       "            <td>30.1      </td> <td>21.71      </td> <td>7.5       </td> <td>5.3        </td>\n",
       "        </tr>\n",
       "        <tr>\n",
       "            <td>30.17     </td> <td>22.75      </td> <td>8.3       </td> <td>5.9        </td>\n",
       "        </tr>\n",
       "        <tr>\n",
       "            <td>30.34     </td> <td>22.84      </td> <td>8.5       </td> <td>5.8        </td>\n",
       "        </tr>\n",
       "        <tr>\n",
       "            <td>30.36     </td> <td>22.5       </td> <td>8.2       </td> <td>5.8        </td>\n",
       "        </tr>\n",
       "        <tr>\n",
       "            <td>30.46     </td> <td>22.72      </td> <td>8.3       </td> <td>6          </td>\n",
       "        </tr>\n",
       "        <tr>\n",
       "            <td>30.54     </td> <td>23.31      </td> <td>9         </td> <td>6.1        </td>\n",
       "        </tr>\n",
       "        <tr>\n",
       "            <td>30.62     </td> <td>22.94      </td> <td>8.5       </td> <td>6.2        </td>\n",
       "        </tr>\n",
       "    </tbody>\n",
       "</table>\n",
       "<p>... (34 rows omitted)</p>"
      ],
      "text/plain": [
       "Egg Length | Egg Breadth | Egg Weight | Bird Weight\n",
       "28.8       | 21.84       | 7.4        | 5.2\n",
       "29.04      | 22.45       | 7.7        | 5.4\n",
       "29.36      | 22.48       | 7.9        | 5.6\n",
       "30.1       | 21.71       | 7.5        | 5.3\n",
       "30.17      | 22.75       | 8.3        | 5.9\n",
       "30.34      | 22.84       | 8.5        | 5.8\n",
       "30.36      | 22.5        | 8.2        | 5.8\n",
       "30.46      | 22.72       | 8.3        | 6\n",
       "30.54      | 23.31       | 9          | 6.1\n",
       "30.62      | 22.94       | 8.5        | 6.2\n",
       "... (34 rows omitted)"
      ]
     },
     "execution_count": 3,
     "metadata": {},
     "output_type": "execute_result"
    }
   ],
   "source": [
    "birds = Table.read_table('snowy_plover.csv')\n",
    "birds"
   ]
  },
  {
   "cell_type": "markdown",
   "id": "c77a18fb-5283-4a55-88ef-85e269d1421e",
   "metadata": {},
   "source": [
    "In this investigation, we will be using the egg weight to predict bird weight. Run the cell below to create a scatter plot of the egg weights and bird weights, along with their line of best fit."
   ]
  },
  {
   "cell_type": "code",
   "execution_count": 4,
   "id": "a3ea7f0f-30d8-4fbe-9172-c6e928a6cb25",
   "metadata": {},
   "outputs": [
    {
     "data": {
      "image/png": "[encoded data removed]",
      "text/plain": [
       "<Figure size 500x500 with 1 Axes>"
      ]
     },
     "metadata": {},
     "output_type": "display_data"
    }
   ],
   "source": [
    "# Just run this cell and examine the scatter plot.\n",
    "birds.scatter('Egg Weight', \"Bird Weight\", fit_line=True)"
   ]
  },
  {
   "cell_type": "markdown",
   "id": "4de92d63-4508-4d50-abec-1bd066088318",
   "metadata": {},
   "source": [
    "## Residual Plot"
   ]
  },
  {
   "cell_type": "markdown",
   "id": "bc3fcf3e-c053-4df1-a688-115bba31a060",
   "metadata": {},
   "source": [
    "It seems like a linear model might be appropriate to apply to this situation, but you should check the residual plot before moving forward. You'll likely find the following functions useful."
   ]
  },
  {
   "cell_type": "code",
   "execution_count": 5,
   "id": "168da534-e363-40d2-9acc-aebf4ed838cf",
   "metadata": {},
   "outputs": [],
   "source": [
    "def standard_units(data):\n",
    "    return (data - np.mean(data)) / np.std(data)\n",
    "\n",
    "def correlation(tbl, x_col, y_col):\n",
    "    return np.mean(standard_units(tbl.column(x_col)) * standard_units(tbl.column(y_col)))"
   ]
  },
  {
   "cell_type": "markdown",
   "id": "ef38e9ea-cc9a-4084-8635-c4b0fe7cdfd8",
   "metadata": {
    "tags": []
   },
   "source": [
    "#### Task 01 📍"
   ]
  },
  {
   "cell_type": "markdown",
   "id": "90cf7412-bd80-4266-9458-609fee54eaff",
   "metadata": {
    "deletable": false,
    "editable": false
   },
   "source": [
    "Create a function called `fit_line`.  It should take a table (e.g. `birds`) and the column names associated with *x* and *y* as its arguments and return an *array* containing the slope and intercept of the regression line (in that order) that predicts the *y* column in the table using the *x* column.\n",
    "\n",
    "_Points:_ 3"
   ]
  },
  {
   "cell_type": "code",
   "execution_count": 8,
   "id": "bb347534-2bed-45e9-a997-f77c02ce061d",
   "metadata": {},
   "outputs": [
    {
     "data": {
      "text/plain": [
       "array([ 0.71851534, -0.05827226])"
      ]
     },
     "execution_count": 8,
     "metadata": {},
     "output_type": "execute_result"
    }
   ],
   "source": [
    "def fit_line(tbl, x_col, y_col):\n",
    "    r = correlation(tbl, x_col, y_col)\n",
    "    \n",
    "    x_mean = np.mean(tbl.column(x_col))\n",
    "    y_mean = np.mean(tbl.column(y_col))\n",
    "    x_std = np.std(tbl.column(x_col))\n",
    "    y_std = np.std(tbl.column(y_col))\n",
    "    \n",
    "    slope = r * (y_std / x_std)\n",
    "    intercept = y_mean - slope * x_mean\n",
    "    \n",
    "    return np.array([slope, intercept])\n",
    "\n",
    "fit_line(birds, \"Egg Weight\", \"Bird Weight\")"
   ]
  },
  {
   "cell_type": "code",
   "execution_count": 9,
   "id": "86706335",
   "metadata": {
    "deletable": false,
    "editable": false
   },
   "outputs": [
    {
     "data": {
      "text/html": [
       "<p><strong><pre style='display: inline;'>task_01</pre></strong> passed! 🎉</p><p><strong><pre style='display: inline;'>task_01 - 1</pre> message:</strong> ✅ Your fit_line function produces an array.</p><p><strong><pre style='display: inline;'>task_01 - 2</pre> message:</strong> ✅ The array from your fit_line function contains 2 items.</p><p><strong><pre style='display: inline;'>task_01 - 3</pre> message:</strong> ✅ Your fit_line function produced the correct two values for our test data.</p>"
      ],
      "text/plain": [
       "task_01 results: All test cases passed!\n",
       "task_01 - 1 message: ✅ Your fit_line function produces an array.\n",
       "task_01 - 2 message: ✅ The array from your fit_line function contains 2 items.\n",
       "task_01 - 3 message: ✅ Your fit_line function produced the correct two values for our test data."
      ]
     },
     "execution_count": 9,
     "metadata": {},
     "output_type": "execute_result"
    }
   ],
   "source": [
    "grader.check(\"task_01\")"
   ]
  },
  {
   "cell_type": "markdown",
   "id": "7dfa4fe3-f8c9-48cd-8454-e552e2d980a1",
   "metadata": {},
   "source": [
    "Now, run the following cell to plot the line produced by calling `fit_line` on the `birds` table.\n",
    "\n",
    "**Note:** You are not responsible for the code in the cell below, but make sure that your `fit_line` function generates a reasonable line for the data. Compare the line with the line produced in the scatter plot above with the `fit_line=True` parameter."
   ]
  },
  {
   "cell_type": "code",
   "execution_count": 10,
   "id": "760d6b9d-9ff8-4907-b672-dd09bb22683a",
   "metadata": {},
   "outputs": [
    {
     "data": {
      "image/png": "[encoded data removed]",
      "text/plain": [
       "<Figure size 500x500 with 1 Axes>"
      ]
     },
     "metadata": {},
     "output_type": "display_data"
    }
   ],
   "source": [
    "# Just run this cell\n",
    "slope, intercept = fit_line(birds, \"Egg Weight\", \"Bird Weight\")\n",
    "birds.scatter(\"Egg Weight\", \"Bird Weight\")\n",
    "plt.plot([min(birds.column(\"Egg Weight\")), \n",
    "          max(birds.column(\"Egg Weight\"))], \n",
    "         [slope*min(birds.column(\"Egg Weight\"))+intercept, \n",
    "          slope*max(birds.column(\"Egg Weight\"))+intercept])\n",
    "plt.show()"
   ]
  },
  {
   "cell_type": "markdown",
   "id": "54746374-d630-4be8-9e3e-aa73caaf477d",
   "metadata": {
    "tags": []
   },
   "source": [
    "### Task 02 📍"
   ]
  },
  {
   "cell_type": "markdown",
   "id": "e559ea8f-0722-49f4-9cfe-3bfc6aa3f8cb",
   "metadata": {
    "deletable": false,
    "editable": false
   },
   "source": [
    "With a linear regression model, update the `birds` table with a column of predicted birth weights using the regression line and the associated residuals.\n",
    "\n",
    "1. Create an array called `predicted_bird_weights` that contains the predicted bird weights from the regression line.\n",
    "2. Create an array called `residuals` that contains the residuals associated with those predictions.\n",
    "3. Update the `birds` table to include columns `'Predicted Bird Weight'` and `'Residual'` with their respective data.\n",
    "\n",
    "_Points:_ 3"
   ]
  },
  {
   "cell_type": "code",
   "execution_count": 11,
   "id": "443a53bd-a862-45ce-8a05-b9dc382ced2f",
   "metadata": {},
   "outputs": [
    {
     "data": {
      "text/html": [
       "<table border=\"1\" class=\"dataframe\">\n",
       "    <thead>\n",
       "        <tr>\n",
       "            <th>Egg Length</th> <th>Egg Breadth</th> <th>Egg Weight</th> <th>Bird Weight</th> <th>Predicted Bird Weight</th> <th>Residual</th>\n",
       "        </tr>\n",
       "    </thead>\n",
       "    <tbody>\n",
       "        <tr>\n",
       "            <td>28.8      </td> <td>21.84      </td> <td>7.4       </td> <td>5.2        </td> <td>5.25874              </td> <td>-0.0587413</td>\n",
       "        </tr>\n",
       "        <tr>\n",
       "            <td>29.04     </td> <td>22.45      </td> <td>7.7       </td> <td>5.4        </td> <td>5.4743               </td> <td>-0.0742959</td>\n",
       "        </tr>\n",
       "        <tr>\n",
       "            <td>29.36     </td> <td>22.48      </td> <td>7.9       </td> <td>5.6        </td> <td>5.618                </td> <td>-0.017999 </td>\n",
       "        </tr>\n",
       "        <tr>\n",
       "            <td>30.1      </td> <td>21.71      </td> <td>7.5       </td> <td>5.3        </td> <td>5.33059              </td> <td>-0.0305928</td>\n",
       "        </tr>\n",
       "        <tr>\n",
       "            <td>30.17     </td> <td>22.75      </td> <td>8.3       </td> <td>5.9        </td> <td>5.90541              </td> <td>-0.0054051</td>\n",
       "        </tr>\n",
       "        <tr>\n",
       "            <td>30.34     </td> <td>22.84      </td> <td>8.5       </td> <td>5.8        </td> <td>6.04911              </td> <td>-0.249108 </td>\n",
       "        </tr>\n",
       "        <tr>\n",
       "            <td>30.36     </td> <td>22.5       </td> <td>8.2       </td> <td>5.8        </td> <td>5.83355              </td> <td>-0.0335536</td>\n",
       "        </tr>\n",
       "        <tr>\n",
       "            <td>30.46     </td> <td>22.72      </td> <td>8.3       </td> <td>6          </td> <td>5.90541              </td> <td>0.0945949 </td>\n",
       "        </tr>\n",
       "        <tr>\n",
       "            <td>30.54     </td> <td>23.31      </td> <td>9         </td> <td>6.1        </td> <td>6.40837              </td> <td>-0.308366 </td>\n",
       "        </tr>\n",
       "        <tr>\n",
       "            <td>30.62     </td> <td>22.94      </td> <td>8.5       </td> <td>6.2        </td> <td>6.04911              </td> <td>0.150892  </td>\n",
       "        </tr>\n",
       "    </tbody>\n",
       "</table>\n",
       "<p>... (34 rows omitted)</p>"
      ],
      "text/plain": [
       "Egg Length | Egg Breadth | Egg Weight | Bird Weight | Predicted Bird Weight | Residual\n",
       "28.8       | 21.84       | 7.4        | 5.2         | 5.25874               | -0.0587413\n",
       "29.04      | 22.45       | 7.7        | 5.4         | 5.4743                | -0.0742959\n",
       "29.36      | 22.48       | 7.9        | 5.6         | 5.618                 | -0.017999\n",
       "30.1       | 21.71       | 7.5        | 5.3         | 5.33059               | -0.0305928\n",
       "30.17      | 22.75       | 8.3        | 5.9         | 5.90541               | -0.0054051\n",
       "30.34      | 22.84       | 8.5        | 5.8         | 6.04911               | -0.249108\n",
       "30.36      | 22.5        | 8.2        | 5.8         | 5.83355               | -0.0335536\n",
       "30.46      | 22.72       | 8.3        | 6           | 5.90541               | 0.0945949\n",
       "30.54      | 23.31       | 9          | 6.1         | 6.40837               | -0.308366\n",
       "30.62      | 22.94       | 8.5        | 6.2         | 6.04911               | 0.150892\n",
       "... (34 rows omitted)"
      ]
     },
     "execution_count": 11,
     "metadata": {},
     "output_type": "execute_result"
    }
   ],
   "source": [
    "predicted_bird_weights = slope * birds.column('Egg Weight') + intercept\n",
    "residuals = birds.column('Bird Weight') - predicted_bird_weights\n",
    "\n",
    "birds = birds.with_columns(\n",
    "    'Predicted Bird Weight', predicted_bird_weights,\n",
    "    'Residual', residuals\n",
    ")\n",
    "\n",
    "birds"
   ]
  },
  {
   "cell_type": "code",
   "execution_count": 12,
   "id": "ab374941",
   "metadata": {
    "deletable": false,
    "editable": false
   },
   "outputs": [
    {
     "data": {
      "text/html": [
       "<p><strong><pre style='display: inline;'>task_02</pre></strong> passed! 🙌</p><p><strong><pre style='display: inline;'>task_02 - 1</pre> message:</strong> ✅ The birds table has the correct labels.</p><p><strong><pre style='display: inline;'>task_02 - 2</pre> message:</strong> ✅ The sum of your predicted bird weights seems correct.</p><p><strong><pre style='display: inline;'>task_02 - 3</pre> message:</strong> ✅ The average residual calculated from your array residuals is (approximately) 0.</p><p><strong><pre style='display: inline;'>task_02 - 4</pre> message:</strong> ✅ The correlation between the egg weights and residuals calculated from your birds table is (approximately) 0.</p>"
      ],
      "text/plain": [
       "task_02 results: All test cases passed!\n",
       "task_02 - 1 message: ✅ The birds table has the correct labels.\n",
       "task_02 - 2 message: ✅ The sum of your predicted bird weights seems correct.\n",
       "task_02 - 3 message: ✅ The average residual calculated from your array residuals is (approximately) 0.\n",
       "task_02 - 4 message: ✅ The correlation between the egg weights and residuals calculated from your birds table is (approximately) 0."
      ]
     },
     "execution_count": 12,
     "metadata": {},
     "output_type": "execute_result"
    }
   ],
   "source": [
    "grader.check(\"task_02\")"
   ]
  },
  {
   "cell_type": "markdown",
   "id": "e93b1a61-9159-481b-be0d-d9514053ee20",
   "metadata": {
    "tags": []
   },
   "source": [
    "### Task 03 📍🔎"
   ]
  },
  {
   "cell_type": "markdown",
   "id": "9b1b7bcf-06e7-49ce-ae33-1ec91b3f44ba",
   "metadata": {
    "deletable": false,
    "editable": false
   },
   "source": [
    "<!-- BEGIN QUESTION -->\n",
    "\n",
    "Now that you have the residuals for these predictions:\n",
    "1. Create a residual plot showing egg weights on the horizontal axis and the residuals on the vertical axis.\n",
    "2. In the space provided, provide a short justification as to why it is reasonable to predict bird weight from egg weight using the linear model. Make sure to point out features from the residual plot relevant to [Section 15.5](https://inferentialthinking.com/chapters/15/5/Visual_Diagnostics.html#regression-diagnostics) that back up your justification. Additionally, it is reasonable to express concerns about applying a model to a given situation, so you are welcome to point out any concerns in relation to the content from Section 15.5.\n",
    "\n",
    "_Points:_ 3"
   ]
  },
  {
   "cell_type": "markdown",
   "id": "4fc19b8b",
   "metadata": {},
   "source": [
    "The scatter plot of egg weight versus bird weight shows a pattern that can be well approximated by a straight line. This suggests that as egg weight increases, bird weight tends to increase in a linear fashion."
   ]
  },
  {
   "cell_type": "code",
   "execution_count": 14,
   "id": "40c5a9f2-02ad-46d1-b201-8e1e3ef638b6",
   "metadata": {},
   "outputs": [
    {
     "data": {
      "image/png": "[encoded data removed]",
      "text/plain": [
       "<Figure size 500x500 with 1 Axes>"
      ]
     },
     "metadata": {},
     "output_type": "display_data"
    }
   ],
   "source": [
    "# Generate the residual plot\n",
    "birds.scatter('Egg Weight', 'Residual')\n",
    "plt.axhline(y=0, color='r', linestyle='--')  # Horizontal line at y=0\n",
    "plt.xlabel('Egg Weight')\n",
    "plt.ylabel('Residual')\n",
    "plt.show()\n"
   ]
  },
  {
   "cell_type": "markdown",
   "id": "3d3b4f57-8c4d-48c4-a971-5dcc9cbc50d8",
   "metadata": {
    "deletable": false,
    "editable": false
   },
   "source": [
    "<!-- END QUESTION -->\n",
    "\n",
    "## Finding the Bootstrap Confidence Interval for the True Slope"
   ]
  },
  {
   "cell_type": "code",
   "execution_count": 15,
   "id": "407a02f0-0aae-462e-8c1d-30147cd1e138",
   "metadata": {},
   "outputs": [
    {
     "data": {
      "image/png": "[encoded data removed]",
      "text/plain": [
       "<Figure size 500x500 with 1 Axes>"
      ]
     },
     "metadata": {},
     "output_type": "display_data"
    }
   ],
   "source": [
    "# Just run this cell\n",
    "birds.scatter('Egg Weight', \"Bird Weight\", fit_line=True)"
   ]
  },
  {
   "cell_type": "markdown",
   "id": "4b26e90f-ab11-4ce2-bc65-192c6493b782",
   "metadata": {},
   "source": [
    "Looking at the scatter plot of our sample, we observe a linear relationship between egg weight and bird weight. However, relationships that appear in a sample might not exist in the population from which the sample was taken.\n",
    "\n",
    "We want to know if there truly exists a linear relationship between egg weight and bird weight for Snowy Plovers. If there is no linear relationship between the two variables, then we'd expect a correlation of 0. Consequently, the slope of the regression line would also be 0. \n",
    "\n",
    "We highly recommend reviewing section [16.2](https://inferentialthinking.com/chapters/16/2/Inference_for_the_True_Slope.html) before attempting this part of the homework"
   ]
  },
  {
   "cell_type": "markdown",
   "id": "f7f9f1d8-c005-4d77-b957-7d7994f6c8a0",
   "metadata": {},
   "source": [
    "#### Task 04 📍🔎"
   ]
  },
  {
   "cell_type": "markdown",
   "id": "45b93b37-976b-4d40-8d6e-6cd70986f512",
   "metadata": {
    "deletable": false,
    "editable": false
   },
   "source": [
    "<!-- BEGIN QUESTION -->\n",
    "\n",
    "Let's run a hypothesis test using confidence intervals to see if there is a linear relationship between egg weight and bird weight. Define the null and alternative hypotheses that will allow you to conduct this test.\n",
    "\n",
    "*Note:* Please write your answer **in the cell below** in the following format:\n",
    "- **Null Hypothesis:**\n",
    "- **Alternative Hypothesis:**\n",
    "\n",
    "_Points:_ 2"
   ]
  },
  {
   "cell_type": "markdown",
   "id": "921232a7",
   "metadata": {},
   "source": [
    "- **Null Hypothesis:** The true slope of the linear relationship between egg weight and bird weight is zero (there is no linear relationship).\n",
    "- **Alternative Hypothesis:** Alternative Hypothesis: The true slope of the linear relationship between egg weight and bird weight is not zero (there is a linear relationship).\n"
   ]
  },
  {
   "cell_type": "markdown",
   "id": "b3fece9d-6b53-4c40-9614-144176c1d146",
   "metadata": {
    "deletable": false,
    "editable": false
   },
   "source": [
    "<!-- END QUESTION -->\n",
    "\n",
    "Next, you will create a confidence interval that quantifies our uncertainty about the true relationship between egg weight and bird weight."
   ]
  },
  {
   "cell_type": "markdown",
   "id": "93048373-0b05-44e8-8643-859b49029b49",
   "metadata": {
    "tags": []
   },
   "source": [
    "#### Task 05 📍🔎"
   ]
  },
  {
   "cell_type": "markdown",
   "id": "237d30e6-721d-4bfd-98e9-95625a5050d4",
   "metadata": {
    "deletable": false,
    "editable": false
   },
   "source": [
    "<!-- BEGIN QUESTION -->\n",
    "\n",
    "Create an array called `resampled_slopes` that contains the slope of the best fit line for 1,000 bootstrap resamples of `birds`. Plot the distribution of these slopes.\n",
    "\n",
    "_Points:_ 2"
   ]
  },
  {
   "cell_type": "code",
   "execution_count": 16,
   "id": "d5f021e3-22fc-4544-a810-e191f1f2428c",
   "metadata": {},
   "outputs": [
    {
     "data": {
      "image/png": "[encoded data removed]",
      "text/plain": [
       "<Figure size 600x400 with 1 Axes>"
      ]
     },
     "metadata": {},
     "output_type": "display_data"
    }
   ],
   "source": [
    "resampled_slopes = make_array()\n",
    "\n",
    "for i in np.arange(1000):\n",
    "    birds_bootstrap = birds.sample(with_replacement=True)\n",
    "    bootstrap_line = np.polyfit(birds_bootstrap.column('Egg Weight'), birds_bootstrap.column('Bird Weight'), 1)\n",
    "    bootstrap_slope = bootstrap_line[0]\n",
    "    resampled_slopes = np.append(resampled_slopes, bootstrap_slope)\n",
    "\n",
    "# DO NOT CHANGE THIS LINE\n",
    "Table().with_column(\"Slope estimate\", resampled_slopes).hist()\n"
   ]
  },
  {
   "cell_type": "markdown",
   "id": "592e641c-cad8-42b1-8f44-629cadfd7bc8",
   "metadata": {
    "deletable": false,
    "editable": false,
    "tags": []
   },
   "source": [
    "<!-- END QUESTION -->\n",
    "\n",
    "#### Task 06 📍"
   ]
  },
  {
   "cell_type": "markdown",
   "id": "7eafbcb8-1d20-4639-863d-924407a67525",
   "metadata": {
    "deletable": false,
    "editable": false
   },
   "source": [
    "Use your resampled slopes to construct an 95% confidence interval for the true value of the slope.\n",
    "\n",
    "_Points:_ 3"
   ]
  },
  {
   "cell_type": "code",
   "execution_count": 17,
   "id": "91780748-2671-445b-a0b7-7edb0ffc44ea",
   "metadata": {},
   "outputs": [
    {
     "name": "stdout",
     "output_type": "stream",
     "text": [
      "95% confidence interval for slope: [0.60557, 0.827821]\n"
     ]
    }
   ],
   "source": [
    "lower_end = np.percentile(resampled_slopes, 2.5)\n",
    "upper_end = np.percentile(resampled_slopes, 97.5)\n",
    "print(\"95% confidence interval for slope: [{:g}, {:g}]\".format(lower_end, upper_end))\n"
   ]
  },
  {
   "cell_type": "code",
   "execution_count": 18,
   "id": "791b8f4d",
   "metadata": {
    "deletable": false,
    "editable": false
   },
   "outputs": [
    {
     "data": {
      "text/html": [
       "<p><strong><pre style='display: inline;'>task_06</pre></strong> passed! 🌟</p><p><strong><pre style='display: inline;'>task_06 - 1</pre> message:</strong> ✅ The lower_end value is greater than 0.</p><p><strong><pre style='display: inline;'>task_06 - 2</pre> message:</strong> ✅ The upper_end value is less than 4.</p>"
      ],
      "text/plain": [
       "task_06 results: All test cases passed!\n",
       "task_06 - 1 message: ✅ The lower_end value is greater than 0.\n",
       "task_06 - 2 message: ✅ The upper_end value is less than 4."
      ]
     },
     "execution_count": 18,
     "metadata": {},
     "output_type": "execute_result"
    }
   ],
   "source": [
    "grader.check(\"task_06\")"
   ]
  },
  {
   "cell_type": "markdown",
   "id": "a70590bd-fa5c-4018-b615-37fb97389eb5",
   "metadata": {},
   "source": [
    "#### Task 07 📍🔎"
   ]
  },
  {
   "cell_type": "markdown",
   "id": "e9d6e3b8-437d-4312-a86a-16cffb1edf3c",
   "metadata": {
    "deletable": false,
    "editable": false
   },
   "source": [
    "<!-- BEGIN QUESTION -->\n",
    "\n",
    "In your response, make to address the following:\n",
    "1. Based on your confidence interval, would you **reject** or **fail to reject** the null hypothesis that the true slope is 0? \n",
    "2. Provide an explanation Why?  \n",
    "3. What p-value cutoff are you using?\n",
    "\n",
    "**Hint:** Re-read the first section of this homework!\n",
    "\n",
    "_Points:_ 2"
   ]
  },
  {
   "cell_type": "markdown",
   "id": "3de41a5c",
   "metadata": {},
   "source": [
    "The 95% confidence interval for the slope does not include 0, indicating that we reject the null hypothesis of a zero slope. With a 0.05 p-value cutoff, this suggests strong evidence for a non-zero linear relationship between egg weight and bird weight."
   ]
  },
  {
   "cell_type": "markdown",
   "id": "62f51e54-075f-4d2e-954e-c5647db16df6",
   "metadata": {
    "deletable": false,
    "editable": false
   },
   "source": [
    "<!-- END QUESTION -->\n",
    "\n",
    "## Finding the Bootstrap Prediction Interval"
   ]
  },
  {
   "cell_type": "markdown",
   "id": "f28fce31-ff3f-4dc4-a4a5-b823115154a7",
   "metadata": {},
   "source": [
    "Suppose we're visiting Point Reyes and stumble upon some Snowy Plover eggs; we'd like to know how heavy they'll be once they hatch. In other words, we want to use our regression line to make predictions about a bird's weight based on the weight of the corresponding egg.\n",
    "\n",
    "However, just as we're uncertain about the slope of the true regression line, we're also uncertain about the predictions made based on the true regression line."
   ]
  },
  {
   "cell_type": "markdown",
   "id": "a04baff6-1c50-4fc0-b05a-270223159b91",
   "metadata": {
    "tags": []
   },
   "source": [
    "#### Task 08 📍"
   ]
  },
  {
   "cell_type": "markdown",
   "id": "26a89d01-0720-4a1d-8b0a-0c6814f0efca",
   "metadata": {
    "deletable": false,
    "editable": false
   },
   "source": [
    "Define the function `fitted_value`.  It should take in four arguments:\n",
    "\n",
    "1. `table`: a table like `birds`.  We'll be predicting the values in the second column using the first.\n",
    "2. `x_col`: the name of our x-column within the input `table`\n",
    "3. `y_col`: the name of our y-column within the input `table`\n",
    "2. `given_x`: a number, the value of the predictor variable for which we'd like to make a prediction.\n",
    "  \n",
    "The function should return the line's prediction for the given x.\n",
    "\n",
    "*Hint:* Make sure to use the `fit_line` function you defined in Task 11.\n",
    "\n",
    "_Points:_ 2"
   ]
  },
  {
   "cell_type": "code",
   "execution_count": 19,
   "id": "4519e86b-7650-42c8-8911-e477ded5b7b3",
   "metadata": {},
   "outputs": [
    {
     "data": {
      "text/plain": [
       "5.6898504972151462"
      ]
     },
     "execution_count": 19,
     "metadata": {},
     "output_type": "execute_result"
    }
   ],
   "source": [
    "def fitted_value(table, x_col, y_col, given_x):\n",
    "    line = fit_line(table, x_col, y_col)\n",
    "    slope = line[0]\n",
    "    intercept = line[1]\n",
    "    \n",
    "    y_pred = slope * given_x + intercept\n",
    "    \n",
    "    return y_pred\n",
    "\n",
    "# Here's an example of how fitted_value is used. The code below\n",
    "# computes the prediction for the bird weight, in grams, based on\n",
    "# an egg weight of 8 grams.\n",
    "egg_weight_eight = fitted_value(birds, \"Egg Weight\", \"Bird Weight\", 8)\n",
    "egg_weight_eight"
   ]
  },
  {
   "cell_type": "code",
   "execution_count": 20,
   "id": "86fe5e3d",
   "metadata": {
    "deletable": false,
    "editable": false
   },
   "outputs": [
    {
     "data": {
      "text/html": [
       "<p><strong><pre style='display: inline;'>task_08</pre></strong> passed! 🌟</p><p><strong><pre style='display: inline;'>task_08 - 1</pre> message:</strong> ✅ </p>"
      ],
      "text/plain": [
       "task_08 results: All test cases passed!\n",
       "task_08 - 1 message: ✅ "
      ]
     },
     "execution_count": 20,
     "metadata": {},
     "output_type": "execute_result"
    }
   ],
   "source": [
    "grader.check(\"task_08\")"
   ]
  },
  {
   "cell_type": "markdown",
   "id": "b661789c-5c27-4d9a-a333-7848618d2efa",
   "metadata": {
    "tags": []
   },
   "source": [
    "#### Task 09 📍"
   ]
  },
  {
   "cell_type": "markdown",
   "id": "4b289514-f583-462b-bcb4-79b546c5038e",
   "metadata": {
    "deletable": false,
    "editable": false
   },
   "source": [
    "Raymond, the resident Snowy Plover expert at Point Reyes, tells us that the egg he has been carefully observing has a weight of 9 grams. Using `fitted_value` above, assign the variable `experts_egg` to the predicted bird weight for Raymond's egg.\n",
    "\n",
    "_Points:_ 2"
   ]
  },
  {
   "cell_type": "code",
   "execution_count": 21,
   "id": "dbd6b572-978b-402b-ac73-dae1bb354bd2",
   "metadata": {},
   "outputs": [
    {
     "data": {
      "text/plain": [
       "6.4083658421088252"
      ]
     },
     "execution_count": 21,
     "metadata": {},
     "output_type": "execute_result"
    }
   ],
   "source": [
    "experts_egg = fitted_value(birds, \"Egg Weight\", \"Bird Weight\", 9)\n",
    "experts_egg"
   ]
  },
  {
   "cell_type": "code",
   "execution_count": 22,
   "id": "6a1cb211",
   "metadata": {
    "deletable": false,
    "editable": false
   },
   "outputs": [
    {
     "data": {
      "text/html": [
       "<p><strong><pre style='display: inline;'>task_09</pre></strong> passed! 🌈</p><p><strong><pre style='display: inline;'>task_09 - 1</pre> message:</strong> ✅ </p>"
      ],
      "text/plain": [
       "task_09 results: All test cases passed!\n",
       "task_09 - 1 message: ✅ "
      ]
     },
     "execution_count": 22,
     "metadata": {},
     "output_type": "execute_result"
    }
   ],
   "source": [
    "grader.check(\"task_09\")"
   ]
  },
  {
   "cell_type": "markdown",
   "id": "b10e3f56-e1ea-4626-be03-ec4661b4a62c",
   "metadata": {},
   "source": [
    "Let's look at the number of rows in the birds table."
   ]
  },
  {
   "cell_type": "code",
   "execution_count": 38,
   "id": "cffccada-7db6-4926-ad9e-423ede4c9b1e",
   "metadata": {
    "tags": []
   },
   "outputs": [
    {
     "data": {
      "text/plain": [
       "44"
      ]
     },
     "execution_count": 38,
     "metadata": {},
     "output_type": "execute_result"
    }
   ],
   "source": [
    "birds.num_rows"
   ]
  },
  {
   "cell_type": "markdown",
   "id": "6c7faa1d-9605-47d0-b714-9ca2d60d1c68",
   "metadata": {},
   "source": [
    "A fellow parkgoer raises the following objection to your prediction:\n",
    "\n",
    "> \"Your prediction depends on your sample of 44 birds.  Wouldn't your prediction change if you had a different sample of 44 birds?\"\n",
    "\n",
    "Having read section [16.3](https://inferentialthinking.com/chapters/16/3/Prediction_Intervals.html) of the textbook, you know just the response! Had the sample been different, the regression line would have been different too. This would ultimately result in a different prediction. To see how good our prediction is, we must get a sense of how variable the prediction can be."
   ]
  },
  {
   "cell_type": "markdown",
   "id": "9077ccaa-a519-4111-8241-c7d3737d3036",
   "metadata": {
    "tags": []
   },
   "source": [
    "#### Task 10 📍"
   ]
  },
  {
   "cell_type": "markdown",
   "id": "5282fc6b-b801-4db9-aab1-1ca8350a9aad",
   "metadata": {
    "deletable": false,
    "editable": false
   },
   "source": [
    "Define a function `compute_resampled_line` that takes in a table `tbl`and two column names, `x_col` and `y_col`, and returns an array containing the parameters of the best fit line (slope and intercept) for one bootstrapped resample of the table.\n",
    "\n",
    "_Points:_ 2"
   ]
  },
  {
   "cell_type": "code",
   "execution_count": 23,
   "id": "25823f5e-92a9-4b03-a87c-53d2e0578ff0",
   "metadata": {},
   "outputs": [],
   "source": [
    "def compute_resampled_line(tbl, x_col, y_col):\n",
    "    resample = tbl.sample(with_replacement=True)\n",
    "    resampled_line = np.polyfit(resample.column(x_col), resample.column(y_col), 1)\n",
    "    return resampled_line"
   ]
  },
  {
   "cell_type": "code",
   "execution_count": 24,
   "id": "103a0576",
   "metadata": {
    "deletable": false,
    "editable": false
   },
   "outputs": [
    {
     "data": {
      "text/html": [
       "<p><strong><pre style='display: inline;'>task_10</pre></strong> passed! 🌟</p><p><strong><pre style='display: inline;'>task_10 - 1</pre> message:</strong> ✅ Your function returns an array with 2 items.</p>"
      ],
      "text/plain": [
       "task_10 results: All test cases passed!\n",
       "task_10 - 1 message: ✅ Your function returns an array with 2 items."
      ]
     },
     "execution_count": 24,
     "metadata": {},
     "output_type": "execute_result"
    }
   ],
   "source": [
    "grader.check(\"task_10\")"
   ]
  },
  {
   "cell_type": "markdown",
   "id": "b4118855-3e18-438d-8796-398d72fdbe20",
   "metadata": {},
   "source": [
    "**Run** the following cell below in order to define the function `bootstrap_lines`.  It takes in four arguments:\n",
    "1. `tbl`: a table like `birds`\n",
    "2. `x_col`: the name of our x-column within the input `tbl`\n",
    "3. `y_col`: the name of our y-column within the input `tbl`\n",
    "4. `num_bootstraps`: an integer, a number of bootstraps to run.\n",
    "\n",
    "It returns a *table* with one row for each bootstrap resample and the following two columns:\n",
    "1. `Slope`: the bootstrapped slopes \n",
    "2. `Intercept`: the corresponding bootstrapped intercepts "
   ]
  },
  {
   "cell_type": "code",
   "execution_count": 25,
   "id": "d19d130d-4650-4f40-843f-c81ad621ceb7",
   "metadata": {},
   "outputs": [
    {
     "data": {
      "text/html": [
       "<table border=\"1\" class=\"dataframe\">\n",
       "    <thead>\n",
       "        <tr>\n",
       "            <th>Slope</th> <th>Intercept</th>\n",
       "        </tr>\n",
       "    </thead>\n",
       "    <tbody>\n",
       "        <tr>\n",
       "            <td>0.699208</td> <td>0.125433   </td>\n",
       "        </tr>\n",
       "        <tr>\n",
       "            <td>0.708242</td> <td>0.0160354  </td>\n",
       "        </tr>\n",
       "        <tr>\n",
       "            <td>0.6813  </td> <td>0.235676   </td>\n",
       "        </tr>\n",
       "        <tr>\n",
       "            <td>0.696444</td> <td>0.0896444  </td>\n",
       "        </tr>\n",
       "        <tr>\n",
       "            <td>0.686969</td> <td>0.177459   </td>\n",
       "        </tr>\n",
       "        <tr>\n",
       "            <td>0.75929 </td> <td>-0.353335  </td>\n",
       "        </tr>\n",
       "        <tr>\n",
       "            <td>0.739394</td> <td>-0.263827  </td>\n",
       "        </tr>\n",
       "        <tr>\n",
       "            <td>0.669117</td> <td>0.335079   </td>\n",
       "        </tr>\n",
       "        <tr>\n",
       "            <td>0.709834</td> <td>-0.00318306</td>\n",
       "        </tr>\n",
       "        <tr>\n",
       "            <td>0.742522</td> <td>-0.235379  </td>\n",
       "        </tr>\n",
       "    </tbody>\n",
       "</table>\n",
       "<p>... (990 rows omitted)</p>"
      ],
      "text/plain": [
       "Slope    | Intercept\n",
       "0.699208 | 0.125433\n",
       "0.708242 | 0.0160354\n",
       "0.6813   | 0.235676\n",
       "0.696444 | 0.0896444\n",
       "0.686969 | 0.177459\n",
       "0.75929  | -0.353335\n",
       "0.739394 | -0.263827\n",
       "0.669117 | 0.335079\n",
       "0.709834 | -0.00318306\n",
       "0.742522 | -0.235379\n",
       "... (990 rows omitted)"
      ]
     },
     "execution_count": 25,
     "metadata": {},
     "output_type": "execute_result"
    }
   ],
   "source": [
    "# Just run this cell\n",
    "def bootstrap_lines(tbl, x_col, y_col, num_bootstraps):\n",
    "    resampled_slopes = make_array()\n",
    "    resampled_intercepts = make_array() \n",
    "    for i in np.arange(num_bootstraps): \n",
    "        resampled_line = compute_resampled_line(tbl, x_col, y_col) \n",
    "        resampled_slope = resampled_line.item(0) \n",
    "        resampled_intercept = resampled_line.item(1) \n",
    "        resampled_slopes = np.append(resampled_slopes,resampled_slope)\n",
    "        resampled_intercepts = np.append(resampled_intercepts,resampled_intercept)\n",
    "    tbl_lines = Table().with_columns('Slope', resampled_slopes, 'Intercept', resampled_intercepts)\n",
    "    return tbl_lines\n",
    "\n",
    "regression_lines = bootstrap_lines(birds, \"Egg Weight\", \"Bird Weight\", 1000)\n",
    "regression_lines"
   ]
  },
  {
   "cell_type": "markdown",
   "id": "0c8128b9-d63d-4ba0-8e55-aef4a871fb56",
   "metadata": {
    "tags": []
   },
   "source": [
    "#### Task 11 📍🔎"
   ]
  },
  {
   "cell_type": "markdown",
   "id": "4a91a329-100c-4184-b1a1-3a1123840970",
   "metadata": {
    "deletable": false,
    "editable": false
   },
   "source": [
    "<!-- BEGIN QUESTION -->\n",
    "\n",
    "Create an array called `predictions_for_eight` that contains the predicted bird weights based on an egg of weight 8 grams for each regression line in `regression_lines`.\n",
    "\n",
    "_Points:_ 2"
   ]
  },
  {
   "cell_type": "code",
   "execution_count": 26,
   "id": "4db86446-e247-4056-bca1-2973d177e4bc",
   "metadata": {},
   "outputs": [
    {
     "data": {
      "image/png": "[encoded data removed]",
      "text/plain": [
       "<Figure size 600x400 with 1 Axes>"
      ]
     },
     "metadata": {},
     "output_type": "display_data"
    }
   ],
   "source": [
    "slopes = regression_lines.column('Slope')\n",
    "intercepts = regression_lines.column('Intercept')\n",
    "\n",
    "predictions_for_eight = slopes * 8 + intercepts\n",
    "\n",
    "# This will make a histogram of your predictions:\n",
    "table_of_predictions = Table().with_column('Predictions at Egg Weight=8', predictions_for_eight)\n",
    "table_of_predictions.hist('Predictions at Egg Weight=8', bins=20)\n"
   ]
  },
  {
   "cell_type": "markdown",
   "id": "bf9269e6-b9ba-4ab3-abd9-08c69b89f523",
   "metadata": {
    "deletable": false,
    "editable": false,
    "tags": []
   },
   "source": [
    "<!-- END QUESTION -->\n",
    "\n",
    "#### Task 12 📍"
   ]
  },
  {
   "cell_type": "markdown",
   "id": "b67c486f-ce1b-4cb5-94be-289b28cd8142",
   "metadata": {
    "deletable": false,
    "editable": false
   },
   "source": [
    "Create an approximate 95% confidence interval for the predictions in `predictions_for_eight`.\n",
    "\n",
    "_Points:_ 3"
   ]
  },
  {
   "cell_type": "code",
   "execution_count": 27,
   "id": "5d7ffce5-5eb5-45a6-9099-660d958d7aad",
   "metadata": {},
   "outputs": [
    {
     "name": "stdout",
     "output_type": "stream",
     "text": [
      "95% Confidence interval for predictions for x=8: ( 5.62498328669 , 5.77389073233 )\n"
     ]
    }
   ],
   "source": [
    "lower_bound = np.percentile(predictions_for_eight, 2.5)\n",
    "upper_bound = np.percentile(predictions_for_eight, 97.5)\n",
    "\n",
    "print('95% Confidence interval for predictions for x=8: (', lower_bound,\",\", upper_bound, ')')\n"
   ]
  },
  {
   "cell_type": "code",
   "execution_count": 28,
   "id": "bd6d8a92",
   "metadata": {
    "deletable": false,
    "editable": false
   },
   "outputs": [
    {
     "data": {
      "text/html": [
       "<p><strong><pre style='display: inline;'>task_12</pre></strong> passed! 🎉</p><p><strong><pre style='display: inline;'>task_12 - 1</pre> message:</strong> ✅ The lower_bound value is greater than 5.</p><p><strong><pre style='display: inline;'>task_12 - 2</pre> message:</strong> ✅ The upper_bound value is less than 6.5.</p>"
      ],
      "text/plain": [
       "task_12 results: All test cases passed!\n",
       "task_12 - 1 message: ✅ The lower_bound value is greater than 5.\n",
       "task_12 - 2 message: ✅ The upper_bound value is less than 6.5."
      ]
     },
     "execution_count": 28,
     "metadata": {},
     "output_type": "execute_result"
    }
   ],
   "source": [
    "grader.check(\"task_12\")"
   ]
  },
  {
   "cell_type": "markdown",
   "id": "acbba894-5eb1-4a31-86e6-b67a8f7d23d4",
   "metadata": {
    "tags": []
   },
   "source": [
    "#### Task 13 📍"
   ]
  },
  {
   "cell_type": "markdown",
   "id": "6c921cec-38e9-495e-9c37-ba5705fdd8af",
   "metadata": {
    "deletable": false,
    "editable": false
   },
   "source": [
    "Set `plover_statements` to an array of integer(s) that correspond to statement(s) that are true.\n",
    "\n",
    "1. The 95% confidence interval covers 95% of the bird weights for eggs that had a weight of eight grams in the population of snowy plovers.\n",
    "\n",
    "2. The 95% confidence interval quantifies the uncertainty in our estimate of what the true line would predict.\n",
    "\n",
    "_Points:_ 2"
   ]
  },
  {
   "cell_type": "code",
   "execution_count": 29,
   "id": "fd8b5e58-ae24-47f1-af86-c7e088069b0c",
   "metadata": {
    "tags": []
   },
   "outputs": [],
   "source": [
    "plover_statements = make_array(2)"
   ]
  },
  {
   "cell_type": "code",
   "execution_count": 30,
   "id": "55573f3b",
   "metadata": {
    "deletable": false,
    "editable": false
   },
   "outputs": [
    {
     "data": {
      "text/html": [
       "<p><strong><pre style='display: inline;'>task_13</pre></strong> passed! 🍀</p><p><strong><pre style='display: inline;'>task_13 - 1</pre> message:</strong> ✅ plover_statements is an array.</p>"
      ],
      "text/plain": [
       "task_13 results: All test cases passed!\n",
       "task_13 - 1 message: ✅ plover_statements is an array."
      ]
     },
     "execution_count": 30,
     "metadata": {},
     "output_type": "execute_result"
    }
   ],
   "source": [
    "grader.check(\"task_13\")"
   ]
  },
  {
   "cell_type": "markdown",
   "id": "79a9b50e-ffd3-46a9-abd8-a6d8b2bd59b3",
   "metadata": {},
   "source": [
    "## Submit your Homework to Canvas\n",
    "\n",
    "Once you have finished working on the homework tasks, prepare to submit your work in Canvas by completing the following steps.\n",
    "\n",
    "1. In the related Canvas Assignment page, check the rubric to know how you will be scored for this assignment.\n",
    "2. Double-check that you have run the code cell near the end of the notebook that contains the command `\"grader.check_all()\"`. This command will run all of the run tests on all your responses to the auto-graded tasks marked with 📍.\n",
    "3. Double-check your responses to the manually graded tasks marked with 📍🔎.\n",
    "3. Select the menu item \"File\" and \"Save Notebook\" in the notebook's Toolbar to save your work and create a specific checkpoint in the notebook's work history.\n",
    "4. Select the menu items \"File\", \"Download\" in the notebook's Toolbar to download the notebook (.ipynb) file. \n",
    "5. In the related Canvas Assignment page, click Start Assignment or New Attempt to upload the downloaded .ipynb file.\n",
    "\n",
    "**Keep in mind that the auto-grader does not always check for correctness. Sometimes it just checks for the format of your answer, so passing the auto-grader for a task does not mean you got the answer correct for that task.**"
   ]
  },
  {
   "cell_type": "markdown",
   "id": "27a64fe2",
   "metadata": {
    "deletable": false,
    "editable": false
   },
   "source": [
    "---\n",
    "\n",
    "To double-check your work, the cell below will rerun all of the autograder tests."
   ]
  },
  {
   "cell_type": "code",
   "execution_count": 31,
   "id": "40e2058a",
   "metadata": {
    "deletable": false,
    "editable": false
   },
   "outputs": [
    {
     "data": {
      "text/plain": [
       "task_01 results: All test cases passed!\n",
       "task_01 - 1 message: ✅ Your fit_line function produces an array.\n",
       "task_01 - 2 message: ✅ The array from your fit_line function contains 2 items.\n",
       "task_01 - 3 message: ✅ Your fit_line function produced the correct two values for our test data.\n",
       "\n",
       "task_02 results: All test cases passed!\n",
       "task_02 - 1 message: ✅ The birds table has the correct labels.\n",
       "task_02 - 2 message: ✅ The sum of your predicted bird weights seems correct.\n",
       "task_02 - 3 message: ✅ The average residual calculated from your array residuals is (approximately) 0.\n",
       "task_02 - 4 message: ✅ The correlation between the egg weights and residuals calculated from your birds table is (approximately) 0.\n",
       "\n",
       "task_06 results: All test cases passed!\n",
       "task_06 - 1 message: ✅ The lower_end value is greater than 0.\n",
       "task_06 - 2 message: ✅ The upper_end value is less than 4.\n",
       "\n",
       "task_08 results: All test cases passed!\n",
       "task_08 - 1 message: ✅ \n",
       "\n",
       "task_09 results: All test cases passed!\n",
       "task_09 - 1 message: ✅ \n",
       "\n",
       "task_10 results: All test cases passed!\n",
       "task_10 - 1 message: ✅ Your function returns an array with 2 items.\n",
       "\n",
       "task_12 results: All test cases passed!\n",
       "task_12 - 1 message: ✅ The lower_bound value is greater than 5.\n",
       "task_12 - 2 message: ✅ The upper_bound value is less than 6.5.\n",
       "\n",
       "task_13 results: All test cases passed!\n",
       "task_13 - 1 message: ✅ plover_statements is an array."
      ]
     },
     "execution_count": 31,
     "metadata": {},
     "output_type": "execute_result"
    }
   ],
   "source": [
    "grader.check_all()"
   ]
  },
  {
   "cell_type": "code",
   "execution_count": null,
   "id": "4d449d01-25ff-4f88-be0b-f3ce3d4c76d4",
   "metadata": {},
   "outputs": [],
   "source": []
  }
 ],
 "metadata": {
  "kernelspec": {
   "display_name": "Python 3 (ipykernel)",
   "language": "python",
   "name": "python3"
  },
  "language_info": {
   "codemirror_mode": {
    "name": "ipython",
    "version": 3
   },
   "file_extension": ".py",
   "mimetype": "text/x-python",
   "name": "python",
   "nbconvert_exporter": "python",
   "pygments_lexer": "ipython3",
   "version": "3.10.12"
  },
  "otter": {
   "OK_FORMAT": true,
   "assignment_name": "hw12_sp24",
   "tests": {
    "task_01": {
     "name": "task_01",
     "points": 3,
     "suites": [
      {
       "cases": [
        {
         "code": ">>> type(fit_line(Table().with_columns('x', make_array(0, 1), 'y', make_array(1, 3)), 'x', 'y')) == np.ndarray\nTrue",
         "failure_message": "❌ Your fit_line function should produce an array.",
         "hidden": false,
         "locked": false,
         "points": 0.5,
         "success_message": "✅ Your fit_line function produces an array."
        },
        {
         "code": ">>> len(fit_line(Table().with_columns('x', make_array(0, 1), 'y', make_array(1, 3)), 'x', 'y')) == 2\nTrue",
         "failure_message": "❌ The array from your fit_line function should contain 2 items.",
         "hidden": false,
         "locked": false,
         "points": 0.5,
         "success_message": "✅ The array from your fit_line function contains 2 items."
        },
        {
         "code": ">>> np.allclose(np.round(fit_line(Table().with_columns('x', make_array(0, 1), 'y', make_array(1, 3)), 'x', 'y'), 5), np.array([2, 1]))\nTrue",
         "failure_message": "❌ Your fit_line function did not produce the correct two values for our test data.",
         "hidden": false,
         "locked": false,
         "points": 1,
         "success_message": "✅ Your fit_line function produced the correct two values for our test data."
        }
       ],
       "scored": true,
       "setup": "",
       "teardown": "",
       "type": "doctest"
      }
     ]
    },
    "task_02": {
     "name": "task_02",
     "points": 3,
     "suites": [
      {
       "cases": [
        {
         "code": ">>> set(birds.labels) == {'Egg Length', 'Egg Breadth', 'Egg Weight', 'Bird Weight', 'Predicted Bird Weight', 'Residual'}\nTrue",
         "failure_message": "❌ The birds table does not have the correct labels.",
         "hidden": false,
         "locked": false,
         "points": 0.5,
         "success_message": "✅ The birds table has the correct labels."
        },
        {
         "code": ">>> np.isclose(np.sum(predicted_bird_weights), 270.4000000000001)\nTrue",
         "failure_message": "❌ The sum of your predicted bird weights doesn't seem correct.",
         "hidden": false,
         "locked": false,
         "points": 0.5,
         "success_message": "✅ The sum of your predicted bird weights seems correct."
        },
        {
         "code": ">>> np.isclose(np.average(residuals), 0)\nTrue",
         "failure_message": "❌ The average residual calculated from your array residuals should be (approximately) 0.",
         "hidden": false,
         "locked": false,
         "points": 0.5,
         "success_message": "✅ The average residual calculated from your array residuals is (approximately) 0."
        },
        {
         "code": ">>> np.isclose(correlation(birds, 'Egg Weight', 'Residual'), 0)\nTrue",
         "failure_message": "❌ The correlation between the egg weights and residuals calculated from your birds table should be (approximately) 0.",
         "hidden": false,
         "locked": false,
         "points": 0.5,
         "success_message": "✅ The correlation between the egg weights and residuals calculated from your birds table is (approximately) 0."
        }
       ],
       "scored": true,
       "setup": "",
       "teardown": "",
       "type": "doctest"
      }
     ]
    },
    "task_06": {
     "name": "task_06",
     "points": 3,
     "suites": [
      {
       "cases": [
        {
         "code": ">>> lower_end > 0\nTrue",
         "failure_message": "❌ The lower_end value should be greater than 0.",
         "hidden": false,
         "locked": false,
         "points": 0.5,
         "success_message": "✅ The lower_end value is greater than 0."
        },
        {
         "code": ">>> upper_end < 4\nTrue",
         "failure_message": "❌ The upper_end value should be less than 4.",
         "hidden": false,
         "locked": false,
         "points": 0.5,
         "success_message": "✅ The upper_end value is less than 4."
        }
       ],
       "scored": true,
       "setup": "",
       "teardown": "",
       "type": "doctest"
      }
     ]
    },
    "task_08": {
     "name": "task_08",
     "points": 2,
     "suites": [
      {
       "cases": [
        {
         "code": ">>> type(egg_weight_eight) in set([float, np.float32, np.float64])\nTrue",
         "failure_message": "❌ ",
         "hidden": false,
         "locked": false,
         "points": 1,
         "success_message": "✅ "
        }
       ],
       "scored": true,
       "setup": "",
       "teardown": "",
       "type": "doctest"
      }
     ]
    },
    "task_09": {
     "name": "task_09",
     "points": 2,
     "suites": [
      {
       "cases": [
        {
         "code": ">>> type(experts_egg) in set([float, np.float32, np.float64])\nTrue",
         "failure_message": "❌ ",
         "hidden": false,
         "locked": false,
         "points": 1,
         "success_message": "✅ "
        }
       ],
       "scored": true,
       "setup": "",
       "teardown": "",
       "type": "doctest"
      }
     ]
    },
    "task_10": {
     "name": "task_10",
     "points": 2,
     "suites": [
      {
       "cases": [
        {
         "code": ">>> results = compute_resampled_line(Table().with_columns('x', make_array(0, 1), 'y', make_array(1, 3)), 'x', 'y')\n>>> isinstance(results, np.ndarray) and len(results) == 2\nTrue",
         "failure_message": "❌ Your function should return an array with 2 items.",
         "hidden": false,
         "locked": false,
         "points": 1,
         "success_message": "✅ Your function returns an array with 2 items."
        }
       ],
       "scored": true,
       "setup": "",
       "teardown": "",
       "type": "doctest"
      }
     ]
    },
    "task_12": {
     "name": "task_12",
     "points": 3,
     "suites": [
      {
       "cases": [
        {
         "code": ">>> lower_bound > 5\nTrue",
         "failure_message": "❌ The lower_bound value should be greater than 5.",
         "hidden": false,
         "locked": false,
         "points": 0.5,
         "success_message": "✅ The lower_bound value is greater than 5."
        },
        {
         "code": ">>> upper_bound < 6.5\nTrue",
         "failure_message": "❌ The upper_bound value should be less than 6.5.",
         "hidden": false,
         "locked": false,
         "points": 0.5,
         "success_message": "✅ The upper_bound value is less than 6.5."
        }
       ],
       "scored": true,
       "setup": "",
       "teardown": "",
       "type": "doctest"
      }
     ]
    },
    "task_13": {
     "name": "task_13",
     "points": 2,
     "suites": [
      {
       "cases": [
        {
         "code": ">>> type(plover_statements) == np.ndarray\nTrue",
         "failure_message": "❌ plover_statements should be an array.",
         "hidden": false,
         "locked": false,
         "points": 1,
         "success_message": "✅ plover_statements is an array."
        }
       ],
       "scored": true,
       "setup": "",
       "teardown": "",
       "type": "doctest"
      }
     ]
    }
   }
  }
 },
 "nbformat": 4,
 "nbformat_minor": 5
}
